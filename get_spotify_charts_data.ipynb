{
 "cells": [
  {
   "cell_type": "code",
   "execution_count": 1,
   "metadata": {
    "ExecuteTime": {
     "end_time": "2021-01-16T15:25:20.381487Z",
     "start_time": "2021-01-16T15:25:19.964182Z"
    }
   },
   "outputs": [],
   "source": [
    "import os\n",
    "\n",
    "import numpy as np\n",
    "import pandas as pd"
   ]
  },
  {
   "cell_type": "code",
   "execution_count": 2,
   "metadata": {
    "ExecuteTime": {
     "end_time": "2021-01-16T15:36:17.032559Z",
     "start_time": "2021-01-16T15:35:48.799643Z"
    },
    "scrolled": true
   },
   "outputs": [
    {
     "name": "stdout",
     "output_type": "stream",
     "text": [
      "Enter start date in YYYY-mm-dd format:2017-01-01\n",
      "\tStart scraping from: 2017-01-01\n",
      "Enter end date in YYYY-mm-dd format:2021-01-30\n",
      "\tEnd scraping at: 2021-01-30\n",
      "Enter desired region:ph\n",
      "\tRegion: ph\n",
      "Enter output directory:data\n",
      "\tOutput directory: data\n",
      "Spotify chart scraper configured! \n"
     ]
    },
    {
     "name": "stderr",
     "output_type": "stream",
     "text": [
      "\r\n",
      "Collecting chart data from ph: 0it [00:00, ?it/s]"
     ]
    },
    {
     "name": "stdout",
     "output_type": "stream",
     "text": [
      "\n",
      "Date: 2017-01-01\n",
      "https://spotifycharts.com/regional/ph/daily/2017-01-01/download\n"
     ]
    },
    {
     "name": "stderr",
     "output_type": "stream",
     "text": [
      "\r\n",
      "Collecting chart data from ph: 1it [00:01,  1.89s/it]"
     ]
    },
    {
     "name": "stdout",
     "output_type": "stream",
     "text": [
      "\n",
      "Date: 2017-01-02\n",
      "https://spotifycharts.com/regional/ph/daily/2017-01-02/download\n"
     ]
    },
    {
     "name": "stderr",
     "output_type": "stream",
     "text": [
      "\r\n",
      "Collecting chart data from ph: 2it [00:03,  1.76s/it]"
     ]
    },
    {
     "name": "stdout",
     "output_type": "stream",
     "text": [
      "\n",
      "Date: 2017-01-03\n",
      "https://spotifycharts.com/regional/ph/daily/2017-01-03/download\n"
     ]
    },
    {
     "name": "stderr",
     "output_type": "stream",
     "text": [
      "\r\n",
      "Collecting chart data from ph: 3it [00:05,  1.82s/it]"
     ]
    },
    {
     "name": "stdout",
     "output_type": "stream",
     "text": [
      "\n",
      "Date: 2017-01-04\n",
      "https://spotifycharts.com/regional/ph/daily/2017-01-04/download\n"
     ]
    },
    {
     "name": "stderr",
     "output_type": "stream",
     "text": [
      "\r\n",
      "Collecting chart data from ph: 4it [00:06,  1.71s/it]"
     ]
    },
    {
     "name": "stdout",
     "output_type": "stream",
     "text": [
      "\n",
      "Date: 2017-01-05\n",
      "https://spotifycharts.com/regional/ph/daily/2017-01-05/download\n"
     ]
    },
    {
     "name": "stderr",
     "output_type": "stream",
     "text": [
      "\r\n",
      "Collecting chart data from ph: 5it [00:08,  1.71s/it]"
     ]
    },
    {
     "name": "stdout",
     "output_type": "stream",
     "text": [
      "\n",
      "Date: 2017-01-06\n",
      "https://spotifycharts.com/regional/ph/daily/2017-01-06/download\n"
     ]
    },
    {
     "name": "stderr",
     "output_type": "stream",
     "text": [
      "\r\n",
      "Collecting chart data from ph: 6it [00:10,  1.68s/it]"
     ]
    },
    {
     "name": "stdout",
     "output_type": "stream",
     "text": [
      "\n",
      "Date: 2017-01-07\n",
      "https://spotifycharts.com/regional/ph/daily/2017-01-07/download\n"
     ]
    },
    {
     "name": "stderr",
     "output_type": "stream",
     "text": [
      "\r\n",
      "Collecting chart data from ph: 7it [00:12,  1.74s/it]"
     ]
    },
    {
     "name": "stdout",
     "output_type": "stream",
     "text": [
      "\n",
      "Date: 2017-01-08\n",
      "https://spotifycharts.com/regional/ph/daily/2017-01-08/download\n"
     ]
    },
    {
     "name": "stderr",
     "output_type": "stream",
     "text": [
      "\r\n",
      "Collecting chart data from ph: 8it [00:14,  1.77s/it]"
     ]
    },
    {
     "name": "stdout",
     "output_type": "stream",
     "text": [
      "\n",
      "Date: 2017-01-09\n",
      "https://spotifycharts.com/regional/ph/daily/2017-01-09/download\n"
     ]
    },
    {
     "name": "stderr",
     "output_type": "stream",
     "text": [
      "\r\n",
      "Collecting chart data from ph: 9it [00:15,  1.73s/it]"
     ]
    },
    {
     "name": "stdout",
     "output_type": "stream",
     "text": [
      "\n",
      "Date: 2017-01-10\n",
      "https://spotifycharts.com/regional/ph/daily/2017-01-10/download\n"
     ]
    },
    {
     "name": "stderr",
     "output_type": "stream",
     "text": [
      "\r\n",
      "Collecting chart data from ph: 10it [00:17,  1.71s/it]"
     ]
    },
    {
     "name": "stdout",
     "output_type": "stream",
     "text": [
      "\n",
      "Date: 2017-01-11\n",
      "https://spotifycharts.com/regional/ph/daily/2017-01-11/download\n"
     ]
    },
    {
     "name": "stderr",
     "output_type": "stream",
     "text": [
      "\r\n",
      "Collecting chart data from ph: 11it [00:19,  1.76s/it]"
     ]
    },
    {
     "name": "stdout",
     "output_type": "stream",
     "text": [
      "\n",
      "Date: 2017-01-12\n",
      "https://spotifycharts.com/regional/ph/daily/2017-01-12/download\n"
     ]
    },
    {
     "name": "stderr",
     "output_type": "stream",
     "text": [
      "\r\n",
      "Collecting chart data from ph: 12it [00:20,  1.74s/it]"
     ]
    },
    {
     "name": "stdout",
     "output_type": "stream",
     "text": [
      "\n",
      "Date: 2017-01-13\n",
      "https://spotifycharts.com/regional/ph/daily/2017-01-13/download\n"
     ]
    },
    {
     "name": "stderr",
     "output_type": "stream",
     "text": [
      "\r\n",
      "Collecting chart data from ph: 13it [00:22,  1.56s/it]"
     ]
    },
    {
     "name": "stdout",
     "output_type": "stream",
     "text": [
      "\n",
      "Date: 2017-01-14\n",
      "https://spotifycharts.com/regional/ph/daily/2017-01-14/download\n"
     ]
    },
    {
     "name": "stderr",
     "output_type": "stream",
     "text": [
      "\r\n",
      "Collecting chart data from ph: 14it [00:23,  1.57s/it]"
     ]
    },
    {
     "name": "stdout",
     "output_type": "stream",
     "text": [
      "\n",
      "Date: 2017-01-15\n",
      "https://spotifycharts.com/regional/ph/daily/2017-01-15/download\n"
     ]
    },
    {
     "name": "stderr",
     "output_type": "stream",
     "text": [
      "\r\n",
      "Collecting chart data from ph: 15it [00:25,  1.60s/it]"
     ]
    },
    {
     "name": "stdout",
     "output_type": "stream",
     "text": [
      "\n",
      "Date: 2017-01-16\n",
      "https://spotifycharts.com/regional/ph/daily/2017-01-16/download\n"
     ]
    },
    {
     "name": "stderr",
     "output_type": "stream",
     "text": [
      "\r\n",
      "Collecting chart data from ph: 16it [00:26,  1.62s/it]"
     ]
    },
    {
     "name": "stdout",
     "output_type": "stream",
     "text": [
      "\n",
      "Date: 2017-01-17\n",
      "https://spotifycharts.com/regional/ph/daily/2017-01-17/download\n"
     ]
    },
    {
     "name": "stderr",
     "output_type": "stream",
     "text": [
      "\r\n",
      "Collecting chart data from ph: 17it [00:28,  1.61s/it]"
     ]
    },
    {
     "name": "stdout",
     "output_type": "stream",
     "text": [
      "\n",
      "Date: 2017-01-18\n",
      "https://spotifycharts.com/regional/ph/daily/2017-01-18/download\n"
     ]
    },
    {
     "name": "stderr",
     "output_type": "stream",
     "text": [
      "\r\n",
      "Collecting chart data from ph: 18it [00:30,  1.75s/it]"
     ]
    },
    {
     "name": "stdout",
     "output_type": "stream",
     "text": [
      "\n",
      "Date: 2017-01-19\n",
      "https://spotifycharts.com/regional/ph/daily/2017-01-19/download\n"
     ]
    },
    {
     "name": "stderr",
     "output_type": "stream",
     "text": [
      "\r\n",
      "Collecting chart data from ph: 19it [00:32,  1.77s/it]"
     ]
    },
    {
     "name": "stdout",
     "output_type": "stream",
     "text": [
      "\n",
      "Date: 2017-01-20\n",
      "https://spotifycharts.com/regional/ph/daily/2017-01-20/download\n"
     ]
    },
    {
     "name": "stderr",
     "output_type": "stream",
     "text": [
      "\r\n",
      "Collecting chart data from ph: 20it [00:34,  1.77s/it]"
     ]
    },
    {
     "name": "stdout",
     "output_type": "stream",
     "text": [
      "\n",
      "Date: 2017-01-21\n",
      "https://spotifycharts.com/regional/ph/daily/2017-01-21/download\n"
     ]
    },
    {
     "name": "stderr",
     "output_type": "stream",
     "text": [
      "\r\n",
      "Collecting chart data from ph: 21it [00:35,  1.72s/it]"
     ]
    },
    {
     "name": "stdout",
     "output_type": "stream",
     "text": [
      "\n",
      "Date: 2017-01-22\n",
      "https://spotifycharts.com/regional/ph/daily/2017-01-22/download\n"
     ]
    },
    {
     "name": "stderr",
     "output_type": "stream",
     "text": [
      "\r\n",
      "Collecting chart data from ph: 22it [00:37,  1.79s/it]"
     ]
    },
    {
     "name": "stdout",
     "output_type": "stream",
     "text": [
      "\n",
      "Date: 2017-01-23\n",
      "https://spotifycharts.com/regional/ph/daily/2017-01-23/download\n"
     ]
    },
    {
     "name": "stderr",
     "output_type": "stream",
     "text": [
      "\r\n",
      "Collecting chart data from ph: 23it [00:39,  1.76s/it]"
     ]
    },
    {
     "name": "stdout",
     "output_type": "stream",
     "text": [
      "\n",
      "Date: 2017-01-24\n",
      "https://spotifycharts.com/regional/ph/daily/2017-01-24/download\n"
     ]
    },
    {
     "name": "stderr",
     "output_type": "stream",
     "text": [
      "\r\n",
      "Collecting chart data from ph: 24it [00:41,  1.74s/it]"
     ]
    },
    {
     "name": "stdout",
     "output_type": "stream",
     "text": [
      "\n",
      "Date: 2017-01-25\n",
      "https://spotifycharts.com/regional/ph/daily/2017-01-25/download\n"
     ]
    },
    {
     "name": "stderr",
     "output_type": "stream",
     "text": [
      "\r\n",
      "Collecting chart data from ph: 25it [00:43,  1.81s/it]"
     ]
    },
    {
     "name": "stdout",
     "output_type": "stream",
     "text": [
      "\n",
      "Date: 2017-01-26\n",
      "https://spotifycharts.com/regional/ph/daily/2017-01-26/download\n"
     ]
    },
    {
     "name": "stderr",
     "output_type": "stream",
     "text": [
      "\r\n",
      "Collecting chart data from ph: 26it [00:44,  1.73s/it]"
     ]
    },
    {
     "name": "stdout",
     "output_type": "stream",
     "text": [
      "\n",
      "Date: 2017-01-27\n",
      "https://spotifycharts.com/regional/ph/daily/2017-01-27/download\n"
     ]
    },
    {
     "name": "stderr",
     "output_type": "stream",
     "text": [
      "\r\n",
      "Collecting chart data from ph: 27it [00:46,  1.72s/it]"
     ]
    },
    {
     "name": "stdout",
     "output_type": "stream",
     "text": [
      "\n",
      "Date: 2017-01-28\n",
      "https://spotifycharts.com/regional/ph/daily/2017-01-28/download\n"
     ]
    },
    {
     "name": "stderr",
     "output_type": "stream",
     "text": [
      "\r\n",
      "Collecting chart data from ph: 28it [00:48,  1.72s/it]"
     ]
    },
    {
     "name": "stdout",
     "output_type": "stream",
     "text": [
      "\n",
      "Date: 2017-01-29\n",
      "https://spotifycharts.com/regional/ph/daily/2017-01-29/download\n"
     ]
    },
    {
     "name": "stderr",
     "output_type": "stream",
     "text": [
      "\r\n",
      "Collecting chart data from ph: 29it [00:49,  1.70s/it]"
     ]
    },
    {
     "name": "stdout",
     "output_type": "stream",
     "text": [
      "\n",
      "Date: 2017-01-30\n",
      "https://spotifycharts.com/regional/ph/daily/2017-01-30/download\n"
     ]
    },
    {
     "name": "stderr",
     "output_type": "stream",
     "text": [
      "\r\n",
      "Collecting chart data from ph: 30it [00:51,  1.79s/it]"
     ]
    },
    {
     "name": "stdout",
     "output_type": "stream",
     "text": [
      "\n",
      "Date: 2017-01-31\n",
      "https://spotifycharts.com/regional/ph/daily/2017-01-31/download\n"
     ]
    },
    {
     "name": "stderr",
     "output_type": "stream",
     "text": [
      "\r\n",
      "Collecting chart data from ph: 31it [00:52,  1.57s/it]"
     ]
    },
    {
     "name": "stdout",
     "output_type": "stream",
     "text": [
      "\n",
      "Date: 2017-02-01\n",
      "https://spotifycharts.com/regional/ph/daily/2017-02-01/download\n"
     ]
    },
    {
     "name": "stderr",
     "output_type": "stream",
     "text": [
      "\r\n",
      "Collecting chart data from ph: 32it [00:54,  1.62s/it]"
     ]
    },
    {
     "name": "stdout",
     "output_type": "stream",
     "text": [
      "\n",
      "Date: 2017-02-02\n",
      "https://spotifycharts.com/regional/ph/daily/2017-02-02/download\n"
     ]
    },
    {
     "name": "stderr",
     "output_type": "stream",
     "text": [
      "\r\n",
      "Collecting chart data from ph: 33it [00:56,  1.61s/it]"
     ]
    },
    {
     "name": "stdout",
     "output_type": "stream",
     "text": [
      "\n",
      "Date: 2017-02-03\n",
      "https://spotifycharts.com/regional/ph/daily/2017-02-03/download\n"
     ]
    },
    {
     "name": "stderr",
     "output_type": "stream",
     "text": [
      "\r\n",
      "Collecting chart data from ph: 34it [00:57,  1.44s/it]"
     ]
    },
    {
     "name": "stdout",
     "output_type": "stream",
     "text": [
      "\n",
      "Date: 2017-02-04\n",
      "https://spotifycharts.com/regional/ph/daily/2017-02-04/download\n"
     ]
    },
    {
     "name": "stderr",
     "output_type": "stream",
     "text": [
      "\r\n",
      "Collecting chart data from ph: 35it [00:58,  1.52s/it]"
     ]
    },
    {
     "name": "stdout",
     "output_type": "stream",
     "text": [
      "\n",
      "Date: 2017-02-05\n",
      "https://spotifycharts.com/regional/ph/daily/2017-02-05/download\n"
     ]
    },
    {
     "name": "stderr",
     "output_type": "stream",
     "text": [
      "\r\n",
      "Collecting chart data from ph: 36it [01:00,  1.45s/it]"
     ]
    },
    {
     "name": "stdout",
     "output_type": "stream",
     "text": [
      "\n",
      "Date: 2017-02-06\n",
      "https://spotifycharts.com/regional/ph/daily/2017-02-06/download\n"
     ]
    },
    {
     "name": "stderr",
     "output_type": "stream",
     "text": [
      "\r\n",
      "Collecting chart data from ph: 37it [01:01,  1.50s/it]"
     ]
    },
    {
     "name": "stdout",
     "output_type": "stream",
     "text": [
      "\n",
      "Date: 2017-02-07\n",
      "https://spotifycharts.com/regional/ph/daily/2017-02-07/download\n"
     ]
    },
    {
     "name": "stderr",
     "output_type": "stream",
     "text": [
      "\r\n",
      "Collecting chart data from ph: 38it [01:03,  1.55s/it]"
     ]
    },
    {
     "name": "stdout",
     "output_type": "stream",
     "text": [
      "\n",
      "Date: 2017-02-08\n",
      "https://spotifycharts.com/regional/ph/daily/2017-02-08/download\n"
     ]
    },
    {
     "name": "stderr",
     "output_type": "stream",
     "text": [
      "\r\n",
      "Collecting chart data from ph: 39it [01:05,  1.60s/it]"
     ]
    },
    {
     "name": "stdout",
     "output_type": "stream",
     "text": [
      "\n",
      "Date: 2017-02-09\n",
      "https://spotifycharts.com/regional/ph/daily/2017-02-09/download\n"
     ]
    },
    {
     "name": "stderr",
     "output_type": "stream",
     "text": [
      "\r\n",
      "Collecting chart data from ph: 40it [01:06,  1.66s/it]"
     ]
    },
    {
     "name": "stdout",
     "output_type": "stream",
     "text": [
      "\n",
      "Date: 2017-02-10\n",
      "https://spotifycharts.com/regional/ph/daily/2017-02-10/download\n"
     ]
    },
    {
     "name": "stderr",
     "output_type": "stream",
     "text": [
      "\r\n",
      "Collecting chart data from ph: 41it [01:08,  1.55s/it]"
     ]
    },
    {
     "name": "stdout",
     "output_type": "stream",
     "text": [
      "\n",
      "Date: 2017-02-11\n",
      "https://spotifycharts.com/regional/ph/daily/2017-02-11/download\n"
     ]
    },
    {
     "name": "stderr",
     "output_type": "stream",
     "text": [
      "\r\n",
      "Collecting chart data from ph: 42it [01:10,  1.62s/it]"
     ]
    },
    {
     "name": "stdout",
     "output_type": "stream",
     "text": [
      "\n",
      "Date: 2017-02-12\n",
      "https://spotifycharts.com/regional/ph/daily/2017-02-12/download\n"
     ]
    },
    {
     "name": "stderr",
     "output_type": "stream",
     "text": [
      "\r\n",
      "Collecting chart data from ph: 43it [01:11,  1.68s/it]"
     ]
    },
    {
     "name": "stdout",
     "output_type": "stream",
     "text": [
      "\n",
      "Date: 2017-02-13\n",
      "https://spotifycharts.com/regional/ph/daily/2017-02-13/download\n"
     ]
    },
    {
     "name": "stderr",
     "output_type": "stream",
     "text": [
      "\r\n",
      "Collecting chart data from ph: 44it [01:13,  1.70s/it]"
     ]
    },
    {
     "name": "stdout",
     "output_type": "stream",
     "text": [
      "\n",
      "Date: 2017-02-14\n",
      "https://spotifycharts.com/regional/ph/daily/2017-02-14/download\n"
     ]
    },
    {
     "name": "stderr",
     "output_type": "stream",
     "text": [
      "\r\n",
      "Collecting chart data from ph: 45it [01:15,  1.66s/it]"
     ]
    },
    {
     "name": "stdout",
     "output_type": "stream",
     "text": [
      "\n",
      "Date: 2017-02-15\n",
      "https://spotifycharts.com/regional/ph/daily/2017-02-15/download\n"
     ]
    },
    {
     "name": "stderr",
     "output_type": "stream",
     "text": [
      "\r\n",
      "Collecting chart data from ph: 46it [01:16,  1.52s/it]"
     ]
    },
    {
     "name": "stdout",
     "output_type": "stream",
     "text": [
      "\n",
      "Date: 2017-02-16\n",
      "https://spotifycharts.com/regional/ph/daily/2017-02-16/download\n"
     ]
    },
    {
     "name": "stderr",
     "output_type": "stream",
     "text": [
      "\r\n",
      "Collecting chart data from ph: 47it [01:18,  1.62s/it]"
     ]
    },
    {
     "name": "stdout",
     "output_type": "stream",
     "text": [
      "\n",
      "Date: 2017-02-17\n",
      "https://spotifycharts.com/regional/ph/daily/2017-02-17/download\n"
     ]
    },
    {
     "name": "stderr",
     "output_type": "stream",
     "text": [
      "\r\n",
      "Collecting chart data from ph: 48it [01:19,  1.62s/it]"
     ]
    },
    {
     "name": "stdout",
     "output_type": "stream",
     "text": [
      "\n",
      "Date: 2017-02-18\n",
      "https://spotifycharts.com/regional/ph/daily/2017-02-18/download\n"
     ]
    },
    {
     "name": "stderr",
     "output_type": "stream",
     "text": [
      "\r\n",
      "Collecting chart data from ph: 49it [01:21,  1.65s/it]"
     ]
    },
    {
     "name": "stdout",
     "output_type": "stream",
     "text": [
      "\n",
      "Date: 2017-02-19\n",
      "https://spotifycharts.com/regional/ph/daily/2017-02-19/download\n"
     ]
    },
    {
     "name": "stderr",
     "output_type": "stream",
     "text": [
      "\r\n",
      "Collecting chart data from ph: 50it [01:22,  1.50s/it]"
     ]
    },
    {
     "name": "stdout",
     "output_type": "stream",
     "text": [
      "\n",
      "Date: 2017-02-20\n",
      "https://spotifycharts.com/regional/ph/daily/2017-02-20/download\n"
     ]
    },
    {
     "name": "stderr",
     "output_type": "stream",
     "text": [
      "\r\n",
      "Collecting chart data from ph: 51it [01:24,  1.57s/it]"
     ]
    },
    {
     "name": "stdout",
     "output_type": "stream",
     "text": [
      "\n",
      "Date: 2017-02-21\n",
      "https://spotifycharts.com/regional/ph/daily/2017-02-21/download\n"
     ]
    },
    {
     "name": "stderr",
     "output_type": "stream",
     "text": [
      "\r\n",
      "Collecting chart data from ph: 52it [01:27,  1.88s/it]"
     ]
    },
    {
     "name": "stdout",
     "output_type": "stream",
     "text": [
      "\n",
      "Date: 2017-02-22\n",
      "https://spotifycharts.com/regional/ph/daily/2017-02-22/download\n"
     ]
    },
    {
     "name": "stderr",
     "output_type": "stream",
     "text": [
      "\r\n",
      "Collecting chart data from ph: 53it [01:28,  1.80s/it]"
     ]
    },
    {
     "name": "stdout",
     "output_type": "stream",
     "text": [
      "\n",
      "Date: 2017-02-23\n",
      "https://spotifycharts.com/regional/ph/daily/2017-02-23/download\n"
     ]
    },
    {
     "name": "stderr",
     "output_type": "stream",
     "text": [
      "\r\n",
      "Collecting chart data from ph: 54it [01:30,  1.73s/it]"
     ]
    },
    {
     "name": "stdout",
     "output_type": "stream",
     "text": [
      "\n",
      "Date: 2017-02-24\n",
      "https://spotifycharts.com/regional/ph/daily/2017-02-24/download\n"
     ]
    },
    {
     "name": "stderr",
     "output_type": "stream",
     "text": [
      "\r\n",
      "Collecting chart data from ph: 55it [01:32,  1.76s/it]"
     ]
    },
    {
     "name": "stdout",
     "output_type": "stream",
     "text": [
      "\n",
      "Date: 2017-02-25\n",
      "https://spotifycharts.com/regional/ph/daily/2017-02-25/download\n"
     ]
    },
    {
     "name": "stderr",
     "output_type": "stream",
     "text": [
      "\r\n",
      "Collecting chart data from ph: 56it [01:33,  1.75s/it]"
     ]
    },
    {
     "name": "stdout",
     "output_type": "stream",
     "text": [
      "\n",
      "Date: 2017-02-26\n",
      "https://spotifycharts.com/regional/ph/daily/2017-02-26/download\n"
     ]
    },
    {
     "name": "stderr",
     "output_type": "stream",
     "text": [
      "\r\n",
      "Collecting chart data from ph: 57it [01:35,  1.72s/it]"
     ]
    },
    {
     "name": "stdout",
     "output_type": "stream",
     "text": [
      "\n",
      "Date: 2017-02-27\n",
      "https://spotifycharts.com/regional/ph/daily/2017-02-27/download\n"
     ]
    },
    {
     "name": "stderr",
     "output_type": "stream",
     "text": [
      "\r\n",
      "Collecting chart data from ph: 58it [01:37,  1.72s/it]"
     ]
    },
    {
     "name": "stdout",
     "output_type": "stream",
     "text": [
      "\n",
      "Date: 2017-02-28\n",
      "https://spotifycharts.com/regional/ph/daily/2017-02-28/download\n"
     ]
    },
    {
     "name": "stderr",
     "output_type": "stream",
     "text": [
      "\r\n",
      "Collecting chart data from ph: 59it [01:39,  1.89s/it]"
     ]
    },
    {
     "name": "stdout",
     "output_type": "stream",
     "text": [
      "\n",
      "Date: 2017-03-01\n",
      "https://spotifycharts.com/regional/ph/daily/2017-03-01/download\n"
     ]
    },
    {
     "name": "stderr",
     "output_type": "stream",
     "text": [
      "\r\n",
      "Collecting chart data from ph: 60it [01:41,  1.82s/it]"
     ]
    },
    {
     "name": "stdout",
     "output_type": "stream",
     "text": [
      "\n",
      "Date: 2017-03-02\n",
      "https://spotifycharts.com/regional/ph/daily/2017-03-02/download\n"
     ]
    },
    {
     "name": "stderr",
     "output_type": "stream",
     "text": [
      "\r\n",
      "Collecting chart data from ph: 61it [01:42,  1.76s/it]"
     ]
    },
    {
     "name": "stdout",
     "output_type": "stream",
     "text": [
      "\n",
      "Date: 2017-03-03\n",
      "https://spotifycharts.com/regional/ph/daily/2017-03-03/download\n"
     ]
    },
    {
     "name": "stderr",
     "output_type": "stream",
     "text": [
      "\r\n",
      "Collecting chart data from ph: 62it [01:43,  1.59s/it]"
     ]
    },
    {
     "name": "stdout",
     "output_type": "stream",
     "text": [
      "\n",
      "Date: 2017-03-04\n",
      "https://spotifycharts.com/regional/ph/daily/2017-03-04/download\n"
     ]
    },
    {
     "name": "stderr",
     "output_type": "stream",
     "text": [
      "\r\n",
      "Collecting chart data from ph: 63it [01:45,  1.57s/it]"
     ]
    },
    {
     "name": "stdout",
     "output_type": "stream",
     "text": [
      "\n",
      "Date: 2017-03-05\n",
      "https://spotifycharts.com/regional/ph/daily/2017-03-05/download\n"
     ]
    },
    {
     "name": "stderr",
     "output_type": "stream",
     "text": [
      "\r\n",
      "Collecting chart data from ph: 64it [01:47,  1.58s/it]"
     ]
    },
    {
     "name": "stdout",
     "output_type": "stream",
     "text": [
      "\n",
      "Date: 2017-03-06\n",
      "https://spotifycharts.com/regional/ph/daily/2017-03-06/download\n"
     ]
    },
    {
     "name": "stderr",
     "output_type": "stream",
     "text": [
      "\r\n",
      "Collecting chart data from ph: 65it [01:48,  1.61s/it]"
     ]
    },
    {
     "name": "stdout",
     "output_type": "stream",
     "text": [
      "\n",
      "Date: 2017-03-07\n",
      "https://spotifycharts.com/regional/ph/daily/2017-03-07/download\n"
     ]
    },
    {
     "name": "stderr",
     "output_type": "stream",
     "text": [
      "\r\n",
      "Collecting chart data from ph: 66it [01:50,  1.60s/it]"
     ]
    },
    {
     "name": "stdout",
     "output_type": "stream",
     "text": [
      "\n",
      "Date: 2017-03-08\n",
      "https://spotifycharts.com/regional/ph/daily/2017-03-08/download\n"
     ]
    },
    {
     "name": "stderr",
     "output_type": "stream",
     "text": [
      "\r\n",
      "Collecting chart data from ph: 67it [01:51,  1.61s/it]"
     ]
    },
    {
     "name": "stdout",
     "output_type": "stream",
     "text": [
      "\n",
      "Date: 2017-03-09\n",
      "https://spotifycharts.com/regional/ph/daily/2017-03-09/download\n"
     ]
    },
    {
     "name": "stderr",
     "output_type": "stream",
     "text": [
      "\r\n",
      "Collecting chart data from ph: 68it [01:53,  1.62s/it]"
     ]
    },
    {
     "name": "stdout",
     "output_type": "stream",
     "text": [
      "\n",
      "Date: 2017-03-10\n",
      "https://spotifycharts.com/regional/ph/daily/2017-03-10/download\n"
     ]
    },
    {
     "name": "stderr",
     "output_type": "stream",
     "text": [
      "\r\n",
      "Collecting chart data from ph: 69it [01:55,  1.63s/it]"
     ]
    },
    {
     "name": "stdout",
     "output_type": "stream",
     "text": [
      "\n",
      "Date: 2017-03-11\n",
      "https://spotifycharts.com/regional/ph/daily/2017-03-11/download\n"
     ]
    },
    {
     "name": "stderr",
     "output_type": "stream",
     "text": [
      "\r\n",
      "Collecting chart data from ph: 70it [01:56,  1.67s/it]"
     ]
    },
    {
     "name": "stdout",
     "output_type": "stream",
     "text": [
      "\n",
      "Date: 2017-03-12\n",
      "https://spotifycharts.com/regional/ph/daily/2017-03-12/download\n"
     ]
    },
    {
     "name": "stderr",
     "output_type": "stream",
     "text": [
      "\r\n",
      "Collecting chart data from ph: 71it [01:58,  1.68s/it]"
     ]
    },
    {
     "name": "stdout",
     "output_type": "stream",
     "text": [
      "\n",
      "Date: 2017-03-13\n",
      "https://spotifycharts.com/regional/ph/daily/2017-03-13/download\n"
     ]
    },
    {
     "name": "stderr",
     "output_type": "stream",
     "text": [
      "\r\n",
      "Collecting chart data from ph: 72it [02:00,  1.68s/it]"
     ]
    },
    {
     "name": "stdout",
     "output_type": "stream",
     "text": [
      "\n",
      "Date: 2017-03-14\n",
      "https://spotifycharts.com/regional/ph/daily/2017-03-14/download\n"
     ]
    },
    {
     "name": "stderr",
     "output_type": "stream",
     "text": [
      "\r\n",
      "Collecting chart data from ph: 73it [02:02,  1.71s/it]"
     ]
    },
    {
     "name": "stdout",
     "output_type": "stream",
     "text": [
      "\n",
      "Date: 2017-03-15\n",
      "https://spotifycharts.com/regional/ph/daily/2017-03-15/download\n"
     ]
    },
    {
     "name": "stderr",
     "output_type": "stream",
     "text": [
      "\r\n",
      "Collecting chart data from ph: 74it [02:03,  1.68s/it]"
     ]
    },
    {
     "name": "stdout",
     "output_type": "stream",
     "text": [
      "\n",
      "Date: 2017-03-16\n",
      "https://spotifycharts.com/regional/ph/daily/2017-03-16/download\n"
     ]
    },
    {
     "name": "stderr",
     "output_type": "stream",
     "text": [
      "\r\n",
      "Collecting chart data from ph: 75it [02:05,  1.64s/it]"
     ]
    },
    {
     "name": "stdout",
     "output_type": "stream",
     "text": [
      "\n",
      "Date: 2017-03-17\n",
      "https://spotifycharts.com/regional/ph/daily/2017-03-17/download\n"
     ]
    },
    {
     "name": "stderr",
     "output_type": "stream",
     "text": [
      "\r\n",
      "Collecting chart data from ph: 76it [02:06,  1.64s/it]"
     ]
    },
    {
     "name": "stdout",
     "output_type": "stream",
     "text": [
      "\n",
      "Date: 2017-03-18\n",
      "https://spotifycharts.com/regional/ph/daily/2017-03-18/download\n"
     ]
    },
    {
     "name": "stderr",
     "output_type": "stream",
     "text": [
      "\r\n",
      "Collecting chart data from ph: 77it [02:08,  1.66s/it]"
     ]
    },
    {
     "name": "stdout",
     "output_type": "stream",
     "text": [
      "\n",
      "Date: 2017-03-19\n",
      "https://spotifycharts.com/regional/ph/daily/2017-03-19/download\n"
     ]
    },
    {
     "name": "stderr",
     "output_type": "stream",
     "text": [
      "\r\n",
      "Collecting chart data from ph: 78it [02:09,  1.53s/it]"
     ]
    },
    {
     "name": "stdout",
     "output_type": "stream",
     "text": [
      "\n",
      "Date: 2017-03-20\n",
      "https://spotifycharts.com/regional/ph/daily/2017-03-20/download\n"
     ]
    },
    {
     "name": "stderr",
     "output_type": "stream",
     "text": [
      "\r\n",
      "Collecting chart data from ph: 79it [02:11,  1.57s/it]"
     ]
    },
    {
     "name": "stdout",
     "output_type": "stream",
     "text": [
      "\n",
      "Date: 2017-03-21\n",
      "https://spotifycharts.com/regional/ph/daily/2017-03-21/download\n"
     ]
    },
    {
     "name": "stderr",
     "output_type": "stream",
     "text": [
      "\r\n",
      "Collecting chart data from ph: 80it [02:14,  1.84s/it]"
     ]
    },
    {
     "name": "stdout",
     "output_type": "stream",
     "text": [
      "\n",
      "Date: 2017-03-22\n",
      "https://spotifycharts.com/regional/ph/daily/2017-03-22/download\n"
     ]
    },
    {
     "name": "stderr",
     "output_type": "stream",
     "text": [
      "\r\n",
      "Collecting chart data from ph: 81it [02:15,  1.60s/it]"
     ]
    },
    {
     "name": "stdout",
     "output_type": "stream",
     "text": [
      "\n",
      "Date: 2017-03-23\n",
      "https://spotifycharts.com/regional/ph/daily/2017-03-23/download\n"
     ]
    },
    {
     "name": "stderr",
     "output_type": "stream",
     "text": [
      "\r\n",
      "Collecting chart data from ph: 82it [02:16,  1.61s/it]"
     ]
    },
    {
     "name": "stdout",
     "output_type": "stream",
     "text": [
      "\n",
      "Date: 2017-03-24\n",
      "https://spotifycharts.com/regional/ph/daily/2017-03-24/download\n"
     ]
    },
    {
     "name": "stderr",
     "output_type": "stream",
     "text": [
      "\r\n",
      "Collecting chart data from ph: 83it [02:18,  1.63s/it]"
     ]
    },
    {
     "name": "stdout",
     "output_type": "stream",
     "text": [
      "\n",
      "Date: 2017-03-25\n",
      "https://spotifycharts.com/regional/ph/daily/2017-03-25/download\n"
     ]
    },
    {
     "name": "stderr",
     "output_type": "stream",
     "text": [
      "\r\n",
      "Collecting chart data from ph: 84it [02:20,  1.67s/it]"
     ]
    },
    {
     "name": "stdout",
     "output_type": "stream",
     "text": [
      "\n",
      "Date: 2017-03-26\n",
      "https://spotifycharts.com/regional/ph/daily/2017-03-26/download\n"
     ]
    },
    {
     "name": "stderr",
     "output_type": "stream",
     "text": [
      "\r\n",
      "Collecting chart data from ph: 85it [02:21,  1.67s/it]"
     ]
    },
    {
     "name": "stdout",
     "output_type": "stream",
     "text": [
      "\n",
      "Date: 2017-03-27\n",
      "https://spotifycharts.com/regional/ph/daily/2017-03-27/download\n"
     ]
    },
    {
     "name": "stderr",
     "output_type": "stream",
     "text": [
      "\r\n",
      "Collecting chart data from ph: 86it [02:23,  1.68s/it]"
     ]
    },
    {
     "name": "stdout",
     "output_type": "stream",
     "text": [
      "\n",
      "Date: 2017-03-28\n",
      "https://spotifycharts.com/regional/ph/daily/2017-03-28/download\n"
     ]
    },
    {
     "name": "stderr",
     "output_type": "stream",
     "text": [
      "\r\n",
      "Collecting chart data from ph: 87it [02:25,  1.66s/it]"
     ]
    },
    {
     "name": "stdout",
     "output_type": "stream",
     "text": [
      "\n",
      "Date: 2017-03-29\n",
      "https://spotifycharts.com/regional/ph/daily/2017-03-29/download\n"
     ]
    },
    {
     "name": "stderr",
     "output_type": "stream",
     "text": [
      "\r\n",
      "Collecting chart data from ph: 88it [02:26,  1.52s/it]"
     ]
    },
    {
     "name": "stdout",
     "output_type": "stream",
     "text": [
      "\n",
      "Date: 2017-03-30\n",
      "https://spotifycharts.com/regional/ph/daily/2017-03-30/download\n"
     ]
    },
    {
     "name": "stderr",
     "output_type": "stream",
     "text": [
      "\r\n",
      "Collecting chart data from ph: 89it [02:28,  1.57s/it]"
     ]
    },
    {
     "name": "stdout",
     "output_type": "stream",
     "text": [
      "\n",
      "Date: 2017-03-31\n",
      "https://spotifycharts.com/regional/ph/daily/2017-03-31/download\n"
     ]
    },
    {
     "name": "stderr",
     "output_type": "stream",
     "text": [
      "\r\n",
      "Collecting chart data from ph: 90it [02:29,  1.64s/it]"
     ]
    },
    {
     "name": "stdout",
     "output_type": "stream",
     "text": [
      "\n",
      "Date: 2017-04-01\n",
      "https://spotifycharts.com/regional/ph/daily/2017-04-01/download\n"
     ]
    },
    {
     "name": "stderr",
     "output_type": "stream",
     "text": [
      "\r\n",
      "Collecting chart data from ph: 91it [02:30,  1.48s/it]"
     ]
    },
    {
     "name": "stdout",
     "output_type": "stream",
     "text": [
      "\n",
      "Date: 2017-04-02\n",
      "https://spotifycharts.com/regional/ph/daily/2017-04-02/download\n"
     ]
    },
    {
     "name": "stderr",
     "output_type": "stream",
     "text": [
      "\r\n",
      "Collecting chart data from ph: 92it [02:32,  1.57s/it]"
     ]
    },
    {
     "name": "stdout",
     "output_type": "stream",
     "text": [
      "\n",
      "Date: 2017-04-03\n",
      "https://spotifycharts.com/regional/ph/daily/2017-04-03/download\n"
     ]
    },
    {
     "name": "stderr",
     "output_type": "stream",
     "text": [
      "\r\n",
      "Collecting chart data from ph: 93it [02:34,  1.63s/it]"
     ]
    },
    {
     "name": "stdout",
     "output_type": "stream",
     "text": [
      "\n",
      "Date: 2017-04-04\n",
      "https://spotifycharts.com/regional/ph/daily/2017-04-04/download\n"
     ]
    },
    {
     "name": "stderr",
     "output_type": "stream",
     "text": [
      "\r\n",
      "Collecting chart data from ph: 94it [02:36,  1.67s/it]"
     ]
    },
    {
     "name": "stdout",
     "output_type": "stream",
     "text": [
      "\n",
      "Date: 2017-04-05\n",
      "https://spotifycharts.com/regional/ph/daily/2017-04-05/download\n"
     ]
    },
    {
     "name": "stderr",
     "output_type": "stream",
     "text": [
      "\r\n",
      "Collecting chart data from ph: 95it [02:37,  1.67s/it]"
     ]
    },
    {
     "name": "stdout",
     "output_type": "stream",
     "text": [
      "\n",
      "Date: 2017-04-06\n",
      "https://spotifycharts.com/regional/ph/daily/2017-04-06/download\n"
     ]
    },
    {
     "name": "stderr",
     "output_type": "stream",
     "text": [
      "\r\n",
      "Collecting chart data from ph: 96it [02:39,  1.75s/it]"
     ]
    },
    {
     "name": "stdout",
     "output_type": "stream",
     "text": [
      "\n",
      "Date: 2017-04-07\n",
      "https://spotifycharts.com/regional/ph/daily/2017-04-07/download\n"
     ]
    },
    {
     "name": "stderr",
     "output_type": "stream",
     "text": [
      "\r\n",
      "Collecting chart data from ph: 97it [02:41,  1.72s/it]"
     ]
    },
    {
     "name": "stdout",
     "output_type": "stream",
     "text": [
      "\n",
      "Date: 2017-04-08\n",
      "https://spotifycharts.com/regional/ph/daily/2017-04-08/download\n"
     ]
    },
    {
     "name": "stderr",
     "output_type": "stream",
     "text": [
      "\r\n",
      "Collecting chart data from ph: 98it [02:43,  1.68s/it]"
     ]
    },
    {
     "name": "stdout",
     "output_type": "stream",
     "text": [
      "\n",
      "Date: 2017-04-09\n",
      "https://spotifycharts.com/regional/ph/daily/2017-04-09/download\n"
     ]
    },
    {
     "name": "stderr",
     "output_type": "stream",
     "text": [
      "\r\n",
      "Collecting chart data from ph: 99it [02:44,  1.72s/it]"
     ]
    },
    {
     "name": "stdout",
     "output_type": "stream",
     "text": [
      "\n",
      "Date: 2017-04-10\n",
      "https://spotifycharts.com/regional/ph/daily/2017-04-10/download\n"
     ]
    },
    {
     "name": "stderr",
     "output_type": "stream",
     "text": [
      "\r\n",
      "Collecting chart data from ph: 100it [02:46,  1.76s/it]"
     ]
    },
    {
     "name": "stdout",
     "output_type": "stream",
     "text": [
      "\n",
      "Date: 2017-04-11\n",
      "https://spotifycharts.com/regional/ph/daily/2017-04-11/download\n"
     ]
    },
    {
     "name": "stderr",
     "output_type": "stream",
     "text": [
      "\r\n",
      "Collecting chart data from ph: 101it [02:48,  1.77s/it]"
     ]
    },
    {
     "name": "stdout",
     "output_type": "stream",
     "text": [
      "\n",
      "Date: 2017-04-12\n",
      "https://spotifycharts.com/regional/ph/daily/2017-04-12/download\n"
     ]
    },
    {
     "name": "stderr",
     "output_type": "stream",
     "text": [
      "\r\n",
      "Collecting chart data from ph: 102it [02:50,  1.85s/it]"
     ]
    },
    {
     "name": "stdout",
     "output_type": "stream",
     "text": [
      "\n",
      "Date: 2017-04-13\n",
      "https://spotifycharts.com/regional/ph/daily/2017-04-13/download\n"
     ]
    },
    {
     "name": "stderr",
     "output_type": "stream",
     "text": [
      "\r\n",
      "Collecting chart data from ph: 103it [02:52,  1.80s/it]"
     ]
    },
    {
     "name": "stdout",
     "output_type": "stream",
     "text": [
      "\n",
      "Date: 2017-04-14\n",
      "https://spotifycharts.com/regional/ph/daily/2017-04-14/download\n"
     ]
    },
    {
     "name": "stderr",
     "output_type": "stream",
     "text": [
      "\r\n",
      "Collecting chart data from ph: 104it [02:53,  1.76s/it]"
     ]
    },
    {
     "name": "stdout",
     "output_type": "stream",
     "text": [
      "\n",
      "Date: 2017-04-15\n",
      "https://spotifycharts.com/regional/ph/daily/2017-04-15/download\n"
     ]
    },
    {
     "name": "stderr",
     "output_type": "stream",
     "text": [
      "\r\n",
      "Collecting chart data from ph: 105it [02:55,  1.58s/it]"
     ]
    },
    {
     "name": "stdout",
     "output_type": "stream",
     "text": [
      "\n",
      "Date: 2017-04-16\n",
      "https://spotifycharts.com/regional/ph/daily/2017-04-16/download\n"
     ]
    },
    {
     "name": "stderr",
     "output_type": "stream",
     "text": [
      "\r\n",
      "Collecting chart data from ph: 106it [02:56,  1.59s/it]"
     ]
    },
    {
     "name": "stdout",
     "output_type": "stream",
     "text": [
      "\n",
      "Date: 2017-04-17\n",
      "https://spotifycharts.com/regional/ph/daily/2017-04-17/download\n"
     ]
    },
    {
     "name": "stderr",
     "output_type": "stream",
     "text": [
      "\r\n",
      "Collecting chart data from ph: 107it [02:57,  1.50s/it]"
     ]
    },
    {
     "name": "stdout",
     "output_type": "stream",
     "text": [
      "\n",
      "Date: 2017-04-18\n",
      "https://spotifycharts.com/regional/ph/daily/2017-04-18/download\n"
     ]
    },
    {
     "name": "stderr",
     "output_type": "stream",
     "text": [
      "\r\n",
      "Collecting chart data from ph: 108it [02:59,  1.40s/it]"
     ]
    },
    {
     "name": "stdout",
     "output_type": "stream",
     "text": [
      "\n",
      "Date: 2017-04-19\n",
      "https://spotifycharts.com/regional/ph/daily/2017-04-19/download\n"
     ]
    },
    {
     "name": "stderr",
     "output_type": "stream",
     "text": [
      "\r\n",
      "Collecting chart data from ph: 109it [03:01,  1.58s/it]"
     ]
    },
    {
     "name": "stdout",
     "output_type": "stream",
     "text": [
      "\n",
      "Date: 2017-04-20\n",
      "https://spotifycharts.com/regional/ph/daily/2017-04-20/download\n"
     ]
    },
    {
     "name": "stderr",
     "output_type": "stream",
     "text": [
      "\r\n",
      "Collecting chart data from ph: 110it [03:02,  1.56s/it]"
     ]
    },
    {
     "name": "stdout",
     "output_type": "stream",
     "text": [
      "\n",
      "Date: 2017-04-21\n",
      "https://spotifycharts.com/regional/ph/daily/2017-04-21/download\n"
     ]
    },
    {
     "name": "stderr",
     "output_type": "stream",
     "text": [
      "\r\n",
      "Collecting chart data from ph: 111it [03:04,  1.51s/it]"
     ]
    },
    {
     "name": "stdout",
     "output_type": "stream",
     "text": [
      "\n",
      "Date: 2017-04-22\n",
      "https://spotifycharts.com/regional/ph/daily/2017-04-22/download\n"
     ]
    },
    {
     "name": "stderr",
     "output_type": "stream",
     "text": [
      "\r\n",
      "Collecting chart data from ph: 112it [03:05,  1.37s/it]"
     ]
    },
    {
     "name": "stdout",
     "output_type": "stream",
     "text": [
      "\n",
      "Date: 2017-04-23\n",
      "https://spotifycharts.com/regional/ph/daily/2017-04-23/download\n"
     ]
    },
    {
     "name": "stderr",
     "output_type": "stream",
     "text": [
      "\r\n",
      "Collecting chart data from ph: 113it [03:07,  1.55s/it]"
     ]
    },
    {
     "name": "stdout",
     "output_type": "stream",
     "text": [
      "\n",
      "Date: 2017-04-24\n",
      "https://spotifycharts.com/regional/ph/daily/2017-04-24/download\n"
     ]
    },
    {
     "name": "stderr",
     "output_type": "stream",
     "text": [
      "\r\n",
      "Collecting chart data from ph: 114it [03:08,  1.56s/it]"
     ]
    },
    {
     "name": "stdout",
     "output_type": "stream",
     "text": [
      "\n",
      "Date: 2017-04-25\n",
      "https://spotifycharts.com/regional/ph/daily/2017-04-25/download\n"
     ]
    },
    {
     "name": "stderr",
     "output_type": "stream",
     "text": [
      "\r\n",
      "Collecting chart data from ph: 115it [03:10,  1.62s/it]"
     ]
    },
    {
     "name": "stdout",
     "output_type": "stream",
     "text": [
      "\n",
      "Date: 2017-04-26\n",
      "https://spotifycharts.com/regional/ph/daily/2017-04-26/download\n"
     ]
    },
    {
     "name": "stderr",
     "output_type": "stream",
     "text": [
      "\r\n",
      "Collecting chart data from ph: 116it [03:12,  1.62s/it]"
     ]
    },
    {
     "name": "stdout",
     "output_type": "stream",
     "text": [
      "\n",
      "Date: 2017-04-27\n",
      "https://spotifycharts.com/regional/ph/daily/2017-04-27/download\n"
     ]
    },
    {
     "name": "stderr",
     "output_type": "stream",
     "text": [
      "\r\n",
      "Collecting chart data from ph: 117it [03:13,  1.66s/it]"
     ]
    },
    {
     "name": "stdout",
     "output_type": "stream",
     "text": [
      "\n",
      "Date: 2017-04-28\n",
      "https://spotifycharts.com/regional/ph/daily/2017-04-28/download\n"
     ]
    },
    {
     "name": "stderr",
     "output_type": "stream",
     "text": [
      "\r\n",
      "Collecting chart data from ph: 118it [03:15,  1.62s/it]"
     ]
    },
    {
     "name": "stdout",
     "output_type": "stream",
     "text": [
      "\n",
      "Date: 2017-04-29\n",
      "https://spotifycharts.com/regional/ph/daily/2017-04-29/download\n"
     ]
    },
    {
     "name": "stderr",
     "output_type": "stream",
     "text": [
      "\r\n",
      "Collecting chart data from ph: 119it [03:16,  1.64s/it]"
     ]
    },
    {
     "name": "stdout",
     "output_type": "stream",
     "text": [
      "\n",
      "Date: 2017-04-30\n",
      "https://spotifycharts.com/regional/ph/daily/2017-04-30/download\n"
     ]
    },
    {
     "name": "stderr",
     "output_type": "stream",
     "text": [
      "\r\n",
      "Collecting chart data from ph: 120it [03:18,  1.67s/it]"
     ]
    },
    {
     "name": "stdout",
     "output_type": "stream",
     "text": [
      "\n",
      "Date: 2017-05-01\n",
      "https://spotifycharts.com/regional/ph/daily/2017-05-01/download\n"
     ]
    },
    {
     "name": "stderr",
     "output_type": "stream",
     "text": [
      "\r\n",
      "Collecting chart data from ph: 121it [03:20,  1.66s/it]"
     ]
    },
    {
     "name": "stdout",
     "output_type": "stream",
     "text": [
      "\n",
      "Date: 2017-05-02\n",
      "https://spotifycharts.com/regional/ph/daily/2017-05-02/download\n"
     ]
    },
    {
     "name": "stderr",
     "output_type": "stream",
     "text": [
      "\r\n",
      "Collecting chart data from ph: 122it [03:21,  1.65s/it]"
     ]
    },
    {
     "name": "stdout",
     "output_type": "stream",
     "text": [
      "\n",
      "Date: 2017-05-03\n",
      "https://spotifycharts.com/regional/ph/daily/2017-05-03/download\n"
     ]
    },
    {
     "name": "stderr",
     "output_type": "stream",
     "text": [
      "\r\n",
      "Collecting chart data from ph: 123it [03:23,  1.50s/it]"
     ]
    },
    {
     "name": "stdout",
     "output_type": "stream",
     "text": [
      "\n",
      "Date: 2017-05-04\n",
      "https://spotifycharts.com/regional/ph/daily/2017-05-04/download\n"
     ]
    },
    {
     "name": "stderr",
     "output_type": "stream",
     "text": [
      "\r\n",
      "Collecting chart data from ph: 124it [03:25,  1.62s/it]"
     ]
    },
    {
     "name": "stdout",
     "output_type": "stream",
     "text": [
      "\n",
      "Date: 2017-05-05\n",
      "https://spotifycharts.com/regional/ph/daily/2017-05-05/download\n"
     ]
    },
    {
     "name": "stderr",
     "output_type": "stream",
     "text": [
      "\r\n",
      "Collecting chart data from ph: 125it [03:26,  1.60s/it]"
     ]
    },
    {
     "name": "stdout",
     "output_type": "stream",
     "text": [
      "\n",
      "Date: 2017-05-06\n",
      "https://spotifycharts.com/regional/ph/daily/2017-05-06/download\n"
     ]
    },
    {
     "name": "stderr",
     "output_type": "stream",
     "text": [
      "\r\n",
      "Collecting chart data from ph: 126it [03:28,  1.57s/it]"
     ]
    },
    {
     "name": "stdout",
     "output_type": "stream",
     "text": [
      "\n",
      "Date: 2017-05-07\n",
      "https://spotifycharts.com/regional/ph/daily/2017-05-07/download\n"
     ]
    },
    {
     "name": "stderr",
     "output_type": "stream",
     "text": [
      "\r\n",
      "Collecting chart data from ph: 127it [03:29,  1.63s/it]"
     ]
    },
    {
     "name": "stdout",
     "output_type": "stream",
     "text": [
      "\n",
      "Date: 2017-05-08\n",
      "https://spotifycharts.com/regional/ph/daily/2017-05-08/download\n"
     ]
    },
    {
     "name": "stderr",
     "output_type": "stream",
     "text": [
      "\r\n",
      "Collecting chart data from ph: 128it [03:31,  1.72s/it]"
     ]
    },
    {
     "name": "stdout",
     "output_type": "stream",
     "text": [
      "\n",
      "Date: 2017-05-09\n",
      "https://spotifycharts.com/regional/ph/daily/2017-05-09/download\n"
     ]
    },
    {
     "name": "stderr",
     "output_type": "stream",
     "text": [
      "\r\n",
      "Collecting chart data from ph: 129it [03:33,  1.69s/it]"
     ]
    },
    {
     "name": "stdout",
     "output_type": "stream",
     "text": [
      "\n",
      "Date: 2017-05-10\n",
      "https://spotifycharts.com/regional/ph/daily/2017-05-10/download\n"
     ]
    },
    {
     "name": "stderr",
     "output_type": "stream",
     "text": [
      "\r\n",
      "Collecting chart data from ph: 130it [03:35,  1.73s/it]"
     ]
    },
    {
     "name": "stdout",
     "output_type": "stream",
     "text": [
      "\n",
      "Date: 2017-05-11\n",
      "https://spotifycharts.com/regional/ph/daily/2017-05-11/download\n"
     ]
    },
    {
     "name": "stderr",
     "output_type": "stream",
     "text": [
      "\r\n",
      "Collecting chart data from ph: 131it [03:36,  1.54s/it]"
     ]
    },
    {
     "name": "stdout",
     "output_type": "stream",
     "text": [
      "\n",
      "Date: 2017-05-12\n",
      "https://spotifycharts.com/regional/ph/daily/2017-05-12/download\n"
     ]
    },
    {
     "name": "stderr",
     "output_type": "stream",
     "text": [
      "\r\n",
      "Collecting chart data from ph: 132it [03:37,  1.57s/it]"
     ]
    },
    {
     "name": "stdout",
     "output_type": "stream",
     "text": [
      "\n",
      "Date: 2017-05-13\n",
      "https://spotifycharts.com/regional/ph/daily/2017-05-13/download\n"
     ]
    },
    {
     "name": "stderr",
     "output_type": "stream",
     "text": [
      "\r\n",
      "Collecting chart data from ph: 133it [03:39,  1.65s/it]"
     ]
    },
    {
     "name": "stdout",
     "output_type": "stream",
     "text": [
      "\n",
      "Date: 2017-05-14\n",
      "https://spotifycharts.com/regional/ph/daily/2017-05-14/download\n"
     ]
    },
    {
     "name": "stderr",
     "output_type": "stream",
     "text": [
      "\r\n",
      "Collecting chart data from ph: 134it [03:41,  1.63s/it]"
     ]
    },
    {
     "name": "stdout",
     "output_type": "stream",
     "text": [
      "\n",
      "Date: 2017-05-15\n",
      "https://spotifycharts.com/regional/ph/daily/2017-05-15/download\n"
     ]
    },
    {
     "name": "stderr",
     "output_type": "stream",
     "text": [
      "\r\n",
      "Collecting chart data from ph: 135it [03:42,  1.61s/it]"
     ]
    },
    {
     "name": "stdout",
     "output_type": "stream",
     "text": [
      "\n",
      "Date: 2017-05-16\n",
      "https://spotifycharts.com/regional/ph/daily/2017-05-16/download\n"
     ]
    },
    {
     "name": "stderr",
     "output_type": "stream",
     "text": [
      "\r\n",
      "Collecting chart data from ph: 136it [03:44,  1.67s/it]"
     ]
    },
    {
     "name": "stdout",
     "output_type": "stream",
     "text": [
      "\n",
      "Date: 2017-05-17\n",
      "https://spotifycharts.com/regional/ph/daily/2017-05-17/download\n"
     ]
    },
    {
     "name": "stderr",
     "output_type": "stream",
     "text": [
      "\r\n",
      "Collecting chart data from ph: 137it [03:47,  1.97s/it]"
     ]
    },
    {
     "name": "stdout",
     "output_type": "stream",
     "text": [
      "\n",
      "Date: 2017-05-18\n",
      "https://spotifycharts.com/regional/ph/daily/2017-05-18/download\n"
     ]
    },
    {
     "name": "stderr",
     "output_type": "stream",
     "text": [
      "\r\n",
      "Collecting chart data from ph: 138it [03:49,  2.03s/it]"
     ]
    },
    {
     "name": "stdout",
     "output_type": "stream",
     "text": [
      "\n",
      "Date: 2017-05-19\n",
      "https://spotifycharts.com/regional/ph/daily/2017-05-19/download\n"
     ]
    },
    {
     "name": "stderr",
     "output_type": "stream",
     "text": [
      "\r\n",
      "Collecting chart data from ph: 139it [03:51,  1.90s/it]"
     ]
    },
    {
     "name": "stdout",
     "output_type": "stream",
     "text": [
      "\n",
      "Date: 2017-05-20\n",
      "https://spotifycharts.com/regional/ph/daily/2017-05-20/download\n"
     ]
    },
    {
     "name": "stderr",
     "output_type": "stream",
     "text": [
      "\r\n",
      "Collecting chart data from ph: 140it [03:52,  1.82s/it]"
     ]
    },
    {
     "name": "stdout",
     "output_type": "stream",
     "text": [
      "\n",
      "Date: 2017-05-21\n",
      "https://spotifycharts.com/regional/ph/daily/2017-05-21/download\n"
     ]
    },
    {
     "name": "stderr",
     "output_type": "stream",
     "text": [
      "\r\n",
      "Collecting chart data from ph: 141it [03:54,  1.78s/it]"
     ]
    },
    {
     "name": "stdout",
     "output_type": "stream",
     "text": [
      "\n",
      "Date: 2017-05-22\n",
      "https://spotifycharts.com/regional/ph/daily/2017-05-22/download\n"
     ]
    },
    {
     "name": "stderr",
     "output_type": "stream",
     "text": [
      "\r\n",
      "Collecting chart data from ph: 142it [03:56,  1.76s/it]"
     ]
    },
    {
     "name": "stdout",
     "output_type": "stream",
     "text": [
      "\n",
      "Date: 2017-05-23\n",
      "https://spotifycharts.com/regional/ph/daily/2017-05-23/download\n"
     ]
    },
    {
     "name": "stderr",
     "output_type": "stream",
     "text": [
      "\r\n",
      "Collecting chart data from ph: 143it [03:57,  1.71s/it]"
     ]
    },
    {
     "name": "stdout",
     "output_type": "stream",
     "text": [
      "\n",
      "Date: 2017-05-24\n",
      "https://spotifycharts.com/regional/ph/daily/2017-05-24/download\n"
     ]
    },
    {
     "name": "stderr",
     "output_type": "stream",
     "text": [
      "\r\n",
      "Collecting chart data from ph: 144it [03:59,  1.71s/it]"
     ]
    },
    {
     "name": "stdout",
     "output_type": "stream",
     "text": [
      "\n",
      "Date: 2017-05-25\n",
      "https://spotifycharts.com/regional/ph/daily/2017-05-25/download\n"
     ]
    },
    {
     "name": "stderr",
     "output_type": "stream",
     "text": [
      "\r\n",
      "Collecting chart data from ph: 145it [04:01,  1.72s/it]"
     ]
    },
    {
     "name": "stdout",
     "output_type": "stream",
     "text": [
      "\n",
      "Date: 2017-05-26\n",
      "https://spotifycharts.com/regional/ph/daily/2017-05-26/download\n"
     ]
    },
    {
     "name": "stderr",
     "output_type": "stream",
     "text": [
      "\r\n",
      "Collecting chart data from ph: 146it [04:03,  1.72s/it]"
     ]
    },
    {
     "name": "stdout",
     "output_type": "stream",
     "text": [
      "\n",
      "Date: 2017-05-27\n",
      "https://spotifycharts.com/regional/ph/daily/2017-05-27/download\n"
     ]
    },
    {
     "name": "stderr",
     "output_type": "stream",
     "text": [
      "\r\n",
      "Collecting chart data from ph: 147it [04:04,  1.72s/it]"
     ]
    },
    {
     "name": "stdout",
     "output_type": "stream",
     "text": [
      "\n",
      "Date: 2017-05-28\n",
      "https://spotifycharts.com/regional/ph/daily/2017-05-28/download\n"
     ]
    },
    {
     "name": "stderr",
     "output_type": "stream",
     "text": [
      "\r\n",
      "Collecting chart data from ph: 148it [04:06,  1.77s/it]"
     ]
    },
    {
     "name": "stdout",
     "output_type": "stream",
     "text": [
      "\n",
      "Date: 2017-05-29\n",
      "https://spotifycharts.com/regional/ph/daily/2017-05-29/download\n"
     ]
    },
    {
     "name": "stderr",
     "output_type": "stream",
     "text": [
      "\r\n",
      "Collecting chart data from ph: 149it [04:08,  1.70s/it]"
     ]
    },
    {
     "name": "stdout",
     "output_type": "stream",
     "text": [
      "\n",
      "Date: 2017-05-30\n",
      "https://spotifycharts.com/regional/ph/daily/2017-05-30/download\n",
      "Retrying for 'https://spotifycharts.com/regional/ph/daily/2017-05-30/download'\n",
      "Retrying for 'https://spotifycharts.com/regional/ph/daily/2017-05-30/download'\n"
     ]
    },
    {
     "name": "stderr",
     "output_type": "stream",
     "text": [
      "\r\n",
      "Collecting chart data from ph: 150it [04:10,  2.00s/it]"
     ]
    },
    {
     "name": "stdout",
     "output_type": "stream",
     "text": [
      "Retrying for 'https://spotifycharts.com/regional/ph/daily/2017-05-30/download'\n",
      "Retry failed for 'https://spotifycharts.com/regional/ph/daily/2017-05-30/download'\n",
      "\n",
      "Date: 2017-05-31\n",
      "https://spotifycharts.com/regional/ph/daily/2017-05-31/download\n",
      "Retrying for 'https://spotifycharts.com/regional/ph/daily/2017-05-31/download'\n",
      "Retrying for 'https://spotifycharts.com/regional/ph/daily/2017-05-31/download'\n"
     ]
    },
    {
     "name": "stderr",
     "output_type": "stream",
     "text": [
      "\r\n",
      "Collecting chart data from ph: 151it [04:13,  2.30s/it]"
     ]
    },
    {
     "name": "stdout",
     "output_type": "stream",
     "text": [
      "Retrying for 'https://spotifycharts.com/regional/ph/daily/2017-05-31/download'\n",
      "Retry failed for 'https://spotifycharts.com/regional/ph/daily/2017-05-31/download'\n",
      "\n",
      "Date: 2017-06-01\n",
      "https://spotifycharts.com/regional/ph/daily/2017-06-01/download\n"
     ]
    },
    {
     "name": "stderr",
     "output_type": "stream",
     "text": [
      "\r\n",
      "Collecting chart data from ph: 152it [04:15,  2.08s/it]"
     ]
    },
    {
     "name": "stdout",
     "output_type": "stream",
     "text": [
      "\n",
      "Date: 2017-06-02\n",
      "https://spotifycharts.com/regional/ph/daily/2017-06-02/download\n",
      "Retrying for 'https://spotifycharts.com/regional/ph/daily/2017-06-02/download'\n",
      "Retrying for 'https://spotifycharts.com/regional/ph/daily/2017-06-02/download'\n"
     ]
    },
    {
     "name": "stderr",
     "output_type": "stream",
     "text": [
      "\r\n",
      "Collecting chart data from ph: 153it [04:18,  2.32s/it]"
     ]
    },
    {
     "name": "stdout",
     "output_type": "stream",
     "text": [
      "Retrying for 'https://spotifycharts.com/regional/ph/daily/2017-06-02/download'\n",
      "Retry failed for 'https://spotifycharts.com/regional/ph/daily/2017-06-02/download'\n",
      "\n",
      "Date: 2017-06-03\n",
      "https://spotifycharts.com/regional/ph/daily/2017-06-03/download\n"
     ]
    },
    {
     "name": "stderr",
     "output_type": "stream",
     "text": [
      "\r\n",
      "Collecting chart data from ph: 154it [04:19,  2.11s/it]"
     ]
    },
    {
     "name": "stdout",
     "output_type": "stream",
     "text": [
      "\n",
      "Date: 2017-06-04\n",
      "https://spotifycharts.com/regional/ph/daily/2017-06-04/download\n"
     ]
    },
    {
     "name": "stderr",
     "output_type": "stream",
     "text": [
      "\r\n",
      "Collecting chart data from ph: 155it [04:21,  2.00s/it]"
     ]
    },
    {
     "name": "stdout",
     "output_type": "stream",
     "text": [
      "\n",
      "Date: 2017-06-05\n",
      "https://spotifycharts.com/regional/ph/daily/2017-06-05/download\n"
     ]
    },
    {
     "name": "stderr",
     "output_type": "stream",
     "text": [
      "\r\n",
      "Collecting chart data from ph: 156it [04:23,  1.87s/it]"
     ]
    },
    {
     "name": "stdout",
     "output_type": "stream",
     "text": [
      "\n",
      "Date: 2017-06-06\n",
      "https://spotifycharts.com/regional/ph/daily/2017-06-06/download\n"
     ]
    },
    {
     "name": "stderr",
     "output_type": "stream",
     "text": [
      "\r\n",
      "Collecting chart data from ph: 157it [04:24,  1.82s/it]"
     ]
    },
    {
     "name": "stdout",
     "output_type": "stream",
     "text": [
      "\n",
      "Date: 2017-06-07\n",
      "https://spotifycharts.com/regional/ph/daily/2017-06-07/download\n"
     ]
    },
    {
     "name": "stderr",
     "output_type": "stream",
     "text": [
      "\r\n",
      "Collecting chart data from ph: 158it [04:26,  1.73s/it]"
     ]
    },
    {
     "name": "stdout",
     "output_type": "stream",
     "text": [
      "\n",
      "Date: 2017-06-08\n",
      "https://spotifycharts.com/regional/ph/daily/2017-06-08/download\n"
     ]
    },
    {
     "name": "stderr",
     "output_type": "stream",
     "text": [
      "\r\n",
      "Collecting chart data from ph: 159it [04:27,  1.67s/it]"
     ]
    },
    {
     "name": "stdout",
     "output_type": "stream",
     "text": [
      "\n",
      "Date: 2017-06-09\n",
      "https://spotifycharts.com/regional/ph/daily/2017-06-09/download\n"
     ]
    },
    {
     "name": "stderr",
     "output_type": "stream",
     "text": [
      "\r\n",
      "Collecting chart data from ph: 160it [04:29,  1.68s/it]"
     ]
    },
    {
     "name": "stdout",
     "output_type": "stream",
     "text": [
      "\n",
      "Date: 2017-06-10\n",
      "https://spotifycharts.com/regional/ph/daily/2017-06-10/download\n"
     ]
    },
    {
     "name": "stderr",
     "output_type": "stream",
     "text": [
      "\r\n",
      "Collecting chart data from ph: 161it [04:31,  1.71s/it]"
     ]
    },
    {
     "name": "stdout",
     "output_type": "stream",
     "text": [
      "\n",
      "Date: 2017-06-11\n",
      "https://spotifycharts.com/regional/ph/daily/2017-06-11/download\n"
     ]
    },
    {
     "name": "stderr",
     "output_type": "stream",
     "text": [
      "\r\n",
      "Collecting chart data from ph: 162it [04:33,  1.68s/it]"
     ]
    },
    {
     "name": "stdout",
     "output_type": "stream",
     "text": [
      "\n",
      "Date: 2017-06-12\n",
      "https://spotifycharts.com/regional/ph/daily/2017-06-12/download\n"
     ]
    },
    {
     "name": "stderr",
     "output_type": "stream",
     "text": [
      "\r\n",
      "Collecting chart data from ph: 163it [04:34,  1.66s/it]"
     ]
    },
    {
     "name": "stdout",
     "output_type": "stream",
     "text": [
      "\n",
      "Date: 2017-06-13\n",
      "https://spotifycharts.com/regional/ph/daily/2017-06-13/download\n"
     ]
    },
    {
     "name": "stderr",
     "output_type": "stream",
     "text": [
      "\r\n",
      "Collecting chart data from ph: 164it [04:36,  1.65s/it]"
     ]
    },
    {
     "name": "stdout",
     "output_type": "stream",
     "text": [
      "\n",
      "Date: 2017-06-14\n",
      "https://spotifycharts.com/regional/ph/daily/2017-06-14/download\n"
     ]
    },
    {
     "name": "stderr",
     "output_type": "stream",
     "text": [
      "\r\n",
      "Collecting chart data from ph: 165it [04:37,  1.62s/it]"
     ]
    },
    {
     "name": "stdout",
     "output_type": "stream",
     "text": [
      "\n",
      "Date: 2017-06-15\n",
      "https://spotifycharts.com/regional/ph/daily/2017-06-15/download\n"
     ]
    },
    {
     "name": "stderr",
     "output_type": "stream",
     "text": [
      "\r\n",
      "Collecting chart data from ph: 166it [04:39,  1.68s/it]"
     ]
    },
    {
     "name": "stdout",
     "output_type": "stream",
     "text": [
      "\n",
      "Date: 2017-06-16\n",
      "https://spotifycharts.com/regional/ph/daily/2017-06-16/download\n"
     ]
    },
    {
     "name": "stderr",
     "output_type": "stream",
     "text": [
      "\r\n",
      "Collecting chart data from ph: 167it [04:41,  1.71s/it]"
     ]
    },
    {
     "name": "stdout",
     "output_type": "stream",
     "text": [
      "\n",
      "Date: 2017-06-17\n",
      "https://spotifycharts.com/regional/ph/daily/2017-06-17/download\n"
     ]
    },
    {
     "name": "stderr",
     "output_type": "stream",
     "text": [
      "\r\n",
      "Collecting chart data from ph: 168it [04:42,  1.51s/it]"
     ]
    },
    {
     "name": "stdout",
     "output_type": "stream",
     "text": [
      "\n",
      "Date: 2017-06-18\n",
      "https://spotifycharts.com/regional/ph/daily/2017-06-18/download\n"
     ]
    },
    {
     "name": "stderr",
     "output_type": "stream",
     "text": [
      "\r\n",
      "Collecting chart data from ph: 169it [04:44,  1.56s/it]"
     ]
    },
    {
     "name": "stdout",
     "output_type": "stream",
     "text": [
      "\n",
      "Date: 2017-06-19\n",
      "https://spotifycharts.com/regional/ph/daily/2017-06-19/download\n"
     ]
    },
    {
     "name": "stderr",
     "output_type": "stream",
     "text": [
      "\r\n",
      "Collecting chart data from ph: 170it [04:45,  1.56s/it]"
     ]
    },
    {
     "name": "stdout",
     "output_type": "stream",
     "text": [
      "\n",
      "Date: 2017-06-20\n",
      "https://spotifycharts.com/regional/ph/daily/2017-06-20/download\n"
     ]
    },
    {
     "name": "stderr",
     "output_type": "stream",
     "text": [
      "\r\n",
      "Collecting chart data from ph: 171it [04:47,  1.59s/it]"
     ]
    },
    {
     "name": "stdout",
     "output_type": "stream",
     "text": [
      "\n",
      "Date: 2017-06-21\n",
      "https://spotifycharts.com/regional/ph/daily/2017-06-21/download\n"
     ]
    },
    {
     "name": "stderr",
     "output_type": "stream",
     "text": [
      "\r\n",
      "Collecting chart data from ph: 172it [04:48,  1.46s/it]"
     ]
    },
    {
     "name": "stdout",
     "output_type": "stream",
     "text": [
      "\n",
      "Date: 2017-06-22\n",
      "https://spotifycharts.com/regional/ph/daily/2017-06-22/download\n"
     ]
    },
    {
     "name": "stderr",
     "output_type": "stream",
     "text": [
      "\r\n",
      "Collecting chart data from ph: 173it [04:50,  1.48s/it]"
     ]
    },
    {
     "name": "stdout",
     "output_type": "stream",
     "text": [
      "\n",
      "Date: 2017-06-23\n",
      "https://spotifycharts.com/regional/ph/daily/2017-06-23/download\n"
     ]
    },
    {
     "name": "stderr",
     "output_type": "stream",
     "text": [
      "\r\n",
      "Collecting chart data from ph: 174it [04:51,  1.49s/it]"
     ]
    },
    {
     "name": "stdout",
     "output_type": "stream",
     "text": [
      "\n",
      "Date: 2017-06-24\n",
      "https://spotifycharts.com/regional/ph/daily/2017-06-24/download\n"
     ]
    },
    {
     "name": "stderr",
     "output_type": "stream",
     "text": [
      "\r\n",
      "Collecting chart data from ph: 175it [04:53,  1.55s/it]"
     ]
    },
    {
     "name": "stdout",
     "output_type": "stream",
     "text": [
      "\n",
      "Date: 2017-06-25\n",
      "https://spotifycharts.com/regional/ph/daily/2017-06-25/download\n"
     ]
    },
    {
     "name": "stderr",
     "output_type": "stream",
     "text": [
      "\r\n",
      "Collecting chart data from ph: 176it [04:54,  1.40s/it]"
     ]
    },
    {
     "name": "stdout",
     "output_type": "stream",
     "text": [
      "\n",
      "Date: 2017-06-26\n",
      "https://spotifycharts.com/regional/ph/daily/2017-06-26/download\n"
     ]
    },
    {
     "name": "stderr",
     "output_type": "stream",
     "text": [
      "\r\n",
      "Collecting chart data from ph: 177it [04:55,  1.48s/it]"
     ]
    },
    {
     "name": "stdout",
     "output_type": "stream",
     "text": [
      "\n",
      "Date: 2017-06-27\n",
      "https://spotifycharts.com/regional/ph/daily/2017-06-27/download\n"
     ]
    },
    {
     "name": "stderr",
     "output_type": "stream",
     "text": [
      "\r\n",
      "Collecting chart data from ph: 178it [04:57,  1.49s/it]"
     ]
    },
    {
     "name": "stdout",
     "output_type": "stream",
     "text": [
      "\n",
      "Date: 2017-06-28\n",
      "https://spotifycharts.com/regional/ph/daily/2017-06-28/download\n"
     ]
    },
    {
     "name": "stderr",
     "output_type": "stream",
     "text": [
      "\r\n",
      "Collecting chart data from ph: 179it [04:59,  1.56s/it]"
     ]
    },
    {
     "name": "stdout",
     "output_type": "stream",
     "text": [
      "\n",
      "Date: 2017-06-29\n",
      "https://spotifycharts.com/regional/ph/daily/2017-06-29/download\n"
     ]
    },
    {
     "name": "stderr",
     "output_type": "stream",
     "text": [
      "\r\n",
      "Collecting chart data from ph: 180it [05:00,  1.58s/it]"
     ]
    },
    {
     "name": "stdout",
     "output_type": "stream",
     "text": [
      "\n",
      "Date: 2017-06-30\n",
      "https://spotifycharts.com/regional/ph/daily/2017-06-30/download\n"
     ]
    },
    {
     "name": "stderr",
     "output_type": "stream",
     "text": [
      "\r\n",
      "Collecting chart data from ph: 181it [05:02,  1.66s/it]"
     ]
    },
    {
     "name": "stdout",
     "output_type": "stream",
     "text": [
      "\n",
      "Date: 2017-07-01\n",
      "https://spotifycharts.com/regional/ph/daily/2017-07-01/download\n"
     ]
    },
    {
     "name": "stderr",
     "output_type": "stream",
     "text": [
      "\r\n",
      "Collecting chart data from ph: 182it [05:04,  1.65s/it]"
     ]
    },
    {
     "name": "stdout",
     "output_type": "stream",
     "text": [
      "\n",
      "Date: 2017-07-02\n",
      "https://spotifycharts.com/regional/ph/daily/2017-07-02/download\n"
     ]
    },
    {
     "name": "stderr",
     "output_type": "stream",
     "text": [
      "\r\n",
      "Collecting chart data from ph: 183it [05:06,  1.66s/it]"
     ]
    },
    {
     "name": "stdout",
     "output_type": "stream",
     "text": [
      "\n",
      "Date: 2017-07-03\n",
      "https://spotifycharts.com/regional/ph/daily/2017-07-03/download\n"
     ]
    },
    {
     "name": "stderr",
     "output_type": "stream",
     "text": [
      "\r\n",
      "Collecting chart data from ph: 184it [05:07,  1.64s/it]"
     ]
    },
    {
     "name": "stdout",
     "output_type": "stream",
     "text": [
      "\n",
      "Date: 2017-07-04\n",
      "https://spotifycharts.com/regional/ph/daily/2017-07-04/download\n"
     ]
    },
    {
     "name": "stderr",
     "output_type": "stream",
     "text": [
      "\r\n",
      "Collecting chart data from ph: 185it [05:09,  1.62s/it]"
     ]
    },
    {
     "name": "stdout",
     "output_type": "stream",
     "text": [
      "\n",
      "Date: 2017-07-05\n",
      "https://spotifycharts.com/regional/ph/daily/2017-07-05/download\n"
     ]
    },
    {
     "name": "stderr",
     "output_type": "stream",
     "text": [
      "\r\n",
      "Collecting chart data from ph: 186it [05:10,  1.45s/it]"
     ]
    },
    {
     "name": "stdout",
     "output_type": "stream",
     "text": [
      "\n",
      "Date: 2017-07-06\n",
      "https://spotifycharts.com/regional/ph/daily/2017-07-06/download\n"
     ]
    },
    {
     "name": "stderr",
     "output_type": "stream",
     "text": [
      "\r\n",
      "Collecting chart data from ph: 187it [05:11,  1.48s/it]"
     ]
    },
    {
     "name": "stdout",
     "output_type": "stream",
     "text": [
      "\n",
      "Date: 2017-07-07\n",
      "https://spotifycharts.com/regional/ph/daily/2017-07-07/download\n"
     ]
    },
    {
     "name": "stderr",
     "output_type": "stream",
     "text": [
      "\r\n",
      "Collecting chart data from ph: 188it [05:13,  1.54s/it]"
     ]
    },
    {
     "name": "stdout",
     "output_type": "stream",
     "text": [
      "\n",
      "Date: 2017-07-08\n",
      "https://spotifycharts.com/regional/ph/daily/2017-07-08/download\n"
     ]
    },
    {
     "name": "stderr",
     "output_type": "stream",
     "text": [
      "\r\n",
      "Collecting chart data from ph: 189it [05:14,  1.38s/it]"
     ]
    },
    {
     "name": "stdout",
     "output_type": "stream",
     "text": [
      "\n",
      "Date: 2017-07-09\n",
      "https://spotifycharts.com/regional/ph/daily/2017-07-09/download\n"
     ]
    },
    {
     "name": "stderr",
     "output_type": "stream",
     "text": [
      "\r\n",
      "Collecting chart data from ph: 190it [05:16,  1.42s/it]"
     ]
    },
    {
     "name": "stdout",
     "output_type": "stream",
     "text": [
      "\n",
      "Date: 2017-07-10\n",
      "https://spotifycharts.com/regional/ph/daily/2017-07-10/download\n"
     ]
    },
    {
     "name": "stderr",
     "output_type": "stream",
     "text": [
      "\r\n",
      "Collecting chart data from ph: 191it [05:17,  1.49s/it]"
     ]
    },
    {
     "name": "stdout",
     "output_type": "stream",
     "text": [
      "\n",
      "Date: 2017-07-11\n",
      "https://spotifycharts.com/regional/ph/daily/2017-07-11/download\n"
     ]
    },
    {
     "name": "stderr",
     "output_type": "stream",
     "text": [
      "\r\n",
      "Collecting chart data from ph: 192it [05:19,  1.53s/it]"
     ]
    },
    {
     "name": "stdout",
     "output_type": "stream",
     "text": [
      "\n",
      "Date: 2017-07-12\n",
      "https://spotifycharts.com/regional/ph/daily/2017-07-12/download\n"
     ]
    },
    {
     "name": "stderr",
     "output_type": "stream",
     "text": [
      "\r\n",
      "Collecting chart data from ph: 193it [05:20,  1.57s/it]"
     ]
    },
    {
     "name": "stdout",
     "output_type": "stream",
     "text": [
      "\n",
      "Date: 2017-07-13\n",
      "https://spotifycharts.com/regional/ph/daily/2017-07-13/download\n"
     ]
    },
    {
     "name": "stderr",
     "output_type": "stream",
     "text": [
      "\r\n",
      "Collecting chart data from ph: 194it [05:22,  1.44s/it]"
     ]
    },
    {
     "name": "stdout",
     "output_type": "stream",
     "text": [
      "\n",
      "Date: 2017-07-14\n",
      "https://spotifycharts.com/regional/ph/daily/2017-07-14/download\n"
     ]
    },
    {
     "name": "stderr",
     "output_type": "stream",
     "text": [
      "\r\n",
      "Collecting chart data from ph: 195it [05:23,  1.33s/it]"
     ]
    },
    {
     "name": "stdout",
     "output_type": "stream",
     "text": [
      "\n",
      "Date: 2017-07-15\n",
      "https://spotifycharts.com/regional/ph/daily/2017-07-15/download\n"
     ]
    },
    {
     "name": "stderr",
     "output_type": "stream",
     "text": [
      "\r\n",
      "Collecting chart data from ph: 196it [05:24,  1.41s/it]"
     ]
    },
    {
     "name": "stdout",
     "output_type": "stream",
     "text": [
      "\n",
      "Date: 2017-07-16\n",
      "https://spotifycharts.com/regional/ph/daily/2017-07-16/download\n"
     ]
    },
    {
     "name": "stderr",
     "output_type": "stream",
     "text": [
      "\r\n",
      "Collecting chart data from ph: 197it [05:26,  1.47s/it]"
     ]
    },
    {
     "name": "stdout",
     "output_type": "stream",
     "text": [
      "\n",
      "Date: 2017-07-17\n",
      "https://spotifycharts.com/regional/ph/daily/2017-07-17/download\n"
     ]
    },
    {
     "name": "stderr",
     "output_type": "stream",
     "text": [
      "\r\n",
      "Collecting chart data from ph: 198it [05:27,  1.50s/it]"
     ]
    },
    {
     "name": "stdout",
     "output_type": "stream",
     "text": [
      "\n",
      "Date: 2017-07-18\n",
      "https://spotifycharts.com/regional/ph/daily/2017-07-18/download\n"
     ]
    },
    {
     "name": "stderr",
     "output_type": "stream",
     "text": [
      "\r\n",
      "Collecting chart data from ph: 199it [05:29,  1.54s/it]"
     ]
    },
    {
     "name": "stdout",
     "output_type": "stream",
     "text": [
      "\n",
      "Date: 2017-07-19\n",
      "https://spotifycharts.com/regional/ph/daily/2017-07-19/download\n"
     ]
    },
    {
     "name": "stderr",
     "output_type": "stream",
     "text": [
      "\r\n",
      "Collecting chart data from ph: 200it [05:31,  1.58s/it]"
     ]
    },
    {
     "name": "stdout",
     "output_type": "stream",
     "text": [
      "\n",
      "Date: 2017-07-20\n",
      "https://spotifycharts.com/regional/ph/daily/2017-07-20/download\n"
     ]
    },
    {
     "name": "stderr",
     "output_type": "stream",
     "text": [
      "\r\n",
      "Collecting chart data from ph: 201it [05:32,  1.57s/it]"
     ]
    },
    {
     "name": "stdout",
     "output_type": "stream",
     "text": [
      "\n",
      "Date: 2017-07-21\n",
      "https://spotifycharts.com/regional/ph/daily/2017-07-21/download\n"
     ]
    },
    {
     "name": "stderr",
     "output_type": "stream",
     "text": [
      "\r\n",
      "Collecting chart data from ph: 202it [05:34,  1.64s/it]"
     ]
    },
    {
     "name": "stdout",
     "output_type": "stream",
     "text": [
      "\n",
      "Date: 2017-07-22\n",
      "https://spotifycharts.com/regional/ph/daily/2017-07-22/download\n"
     ]
    },
    {
     "name": "stderr",
     "output_type": "stream",
     "text": [
      "\r\n",
      "Collecting chart data from ph: 203it [05:36,  1.65s/it]"
     ]
    },
    {
     "name": "stdout",
     "output_type": "stream",
     "text": [
      "\n",
      "Date: 2017-07-23\n",
      "https://spotifycharts.com/regional/ph/daily/2017-07-23/download\n"
     ]
    },
    {
     "name": "stderr",
     "output_type": "stream",
     "text": [
      "\r\n",
      "Collecting chart data from ph: 204it [05:38,  1.73s/it]"
     ]
    },
    {
     "name": "stdout",
     "output_type": "stream",
     "text": [
      "\n",
      "Date: 2017-07-24\n",
      "https://spotifycharts.com/regional/ph/daily/2017-07-24/download\n"
     ]
    },
    {
     "name": "stderr",
     "output_type": "stream",
     "text": [
      "\r\n",
      "Collecting chart data from ph: 205it [05:41,  2.12s/it]"
     ]
    },
    {
     "name": "stdout",
     "output_type": "stream",
     "text": [
      "\n",
      "Date: 2017-07-25\n",
      "https://spotifycharts.com/regional/ph/daily/2017-07-25/download\n"
     ]
    },
    {
     "name": "stderr",
     "output_type": "stream",
     "text": [
      "\r\n",
      "Collecting chart data from ph: 206it [05:42,  2.01s/it]"
     ]
    },
    {
     "name": "stdout",
     "output_type": "stream",
     "text": [
      "\n",
      "Date: 2017-07-26\n",
      "https://spotifycharts.com/regional/ph/daily/2017-07-26/download\n"
     ]
    },
    {
     "name": "stderr",
     "output_type": "stream",
     "text": [
      "\r\n",
      "Collecting chart data from ph: 207it [05:44,  1.88s/it]"
     ]
    },
    {
     "name": "stdout",
     "output_type": "stream",
     "text": [
      "\n",
      "Date: 2017-07-27\n",
      "https://spotifycharts.com/regional/ph/daily/2017-07-27/download\n"
     ]
    },
    {
     "name": "stderr",
     "output_type": "stream",
     "text": [
      "\r\n",
      "Collecting chart data from ph: 208it [05:46,  1.76s/it]"
     ]
    },
    {
     "name": "stdout",
     "output_type": "stream",
     "text": [
      "\n",
      "Date: 2017-07-28\n",
      "https://spotifycharts.com/regional/ph/daily/2017-07-28/download\n"
     ]
    },
    {
     "name": "stderr",
     "output_type": "stream",
     "text": [
      "\r\n",
      "Collecting chart data from ph: 209it [05:47,  1.71s/it]"
     ]
    },
    {
     "name": "stdout",
     "output_type": "stream",
     "text": [
      "\n",
      "Date: 2017-07-29\n",
      "https://spotifycharts.com/regional/ph/daily/2017-07-29/download\n"
     ]
    },
    {
     "name": "stderr",
     "output_type": "stream",
     "text": [
      "\r\n",
      "Collecting chart data from ph: 210it [05:49,  1.73s/it]"
     ]
    },
    {
     "name": "stdout",
     "output_type": "stream",
     "text": [
      "\n",
      "Date: 2017-07-30\n",
      "https://spotifycharts.com/regional/ph/daily/2017-07-30/download\n"
     ]
    },
    {
     "name": "stderr",
     "output_type": "stream",
     "text": [
      "\r\n",
      "Collecting chart data from ph: 211it [05:51,  1.71s/it]"
     ]
    },
    {
     "name": "stdout",
     "output_type": "stream",
     "text": [
      "\n",
      "Date: 2017-07-31\n",
      "https://spotifycharts.com/regional/ph/daily/2017-07-31/download\n"
     ]
    },
    {
     "name": "stderr",
     "output_type": "stream",
     "text": [
      "\r\n",
      "Collecting chart data from ph: 212it [05:52,  1.65s/it]"
     ]
    },
    {
     "name": "stdout",
     "output_type": "stream",
     "text": [
      "\n",
      "Date: 2017-08-01\n",
      "https://spotifycharts.com/regional/ph/daily/2017-08-01/download\n"
     ]
    },
    {
     "name": "stderr",
     "output_type": "stream",
     "text": [
      "\r\n",
      "Collecting chart data from ph: 213it [05:54,  1.64s/it]"
     ]
    },
    {
     "name": "stdout",
     "output_type": "stream",
     "text": [
      "\n",
      "Date: 2017-08-02\n",
      "https://spotifycharts.com/regional/ph/daily/2017-08-02/download\n"
     ]
    },
    {
     "name": "stderr",
     "output_type": "stream",
     "text": [
      "\r\n",
      "Collecting chart data from ph: 214it [05:55,  1.60s/it]"
     ]
    },
    {
     "name": "stdout",
     "output_type": "stream",
     "text": [
      "\n",
      "Date: 2017-08-03\n",
      "https://spotifycharts.com/regional/ph/daily/2017-08-03/download\n"
     ]
    },
    {
     "name": "stderr",
     "output_type": "stream",
     "text": [
      "\r\n",
      "Collecting chart data from ph: 215it [05:56,  1.46s/it]"
     ]
    },
    {
     "name": "stdout",
     "output_type": "stream",
     "text": [
      "\n",
      "Date: 2017-08-04\n",
      "https://spotifycharts.com/regional/ph/daily/2017-08-04/download\n"
     ]
    },
    {
     "name": "stderr",
     "output_type": "stream",
     "text": [
      "\r\n",
      "Collecting chart data from ph: 216it [05:58,  1.50s/it]"
     ]
    },
    {
     "name": "stdout",
     "output_type": "stream",
     "text": [
      "\n",
      "Date: 2017-08-05\n",
      "https://spotifycharts.com/regional/ph/daily/2017-08-05/download\n"
     ]
    },
    {
     "name": "stderr",
     "output_type": "stream",
     "text": [
      "\r\n",
      "Collecting chart data from ph: 217it [05:59,  1.51s/it]"
     ]
    },
    {
     "name": "stdout",
     "output_type": "stream",
     "text": [
      "\n",
      "Date: 2017-08-06\n",
      "https://spotifycharts.com/regional/ph/daily/2017-08-06/download\n"
     ]
    },
    {
     "name": "stderr",
     "output_type": "stream",
     "text": [
      "\r\n",
      "Collecting chart data from ph: 218it [06:01,  1.52s/it]"
     ]
    },
    {
     "name": "stdout",
     "output_type": "stream",
     "text": [
      "\n",
      "Date: 2017-08-07\n",
      "https://spotifycharts.com/regional/ph/daily/2017-08-07/download\n"
     ]
    },
    {
     "name": "stderr",
     "output_type": "stream",
     "text": [
      "\r\n",
      "Collecting chart data from ph: 219it [06:03,  1.57s/it]"
     ]
    },
    {
     "name": "stdout",
     "output_type": "stream",
     "text": [
      "\n",
      "Date: 2017-08-08\n",
      "https://spotifycharts.com/regional/ph/daily/2017-08-08/download\n"
     ]
    },
    {
     "name": "stderr",
     "output_type": "stream",
     "text": [
      "\r\n",
      "Collecting chart data from ph: 220it [06:04,  1.56s/it]"
     ]
    },
    {
     "name": "stdout",
     "output_type": "stream",
     "text": [
      "\n",
      "Date: 2017-08-09\n",
      "https://spotifycharts.com/regional/ph/daily/2017-08-09/download\n"
     ]
    },
    {
     "name": "stderr",
     "output_type": "stream",
     "text": [
      "\r\n",
      "Collecting chart data from ph: 221it [06:06,  1.58s/it]"
     ]
    },
    {
     "name": "stdout",
     "output_type": "stream",
     "text": [
      "\n",
      "Date: 2017-08-10\n",
      "https://spotifycharts.com/regional/ph/daily/2017-08-10/download\n"
     ]
    },
    {
     "name": "stderr",
     "output_type": "stream",
     "text": [
      "\r\n",
      "Collecting chart data from ph: 222it [06:08,  1.63s/it]"
     ]
    },
    {
     "name": "stdout",
     "output_type": "stream",
     "text": [
      "\n",
      "Date: 2017-08-11\n",
      "https://spotifycharts.com/regional/ph/daily/2017-08-11/download\n"
     ]
    },
    {
     "name": "stderr",
     "output_type": "stream",
     "text": [
      "\r\n",
      "Collecting chart data from ph: 223it [06:09,  1.51s/it]"
     ]
    },
    {
     "name": "stdout",
     "output_type": "stream",
     "text": [
      "\n",
      "Date: 2017-08-12\n",
      "https://spotifycharts.com/regional/ph/daily/2017-08-12/download\n"
     ]
    },
    {
     "name": "stderr",
     "output_type": "stream",
     "text": [
      "\r\n",
      "Collecting chart data from ph: 224it [06:10,  1.53s/it]"
     ]
    },
    {
     "name": "stdout",
     "output_type": "stream",
     "text": [
      "\n",
      "Date: 2017-08-13\n",
      "https://spotifycharts.com/regional/ph/daily/2017-08-13/download\n"
     ]
    },
    {
     "name": "stderr",
     "output_type": "stream",
     "text": [
      "\r\n",
      "Collecting chart data from ph: 225it [06:12,  1.56s/it]"
     ]
    },
    {
     "name": "stdout",
     "output_type": "stream",
     "text": [
      "\n",
      "Date: 2017-08-14\n",
      "https://spotifycharts.com/regional/ph/daily/2017-08-14/download\n"
     ]
    },
    {
     "name": "stderr",
     "output_type": "stream",
     "text": [
      "\r\n",
      "Collecting chart data from ph: 226it [06:14,  1.59s/it]"
     ]
    },
    {
     "name": "stdout",
     "output_type": "stream",
     "text": [
      "\n",
      "Date: 2017-08-15\n",
      "https://spotifycharts.com/regional/ph/daily/2017-08-15/download\n"
     ]
    },
    {
     "name": "stderr",
     "output_type": "stream",
     "text": [
      "\r\n",
      "Collecting chart data from ph: 227it [06:16,  1.65s/it]"
     ]
    },
    {
     "name": "stdout",
     "output_type": "stream",
     "text": [
      "\n",
      "Date: 2017-08-16\n",
      "https://spotifycharts.com/regional/ph/daily/2017-08-16/download\n"
     ]
    },
    {
     "name": "stderr",
     "output_type": "stream",
     "text": [
      "\r\n",
      "Collecting chart data from ph: 228it [06:17,  1.48s/it]"
     ]
    },
    {
     "name": "stdout",
     "output_type": "stream",
     "text": [
      "\n",
      "Date: 2017-08-17\n",
      "https://spotifycharts.com/regional/ph/daily/2017-08-17/download\n"
     ]
    },
    {
     "name": "stderr",
     "output_type": "stream",
     "text": [
      "\r\n",
      "Collecting chart data from ph: 229it [06:18,  1.52s/it]"
     ]
    },
    {
     "name": "stdout",
     "output_type": "stream",
     "text": [
      "\n",
      "Date: 2017-08-18\n",
      "https://spotifycharts.com/regional/ph/daily/2017-08-18/download\n"
     ]
    },
    {
     "name": "stderr",
     "output_type": "stream",
     "text": [
      "\r\n",
      "Collecting chart data from ph: 230it [06:20,  1.57s/it]"
     ]
    },
    {
     "name": "stdout",
     "output_type": "stream",
     "text": [
      "\n",
      "Date: 2017-08-19\n",
      "https://spotifycharts.com/regional/ph/daily/2017-08-19/download\n"
     ]
    },
    {
     "name": "stderr",
     "output_type": "stream",
     "text": [
      "\r\n",
      "Collecting chart data from ph: 231it [06:21,  1.42s/it]"
     ]
    },
    {
     "name": "stdout",
     "output_type": "stream",
     "text": [
      "\n",
      "Date: 2017-08-20\n",
      "https://spotifycharts.com/regional/ph/daily/2017-08-20/download\n"
     ]
    },
    {
     "name": "stderr",
     "output_type": "stream",
     "text": [
      "\r\n",
      "Collecting chart data from ph: 232it [06:23,  1.48s/it]"
     ]
    },
    {
     "name": "stdout",
     "output_type": "stream",
     "text": [
      "\n",
      "Date: 2017-08-21\n",
      "https://spotifycharts.com/regional/ph/daily/2017-08-21/download\n"
     ]
    },
    {
     "name": "stderr",
     "output_type": "stream",
     "text": [
      "\r\n",
      "Collecting chart data from ph: 233it [06:24,  1.52s/it]"
     ]
    },
    {
     "name": "stdout",
     "output_type": "stream",
     "text": [
      "\n",
      "Date: 2017-08-22\n",
      "https://spotifycharts.com/regional/ph/daily/2017-08-22/download\n"
     ]
    },
    {
     "name": "stderr",
     "output_type": "stream",
     "text": [
      "\r\n",
      "Collecting chart data from ph: 234it [06:26,  1.53s/it]"
     ]
    },
    {
     "name": "stdout",
     "output_type": "stream",
     "text": [
      "\n",
      "Date: 2017-08-23\n",
      "https://spotifycharts.com/regional/ph/daily/2017-08-23/download\n"
     ]
    },
    {
     "name": "stderr",
     "output_type": "stream",
     "text": [
      "\r\n",
      "Collecting chart data from ph: 235it [06:27,  1.38s/it]"
     ]
    },
    {
     "name": "stdout",
     "output_type": "stream",
     "text": [
      "\n",
      "Date: 2017-08-24\n",
      "https://spotifycharts.com/regional/ph/daily/2017-08-24/download\n"
     ]
    },
    {
     "name": "stderr",
     "output_type": "stream",
     "text": [
      "\r\n",
      "Collecting chart data from ph: 236it [06:28,  1.44s/it]"
     ]
    },
    {
     "name": "stdout",
     "output_type": "stream",
     "text": [
      "\n",
      "Date: 2017-08-25\n",
      "https://spotifycharts.com/regional/ph/daily/2017-08-25/download\n"
     ]
    },
    {
     "name": "stderr",
     "output_type": "stream",
     "text": [
      "\r\n",
      "Collecting chart data from ph: 237it [06:30,  1.48s/it]"
     ]
    },
    {
     "name": "stdout",
     "output_type": "stream",
     "text": [
      "\n",
      "Date: 2017-08-26\n",
      "https://spotifycharts.com/regional/ph/daily/2017-08-26/download\n"
     ]
    },
    {
     "name": "stderr",
     "output_type": "stream",
     "text": [
      "\r\n",
      "Collecting chart data from ph: 238it [06:31,  1.36s/it]"
     ]
    },
    {
     "name": "stdout",
     "output_type": "stream",
     "text": [
      "\n",
      "Date: 2017-08-27\n",
      "https://spotifycharts.com/regional/ph/daily/2017-08-27/download\n"
     ]
    },
    {
     "name": "stderr",
     "output_type": "stream",
     "text": [
      "\r\n",
      "Collecting chart data from ph: 239it [06:32,  1.28s/it]"
     ]
    },
    {
     "name": "stdout",
     "output_type": "stream",
     "text": [
      "\n",
      "Date: 2017-08-28\n",
      "https://spotifycharts.com/regional/ph/daily/2017-08-28/download\n"
     ]
    },
    {
     "name": "stderr",
     "output_type": "stream",
     "text": [
      "\r\n",
      "Collecting chart data from ph: 240it [06:34,  1.42s/it]"
     ]
    },
    {
     "name": "stdout",
     "output_type": "stream",
     "text": [
      "\n",
      "Date: 2017-08-29\n",
      "https://spotifycharts.com/regional/ph/daily/2017-08-29/download\n"
     ]
    },
    {
     "name": "stderr",
     "output_type": "stream",
     "text": [
      "\r\n",
      "Collecting chart data from ph: 241it [06:35,  1.49s/it]"
     ]
    },
    {
     "name": "stdout",
     "output_type": "stream",
     "text": [
      "\n",
      "Date: 2017-08-30\n",
      "https://spotifycharts.com/regional/ph/daily/2017-08-30/download\n"
     ]
    },
    {
     "name": "stderr",
     "output_type": "stream",
     "text": [
      "\r\n",
      "Collecting chart data from ph: 242it [06:37,  1.49s/it]"
     ]
    },
    {
     "name": "stdout",
     "output_type": "stream",
     "text": [
      "\n",
      "Date: 2017-08-31\n",
      "https://spotifycharts.com/regional/ph/daily/2017-08-31/download\n"
     ]
    },
    {
     "name": "stderr",
     "output_type": "stream",
     "text": [
      "\r\n",
      "Collecting chart data from ph: 243it [06:39,  1.56s/it]"
     ]
    },
    {
     "name": "stdout",
     "output_type": "stream",
     "text": [
      "\n",
      "Date: 2017-09-01\n",
      "https://spotifycharts.com/regional/ph/daily/2017-09-01/download\n"
     ]
    },
    {
     "name": "stderr",
     "output_type": "stream",
     "text": [
      "\r\n",
      "Collecting chart data from ph: 244it [06:40,  1.55s/it]"
     ]
    },
    {
     "name": "stdout",
     "output_type": "stream",
     "text": [
      "\n",
      "Date: 2017-09-02\n",
      "https://spotifycharts.com/regional/ph/daily/2017-09-02/download\n"
     ]
    },
    {
     "name": "stderr",
     "output_type": "stream",
     "text": [
      "\r\n",
      "Collecting chart data from ph: 245it [06:42,  1.54s/it]"
     ]
    },
    {
     "name": "stdout",
     "output_type": "stream",
     "text": [
      "\n",
      "Date: 2017-09-03\n",
      "https://spotifycharts.com/regional/ph/daily/2017-09-03/download\n"
     ]
    },
    {
     "name": "stderr",
     "output_type": "stream",
     "text": [
      "\r\n",
      "Collecting chart data from ph: 246it [06:43,  1.54s/it]"
     ]
    },
    {
     "name": "stdout",
     "output_type": "stream",
     "text": [
      "\n",
      "Date: 2017-09-04\n",
      "https://spotifycharts.com/regional/ph/daily/2017-09-04/download\n"
     ]
    },
    {
     "name": "stderr",
     "output_type": "stream",
     "text": [
      "\r\n",
      "Collecting chart data from ph: 247it [06:45,  1.57s/it]"
     ]
    },
    {
     "name": "stdout",
     "output_type": "stream",
     "text": [
      "\n",
      "Date: 2017-09-05\n",
      "https://spotifycharts.com/regional/ph/daily/2017-09-05/download\n"
     ]
    },
    {
     "name": "stderr",
     "output_type": "stream",
     "text": [
      "\r\n",
      "Collecting chart data from ph: 248it [06:47,  1.58s/it]"
     ]
    },
    {
     "name": "stdout",
     "output_type": "stream",
     "text": [
      "\n",
      "Date: 2017-09-06\n",
      "https://spotifycharts.com/regional/ph/daily/2017-09-06/download\n"
     ]
    },
    {
     "name": "stderr",
     "output_type": "stream",
     "text": [
      "\r\n",
      "Collecting chart data from ph: 249it [06:48,  1.59s/it]"
     ]
    },
    {
     "name": "stdout",
     "output_type": "stream",
     "text": [
      "\n",
      "Date: 2017-09-07\n",
      "https://spotifycharts.com/regional/ph/daily/2017-09-07/download\n"
     ]
    },
    {
     "name": "stderr",
     "output_type": "stream",
     "text": [
      "\r\n",
      "Collecting chart data from ph: 250it [06:50,  1.59s/it]"
     ]
    },
    {
     "name": "stdout",
     "output_type": "stream",
     "text": [
      "\n",
      "Date: 2017-09-08\n",
      "https://spotifycharts.com/regional/ph/daily/2017-09-08/download\n"
     ]
    },
    {
     "name": "stderr",
     "output_type": "stream",
     "text": [
      "\r\n",
      "Collecting chart data from ph: 251it [06:51,  1.42s/it]"
     ]
    },
    {
     "name": "stdout",
     "output_type": "stream",
     "text": [
      "\n",
      "Date: 2017-09-09\n",
      "https://spotifycharts.com/regional/ph/daily/2017-09-09/download\n"
     ]
    },
    {
     "name": "stderr",
     "output_type": "stream",
     "text": [
      "\r\n",
      "Collecting chart data from ph: 252it [06:52,  1.48s/it]"
     ]
    },
    {
     "name": "stdout",
     "output_type": "stream",
     "text": [
      "\n",
      "Date: 2017-09-10\n",
      "https://spotifycharts.com/regional/ph/daily/2017-09-10/download\n"
     ]
    },
    {
     "name": "stderr",
     "output_type": "stream",
     "text": [
      "\r\n",
      "Collecting chart data from ph: 253it [06:54,  1.52s/it]"
     ]
    },
    {
     "name": "stdout",
     "output_type": "stream",
     "text": [
      "\n",
      "Date: 2017-09-11\n",
      "https://spotifycharts.com/regional/ph/daily/2017-09-11/download\n"
     ]
    },
    {
     "name": "stderr",
     "output_type": "stream",
     "text": [
      "\r\n",
      "Collecting chart data from ph: 254it [06:56,  1.57s/it]"
     ]
    },
    {
     "name": "stdout",
     "output_type": "stream",
     "text": [
      "\n",
      "Date: 2017-09-12\n",
      "https://spotifycharts.com/regional/ph/daily/2017-09-12/download\n"
     ]
    },
    {
     "name": "stderr",
     "output_type": "stream",
     "text": [
      "\r\n",
      "Collecting chart data from ph: 255it [06:57,  1.59s/it]"
     ]
    },
    {
     "name": "stdout",
     "output_type": "stream",
     "text": [
      "\n",
      "Date: 2017-09-13\n",
      "https://spotifycharts.com/regional/ph/daily/2017-09-13/download\n"
     ]
    },
    {
     "name": "stderr",
     "output_type": "stream",
     "text": [
      "\r\n",
      "Collecting chart data from ph: 256it [06:59,  1.58s/it]"
     ]
    },
    {
     "name": "stdout",
     "output_type": "stream",
     "text": [
      "\n",
      "Date: 2017-09-14\n",
      "https://spotifycharts.com/regional/ph/daily/2017-09-14/download\n"
     ]
    },
    {
     "name": "stderr",
     "output_type": "stream",
     "text": [
      "\r\n",
      "Collecting chart data from ph: 257it [07:00,  1.44s/it]"
     ]
    },
    {
     "name": "stdout",
     "output_type": "stream",
     "text": [
      "\n",
      "Date: 2017-09-15\n",
      "https://spotifycharts.com/regional/ph/daily/2017-09-15/download\n"
     ]
    },
    {
     "name": "stderr",
     "output_type": "stream",
     "text": [
      "\r\n",
      "Collecting chart data from ph: 258it [07:02,  1.48s/it]"
     ]
    },
    {
     "name": "stdout",
     "output_type": "stream",
     "text": [
      "\n",
      "Date: 2017-09-16\n",
      "https://spotifycharts.com/regional/ph/daily/2017-09-16/download\n"
     ]
    },
    {
     "name": "stderr",
     "output_type": "stream",
     "text": [
      "\r\n",
      "Collecting chart data from ph: 259it [07:03,  1.51s/it]"
     ]
    },
    {
     "name": "stdout",
     "output_type": "stream",
     "text": [
      "\n",
      "Date: 2017-09-17\n",
      "https://spotifycharts.com/regional/ph/daily/2017-09-17/download\n"
     ]
    },
    {
     "name": "stderr",
     "output_type": "stream",
     "text": [
      "\r\n",
      "Collecting chart data from ph: 260it [07:05,  1.52s/it]"
     ]
    },
    {
     "name": "stdout",
     "output_type": "stream",
     "text": [
      "\n",
      "Date: 2017-09-18\n",
      "https://spotifycharts.com/regional/ph/daily/2017-09-18/download\n"
     ]
    },
    {
     "name": "stderr",
     "output_type": "stream",
     "text": [
      "\r\n",
      "Collecting chart data from ph: 261it [07:06,  1.39s/it]"
     ]
    },
    {
     "name": "stdout",
     "output_type": "stream",
     "text": [
      "\n",
      "Date: 2017-09-19\n",
      "https://spotifycharts.com/regional/ph/daily/2017-09-19/download\n"
     ]
    },
    {
     "name": "stderr",
     "output_type": "stream",
     "text": [
      "\r\n",
      "Collecting chart data from ph: 262it [07:07,  1.46s/it]"
     ]
    },
    {
     "name": "stdout",
     "output_type": "stream",
     "text": [
      "\n",
      "Date: 2017-09-20\n",
      "https://spotifycharts.com/regional/ph/daily/2017-09-20/download\n"
     ]
    },
    {
     "name": "stderr",
     "output_type": "stream",
     "text": [
      "\r\n",
      "Collecting chart data from ph: 263it [07:09,  1.47s/it]"
     ]
    },
    {
     "name": "stdout",
     "output_type": "stream",
     "text": [
      "\n",
      "Date: 2017-09-21\n",
      "https://spotifycharts.com/regional/ph/daily/2017-09-21/download\n"
     ]
    },
    {
     "name": "stderr",
     "output_type": "stream",
     "text": [
      "\r\n",
      "Collecting chart data from ph: 264it [07:10,  1.51s/it]"
     ]
    },
    {
     "name": "stdout",
     "output_type": "stream",
     "text": [
      "\n",
      "Date: 2017-09-22\n",
      "https://spotifycharts.com/regional/ph/daily/2017-09-22/download\n"
     ]
    },
    {
     "name": "stderr",
     "output_type": "stream",
     "text": [
      "\r\n",
      "Collecting chart data from ph: 265it [07:12,  1.52s/it]"
     ]
    },
    {
     "name": "stdout",
     "output_type": "stream",
     "text": [
      "\n",
      "Date: 2017-09-23\n",
      "https://spotifycharts.com/regional/ph/daily/2017-09-23/download\n"
     ]
    },
    {
     "name": "stderr",
     "output_type": "stream",
     "text": [
      "\r\n",
      "Collecting chart data from ph: 266it [07:14,  1.56s/it]"
     ]
    },
    {
     "name": "stdout",
     "output_type": "stream",
     "text": [
      "\n",
      "Date: 2017-09-24\n",
      "https://spotifycharts.com/regional/ph/daily/2017-09-24/download\n"
     ]
    },
    {
     "name": "stderr",
     "output_type": "stream",
     "text": [
      "\r\n",
      "Collecting chart data from ph: 267it [07:15,  1.59s/it]"
     ]
    },
    {
     "name": "stdout",
     "output_type": "stream",
     "text": [
      "\n",
      "Date: 2017-09-25\n",
      "https://spotifycharts.com/regional/ph/daily/2017-09-25/download\n"
     ]
    },
    {
     "name": "stderr",
     "output_type": "stream",
     "text": [
      "\r\n",
      "Collecting chart data from ph: 268it [07:17,  1.58s/it]"
     ]
    },
    {
     "name": "stdout",
     "output_type": "stream",
     "text": [
      "\n",
      "Date: 2017-09-26\n",
      "https://spotifycharts.com/regional/ph/daily/2017-09-26/download\n"
     ]
    },
    {
     "name": "stderr",
     "output_type": "stream",
     "text": [
      "\r\n",
      "Collecting chart data from ph: 269it [07:18,  1.57s/it]"
     ]
    },
    {
     "name": "stdout",
     "output_type": "stream",
     "text": [
      "\n",
      "Date: 2017-09-27\n",
      "https://spotifycharts.com/regional/ph/daily/2017-09-27/download\n"
     ]
    },
    {
     "name": "stderr",
     "output_type": "stream",
     "text": [
      "\r\n",
      "Collecting chart data from ph: 270it [07:20,  1.58s/it]"
     ]
    },
    {
     "name": "stdout",
     "output_type": "stream",
     "text": [
      "\n",
      "Date: 2017-09-28\n",
      "https://spotifycharts.com/regional/ph/daily/2017-09-28/download\n"
     ]
    },
    {
     "name": "stderr",
     "output_type": "stream",
     "text": [
      "\r\n",
      "Collecting chart data from ph: 271it [07:21,  1.41s/it]"
     ]
    },
    {
     "name": "stdout",
     "output_type": "stream",
     "text": [
      "\n",
      "Date: 2017-09-29\n",
      "https://spotifycharts.com/regional/ph/daily/2017-09-29/download\n"
     ]
    },
    {
     "name": "stderr",
     "output_type": "stream",
     "text": [
      "\r\n",
      "Collecting chart data from ph: 272it [07:23,  1.47s/it]"
     ]
    },
    {
     "name": "stdout",
     "output_type": "stream",
     "text": [
      "\n",
      "Date: 2017-09-30\n",
      "https://spotifycharts.com/regional/ph/daily/2017-09-30/download\n"
     ]
    },
    {
     "name": "stderr",
     "output_type": "stream",
     "text": [
      "\r\n",
      "Collecting chart data from ph: 273it [07:25,  1.70s/it]"
     ]
    },
    {
     "name": "stdout",
     "output_type": "stream",
     "text": [
      "\n",
      "Date: 2017-10-01\n",
      "https://spotifycharts.com/regional/ph/daily/2017-10-01/download\n"
     ]
    },
    {
     "name": "stderr",
     "output_type": "stream",
     "text": [
      "\r\n",
      "Collecting chart data from ph: 274it [07:27,  1.78s/it]"
     ]
    },
    {
     "name": "stdout",
     "output_type": "stream",
     "text": [
      "\n",
      "Date: 2017-10-02\n",
      "https://spotifycharts.com/regional/ph/daily/2017-10-02/download\n"
     ]
    },
    {
     "name": "stderr",
     "output_type": "stream",
     "text": [
      "\r\n",
      "Collecting chart data from ph: 275it [07:29,  1.74s/it]"
     ]
    },
    {
     "name": "stdout",
     "output_type": "stream",
     "text": [
      "\n",
      "Date: 2017-10-03\n",
      "https://spotifycharts.com/regional/ph/daily/2017-10-03/download\n",
      "Retrying for 'https://spotifycharts.com/regional/ph/daily/2017-10-03/download'\n"
     ]
    },
    {
     "name": "stderr",
     "output_type": "stream",
     "text": [
      "\r\n",
      "Collecting chart data from ph: 276it [07:33,  2.50s/it]"
     ]
    },
    {
     "name": "stdout",
     "output_type": "stream",
     "text": [
      "\n",
      "Date: 2017-10-04\n",
      "https://spotifycharts.com/regional/ph/daily/2017-10-04/download\n"
     ]
    },
    {
     "name": "stderr",
     "output_type": "stream",
     "text": [
      "\r\n",
      "Collecting chart data from ph: 277it [07:34,  2.07s/it]"
     ]
    },
    {
     "name": "stdout",
     "output_type": "stream",
     "text": [
      "\n",
      "Date: 2017-10-05\n",
      "https://spotifycharts.com/regional/ph/daily/2017-10-05/download\n"
     ]
    },
    {
     "name": "stderr",
     "output_type": "stream",
     "text": [
      "\r\n",
      "Collecting chart data from ph: 278it [07:36,  1.96s/it]"
     ]
    },
    {
     "name": "stdout",
     "output_type": "stream",
     "text": [
      "\n",
      "Date: 2017-10-06\n",
      "https://spotifycharts.com/regional/ph/daily/2017-10-06/download\n"
     ]
    },
    {
     "name": "stderr",
     "output_type": "stream",
     "text": [
      "\r\n",
      "Collecting chart data from ph: 279it [07:37,  1.68s/it]"
     ]
    },
    {
     "name": "stdout",
     "output_type": "stream",
     "text": [
      "\n",
      "Date: 2017-10-07\n",
      "https://spotifycharts.com/regional/ph/daily/2017-10-07/download\n"
     ]
    },
    {
     "name": "stderr",
     "output_type": "stream",
     "text": [
      "\r\n",
      "Collecting chart data from ph: 280it [07:38,  1.63s/it]"
     ]
    },
    {
     "name": "stdout",
     "output_type": "stream",
     "text": [
      "\n",
      "Date: 2017-10-08\n",
      "https://spotifycharts.com/regional/ph/daily/2017-10-08/download\n"
     ]
    },
    {
     "name": "stderr",
     "output_type": "stream",
     "text": [
      "\r\n",
      "Collecting chart data from ph: 281it [07:40,  1.67s/it]"
     ]
    },
    {
     "name": "stdout",
     "output_type": "stream",
     "text": [
      "\n",
      "Date: 2017-10-09\n",
      "https://spotifycharts.com/regional/ph/daily/2017-10-09/download\n"
     ]
    },
    {
     "name": "stderr",
     "output_type": "stream",
     "text": [
      "\r\n",
      "Collecting chart data from ph: 282it [07:42,  1.68s/it]"
     ]
    },
    {
     "name": "stdout",
     "output_type": "stream",
     "text": [
      "\n",
      "Date: 2017-10-10\n",
      "https://spotifycharts.com/regional/ph/daily/2017-10-10/download\n"
     ]
    },
    {
     "name": "stderr",
     "output_type": "stream",
     "text": [
      "\r\n",
      "Collecting chart data from ph: 283it [07:43,  1.69s/it]"
     ]
    },
    {
     "name": "stdout",
     "output_type": "stream",
     "text": [
      "\n",
      "Date: 2017-10-11\n",
      "https://spotifycharts.com/regional/ph/daily/2017-10-11/download\n"
     ]
    },
    {
     "name": "stderr",
     "output_type": "stream",
     "text": [
      "\r\n",
      "Collecting chart data from ph: 284it [07:45,  1.67s/it]"
     ]
    },
    {
     "name": "stdout",
     "output_type": "stream",
     "text": [
      "\n",
      "Date: 2017-10-12\n",
      "https://spotifycharts.com/regional/ph/daily/2017-10-12/download\n"
     ]
    },
    {
     "name": "stderr",
     "output_type": "stream",
     "text": [
      "\r\n",
      "Collecting chart data from ph: 285it [07:47,  1.67s/it]"
     ]
    },
    {
     "name": "stdout",
     "output_type": "stream",
     "text": [
      "\n",
      "Date: 2017-10-13\n",
      "https://spotifycharts.com/regional/ph/daily/2017-10-13/download\n"
     ]
    },
    {
     "name": "stderr",
     "output_type": "stream",
     "text": [
      "\r\n",
      "Collecting chart data from ph: 286it [07:48,  1.65s/it]"
     ]
    },
    {
     "name": "stdout",
     "output_type": "stream",
     "text": [
      "\n",
      "Date: 2017-10-14\n",
      "https://spotifycharts.com/regional/ph/daily/2017-10-14/download\n"
     ]
    },
    {
     "name": "stderr",
     "output_type": "stream",
     "text": [
      "\r\n",
      "Collecting chart data from ph: 287it [07:50,  1.60s/it]"
     ]
    },
    {
     "name": "stdout",
     "output_type": "stream",
     "text": [
      "\n",
      "Date: 2017-10-15\n",
      "https://spotifycharts.com/regional/ph/daily/2017-10-15/download\n"
     ]
    },
    {
     "name": "stderr",
     "output_type": "stream",
     "text": [
      "\r\n",
      "Collecting chart data from ph: 288it [07:51,  1.61s/it]"
     ]
    },
    {
     "name": "stdout",
     "output_type": "stream",
     "text": [
      "\n",
      "Date: 2017-10-16\n",
      "https://spotifycharts.com/regional/ph/daily/2017-10-16/download\n"
     ]
    },
    {
     "name": "stderr",
     "output_type": "stream",
     "text": [
      "\r\n",
      "Collecting chart data from ph: 289it [07:53,  1.62s/it]"
     ]
    },
    {
     "name": "stdout",
     "output_type": "stream",
     "text": [
      "\n",
      "Date: 2017-10-17\n",
      "https://spotifycharts.com/regional/ph/daily/2017-10-17/download\n"
     ]
    },
    {
     "name": "stderr",
     "output_type": "stream",
     "text": [
      "\r\n",
      "Collecting chart data from ph: 290it [07:55,  1.67s/it]"
     ]
    },
    {
     "name": "stdout",
     "output_type": "stream",
     "text": [
      "\n",
      "Date: 2017-10-18\n",
      "https://spotifycharts.com/regional/ph/daily/2017-10-18/download\n"
     ]
    },
    {
     "name": "stderr",
     "output_type": "stream",
     "text": [
      "\r\n",
      "Collecting chart data from ph: 291it [07:56,  1.64s/it]"
     ]
    },
    {
     "name": "stdout",
     "output_type": "stream",
     "text": [
      "\n",
      "Date: 2017-10-19\n",
      "https://spotifycharts.com/regional/ph/daily/2017-10-19/download\n"
     ]
    },
    {
     "name": "stderr",
     "output_type": "stream",
     "text": [
      "\r\n",
      "Collecting chart data from ph: 292it [07:58,  1.67s/it]"
     ]
    },
    {
     "name": "stdout",
     "output_type": "stream",
     "text": [
      "\n",
      "Date: 2017-10-20\n",
      "https://spotifycharts.com/regional/ph/daily/2017-10-20/download\n"
     ]
    },
    {
     "name": "stderr",
     "output_type": "stream",
     "text": [
      "\r\n",
      "Collecting chart data from ph: 293it [08:00,  1.65s/it]"
     ]
    },
    {
     "name": "stdout",
     "output_type": "stream",
     "text": [
      "\n",
      "Date: 2017-10-21\n",
      "https://spotifycharts.com/regional/ph/daily/2017-10-21/download\n"
     ]
    },
    {
     "name": "stderr",
     "output_type": "stream",
     "text": [
      "\r\n",
      "Collecting chart data from ph: 294it [08:01,  1.62s/it]"
     ]
    },
    {
     "name": "stdout",
     "output_type": "stream",
     "text": [
      "\n",
      "Date: 2017-10-22\n",
      "https://spotifycharts.com/regional/ph/daily/2017-10-22/download\n"
     ]
    },
    {
     "name": "stderr",
     "output_type": "stream",
     "text": [
      "\r\n",
      "Collecting chart data from ph: 295it [08:03,  1.63s/it]"
     ]
    },
    {
     "name": "stdout",
     "output_type": "stream",
     "text": [
      "\n",
      "Date: 2017-10-23\n",
      "https://spotifycharts.com/regional/ph/daily/2017-10-23/download\n"
     ]
    },
    {
     "name": "stderr",
     "output_type": "stream",
     "text": [
      "\r\n",
      "Collecting chart data from ph: 296it [08:05,  1.64s/it]"
     ]
    },
    {
     "name": "stdout",
     "output_type": "stream",
     "text": [
      "\n",
      "Date: 2017-10-24\n",
      "https://spotifycharts.com/regional/ph/daily/2017-10-24/download\n"
     ]
    },
    {
     "name": "stderr",
     "output_type": "stream",
     "text": [
      "\r\n",
      "Collecting chart data from ph: 297it [08:06,  1.62s/it]"
     ]
    },
    {
     "name": "stdout",
     "output_type": "stream",
     "text": [
      "\n",
      "Date: 2017-10-25\n",
      "https://spotifycharts.com/regional/ph/daily/2017-10-25/download\n"
     ]
    },
    {
     "name": "stderr",
     "output_type": "stream",
     "text": [
      "\r\n",
      "Collecting chart data from ph: 298it [08:08,  1.63s/it]"
     ]
    },
    {
     "name": "stdout",
     "output_type": "stream",
     "text": [
      "\n",
      "Date: 2017-10-26\n",
      "https://spotifycharts.com/regional/ph/daily/2017-10-26/download\n"
     ]
    },
    {
     "name": "stderr",
     "output_type": "stream",
     "text": [
      "\r\n",
      "Collecting chart data from ph: 299it [08:09,  1.62s/it]"
     ]
    },
    {
     "name": "stdout",
     "output_type": "stream",
     "text": [
      "\n",
      "Date: 2017-10-27\n",
      "https://spotifycharts.com/regional/ph/daily/2017-10-27/download\n"
     ]
    },
    {
     "name": "stderr",
     "output_type": "stream",
     "text": [
      "\r\n",
      "Collecting chart data from ph: 300it [08:10,  1.46s/it]"
     ]
    },
    {
     "name": "stdout",
     "output_type": "stream",
     "text": [
      "\n",
      "Date: 2017-10-28\n",
      "https://spotifycharts.com/regional/ph/daily/2017-10-28/download\n"
     ]
    },
    {
     "name": "stderr",
     "output_type": "stream",
     "text": [
      "\r\n",
      "Collecting chart data from ph: 301it [08:12,  1.54s/it]"
     ]
    },
    {
     "name": "stdout",
     "output_type": "stream",
     "text": [
      "\n",
      "Date: 2017-10-29\n",
      "https://spotifycharts.com/regional/ph/daily/2017-10-29/download\n"
     ]
    },
    {
     "name": "stderr",
     "output_type": "stream",
     "text": [
      "\r\n",
      "Collecting chart data from ph: 302it [08:13,  1.38s/it]"
     ]
    },
    {
     "name": "stdout",
     "output_type": "stream",
     "text": [
      "\n",
      "Date: 2017-10-30\n",
      "https://spotifycharts.com/regional/ph/daily/2017-10-30/download\n"
     ]
    },
    {
     "name": "stderr",
     "output_type": "stream",
     "text": [
      "\r\n",
      "Collecting chart data from ph: 303it [08:14,  1.29s/it]"
     ]
    },
    {
     "name": "stdout",
     "output_type": "stream",
     "text": [
      "\n",
      "Date: 2017-10-31\n",
      "https://spotifycharts.com/regional/ph/daily/2017-10-31/download\n"
     ]
    },
    {
     "name": "stderr",
     "output_type": "stream",
     "text": [
      "\r\n",
      "Collecting chart data from ph: 304it [08:16,  1.38s/it]"
     ]
    },
    {
     "name": "stdout",
     "output_type": "stream",
     "text": [
      "\n",
      "Date: 2017-11-01\n",
      "https://spotifycharts.com/regional/ph/daily/2017-11-01/download\n"
     ]
    },
    {
     "name": "stderr",
     "output_type": "stream",
     "text": [
      "\r\n",
      "Collecting chart data from ph: 305it [08:17,  1.28s/it]"
     ]
    },
    {
     "name": "stdout",
     "output_type": "stream",
     "text": [
      "\n",
      "Date: 2017-11-02\n",
      "https://spotifycharts.com/regional/ph/daily/2017-11-02/download\n"
     ]
    },
    {
     "name": "stderr",
     "output_type": "stream",
     "text": [
      "\r\n",
      "Collecting chart data from ph: 306it [08:18,  1.36s/it]"
     ]
    },
    {
     "name": "stdout",
     "output_type": "stream",
     "text": [
      "\n",
      "Date: 2017-11-03\n",
      "https://spotifycharts.com/regional/ph/daily/2017-11-03/download\n"
     ]
    },
    {
     "name": "stderr",
     "output_type": "stream",
     "text": [
      "\r\n",
      "Collecting chart data from ph: 307it [08:21,  1.58s/it]"
     ]
    },
    {
     "name": "stdout",
     "output_type": "stream",
     "text": [
      "\n",
      "Date: 2017-11-04\n",
      "https://spotifycharts.com/regional/ph/daily/2017-11-04/download\n"
     ]
    },
    {
     "name": "stderr",
     "output_type": "stream",
     "text": [
      "\r\n",
      "Collecting chart data from ph: 308it [08:22,  1.58s/it]"
     ]
    },
    {
     "name": "stdout",
     "output_type": "stream",
     "text": [
      "\n",
      "Date: 2017-11-05\n",
      "https://spotifycharts.com/regional/ph/daily/2017-11-05/download\n"
     ]
    },
    {
     "name": "stderr",
     "output_type": "stream",
     "text": [
      "\r\n",
      "Collecting chart data from ph: 309it [08:24,  1.58s/it]"
     ]
    },
    {
     "name": "stdout",
     "output_type": "stream",
     "text": [
      "\n",
      "Date: 2017-11-06\n",
      "https://spotifycharts.com/regional/ph/daily/2017-11-06/download\n"
     ]
    },
    {
     "name": "stderr",
     "output_type": "stream",
     "text": [
      "\r\n",
      "Collecting chart data from ph: 310it [08:25,  1.59s/it]"
     ]
    },
    {
     "name": "stdout",
     "output_type": "stream",
     "text": [
      "\n",
      "Date: 2017-11-07\n",
      "https://spotifycharts.com/regional/ph/daily/2017-11-07/download\n"
     ]
    },
    {
     "name": "stderr",
     "output_type": "stream",
     "text": [
      "\r\n",
      "Collecting chart data from ph: 311it [08:27,  1.61s/it]"
     ]
    },
    {
     "name": "stdout",
     "output_type": "stream",
     "text": [
      "\n",
      "Date: 2017-11-08\n",
      "https://spotifycharts.com/regional/ph/daily/2017-11-08/download\n"
     ]
    },
    {
     "name": "stderr",
     "output_type": "stream",
     "text": [
      "\r\n",
      "Collecting chart data from ph: 312it [08:28,  1.44s/it]"
     ]
    },
    {
     "name": "stdout",
     "output_type": "stream",
     "text": [
      "\n",
      "Date: 2017-11-09\n",
      "https://spotifycharts.com/regional/ph/daily/2017-11-09/download\n"
     ]
    },
    {
     "name": "stderr",
     "output_type": "stream",
     "text": [
      "\r\n",
      "Collecting chart data from ph: 313it [08:30,  1.54s/it]"
     ]
    },
    {
     "name": "stdout",
     "output_type": "stream",
     "text": [
      "\n",
      "Date: 2017-11-10\n",
      "https://spotifycharts.com/regional/ph/daily/2017-11-10/download\n"
     ]
    },
    {
     "name": "stderr",
     "output_type": "stream",
     "text": [
      "\r\n",
      "Collecting chart data from ph: 314it [08:31,  1.56s/it]"
     ]
    },
    {
     "name": "stdout",
     "output_type": "stream",
     "text": [
      "\n",
      "Date: 2017-11-11\n",
      "https://spotifycharts.com/regional/ph/daily/2017-11-11/download\n"
     ]
    },
    {
     "name": "stderr",
     "output_type": "stream",
     "text": [
      "\r\n",
      "Collecting chart data from ph: 315it [08:32,  1.40s/it]"
     ]
    },
    {
     "name": "stdout",
     "output_type": "stream",
     "text": [
      "\n",
      "Date: 2017-11-12\n",
      "https://spotifycharts.com/regional/ph/daily/2017-11-12/download\n"
     ]
    },
    {
     "name": "stderr",
     "output_type": "stream",
     "text": [
      "\r\n",
      "Collecting chart data from ph: 316it [08:34,  1.52s/it]"
     ]
    },
    {
     "name": "stdout",
     "output_type": "stream",
     "text": [
      "\n",
      "Date: 2017-11-13\n",
      "https://spotifycharts.com/regional/ph/daily/2017-11-13/download\n"
     ]
    },
    {
     "name": "stderr",
     "output_type": "stream",
     "text": [
      "\r\n",
      "Collecting chart data from ph: 317it [08:36,  1.60s/it]"
     ]
    },
    {
     "name": "stdout",
     "output_type": "stream",
     "text": [
      "\n",
      "Date: 2017-11-14\n",
      "https://spotifycharts.com/regional/ph/daily/2017-11-14/download\n"
     ]
    },
    {
     "name": "stderr",
     "output_type": "stream",
     "text": [
      "\r\n",
      "Collecting chart data from ph: 318it [08:38,  1.65s/it]"
     ]
    },
    {
     "name": "stdout",
     "output_type": "stream",
     "text": [
      "\n",
      "Date: 2017-11-15\n",
      "https://spotifycharts.com/regional/ph/daily/2017-11-15/download\n"
     ]
    },
    {
     "name": "stderr",
     "output_type": "stream",
     "text": [
      "\r\n",
      "Collecting chart data from ph: 319it [08:39,  1.64s/it]"
     ]
    },
    {
     "name": "stdout",
     "output_type": "stream",
     "text": [
      "\n",
      "Date: 2017-11-16\n",
      "https://spotifycharts.com/regional/ph/daily/2017-11-16/download\n"
     ]
    },
    {
     "name": "stderr",
     "output_type": "stream",
     "text": [
      "\r\n",
      "Collecting chart data from ph: 320it [08:40,  1.49s/it]"
     ]
    },
    {
     "name": "stdout",
     "output_type": "stream",
     "text": [
      "\n",
      "Date: 2017-11-17\n",
      "https://spotifycharts.com/regional/ph/daily/2017-11-17/download\n"
     ]
    },
    {
     "name": "stderr",
     "output_type": "stream",
     "text": [
      "\r\n",
      "Collecting chart data from ph: 321it [08:42,  1.56s/it]"
     ]
    },
    {
     "name": "stdout",
     "output_type": "stream",
     "text": [
      "\n",
      "Date: 2017-11-18\n",
      "https://spotifycharts.com/regional/ph/daily/2017-11-18/download\n"
     ]
    },
    {
     "name": "stderr",
     "output_type": "stream",
     "text": [
      "\r\n",
      "Collecting chart data from ph: 322it [08:44,  1.55s/it]"
     ]
    },
    {
     "name": "stdout",
     "output_type": "stream",
     "text": [
      "\n",
      "Date: 2017-11-19\n",
      "https://spotifycharts.com/regional/ph/daily/2017-11-19/download\n"
     ]
    },
    {
     "name": "stderr",
     "output_type": "stream",
     "text": [
      "\r\n",
      "Collecting chart data from ph: 323it [08:45,  1.60s/it]"
     ]
    },
    {
     "name": "stdout",
     "output_type": "stream",
     "text": [
      "\n",
      "Date: 2017-11-20\n",
      "https://spotifycharts.com/regional/ph/daily/2017-11-20/download\n"
     ]
    },
    {
     "name": "stderr",
     "output_type": "stream",
     "text": [
      "\r\n",
      "Collecting chart data from ph: 324it [08:47,  1.62s/it]"
     ]
    },
    {
     "name": "stdout",
     "output_type": "stream",
     "text": [
      "\n",
      "Date: 2017-11-21\n",
      "https://spotifycharts.com/regional/ph/daily/2017-11-21/download\n"
     ]
    },
    {
     "name": "stderr",
     "output_type": "stream",
     "text": [
      "\r\n",
      "Collecting chart data from ph: 325it [08:49,  1.62s/it]"
     ]
    },
    {
     "name": "stdout",
     "output_type": "stream",
     "text": [
      "\n",
      "Date: 2017-11-22\n",
      "https://spotifycharts.com/regional/ph/daily/2017-11-22/download\n"
     ]
    },
    {
     "name": "stderr",
     "output_type": "stream",
     "text": [
      "\r\n",
      "Collecting chart data from ph: 326it [08:50,  1.65s/it]"
     ]
    },
    {
     "name": "stdout",
     "output_type": "stream",
     "text": [
      "\n",
      "Date: 2017-11-23\n",
      "https://spotifycharts.com/regional/ph/daily/2017-11-23/download\n"
     ]
    },
    {
     "name": "stderr",
     "output_type": "stream",
     "text": [
      "\r\n",
      "Collecting chart data from ph: 327it [08:52,  1.63s/it]"
     ]
    },
    {
     "name": "stdout",
     "output_type": "stream",
     "text": [
      "\n",
      "Date: 2017-11-24\n",
      "https://spotifycharts.com/regional/ph/daily/2017-11-24/download\n"
     ]
    },
    {
     "name": "stderr",
     "output_type": "stream",
     "text": [
      "\r\n",
      "Collecting chart data from ph: 328it [08:54,  1.65s/it]"
     ]
    },
    {
     "name": "stdout",
     "output_type": "stream",
     "text": [
      "\n",
      "Date: 2017-11-25\n",
      "https://spotifycharts.com/regional/ph/daily/2017-11-25/download\n"
     ]
    },
    {
     "name": "stderr",
     "output_type": "stream",
     "text": [
      "\r\n",
      "Collecting chart data from ph: 329it [08:56,  1.72s/it]"
     ]
    },
    {
     "name": "stdout",
     "output_type": "stream",
     "text": [
      "\n",
      "Date: 2017-11-26\n",
      "https://spotifycharts.com/regional/ph/daily/2017-11-26/download\n"
     ]
    },
    {
     "name": "stderr",
     "output_type": "stream",
     "text": [
      "\r\n",
      "Collecting chart data from ph: 330it [08:57,  1.72s/it]"
     ]
    },
    {
     "name": "stdout",
     "output_type": "stream",
     "text": [
      "\n",
      "Date: 2017-11-27\n",
      "https://spotifycharts.com/regional/ph/daily/2017-11-27/download\n"
     ]
    },
    {
     "name": "stderr",
     "output_type": "stream",
     "text": [
      "\r\n",
      "Collecting chart data from ph: 331it [08:59,  1.68s/it]"
     ]
    },
    {
     "name": "stdout",
     "output_type": "stream",
     "text": [
      "\n",
      "Date: 2017-11-28\n",
      "https://spotifycharts.com/regional/ph/daily/2017-11-28/download\n"
     ]
    },
    {
     "name": "stderr",
     "output_type": "stream",
     "text": [
      "\r\n",
      "Collecting chart data from ph: 332it [09:00,  1.49s/it]"
     ]
    },
    {
     "name": "stdout",
     "output_type": "stream",
     "text": [
      "\n",
      "Date: 2017-11-29\n",
      "https://spotifycharts.com/regional/ph/daily/2017-11-29/download\n"
     ]
    },
    {
     "name": "stderr",
     "output_type": "stream",
     "text": [
      "\r\n",
      "Collecting chart data from ph: 333it [09:02,  1.61s/it]"
     ]
    },
    {
     "name": "stdout",
     "output_type": "stream",
     "text": [
      "\n",
      "Date: 2017-11-30\n",
      "https://spotifycharts.com/regional/ph/daily/2017-11-30/download\n"
     ]
    },
    {
     "name": "stderr",
     "output_type": "stream",
     "text": [
      "\r\n",
      "Collecting chart data from ph: 334it [09:04,  1.62s/it]"
     ]
    },
    {
     "name": "stdout",
     "output_type": "stream",
     "text": [
      "\n",
      "Date: 2017-12-01\n",
      "https://spotifycharts.com/regional/ph/daily/2017-12-01/download\n"
     ]
    },
    {
     "name": "stderr",
     "output_type": "stream",
     "text": [
      "\r\n",
      "Collecting chart data from ph: 335it [09:05,  1.66s/it]"
     ]
    },
    {
     "name": "stdout",
     "output_type": "stream",
     "text": [
      "\n",
      "Date: 2017-12-02\n",
      "https://spotifycharts.com/regional/ph/daily/2017-12-02/download\n"
     ]
    },
    {
     "name": "stderr",
     "output_type": "stream",
     "text": [
      "\r\n",
      "Collecting chart data from ph: 336it [09:06,  1.51s/it]"
     ]
    },
    {
     "name": "stdout",
     "output_type": "stream",
     "text": [
      "\n",
      "Date: 2017-12-03\n",
      "https://spotifycharts.com/regional/ph/daily/2017-12-03/download\n"
     ]
    },
    {
     "name": "stderr",
     "output_type": "stream",
     "text": [
      "\r\n",
      "Collecting chart data from ph: 337it [09:08,  1.55s/it]"
     ]
    },
    {
     "name": "stdout",
     "output_type": "stream",
     "text": [
      "\n",
      "Date: 2017-12-04\n",
      "https://spotifycharts.com/regional/ph/daily/2017-12-04/download\n"
     ]
    },
    {
     "name": "stderr",
     "output_type": "stream",
     "text": [
      "\r\n",
      "Collecting chart data from ph: 338it [09:10,  1.57s/it]"
     ]
    },
    {
     "name": "stdout",
     "output_type": "stream",
     "text": [
      "\n",
      "Date: 2017-12-05\n",
      "https://spotifycharts.com/regional/ph/daily/2017-12-05/download\n"
     ]
    },
    {
     "name": "stderr",
     "output_type": "stream",
     "text": [
      "\r\n",
      "Collecting chart data from ph: 339it [09:11,  1.58s/it]"
     ]
    },
    {
     "name": "stdout",
     "output_type": "stream",
     "text": [
      "\n",
      "Date: 2017-12-06\n",
      "https://spotifycharts.com/regional/ph/daily/2017-12-06/download\n"
     ]
    },
    {
     "name": "stderr",
     "output_type": "stream",
     "text": [
      "\r\n",
      "Collecting chart data from ph: 340it [09:12,  1.43s/it]"
     ]
    },
    {
     "name": "stdout",
     "output_type": "stream",
     "text": [
      "\n",
      "Date: 2017-12-07\n",
      "https://spotifycharts.com/regional/ph/daily/2017-12-07/download\n"
     ]
    },
    {
     "name": "stderr",
     "output_type": "stream",
     "text": [
      "\r\n",
      "Collecting chart data from ph: 341it [09:14,  1.50s/it]"
     ]
    },
    {
     "name": "stdout",
     "output_type": "stream",
     "text": [
      "\n",
      "Date: 2017-12-08\n",
      "https://spotifycharts.com/regional/ph/daily/2017-12-08/download\n"
     ]
    },
    {
     "name": "stderr",
     "output_type": "stream",
     "text": [
      "\r\n",
      "Collecting chart data from ph: 342it [09:16,  1.52s/it]"
     ]
    },
    {
     "name": "stdout",
     "output_type": "stream",
     "text": [
      "\n",
      "Date: 2017-12-09\n",
      "https://spotifycharts.com/regional/ph/daily/2017-12-09/download\n"
     ]
    },
    {
     "name": "stderr",
     "output_type": "stream",
     "text": [
      "\r\n",
      "Collecting chart data from ph: 343it [09:17,  1.60s/it]"
     ]
    },
    {
     "name": "stdout",
     "output_type": "stream",
     "text": [
      "\n",
      "Date: 2017-12-10\n",
      "https://spotifycharts.com/regional/ph/daily/2017-12-10/download\n"
     ]
    },
    {
     "name": "stderr",
     "output_type": "stream",
     "text": [
      "\r\n",
      "Collecting chart data from ph: 344it [09:19,  1.68s/it]"
     ]
    },
    {
     "name": "stdout",
     "output_type": "stream",
     "text": [
      "\n",
      "Date: 2017-12-11\n",
      "https://spotifycharts.com/regional/ph/daily/2017-12-11/download\n"
     ]
    },
    {
     "name": "stderr",
     "output_type": "stream",
     "text": [
      "\r\n",
      "Collecting chart data from ph: 345it [09:21,  1.66s/it]"
     ]
    },
    {
     "name": "stdout",
     "output_type": "stream",
     "text": [
      "\n",
      "Date: 2017-12-12\n",
      "https://spotifycharts.com/regional/ph/daily/2017-12-12/download\n"
     ]
    },
    {
     "name": "stderr",
     "output_type": "stream",
     "text": [
      "\r\n",
      "Collecting chart data from ph: 346it [09:23,  1.73s/it]"
     ]
    },
    {
     "name": "stdout",
     "output_type": "stream",
     "text": [
      "\n",
      "Date: 2017-12-13\n",
      "https://spotifycharts.com/regional/ph/daily/2017-12-13/download\n"
     ]
    },
    {
     "name": "stderr",
     "output_type": "stream",
     "text": [
      "\r\n",
      "Collecting chart data from ph: 347it [09:24,  1.70s/it]"
     ]
    },
    {
     "name": "stdout",
     "output_type": "stream",
     "text": [
      "\n",
      "Date: 2017-12-14\n",
      "https://spotifycharts.com/regional/ph/daily/2017-12-14/download\n"
     ]
    },
    {
     "name": "stderr",
     "output_type": "stream",
     "text": [
      "\r\n",
      "Collecting chart data from ph: 348it [09:26,  1.73s/it]"
     ]
    },
    {
     "name": "stdout",
     "output_type": "stream",
     "text": [
      "\n",
      "Date: 2017-12-15\n",
      "https://spotifycharts.com/regional/ph/daily/2017-12-15/download\n"
     ]
    },
    {
     "name": "stderr",
     "output_type": "stream",
     "text": [
      "\r\n",
      "Collecting chart data from ph: 349it [09:28,  1.71s/it]"
     ]
    },
    {
     "name": "stdout",
     "output_type": "stream",
     "text": [
      "\n",
      "Date: 2017-12-16\n",
      "https://spotifycharts.com/regional/ph/daily/2017-12-16/download\n"
     ]
    },
    {
     "name": "stderr",
     "output_type": "stream",
     "text": [
      "\r\n",
      "Collecting chart data from ph: 350it [09:29,  1.67s/it]"
     ]
    },
    {
     "name": "stdout",
     "output_type": "stream",
     "text": [
      "\n",
      "Date: 2017-12-17\n",
      "https://spotifycharts.com/regional/ph/daily/2017-12-17/download\n"
     ]
    },
    {
     "name": "stderr",
     "output_type": "stream",
     "text": [
      "\r\n",
      "Collecting chart data from ph: 351it [09:31,  1.75s/it]"
     ]
    },
    {
     "name": "stdout",
     "output_type": "stream",
     "text": [
      "\n",
      "Date: 2017-12-18\n",
      "https://spotifycharts.com/regional/ph/daily/2017-12-18/download\n"
     ]
    },
    {
     "name": "stderr",
     "output_type": "stream",
     "text": [
      "\r\n",
      "Collecting chart data from ph: 352it [09:33,  1.70s/it]"
     ]
    },
    {
     "name": "stdout",
     "output_type": "stream",
     "text": [
      "\n",
      "Date: 2017-12-19\n",
      "https://spotifycharts.com/regional/ph/daily/2017-12-19/download\n"
     ]
    },
    {
     "name": "stderr",
     "output_type": "stream",
     "text": [
      "\r\n",
      "Collecting chart data from ph: 353it [09:35,  1.68s/it]"
     ]
    },
    {
     "name": "stdout",
     "output_type": "stream",
     "text": [
      "\n",
      "Date: 2017-12-20\n",
      "https://spotifycharts.com/regional/ph/daily/2017-12-20/download\n"
     ]
    },
    {
     "name": "stderr",
     "output_type": "stream",
     "text": [
      "\r\n",
      "Collecting chart data from ph: 354it [09:36,  1.67s/it]"
     ]
    },
    {
     "name": "stdout",
     "output_type": "stream",
     "text": [
      "\n",
      "Date: 2017-12-21\n",
      "https://spotifycharts.com/regional/ph/daily/2017-12-21/download\n"
     ]
    },
    {
     "name": "stderr",
     "output_type": "stream",
     "text": [
      "\r\n",
      "Collecting chart data from ph: 355it [09:38,  1.77s/it]"
     ]
    },
    {
     "name": "stdout",
     "output_type": "stream",
     "text": [
      "\n",
      "Date: 2017-12-22\n",
      "https://spotifycharts.com/regional/ph/daily/2017-12-22/download\n"
     ]
    },
    {
     "name": "stderr",
     "output_type": "stream",
     "text": [
      "\r\n",
      "Collecting chart data from ph: 356it [09:39,  1.56s/it]"
     ]
    },
    {
     "name": "stdout",
     "output_type": "stream",
     "text": [
      "\n",
      "Date: 2017-12-23\n",
      "https://spotifycharts.com/regional/ph/daily/2017-12-23/download\n"
     ]
    },
    {
     "name": "stderr",
     "output_type": "stream",
     "text": [
      "\r\n",
      "Collecting chart data from ph: 357it [09:41,  1.46s/it]"
     ]
    },
    {
     "name": "stdout",
     "output_type": "stream",
     "text": [
      "\n",
      "Date: 2017-12-24\n",
      "https://spotifycharts.com/regional/ph/daily/2017-12-24/download\n"
     ]
    },
    {
     "name": "stderr",
     "output_type": "stream",
     "text": [
      "\r\n",
      "Collecting chart data from ph: 358it [09:42,  1.37s/it]"
     ]
    },
    {
     "name": "stdout",
     "output_type": "stream",
     "text": [
      "\n",
      "Date: 2017-12-25\n",
      "https://spotifycharts.com/regional/ph/daily/2017-12-25/download\n"
     ]
    },
    {
     "name": "stderr",
     "output_type": "stream",
     "text": [
      "\r\n",
      "Collecting chart data from ph: 359it [09:43,  1.48s/it]"
     ]
    },
    {
     "name": "stdout",
     "output_type": "stream",
     "text": [
      "\n",
      "Date: 2017-12-26\n",
      "https://spotifycharts.com/regional/ph/daily/2017-12-26/download\n"
     ]
    },
    {
     "name": "stderr",
     "output_type": "stream",
     "text": [
      "\r\n",
      "Collecting chart data from ph: 360it [09:45,  1.51s/it]"
     ]
    },
    {
     "name": "stdout",
     "output_type": "stream",
     "text": [
      "\n",
      "Date: 2017-12-27\n",
      "https://spotifycharts.com/regional/ph/daily/2017-12-27/download\n"
     ]
    },
    {
     "name": "stderr",
     "output_type": "stream",
     "text": [
      "\r\n",
      "Collecting chart data from ph: 361it [09:47,  1.58s/it]"
     ]
    },
    {
     "name": "stdout",
     "output_type": "stream",
     "text": [
      "\n",
      "Date: 2017-12-28\n",
      "https://spotifycharts.com/regional/ph/daily/2017-12-28/download\n"
     ]
    },
    {
     "name": "stderr",
     "output_type": "stream",
     "text": [
      "\r\n",
      "Collecting chart data from ph: 362it [09:48,  1.42s/it]"
     ]
    },
    {
     "name": "stdout",
     "output_type": "stream",
     "text": [
      "\n",
      "Date: 2017-12-29\n",
      "https://spotifycharts.com/regional/ph/daily/2017-12-29/download\n"
     ]
    },
    {
     "name": "stderr",
     "output_type": "stream",
     "text": [
      "\r\n",
      "Collecting chart data from ph: 363it [09:49,  1.49s/it]"
     ]
    },
    {
     "name": "stdout",
     "output_type": "stream",
     "text": [
      "\n",
      "Date: 2017-12-30\n",
      "https://spotifycharts.com/regional/ph/daily/2017-12-30/download\n"
     ]
    },
    {
     "name": "stderr",
     "output_type": "stream",
     "text": [
      "\r\n",
      "Collecting chart data from ph: 364it [09:52,  1.72s/it]"
     ]
    },
    {
     "name": "stdout",
     "output_type": "stream",
     "text": [
      "\n",
      "Date: 2017-12-31\n",
      "https://spotifycharts.com/regional/ph/daily/2017-12-31/download\n"
     ]
    },
    {
     "name": "stderr",
     "output_type": "stream",
     "text": [
      "\r\n",
      "Collecting chart data from ph: 365it [09:53,  1.72s/it]"
     ]
    },
    {
     "name": "stdout",
     "output_type": "stream",
     "text": [
      "\n",
      "Date: 2018-01-01\n",
      "https://spotifycharts.com/regional/ph/daily/2018-01-01/download\n"
     ]
    },
    {
     "name": "stderr",
     "output_type": "stream",
     "text": [
      "\r\n",
      "Collecting chart data from ph: 366it [09:55,  1.70s/it]"
     ]
    },
    {
     "name": "stdout",
     "output_type": "stream",
     "text": [
      "\n",
      "Date: 2018-01-02\n",
      "https://spotifycharts.com/regional/ph/daily/2018-01-02/download\n"
     ]
    },
    {
     "name": "stderr",
     "output_type": "stream",
     "text": [
      "\r\n",
      "Collecting chart data from ph: 367it [09:57,  1.68s/it]"
     ]
    },
    {
     "name": "stdout",
     "output_type": "stream",
     "text": [
      "\n",
      "Date: 2018-01-03\n",
      "https://spotifycharts.com/regional/ph/daily/2018-01-03/download\n"
     ]
    },
    {
     "name": "stderr",
     "output_type": "stream",
     "text": [
      "\r\n",
      "Collecting chart data from ph: 368it [09:58,  1.68s/it]"
     ]
    },
    {
     "name": "stdout",
     "output_type": "stream",
     "text": [
      "\n",
      "Date: 2018-01-04\n",
      "https://spotifycharts.com/regional/ph/daily/2018-01-04/download\n"
     ]
    },
    {
     "name": "stderr",
     "output_type": "stream",
     "text": [
      "\r\n",
      "Collecting chart data from ph: 369it [10:00,  1.55s/it]"
     ]
    },
    {
     "name": "stdout",
     "output_type": "stream",
     "text": [
      "\n",
      "Date: 2018-01-05\n",
      "https://spotifycharts.com/regional/ph/daily/2018-01-05/download\n"
     ]
    },
    {
     "name": "stderr",
     "output_type": "stream",
     "text": [
      "\r\n",
      "Collecting chart data from ph: 370it [10:01,  1.57s/it]"
     ]
    },
    {
     "name": "stdout",
     "output_type": "stream",
     "text": [
      "\n",
      "Date: 2018-01-06\n",
      "https://spotifycharts.com/regional/ph/daily/2018-01-06/download\n"
     ]
    },
    {
     "name": "stderr",
     "output_type": "stream",
     "text": [
      "\r\n",
      "Collecting chart data from ph: 371it [10:04,  1.79s/it]"
     ]
    },
    {
     "name": "stdout",
     "output_type": "stream",
     "text": [
      "\n",
      "Date: 2018-01-07\n",
      "https://spotifycharts.com/regional/ph/daily/2018-01-07/download\n"
     ]
    },
    {
     "name": "stderr",
     "output_type": "stream",
     "text": [
      "\r\n",
      "Collecting chart data from ph: 372it [10:05,  1.76s/it]"
     ]
    },
    {
     "name": "stdout",
     "output_type": "stream",
     "text": [
      "\n",
      "Date: 2018-01-08\n",
      "https://spotifycharts.com/regional/ph/daily/2018-01-08/download\n"
     ]
    },
    {
     "name": "stderr",
     "output_type": "stream",
     "text": [
      "\r\n",
      "Collecting chart data from ph: 373it [10:07,  1.76s/it]"
     ]
    },
    {
     "name": "stdout",
     "output_type": "stream",
     "text": [
      "\n",
      "Date: 2018-01-09\n",
      "https://spotifycharts.com/regional/ph/daily/2018-01-09/download\n"
     ]
    },
    {
     "name": "stderr",
     "output_type": "stream",
     "text": [
      "\r\n",
      "Collecting chart data from ph: 374it [10:09,  1.94s/it]"
     ]
    },
    {
     "name": "stdout",
     "output_type": "stream",
     "text": [
      "\n",
      "Date: 2018-01-10\n",
      "https://spotifycharts.com/regional/ph/daily/2018-01-10/download\n"
     ]
    },
    {
     "name": "stderr",
     "output_type": "stream",
     "text": [
      "\r\n",
      "Collecting chart data from ph: 375it [10:11,  1.85s/it]"
     ]
    },
    {
     "name": "stdout",
     "output_type": "stream",
     "text": [
      "\n",
      "Date: 2018-01-11\n",
      "https://spotifycharts.com/regional/ph/daily/2018-01-11/download\n"
     ]
    },
    {
     "name": "stderr",
     "output_type": "stream",
     "text": [
      "\r\n",
      "Collecting chart data from ph: 376it [10:13,  1.83s/it]"
     ]
    },
    {
     "name": "stdout",
     "output_type": "stream",
     "text": [
      "\n",
      "Date: 2018-01-12\n",
      "https://spotifycharts.com/regional/ph/daily/2018-01-12/download\n"
     ]
    },
    {
     "name": "stderr",
     "output_type": "stream",
     "text": [
      "\r\n",
      "Collecting chart data from ph: 377it [10:15,  1.81s/it]"
     ]
    },
    {
     "name": "stdout",
     "output_type": "stream",
     "text": [
      "\n",
      "Date: 2018-01-13\n",
      "https://spotifycharts.com/regional/ph/daily/2018-01-13/download\n"
     ]
    },
    {
     "name": "stderr",
     "output_type": "stream",
     "text": [
      "\r\n",
      "Collecting chart data from ph: 378it [10:16,  1.83s/it]"
     ]
    },
    {
     "name": "stdout",
     "output_type": "stream",
     "text": [
      "\n",
      "Date: 2018-01-14\n",
      "https://spotifycharts.com/regional/ph/daily/2018-01-14/download\n"
     ]
    },
    {
     "name": "stderr",
     "output_type": "stream",
     "text": [
      "\r\n",
      "Collecting chart data from ph: 379it [10:18,  1.79s/it]"
     ]
    },
    {
     "name": "stdout",
     "output_type": "stream",
     "text": [
      "\n",
      "Date: 2018-01-15\n",
      "https://spotifycharts.com/regional/ph/daily/2018-01-15/download\n"
     ]
    },
    {
     "name": "stderr",
     "output_type": "stream",
     "text": [
      "\r\n",
      "Collecting chart data from ph: 380it [10:20,  1.74s/it]"
     ]
    },
    {
     "name": "stdout",
     "output_type": "stream",
     "text": [
      "\n",
      "Date: 2018-01-16\n",
      "https://spotifycharts.com/regional/ph/daily/2018-01-16/download\n"
     ]
    },
    {
     "name": "stderr",
     "output_type": "stream",
     "text": [
      "\r\n",
      "Collecting chart data from ph: 381it [10:22,  1.76s/it]"
     ]
    },
    {
     "name": "stdout",
     "output_type": "stream",
     "text": [
      "\n",
      "Date: 2018-01-17\n",
      "https://spotifycharts.com/regional/ph/daily/2018-01-17/download\n"
     ]
    },
    {
     "name": "stderr",
     "output_type": "stream",
     "text": [
      "\r\n",
      "Collecting chart data from ph: 382it [10:23,  1.73s/it]"
     ]
    },
    {
     "name": "stdout",
     "output_type": "stream",
     "text": [
      "\n",
      "Date: 2018-01-18\n",
      "https://spotifycharts.com/regional/ph/daily/2018-01-18/download\n"
     ]
    },
    {
     "name": "stderr",
     "output_type": "stream",
     "text": [
      "\r\n",
      "Collecting chart data from ph: 383it [10:25,  1.70s/it]"
     ]
    },
    {
     "name": "stdout",
     "output_type": "stream",
     "text": [
      "\n",
      "Date: 2018-01-19\n",
      "https://spotifycharts.com/regional/ph/daily/2018-01-19/download\n"
     ]
    },
    {
     "name": "stderr",
     "output_type": "stream",
     "text": [
      "\r\n",
      "Collecting chart data from ph: 384it [10:27,  1.70s/it]"
     ]
    },
    {
     "name": "stdout",
     "output_type": "stream",
     "text": [
      "\n",
      "Date: 2018-01-20\n",
      "https://spotifycharts.com/regional/ph/daily/2018-01-20/download\n"
     ]
    },
    {
     "name": "stderr",
     "output_type": "stream",
     "text": [
      "\r\n",
      "Collecting chart data from ph: 385it [10:28,  1.73s/it]"
     ]
    },
    {
     "name": "stdout",
     "output_type": "stream",
     "text": [
      "\n",
      "Date: 2018-01-21\n",
      "https://spotifycharts.com/regional/ph/daily/2018-01-21/download\n"
     ]
    },
    {
     "name": "stderr",
     "output_type": "stream",
     "text": [
      "\r\n",
      "Collecting chart data from ph: 386it [10:30,  1.74s/it]"
     ]
    },
    {
     "name": "stdout",
     "output_type": "stream",
     "text": [
      "\n",
      "Date: 2018-01-22\n",
      "https://spotifycharts.com/regional/ph/daily/2018-01-22/download\n"
     ]
    },
    {
     "name": "stderr",
     "output_type": "stream",
     "text": [
      "\r\n",
      "Collecting chart data from ph: 387it [10:32,  1.72s/it]"
     ]
    },
    {
     "name": "stdout",
     "output_type": "stream",
     "text": [
      "\n",
      "Date: 2018-01-23\n",
      "https://spotifycharts.com/regional/ph/daily/2018-01-23/download\n"
     ]
    },
    {
     "name": "stderr",
     "output_type": "stream",
     "text": [
      "\r\n",
      "Collecting chart data from ph: 388it [10:33,  1.71s/it]"
     ]
    },
    {
     "name": "stdout",
     "output_type": "stream",
     "text": [
      "\n",
      "Date: 2018-01-24\n",
      "https://spotifycharts.com/regional/ph/daily/2018-01-24/download\n"
     ]
    },
    {
     "name": "stderr",
     "output_type": "stream",
     "text": [
      "\r\n",
      "Collecting chart data from ph: 389it [10:35,  1.77s/it]"
     ]
    },
    {
     "name": "stdout",
     "output_type": "stream",
     "text": [
      "\n",
      "Date: 2018-01-25\n",
      "https://spotifycharts.com/regional/ph/daily/2018-01-25/download\n"
     ]
    },
    {
     "name": "stderr",
     "output_type": "stream",
     "text": [
      "\r\n",
      "Collecting chart data from ph: 390it [10:37,  1.78s/it]"
     ]
    },
    {
     "name": "stdout",
     "output_type": "stream",
     "text": [
      "\n",
      "Date: 2018-01-26\n",
      "https://spotifycharts.com/regional/ph/daily/2018-01-26/download\n"
     ]
    },
    {
     "name": "stderr",
     "output_type": "stream",
     "text": [
      "\r\n",
      "Collecting chart data from ph: 391it [10:39,  1.78s/it]"
     ]
    },
    {
     "name": "stdout",
     "output_type": "stream",
     "text": [
      "\n",
      "Date: 2018-01-27\n",
      "https://spotifycharts.com/regional/ph/daily/2018-01-27/download\n"
     ]
    },
    {
     "name": "stderr",
     "output_type": "stream",
     "text": [
      "\r\n",
      "Collecting chart data from ph: 392it [10:41,  1.79s/it]"
     ]
    },
    {
     "name": "stdout",
     "output_type": "stream",
     "text": [
      "\n",
      "Date: 2018-01-28\n",
      "https://spotifycharts.com/regional/ph/daily/2018-01-28/download\n"
     ]
    },
    {
     "name": "stderr",
     "output_type": "stream",
     "text": [
      "\r\n",
      "Collecting chart data from ph: 393it [10:42,  1.73s/it]"
     ]
    },
    {
     "name": "stdout",
     "output_type": "stream",
     "text": [
      "\n",
      "Date: 2018-01-29\n",
      "https://spotifycharts.com/regional/ph/daily/2018-01-29/download\n"
     ]
    },
    {
     "name": "stderr",
     "output_type": "stream",
     "text": [
      "\r\n",
      "Collecting chart data from ph: 394it [10:44,  1.69s/it]"
     ]
    },
    {
     "name": "stdout",
     "output_type": "stream",
     "text": [
      "\n",
      "Date: 2018-01-30\n",
      "https://spotifycharts.com/regional/ph/daily/2018-01-30/download\n"
     ]
    },
    {
     "name": "stderr",
     "output_type": "stream",
     "text": [
      "\r\n",
      "Collecting chart data from ph: 395it [10:45,  1.61s/it]"
     ]
    },
    {
     "name": "stdout",
     "output_type": "stream",
     "text": [
      "\n",
      "Date: 2018-01-31\n",
      "https://spotifycharts.com/regional/ph/daily/2018-01-31/download\n"
     ]
    },
    {
     "name": "stderr",
     "output_type": "stream",
     "text": [
      "\r\n",
      "Collecting chart data from ph: 396it [10:48,  1.82s/it]"
     ]
    },
    {
     "name": "stdout",
     "output_type": "stream",
     "text": [
      "\n",
      "Date: 2018-02-01\n",
      "https://spotifycharts.com/regional/ph/daily/2018-02-01/download\n"
     ]
    },
    {
     "name": "stderr",
     "output_type": "stream",
     "text": [
      "\r\n",
      "Collecting chart data from ph: 397it [10:49,  1.80s/it]"
     ]
    },
    {
     "name": "stdout",
     "output_type": "stream",
     "text": [
      "\n",
      "Date: 2018-02-02\n",
      "https://spotifycharts.com/regional/ph/daily/2018-02-02/download\n"
     ]
    },
    {
     "name": "stderr",
     "output_type": "stream",
     "text": [
      "\r\n",
      "Collecting chart data from ph: 398it [10:51,  1.83s/it]"
     ]
    },
    {
     "name": "stdout",
     "output_type": "stream",
     "text": [
      "\n",
      "Date: 2018-02-03\n",
      "https://spotifycharts.com/regional/ph/daily/2018-02-03/download\n"
     ]
    },
    {
     "name": "stderr",
     "output_type": "stream",
     "text": [
      "\r\n",
      "Collecting chart data from ph: 399it [10:53,  1.91s/it]"
     ]
    },
    {
     "name": "stdout",
     "output_type": "stream",
     "text": [
      "\n",
      "Date: 2018-02-04\n",
      "https://spotifycharts.com/regional/ph/daily/2018-02-04/download\n"
     ]
    },
    {
     "name": "stderr",
     "output_type": "stream",
     "text": [
      "\r\n",
      "Collecting chart data from ph: 400it [10:55,  1.84s/it]"
     ]
    },
    {
     "name": "stdout",
     "output_type": "stream",
     "text": [
      "\n",
      "Date: 2018-02-05\n",
      "https://spotifycharts.com/regional/ph/daily/2018-02-05/download\n"
     ]
    },
    {
     "name": "stderr",
     "output_type": "stream",
     "text": [
      "\r\n",
      "Collecting chart data from ph: 401it [10:57,  1.84s/it]"
     ]
    },
    {
     "name": "stdout",
     "output_type": "stream",
     "text": [
      "\n",
      "Date: 2018-02-06\n",
      "https://spotifycharts.com/regional/ph/daily/2018-02-06/download\n"
     ]
    },
    {
     "name": "stderr",
     "output_type": "stream",
     "text": [
      "\r\n",
      "Collecting chart data from ph: 402it [10:59,  1.76s/it]"
     ]
    },
    {
     "name": "stdout",
     "output_type": "stream",
     "text": [
      "\n",
      "Date: 2018-02-07\n",
      "https://spotifycharts.com/regional/ph/daily/2018-02-07/download\n"
     ]
    },
    {
     "name": "stderr",
     "output_type": "stream",
     "text": [
      "\r\n",
      "Collecting chart data from ph: 403it [11:00,  1.76s/it]"
     ]
    },
    {
     "name": "stdout",
     "output_type": "stream",
     "text": [
      "\n",
      "Date: 2018-02-08\n",
      "https://spotifycharts.com/regional/ph/daily/2018-02-08/download\n"
     ]
    },
    {
     "name": "stderr",
     "output_type": "stream",
     "text": [
      "\r\n",
      "Collecting chart data from ph: 404it [11:02,  1.77s/it]"
     ]
    },
    {
     "name": "stdout",
     "output_type": "stream",
     "text": [
      "\n",
      "Date: 2018-02-09\n",
      "https://spotifycharts.com/regional/ph/daily/2018-02-09/download\n"
     ]
    },
    {
     "name": "stderr",
     "output_type": "stream",
     "text": [
      "\r\n",
      "Collecting chart data from ph: 405it [11:04,  1.82s/it]"
     ]
    },
    {
     "name": "stdout",
     "output_type": "stream",
     "text": [
      "\n",
      "Date: 2018-02-10\n",
      "https://spotifycharts.com/regional/ph/daily/2018-02-10/download\n"
     ]
    },
    {
     "name": "stderr",
     "output_type": "stream",
     "text": [
      "\r\n",
      "Collecting chart data from ph: 406it [11:06,  1.92s/it]"
     ]
    },
    {
     "name": "stdout",
     "output_type": "stream",
     "text": [
      "\n",
      "Date: 2018-02-11\n",
      "https://spotifycharts.com/regional/ph/daily/2018-02-11/download\n"
     ]
    },
    {
     "name": "stderr",
     "output_type": "stream",
     "text": [
      "\r\n",
      "Collecting chart data from ph: 407it [11:08,  1.83s/it]"
     ]
    },
    {
     "name": "stdout",
     "output_type": "stream",
     "text": [
      "\n",
      "Date: 2018-02-12\n",
      "https://spotifycharts.com/regional/ph/daily/2018-02-12/download\n"
     ]
    },
    {
     "name": "stderr",
     "output_type": "stream",
     "text": [
      "\r\n",
      "Collecting chart data from ph: 408it [11:09,  1.78s/it]"
     ]
    },
    {
     "name": "stdout",
     "output_type": "stream",
     "text": [
      "\n",
      "Date: 2018-02-13\n",
      "https://spotifycharts.com/regional/ph/daily/2018-02-13/download\n"
     ]
    },
    {
     "name": "stderr",
     "output_type": "stream",
     "text": [
      "\r\n",
      "Collecting chart data from ph: 409it [11:11,  1.83s/it]"
     ]
    },
    {
     "name": "stdout",
     "output_type": "stream",
     "text": [
      "\n",
      "Date: 2018-02-14\n",
      "https://spotifycharts.com/regional/ph/daily/2018-02-14/download\n"
     ]
    },
    {
     "name": "stderr",
     "output_type": "stream",
     "text": [
      "\r\n",
      "Collecting chart data from ph: 410it [11:13,  1.82s/it]"
     ]
    },
    {
     "name": "stdout",
     "output_type": "stream",
     "text": [
      "\n",
      "Date: 2018-02-15\n",
      "https://spotifycharts.com/regional/ph/daily/2018-02-15/download\n"
     ]
    },
    {
     "name": "stderr",
     "output_type": "stream",
     "text": [
      "\r\n",
      "Collecting chart data from ph: 411it [11:15,  1.83s/it]"
     ]
    },
    {
     "name": "stdout",
     "output_type": "stream",
     "text": [
      "\n",
      "Date: 2018-02-16\n",
      "https://spotifycharts.com/regional/ph/daily/2018-02-16/download\n"
     ]
    },
    {
     "name": "stderr",
     "output_type": "stream",
     "text": [
      "\r\n",
      "Collecting chart data from ph: 412it [11:17,  1.80s/it]"
     ]
    },
    {
     "name": "stdout",
     "output_type": "stream",
     "text": [
      "\n",
      "Date: 2018-02-17\n",
      "https://spotifycharts.com/regional/ph/daily/2018-02-17/download\n"
     ]
    },
    {
     "name": "stderr",
     "output_type": "stream",
     "text": [
      "\r\n",
      "Collecting chart data from ph: 413it [11:18,  1.75s/it]"
     ]
    },
    {
     "name": "stdout",
     "output_type": "stream",
     "text": [
      "\n",
      "Date: 2018-02-18\n",
      "https://spotifycharts.com/regional/ph/daily/2018-02-18/download\n"
     ]
    },
    {
     "name": "stderr",
     "output_type": "stream",
     "text": [
      "\r\n",
      "Collecting chart data from ph: 414it [11:20,  1.76s/it]"
     ]
    },
    {
     "name": "stdout",
     "output_type": "stream",
     "text": [
      "\n",
      "Date: 2018-02-19\n",
      "https://spotifycharts.com/regional/ph/daily/2018-02-19/download\n"
     ]
    },
    {
     "name": "stderr",
     "output_type": "stream",
     "text": [
      "\r\n",
      "Collecting chart data from ph: 415it [11:22,  1.75s/it]"
     ]
    },
    {
     "name": "stdout",
     "output_type": "stream",
     "text": [
      "\n",
      "Date: 2018-02-20\n",
      "https://spotifycharts.com/regional/ph/daily/2018-02-20/download\n"
     ]
    },
    {
     "name": "stderr",
     "output_type": "stream",
     "text": [
      "\r\n",
      "Collecting chart data from ph: 416it [11:24,  1.76s/it]"
     ]
    },
    {
     "name": "stdout",
     "output_type": "stream",
     "text": [
      "\n",
      "Date: 2018-02-21\n",
      "https://spotifycharts.com/regional/ph/daily/2018-02-21/download\n"
     ]
    },
    {
     "name": "stderr",
     "output_type": "stream",
     "text": [
      "\r\n",
      "Collecting chart data from ph: 417it [11:26,  1.79s/it]"
     ]
    },
    {
     "name": "stdout",
     "output_type": "stream",
     "text": [
      "\n",
      "Date: 2018-02-22\n",
      "https://spotifycharts.com/regional/ph/daily/2018-02-22/download\n"
     ]
    },
    {
     "name": "stderr",
     "output_type": "stream",
     "text": [
      "\r\n",
      "Collecting chart data from ph: 418it [11:27,  1.81s/it]"
     ]
    },
    {
     "name": "stdout",
     "output_type": "stream",
     "text": [
      "\n",
      "Date: 2018-02-23\n",
      "https://spotifycharts.com/regional/ph/daily/2018-02-23/download\n"
     ]
    },
    {
     "name": "stderr",
     "output_type": "stream",
     "text": [
      "\r\n",
      "Collecting chart data from ph: 419it [11:29,  1.88s/it]"
     ]
    },
    {
     "name": "stdout",
     "output_type": "stream",
     "text": [
      "\n",
      "Date: 2018-02-24\n",
      "https://spotifycharts.com/regional/ph/daily/2018-02-24/download\n"
     ]
    },
    {
     "name": "stderr",
     "output_type": "stream",
     "text": [
      "\r\n",
      "Collecting chart data from ph: 420it [11:31,  1.86s/it]"
     ]
    },
    {
     "name": "stdout",
     "output_type": "stream",
     "text": [
      "\n",
      "Date: 2018-02-25\n",
      "https://spotifycharts.com/regional/ph/daily/2018-02-25/download\n"
     ]
    },
    {
     "name": "stderr",
     "output_type": "stream",
     "text": [
      "\r\n",
      "Collecting chart data from ph: 421it [11:33,  1.83s/it]"
     ]
    },
    {
     "name": "stdout",
     "output_type": "stream",
     "text": [
      "\n",
      "Date: 2018-02-26\n",
      "https://spotifycharts.com/regional/ph/daily/2018-02-26/download\n"
     ]
    },
    {
     "name": "stderr",
     "output_type": "stream",
     "text": [
      "\r\n",
      "Collecting chart data from ph: 422it [11:35,  1.78s/it]"
     ]
    },
    {
     "name": "stdout",
     "output_type": "stream",
     "text": [
      "\n",
      "Date: 2018-02-27\n",
      "https://spotifycharts.com/regional/ph/daily/2018-02-27/download\n"
     ]
    },
    {
     "name": "stderr",
     "output_type": "stream",
     "text": [
      "\r\n",
      "Collecting chart data from ph: 423it [11:36,  1.74s/it]"
     ]
    },
    {
     "name": "stdout",
     "output_type": "stream",
     "text": [
      "\n",
      "Date: 2018-02-28\n",
      "https://spotifycharts.com/regional/ph/daily/2018-02-28/download\n"
     ]
    },
    {
     "name": "stderr",
     "output_type": "stream",
     "text": [
      "\r\n",
      "Collecting chart data from ph: 424it [11:38,  1.68s/it]"
     ]
    },
    {
     "name": "stdout",
     "output_type": "stream",
     "text": [
      "\n",
      "Date: 2018-03-01\n",
      "https://spotifycharts.com/regional/ph/daily/2018-03-01/download\n"
     ]
    },
    {
     "name": "stderr",
     "output_type": "stream",
     "text": [
      "\r\n",
      "Collecting chart data from ph: 425it [11:39,  1.58s/it]"
     ]
    },
    {
     "name": "stdout",
     "output_type": "stream",
     "text": [
      "\n",
      "Date: 2018-03-02\n",
      "https://spotifycharts.com/regional/ph/daily/2018-03-02/download\n"
     ]
    },
    {
     "name": "stderr",
     "output_type": "stream",
     "text": [
      "\r\n",
      "Collecting chart data from ph: 426it [11:41,  1.62s/it]"
     ]
    },
    {
     "name": "stdout",
     "output_type": "stream",
     "text": [
      "\n",
      "Date: 2018-03-03\n",
      "https://spotifycharts.com/regional/ph/daily/2018-03-03/download\n"
     ]
    },
    {
     "name": "stderr",
     "output_type": "stream",
     "text": [
      "\r\n",
      "Collecting chart data from ph: 427it [11:43,  1.62s/it]"
     ]
    },
    {
     "name": "stdout",
     "output_type": "stream",
     "text": [
      "\n",
      "Date: 2018-03-04\n",
      "https://spotifycharts.com/regional/ph/daily/2018-03-04/download\n"
     ]
    },
    {
     "name": "stderr",
     "output_type": "stream",
     "text": [
      "\r\n",
      "Collecting chart data from ph: 428it [11:44,  1.60s/it]"
     ]
    },
    {
     "name": "stdout",
     "output_type": "stream",
     "text": [
      "\n",
      "Date: 2018-03-05\n",
      "https://spotifycharts.com/regional/ph/daily/2018-03-05/download\n"
     ]
    },
    {
     "name": "stderr",
     "output_type": "stream",
     "text": [
      "\r\n",
      "Collecting chart data from ph: 429it [11:46,  1.54s/it]"
     ]
    },
    {
     "name": "stdout",
     "output_type": "stream",
     "text": [
      "\n",
      "Date: 2018-03-06\n",
      "https://spotifycharts.com/regional/ph/daily/2018-03-06/download\n"
     ]
    },
    {
     "name": "stderr",
     "output_type": "stream",
     "text": [
      "\r\n",
      "Collecting chart data from ph: 430it [11:47,  1.53s/it]"
     ]
    },
    {
     "name": "stdout",
     "output_type": "stream",
     "text": [
      "\n",
      "Date: 2018-03-07\n",
      "https://spotifycharts.com/regional/ph/daily/2018-03-07/download\n"
     ]
    },
    {
     "name": "stderr",
     "output_type": "stream",
     "text": [
      "\r\n",
      "Collecting chart data from ph: 431it [11:49,  1.57s/it]"
     ]
    },
    {
     "name": "stdout",
     "output_type": "stream",
     "text": [
      "\n",
      "Date: 2018-03-08\n",
      "https://spotifycharts.com/regional/ph/daily/2018-03-08/download\n"
     ]
    },
    {
     "name": "stderr",
     "output_type": "stream",
     "text": [
      "\r\n",
      "Collecting chart data from ph: 432it [11:51,  1.65s/it]"
     ]
    },
    {
     "name": "stdout",
     "output_type": "stream",
     "text": [
      "\n",
      "Date: 2018-03-09\n",
      "https://spotifycharts.com/regional/ph/daily/2018-03-09/download\n"
     ]
    },
    {
     "name": "stderr",
     "output_type": "stream",
     "text": [
      "\r\n",
      "Collecting chart data from ph: 433it [11:53,  1.79s/it]"
     ]
    },
    {
     "name": "stdout",
     "output_type": "stream",
     "text": [
      "\n",
      "Date: 2018-03-10\n",
      "https://spotifycharts.com/regional/ph/daily/2018-03-10/download\n"
     ]
    },
    {
     "name": "stderr",
     "output_type": "stream",
     "text": [
      "\r\n",
      "Collecting chart data from ph: 434it [11:54,  1.77s/it]"
     ]
    },
    {
     "name": "stdout",
     "output_type": "stream",
     "text": [
      "\n",
      "Date: 2018-03-11\n",
      "https://spotifycharts.com/regional/ph/daily/2018-03-11/download\n"
     ]
    },
    {
     "name": "stderr",
     "output_type": "stream",
     "text": [
      "\r\n",
      "Collecting chart data from ph: 435it [11:56,  1.75s/it]"
     ]
    },
    {
     "name": "stdout",
     "output_type": "stream",
     "text": [
      "\n",
      "Date: 2018-03-12\n",
      "https://spotifycharts.com/regional/ph/daily/2018-03-12/download\n"
     ]
    },
    {
     "name": "stderr",
     "output_type": "stream",
     "text": [
      "\r\n",
      "Collecting chart data from ph: 436it [11:58,  1.73s/it]"
     ]
    },
    {
     "name": "stdout",
     "output_type": "stream",
     "text": [
      "\n",
      "Date: 2018-03-13\n",
      "https://spotifycharts.com/regional/ph/daily/2018-03-13/download\n"
     ]
    },
    {
     "name": "stderr",
     "output_type": "stream",
     "text": [
      "\r\n",
      "Collecting chart data from ph: 437it [11:59,  1.71s/it]"
     ]
    },
    {
     "name": "stdout",
     "output_type": "stream",
     "text": [
      "\n",
      "Date: 2018-03-14\n",
      "https://spotifycharts.com/regional/ph/daily/2018-03-14/download\n"
     ]
    },
    {
     "name": "stderr",
     "output_type": "stream",
     "text": [
      "\r\n",
      "Collecting chart data from ph: 438it [12:01,  1.68s/it]"
     ]
    },
    {
     "name": "stdout",
     "output_type": "stream",
     "text": [
      "\n",
      "Date: 2018-03-15\n",
      "https://spotifycharts.com/regional/ph/daily/2018-03-15/download\n"
     ]
    },
    {
     "name": "stderr",
     "output_type": "stream",
     "text": [
      "\r\n",
      "Collecting chart data from ph: 439it [12:03,  1.89s/it]"
     ]
    },
    {
     "name": "stdout",
     "output_type": "stream",
     "text": [
      "\n",
      "Date: 2018-03-16\n",
      "https://spotifycharts.com/regional/ph/daily/2018-03-16/download\n"
     ]
    },
    {
     "name": "stderr",
     "output_type": "stream",
     "text": [
      "\r\n",
      "Collecting chart data from ph: 440it [12:05,  1.84s/it]"
     ]
    },
    {
     "name": "stdout",
     "output_type": "stream",
     "text": [
      "\n",
      "Date: 2018-03-17\n",
      "https://spotifycharts.com/regional/ph/daily/2018-03-17/download\n"
     ]
    },
    {
     "name": "stderr",
     "output_type": "stream",
     "text": [
      "\r\n",
      "Collecting chart data from ph: 441it [12:07,  1.80s/it]"
     ]
    },
    {
     "name": "stdout",
     "output_type": "stream",
     "text": [
      "\n",
      "Date: 2018-03-18\n",
      "https://spotifycharts.com/regional/ph/daily/2018-03-18/download\n"
     ]
    },
    {
     "name": "stderr",
     "output_type": "stream",
     "text": [
      "\r\n",
      "Collecting chart data from ph: 442it [12:09,  1.78s/it]"
     ]
    },
    {
     "name": "stdout",
     "output_type": "stream",
     "text": [
      "\n",
      "Date: 2018-03-19\n",
      "https://spotifycharts.com/regional/ph/daily/2018-03-19/download\n"
     ]
    },
    {
     "name": "stderr",
     "output_type": "stream",
     "text": [
      "\r\n",
      "Collecting chart data from ph: 443it [12:10,  1.72s/it]"
     ]
    },
    {
     "name": "stdout",
     "output_type": "stream",
     "text": [
      "\n",
      "Date: 2018-03-20\n",
      "https://spotifycharts.com/regional/ph/daily/2018-03-20/download\n"
     ]
    },
    {
     "name": "stderr",
     "output_type": "stream",
     "text": [
      "\r\n",
      "Collecting chart data from ph: 444it [12:12,  1.69s/it]"
     ]
    },
    {
     "name": "stdout",
     "output_type": "stream",
     "text": [
      "\n",
      "Date: 2018-03-21\n",
      "https://spotifycharts.com/regional/ph/daily/2018-03-21/download\n"
     ]
    },
    {
     "name": "stderr",
     "output_type": "stream",
     "text": [
      "\r\n",
      "Collecting chart data from ph: 445it [12:14,  1.71s/it]"
     ]
    },
    {
     "name": "stdout",
     "output_type": "stream",
     "text": [
      "\n",
      "Date: 2018-03-22\n",
      "https://spotifycharts.com/regional/ph/daily/2018-03-22/download\n"
     ]
    },
    {
     "name": "stderr",
     "output_type": "stream",
     "text": [
      "\r\n",
      "Collecting chart data from ph: 446it [12:15,  1.68s/it]"
     ]
    },
    {
     "name": "stdout",
     "output_type": "stream",
     "text": [
      "\n",
      "Date: 2018-03-23\n",
      "https://spotifycharts.com/regional/ph/daily/2018-03-23/download\n"
     ]
    },
    {
     "name": "stderr",
     "output_type": "stream",
     "text": [
      "\r\n",
      "Collecting chart data from ph: 447it [12:17,  1.66s/it]"
     ]
    },
    {
     "name": "stdout",
     "output_type": "stream",
     "text": [
      "\n",
      "Date: 2018-03-24\n",
      "https://spotifycharts.com/regional/ph/daily/2018-03-24/download\n"
     ]
    },
    {
     "name": "stderr",
     "output_type": "stream",
     "text": [
      "\r\n",
      "Collecting chart data from ph: 448it [12:18,  1.65s/it]"
     ]
    },
    {
     "name": "stdout",
     "output_type": "stream",
     "text": [
      "\n",
      "Date: 2018-03-25\n",
      "https://spotifycharts.com/regional/ph/daily/2018-03-25/download\n"
     ]
    },
    {
     "name": "stderr",
     "output_type": "stream",
     "text": [
      "\r\n",
      "Collecting chart data from ph: 449it [12:20,  1.66s/it]"
     ]
    },
    {
     "name": "stdout",
     "output_type": "stream",
     "text": [
      "\n",
      "Date: 2018-03-26\n",
      "https://spotifycharts.com/regional/ph/daily/2018-03-26/download\n"
     ]
    },
    {
     "name": "stderr",
     "output_type": "stream",
     "text": [
      "\r\n",
      "Collecting chart data from ph: 450it [12:22,  1.68s/it]"
     ]
    },
    {
     "name": "stdout",
     "output_type": "stream",
     "text": [
      "\n",
      "Date: 2018-03-27\n",
      "https://spotifycharts.com/regional/ph/daily/2018-03-27/download\n"
     ]
    },
    {
     "name": "stderr",
     "output_type": "stream",
     "text": [
      "\r\n",
      "Collecting chart data from ph: 451it [12:24,  1.72s/it]"
     ]
    },
    {
     "name": "stdout",
     "output_type": "stream",
     "text": [
      "\n",
      "Date: 2018-03-28\n",
      "https://spotifycharts.com/regional/ph/daily/2018-03-28/download\n"
     ]
    },
    {
     "name": "stderr",
     "output_type": "stream",
     "text": [
      "\r\n",
      "Collecting chart data from ph: 452it [12:25,  1.69s/it]"
     ]
    },
    {
     "name": "stdout",
     "output_type": "stream",
     "text": [
      "\n",
      "Date: 2018-03-29\n",
      "https://spotifycharts.com/regional/ph/daily/2018-03-29/download\n"
     ]
    },
    {
     "name": "stderr",
     "output_type": "stream",
     "text": [
      "\r\n",
      "Collecting chart data from ph: 453it [12:27,  1.76s/it]"
     ]
    },
    {
     "name": "stdout",
     "output_type": "stream",
     "text": [
      "\n",
      "Date: 2018-03-30\n",
      "https://spotifycharts.com/regional/ph/daily/2018-03-30/download\n"
     ]
    },
    {
     "name": "stderr",
     "output_type": "stream",
     "text": [
      "\r\n",
      "Collecting chart data from ph: 454it [12:29,  1.74s/it]"
     ]
    },
    {
     "name": "stdout",
     "output_type": "stream",
     "text": [
      "\n",
      "Date: 2018-03-31\n",
      "https://spotifycharts.com/regional/ph/daily/2018-03-31/download\n"
     ]
    },
    {
     "name": "stderr",
     "output_type": "stream",
     "text": [
      "\r\n",
      "Collecting chart data from ph: 455it [12:31,  1.79s/it]"
     ]
    },
    {
     "name": "stdout",
     "output_type": "stream",
     "text": [
      "\n",
      "Date: 2018-04-01\n",
      "https://spotifycharts.com/regional/ph/daily/2018-04-01/download\n"
     ]
    },
    {
     "name": "stderr",
     "output_type": "stream",
     "text": [
      "\r\n",
      "Collecting chart data from ph: 456it [12:33,  1.79s/it]"
     ]
    },
    {
     "name": "stdout",
     "output_type": "stream",
     "text": [
      "\n",
      "Date: 2018-04-02\n",
      "https://spotifycharts.com/regional/ph/daily/2018-04-02/download\n"
     ]
    },
    {
     "name": "stderr",
     "output_type": "stream",
     "text": [
      "\r\n",
      "Collecting chart data from ph: 457it [12:34,  1.71s/it]"
     ]
    },
    {
     "name": "stdout",
     "output_type": "stream",
     "text": [
      "\n",
      "Date: 2018-04-03\n",
      "https://spotifycharts.com/regional/ph/daily/2018-04-03/download\n"
     ]
    },
    {
     "name": "stderr",
     "output_type": "stream",
     "text": [
      "\r\n",
      "Collecting chart data from ph: 458it [12:36,  1.82s/it]"
     ]
    },
    {
     "name": "stdout",
     "output_type": "stream",
     "text": [
      "\n",
      "Date: 2018-04-04\n",
      "https://spotifycharts.com/regional/ph/daily/2018-04-04/download\n"
     ]
    },
    {
     "name": "stderr",
     "output_type": "stream",
     "text": [
      "\r\n",
      "Collecting chart data from ph: 459it [12:38,  1.83s/it]"
     ]
    },
    {
     "name": "stdout",
     "output_type": "stream",
     "text": [
      "\n",
      "Date: 2018-04-05\n",
      "https://spotifycharts.com/regional/ph/daily/2018-04-05/download\n"
     ]
    },
    {
     "name": "stderr",
     "output_type": "stream",
     "text": [
      "\r\n",
      "Collecting chart data from ph: 460it [12:40,  1.88s/it]"
     ]
    },
    {
     "name": "stdout",
     "output_type": "stream",
     "text": [
      "\n",
      "Date: 2018-04-06\n",
      "https://spotifycharts.com/regional/ph/daily/2018-04-06/download\n"
     ]
    },
    {
     "name": "stderr",
     "output_type": "stream",
     "text": [
      "\r\n",
      "Collecting chart data from ph: 461it [12:42,  1.80s/it]"
     ]
    },
    {
     "name": "stdout",
     "output_type": "stream",
     "text": [
      "\n",
      "Date: 2018-04-07\n",
      "https://spotifycharts.com/regional/ph/daily/2018-04-07/download\n"
     ]
    },
    {
     "name": "stderr",
     "output_type": "stream",
     "text": [
      "\r\n",
      "Collecting chart data from ph: 462it [12:43,  1.74s/it]"
     ]
    },
    {
     "name": "stdout",
     "output_type": "stream",
     "text": [
      "\n",
      "Date: 2018-04-08\n",
      "https://spotifycharts.com/regional/ph/daily/2018-04-08/download\n"
     ]
    },
    {
     "name": "stderr",
     "output_type": "stream",
     "text": [
      "\r\n",
      "Collecting chart data from ph: 463it [12:45,  1.74s/it]"
     ]
    },
    {
     "name": "stdout",
     "output_type": "stream",
     "text": [
      "\n",
      "Date: 2018-04-09\n",
      "https://spotifycharts.com/regional/ph/daily/2018-04-09/download\n"
     ]
    },
    {
     "name": "stderr",
     "output_type": "stream",
     "text": [
      "\r\n",
      "Collecting chart data from ph: 464it [12:47,  1.72s/it]"
     ]
    },
    {
     "name": "stdout",
     "output_type": "stream",
     "text": [
      "\n",
      "Date: 2018-04-10\n",
      "https://spotifycharts.com/regional/ph/daily/2018-04-10/download\n"
     ]
    },
    {
     "name": "stderr",
     "output_type": "stream",
     "text": [
      "\r\n",
      "Collecting chart data from ph: 465it [12:48,  1.70s/it]"
     ]
    },
    {
     "name": "stdout",
     "output_type": "stream",
     "text": [
      "\n",
      "Date: 2018-04-11\n",
      "https://spotifycharts.com/regional/ph/daily/2018-04-11/download\n"
     ]
    },
    {
     "name": "stderr",
     "output_type": "stream",
     "text": [
      "\r\n",
      "Collecting chart data from ph: 466it [12:50,  1.80s/it]"
     ]
    },
    {
     "name": "stdout",
     "output_type": "stream",
     "text": [
      "\n",
      "Date: 2018-04-12\n",
      "https://spotifycharts.com/regional/ph/daily/2018-04-12/download\n"
     ]
    },
    {
     "name": "stderr",
     "output_type": "stream",
     "text": [
      "\r\n",
      "Collecting chart data from ph: 467it [12:52,  1.75s/it]"
     ]
    },
    {
     "name": "stdout",
     "output_type": "stream",
     "text": [
      "\n",
      "Date: 2018-04-13\n",
      "https://spotifycharts.com/regional/ph/daily/2018-04-13/download\n"
     ]
    },
    {
     "name": "stderr",
     "output_type": "stream",
     "text": [
      "\r\n",
      "Collecting chart data from ph: 468it [12:54,  1.77s/it]"
     ]
    },
    {
     "name": "stdout",
     "output_type": "stream",
     "text": [
      "\n",
      "Date: 2018-04-14\n",
      "https://spotifycharts.com/regional/ph/daily/2018-04-14/download\n"
     ]
    },
    {
     "name": "stderr",
     "output_type": "stream",
     "text": [
      "\r\n",
      "Collecting chart data from ph: 469it [12:56,  1.78s/it]"
     ]
    },
    {
     "name": "stdout",
     "output_type": "stream",
     "text": [
      "\n",
      "Date: 2018-04-15\n",
      "https://spotifycharts.com/regional/ph/daily/2018-04-15/download\n"
     ]
    },
    {
     "name": "stderr",
     "output_type": "stream",
     "text": [
      "\r\n",
      "Collecting chart data from ph: 470it [12:57,  1.74s/it]"
     ]
    },
    {
     "name": "stdout",
     "output_type": "stream",
     "text": [
      "\n",
      "Date: 2018-04-16\n",
      "https://spotifycharts.com/regional/ph/daily/2018-04-16/download\n"
     ]
    },
    {
     "name": "stderr",
     "output_type": "stream",
     "text": [
      "\r\n",
      "Collecting chart data from ph: 471it [12:59,  1.71s/it]"
     ]
    },
    {
     "name": "stdout",
     "output_type": "stream",
     "text": [
      "\n",
      "Date: 2018-04-17\n",
      "https://spotifycharts.com/regional/ph/daily/2018-04-17/download\n"
     ]
    },
    {
     "name": "stderr",
     "output_type": "stream",
     "text": [
      "\r\n",
      "Collecting chart data from ph: 472it [13:01,  1.76s/it]"
     ]
    },
    {
     "name": "stdout",
     "output_type": "stream",
     "text": [
      "\n",
      "Date: 2018-04-18\n",
      "https://spotifycharts.com/regional/ph/daily/2018-04-18/download\n"
     ]
    },
    {
     "name": "stderr",
     "output_type": "stream",
     "text": [
      "\r\n",
      "Collecting chart data from ph: 473it [13:02,  1.60s/it]"
     ]
    },
    {
     "name": "stdout",
     "output_type": "stream",
     "text": [
      "\n",
      "Date: 2018-04-19\n",
      "https://spotifycharts.com/regional/ph/daily/2018-04-19/download\n"
     ]
    },
    {
     "name": "stderr",
     "output_type": "stream",
     "text": [
      "\r\n",
      "Collecting chart data from ph: 474it [13:03,  1.48s/it]"
     ]
    },
    {
     "name": "stdout",
     "output_type": "stream",
     "text": [
      "\n",
      "Date: 2018-04-20\n",
      "https://spotifycharts.com/regional/ph/daily/2018-04-20/download\n"
     ]
    },
    {
     "name": "stderr",
     "output_type": "stream",
     "text": [
      "\r\n",
      "Collecting chart data from ph: 475it [13:05,  1.55s/it]"
     ]
    },
    {
     "name": "stdout",
     "output_type": "stream",
     "text": [
      "\n",
      "Date: 2018-04-21\n",
      "https://spotifycharts.com/regional/ph/daily/2018-04-21/download\n"
     ]
    },
    {
     "name": "stderr",
     "output_type": "stream",
     "text": [
      "\r\n",
      "Collecting chart data from ph: 476it [13:07,  1.65s/it]"
     ]
    },
    {
     "name": "stdout",
     "output_type": "stream",
     "text": [
      "\n",
      "Date: 2018-04-22\n",
      "https://spotifycharts.com/regional/ph/daily/2018-04-22/download\n"
     ]
    },
    {
     "name": "stderr",
     "output_type": "stream",
     "text": [
      "\r\n",
      "Collecting chart data from ph: 477it [13:08,  1.50s/it]"
     ]
    },
    {
     "name": "stdout",
     "output_type": "stream",
     "text": [
      "\n",
      "Date: 2018-04-23\n",
      "https://spotifycharts.com/regional/ph/daily/2018-04-23/download\n"
     ]
    },
    {
     "name": "stderr",
     "output_type": "stream",
     "text": [
      "\r\n",
      "Collecting chart data from ph: 478it [13:10,  1.77s/it]"
     ]
    },
    {
     "name": "stdout",
     "output_type": "stream",
     "text": [
      "\n",
      "Date: 2018-04-24\n",
      "https://spotifycharts.com/regional/ph/daily/2018-04-24/download\n"
     ]
    },
    {
     "name": "stderr",
     "output_type": "stream",
     "text": [
      "\r\n",
      "Collecting chart data from ph: 479it [13:12,  1.79s/it]"
     ]
    },
    {
     "name": "stdout",
     "output_type": "stream",
     "text": [
      "\n",
      "Date: 2018-04-25\n",
      "https://spotifycharts.com/regional/ph/daily/2018-04-25/download\n"
     ]
    },
    {
     "name": "stderr",
     "output_type": "stream",
     "text": [
      "\r\n",
      "Collecting chart data from ph: 480it [13:14,  1.72s/it]"
     ]
    },
    {
     "name": "stdout",
     "output_type": "stream",
     "text": [
      "\n",
      "Date: 2018-04-26\n",
      "https://spotifycharts.com/regional/ph/daily/2018-04-26/download\n"
     ]
    },
    {
     "name": "stderr",
     "output_type": "stream",
     "text": [
      "\r\n",
      "Collecting chart data from ph: 481it [13:15,  1.72s/it]"
     ]
    },
    {
     "name": "stdout",
     "output_type": "stream",
     "text": [
      "\n",
      "Date: 2018-04-27\n",
      "https://spotifycharts.com/regional/ph/daily/2018-04-27/download\n"
     ]
    },
    {
     "name": "stderr",
     "output_type": "stream",
     "text": [
      "\r\n",
      "Collecting chart data from ph: 482it [13:16,  1.52s/it]"
     ]
    },
    {
     "name": "stdout",
     "output_type": "stream",
     "text": [
      "\n",
      "Date: 2018-04-28\n",
      "https://spotifycharts.com/regional/ph/daily/2018-04-28/download\n"
     ]
    },
    {
     "name": "stderr",
     "output_type": "stream",
     "text": [
      "\r\n",
      "Collecting chart data from ph: 483it [13:18,  1.58s/it]"
     ]
    },
    {
     "name": "stdout",
     "output_type": "stream",
     "text": [
      "\n",
      "Date: 2018-04-29\n",
      "https://spotifycharts.com/regional/ph/daily/2018-04-29/download\n"
     ]
    },
    {
     "name": "stderr",
     "output_type": "stream",
     "text": [
      "\r\n",
      "Collecting chart data from ph: 484it [13:20,  1.62s/it]"
     ]
    },
    {
     "name": "stdout",
     "output_type": "stream",
     "text": [
      "\n",
      "Date: 2018-04-30\n",
      "https://spotifycharts.com/regional/ph/daily/2018-04-30/download\n"
     ]
    },
    {
     "name": "stderr",
     "output_type": "stream",
     "text": [
      "\r\n",
      "Collecting chart data from ph: 485it [13:22,  1.61s/it]"
     ]
    },
    {
     "name": "stdout",
     "output_type": "stream",
     "text": [
      "\n",
      "Date: 2018-05-01\n",
      "https://spotifycharts.com/regional/ph/daily/2018-05-01/download\n"
     ]
    },
    {
     "name": "stderr",
     "output_type": "stream",
     "text": [
      "\r\n",
      "Collecting chart data from ph: 486it [13:23,  1.71s/it]"
     ]
    },
    {
     "name": "stdout",
     "output_type": "stream",
     "text": [
      "\n",
      "Date: 2018-05-02\n",
      "https://spotifycharts.com/regional/ph/daily/2018-05-02/download\n"
     ]
    },
    {
     "name": "stderr",
     "output_type": "stream",
     "text": [
      "\r\n",
      "Collecting chart data from ph: 487it [13:27,  2.16s/it]"
     ]
    },
    {
     "name": "stdout",
     "output_type": "stream",
     "text": [
      "\n",
      "Date: 2018-05-03\n",
      "https://spotifycharts.com/regional/ph/daily/2018-05-03/download\n"
     ]
    },
    {
     "name": "stderr",
     "output_type": "stream",
     "text": [
      "\r\n",
      "Collecting chart data from ph: 488it [13:28,  2.00s/it]"
     ]
    },
    {
     "name": "stdout",
     "output_type": "stream",
     "text": [
      "\n",
      "Date: 2018-05-04\n",
      "https://spotifycharts.com/regional/ph/daily/2018-05-04/download\n"
     ]
    },
    {
     "name": "stderr",
     "output_type": "stream",
     "text": [
      "\r\n",
      "Collecting chart data from ph: 489it [13:30,  1.89s/it]"
     ]
    },
    {
     "name": "stdout",
     "output_type": "stream",
     "text": [
      "\n",
      "Date: 2018-05-05\n",
      "https://spotifycharts.com/regional/ph/daily/2018-05-05/download\n"
     ]
    },
    {
     "name": "stderr",
     "output_type": "stream",
     "text": [
      "\r\n",
      "Collecting chart data from ph: 490it [13:31,  1.68s/it]"
     ]
    },
    {
     "name": "stdout",
     "output_type": "stream",
     "text": [
      "\n",
      "Date: 2018-05-06\n",
      "https://spotifycharts.com/regional/ph/daily/2018-05-06/download\n"
     ]
    },
    {
     "name": "stderr",
     "output_type": "stream",
     "text": [
      "\r\n",
      "Collecting chart data from ph: 491it [13:33,  1.66s/it]"
     ]
    },
    {
     "name": "stdout",
     "output_type": "stream",
     "text": [
      "\n",
      "Date: 2018-05-07\n",
      "https://spotifycharts.com/regional/ph/daily/2018-05-07/download\n"
     ]
    },
    {
     "name": "stderr",
     "output_type": "stream",
     "text": [
      "\r\n",
      "Collecting chart data from ph: 492it [13:34,  1.64s/it]"
     ]
    },
    {
     "name": "stdout",
     "output_type": "stream",
     "text": [
      "\n",
      "Date: 2018-05-08\n",
      "https://spotifycharts.com/regional/ph/daily/2018-05-08/download\n"
     ]
    },
    {
     "name": "stderr",
     "output_type": "stream",
     "text": [
      "\r\n",
      "Collecting chart data from ph: 493it [13:37,  1.91s/it]"
     ]
    },
    {
     "name": "stdout",
     "output_type": "stream",
     "text": [
      "\n",
      "Date: 2018-05-09\n",
      "https://spotifycharts.com/regional/ph/daily/2018-05-09/download\n"
     ]
    },
    {
     "name": "stderr",
     "output_type": "stream",
     "text": [
      "\r\n",
      "Collecting chart data from ph: 494it [13:39,  1.87s/it]"
     ]
    },
    {
     "name": "stdout",
     "output_type": "stream",
     "text": [
      "\n",
      "Date: 2018-05-10\n",
      "https://spotifycharts.com/regional/ph/daily/2018-05-10/download\n"
     ]
    },
    {
     "name": "stderr",
     "output_type": "stream",
     "text": [
      "\r\n",
      "Collecting chart data from ph: 495it [13:40,  1.86s/it]"
     ]
    },
    {
     "name": "stdout",
     "output_type": "stream",
     "text": [
      "\n",
      "Date: 2018-05-11\n",
      "https://spotifycharts.com/regional/ph/daily/2018-05-11/download\n"
     ]
    },
    {
     "name": "stderr",
     "output_type": "stream",
     "text": [
      "\r\n",
      "Collecting chart data from ph: 496it [13:42,  1.70s/it]"
     ]
    },
    {
     "name": "stdout",
     "output_type": "stream",
     "text": [
      "\n",
      "Date: 2018-05-12\n",
      "https://spotifycharts.com/regional/ph/daily/2018-05-12/download\n"
     ]
    },
    {
     "name": "stderr",
     "output_type": "stream",
     "text": [
      "\r\n",
      "Collecting chart data from ph: 497it [13:44,  1.81s/it]"
     ]
    },
    {
     "name": "stdout",
     "output_type": "stream",
     "text": [
      "\n",
      "Date: 2018-05-13\n",
      "https://spotifycharts.com/regional/ph/daily/2018-05-13/download\n"
     ]
    },
    {
     "name": "stderr",
     "output_type": "stream",
     "text": [
      "\r\n",
      "Collecting chart data from ph: 498it [13:45,  1.74s/it]"
     ]
    },
    {
     "name": "stdout",
     "output_type": "stream",
     "text": [
      "\n",
      "Date: 2018-05-14\n",
      "https://spotifycharts.com/regional/ph/daily/2018-05-14/download\n"
     ]
    },
    {
     "name": "stderr",
     "output_type": "stream",
     "text": [
      "\r\n",
      "Collecting chart data from ph: 499it [13:47,  1.73s/it]"
     ]
    },
    {
     "name": "stdout",
     "output_type": "stream",
     "text": [
      "\n",
      "Date: 2018-05-15\n",
      "https://spotifycharts.com/regional/ph/daily/2018-05-15/download\n"
     ]
    },
    {
     "name": "stderr",
     "output_type": "stream",
     "text": [
      "\r\n",
      "Collecting chart data from ph: 500it [13:50,  2.21s/it]"
     ]
    },
    {
     "name": "stdout",
     "output_type": "stream",
     "text": [
      "\n",
      "Date: 2018-05-16\n",
      "https://spotifycharts.com/regional/ph/daily/2018-05-16/download\n"
     ]
    },
    {
     "name": "stderr",
     "output_type": "stream",
     "text": [
      "\r\n",
      "Collecting chart data from ph: 501it [13:52,  2.11s/it]"
     ]
    },
    {
     "name": "stdout",
     "output_type": "stream",
     "text": [
      "\n",
      "Date: 2018-05-17\n",
      "https://spotifycharts.com/regional/ph/daily/2018-05-17/download\n"
     ]
    },
    {
     "name": "stderr",
     "output_type": "stream",
     "text": [
      "\r\n",
      "Collecting chart data from ph: 502it [13:54,  1.98s/it]"
     ]
    },
    {
     "name": "stdout",
     "output_type": "stream",
     "text": [
      "\n",
      "Date: 2018-05-18\n",
      "https://spotifycharts.com/regional/ph/daily/2018-05-18/download\n"
     ]
    },
    {
     "name": "stderr",
     "output_type": "stream",
     "text": [
      "\r\n",
      "Collecting chart data from ph: 503it [13:56,  1.94s/it]"
     ]
    },
    {
     "name": "stdout",
     "output_type": "stream",
     "text": [
      "\n",
      "Date: 2018-05-19\n",
      "https://spotifycharts.com/regional/ph/daily/2018-05-19/download\n"
     ]
    },
    {
     "name": "stderr",
     "output_type": "stream",
     "text": [
      "\r\n",
      "Collecting chart data from ph: 504it [13:58,  1.89s/it]"
     ]
    },
    {
     "name": "stdout",
     "output_type": "stream",
     "text": [
      "\n",
      "Date: 2018-05-20\n",
      "https://spotifycharts.com/regional/ph/daily/2018-05-20/download\n"
     ]
    },
    {
     "name": "stderr",
     "output_type": "stream",
     "text": [
      "\r\n",
      "Collecting chart data from ph: 505it [13:59,  1.74s/it]"
     ]
    },
    {
     "name": "stdout",
     "output_type": "stream",
     "text": [
      "\n",
      "Date: 2018-05-21\n",
      "https://spotifycharts.com/regional/ph/daily/2018-05-21/download\n"
     ]
    },
    {
     "name": "stderr",
     "output_type": "stream",
     "text": [
      "\r\n",
      "Collecting chart data from ph: 506it [14:00,  1.53s/it]"
     ]
    },
    {
     "name": "stdout",
     "output_type": "stream",
     "text": [
      "\n",
      "Date: 2018-05-22\n",
      "https://spotifycharts.com/regional/ph/daily/2018-05-22/download\n"
     ]
    },
    {
     "name": "stderr",
     "output_type": "stream",
     "text": [
      "\r\n",
      "Collecting chart data from ph: 507it [14:02,  1.72s/it]"
     ]
    },
    {
     "name": "stdout",
     "output_type": "stream",
     "text": [
      "\n",
      "Date: 2018-05-23\n",
      "https://spotifycharts.com/regional/ph/daily/2018-05-23/download\n"
     ]
    },
    {
     "name": "stderr",
     "output_type": "stream",
     "text": [
      "\r\n",
      "Collecting chart data from ph: 508it [14:04,  1.73s/it]"
     ]
    },
    {
     "name": "stdout",
     "output_type": "stream",
     "text": [
      "\n",
      "Date: 2018-05-24\n",
      "https://spotifycharts.com/regional/ph/daily/2018-05-24/download\n"
     ]
    },
    {
     "name": "stderr",
     "output_type": "stream",
     "text": [
      "\r\n",
      "Collecting chart data from ph: 509it [14:06,  1.67s/it]"
     ]
    },
    {
     "name": "stdout",
     "output_type": "stream",
     "text": [
      "\n",
      "Date: 2018-05-25\n",
      "https://spotifycharts.com/regional/ph/daily/2018-05-25/download\n"
     ]
    },
    {
     "name": "stderr",
     "output_type": "stream",
     "text": [
      "\r\n",
      "Collecting chart data from ph: 510it [14:07,  1.66s/it]"
     ]
    },
    {
     "name": "stdout",
     "output_type": "stream",
     "text": [
      "\n",
      "Date: 2018-05-26\n",
      "https://spotifycharts.com/regional/ph/daily/2018-05-26/download\n"
     ]
    },
    {
     "name": "stderr",
     "output_type": "stream",
     "text": [
      "\r\n",
      "Collecting chart data from ph: 511it [14:09,  1.66s/it]"
     ]
    },
    {
     "name": "stdout",
     "output_type": "stream",
     "text": [
      "\n",
      "Date: 2018-05-27\n",
      "https://spotifycharts.com/regional/ph/daily/2018-05-27/download\n"
     ]
    },
    {
     "name": "stderr",
     "output_type": "stream",
     "text": [
      "\r\n",
      "Collecting chart data from ph: 512it [14:11,  1.67s/it]"
     ]
    },
    {
     "name": "stdout",
     "output_type": "stream",
     "text": [
      "\n",
      "Date: 2018-05-28\n",
      "https://spotifycharts.com/regional/ph/daily/2018-05-28/download\n"
     ]
    },
    {
     "name": "stderr",
     "output_type": "stream",
     "text": [
      "\r\n",
      "Collecting chart data from ph: 513it [14:12,  1.72s/it]"
     ]
    },
    {
     "name": "stdout",
     "output_type": "stream",
     "text": [
      "\n",
      "Date: 2018-05-29\n",
      "https://spotifycharts.com/regional/ph/daily/2018-05-29/download\n"
     ]
    },
    {
     "name": "stderr",
     "output_type": "stream",
     "text": [
      "\r\n",
      "Collecting chart data from ph: 514it [14:14,  1.69s/it]"
     ]
    },
    {
     "name": "stdout",
     "output_type": "stream",
     "text": [
      "\n",
      "Date: 2018-05-30\n",
      "https://spotifycharts.com/regional/ph/daily/2018-05-30/download\n"
     ]
    },
    {
     "name": "stderr",
     "output_type": "stream",
     "text": [
      "\r\n",
      "Collecting chart data from ph: 515it [14:15,  1.53s/it]"
     ]
    },
    {
     "name": "stdout",
     "output_type": "stream",
     "text": [
      "\n",
      "Date: 2018-05-31\n",
      "https://spotifycharts.com/regional/ph/daily/2018-05-31/download\n"
     ]
    },
    {
     "name": "stderr",
     "output_type": "stream",
     "text": [
      "\r\n",
      "Collecting chart data from ph: 516it [14:17,  1.61s/it]"
     ]
    },
    {
     "name": "stdout",
     "output_type": "stream",
     "text": [
      "\n",
      "Date: 2018-06-01\n",
      "https://spotifycharts.com/regional/ph/daily/2018-06-01/download\n"
     ]
    },
    {
     "name": "stderr",
     "output_type": "stream",
     "text": [
      "\r\n",
      "Collecting chart data from ph: 517it [14:19,  1.72s/it]"
     ]
    },
    {
     "name": "stdout",
     "output_type": "stream",
     "text": [
      "\n",
      "Date: 2018-06-02\n",
      "https://spotifycharts.com/regional/ph/daily/2018-06-02/download\n"
     ]
    },
    {
     "name": "stderr",
     "output_type": "stream",
     "text": [
      "\r\n",
      "Collecting chart data from ph: 518it [14:21,  1.71s/it]"
     ]
    },
    {
     "name": "stdout",
     "output_type": "stream",
     "text": [
      "\n",
      "Date: 2018-06-03\n",
      "https://spotifycharts.com/regional/ph/daily/2018-06-03/download\n"
     ]
    },
    {
     "name": "stderr",
     "output_type": "stream",
     "text": [
      "\r\n",
      "Collecting chart data from ph: 519it [14:23,  1.91s/it]"
     ]
    },
    {
     "name": "stdout",
     "output_type": "stream",
     "text": [
      "\n",
      "Date: 2018-06-04\n",
      "https://spotifycharts.com/regional/ph/daily/2018-06-04/download\n"
     ]
    },
    {
     "name": "stderr",
     "output_type": "stream",
     "text": [
      "\r\n",
      "Collecting chart data from ph: 520it [14:25,  1.81s/it]"
     ]
    },
    {
     "name": "stdout",
     "output_type": "stream",
     "text": [
      "\n",
      "Date: 2018-06-05\n",
      "https://spotifycharts.com/regional/ph/daily/2018-06-05/download\n"
     ]
    },
    {
     "name": "stderr",
     "output_type": "stream",
     "text": [
      "\r\n",
      "Collecting chart data from ph: 521it [14:26,  1.62s/it]"
     ]
    },
    {
     "name": "stdout",
     "output_type": "stream",
     "text": [
      "\n",
      "Date: 2018-06-06\n",
      "https://spotifycharts.com/regional/ph/daily/2018-06-06/download\n"
     ]
    },
    {
     "name": "stderr",
     "output_type": "stream",
     "text": [
      "\r\n",
      "Collecting chart data from ph: 522it [14:27,  1.64s/it]"
     ]
    },
    {
     "name": "stdout",
     "output_type": "stream",
     "text": [
      "\n",
      "Date: 2018-06-07\n",
      "https://spotifycharts.com/regional/ph/daily/2018-06-07/download\n"
     ]
    },
    {
     "name": "stderr",
     "output_type": "stream",
     "text": [
      "\r\n",
      "Collecting chart data from ph: 523it [14:29,  1.71s/it]"
     ]
    },
    {
     "name": "stdout",
     "output_type": "stream",
     "text": [
      "\n",
      "Date: 2018-06-08\n",
      "https://spotifycharts.com/regional/ph/daily/2018-06-08/download\n"
     ]
    },
    {
     "name": "stderr",
     "output_type": "stream",
     "text": [
      "\r\n",
      "Collecting chart data from ph: 524it [14:31,  1.70s/it]"
     ]
    },
    {
     "name": "stdout",
     "output_type": "stream",
     "text": [
      "\n",
      "Date: 2018-06-09\n",
      "https://spotifycharts.com/regional/ph/daily/2018-06-09/download\n"
     ]
    },
    {
     "name": "stderr",
     "output_type": "stream",
     "text": [
      "\r\n",
      "Collecting chart data from ph: 525it [14:33,  1.79s/it]"
     ]
    },
    {
     "name": "stdout",
     "output_type": "stream",
     "text": [
      "\n",
      "Date: 2018-06-10\n",
      "https://spotifycharts.com/regional/ph/daily/2018-06-10/download\n"
     ]
    },
    {
     "name": "stderr",
     "output_type": "stream",
     "text": [
      "\r\n",
      "Collecting chart data from ph: 526it [14:35,  1.73s/it]"
     ]
    },
    {
     "name": "stdout",
     "output_type": "stream",
     "text": [
      "\n",
      "Date: 2018-06-11\n",
      "https://spotifycharts.com/regional/ph/daily/2018-06-11/download\n"
     ]
    },
    {
     "name": "stderr",
     "output_type": "stream",
     "text": [
      "\r\n",
      "Collecting chart data from ph: 527it [14:36,  1.73s/it]"
     ]
    },
    {
     "name": "stdout",
     "output_type": "stream",
     "text": [
      "\n",
      "Date: 2018-06-12\n",
      "https://spotifycharts.com/regional/ph/daily/2018-06-12/download\n"
     ]
    },
    {
     "name": "stderr",
     "output_type": "stream",
     "text": [
      "\r\n",
      "Collecting chart data from ph: 528it [14:38,  1.70s/it]"
     ]
    },
    {
     "name": "stdout",
     "output_type": "stream",
     "text": [
      "\n",
      "Date: 2018-06-13\n",
      "https://spotifycharts.com/regional/ph/daily/2018-06-13/download\n"
     ]
    },
    {
     "name": "stderr",
     "output_type": "stream",
     "text": [
      "\r\n",
      "Collecting chart data from ph: 529it [14:39,  1.66s/it]"
     ]
    },
    {
     "name": "stdout",
     "output_type": "stream",
     "text": [
      "\n",
      "Date: 2018-06-14\n",
      "https://spotifycharts.com/regional/ph/daily/2018-06-14/download\n"
     ]
    },
    {
     "name": "stderr",
     "output_type": "stream",
     "text": [
      "\r\n",
      "Collecting chart data from ph: 530it [14:41,  1.50s/it]"
     ]
    },
    {
     "name": "stdout",
     "output_type": "stream",
     "text": [
      "\n",
      "Date: 2018-06-15\n",
      "https://spotifycharts.com/regional/ph/daily/2018-06-15/download\n"
     ]
    },
    {
     "name": "stderr",
     "output_type": "stream",
     "text": [
      "\r\n",
      "Collecting chart data from ph: 531it [14:42,  1.58s/it]"
     ]
    },
    {
     "name": "stdout",
     "output_type": "stream",
     "text": [
      "\n",
      "Date: 2018-06-16\n",
      "https://spotifycharts.com/regional/ph/daily/2018-06-16/download\n"
     ]
    },
    {
     "name": "stderr",
     "output_type": "stream",
     "text": [
      "\r\n",
      "Collecting chart data from ph: 532it [14:44,  1.59s/it]"
     ]
    },
    {
     "name": "stdout",
     "output_type": "stream",
     "text": [
      "\n",
      "Date: 2018-06-17\n",
      "https://spotifycharts.com/regional/ph/daily/2018-06-17/download\n"
     ]
    },
    {
     "name": "stderr",
     "output_type": "stream",
     "text": [
      "\r\n",
      "Collecting chart data from ph: 533it [14:45,  1.49s/it]"
     ]
    },
    {
     "name": "stdout",
     "output_type": "stream",
     "text": [
      "\n",
      "Date: 2018-06-18\n",
      "https://spotifycharts.com/regional/ph/daily/2018-06-18/download\n"
     ]
    },
    {
     "name": "stderr",
     "output_type": "stream",
     "text": [
      "\r\n",
      "Collecting chart data from ph: 534it [14:47,  1.54s/it]"
     ]
    },
    {
     "name": "stdout",
     "output_type": "stream",
     "text": [
      "\n",
      "Date: 2018-06-19\n",
      "https://spotifycharts.com/regional/ph/daily/2018-06-19/download\n"
     ]
    },
    {
     "name": "stderr",
     "output_type": "stream",
     "text": [
      "\r\n",
      "Collecting chart data from ph: 535it [14:48,  1.42s/it]"
     ]
    },
    {
     "name": "stdout",
     "output_type": "stream",
     "text": [
      "\n",
      "Date: 2018-06-20\n",
      "https://spotifycharts.com/regional/ph/daily/2018-06-20/download\n"
     ]
    },
    {
     "name": "stderr",
     "output_type": "stream",
     "text": [
      "\r\n",
      "Collecting chart data from ph: 536it [14:50,  1.50s/it]"
     ]
    },
    {
     "name": "stdout",
     "output_type": "stream",
     "text": [
      "\n",
      "Date: 2018-06-21\n",
      "https://spotifycharts.com/regional/ph/daily/2018-06-21/download\n"
     ]
    },
    {
     "name": "stderr",
     "output_type": "stream",
     "text": [
      "\r\n",
      "Collecting chart data from ph: 537it [14:51,  1.53s/it]"
     ]
    },
    {
     "name": "stdout",
     "output_type": "stream",
     "text": [
      "\n",
      "Date: 2018-06-22\n",
      "https://spotifycharts.com/regional/ph/daily/2018-06-22/download\n"
     ]
    },
    {
     "name": "stderr",
     "output_type": "stream",
     "text": [
      "\r\n",
      "Collecting chart data from ph: 538it [14:53,  1.56s/it]"
     ]
    },
    {
     "name": "stdout",
     "output_type": "stream",
     "text": [
      "\n",
      "Date: 2018-06-23\n",
      "https://spotifycharts.com/regional/ph/daily/2018-06-23/download\n"
     ]
    },
    {
     "name": "stderr",
     "output_type": "stream",
     "text": [
      "\r\n",
      "Collecting chart data from ph: 539it [14:55,  1.59s/it]"
     ]
    },
    {
     "name": "stdout",
     "output_type": "stream",
     "text": [
      "\n",
      "Date: 2018-06-24\n",
      "https://spotifycharts.com/regional/ph/daily/2018-06-24/download\n"
     ]
    },
    {
     "name": "stderr",
     "output_type": "stream",
     "text": [
      "\r\n",
      "Collecting chart data from ph: 540it [14:56,  1.46s/it]"
     ]
    },
    {
     "name": "stdout",
     "output_type": "stream",
     "text": [
      "\n",
      "Date: 2018-06-25\n",
      "https://spotifycharts.com/regional/ph/daily/2018-06-25/download\n"
     ]
    },
    {
     "name": "stderr",
     "output_type": "stream",
     "text": [
      "\r\n",
      "Collecting chart data from ph: 541it [14:57,  1.51s/it]"
     ]
    },
    {
     "name": "stdout",
     "output_type": "stream",
     "text": [
      "\n",
      "Date: 2018-06-26\n",
      "https://spotifycharts.com/regional/ph/daily/2018-06-26/download\n"
     ]
    },
    {
     "name": "stderr",
     "output_type": "stream",
     "text": [
      "\r\n",
      "Collecting chart data from ph: 542it [14:59,  1.62s/it]"
     ]
    },
    {
     "name": "stdout",
     "output_type": "stream",
     "text": [
      "\n",
      "Date: 2018-06-27\n",
      "https://spotifycharts.com/regional/ph/daily/2018-06-27/download\n"
     ]
    },
    {
     "name": "stderr",
     "output_type": "stream",
     "text": [
      "\r\n",
      "Collecting chart data from ph: 543it [15:01,  1.62s/it]"
     ]
    },
    {
     "name": "stdout",
     "output_type": "stream",
     "text": [
      "\n",
      "Date: 2018-06-28\n",
      "https://spotifycharts.com/regional/ph/daily/2018-06-28/download\n"
     ]
    },
    {
     "name": "stderr",
     "output_type": "stream",
     "text": [
      "\r\n",
      "Collecting chart data from ph: 544it [15:03,  1.67s/it]"
     ]
    },
    {
     "name": "stdout",
     "output_type": "stream",
     "text": [
      "\n",
      "Date: 2018-06-29\n",
      "https://spotifycharts.com/regional/ph/daily/2018-06-29/download\n"
     ]
    },
    {
     "name": "stderr",
     "output_type": "stream",
     "text": [
      "\r\n",
      "Collecting chart data from ph: 545it [15:05,  1.84s/it]"
     ]
    },
    {
     "name": "stdout",
     "output_type": "stream",
     "text": [
      "\n",
      "Date: 2018-06-30\n",
      "https://spotifycharts.com/regional/ph/daily/2018-06-30/download\n"
     ]
    },
    {
     "name": "stderr",
     "output_type": "stream",
     "text": [
      "\r\n",
      "Collecting chart data from ph: 546it [15:07,  1.83s/it]"
     ]
    },
    {
     "name": "stdout",
     "output_type": "stream",
     "text": [
      "\n",
      "Date: 2018-07-01\n",
      "https://spotifycharts.com/regional/ph/daily/2018-07-01/download\n"
     ]
    },
    {
     "name": "stderr",
     "output_type": "stream",
     "text": [
      "\r\n",
      "Collecting chart data from ph: 547it [15:08,  1.80s/it]"
     ]
    },
    {
     "name": "stdout",
     "output_type": "stream",
     "text": [
      "\n",
      "Date: 2018-07-02\n",
      "https://spotifycharts.com/regional/ph/daily/2018-07-02/download\n"
     ]
    },
    {
     "name": "stderr",
     "output_type": "stream",
     "text": [
      "\r\n",
      "Collecting chart data from ph: 548it [15:10,  1.63s/it]"
     ]
    },
    {
     "name": "stdout",
     "output_type": "stream",
     "text": [
      "\n",
      "Date: 2018-07-03\n",
      "https://spotifycharts.com/regional/ph/daily/2018-07-03/download\n"
     ]
    },
    {
     "name": "stderr",
     "output_type": "stream",
     "text": [
      "\r\n",
      "Collecting chart data from ph: 549it [15:12,  1.72s/it]"
     ]
    },
    {
     "name": "stdout",
     "output_type": "stream",
     "text": [
      "\n",
      "Date: 2018-07-04\n",
      "https://spotifycharts.com/regional/ph/daily/2018-07-04/download\n"
     ]
    },
    {
     "name": "stderr",
     "output_type": "stream",
     "text": [
      "\r\n",
      "Collecting chart data from ph: 550it [15:14,  1.83s/it]"
     ]
    },
    {
     "name": "stdout",
     "output_type": "stream",
     "text": [
      "\n",
      "Date: 2018-07-05\n",
      "https://spotifycharts.com/regional/ph/daily/2018-07-05/download\n"
     ]
    },
    {
     "name": "stderr",
     "output_type": "stream",
     "text": [
      "\r\n",
      "Collecting chart data from ph: 551it [15:15,  1.60s/it]"
     ]
    },
    {
     "name": "stdout",
     "output_type": "stream",
     "text": [
      "\n",
      "Date: 2018-07-06\n",
      "https://spotifycharts.com/regional/ph/daily/2018-07-06/download\n"
     ]
    },
    {
     "name": "stderr",
     "output_type": "stream",
     "text": [
      "\r\n",
      "Collecting chart data from ph: 552it [15:16,  1.58s/it]"
     ]
    },
    {
     "name": "stdout",
     "output_type": "stream",
     "text": [
      "\n",
      "Date: 2018-07-07\n",
      "https://spotifycharts.com/regional/ph/daily/2018-07-07/download\n"
     ]
    },
    {
     "name": "stderr",
     "output_type": "stream",
     "text": [
      "\r\n",
      "Collecting chart data from ph: 553it [15:18,  1.60s/it]"
     ]
    },
    {
     "name": "stdout",
     "output_type": "stream",
     "text": [
      "\n",
      "Date: 2018-07-08\n",
      "https://spotifycharts.com/regional/ph/daily/2018-07-08/download\n"
     ]
    },
    {
     "name": "stderr",
     "output_type": "stream",
     "text": [
      "\r\n",
      "Collecting chart data from ph: 554it [15:20,  1.65s/it]"
     ]
    },
    {
     "name": "stdout",
     "output_type": "stream",
     "text": [
      "\n",
      "Date: 2018-07-09\n",
      "https://spotifycharts.com/regional/ph/daily/2018-07-09/download\n"
     ]
    },
    {
     "name": "stderr",
     "output_type": "stream",
     "text": [
      "\r\n",
      "Collecting chart data from ph: 555it [15:22,  1.69s/it]"
     ]
    },
    {
     "name": "stdout",
     "output_type": "stream",
     "text": [
      "\n",
      "Date: 2018-07-10\n",
      "https://spotifycharts.com/regional/ph/daily/2018-07-10/download\n"
     ]
    },
    {
     "name": "stderr",
     "output_type": "stream",
     "text": [
      "\r\n",
      "Collecting chart data from ph: 556it [15:23,  1.76s/it]"
     ]
    },
    {
     "name": "stdout",
     "output_type": "stream",
     "text": [
      "\n",
      "Date: 2018-07-11\n",
      "https://spotifycharts.com/regional/ph/daily/2018-07-11/download\n"
     ]
    },
    {
     "name": "stderr",
     "output_type": "stream",
     "text": [
      "\r\n",
      "Collecting chart data from ph: 557it [15:25,  1.72s/it]"
     ]
    },
    {
     "name": "stdout",
     "output_type": "stream",
     "text": [
      "\n",
      "Date: 2018-07-12\n",
      "https://spotifycharts.com/regional/ph/daily/2018-07-12/download\n"
     ]
    },
    {
     "name": "stderr",
     "output_type": "stream",
     "text": [
      "\r\n",
      "Collecting chart data from ph: 558it [15:27,  1.77s/it]"
     ]
    },
    {
     "name": "stdout",
     "output_type": "stream",
     "text": [
      "\n",
      "Date: 2018-07-13\n",
      "https://spotifycharts.com/regional/ph/daily/2018-07-13/download\n"
     ]
    },
    {
     "name": "stderr",
     "output_type": "stream",
     "text": [
      "\r\n",
      "Collecting chart data from ph: 559it [15:29,  1.79s/it]"
     ]
    },
    {
     "name": "stdout",
     "output_type": "stream",
     "text": [
      "\n",
      "Date: 2018-07-14\n",
      "https://spotifycharts.com/regional/ph/daily/2018-07-14/download\n"
     ]
    },
    {
     "name": "stderr",
     "output_type": "stream",
     "text": [
      "\r\n",
      "Collecting chart data from ph: 560it [15:30,  1.58s/it]"
     ]
    },
    {
     "name": "stdout",
     "output_type": "stream",
     "text": [
      "\n",
      "Date: 2018-07-15\n",
      "https://spotifycharts.com/regional/ph/daily/2018-07-15/download\n"
     ]
    },
    {
     "name": "stderr",
     "output_type": "stream",
     "text": [
      "\r\n",
      "Collecting chart data from ph: 561it [15:31,  1.59s/it]"
     ]
    },
    {
     "name": "stdout",
     "output_type": "stream",
     "text": [
      "\n",
      "Date: 2018-07-16\n",
      "https://spotifycharts.com/regional/ph/daily/2018-07-16/download\n"
     ]
    },
    {
     "name": "stderr",
     "output_type": "stream",
     "text": [
      "\r\n",
      "Collecting chart data from ph: 562it [15:33,  1.67s/it]"
     ]
    },
    {
     "name": "stdout",
     "output_type": "stream",
     "text": [
      "\n",
      "Date: 2018-07-17\n",
      "https://spotifycharts.com/regional/ph/daily/2018-07-17/download\n"
     ]
    },
    {
     "name": "stderr",
     "output_type": "stream",
     "text": [
      "\r\n",
      "Collecting chart data from ph: 563it [15:35,  1.67s/it]"
     ]
    },
    {
     "name": "stdout",
     "output_type": "stream",
     "text": [
      "\n",
      "Date: 2018-07-18\n",
      "https://spotifycharts.com/regional/ph/daily/2018-07-18/download\n"
     ]
    },
    {
     "name": "stderr",
     "output_type": "stream",
     "text": [
      "\r\n",
      "Collecting chart data from ph: 564it [15:37,  1.65s/it]"
     ]
    },
    {
     "name": "stdout",
     "output_type": "stream",
     "text": [
      "\n",
      "Date: 2018-07-19\n",
      "https://spotifycharts.com/regional/ph/daily/2018-07-19/download\n"
     ]
    },
    {
     "name": "stderr",
     "output_type": "stream",
     "text": [
      "\r\n",
      "Collecting chart data from ph: 565it [15:38,  1.67s/it]"
     ]
    },
    {
     "name": "stdout",
     "output_type": "stream",
     "text": [
      "\n",
      "Date: 2018-07-20\n",
      "https://spotifycharts.com/regional/ph/daily/2018-07-20/download\n"
     ]
    },
    {
     "name": "stderr",
     "output_type": "stream",
     "text": [
      "\r\n",
      "Collecting chart data from ph: 566it [15:40,  1.67s/it]"
     ]
    },
    {
     "name": "stdout",
     "output_type": "stream",
     "text": [
      "\n",
      "Date: 2018-07-21\n",
      "https://spotifycharts.com/regional/ph/daily/2018-07-21/download\n"
     ]
    },
    {
     "name": "stderr",
     "output_type": "stream",
     "text": [
      "\r\n",
      "Collecting chart data from ph: 567it [15:42,  1.68s/it]"
     ]
    },
    {
     "name": "stdout",
     "output_type": "stream",
     "text": [
      "\n",
      "Date: 2018-07-22\n",
      "https://spotifycharts.com/regional/ph/daily/2018-07-22/download\n"
     ]
    },
    {
     "name": "stderr",
     "output_type": "stream",
     "text": [
      "\r\n",
      "Collecting chart data from ph: 568it [15:44,  1.73s/it]"
     ]
    },
    {
     "name": "stdout",
     "output_type": "stream",
     "text": [
      "\n",
      "Date: 2018-07-23\n",
      "https://spotifycharts.com/regional/ph/daily/2018-07-23/download\n"
     ]
    },
    {
     "name": "stderr",
     "output_type": "stream",
     "text": [
      "\r\n",
      "Collecting chart data from ph: 569it [15:45,  1.70s/it]"
     ]
    },
    {
     "name": "stdout",
     "output_type": "stream",
     "text": [
      "\n",
      "Date: 2018-07-24\n",
      "https://spotifycharts.com/regional/ph/daily/2018-07-24/download\n"
     ]
    },
    {
     "name": "stderr",
     "output_type": "stream",
     "text": [
      "\r\n",
      "Collecting chart data from ph: 570it [15:47,  1.67s/it]"
     ]
    },
    {
     "name": "stdout",
     "output_type": "stream",
     "text": [
      "\n",
      "Date: 2018-07-25\n",
      "https://spotifycharts.com/regional/ph/daily/2018-07-25/download\n"
     ]
    },
    {
     "name": "stderr",
     "output_type": "stream",
     "text": [
      "\r\n",
      "Collecting chart data from ph: 571it [15:48,  1.51s/it]"
     ]
    },
    {
     "name": "stdout",
     "output_type": "stream",
     "text": [
      "\n",
      "Date: 2018-07-26\n",
      "https://spotifycharts.com/regional/ph/daily/2018-07-26/download\n"
     ]
    },
    {
     "name": "stderr",
     "output_type": "stream",
     "text": [
      "\r\n",
      "Collecting chart data from ph: 572it [15:50,  1.63s/it]"
     ]
    },
    {
     "name": "stdout",
     "output_type": "stream",
     "text": [
      "\n",
      "Date: 2018-07-27\n",
      "https://spotifycharts.com/regional/ph/daily/2018-07-27/download\n"
     ]
    },
    {
     "name": "stderr",
     "output_type": "stream",
     "text": [
      "\r\n",
      "Collecting chart data from ph: 573it [15:51,  1.49s/it]"
     ]
    },
    {
     "name": "stdout",
     "output_type": "stream",
     "text": [
      "\n",
      "Date: 2018-07-28\n",
      "https://spotifycharts.com/regional/ph/daily/2018-07-28/download\n"
     ]
    },
    {
     "name": "stderr",
     "output_type": "stream",
     "text": [
      "\r\n",
      "Collecting chart data from ph: 574it [15:53,  1.50s/it]"
     ]
    },
    {
     "name": "stdout",
     "output_type": "stream",
     "text": [
      "\n",
      "Date: 2018-07-29\n",
      "https://spotifycharts.com/regional/ph/daily/2018-07-29/download\n"
     ]
    },
    {
     "name": "stderr",
     "output_type": "stream",
     "text": [
      "\r\n",
      "Collecting chart data from ph: 575it [15:54,  1.55s/it]"
     ]
    },
    {
     "name": "stdout",
     "output_type": "stream",
     "text": [
      "\n",
      "Date: 2018-07-30\n",
      "https://spotifycharts.com/regional/ph/daily/2018-07-30/download\n"
     ]
    },
    {
     "name": "stderr",
     "output_type": "stream",
     "text": [
      "\r\n",
      "Collecting chart data from ph: 576it [15:56,  1.62s/it]"
     ]
    },
    {
     "name": "stdout",
     "output_type": "stream",
     "text": [
      "\n",
      "Date: 2018-07-31\n",
      "https://spotifycharts.com/regional/ph/daily/2018-07-31/download\n"
     ]
    },
    {
     "name": "stderr",
     "output_type": "stream",
     "text": [
      "\r\n",
      "Collecting chart data from ph: 577it [15:58,  1.65s/it]"
     ]
    },
    {
     "name": "stdout",
     "output_type": "stream",
     "text": [
      "\n",
      "Date: 2018-08-01\n",
      "https://spotifycharts.com/regional/ph/daily/2018-08-01/download\n"
     ]
    },
    {
     "name": "stderr",
     "output_type": "stream",
     "text": [
      "\r\n",
      "Collecting chart data from ph: 578it [15:59,  1.65s/it]"
     ]
    },
    {
     "name": "stdout",
     "output_type": "stream",
     "text": [
      "\n",
      "Date: 2018-08-02\n",
      "https://spotifycharts.com/regional/ph/daily/2018-08-02/download\n"
     ]
    },
    {
     "name": "stderr",
     "output_type": "stream",
     "text": [
      "\r\n",
      "Collecting chart data from ph: 579it [16:01,  1.76s/it]"
     ]
    },
    {
     "name": "stdout",
     "output_type": "stream",
     "text": [
      "\n",
      "Date: 2018-08-03\n",
      "https://spotifycharts.com/regional/ph/daily/2018-08-03/download\n"
     ]
    },
    {
     "name": "stderr",
     "output_type": "stream",
     "text": [
      "\r\n",
      "Collecting chart data from ph: 580it [16:02,  1.56s/it]"
     ]
    },
    {
     "name": "stdout",
     "output_type": "stream",
     "text": [
      "\n",
      "Date: 2018-08-04\n",
      "https://spotifycharts.com/regional/ph/daily/2018-08-04/download\n"
     ]
    },
    {
     "name": "stderr",
     "output_type": "stream",
     "text": [
      "\r\n",
      "Collecting chart data from ph: 581it [16:04,  1.59s/it]"
     ]
    },
    {
     "name": "stdout",
     "output_type": "stream",
     "text": [
      "\n",
      "Date: 2018-08-05\n",
      "https://spotifycharts.com/regional/ph/daily/2018-08-05/download\n"
     ]
    },
    {
     "name": "stderr",
     "output_type": "stream",
     "text": [
      "\r\n",
      "Collecting chart data from ph: 582it [16:06,  1.60s/it]"
     ]
    },
    {
     "name": "stdout",
     "output_type": "stream",
     "text": [
      "\n",
      "Date: 2018-08-06\n",
      "https://spotifycharts.com/regional/ph/daily/2018-08-06/download\n"
     ]
    },
    {
     "name": "stderr",
     "output_type": "stream",
     "text": [
      "\r\n",
      "Collecting chart data from ph: 583it [16:07,  1.62s/it]"
     ]
    },
    {
     "name": "stdout",
     "output_type": "stream",
     "text": [
      "\n",
      "Date: 2018-08-07\n",
      "https://spotifycharts.com/regional/ph/daily/2018-08-07/download\n"
     ]
    },
    {
     "name": "stderr",
     "output_type": "stream",
     "text": [
      "\r\n",
      "Collecting chart data from ph: 584it [16:09,  1.63s/it]"
     ]
    },
    {
     "name": "stdout",
     "output_type": "stream",
     "text": [
      "\n",
      "Date: 2018-08-08\n",
      "https://spotifycharts.com/regional/ph/daily/2018-08-08/download\n"
     ]
    },
    {
     "name": "stderr",
     "output_type": "stream",
     "text": [
      "\r\n",
      "Collecting chart data from ph: 585it [16:11,  1.71s/it]"
     ]
    },
    {
     "name": "stdout",
     "output_type": "stream",
     "text": [
      "\n",
      "Date: 2018-08-09\n",
      "https://spotifycharts.com/regional/ph/daily/2018-08-09/download\n"
     ]
    },
    {
     "name": "stderr",
     "output_type": "stream",
     "text": [
      "\r\n",
      "Collecting chart data from ph: 586it [16:12,  1.49s/it]"
     ]
    },
    {
     "name": "stdout",
     "output_type": "stream",
     "text": [
      "\n",
      "Date: 2018-08-10\n",
      "https://spotifycharts.com/regional/ph/daily/2018-08-10/download\n"
     ]
    },
    {
     "name": "stderr",
     "output_type": "stream",
     "text": [
      "\r\n",
      "Collecting chart data from ph: 587it [16:14,  1.54s/it]"
     ]
    },
    {
     "name": "stdout",
     "output_type": "stream",
     "text": [
      "\n",
      "Date: 2018-08-11\n",
      "https://spotifycharts.com/regional/ph/daily/2018-08-11/download\n"
     ]
    },
    {
     "name": "stderr",
     "output_type": "stream",
     "text": [
      "\r\n",
      "Collecting chart data from ph: 588it [16:15,  1.62s/it]"
     ]
    },
    {
     "name": "stdout",
     "output_type": "stream",
     "text": [
      "\n",
      "Date: 2018-08-12\n",
      "https://spotifycharts.com/regional/ph/daily/2018-08-12/download\n"
     ]
    },
    {
     "name": "stderr",
     "output_type": "stream",
     "text": [
      "\r\n",
      "Collecting chart data from ph: 589it [16:17,  1.66s/it]"
     ]
    },
    {
     "name": "stdout",
     "output_type": "stream",
     "text": [
      "\n",
      "Date: 2018-08-13\n",
      "https://spotifycharts.com/regional/ph/daily/2018-08-13/download\n"
     ]
    },
    {
     "name": "stderr",
     "output_type": "stream",
     "text": [
      "\r\n",
      "Collecting chart data from ph: 590it [16:19,  1.65s/it]"
     ]
    },
    {
     "name": "stdout",
     "output_type": "stream",
     "text": [
      "\n",
      "Date: 2018-08-14\n",
      "https://spotifycharts.com/regional/ph/daily/2018-08-14/download\n"
     ]
    },
    {
     "name": "stderr",
     "output_type": "stream",
     "text": [
      "\r\n",
      "Collecting chart data from ph: 591it [16:20,  1.64s/it]"
     ]
    },
    {
     "name": "stdout",
     "output_type": "stream",
     "text": [
      "\n",
      "Date: 2018-08-15\n",
      "https://spotifycharts.com/regional/ph/daily/2018-08-15/download\n"
     ]
    },
    {
     "name": "stderr",
     "output_type": "stream",
     "text": [
      "\r\n",
      "Collecting chart data from ph: 592it [16:22,  1.67s/it]"
     ]
    },
    {
     "name": "stdout",
     "output_type": "stream",
     "text": [
      "\n",
      "Date: 2018-08-16\n",
      "https://spotifycharts.com/regional/ph/daily/2018-08-16/download\n"
     ]
    },
    {
     "name": "stderr",
     "output_type": "stream",
     "text": [
      "\r\n",
      "Collecting chart data from ph: 593it [16:24,  1.65s/it]"
     ]
    },
    {
     "name": "stdout",
     "output_type": "stream",
     "text": [
      "\n",
      "Date: 2018-08-17\n",
      "https://spotifycharts.com/regional/ph/daily/2018-08-17/download\n"
     ]
    },
    {
     "name": "stderr",
     "output_type": "stream",
     "text": [
      "\r\n",
      "Collecting chart data from ph: 594it [16:25,  1.49s/it]"
     ]
    },
    {
     "name": "stdout",
     "output_type": "stream",
     "text": [
      "\n",
      "Date: 2018-08-18\n",
      "https://spotifycharts.com/regional/ph/daily/2018-08-18/download\n"
     ]
    },
    {
     "name": "stderr",
     "output_type": "stream",
     "text": [
      "\r\n",
      "Collecting chart data from ph: 595it [16:26,  1.52s/it]"
     ]
    },
    {
     "name": "stdout",
     "output_type": "stream",
     "text": [
      "\n",
      "Date: 2018-08-19\n",
      "https://spotifycharts.com/regional/ph/daily/2018-08-19/download\n"
     ]
    },
    {
     "name": "stderr",
     "output_type": "stream",
     "text": [
      "\r\n",
      "Collecting chart data from ph: 596it [16:28,  1.54s/it]"
     ]
    },
    {
     "name": "stdout",
     "output_type": "stream",
     "text": [
      "\n",
      "Date: 2018-08-20\n",
      "https://spotifycharts.com/regional/ph/daily/2018-08-20/download\n"
     ]
    },
    {
     "name": "stderr",
     "output_type": "stream",
     "text": [
      "\r\n",
      "Collecting chart data from ph: 597it [16:30,  1.55s/it]"
     ]
    },
    {
     "name": "stdout",
     "output_type": "stream",
     "text": [
      "\n",
      "Date: 2018-08-21\n",
      "https://spotifycharts.com/regional/ph/daily/2018-08-21/download\n"
     ]
    },
    {
     "name": "stderr",
     "output_type": "stream",
     "text": [
      "\r\n",
      "Collecting chart data from ph: 598it [16:31,  1.61s/it]"
     ]
    },
    {
     "name": "stdout",
     "output_type": "stream",
     "text": [
      "\n",
      "Date: 2018-08-22\n",
      "https://spotifycharts.com/regional/ph/daily/2018-08-22/download\n"
     ]
    },
    {
     "name": "stderr",
     "output_type": "stream",
     "text": [
      "\r\n",
      "Collecting chart data from ph: 599it [16:33,  1.62s/it]"
     ]
    },
    {
     "name": "stdout",
     "output_type": "stream",
     "text": [
      "\n",
      "Date: 2018-08-23\n",
      "https://spotifycharts.com/regional/ph/daily/2018-08-23/download\n"
     ]
    },
    {
     "name": "stderr",
     "output_type": "stream",
     "text": [
      "\r\n",
      "Collecting chart data from ph: 600it [16:34,  1.59s/it]"
     ]
    },
    {
     "name": "stdout",
     "output_type": "stream",
     "text": [
      "\n",
      "Date: 2018-08-24\n",
      "https://spotifycharts.com/regional/ph/daily/2018-08-24/download\n"
     ]
    },
    {
     "name": "stderr",
     "output_type": "stream",
     "text": [
      "\r\n",
      "Collecting chart data from ph: 601it [16:36,  1.47s/it]"
     ]
    },
    {
     "name": "stdout",
     "output_type": "stream",
     "text": [
      "\n",
      "Date: 2018-08-25\n",
      "https://spotifycharts.com/regional/ph/daily/2018-08-25/download\n"
     ]
    },
    {
     "name": "stderr",
     "output_type": "stream",
     "text": [
      "\r\n",
      "Collecting chart data from ph: 602it [16:37,  1.55s/it]"
     ]
    },
    {
     "name": "stdout",
     "output_type": "stream",
     "text": [
      "\n",
      "Date: 2018-08-26\n",
      "https://spotifycharts.com/regional/ph/daily/2018-08-26/download\n"
     ]
    },
    {
     "name": "stderr",
     "output_type": "stream",
     "text": [
      "\r\n",
      "Collecting chart data from ph: 603it [16:39,  1.58s/it]"
     ]
    },
    {
     "name": "stdout",
     "output_type": "stream",
     "text": [
      "\n",
      "Date: 2018-08-27\n",
      "https://spotifycharts.com/regional/ph/daily/2018-08-27/download\n"
     ]
    },
    {
     "name": "stderr",
     "output_type": "stream",
     "text": [
      "\r\n",
      "Collecting chart data from ph: 604it [16:41,  1.59s/it]"
     ]
    },
    {
     "name": "stdout",
     "output_type": "stream",
     "text": [
      "\n",
      "Date: 2018-08-28\n",
      "https://spotifycharts.com/regional/ph/daily/2018-08-28/download\n"
     ]
    },
    {
     "name": "stderr",
     "output_type": "stream",
     "text": [
      "\r\n",
      "Collecting chart data from ph: 605it [16:42,  1.58s/it]"
     ]
    },
    {
     "name": "stdout",
     "output_type": "stream",
     "text": [
      "\n",
      "Date: 2018-08-29\n",
      "https://spotifycharts.com/regional/ph/daily/2018-08-29/download\n"
     ]
    },
    {
     "name": "stderr",
     "output_type": "stream",
     "text": [
      "\r\n",
      "Collecting chart data from ph: 606it [16:44,  1.65s/it]"
     ]
    },
    {
     "name": "stdout",
     "output_type": "stream",
     "text": [
      "\n",
      "Date: 2018-08-30\n",
      "https://spotifycharts.com/regional/ph/daily/2018-08-30/download\n"
     ]
    },
    {
     "name": "stderr",
     "output_type": "stream",
     "text": [
      "\r\n",
      "Collecting chart data from ph: 607it [16:46,  1.66s/it]"
     ]
    },
    {
     "name": "stdout",
     "output_type": "stream",
     "text": [
      "\n",
      "Date: 2018-08-31\n",
      "https://spotifycharts.com/regional/ph/daily/2018-08-31/download\n"
     ]
    },
    {
     "name": "stderr",
     "output_type": "stream",
     "text": [
      "\r\n",
      "Collecting chart data from ph: 608it [16:47,  1.65s/it]"
     ]
    },
    {
     "name": "stdout",
     "output_type": "stream",
     "text": [
      "\n",
      "Date: 2018-09-01\n",
      "https://spotifycharts.com/regional/ph/daily/2018-09-01/download\n"
     ]
    },
    {
     "name": "stderr",
     "output_type": "stream",
     "text": [
      "\r\n",
      "Collecting chart data from ph: 609it [16:49,  1.62s/it]"
     ]
    },
    {
     "name": "stdout",
     "output_type": "stream",
     "text": [
      "\n",
      "Date: 2018-09-02\n",
      "https://spotifycharts.com/regional/ph/daily/2018-09-02/download\n"
     ]
    },
    {
     "name": "stderr",
     "output_type": "stream",
     "text": [
      "\r\n",
      "Collecting chart data from ph: 610it [16:51,  1.61s/it]"
     ]
    },
    {
     "name": "stdout",
     "output_type": "stream",
     "text": [
      "\n",
      "Date: 2018-09-03\n",
      "https://spotifycharts.com/regional/ph/daily/2018-09-03/download\n"
     ]
    },
    {
     "name": "stderr",
     "output_type": "stream",
     "text": [
      "\r\n",
      "Collecting chart data from ph: 611it [16:53,  1.93s/it]"
     ]
    },
    {
     "name": "stdout",
     "output_type": "stream",
     "text": [
      "\n",
      "Date: 2018-09-04\n",
      "https://spotifycharts.com/regional/ph/daily/2018-09-04/download\n"
     ]
    },
    {
     "name": "stderr",
     "output_type": "stream",
     "text": [
      "\r\n",
      "Collecting chart data from ph: 612it [16:55,  1.83s/it]"
     ]
    },
    {
     "name": "stdout",
     "output_type": "stream",
     "text": [
      "\n",
      "Date: 2018-09-05\n",
      "https://spotifycharts.com/regional/ph/daily/2018-09-05/download\n"
     ]
    },
    {
     "name": "stderr",
     "output_type": "stream",
     "text": [
      "\r\n",
      "Collecting chart data from ph: 613it [16:57,  1.83s/it]"
     ]
    },
    {
     "name": "stdout",
     "output_type": "stream",
     "text": [
      "\n",
      "Date: 2018-09-06\n",
      "https://spotifycharts.com/regional/ph/daily/2018-09-06/download\n"
     ]
    },
    {
     "name": "stderr",
     "output_type": "stream",
     "text": [
      "\r\n",
      "Collecting chart data from ph: 614it [16:58,  1.77s/it]"
     ]
    },
    {
     "name": "stdout",
     "output_type": "stream",
     "text": [
      "\n",
      "Date: 2018-09-07\n",
      "https://spotifycharts.com/regional/ph/daily/2018-09-07/download\n"
     ]
    },
    {
     "name": "stderr",
     "output_type": "stream",
     "text": [
      "\r\n",
      "Collecting chart data from ph: 615it [17:00,  1.72s/it]"
     ]
    },
    {
     "name": "stdout",
     "output_type": "stream",
     "text": [
      "\n",
      "Date: 2018-09-08\n",
      "https://spotifycharts.com/regional/ph/daily/2018-09-08/download\n"
     ]
    },
    {
     "name": "stderr",
     "output_type": "stream",
     "text": [
      "\r\n",
      "Collecting chart data from ph: 616it [17:01,  1.51s/it]"
     ]
    },
    {
     "name": "stdout",
     "output_type": "stream",
     "text": [
      "\n",
      "Date: 2018-09-09\n",
      "https://spotifycharts.com/regional/ph/daily/2018-09-09/download\n"
     ]
    },
    {
     "name": "stderr",
     "output_type": "stream",
     "text": [
      "\r\n",
      "Collecting chart data from ph: 617it [17:02,  1.53s/it]"
     ]
    },
    {
     "name": "stdout",
     "output_type": "stream",
     "text": [
      "\n",
      "Date: 2018-09-10\n",
      "https://spotifycharts.com/regional/ph/daily/2018-09-10/download\n"
     ]
    },
    {
     "name": "stderr",
     "output_type": "stream",
     "text": [
      "\r\n",
      "Collecting chart data from ph: 618it [17:04,  1.57s/it]"
     ]
    },
    {
     "name": "stdout",
     "output_type": "stream",
     "text": [
      "\n",
      "Date: 2018-09-11\n",
      "https://spotifycharts.com/regional/ph/daily/2018-09-11/download\n"
     ]
    },
    {
     "name": "stderr",
     "output_type": "stream",
     "text": [
      "\r\n",
      "Collecting chart data from ph: 619it [17:06,  1.58s/it]"
     ]
    },
    {
     "name": "stdout",
     "output_type": "stream",
     "text": [
      "\n",
      "Date: 2018-09-12\n",
      "https://spotifycharts.com/regional/ph/daily/2018-09-12/download\n"
     ]
    },
    {
     "name": "stderr",
     "output_type": "stream",
     "text": [
      "\r\n",
      "Collecting chart data from ph: 620it [17:07,  1.56s/it]"
     ]
    },
    {
     "name": "stdout",
     "output_type": "stream",
     "text": [
      "\n",
      "Date: 2018-09-13\n",
      "https://spotifycharts.com/regional/ph/daily/2018-09-13/download\n"
     ]
    },
    {
     "name": "stderr",
     "output_type": "stream",
     "text": [
      "\r\n",
      "Collecting chart data from ph: 621it [17:08,  1.45s/it]"
     ]
    },
    {
     "name": "stdout",
     "output_type": "stream",
     "text": [
      "\n",
      "Date: 2018-09-14\n",
      "https://spotifycharts.com/regional/ph/daily/2018-09-14/download\n"
     ]
    },
    {
     "name": "stderr",
     "output_type": "stream",
     "text": [
      "\r\n",
      "Collecting chart data from ph: 622it [17:10,  1.34s/it]"
     ]
    },
    {
     "name": "stdout",
     "output_type": "stream",
     "text": [
      "\n",
      "Date: 2018-09-15\n",
      "https://spotifycharts.com/regional/ph/daily/2018-09-15/download\n"
     ]
    },
    {
     "name": "stderr",
     "output_type": "stream",
     "text": [
      "\r\n",
      "Collecting chart data from ph: 623it [17:11,  1.46s/it]"
     ]
    },
    {
     "name": "stdout",
     "output_type": "stream",
     "text": [
      "\n",
      "Date: 2018-09-16\n",
      "https://spotifycharts.com/regional/ph/daily/2018-09-16/download\n"
     ]
    },
    {
     "name": "stderr",
     "output_type": "stream",
     "text": [
      "\r\n",
      "Collecting chart data from ph: 624it [17:13,  1.50s/it]"
     ]
    },
    {
     "name": "stdout",
     "output_type": "stream",
     "text": [
      "\n",
      "Date: 2018-09-17\n",
      "https://spotifycharts.com/regional/ph/daily/2018-09-17/download\n"
     ]
    },
    {
     "name": "stderr",
     "output_type": "stream",
     "text": [
      "\r\n",
      "Collecting chart data from ph: 625it [17:14,  1.52s/it]"
     ]
    },
    {
     "name": "stdout",
     "output_type": "stream",
     "text": [
      "\n",
      "Date: 2018-09-18\n",
      "https://spotifycharts.com/regional/ph/daily/2018-09-18/download\n"
     ]
    },
    {
     "name": "stderr",
     "output_type": "stream",
     "text": [
      "\r\n",
      "Collecting chart data from ph: 626it [17:16,  1.52s/it]"
     ]
    },
    {
     "name": "stdout",
     "output_type": "stream",
     "text": [
      "\n",
      "Date: 2018-09-19\n",
      "https://spotifycharts.com/regional/ph/daily/2018-09-19/download\n"
     ]
    },
    {
     "name": "stderr",
     "output_type": "stream",
     "text": [
      "\r\n",
      "Collecting chart data from ph: 627it [17:18,  1.56s/it]"
     ]
    },
    {
     "name": "stdout",
     "output_type": "stream",
     "text": [
      "\n",
      "Date: 2018-09-20\n",
      "https://spotifycharts.com/regional/ph/daily/2018-09-20/download\n"
     ]
    },
    {
     "name": "stderr",
     "output_type": "stream",
     "text": [
      "\r\n",
      "Collecting chart data from ph: 628it [17:19,  1.49s/it]"
     ]
    },
    {
     "name": "stdout",
     "output_type": "stream",
     "text": [
      "\n",
      "Date: 2018-09-21\n",
      "https://spotifycharts.com/regional/ph/daily/2018-09-21/download\n"
     ]
    },
    {
     "name": "stderr",
     "output_type": "stream",
     "text": [
      "\r\n",
      "Collecting chart data from ph: 629it [17:20,  1.50s/it]"
     ]
    },
    {
     "name": "stdout",
     "output_type": "stream",
     "text": [
      "\n",
      "Date: 2018-09-22\n",
      "https://spotifycharts.com/regional/ph/daily/2018-09-22/download\n"
     ]
    },
    {
     "name": "stderr",
     "output_type": "stream",
     "text": [
      "\r\n",
      "Collecting chart data from ph: 630it [17:22,  1.54s/it]"
     ]
    },
    {
     "name": "stdout",
     "output_type": "stream",
     "text": [
      "\n",
      "Date: 2018-09-23\n",
      "https://spotifycharts.com/regional/ph/daily/2018-09-23/download\n"
     ]
    },
    {
     "name": "stderr",
     "output_type": "stream",
     "text": [
      "\r\n",
      "Collecting chart data from ph: 631it [17:24,  1.56s/it]"
     ]
    },
    {
     "name": "stdout",
     "output_type": "stream",
     "text": [
      "\n",
      "Date: 2018-09-24\n",
      "https://spotifycharts.com/regional/ph/daily/2018-09-24/download\n"
     ]
    },
    {
     "name": "stderr",
     "output_type": "stream",
     "text": [
      "\r\n",
      "Collecting chart data from ph: 632it [17:25,  1.57s/it]"
     ]
    },
    {
     "name": "stdout",
     "output_type": "stream",
     "text": [
      "\n",
      "Date: 2018-09-25\n",
      "https://spotifycharts.com/regional/ph/daily/2018-09-25/download\n"
     ]
    },
    {
     "name": "stderr",
     "output_type": "stream",
     "text": [
      "\r\n",
      "Collecting chart data from ph: 633it [17:27,  1.63s/it]"
     ]
    },
    {
     "name": "stdout",
     "output_type": "stream",
     "text": [
      "\n",
      "Date: 2018-09-26\n",
      "https://spotifycharts.com/regional/ph/daily/2018-09-26/download\n"
     ]
    },
    {
     "name": "stderr",
     "output_type": "stream",
     "text": [
      "\r\n",
      "Collecting chart data from ph: 634it [17:29,  1.65s/it]"
     ]
    },
    {
     "name": "stdout",
     "output_type": "stream",
     "text": [
      "\n",
      "Date: 2018-09-27\n",
      "https://spotifycharts.com/regional/ph/daily/2018-09-27/download\n"
     ]
    },
    {
     "name": "stderr",
     "output_type": "stream",
     "text": [
      "\r\n",
      "Collecting chart data from ph: 635it [17:30,  1.64s/it]"
     ]
    },
    {
     "name": "stdout",
     "output_type": "stream",
     "text": [
      "\n",
      "Date: 2018-09-28\n",
      "https://spotifycharts.com/regional/ph/daily/2018-09-28/download\n"
     ]
    },
    {
     "name": "stderr",
     "output_type": "stream",
     "text": [
      "\r\n",
      "Collecting chart data from ph: 636it [17:32,  1.68s/it]"
     ]
    },
    {
     "name": "stdout",
     "output_type": "stream",
     "text": [
      "\n",
      "Date: 2018-09-29\n",
      "https://spotifycharts.com/regional/ph/daily/2018-09-29/download\n"
     ]
    },
    {
     "name": "stderr",
     "output_type": "stream",
     "text": [
      "\r\n",
      "Collecting chart data from ph: 637it [17:34,  1.70s/it]"
     ]
    },
    {
     "name": "stdout",
     "output_type": "stream",
     "text": [
      "\n",
      "Date: 2018-09-30\n",
      "https://spotifycharts.com/regional/ph/daily/2018-09-30/download\n"
     ]
    },
    {
     "name": "stderr",
     "output_type": "stream",
     "text": [
      "\r\n",
      "Collecting chart data from ph: 638it [17:35,  1.67s/it]"
     ]
    },
    {
     "name": "stdout",
     "output_type": "stream",
     "text": [
      "\n",
      "Date: 2018-10-01\n",
      "https://spotifycharts.com/regional/ph/daily/2018-10-01/download\n"
     ]
    },
    {
     "name": "stderr",
     "output_type": "stream",
     "text": [
      "\r\n",
      "Collecting chart data from ph: 639it [17:37,  1.49s/it]"
     ]
    },
    {
     "name": "stdout",
     "output_type": "stream",
     "text": [
      "\n",
      "Date: 2018-10-02\n",
      "https://spotifycharts.com/regional/ph/daily/2018-10-02/download\n"
     ]
    },
    {
     "name": "stderr",
     "output_type": "stream",
     "text": [
      "\r\n",
      "Collecting chart data from ph: 640it [17:38,  1.53s/it]"
     ]
    },
    {
     "name": "stdout",
     "output_type": "stream",
     "text": [
      "\n",
      "Date: 2018-10-03\n",
      "https://spotifycharts.com/regional/ph/daily/2018-10-03/download\n"
     ]
    },
    {
     "name": "stderr",
     "output_type": "stream",
     "text": [
      "\r\n",
      "Collecting chart data from ph: 641it [17:40,  1.57s/it]"
     ]
    },
    {
     "name": "stdout",
     "output_type": "stream",
     "text": [
      "\n",
      "Date: 2018-10-04\n",
      "https://spotifycharts.com/regional/ph/daily/2018-10-04/download\n"
     ]
    },
    {
     "name": "stderr",
     "output_type": "stream",
     "text": [
      "\r\n",
      "Collecting chart data from ph: 642it [17:41,  1.56s/it]"
     ]
    },
    {
     "name": "stdout",
     "output_type": "stream",
     "text": [
      "\n",
      "Date: 2018-10-05\n",
      "https://spotifycharts.com/regional/ph/daily/2018-10-05/download\n"
     ]
    },
    {
     "name": "stderr",
     "output_type": "stream",
     "text": [
      "\r\n",
      "Collecting chart data from ph: 643it [17:43,  1.58s/it]"
     ]
    },
    {
     "name": "stdout",
     "output_type": "stream",
     "text": [
      "\n",
      "Date: 2018-10-06\n",
      "https://spotifycharts.com/regional/ph/daily/2018-10-06/download\n"
     ]
    },
    {
     "name": "stderr",
     "output_type": "stream",
     "text": [
      "\r\n",
      "Collecting chart data from ph: 644it [17:45,  1.60s/it]"
     ]
    },
    {
     "name": "stdout",
     "output_type": "stream",
     "text": [
      "\n",
      "Date: 2018-10-07\n",
      "https://spotifycharts.com/regional/ph/daily/2018-10-07/download\n"
     ]
    },
    {
     "name": "stderr",
     "output_type": "stream",
     "text": [
      "\r\n",
      "Collecting chart data from ph: 645it [17:46,  1.64s/it]"
     ]
    },
    {
     "name": "stdout",
     "output_type": "stream",
     "text": [
      "\n",
      "Date: 2018-10-08\n",
      "https://spotifycharts.com/regional/ph/daily/2018-10-08/download\n"
     ]
    },
    {
     "name": "stderr",
     "output_type": "stream",
     "text": [
      "\r\n",
      "Collecting chart data from ph: 646it [17:48,  1.64s/it]"
     ]
    },
    {
     "name": "stdout",
     "output_type": "stream",
     "text": [
      "\n",
      "Date: 2018-10-09\n",
      "https://spotifycharts.com/regional/ph/daily/2018-10-09/download\n"
     ]
    },
    {
     "name": "stderr",
     "output_type": "stream",
     "text": [
      "\r\n",
      "Collecting chart data from ph: 647it [17:49,  1.47s/it]"
     ]
    },
    {
     "name": "stdout",
     "output_type": "stream",
     "text": [
      "\n",
      "Date: 2018-10-10\n",
      "https://spotifycharts.com/regional/ph/daily/2018-10-10/download\n"
     ]
    },
    {
     "name": "stderr",
     "output_type": "stream",
     "text": [
      "\r\n",
      "Collecting chart data from ph: 648it [17:51,  1.52s/it]"
     ]
    },
    {
     "name": "stdout",
     "output_type": "stream",
     "text": [
      "\n",
      "Date: 2018-10-11\n",
      "https://spotifycharts.com/regional/ph/daily/2018-10-11/download\n"
     ]
    },
    {
     "name": "stderr",
     "output_type": "stream",
     "text": [
      "\r\n",
      "Collecting chart data from ph: 649it [17:52,  1.59s/it]"
     ]
    },
    {
     "name": "stdout",
     "output_type": "stream",
     "text": [
      "\n",
      "Date: 2018-10-12\n",
      "https://spotifycharts.com/regional/ph/daily/2018-10-12/download\n"
     ]
    },
    {
     "name": "stderr",
     "output_type": "stream",
     "text": [
      "\r\n",
      "Collecting chart data from ph: 650it [17:54,  1.66s/it]"
     ]
    },
    {
     "name": "stdout",
     "output_type": "stream",
     "text": [
      "\n",
      "Date: 2018-10-13\n",
      "https://spotifycharts.com/regional/ph/daily/2018-10-13/download\n"
     ]
    },
    {
     "name": "stderr",
     "output_type": "stream",
     "text": [
      "\r\n",
      "Collecting chart data from ph: 651it [17:55,  1.49s/it]"
     ]
    },
    {
     "name": "stdout",
     "output_type": "stream",
     "text": [
      "\n",
      "Date: 2018-10-14\n",
      "https://spotifycharts.com/regional/ph/daily/2018-10-14/download\n"
     ]
    },
    {
     "name": "stderr",
     "output_type": "stream",
     "text": [
      "\r\n",
      "Collecting chart data from ph: 652it [17:57,  1.54s/it]"
     ]
    },
    {
     "name": "stdout",
     "output_type": "stream",
     "text": [
      "\n",
      "Date: 2018-10-15\n",
      "https://spotifycharts.com/regional/ph/daily/2018-10-15/download\n"
     ]
    },
    {
     "name": "stderr",
     "output_type": "stream",
     "text": [
      "\r\n",
      "Collecting chart data from ph: 653it [17:58,  1.40s/it]"
     ]
    },
    {
     "name": "stdout",
     "output_type": "stream",
     "text": [
      "\n",
      "Date: 2018-10-16\n",
      "https://spotifycharts.com/regional/ph/daily/2018-10-16/download\n"
     ]
    },
    {
     "name": "stderr",
     "output_type": "stream",
     "text": [
      "\r\n",
      "Collecting chart data from ph: 654it [18:00,  1.48s/it]"
     ]
    },
    {
     "name": "stdout",
     "output_type": "stream",
     "text": [
      "\n",
      "Date: 2018-10-17\n",
      "https://spotifycharts.com/regional/ph/daily/2018-10-17/download\n"
     ]
    },
    {
     "name": "stderr",
     "output_type": "stream",
     "text": [
      "\r\n",
      "Collecting chart data from ph: 655it [18:01,  1.53s/it]"
     ]
    },
    {
     "name": "stdout",
     "output_type": "stream",
     "text": [
      "\n",
      "Date: 2018-10-18\n",
      "https://spotifycharts.com/regional/ph/daily/2018-10-18/download\n"
     ]
    },
    {
     "name": "stderr",
     "output_type": "stream",
     "text": [
      "\r\n",
      "Collecting chart data from ph: 656it [18:03,  1.55s/it]"
     ]
    },
    {
     "name": "stdout",
     "output_type": "stream",
     "text": [
      "\n",
      "Date: 2018-10-19\n",
      "https://spotifycharts.com/regional/ph/daily/2018-10-19/download\n"
     ]
    },
    {
     "name": "stderr",
     "output_type": "stream",
     "text": [
      "\r\n",
      "Collecting chart data from ph: 657it [18:05,  1.59s/it]"
     ]
    },
    {
     "name": "stdout",
     "output_type": "stream",
     "text": [
      "\n",
      "Date: 2018-10-20\n",
      "https://spotifycharts.com/regional/ph/daily/2018-10-20/download\n"
     ]
    },
    {
     "name": "stderr",
     "output_type": "stream",
     "text": [
      "\r\n",
      "Collecting chart data from ph: 658it [18:06,  1.62s/it]"
     ]
    },
    {
     "name": "stdout",
     "output_type": "stream",
     "text": [
      "\n",
      "Date: 2018-10-21\n",
      "https://spotifycharts.com/regional/ph/daily/2018-10-21/download\n"
     ]
    },
    {
     "name": "stderr",
     "output_type": "stream",
     "text": [
      "\r\n",
      "Collecting chart data from ph: 659it [18:08,  1.61s/it]"
     ]
    },
    {
     "name": "stdout",
     "output_type": "stream",
     "text": [
      "\n",
      "Date: 2018-10-22\n",
      "https://spotifycharts.com/regional/ph/daily/2018-10-22/download\n"
     ]
    },
    {
     "name": "stderr",
     "output_type": "stream",
     "text": [
      "\r\n",
      "Collecting chart data from ph: 660it [18:10,  1.65s/it]"
     ]
    },
    {
     "name": "stdout",
     "output_type": "stream",
     "text": [
      "\n",
      "Date: 2018-10-23\n",
      "https://spotifycharts.com/regional/ph/daily/2018-10-23/download\n"
     ]
    },
    {
     "name": "stderr",
     "output_type": "stream",
     "text": [
      "\r\n",
      "Collecting chart data from ph: 661it [18:11,  1.66s/it]"
     ]
    },
    {
     "name": "stdout",
     "output_type": "stream",
     "text": [
      "\n",
      "Date: 2018-10-24\n",
      "https://spotifycharts.com/regional/ph/daily/2018-10-24/download\n"
     ]
    },
    {
     "name": "stderr",
     "output_type": "stream",
     "text": [
      "\r\n",
      "Collecting chart data from ph: 662it [18:13,  1.70s/it]"
     ]
    },
    {
     "name": "stdout",
     "output_type": "stream",
     "text": [
      "\n",
      "Date: 2018-10-25\n",
      "https://spotifycharts.com/regional/ph/daily/2018-10-25/download\n"
     ]
    },
    {
     "name": "stderr",
     "output_type": "stream",
     "text": [
      "\r\n",
      "Collecting chart data from ph: 663it [18:15,  1.70s/it]"
     ]
    },
    {
     "name": "stdout",
     "output_type": "stream",
     "text": [
      "\n",
      "Date: 2018-10-26\n",
      "https://spotifycharts.com/regional/ph/daily/2018-10-26/download\n"
     ]
    },
    {
     "name": "stderr",
     "output_type": "stream",
     "text": [
      "\r\n",
      "Collecting chart data from ph: 664it [18:17,  1.68s/it]"
     ]
    },
    {
     "name": "stdout",
     "output_type": "stream",
     "text": [
      "\n",
      "Date: 2018-10-27\n",
      "https://spotifycharts.com/regional/ph/daily/2018-10-27/download\n"
     ]
    },
    {
     "name": "stderr",
     "output_type": "stream",
     "text": [
      "\r\n",
      "Collecting chart data from ph: 665it [18:18,  1.66s/it]"
     ]
    },
    {
     "name": "stdout",
     "output_type": "stream",
     "text": [
      "\n",
      "Date: 2018-10-28\n",
      "https://spotifycharts.com/regional/ph/daily/2018-10-28/download\n"
     ]
    },
    {
     "name": "stderr",
     "output_type": "stream",
     "text": [
      "\r\n",
      "Collecting chart data from ph: 666it [18:20,  1.68s/it]"
     ]
    },
    {
     "name": "stdout",
     "output_type": "stream",
     "text": [
      "\n",
      "Date: 2018-10-29\n",
      "https://spotifycharts.com/regional/ph/daily/2018-10-29/download\n"
     ]
    },
    {
     "name": "stderr",
     "output_type": "stream",
     "text": [
      "\r\n",
      "Collecting chart data from ph: 667it [18:22,  1.66s/it]"
     ]
    },
    {
     "name": "stdout",
     "output_type": "stream",
     "text": [
      "\n",
      "Date: 2018-10-30\n",
      "https://spotifycharts.com/regional/ph/daily/2018-10-30/download\n"
     ]
    },
    {
     "name": "stderr",
     "output_type": "stream",
     "text": [
      "\r\n",
      "Collecting chart data from ph: 668it [18:23,  1.65s/it]"
     ]
    },
    {
     "name": "stdout",
     "output_type": "stream",
     "text": [
      "\n",
      "Date: 2018-10-31\n",
      "https://spotifycharts.com/regional/ph/daily/2018-10-31/download\n"
     ]
    },
    {
     "name": "stderr",
     "output_type": "stream",
     "text": [
      "\r\n",
      "Collecting chart data from ph: 669it [18:25,  1.62s/it]"
     ]
    },
    {
     "name": "stdout",
     "output_type": "stream",
     "text": [
      "\n",
      "Date: 2018-11-01\n",
      "https://spotifycharts.com/regional/ph/daily/2018-11-01/download\n"
     ]
    },
    {
     "name": "stderr",
     "output_type": "stream",
     "text": [
      "\r\n",
      "Collecting chart data from ph: 670it [18:26,  1.63s/it]"
     ]
    },
    {
     "name": "stdout",
     "output_type": "stream",
     "text": [
      "\n",
      "Date: 2018-11-02\n",
      "https://spotifycharts.com/regional/ph/daily/2018-11-02/download\n"
     ]
    },
    {
     "name": "stderr",
     "output_type": "stream",
     "text": [
      "\r\n",
      "Collecting chart data from ph: 671it [18:28,  1.71s/it]"
     ]
    },
    {
     "name": "stdout",
     "output_type": "stream",
     "text": [
      "\n",
      "Date: 2018-11-03\n",
      "https://spotifycharts.com/regional/ph/daily/2018-11-03/download\n"
     ]
    },
    {
     "name": "stderr",
     "output_type": "stream",
     "text": [
      "\r\n",
      "Collecting chart data from ph: 672it [18:30,  1.74s/it]"
     ]
    },
    {
     "name": "stdout",
     "output_type": "stream",
     "text": [
      "\n",
      "Date: 2018-11-04\n",
      "https://spotifycharts.com/regional/ph/daily/2018-11-04/download\n"
     ]
    },
    {
     "name": "stderr",
     "output_type": "stream",
     "text": [
      "\r\n",
      "Collecting chart data from ph: 673it [18:32,  1.73s/it]"
     ]
    },
    {
     "name": "stdout",
     "output_type": "stream",
     "text": [
      "\n",
      "Date: 2018-11-05\n",
      "https://spotifycharts.com/regional/ph/daily/2018-11-05/download\n"
     ]
    },
    {
     "name": "stderr",
     "output_type": "stream",
     "text": [
      "\r\n",
      "Collecting chart data from ph: 674it [18:33,  1.71s/it]"
     ]
    },
    {
     "name": "stdout",
     "output_type": "stream",
     "text": [
      "\n",
      "Date: 2018-11-06\n",
      "https://spotifycharts.com/regional/ph/daily/2018-11-06/download\n"
     ]
    },
    {
     "name": "stderr",
     "output_type": "stream",
     "text": [
      "\r\n",
      "Collecting chart data from ph: 675it [18:36,  1.84s/it]"
     ]
    },
    {
     "name": "stdout",
     "output_type": "stream",
     "text": [
      "\n",
      "Date: 2018-11-07\n",
      "https://spotifycharts.com/regional/ph/daily/2018-11-07/download\n"
     ]
    },
    {
     "name": "stderr",
     "output_type": "stream",
     "text": [
      "\r\n",
      "Collecting chart data from ph: 676it [18:37,  1.84s/it]"
     ]
    },
    {
     "name": "stdout",
     "output_type": "stream",
     "text": [
      "\n",
      "Date: 2018-11-08\n",
      "https://spotifycharts.com/regional/ph/daily/2018-11-08/download\n"
     ]
    },
    {
     "name": "stderr",
     "output_type": "stream",
     "text": [
      "\r\n",
      "Collecting chart data from ph: 677it [18:39,  1.84s/it]"
     ]
    },
    {
     "name": "stdout",
     "output_type": "stream",
     "text": [
      "\n",
      "Date: 2018-11-09\n",
      "https://spotifycharts.com/regional/ph/daily/2018-11-09/download\n"
     ]
    },
    {
     "name": "stderr",
     "output_type": "stream",
     "text": [
      "\r\n",
      "Collecting chart data from ph: 678it [18:41,  1.96s/it]"
     ]
    },
    {
     "name": "stdout",
     "output_type": "stream",
     "text": [
      "\n",
      "Date: 2018-11-10\n",
      "https://spotifycharts.com/regional/ph/daily/2018-11-10/download\n"
     ]
    },
    {
     "name": "stderr",
     "output_type": "stream",
     "text": [
      "\r\n",
      "Collecting chart data from ph: 679it [18:43,  1.95s/it]"
     ]
    },
    {
     "name": "stdout",
     "output_type": "stream",
     "text": [
      "\n",
      "Date: 2018-11-11\n",
      "https://spotifycharts.com/regional/ph/daily/2018-11-11/download\n"
     ]
    },
    {
     "name": "stderr",
     "output_type": "stream",
     "text": [
      "\r\n",
      "Collecting chart data from ph: 680it [18:45,  1.97s/it]"
     ]
    },
    {
     "name": "stdout",
     "output_type": "stream",
     "text": [
      "\n",
      "Date: 2018-11-12\n",
      "https://spotifycharts.com/regional/ph/daily/2018-11-12/download\n"
     ]
    },
    {
     "name": "stderr",
     "output_type": "stream",
     "text": [
      "\r\n",
      "Collecting chart data from ph: 681it [18:47,  1.94s/it]"
     ]
    },
    {
     "name": "stdout",
     "output_type": "stream",
     "text": [
      "\n",
      "Date: 2018-11-13\n",
      "https://spotifycharts.com/regional/ph/daily/2018-11-13/download\n"
     ]
    },
    {
     "name": "stderr",
     "output_type": "stream",
     "text": [
      "\r\n",
      "Collecting chart data from ph: 682it [18:49,  1.73s/it]"
     ]
    },
    {
     "name": "stdout",
     "output_type": "stream",
     "text": [
      "\n",
      "Date: 2018-11-14\n",
      "https://spotifycharts.com/regional/ph/daily/2018-11-14/download\n"
     ]
    },
    {
     "name": "stderr",
     "output_type": "stream",
     "text": [
      "\r\n",
      "Collecting chart data from ph: 683it [18:51,  1.82s/it]"
     ]
    },
    {
     "name": "stdout",
     "output_type": "stream",
     "text": [
      "\n",
      "Date: 2018-11-15\n",
      "https://spotifycharts.com/regional/ph/daily/2018-11-15/download\n"
     ]
    },
    {
     "name": "stderr",
     "output_type": "stream",
     "text": [
      "\r\n",
      "Collecting chart data from ph: 684it [18:52,  1.79s/it]"
     ]
    },
    {
     "name": "stdout",
     "output_type": "stream",
     "text": [
      "\n",
      "Date: 2018-11-16\n",
      "https://spotifycharts.com/regional/ph/daily/2018-11-16/download\n"
     ]
    },
    {
     "name": "stderr",
     "output_type": "stream",
     "text": [
      "\r\n",
      "Collecting chart data from ph: 685it [18:54,  1.74s/it]"
     ]
    },
    {
     "name": "stdout",
     "output_type": "stream",
     "text": [
      "\n",
      "Date: 2018-11-17\n",
      "https://spotifycharts.com/regional/ph/daily/2018-11-17/download\n"
     ]
    },
    {
     "name": "stderr",
     "output_type": "stream",
     "text": [
      "\r\n",
      "Collecting chart data from ph: 686it [18:56,  1.89s/it]"
     ]
    },
    {
     "name": "stdout",
     "output_type": "stream",
     "text": [
      "\n",
      "Date: 2018-11-18\n",
      "https://spotifycharts.com/regional/ph/daily/2018-11-18/download\n"
     ]
    },
    {
     "name": "stderr",
     "output_type": "stream",
     "text": [
      "\r\n",
      "Collecting chart data from ph: 687it [18:58,  1.80s/it]"
     ]
    },
    {
     "name": "stdout",
     "output_type": "stream",
     "text": [
      "\n",
      "Date: 2018-11-19\n",
      "https://spotifycharts.com/regional/ph/daily/2018-11-19/download\n"
     ]
    },
    {
     "name": "stderr",
     "output_type": "stream",
     "text": [
      "\r\n",
      "Collecting chart data from ph: 688it [18:59,  1.74s/it]"
     ]
    },
    {
     "name": "stdout",
     "output_type": "stream",
     "text": [
      "\n",
      "Date: 2018-11-20\n",
      "https://spotifycharts.com/regional/ph/daily/2018-11-20/download\n"
     ]
    },
    {
     "name": "stderr",
     "output_type": "stream",
     "text": [
      "\r\n",
      "Collecting chart data from ph: 689it [19:01,  1.85s/it]"
     ]
    },
    {
     "name": "stdout",
     "output_type": "stream",
     "text": [
      "\n",
      "Date: 2018-11-21\n",
      "https://spotifycharts.com/regional/ph/daily/2018-11-21/download\n"
     ]
    },
    {
     "name": "stderr",
     "output_type": "stream",
     "text": [
      "\r\n",
      "Collecting chart data from ph: 690it [19:03,  1.65s/it]"
     ]
    },
    {
     "name": "stdout",
     "output_type": "stream",
     "text": [
      "\n",
      "Date: 2018-11-22\n",
      "https://spotifycharts.com/regional/ph/daily/2018-11-22/download\n"
     ]
    },
    {
     "name": "stderr",
     "output_type": "stream",
     "text": [
      "\r\n",
      "Collecting chart data from ph: 691it [19:04,  1.67s/it]"
     ]
    },
    {
     "name": "stdout",
     "output_type": "stream",
     "text": [
      "\n",
      "Date: 2018-11-23\n",
      "https://spotifycharts.com/regional/ph/daily/2018-11-23/download\n"
     ]
    },
    {
     "name": "stderr",
     "output_type": "stream",
     "text": [
      "\r\n",
      "Collecting chart data from ph: 692it [19:06,  1.65s/it]"
     ]
    },
    {
     "name": "stdout",
     "output_type": "stream",
     "text": [
      "\n",
      "Date: 2018-11-24\n",
      "https://spotifycharts.com/regional/ph/daily/2018-11-24/download\n"
     ]
    },
    {
     "name": "stderr",
     "output_type": "stream",
     "text": [
      "\r\n",
      "Collecting chart data from ph: 693it [19:08,  1.66s/it]"
     ]
    },
    {
     "name": "stdout",
     "output_type": "stream",
     "text": [
      "\n",
      "Date: 2018-11-25\n",
      "https://spotifycharts.com/regional/ph/daily/2018-11-25/download\n"
     ]
    },
    {
     "name": "stderr",
     "output_type": "stream",
     "text": [
      "\r\n",
      "Collecting chart data from ph: 694it [19:09,  1.67s/it]"
     ]
    },
    {
     "name": "stdout",
     "output_type": "stream",
     "text": [
      "\n",
      "Date: 2018-11-26\n",
      "https://spotifycharts.com/regional/ph/daily/2018-11-26/download\n"
     ]
    },
    {
     "name": "stderr",
     "output_type": "stream",
     "text": [
      "\r\n",
      "Collecting chart data from ph: 695it [19:11,  1.74s/it]"
     ]
    },
    {
     "name": "stdout",
     "output_type": "stream",
     "text": [
      "\n",
      "Date: 2018-11-27\n",
      "https://spotifycharts.com/regional/ph/daily/2018-11-27/download\n"
     ]
    },
    {
     "name": "stderr",
     "output_type": "stream",
     "text": [
      "\r\n",
      "Collecting chart data from ph: 696it [19:13,  1.72s/it]"
     ]
    },
    {
     "name": "stdout",
     "output_type": "stream",
     "text": [
      "\n",
      "Date: 2018-11-28\n",
      "https://spotifycharts.com/regional/ph/daily/2018-11-28/download\n"
     ]
    },
    {
     "name": "stderr",
     "output_type": "stream",
     "text": [
      "\r\n",
      "Collecting chart data from ph: 697it [19:14,  1.68s/it]"
     ]
    },
    {
     "name": "stdout",
     "output_type": "stream",
     "text": [
      "\n",
      "Date: 2018-11-29\n",
      "https://spotifycharts.com/regional/ph/daily/2018-11-29/download\n"
     ]
    },
    {
     "name": "stderr",
     "output_type": "stream",
     "text": [
      "\r\n",
      "Collecting chart data from ph: 698it [19:16,  1.68s/it]"
     ]
    },
    {
     "name": "stdout",
     "output_type": "stream",
     "text": [
      "\n",
      "Date: 2018-11-30\n",
      "https://spotifycharts.com/regional/ph/daily/2018-11-30/download\n"
     ]
    },
    {
     "name": "stderr",
     "output_type": "stream",
     "text": [
      "\r\n",
      "Collecting chart data from ph: 699it [19:17,  1.52s/it]"
     ]
    },
    {
     "name": "stdout",
     "output_type": "stream",
     "text": [
      "\n",
      "Date: 2018-12-01\n",
      "https://spotifycharts.com/regional/ph/daily/2018-12-01/download\n"
     ]
    },
    {
     "name": "stderr",
     "output_type": "stream",
     "text": [
      "\r\n",
      "Collecting chart data from ph: 700it [19:18,  1.37s/it]"
     ]
    },
    {
     "name": "stdout",
     "output_type": "stream",
     "text": [
      "\n",
      "Date: 2018-12-02\n",
      "https://spotifycharts.com/regional/ph/daily/2018-12-02/download\n"
     ]
    },
    {
     "name": "stderr",
     "output_type": "stream",
     "text": [
      "\r\n",
      "Collecting chart data from ph: 701it [19:20,  1.48s/it]"
     ]
    },
    {
     "name": "stdout",
     "output_type": "stream",
     "text": [
      "\n",
      "Date: 2018-12-03\n",
      "https://spotifycharts.com/regional/ph/daily/2018-12-03/download\n"
     ]
    },
    {
     "name": "stderr",
     "output_type": "stream",
     "text": [
      "\r\n",
      "Collecting chart data from ph: 702it [19:21,  1.34s/it]"
     ]
    },
    {
     "name": "stdout",
     "output_type": "stream",
     "text": [
      "\n",
      "Date: 2018-12-04\n",
      "https://spotifycharts.com/regional/ph/daily/2018-12-04/download\n"
     ]
    },
    {
     "name": "stderr",
     "output_type": "stream",
     "text": [
      "\r\n",
      "Collecting chart data from ph: 703it [19:23,  1.60s/it]"
     ]
    },
    {
     "name": "stdout",
     "output_type": "stream",
     "text": [
      "\n",
      "Date: 2018-12-05\n",
      "https://spotifycharts.com/regional/ph/daily/2018-12-05/download\n"
     ]
    },
    {
     "name": "stderr",
     "output_type": "stream",
     "text": [
      "\r\n",
      "Collecting chart data from ph: 704it [19:25,  1.65s/it]"
     ]
    },
    {
     "name": "stdout",
     "output_type": "stream",
     "text": [
      "\n",
      "Date: 2018-12-06\n",
      "https://spotifycharts.com/regional/ph/daily/2018-12-06/download\n"
     ]
    },
    {
     "name": "stderr",
     "output_type": "stream",
     "text": [
      "\r\n",
      "Collecting chart data from ph: 705it [19:27,  1.77s/it]"
     ]
    },
    {
     "name": "stdout",
     "output_type": "stream",
     "text": [
      "\n",
      "Date: 2018-12-07\n",
      "https://spotifycharts.com/regional/ph/daily/2018-12-07/download\n"
     ]
    },
    {
     "name": "stderr",
     "output_type": "stream",
     "text": [
      "\r\n",
      "Collecting chart data from ph: 706it [19:29,  1.72s/it]"
     ]
    },
    {
     "name": "stdout",
     "output_type": "stream",
     "text": [
      "\n",
      "Date: 2018-12-08\n",
      "https://spotifycharts.com/regional/ph/daily/2018-12-08/download\n"
     ]
    },
    {
     "name": "stderr",
     "output_type": "stream",
     "text": [
      "\r\n",
      "Collecting chart data from ph: 707it [19:30,  1.69s/it]"
     ]
    },
    {
     "name": "stdout",
     "output_type": "stream",
     "text": [
      "\n",
      "Date: 2018-12-09\n",
      "https://spotifycharts.com/regional/ph/daily/2018-12-09/download\n"
     ]
    },
    {
     "name": "stderr",
     "output_type": "stream",
     "text": [
      "\r\n",
      "Collecting chart data from ph: 708it [19:32,  1.75s/it]"
     ]
    },
    {
     "name": "stdout",
     "output_type": "stream",
     "text": [
      "\n",
      "Date: 2018-12-10\n",
      "https://spotifycharts.com/regional/ph/daily/2018-12-10/download\n"
     ]
    },
    {
     "name": "stderr",
     "output_type": "stream",
     "text": [
      "\r\n",
      "Collecting chart data from ph: 709it [19:34,  1.69s/it]"
     ]
    },
    {
     "name": "stdout",
     "output_type": "stream",
     "text": [
      "\n",
      "Date: 2018-12-11\n",
      "https://spotifycharts.com/regional/ph/daily/2018-12-11/download\n"
     ]
    },
    {
     "name": "stderr",
     "output_type": "stream",
     "text": [
      "\r\n",
      "Collecting chart data from ph: 710it [19:35,  1.67s/it]"
     ]
    },
    {
     "name": "stdout",
     "output_type": "stream",
     "text": [
      "\n",
      "Date: 2018-12-12\n",
      "https://spotifycharts.com/regional/ph/daily/2018-12-12/download\n"
     ]
    },
    {
     "name": "stderr",
     "output_type": "stream",
     "text": [
      "\r\n",
      "Collecting chart data from ph: 711it [19:37,  1.64s/it]"
     ]
    },
    {
     "name": "stdout",
     "output_type": "stream",
     "text": [
      "\n",
      "Date: 2018-12-13\n",
      "https://spotifycharts.com/regional/ph/daily/2018-12-13/download\n"
     ]
    },
    {
     "name": "stderr",
     "output_type": "stream",
     "text": [
      "\r\n",
      "Collecting chart data from ph: 712it [19:38,  1.54s/it]"
     ]
    },
    {
     "name": "stdout",
     "output_type": "stream",
     "text": [
      "\n",
      "Date: 2018-12-14\n",
      "https://spotifycharts.com/regional/ph/daily/2018-12-14/download\n"
     ]
    },
    {
     "name": "stderr",
     "output_type": "stream",
     "text": [
      "\r\n",
      "Collecting chart data from ph: 713it [19:40,  1.57s/it]"
     ]
    },
    {
     "name": "stdout",
     "output_type": "stream",
     "text": [
      "\n",
      "Date: 2018-12-15\n",
      "https://spotifycharts.com/regional/ph/daily/2018-12-15/download\n"
     ]
    },
    {
     "name": "stderr",
     "output_type": "stream",
     "text": [
      "\r\n",
      "Collecting chart data from ph: 714it [19:41,  1.49s/it]"
     ]
    },
    {
     "name": "stdout",
     "output_type": "stream",
     "text": [
      "\n",
      "Date: 2018-12-16\n",
      "https://spotifycharts.com/regional/ph/daily/2018-12-16/download\n"
     ]
    },
    {
     "name": "stderr",
     "output_type": "stream",
     "text": [
      "\r\n",
      "Collecting chart data from ph: 715it [19:43,  1.54s/it]"
     ]
    },
    {
     "name": "stdout",
     "output_type": "stream",
     "text": [
      "\n",
      "Date: 2018-12-17\n",
      "https://spotifycharts.com/regional/ph/daily/2018-12-17/download\n"
     ]
    },
    {
     "name": "stderr",
     "output_type": "stream",
     "text": [
      "\r\n",
      "Collecting chart data from ph: 716it [19:45,  1.74s/it]"
     ]
    },
    {
     "name": "stdout",
     "output_type": "stream",
     "text": [
      "\n",
      "Date: 2018-12-18\n",
      "https://spotifycharts.com/regional/ph/daily/2018-12-18/download\n"
     ]
    },
    {
     "name": "stderr",
     "output_type": "stream",
     "text": [
      "\r\n",
      "Collecting chart data from ph: 717it [19:47,  1.78s/it]"
     ]
    },
    {
     "name": "stdout",
     "output_type": "stream",
     "text": [
      "\n",
      "Date: 2018-12-19\n",
      "https://spotifycharts.com/regional/ph/daily/2018-12-19/download\n"
     ]
    },
    {
     "name": "stderr",
     "output_type": "stream",
     "text": [
      "\r\n",
      "Collecting chart data from ph: 718it [19:49,  1.75s/it]"
     ]
    },
    {
     "name": "stdout",
     "output_type": "stream",
     "text": [
      "\n",
      "Date: 2018-12-20\n",
      "https://spotifycharts.com/regional/ph/daily/2018-12-20/download\n"
     ]
    },
    {
     "name": "stderr",
     "output_type": "stream",
     "text": [
      "\r\n",
      "Collecting chart data from ph: 719it [19:50,  1.74s/it]"
     ]
    },
    {
     "name": "stdout",
     "output_type": "stream",
     "text": [
      "\n",
      "Date: 2018-12-21\n",
      "https://spotifycharts.com/regional/ph/daily/2018-12-21/download\n"
     ]
    },
    {
     "name": "stderr",
     "output_type": "stream",
     "text": [
      "\r\n",
      "Collecting chart data from ph: 720it [19:51,  1.55s/it]"
     ]
    },
    {
     "name": "stdout",
     "output_type": "stream",
     "text": [
      "\n",
      "Date: 2018-12-22\n",
      "https://spotifycharts.com/regional/ph/daily/2018-12-22/download\n"
     ]
    },
    {
     "name": "stderr",
     "output_type": "stream",
     "text": [
      "\r\n",
      "Collecting chart data from ph: 721it [19:53,  1.57s/it]"
     ]
    },
    {
     "name": "stdout",
     "output_type": "stream",
     "text": [
      "\n",
      "Date: 2018-12-23\n",
      "https://spotifycharts.com/regional/ph/daily/2018-12-23/download\n"
     ]
    },
    {
     "name": "stderr",
     "output_type": "stream",
     "text": [
      "\r\n",
      "Collecting chart data from ph: 722it [19:55,  1.69s/it]"
     ]
    },
    {
     "name": "stdout",
     "output_type": "stream",
     "text": [
      "\n",
      "Date: 2018-12-24\n",
      "https://spotifycharts.com/regional/ph/daily/2018-12-24/download\n"
     ]
    },
    {
     "name": "stderr",
     "output_type": "stream",
     "text": [
      "\r\n",
      "Collecting chart data from ph: 723it [19:56,  1.56s/it]"
     ]
    },
    {
     "name": "stdout",
     "output_type": "stream",
     "text": [
      "\n",
      "Date: 2018-12-25\n",
      "https://spotifycharts.com/regional/ph/daily/2018-12-25/download\n"
     ]
    },
    {
     "name": "stderr",
     "output_type": "stream",
     "text": [
      "\r\n",
      "Collecting chart data from ph: 724it [19:58,  1.69s/it]"
     ]
    },
    {
     "name": "stdout",
     "output_type": "stream",
     "text": [
      "\n",
      "Date: 2018-12-26\n",
      "https://spotifycharts.com/regional/ph/daily/2018-12-26/download\n"
     ]
    },
    {
     "name": "stderr",
     "output_type": "stream",
     "text": [
      "\r\n",
      "Collecting chart data from ph: 725it [20:00,  1.77s/it]"
     ]
    },
    {
     "name": "stdout",
     "output_type": "stream",
     "text": [
      "\n",
      "Date: 2018-12-27\n",
      "https://spotifycharts.com/regional/ph/daily/2018-12-27/download\n"
     ]
    },
    {
     "name": "stderr",
     "output_type": "stream",
     "text": [
      "\r\n",
      "Collecting chart data from ph: 726it [20:02,  1.75s/it]"
     ]
    },
    {
     "name": "stdout",
     "output_type": "stream",
     "text": [
      "\n",
      "Date: 2018-12-28\n",
      "https://spotifycharts.com/regional/ph/daily/2018-12-28/download\n"
     ]
    },
    {
     "name": "stderr",
     "output_type": "stream",
     "text": [
      "\r\n",
      "Collecting chart data from ph: 727it [20:04,  1.72s/it]"
     ]
    },
    {
     "name": "stdout",
     "output_type": "stream",
     "text": [
      "\n",
      "Date: 2018-12-29\n",
      "https://spotifycharts.com/regional/ph/daily/2018-12-29/download\n"
     ]
    },
    {
     "name": "stderr",
     "output_type": "stream",
     "text": [
      "\r\n",
      "Collecting chart data from ph: 728it [20:05,  1.78s/it]"
     ]
    },
    {
     "name": "stdout",
     "output_type": "stream",
     "text": [
      "\n",
      "Date: 2018-12-30\n",
      "https://spotifycharts.com/regional/ph/daily/2018-12-30/download\n"
     ]
    },
    {
     "name": "stderr",
     "output_type": "stream",
     "text": [
      "\r\n",
      "Collecting chart data from ph: 729it [20:07,  1.83s/it]"
     ]
    },
    {
     "name": "stdout",
     "output_type": "stream",
     "text": [
      "\n",
      "Date: 2018-12-31\n",
      "https://spotifycharts.com/regional/ph/daily/2018-12-31/download\n"
     ]
    },
    {
     "name": "stderr",
     "output_type": "stream",
     "text": [
      "\r\n",
      "Collecting chart data from ph: 730it [20:09,  1.87s/it]"
     ]
    },
    {
     "name": "stdout",
     "output_type": "stream",
     "text": [
      "\n",
      "Date: 2019-01-01\n",
      "https://spotifycharts.com/regional/ph/daily/2019-01-01/download\n"
     ]
    },
    {
     "name": "stderr",
     "output_type": "stream",
     "text": [
      "\r\n",
      "Collecting chart data from ph: 731it [20:11,  1.84s/it]"
     ]
    },
    {
     "name": "stdout",
     "output_type": "stream",
     "text": [
      "\n",
      "Date: 2019-01-02\n",
      "https://spotifycharts.com/regional/ph/daily/2019-01-02/download\n"
     ]
    },
    {
     "name": "stderr",
     "output_type": "stream",
     "text": [
      "\r\n",
      "Collecting chart data from ph: 732it [20:13,  1.76s/it]"
     ]
    },
    {
     "name": "stdout",
     "output_type": "stream",
     "text": [
      "\n",
      "Date: 2019-01-03\n",
      "https://spotifycharts.com/regional/ph/daily/2019-01-03/download\n"
     ]
    },
    {
     "name": "stderr",
     "output_type": "stream",
     "text": [
      "\r\n",
      "Collecting chart data from ph: 733it [20:15,  1.87s/it]"
     ]
    },
    {
     "name": "stdout",
     "output_type": "stream",
     "text": [
      "\n",
      "Date: 2019-01-04\n",
      "https://spotifycharts.com/regional/ph/daily/2019-01-04/download\n"
     ]
    },
    {
     "name": "stderr",
     "output_type": "stream",
     "text": [
      "\r\n",
      "Collecting chart data from ph: 734it [20:16,  1.64s/it]"
     ]
    },
    {
     "name": "stdout",
     "output_type": "stream",
     "text": [
      "\n",
      "Date: 2019-01-05\n",
      "https://spotifycharts.com/regional/ph/daily/2019-01-05/download\n"
     ]
    },
    {
     "name": "stderr",
     "output_type": "stream",
     "text": [
      "\r\n",
      "Collecting chart data from ph: 735it [20:18,  1.68s/it]"
     ]
    },
    {
     "name": "stdout",
     "output_type": "stream",
     "text": [
      "\n",
      "Date: 2019-01-06\n",
      "https://spotifycharts.com/regional/ph/daily/2019-01-06/download\n"
     ]
    },
    {
     "name": "stderr",
     "output_type": "stream",
     "text": [
      "\r\n",
      "Collecting chart data from ph: 736it [20:19,  1.50s/it]"
     ]
    },
    {
     "name": "stdout",
     "output_type": "stream",
     "text": [
      "\n",
      "Date: 2019-01-07\n",
      "https://spotifycharts.com/regional/ph/daily/2019-01-07/download\n"
     ]
    },
    {
     "name": "stderr",
     "output_type": "stream",
     "text": [
      "\r\n",
      "Collecting chart data from ph: 737it [20:21,  1.58s/it]"
     ]
    },
    {
     "name": "stdout",
     "output_type": "stream",
     "text": [
      "\n",
      "Date: 2019-01-08\n",
      "https://spotifycharts.com/regional/ph/daily/2019-01-08/download\n"
     ]
    },
    {
     "name": "stderr",
     "output_type": "stream",
     "text": [
      "\r\n",
      "Collecting chart data from ph: 738it [20:22,  1.43s/it]"
     ]
    },
    {
     "name": "stdout",
     "output_type": "stream",
     "text": [
      "\n",
      "Date: 2019-01-09\n",
      "https://spotifycharts.com/regional/ph/daily/2019-01-09/download\n"
     ]
    },
    {
     "name": "stderr",
     "output_type": "stream",
     "text": [
      "\r\n",
      "Collecting chart data from ph: 739it [20:24,  1.57s/it]"
     ]
    },
    {
     "name": "stdout",
     "output_type": "stream",
     "text": [
      "\n",
      "Date: 2019-01-10\n",
      "https://spotifycharts.com/regional/ph/daily/2019-01-10/download\n"
     ]
    },
    {
     "name": "stderr",
     "output_type": "stream",
     "text": [
      "\r\n",
      "Collecting chart data from ph: 740it [20:25,  1.58s/it]"
     ]
    },
    {
     "name": "stdout",
     "output_type": "stream",
     "text": [
      "\n",
      "Date: 2019-01-11\n",
      "https://spotifycharts.com/regional/ph/daily/2019-01-11/download\n"
     ]
    },
    {
     "name": "stderr",
     "output_type": "stream",
     "text": [
      "\r\n",
      "Collecting chart data from ph: 741it [20:27,  1.60s/it]"
     ]
    },
    {
     "name": "stdout",
     "output_type": "stream",
     "text": [
      "\n",
      "Date: 2019-01-12\n",
      "https://spotifycharts.com/regional/ph/daily/2019-01-12/download\n"
     ]
    },
    {
     "name": "stderr",
     "output_type": "stream",
     "text": [
      "\r\n",
      "Collecting chart data from ph: 742it [20:28,  1.60s/it]"
     ]
    },
    {
     "name": "stdout",
     "output_type": "stream",
     "text": [
      "\n",
      "Date: 2019-01-13\n",
      "https://spotifycharts.com/regional/ph/daily/2019-01-13/download\n"
     ]
    },
    {
     "name": "stderr",
     "output_type": "stream",
     "text": [
      "\r\n",
      "Collecting chart data from ph: 743it [20:30,  1.44s/it]"
     ]
    },
    {
     "name": "stdout",
     "output_type": "stream",
     "text": [
      "\n",
      "Date: 2019-01-14\n",
      "https://spotifycharts.com/regional/ph/daily/2019-01-14/download\n"
     ]
    },
    {
     "name": "stderr",
     "output_type": "stream",
     "text": [
      "\r\n",
      "Collecting chart data from ph: 744it [20:31,  1.57s/it]"
     ]
    },
    {
     "name": "stdout",
     "output_type": "stream",
     "text": [
      "\n",
      "Date: 2019-01-15\n",
      "https://spotifycharts.com/regional/ph/daily/2019-01-15/download\n"
     ]
    },
    {
     "name": "stderr",
     "output_type": "stream",
     "text": [
      "\r\n",
      "Collecting chart data from ph: 745it [20:33,  1.65s/it]"
     ]
    },
    {
     "name": "stdout",
     "output_type": "stream",
     "text": [
      "\n",
      "Date: 2019-01-16\n",
      "https://spotifycharts.com/regional/ph/daily/2019-01-16/download\n"
     ]
    },
    {
     "name": "stderr",
     "output_type": "stream",
     "text": [
      "\r\n",
      "Collecting chart data from ph: 746it [20:35,  1.63s/it]"
     ]
    },
    {
     "name": "stdout",
     "output_type": "stream",
     "text": [
      "\n",
      "Date: 2019-01-17\n",
      "https://spotifycharts.com/regional/ph/daily/2019-01-17/download\n"
     ]
    },
    {
     "name": "stderr",
     "output_type": "stream",
     "text": [
      "\r\n",
      "Collecting chart data from ph: 747it [20:37,  1.67s/it]"
     ]
    },
    {
     "name": "stdout",
     "output_type": "stream",
     "text": [
      "\n",
      "Date: 2019-01-18\n",
      "https://spotifycharts.com/regional/ph/daily/2019-01-18/download\n"
     ]
    },
    {
     "name": "stderr",
     "output_type": "stream",
     "text": [
      "\r\n",
      "Collecting chart data from ph: 748it [20:38,  1.68s/it]"
     ]
    },
    {
     "name": "stdout",
     "output_type": "stream",
     "text": [
      "\n",
      "Date: 2019-01-19\n",
      "https://spotifycharts.com/regional/ph/daily/2019-01-19/download\n"
     ]
    },
    {
     "name": "stderr",
     "output_type": "stream",
     "text": [
      "\r\n",
      "Collecting chart data from ph: 749it [20:40,  1.68s/it]"
     ]
    },
    {
     "name": "stdout",
     "output_type": "stream",
     "text": [
      "\n",
      "Date: 2019-01-20\n",
      "https://spotifycharts.com/regional/ph/daily/2019-01-20/download\n"
     ]
    },
    {
     "name": "stderr",
     "output_type": "stream",
     "text": [
      "\r\n",
      "Collecting chart data from ph: 750it [20:42,  1.71s/it]"
     ]
    },
    {
     "name": "stdout",
     "output_type": "stream",
     "text": [
      "\n",
      "Date: 2019-01-21\n",
      "https://spotifycharts.com/regional/ph/daily/2019-01-21/download\n"
     ]
    },
    {
     "name": "stderr",
     "output_type": "stream",
     "text": [
      "\r\n",
      "Collecting chart data from ph: 751it [20:44,  1.75s/it]"
     ]
    },
    {
     "name": "stdout",
     "output_type": "stream",
     "text": [
      "\n",
      "Date: 2019-01-22\n",
      "https://spotifycharts.com/regional/ph/daily/2019-01-22/download\n"
     ]
    },
    {
     "name": "stderr",
     "output_type": "stream",
     "text": [
      "\r\n",
      "Collecting chart data from ph: 752it [20:45,  1.56s/it]"
     ]
    },
    {
     "name": "stdout",
     "output_type": "stream",
     "text": [
      "\n",
      "Date: 2019-01-23\n",
      "https://spotifycharts.com/regional/ph/daily/2019-01-23/download\n"
     ]
    },
    {
     "name": "stderr",
     "output_type": "stream",
     "text": [
      "\r\n",
      "Collecting chart data from ph: 753it [20:46,  1.60s/it]"
     ]
    },
    {
     "name": "stdout",
     "output_type": "stream",
     "text": [
      "\n",
      "Date: 2019-01-24\n",
      "https://spotifycharts.com/regional/ph/daily/2019-01-24/download\n"
     ]
    },
    {
     "name": "stderr",
     "output_type": "stream",
     "text": [
      "\r\n",
      "Collecting chart data from ph: 754it [20:48,  1.61s/it]"
     ]
    },
    {
     "name": "stdout",
     "output_type": "stream",
     "text": [
      "\n",
      "Date: 2019-01-25\n",
      "https://spotifycharts.com/regional/ph/daily/2019-01-25/download\n"
     ]
    },
    {
     "name": "stderr",
     "output_type": "stream",
     "text": [
      "\r\n",
      "Collecting chart data from ph: 755it [20:49,  1.49s/it]"
     ]
    },
    {
     "name": "stdout",
     "output_type": "stream",
     "text": [
      "\n",
      "Date: 2019-01-26\n",
      "https://spotifycharts.com/regional/ph/daily/2019-01-26/download\n"
     ]
    },
    {
     "name": "stderr",
     "output_type": "stream",
     "text": [
      "\r\n",
      "Collecting chart data from ph: 756it [20:51,  1.59s/it]"
     ]
    },
    {
     "name": "stdout",
     "output_type": "stream",
     "text": [
      "\n",
      "Date: 2019-01-27\n",
      "https://spotifycharts.com/regional/ph/daily/2019-01-27/download\n"
     ]
    },
    {
     "name": "stderr",
     "output_type": "stream",
     "text": [
      "\r\n",
      "Collecting chart data from ph: 757it [20:53,  1.57s/it]"
     ]
    },
    {
     "name": "stdout",
     "output_type": "stream",
     "text": [
      "\n",
      "Date: 2019-01-28\n",
      "https://spotifycharts.com/regional/ph/daily/2019-01-28/download\n"
     ]
    },
    {
     "name": "stderr",
     "output_type": "stream",
     "text": [
      "\r\n",
      "Collecting chart data from ph: 758it [20:54,  1.67s/it]"
     ]
    },
    {
     "name": "stdout",
     "output_type": "stream",
     "text": [
      "\n",
      "Date: 2019-01-29\n",
      "https://spotifycharts.com/regional/ph/daily/2019-01-29/download\n"
     ]
    },
    {
     "name": "stderr",
     "output_type": "stream",
     "text": [
      "\r\n",
      "Collecting chart data from ph: 759it [20:56,  1.66s/it]"
     ]
    },
    {
     "name": "stdout",
     "output_type": "stream",
     "text": [
      "\n",
      "Date: 2019-01-30\n",
      "https://spotifycharts.com/regional/ph/daily/2019-01-30/download\n"
     ]
    },
    {
     "name": "stderr",
     "output_type": "stream",
     "text": [
      "\r\n",
      "Collecting chart data from ph: 760it [20:58,  1.78s/it]"
     ]
    },
    {
     "name": "stdout",
     "output_type": "stream",
     "text": [
      "\n",
      "Date: 2019-01-31\n",
      "https://spotifycharts.com/regional/ph/daily/2019-01-31/download\n"
     ]
    },
    {
     "name": "stderr",
     "output_type": "stream",
     "text": [
      "\r\n",
      "Collecting chart data from ph: 761it [21:00,  1.85s/it]"
     ]
    },
    {
     "name": "stdout",
     "output_type": "stream",
     "text": [
      "\n",
      "Date: 2019-02-01\n",
      "https://spotifycharts.com/regional/ph/daily/2019-02-01/download\n"
     ]
    },
    {
     "name": "stderr",
     "output_type": "stream",
     "text": [
      "\r\n",
      "Collecting chart data from ph: 762it [21:02,  1.84s/it]"
     ]
    },
    {
     "name": "stdout",
     "output_type": "stream",
     "text": [
      "\n",
      "Date: 2019-02-02\n",
      "https://spotifycharts.com/regional/ph/daily/2019-02-02/download\n"
     ]
    },
    {
     "name": "stderr",
     "output_type": "stream",
     "text": [
      "\r\n",
      "Collecting chart data from ph: 763it [21:04,  1.78s/it]"
     ]
    },
    {
     "name": "stdout",
     "output_type": "stream",
     "text": [
      "\n",
      "Date: 2019-02-03\n",
      "https://spotifycharts.com/regional/ph/daily/2019-02-03/download\n"
     ]
    },
    {
     "name": "stderr",
     "output_type": "stream",
     "text": [
      "\r\n",
      "Collecting chart data from ph: 764it [21:05,  1.78s/it]"
     ]
    },
    {
     "name": "stdout",
     "output_type": "stream",
     "text": [
      "\n",
      "Date: 2019-02-04\n",
      "https://spotifycharts.com/regional/ph/daily/2019-02-04/download\n"
     ]
    },
    {
     "name": "stderr",
     "output_type": "stream",
     "text": [
      "\r\n",
      "Collecting chart data from ph: 765it [21:07,  1.76s/it]"
     ]
    },
    {
     "name": "stdout",
     "output_type": "stream",
     "text": [
      "\n",
      "Date: 2019-02-05\n",
      "https://spotifycharts.com/regional/ph/daily/2019-02-05/download\n"
     ]
    },
    {
     "name": "stderr",
     "output_type": "stream",
     "text": [
      "\r\n",
      "Collecting chart data from ph: 766it [21:09,  1.76s/it]"
     ]
    },
    {
     "name": "stdout",
     "output_type": "stream",
     "text": [
      "\n",
      "Date: 2019-02-06\n",
      "https://spotifycharts.com/regional/ph/daily/2019-02-06/download\n"
     ]
    },
    {
     "name": "stderr",
     "output_type": "stream",
     "text": [
      "\r\n",
      "Collecting chart data from ph: 767it [21:11,  1.76s/it]"
     ]
    },
    {
     "name": "stdout",
     "output_type": "stream",
     "text": [
      "\n",
      "Date: 2019-02-07\n",
      "https://spotifycharts.com/regional/ph/daily/2019-02-07/download\n"
     ]
    },
    {
     "name": "stderr",
     "output_type": "stream",
     "text": [
      "\r\n",
      "Collecting chart data from ph: 768it [21:12,  1.75s/it]"
     ]
    },
    {
     "name": "stdout",
     "output_type": "stream",
     "text": [
      "\n",
      "Date: 2019-02-08\n",
      "https://spotifycharts.com/regional/ph/daily/2019-02-08/download\n"
     ]
    },
    {
     "name": "stderr",
     "output_type": "stream",
     "text": [
      "\r\n",
      "Collecting chart data from ph: 769it [21:14,  1.70s/it]"
     ]
    },
    {
     "name": "stdout",
     "output_type": "stream",
     "text": [
      "\n",
      "Date: 2019-02-09\n",
      "https://spotifycharts.com/regional/ph/daily/2019-02-09/download\n"
     ]
    },
    {
     "name": "stderr",
     "output_type": "stream",
     "text": [
      "\r\n",
      "Collecting chart data from ph: 770it [21:16,  1.71s/it]"
     ]
    },
    {
     "name": "stdout",
     "output_type": "stream",
     "text": [
      "\n",
      "Date: 2019-02-10\n",
      "https://spotifycharts.com/regional/ph/daily/2019-02-10/download\n"
     ]
    },
    {
     "name": "stderr",
     "output_type": "stream",
     "text": [
      "\r\n",
      "Collecting chart data from ph: 771it [21:17,  1.72s/it]"
     ]
    },
    {
     "name": "stdout",
     "output_type": "stream",
     "text": [
      "\n",
      "Date: 2019-02-11\n",
      "https://spotifycharts.com/regional/ph/daily/2019-02-11/download\n"
     ]
    },
    {
     "name": "stderr",
     "output_type": "stream",
     "text": [
      "\r\n",
      "Collecting chart data from ph: 772it [21:20,  1.85s/it]"
     ]
    },
    {
     "name": "stdout",
     "output_type": "stream",
     "text": [
      "\n",
      "Date: 2019-02-12\n",
      "https://spotifycharts.com/regional/ph/daily/2019-02-12/download\n"
     ]
    },
    {
     "name": "stderr",
     "output_type": "stream",
     "text": [
      "\r\n",
      "Collecting chart data from ph: 773it [21:22,  1.87s/it]"
     ]
    },
    {
     "name": "stdout",
     "output_type": "stream",
     "text": [
      "\n",
      "Date: 2019-02-13\n",
      "https://spotifycharts.com/regional/ph/daily/2019-02-13/download\n"
     ]
    },
    {
     "name": "stderr",
     "output_type": "stream",
     "text": [
      "\r\n",
      "Collecting chart data from ph: 774it [21:24,  1.93s/it]"
     ]
    },
    {
     "name": "stdout",
     "output_type": "stream",
     "text": [
      "\n",
      "Date: 2019-02-14\n",
      "https://spotifycharts.com/regional/ph/daily/2019-02-14/download\n"
     ]
    },
    {
     "name": "stderr",
     "output_type": "stream",
     "text": [
      "\r\n",
      "Collecting chart data from ph: 775it [21:25,  1.90s/it]"
     ]
    },
    {
     "name": "stdout",
     "output_type": "stream",
     "text": [
      "\n",
      "Date: 2019-02-15\n",
      "https://spotifycharts.com/regional/ph/daily/2019-02-15/download\n"
     ]
    },
    {
     "name": "stderr",
     "output_type": "stream",
     "text": [
      "\r\n",
      "Collecting chart data from ph: 776it [21:27,  1.94s/it]"
     ]
    },
    {
     "name": "stdout",
     "output_type": "stream",
     "text": [
      "\n",
      "Date: 2019-02-16\n",
      "https://spotifycharts.com/regional/ph/daily/2019-02-16/download\n"
     ]
    },
    {
     "name": "stderr",
     "output_type": "stream",
     "text": [
      "\r\n",
      "Collecting chart data from ph: 777it [21:30,  2.04s/it]"
     ]
    },
    {
     "name": "stdout",
     "output_type": "stream",
     "text": [
      "\n",
      "Date: 2019-02-17\n",
      "https://spotifycharts.com/regional/ph/daily/2019-02-17/download\n"
     ]
    },
    {
     "name": "stderr",
     "output_type": "stream",
     "text": [
      "\r\n",
      "Collecting chart data from ph: 778it [21:31,  1.94s/it]"
     ]
    },
    {
     "name": "stdout",
     "output_type": "stream",
     "text": [
      "\n",
      "Date: 2019-02-18\n",
      "https://spotifycharts.com/regional/ph/daily/2019-02-18/download\n"
     ]
    },
    {
     "name": "stderr",
     "output_type": "stream",
     "text": [
      "\r\n",
      "Collecting chart data from ph: 779it [21:33,  1.69s/it]"
     ]
    },
    {
     "name": "stdout",
     "output_type": "stream",
     "text": [
      "\n",
      "Date: 2019-02-19\n",
      "https://spotifycharts.com/regional/ph/daily/2019-02-19/download\n"
     ]
    },
    {
     "name": "stderr",
     "output_type": "stream",
     "text": [
      "\r\n",
      "Collecting chart data from ph: 780it [21:34,  1.67s/it]"
     ]
    },
    {
     "name": "stdout",
     "output_type": "stream",
     "text": [
      "\n",
      "Date: 2019-02-20\n",
      "https://spotifycharts.com/regional/ph/daily/2019-02-20/download\n"
     ]
    },
    {
     "name": "stderr",
     "output_type": "stream",
     "text": [
      "\r\n",
      "Collecting chart data from ph: 781it [21:36,  1.67s/it]"
     ]
    },
    {
     "name": "stdout",
     "output_type": "stream",
     "text": [
      "\n",
      "Date: 2019-02-21\n",
      "https://spotifycharts.com/regional/ph/daily/2019-02-21/download\n"
     ]
    },
    {
     "name": "stderr",
     "output_type": "stream",
     "text": [
      "\r\n",
      "Collecting chart data from ph: 782it [21:38,  1.87s/it]"
     ]
    },
    {
     "name": "stdout",
     "output_type": "stream",
     "text": [
      "\n",
      "Date: 2019-02-22\n",
      "https://spotifycharts.com/regional/ph/daily/2019-02-22/download\n"
     ]
    },
    {
     "name": "stderr",
     "output_type": "stream",
     "text": [
      "\r\n",
      "Collecting chart data from ph: 783it [21:40,  1.80s/it]"
     ]
    },
    {
     "name": "stdout",
     "output_type": "stream",
     "text": [
      "\n",
      "Date: 2019-02-23\n",
      "https://spotifycharts.com/regional/ph/daily/2019-02-23/download\n"
     ]
    },
    {
     "name": "stderr",
     "output_type": "stream",
     "text": [
      "\r\n",
      "Collecting chart data from ph: 784it [21:41,  1.76s/it]"
     ]
    },
    {
     "name": "stdout",
     "output_type": "stream",
     "text": [
      "\n",
      "Date: 2019-02-24\n",
      "https://spotifycharts.com/regional/ph/daily/2019-02-24/download\n"
     ]
    },
    {
     "name": "stderr",
     "output_type": "stream",
     "text": [
      "\r\n",
      "Collecting chart data from ph: 785it [21:43,  1.73s/it]"
     ]
    },
    {
     "name": "stdout",
     "output_type": "stream",
     "text": [
      "\n",
      "Date: 2019-02-25\n",
      "https://spotifycharts.com/regional/ph/daily/2019-02-25/download\n"
     ]
    },
    {
     "name": "stderr",
     "output_type": "stream",
     "text": [
      "\r\n",
      "Collecting chart data from ph: 786it [21:45,  1.74s/it]"
     ]
    },
    {
     "name": "stdout",
     "output_type": "stream",
     "text": [
      "\n",
      "Date: 2019-02-26\n",
      "https://spotifycharts.com/regional/ph/daily/2019-02-26/download\n"
     ]
    },
    {
     "name": "stderr",
     "output_type": "stream",
     "text": [
      "\r\n",
      "Collecting chart data from ph: 787it [21:47,  1.76s/it]"
     ]
    },
    {
     "name": "stdout",
     "output_type": "stream",
     "text": [
      "\n",
      "Date: 2019-02-27\n",
      "https://spotifycharts.com/regional/ph/daily/2019-02-27/download\n"
     ]
    },
    {
     "name": "stderr",
     "output_type": "stream",
     "text": [
      "\r\n",
      "Collecting chart data from ph: 788it [21:49,  1.80s/it]"
     ]
    },
    {
     "name": "stdout",
     "output_type": "stream",
     "text": [
      "\n",
      "Date: 2019-02-28\n",
      "https://spotifycharts.com/regional/ph/daily/2019-02-28/download\n"
     ]
    },
    {
     "name": "stderr",
     "output_type": "stream",
     "text": [
      "\r\n",
      "Collecting chart data from ph: 789it [21:51,  1.85s/it]"
     ]
    },
    {
     "name": "stdout",
     "output_type": "stream",
     "text": [
      "\n",
      "Date: 2019-03-01\n",
      "https://spotifycharts.com/regional/ph/daily/2019-03-01/download\n"
     ]
    },
    {
     "name": "stderr",
     "output_type": "stream",
     "text": [
      "\r\n",
      "Collecting chart data from ph: 790it [21:52,  1.77s/it]"
     ]
    },
    {
     "name": "stdout",
     "output_type": "stream",
     "text": [
      "\n",
      "Date: 2019-03-02\n",
      "https://spotifycharts.com/regional/ph/daily/2019-03-02/download\n"
     ]
    },
    {
     "name": "stderr",
     "output_type": "stream",
     "text": [
      "\r\n",
      "Collecting chart data from ph: 791it [21:53,  1.58s/it]"
     ]
    },
    {
     "name": "stdout",
     "output_type": "stream",
     "text": [
      "\n",
      "Date: 2019-03-03\n",
      "https://spotifycharts.com/regional/ph/daily/2019-03-03/download\n"
     ]
    },
    {
     "name": "stderr",
     "output_type": "stream",
     "text": [
      "\r\n",
      "Collecting chart data from ph: 792it [21:55,  1.70s/it]"
     ]
    },
    {
     "name": "stdout",
     "output_type": "stream",
     "text": [
      "\n",
      "Date: 2019-03-04\n",
      "https://spotifycharts.com/regional/ph/daily/2019-03-04/download\n"
     ]
    },
    {
     "name": "stderr",
     "output_type": "stream",
     "text": [
      "\r\n",
      "Collecting chart data from ph: 793it [21:56,  1.55s/it]"
     ]
    },
    {
     "name": "stdout",
     "output_type": "stream",
     "text": [
      "\n",
      "Date: 2019-03-05\n",
      "https://spotifycharts.com/regional/ph/daily/2019-03-05/download\n"
     ]
    },
    {
     "name": "stderr",
     "output_type": "stream",
     "text": [
      "\r\n",
      "Collecting chart data from ph: 794it [21:58,  1.42s/it]"
     ]
    },
    {
     "name": "stdout",
     "output_type": "stream",
     "text": [
      "\n",
      "Date: 2019-03-06\n",
      "https://spotifycharts.com/regional/ph/daily/2019-03-06/download\n"
     ]
    },
    {
     "name": "stderr",
     "output_type": "stream",
     "text": [
      "\r\n",
      "Collecting chart data from ph: 795it [21:59,  1.56s/it]"
     ]
    },
    {
     "name": "stdout",
     "output_type": "stream",
     "text": [
      "\n",
      "Date: 2019-03-07\n",
      "https://spotifycharts.com/regional/ph/daily/2019-03-07/download\n"
     ]
    },
    {
     "name": "stderr",
     "output_type": "stream",
     "text": [
      "\r\n",
      "Collecting chart data from ph: 796it [22:01,  1.43s/it]"
     ]
    },
    {
     "name": "stdout",
     "output_type": "stream",
     "text": [
      "\n",
      "Date: 2019-03-08\n",
      "https://spotifycharts.com/regional/ph/daily/2019-03-08/download\n"
     ]
    },
    {
     "name": "stderr",
     "output_type": "stream",
     "text": [
      "\r\n",
      "Collecting chart data from ph: 797it [22:03,  1.66s/it]"
     ]
    },
    {
     "name": "stdout",
     "output_type": "stream",
     "text": [
      "\n",
      "Date: 2019-03-09\n",
      "https://spotifycharts.com/regional/ph/daily/2019-03-09/download\n"
     ]
    },
    {
     "name": "stderr",
     "output_type": "stream",
     "text": [
      "\r\n",
      "Collecting chart data from ph: 798it [22:05,  1.70s/it]"
     ]
    },
    {
     "name": "stdout",
     "output_type": "stream",
     "text": [
      "\n",
      "Date: 2019-03-10\n",
      "https://spotifycharts.com/regional/ph/daily/2019-03-10/download\n"
     ]
    },
    {
     "name": "stderr",
     "output_type": "stream",
     "text": [
      "\r\n",
      "Collecting chart data from ph: 799it [22:06,  1.69s/it]"
     ]
    },
    {
     "name": "stdout",
     "output_type": "stream",
     "text": [
      "\n",
      "Date: 2019-03-11\n",
      "https://spotifycharts.com/regional/ph/daily/2019-03-11/download\n"
     ]
    },
    {
     "name": "stderr",
     "output_type": "stream",
     "text": [
      "\r\n",
      "Collecting chart data from ph: 800it [22:08,  1.66s/it]"
     ]
    },
    {
     "name": "stdout",
     "output_type": "stream",
     "text": [
      "\n",
      "Date: 2019-03-12\n",
      "https://spotifycharts.com/regional/ph/daily/2019-03-12/download\n"
     ]
    },
    {
     "name": "stderr",
     "output_type": "stream",
     "text": [
      "\r\n",
      "Collecting chart data from ph: 801it [22:09,  1.62s/it]"
     ]
    },
    {
     "name": "stdout",
     "output_type": "stream",
     "text": [
      "\n",
      "Date: 2019-03-13\n",
      "https://spotifycharts.com/regional/ph/daily/2019-03-13/download\n"
     ]
    },
    {
     "name": "stderr",
     "output_type": "stream",
     "text": [
      "\r\n",
      "Collecting chart data from ph: 802it [22:11,  1.66s/it]"
     ]
    },
    {
     "name": "stdout",
     "output_type": "stream",
     "text": [
      "\n",
      "Date: 2019-03-14\n",
      "https://spotifycharts.com/regional/ph/daily/2019-03-14/download\n"
     ]
    },
    {
     "name": "stderr",
     "output_type": "stream",
     "text": [
      "\r\n",
      "Collecting chart data from ph: 803it [22:13,  1.77s/it]"
     ]
    },
    {
     "name": "stdout",
     "output_type": "stream",
     "text": [
      "\n",
      "Date: 2019-03-15\n",
      "https://spotifycharts.com/regional/ph/daily/2019-03-15/download\n"
     ]
    },
    {
     "name": "stderr",
     "output_type": "stream",
     "text": [
      "\r\n",
      "Collecting chart data from ph: 804it [22:15,  1.80s/it]"
     ]
    },
    {
     "name": "stdout",
     "output_type": "stream",
     "text": [
      "\n",
      "Date: 2019-03-16\n",
      "https://spotifycharts.com/regional/ph/daily/2019-03-16/download\n"
     ]
    },
    {
     "name": "stderr",
     "output_type": "stream",
     "text": [
      "\r\n",
      "Collecting chart data from ph: 805it [22:17,  1.74s/it]"
     ]
    },
    {
     "name": "stdout",
     "output_type": "stream",
     "text": [
      "\n",
      "Date: 2019-03-17\n",
      "https://spotifycharts.com/regional/ph/daily/2019-03-17/download\n"
     ]
    },
    {
     "name": "stderr",
     "output_type": "stream",
     "text": [
      "\r\n",
      "Collecting chart data from ph: 806it [22:18,  1.70s/it]"
     ]
    },
    {
     "name": "stdout",
     "output_type": "stream",
     "text": [
      "\n",
      "Date: 2019-03-18\n",
      "https://spotifycharts.com/regional/ph/daily/2019-03-18/download\n"
     ]
    },
    {
     "name": "stderr",
     "output_type": "stream",
     "text": [
      "\r\n",
      "Collecting chart data from ph: 807it [22:20,  1.69s/it]"
     ]
    },
    {
     "name": "stdout",
     "output_type": "stream",
     "text": [
      "\n",
      "Date: 2019-03-19\n",
      "https://spotifycharts.com/regional/ph/daily/2019-03-19/download\n"
     ]
    },
    {
     "name": "stderr",
     "output_type": "stream",
     "text": [
      "\r\n",
      "Collecting chart data from ph: 808it [22:22,  1.74s/it]"
     ]
    },
    {
     "name": "stdout",
     "output_type": "stream",
     "text": [
      "\n",
      "Date: 2019-03-20\n",
      "https://spotifycharts.com/regional/ph/daily/2019-03-20/download\n"
     ]
    },
    {
     "name": "stderr",
     "output_type": "stream",
     "text": [
      "\r\n",
      "Collecting chart data from ph: 809it [22:23,  1.71s/it]"
     ]
    },
    {
     "name": "stdout",
     "output_type": "stream",
     "text": [
      "\n",
      "Date: 2019-03-21\n",
      "https://spotifycharts.com/regional/ph/daily/2019-03-21/download\n"
     ]
    },
    {
     "name": "stderr",
     "output_type": "stream",
     "text": [
      "\r\n",
      "Collecting chart data from ph: 810it [22:25,  1.80s/it]"
     ]
    },
    {
     "name": "stdout",
     "output_type": "stream",
     "text": [
      "\n",
      "Date: 2019-03-22\n",
      "https://spotifycharts.com/regional/ph/daily/2019-03-22/download\n"
     ]
    },
    {
     "name": "stderr",
     "output_type": "stream",
     "text": [
      "\r\n",
      "Collecting chart data from ph: 811it [22:27,  1.76s/it]"
     ]
    },
    {
     "name": "stdout",
     "output_type": "stream",
     "text": [
      "\n",
      "Date: 2019-03-23\n",
      "https://spotifycharts.com/regional/ph/daily/2019-03-23/download\n"
     ]
    },
    {
     "name": "stderr",
     "output_type": "stream",
     "text": [
      "\r\n",
      "Collecting chart data from ph: 812it [22:29,  1.77s/it]"
     ]
    },
    {
     "name": "stdout",
     "output_type": "stream",
     "text": [
      "\n",
      "Date: 2019-03-24\n",
      "https://spotifycharts.com/regional/ph/daily/2019-03-24/download\n"
     ]
    },
    {
     "name": "stderr",
     "output_type": "stream",
     "text": [
      "\r\n",
      "Collecting chart data from ph: 813it [22:30,  1.58s/it]"
     ]
    },
    {
     "name": "stdout",
     "output_type": "stream",
     "text": [
      "\n",
      "Date: 2019-03-25\n",
      "https://spotifycharts.com/regional/ph/daily/2019-03-25/download\n"
     ]
    },
    {
     "name": "stderr",
     "output_type": "stream",
     "text": [
      "\r\n",
      "Collecting chart data from ph: 814it [22:32,  1.64s/it]"
     ]
    },
    {
     "name": "stdout",
     "output_type": "stream",
     "text": [
      "\n",
      "Date: 2019-03-26\n",
      "https://spotifycharts.com/regional/ph/daily/2019-03-26/download\n"
     ]
    },
    {
     "name": "stderr",
     "output_type": "stream",
     "text": [
      "\r\n",
      "Collecting chart data from ph: 815it [22:33,  1.49s/it]"
     ]
    },
    {
     "name": "stdout",
     "output_type": "stream",
     "text": [
      "\n",
      "Date: 2019-03-27\n",
      "https://spotifycharts.com/regional/ph/daily/2019-03-27/download\n"
     ]
    },
    {
     "name": "stderr",
     "output_type": "stream",
     "text": [
      "\r\n",
      "Collecting chart data from ph: 816it [22:34,  1.39s/it]"
     ]
    },
    {
     "name": "stdout",
     "output_type": "stream",
     "text": [
      "\n",
      "Date: 2019-03-28\n",
      "https://spotifycharts.com/regional/ph/daily/2019-03-28/download\n"
     ]
    },
    {
     "name": "stderr",
     "output_type": "stream",
     "text": [
      "\r\n",
      "Collecting chart data from ph: 817it [22:36,  1.51s/it]"
     ]
    },
    {
     "name": "stdout",
     "output_type": "stream",
     "text": [
      "\n",
      "Date: 2019-03-29\n",
      "https://spotifycharts.com/regional/ph/daily/2019-03-29/download\n"
     ]
    },
    {
     "name": "stderr",
     "output_type": "stream",
     "text": [
      "\r\n",
      "Collecting chart data from ph: 818it [22:38,  1.63s/it]"
     ]
    },
    {
     "name": "stdout",
     "output_type": "stream",
     "text": [
      "\n",
      "Date: 2019-03-30\n",
      "https://spotifycharts.com/regional/ph/daily/2019-03-30/download\n"
     ]
    },
    {
     "name": "stderr",
     "output_type": "stream",
     "text": [
      "\r\n",
      "Collecting chart data from ph: 819it [22:40,  1.69s/it]"
     ]
    },
    {
     "name": "stdout",
     "output_type": "stream",
     "text": [
      "\n",
      "Date: 2019-03-31\n",
      "https://spotifycharts.com/regional/ph/daily/2019-03-31/download\n"
     ]
    },
    {
     "name": "stderr",
     "output_type": "stream",
     "text": [
      "\r\n",
      "Collecting chart data from ph: 820it [22:41,  1.72s/it]"
     ]
    },
    {
     "name": "stdout",
     "output_type": "stream",
     "text": [
      "\n",
      "Date: 2019-04-01\n",
      "https://spotifycharts.com/regional/ph/daily/2019-04-01/download\n"
     ]
    },
    {
     "name": "stderr",
     "output_type": "stream",
     "text": [
      "\r\n",
      "Collecting chart data from ph: 821it [22:43,  1.74s/it]"
     ]
    },
    {
     "name": "stdout",
     "output_type": "stream",
     "text": [
      "\n",
      "Date: 2019-04-02\n",
      "https://spotifycharts.com/regional/ph/daily/2019-04-02/download\n"
     ]
    },
    {
     "name": "stderr",
     "output_type": "stream",
     "text": [
      "\r\n",
      "Collecting chart data from ph: 822it [22:44,  1.59s/it]"
     ]
    },
    {
     "name": "stdout",
     "output_type": "stream",
     "text": [
      "\n",
      "Date: 2019-04-03\n",
      "https://spotifycharts.com/regional/ph/daily/2019-04-03/download\n"
     ]
    },
    {
     "name": "stderr",
     "output_type": "stream",
     "text": [
      "\r\n",
      "Collecting chart data from ph: 823it [22:47,  1.78s/it]"
     ]
    },
    {
     "name": "stdout",
     "output_type": "stream",
     "text": [
      "\n",
      "Date: 2019-04-04\n",
      "https://spotifycharts.com/regional/ph/daily/2019-04-04/download\n"
     ]
    },
    {
     "name": "stderr",
     "output_type": "stream",
     "text": [
      "\r\n",
      "Collecting chart data from ph: 824it [22:48,  1.76s/it]"
     ]
    },
    {
     "name": "stdout",
     "output_type": "stream",
     "text": [
      "\n",
      "Date: 2019-04-05\n",
      "https://spotifycharts.com/regional/ph/daily/2019-04-05/download\n"
     ]
    },
    {
     "name": "stderr",
     "output_type": "stream",
     "text": [
      "\r\n",
      "Collecting chart data from ph: 825it [22:49,  1.54s/it]"
     ]
    },
    {
     "name": "stdout",
     "output_type": "stream",
     "text": [
      "\n",
      "Date: 2019-04-06\n",
      "https://spotifycharts.com/regional/ph/daily/2019-04-06/download\n"
     ]
    },
    {
     "name": "stderr",
     "output_type": "stream",
     "text": [
      "\r\n",
      "Collecting chart data from ph: 826it [22:51,  1.65s/it]"
     ]
    },
    {
     "name": "stdout",
     "output_type": "stream",
     "text": [
      "\n",
      "Date: 2019-04-07\n",
      "https://spotifycharts.com/regional/ph/daily/2019-04-07/download\n"
     ]
    },
    {
     "name": "stderr",
     "output_type": "stream",
     "text": [
      "\r\n",
      "Collecting chart data from ph: 827it [22:54,  1.83s/it]"
     ]
    },
    {
     "name": "stdout",
     "output_type": "stream",
     "text": [
      "\n",
      "Date: 2019-04-08\n",
      "https://spotifycharts.com/regional/ph/daily/2019-04-08/download\n"
     ]
    },
    {
     "name": "stderr",
     "output_type": "stream",
     "text": [
      "\r\n",
      "Collecting chart data from ph: 828it [22:55,  1.77s/it]"
     ]
    },
    {
     "name": "stdout",
     "output_type": "stream",
     "text": [
      "\n",
      "Date: 2019-04-09\n",
      "https://spotifycharts.com/regional/ph/daily/2019-04-09/download\n"
     ]
    },
    {
     "name": "stderr",
     "output_type": "stream",
     "text": [
      "\r\n",
      "Collecting chart data from ph: 829it [22:57,  1.76s/it]"
     ]
    },
    {
     "name": "stdout",
     "output_type": "stream",
     "text": [
      "\n",
      "Date: 2019-04-10\n",
      "https://spotifycharts.com/regional/ph/daily/2019-04-10/download\n"
     ]
    },
    {
     "name": "stderr",
     "output_type": "stream",
     "text": [
      "\r\n",
      "Collecting chart data from ph: 830it [22:59,  1.81s/it]"
     ]
    },
    {
     "name": "stdout",
     "output_type": "stream",
     "text": [
      "\n",
      "Date: 2019-04-11\n",
      "https://spotifycharts.com/regional/ph/daily/2019-04-11/download\n"
     ]
    },
    {
     "name": "stderr",
     "output_type": "stream",
     "text": [
      "\r\n",
      "Collecting chart data from ph: 831it [23:00,  1.58s/it]"
     ]
    },
    {
     "name": "stdout",
     "output_type": "stream",
     "text": [
      "\n",
      "Date: 2019-04-12\n",
      "https://spotifycharts.com/regional/ph/daily/2019-04-12/download\n"
     ]
    },
    {
     "name": "stderr",
     "output_type": "stream",
     "text": [
      "\r\n",
      "Collecting chart data from ph: 832it [23:02,  1.60s/it]"
     ]
    },
    {
     "name": "stdout",
     "output_type": "stream",
     "text": [
      "\n",
      "Date: 2019-04-13\n",
      "https://spotifycharts.com/regional/ph/daily/2019-04-13/download\n"
     ]
    },
    {
     "name": "stderr",
     "output_type": "stream",
     "text": [
      "\r\n",
      "Collecting chart data from ph: 833it [23:04,  1.72s/it]"
     ]
    },
    {
     "name": "stdout",
     "output_type": "stream",
     "text": [
      "\n",
      "Date: 2019-04-14\n",
      "https://spotifycharts.com/regional/ph/daily/2019-04-14/download\n"
     ]
    },
    {
     "name": "stderr",
     "output_type": "stream",
     "text": [
      "\r\n",
      "Collecting chart data from ph: 834it [23:05,  1.66s/it]"
     ]
    },
    {
     "name": "stdout",
     "output_type": "stream",
     "text": [
      "\n",
      "Date: 2019-04-15\n",
      "https://spotifycharts.com/regional/ph/daily/2019-04-15/download\n"
     ]
    },
    {
     "name": "stderr",
     "output_type": "stream",
     "text": [
      "\r\n",
      "Collecting chart data from ph: 835it [23:07,  1.71s/it]"
     ]
    },
    {
     "name": "stdout",
     "output_type": "stream",
     "text": [
      "\n",
      "Date: 2019-04-16\n",
      "https://spotifycharts.com/regional/ph/daily/2019-04-16/download\n"
     ]
    },
    {
     "name": "stderr",
     "output_type": "stream",
     "text": [
      "\r\n",
      "Collecting chart data from ph: 836it [23:09,  1.70s/it]"
     ]
    },
    {
     "name": "stdout",
     "output_type": "stream",
     "text": [
      "\n",
      "Date: 2019-04-17\n",
      "https://spotifycharts.com/regional/ph/daily/2019-04-17/download\n"
     ]
    },
    {
     "name": "stderr",
     "output_type": "stream",
     "text": [
      "\r\n",
      "Collecting chart data from ph: 837it [23:10,  1.50s/it]"
     ]
    },
    {
     "name": "stdout",
     "output_type": "stream",
     "text": [
      "\n",
      "Date: 2019-04-18\n",
      "https://spotifycharts.com/regional/ph/daily/2019-04-18/download\n"
     ]
    },
    {
     "name": "stderr",
     "output_type": "stream",
     "text": [
      "\r\n",
      "Collecting chart data from ph: 838it [23:11,  1.53s/it]"
     ]
    },
    {
     "name": "stdout",
     "output_type": "stream",
     "text": [
      "\n",
      "Date: 2019-04-19\n",
      "https://spotifycharts.com/regional/ph/daily/2019-04-19/download\n"
     ]
    },
    {
     "name": "stderr",
     "output_type": "stream",
     "text": [
      "\r\n",
      "Collecting chart data from ph: 839it [23:13,  1.57s/it]"
     ]
    },
    {
     "name": "stdout",
     "output_type": "stream",
     "text": [
      "\n",
      "Date: 2019-04-20\n",
      "https://spotifycharts.com/regional/ph/daily/2019-04-20/download\n"
     ]
    },
    {
     "name": "stderr",
     "output_type": "stream",
     "text": [
      "\r\n",
      "Collecting chart data from ph: 840it [23:15,  1.61s/it]"
     ]
    },
    {
     "name": "stdout",
     "output_type": "stream",
     "text": [
      "\n",
      "Date: 2019-04-21\n",
      "https://spotifycharts.com/regional/ph/daily/2019-04-21/download\n"
     ]
    },
    {
     "name": "stderr",
     "output_type": "stream",
     "text": [
      "\r\n",
      "Collecting chart data from ph: 841it [23:16,  1.62s/it]"
     ]
    },
    {
     "name": "stdout",
     "output_type": "stream",
     "text": [
      "\n",
      "Date: 2019-04-22\n",
      "https://spotifycharts.com/regional/ph/daily/2019-04-22/download\n"
     ]
    },
    {
     "name": "stderr",
     "output_type": "stream",
     "text": [
      "\r\n",
      "Collecting chart data from ph: 842it [23:18,  1.56s/it]"
     ]
    },
    {
     "name": "stdout",
     "output_type": "stream",
     "text": [
      "\n",
      "Date: 2019-04-23\n",
      "https://spotifycharts.com/regional/ph/daily/2019-04-23/download\n"
     ]
    },
    {
     "name": "stderr",
     "output_type": "stream",
     "text": [
      "\r\n",
      "Collecting chart data from ph: 843it [23:19,  1.60s/it]"
     ]
    },
    {
     "name": "stdout",
     "output_type": "stream",
     "text": [
      "\n",
      "Date: 2019-04-24\n",
      "https://spotifycharts.com/regional/ph/daily/2019-04-24/download\n"
     ]
    },
    {
     "name": "stderr",
     "output_type": "stream",
     "text": [
      "\r\n",
      "Collecting chart data from ph: 844it [23:21,  1.63s/it]"
     ]
    },
    {
     "name": "stdout",
     "output_type": "stream",
     "text": [
      "\n",
      "Date: 2019-04-25\n",
      "https://spotifycharts.com/regional/ph/daily/2019-04-25/download\n"
     ]
    },
    {
     "name": "stderr",
     "output_type": "stream",
     "text": [
      "\r\n",
      "Collecting chart data from ph: 845it [23:23,  1.62s/it]"
     ]
    },
    {
     "name": "stdout",
     "output_type": "stream",
     "text": [
      "\n",
      "Date: 2019-04-26\n",
      "https://spotifycharts.com/regional/ph/daily/2019-04-26/download\n"
     ]
    },
    {
     "name": "stderr",
     "output_type": "stream",
     "text": [
      "\r\n",
      "Collecting chart data from ph: 846it [23:24,  1.65s/it]"
     ]
    },
    {
     "name": "stdout",
     "output_type": "stream",
     "text": [
      "\n",
      "Date: 2019-04-27\n",
      "https://spotifycharts.com/regional/ph/daily/2019-04-27/download\n"
     ]
    },
    {
     "name": "stderr",
     "output_type": "stream",
     "text": [
      "\r\n",
      "Collecting chart data from ph: 847it [23:26,  1.72s/it]"
     ]
    },
    {
     "name": "stdout",
     "output_type": "stream",
     "text": [
      "\n",
      "Date: 2019-04-28\n",
      "https://spotifycharts.com/regional/ph/daily/2019-04-28/download\n"
     ]
    },
    {
     "name": "stderr",
     "output_type": "stream",
     "text": [
      "\r\n",
      "Collecting chart data from ph: 848it [23:28,  1.81s/it]"
     ]
    },
    {
     "name": "stdout",
     "output_type": "stream",
     "text": [
      "\n",
      "Date: 2019-04-29\n",
      "https://spotifycharts.com/regional/ph/daily/2019-04-29/download\n"
     ]
    },
    {
     "name": "stderr",
     "output_type": "stream",
     "text": [
      "\r\n",
      "Collecting chart data from ph: 849it [23:30,  1.74s/it]"
     ]
    },
    {
     "name": "stdout",
     "output_type": "stream",
     "text": [
      "\n",
      "Date: 2019-04-30\n",
      "https://spotifycharts.com/regional/ph/daily/2019-04-30/download\n"
     ]
    },
    {
     "name": "stderr",
     "output_type": "stream",
     "text": [
      "\r\n",
      "Collecting chart data from ph: 850it [23:31,  1.72s/it]"
     ]
    },
    {
     "name": "stdout",
     "output_type": "stream",
     "text": [
      "\n",
      "Date: 2019-05-01\n",
      "https://spotifycharts.com/regional/ph/daily/2019-05-01/download\n"
     ]
    },
    {
     "name": "stderr",
     "output_type": "stream",
     "text": [
      "\r\n",
      "Collecting chart data from ph: 851it [23:34,  1.83s/it]"
     ]
    },
    {
     "name": "stdout",
     "output_type": "stream",
     "text": [
      "\n",
      "Date: 2019-05-02\n",
      "https://spotifycharts.com/regional/ph/daily/2019-05-02/download\n"
     ]
    },
    {
     "name": "stderr",
     "output_type": "stream",
     "text": [
      "\r\n",
      "Collecting chart data from ph: 852it [23:35,  1.79s/it]"
     ]
    },
    {
     "name": "stdout",
     "output_type": "stream",
     "text": [
      "\n",
      "Date: 2019-05-03\n",
      "https://spotifycharts.com/regional/ph/daily/2019-05-03/download\n"
     ]
    },
    {
     "name": "stderr",
     "output_type": "stream",
     "text": [
      "\r\n",
      "Collecting chart data from ph: 853it [23:37,  1.74s/it]"
     ]
    },
    {
     "name": "stdout",
     "output_type": "stream",
     "text": [
      "\n",
      "Date: 2019-05-04\n",
      "https://spotifycharts.com/regional/ph/daily/2019-05-04/download\n"
     ]
    },
    {
     "name": "stderr",
     "output_type": "stream",
     "text": [
      "\r\n",
      "Collecting chart data from ph: 854it [23:38,  1.68s/it]"
     ]
    },
    {
     "name": "stdout",
     "output_type": "stream",
     "text": [
      "\n",
      "Date: 2019-05-05\n",
      "https://spotifycharts.com/regional/ph/daily/2019-05-05/download\n"
     ]
    },
    {
     "name": "stderr",
     "output_type": "stream",
     "text": [
      "\r\n",
      "Collecting chart data from ph: 855it [23:41,  1.81s/it]"
     ]
    },
    {
     "name": "stdout",
     "output_type": "stream",
     "text": [
      "\n",
      "Date: 2019-05-06\n",
      "https://spotifycharts.com/regional/ph/daily/2019-05-06/download\n"
     ]
    },
    {
     "name": "stderr",
     "output_type": "stream",
     "text": [
      "\r\n",
      "Collecting chart data from ph: 856it [23:42,  1.74s/it]"
     ]
    },
    {
     "name": "stdout",
     "output_type": "stream",
     "text": [
      "\n",
      "Date: 2019-05-07\n",
      "https://spotifycharts.com/regional/ph/daily/2019-05-07/download\n"
     ]
    },
    {
     "name": "stderr",
     "output_type": "stream",
     "text": [
      "\r\n",
      "Collecting chart data from ph: 857it [23:44,  1.72s/it]"
     ]
    },
    {
     "name": "stdout",
     "output_type": "stream",
     "text": [
      "\n",
      "Date: 2019-05-08\n",
      "https://spotifycharts.com/regional/ph/daily/2019-05-08/download\n"
     ]
    },
    {
     "name": "stderr",
     "output_type": "stream",
     "text": [
      "\r\n",
      "Collecting chart data from ph: 858it [23:45,  1.70s/it]"
     ]
    },
    {
     "name": "stdout",
     "output_type": "stream",
     "text": [
      "\n",
      "Date: 2019-05-09\n",
      "https://spotifycharts.com/regional/ph/daily/2019-05-09/download\n"
     ]
    },
    {
     "name": "stderr",
     "output_type": "stream",
     "text": [
      "\r\n",
      "Collecting chart data from ph: 859it [23:47,  1.66s/it]"
     ]
    },
    {
     "name": "stdout",
     "output_type": "stream",
     "text": [
      "\n",
      "Date: 2019-05-10\n",
      "https://spotifycharts.com/regional/ph/daily/2019-05-10/download\n"
     ]
    },
    {
     "name": "stderr",
     "output_type": "stream",
     "text": [
      "\r\n",
      "Collecting chart data from ph: 860it [23:49,  1.63s/it]"
     ]
    },
    {
     "name": "stdout",
     "output_type": "stream",
     "text": [
      "\n",
      "Date: 2019-05-11\n",
      "https://spotifycharts.com/regional/ph/daily/2019-05-11/download\n"
     ]
    },
    {
     "name": "stderr",
     "output_type": "stream",
     "text": [
      "\r\n",
      "Collecting chart data from ph: 861it [23:50,  1.66s/it]"
     ]
    },
    {
     "name": "stdout",
     "output_type": "stream",
     "text": [
      "\n",
      "Date: 2019-05-12\n",
      "https://spotifycharts.com/regional/ph/daily/2019-05-12/download\n"
     ]
    },
    {
     "name": "stderr",
     "output_type": "stream",
     "text": [
      "\r\n",
      "Collecting chart data from ph: 862it [23:52,  1.66s/it]"
     ]
    },
    {
     "name": "stdout",
     "output_type": "stream",
     "text": [
      "\n",
      "Date: 2019-05-13\n",
      "https://spotifycharts.com/regional/ph/daily/2019-05-13/download\n"
     ]
    },
    {
     "name": "stderr",
     "output_type": "stream",
     "text": [
      "\r\n",
      "Collecting chart data from ph: 863it [23:54,  1.66s/it]"
     ]
    },
    {
     "name": "stdout",
     "output_type": "stream",
     "text": [
      "\n",
      "Date: 2019-05-14\n",
      "https://spotifycharts.com/regional/ph/daily/2019-05-14/download\n"
     ]
    },
    {
     "name": "stderr",
     "output_type": "stream",
     "text": [
      "\r\n",
      "Collecting chart data from ph: 864it [23:55,  1.64s/it]"
     ]
    },
    {
     "name": "stdout",
     "output_type": "stream",
     "text": [
      "\n",
      "Date: 2019-05-15\n",
      "https://spotifycharts.com/regional/ph/daily/2019-05-15/download\n"
     ]
    },
    {
     "name": "stderr",
     "output_type": "stream",
     "text": [
      "\r\n",
      "Collecting chart data from ph: 865it [23:57,  1.64s/it]"
     ]
    },
    {
     "name": "stdout",
     "output_type": "stream",
     "text": [
      "\n",
      "Date: 2019-05-16\n",
      "https://spotifycharts.com/regional/ph/daily/2019-05-16/download\n"
     ]
    },
    {
     "name": "stderr",
     "output_type": "stream",
     "text": [
      "\r\n",
      "Collecting chart data from ph: 866it [23:58,  1.61s/it]"
     ]
    },
    {
     "name": "stdout",
     "output_type": "stream",
     "text": [
      "\n",
      "Date: 2019-05-17\n",
      "https://spotifycharts.com/regional/ph/daily/2019-05-17/download\n"
     ]
    },
    {
     "name": "stderr",
     "output_type": "stream",
     "text": [
      "\r\n",
      "Collecting chart data from ph: 867it [24:00,  1.65s/it]"
     ]
    },
    {
     "name": "stdout",
     "output_type": "stream",
     "text": [
      "\n",
      "Date: 2019-05-18\n",
      "https://spotifycharts.com/regional/ph/daily/2019-05-18/download\n"
     ]
    },
    {
     "name": "stderr",
     "output_type": "stream",
     "text": [
      "\r\n",
      "Collecting chart data from ph: 868it [24:02,  1.61s/it]"
     ]
    },
    {
     "name": "stdout",
     "output_type": "stream",
     "text": [
      "\n",
      "Date: 2019-05-19\n",
      "https://spotifycharts.com/regional/ph/daily/2019-05-19/download\n"
     ]
    },
    {
     "name": "stderr",
     "output_type": "stream",
     "text": [
      "\r\n",
      "Collecting chart data from ph: 869it [24:03,  1.63s/it]"
     ]
    },
    {
     "name": "stdout",
     "output_type": "stream",
     "text": [
      "\n",
      "Date: 2019-05-20\n",
      "https://spotifycharts.com/regional/ph/daily/2019-05-20/download\n"
     ]
    },
    {
     "name": "stderr",
     "output_type": "stream",
     "text": [
      "\r\n",
      "Collecting chart data from ph: 870it [24:04,  1.48s/it]"
     ]
    },
    {
     "name": "stdout",
     "output_type": "stream",
     "text": [
      "\n",
      "Date: 2019-05-21\n",
      "https://spotifycharts.com/regional/ph/daily/2019-05-21/download\n"
     ]
    },
    {
     "name": "stderr",
     "output_type": "stream",
     "text": [
      "\r\n",
      "Collecting chart data from ph: 871it [24:06,  1.55s/it]"
     ]
    },
    {
     "name": "stdout",
     "output_type": "stream",
     "text": [
      "\n",
      "Date: 2019-05-22\n",
      "https://spotifycharts.com/regional/ph/daily/2019-05-22/download\n"
     ]
    },
    {
     "name": "stderr",
     "output_type": "stream",
     "text": [
      "\r\n",
      "Collecting chart data from ph: 872it [24:07,  1.45s/it]"
     ]
    },
    {
     "name": "stdout",
     "output_type": "stream",
     "text": [
      "\n",
      "Date: 2019-05-23\n",
      "https://spotifycharts.com/regional/ph/daily/2019-05-23/download\n"
     ]
    },
    {
     "name": "stderr",
     "output_type": "stream",
     "text": [
      "\r\n",
      "Collecting chart data from ph: 873it [24:09,  1.50s/it]"
     ]
    },
    {
     "name": "stdout",
     "output_type": "stream",
     "text": [
      "\n",
      "Date: 2019-05-24\n",
      "https://spotifycharts.com/regional/ph/daily/2019-05-24/download\n"
     ]
    },
    {
     "name": "stderr",
     "output_type": "stream",
     "text": [
      "\r\n",
      "Collecting chart data from ph: 874it [24:11,  1.57s/it]"
     ]
    },
    {
     "name": "stdout",
     "output_type": "stream",
     "text": [
      "\n",
      "Date: 2019-05-25\n",
      "https://spotifycharts.com/regional/ph/daily/2019-05-25/download\n"
     ]
    },
    {
     "name": "stderr",
     "output_type": "stream",
     "text": [
      "\r\n",
      "Collecting chart data from ph: 875it [24:12,  1.61s/it]"
     ]
    },
    {
     "name": "stdout",
     "output_type": "stream",
     "text": [
      "\n",
      "Date: 2019-05-26\n",
      "https://spotifycharts.com/regional/ph/daily/2019-05-26/download\n"
     ]
    },
    {
     "name": "stderr",
     "output_type": "stream",
     "text": [
      "\r\n",
      "Collecting chart data from ph: 876it [24:14,  1.64s/it]"
     ]
    },
    {
     "name": "stdout",
     "output_type": "stream",
     "text": [
      "\n",
      "Date: 2019-05-27\n",
      "https://spotifycharts.com/regional/ph/daily/2019-05-27/download\n"
     ]
    },
    {
     "name": "stderr",
     "output_type": "stream",
     "text": [
      "\r\n",
      "Collecting chart data from ph: 877it [24:16,  1.61s/it]"
     ]
    },
    {
     "name": "stdout",
     "output_type": "stream",
     "text": [
      "\n",
      "Date: 2019-05-28\n",
      "https://spotifycharts.com/regional/ph/daily/2019-05-28/download\n"
     ]
    },
    {
     "name": "stderr",
     "output_type": "stream",
     "text": [
      "\r\n",
      "Collecting chart data from ph: 878it [24:17,  1.60s/it]"
     ]
    },
    {
     "name": "stdout",
     "output_type": "stream",
     "text": [
      "\n",
      "Date: 2019-05-29\n",
      "https://spotifycharts.com/regional/ph/daily/2019-05-29/download\n"
     ]
    },
    {
     "name": "stderr",
     "output_type": "stream",
     "text": [
      "\r\n",
      "Collecting chart data from ph: 879it [24:18,  1.44s/it]"
     ]
    },
    {
     "name": "stdout",
     "output_type": "stream",
     "text": [
      "\n",
      "Date: 2019-05-30\n",
      "https://spotifycharts.com/regional/ph/daily/2019-05-30/download\n"
     ]
    },
    {
     "name": "stderr",
     "output_type": "stream",
     "text": [
      "\r\n",
      "Collecting chart data from ph: 880it [24:20,  1.47s/it]"
     ]
    },
    {
     "name": "stdout",
     "output_type": "stream",
     "text": [
      "\n",
      "Date: 2019-05-31\n",
      "https://spotifycharts.com/regional/ph/daily/2019-05-31/download\n"
     ]
    },
    {
     "name": "stderr",
     "output_type": "stream",
     "text": [
      "\r\n",
      "Collecting chart data from ph: 881it [24:21,  1.51s/it]"
     ]
    },
    {
     "name": "stdout",
     "output_type": "stream",
     "text": [
      "\n",
      "Date: 2019-06-01\n",
      "https://spotifycharts.com/regional/ph/daily/2019-06-01/download\n"
     ]
    },
    {
     "name": "stderr",
     "output_type": "stream",
     "text": [
      "\r\n",
      "Collecting chart data from ph: 882it [24:23,  1.58s/it]"
     ]
    },
    {
     "name": "stdout",
     "output_type": "stream",
     "text": [
      "\n",
      "Date: 2019-06-02\n",
      "https://spotifycharts.com/regional/ph/daily/2019-06-02/download\n"
     ]
    },
    {
     "name": "stderr",
     "output_type": "stream",
     "text": [
      "\r\n",
      "Collecting chart data from ph: 883it [24:26,  2.03s/it]"
     ]
    },
    {
     "name": "stdout",
     "output_type": "stream",
     "text": [
      "\n",
      "Date: 2019-06-03\n",
      "https://spotifycharts.com/regional/ph/daily/2019-06-03/download\n"
     ]
    },
    {
     "name": "stderr",
     "output_type": "stream",
     "text": [
      "\r\n",
      "Collecting chart data from ph: 884it [24:28,  1.92s/it]"
     ]
    },
    {
     "name": "stdout",
     "output_type": "stream",
     "text": [
      "\n",
      "Date: 2019-06-04\n",
      "https://spotifycharts.com/regional/ph/daily/2019-06-04/download\n"
     ]
    },
    {
     "name": "stderr",
     "output_type": "stream",
     "text": [
      "\r\n",
      "Collecting chart data from ph: 885it [24:30,  1.84s/it]"
     ]
    },
    {
     "name": "stdout",
     "output_type": "stream",
     "text": [
      "\n",
      "Date: 2019-06-05\n",
      "https://spotifycharts.com/regional/ph/daily/2019-06-05/download\n"
     ]
    },
    {
     "name": "stderr",
     "output_type": "stream",
     "text": [
      "\r\n",
      "Collecting chart data from ph: 886it [24:31,  1.80s/it]"
     ]
    },
    {
     "name": "stdout",
     "output_type": "stream",
     "text": [
      "\n",
      "Date: 2019-06-06\n",
      "https://spotifycharts.com/regional/ph/daily/2019-06-06/download\n"
     ]
    },
    {
     "name": "stderr",
     "output_type": "stream",
     "text": [
      "\r\n",
      "Collecting chart data from ph: 887it [24:33,  1.76s/it]"
     ]
    },
    {
     "name": "stdout",
     "output_type": "stream",
     "text": [
      "\n",
      "Date: 2019-06-07\n",
      "https://spotifycharts.com/regional/ph/daily/2019-06-07/download\n"
     ]
    },
    {
     "name": "stderr",
     "output_type": "stream",
     "text": [
      "\r\n",
      "Collecting chart data from ph: 888it [24:35,  1.72s/it]"
     ]
    },
    {
     "name": "stdout",
     "output_type": "stream",
     "text": [
      "\n",
      "Date: 2019-06-08\n",
      "https://spotifycharts.com/regional/ph/daily/2019-06-08/download\n"
     ]
    },
    {
     "name": "stderr",
     "output_type": "stream",
     "text": [
      "\r\n",
      "Collecting chart data from ph: 889it [24:36,  1.67s/it]"
     ]
    },
    {
     "name": "stdout",
     "output_type": "stream",
     "text": [
      "\n",
      "Date: 2019-06-09\n",
      "https://spotifycharts.com/regional/ph/daily/2019-06-09/download\n"
     ]
    },
    {
     "name": "stderr",
     "output_type": "stream",
     "text": [
      "\r\n",
      "Collecting chart data from ph: 890it [24:37,  1.53s/it]"
     ]
    },
    {
     "name": "stdout",
     "output_type": "stream",
     "text": [
      "\n",
      "Date: 2019-06-10\n",
      "https://spotifycharts.com/regional/ph/daily/2019-06-10/download\n"
     ]
    },
    {
     "name": "stderr",
     "output_type": "stream",
     "text": [
      "\r\n",
      "Collecting chart data from ph: 891it [24:38,  1.40s/it]"
     ]
    },
    {
     "name": "stdout",
     "output_type": "stream",
     "text": [
      "\n",
      "Date: 2019-06-11\n",
      "https://spotifycharts.com/regional/ph/daily/2019-06-11/download\n"
     ]
    },
    {
     "name": "stderr",
     "output_type": "stream",
     "text": [
      "\r\n",
      "Collecting chart data from ph: 892it [24:40,  1.47s/it]"
     ]
    },
    {
     "name": "stdout",
     "output_type": "stream",
     "text": [
      "\n",
      "Date: 2019-06-12\n",
      "https://spotifycharts.com/regional/ph/daily/2019-06-12/download\n"
     ]
    },
    {
     "name": "stderr",
     "output_type": "stream",
     "text": [
      "\r\n",
      "Collecting chart data from ph: 893it [24:42,  1.51s/it]"
     ]
    },
    {
     "name": "stdout",
     "output_type": "stream",
     "text": [
      "\n",
      "Date: 2019-06-13\n",
      "https://spotifycharts.com/regional/ph/daily/2019-06-13/download\n"
     ]
    },
    {
     "name": "stderr",
     "output_type": "stream",
     "text": [
      "\r\n",
      "Collecting chart data from ph: 894it [24:43,  1.53s/it]"
     ]
    },
    {
     "name": "stdout",
     "output_type": "stream",
     "text": [
      "\n",
      "Date: 2019-06-14\n",
      "https://spotifycharts.com/regional/ph/daily/2019-06-14/download\n"
     ]
    },
    {
     "name": "stderr",
     "output_type": "stream",
     "text": [
      "\r\n",
      "Collecting chart data from ph: 895it [24:45,  1.58s/it]"
     ]
    },
    {
     "name": "stdout",
     "output_type": "stream",
     "text": [
      "\n",
      "Date: 2019-06-15\n",
      "https://spotifycharts.com/regional/ph/daily/2019-06-15/download\n"
     ]
    },
    {
     "name": "stderr",
     "output_type": "stream",
     "text": [
      "\r\n",
      "Collecting chart data from ph: 896it [24:47,  1.62s/it]"
     ]
    },
    {
     "name": "stdout",
     "output_type": "stream",
     "text": [
      "\n",
      "Date: 2019-06-16\n",
      "https://spotifycharts.com/regional/ph/daily/2019-06-16/download\n"
     ]
    },
    {
     "name": "stderr",
     "output_type": "stream",
     "text": [
      "\r\n",
      "Collecting chart data from ph: 897it [24:48,  1.67s/it]"
     ]
    },
    {
     "name": "stdout",
     "output_type": "stream",
     "text": [
      "\n",
      "Date: 2019-06-17\n",
      "https://spotifycharts.com/regional/ph/daily/2019-06-17/download\n"
     ]
    },
    {
     "name": "stderr",
     "output_type": "stream",
     "text": [
      "\r\n",
      "Collecting chart data from ph: 898it [24:50,  1.66s/it]"
     ]
    },
    {
     "name": "stdout",
     "output_type": "stream",
     "text": [
      "\n",
      "Date: 2019-06-18\n",
      "https://spotifycharts.com/regional/ph/daily/2019-06-18/download\n"
     ]
    },
    {
     "name": "stderr",
     "output_type": "stream",
     "text": [
      "\r\n",
      "Collecting chart data from ph: 899it [24:51,  1.47s/it]"
     ]
    },
    {
     "name": "stdout",
     "output_type": "stream",
     "text": [
      "\n",
      "Date: 2019-06-19\n",
      "https://spotifycharts.com/regional/ph/daily/2019-06-19/download\n"
     ]
    },
    {
     "name": "stderr",
     "output_type": "stream",
     "text": [
      "\r\n",
      "Collecting chart data from ph: 900it [24:53,  1.50s/it]"
     ]
    },
    {
     "name": "stdout",
     "output_type": "stream",
     "text": [
      "\n",
      "Date: 2019-06-20\n",
      "https://spotifycharts.com/regional/ph/daily/2019-06-20/download\n"
     ]
    },
    {
     "name": "stderr",
     "output_type": "stream",
     "text": [
      "\r\n",
      "Collecting chart data from ph: 901it [24:54,  1.54s/it]"
     ]
    },
    {
     "name": "stdout",
     "output_type": "stream",
     "text": [
      "\n",
      "Date: 2019-06-21\n",
      "https://spotifycharts.com/regional/ph/daily/2019-06-21/download\n"
     ]
    },
    {
     "name": "stderr",
     "output_type": "stream",
     "text": [
      "\r\n",
      "Collecting chart data from ph: 902it [24:56,  1.56s/it]"
     ]
    },
    {
     "name": "stdout",
     "output_type": "stream",
     "text": [
      "\n",
      "Date: 2019-06-22\n",
      "https://spotifycharts.com/regional/ph/daily/2019-06-22/download\n"
     ]
    },
    {
     "name": "stderr",
     "output_type": "stream",
     "text": [
      "\r\n",
      "Collecting chart data from ph: 903it [24:57,  1.55s/it]"
     ]
    },
    {
     "name": "stdout",
     "output_type": "stream",
     "text": [
      "\n",
      "Date: 2019-06-23\n",
      "https://spotifycharts.com/regional/ph/daily/2019-06-23/download\n"
     ]
    },
    {
     "name": "stderr",
     "output_type": "stream",
     "text": [
      "\r\n",
      "Collecting chart data from ph: 904it [24:59,  1.57s/it]"
     ]
    },
    {
     "name": "stdout",
     "output_type": "stream",
     "text": [
      "\n",
      "Date: 2019-06-24\n",
      "https://spotifycharts.com/regional/ph/daily/2019-06-24/download\n"
     ]
    },
    {
     "name": "stderr",
     "output_type": "stream",
     "text": [
      "\r\n",
      "Collecting chart data from ph: 905it [25:01,  1.57s/it]"
     ]
    },
    {
     "name": "stdout",
     "output_type": "stream",
     "text": [
      "\n",
      "Date: 2019-06-25\n",
      "https://spotifycharts.com/regional/ph/daily/2019-06-25/download\n"
     ]
    },
    {
     "name": "stderr",
     "output_type": "stream",
     "text": [
      "\r\n",
      "Collecting chart data from ph: 906it [25:02,  1.60s/it]"
     ]
    },
    {
     "name": "stdout",
     "output_type": "stream",
     "text": [
      "\n",
      "Date: 2019-06-26\n",
      "https://spotifycharts.com/regional/ph/daily/2019-06-26/download\n"
     ]
    },
    {
     "name": "stderr",
     "output_type": "stream",
     "text": [
      "\r\n",
      "Collecting chart data from ph: 907it [25:03,  1.44s/it]"
     ]
    },
    {
     "name": "stdout",
     "output_type": "stream",
     "text": [
      "\n",
      "Date: 2019-06-27\n",
      "https://spotifycharts.com/regional/ph/daily/2019-06-27/download\n"
     ]
    },
    {
     "name": "stderr",
     "output_type": "stream",
     "text": [
      "\r\n",
      "Collecting chart data from ph: 908it [25:05,  1.54s/it]"
     ]
    },
    {
     "name": "stdout",
     "output_type": "stream",
     "text": [
      "\n",
      "Date: 2019-06-28\n",
      "https://spotifycharts.com/regional/ph/daily/2019-06-28/download\n"
     ]
    },
    {
     "name": "stderr",
     "output_type": "stream",
     "text": [
      "\r\n",
      "Collecting chart data from ph: 909it [25:07,  1.61s/it]"
     ]
    },
    {
     "name": "stdout",
     "output_type": "stream",
     "text": [
      "\n",
      "Date: 2019-06-29\n",
      "https://spotifycharts.com/regional/ph/daily/2019-06-29/download\n"
     ]
    },
    {
     "name": "stderr",
     "output_type": "stream",
     "text": [
      "\r\n",
      "Collecting chart data from ph: 910it [25:08,  1.46s/it]"
     ]
    },
    {
     "name": "stdout",
     "output_type": "stream",
     "text": [
      "\n",
      "Date: 2019-06-30\n",
      "https://spotifycharts.com/regional/ph/daily/2019-06-30/download\n"
     ]
    },
    {
     "name": "stderr",
     "output_type": "stream",
     "text": [
      "\r\n",
      "Collecting chart data from ph: 911it [25:10,  1.49s/it]"
     ]
    },
    {
     "name": "stdout",
     "output_type": "stream",
     "text": [
      "\n",
      "Date: 2019-07-01\n",
      "https://spotifycharts.com/regional/ph/daily/2019-07-01/download\n"
     ]
    },
    {
     "name": "stderr",
     "output_type": "stream",
     "text": [
      "\r\n",
      "Collecting chart data from ph: 912it [25:11,  1.52s/it]"
     ]
    },
    {
     "name": "stdout",
     "output_type": "stream",
     "text": [
      "\n",
      "Date: 2019-07-02\n",
      "https://spotifycharts.com/regional/ph/daily/2019-07-02/download\n"
     ]
    },
    {
     "name": "stderr",
     "output_type": "stream",
     "text": [
      "\r\n",
      "Collecting chart data from ph: 913it [25:14,  1.77s/it]"
     ]
    },
    {
     "name": "stdout",
     "output_type": "stream",
     "text": [
      "\n",
      "Date: 2019-07-03\n",
      "https://spotifycharts.com/regional/ph/daily/2019-07-03/download\n"
     ]
    },
    {
     "name": "stderr",
     "output_type": "stream",
     "text": [
      "\r\n",
      "Collecting chart data from ph: 914it [25:15,  1.56s/it]"
     ]
    },
    {
     "name": "stdout",
     "output_type": "stream",
     "text": [
      "\n",
      "Date: 2019-07-04\n",
      "https://spotifycharts.com/regional/ph/daily/2019-07-04/download\n"
     ]
    },
    {
     "name": "stderr",
     "output_type": "stream",
     "text": [
      "\r\n",
      "Collecting chart data from ph: 915it [25:16,  1.60s/it]"
     ]
    },
    {
     "name": "stdout",
     "output_type": "stream",
     "text": [
      "\n",
      "Date: 2019-07-05\n",
      "https://spotifycharts.com/regional/ph/daily/2019-07-05/download\n"
     ]
    },
    {
     "name": "stderr",
     "output_type": "stream",
     "text": [
      "\r\n",
      "Collecting chart data from ph: 916it [25:18,  1.58s/it]"
     ]
    },
    {
     "name": "stdout",
     "output_type": "stream",
     "text": [
      "\n",
      "Date: 2019-07-06\n",
      "https://spotifycharts.com/regional/ph/daily/2019-07-06/download\n"
     ]
    },
    {
     "name": "stderr",
     "output_type": "stream",
     "text": [
      "\r\n",
      "Collecting chart data from ph: 917it [25:19,  1.58s/it]"
     ]
    },
    {
     "name": "stdout",
     "output_type": "stream",
     "text": [
      "\n",
      "Date: 2019-07-07\n",
      "https://spotifycharts.com/regional/ph/daily/2019-07-07/download\n"
     ]
    },
    {
     "name": "stderr",
     "output_type": "stream",
     "text": [
      "\r\n",
      "Collecting chart data from ph: 918it [25:21,  1.58s/it]"
     ]
    },
    {
     "name": "stdout",
     "output_type": "stream",
     "text": [
      "\n",
      "Date: 2019-07-08\n",
      "https://spotifycharts.com/regional/ph/daily/2019-07-08/download\n"
     ]
    },
    {
     "name": "stderr",
     "output_type": "stream",
     "text": [
      "\r\n",
      "Collecting chart data from ph: 919it [25:27,  3.01s/it]"
     ]
    },
    {
     "name": "stdout",
     "output_type": "stream",
     "text": [
      "\n",
      "Date: 2019-07-09\n",
      "https://spotifycharts.com/regional/ph/daily/2019-07-09/download\n"
     ]
    },
    {
     "name": "stderr",
     "output_type": "stream",
     "text": [
      "\r\n",
      "Collecting chart data from ph: 920it [25:29,  2.60s/it]"
     ]
    },
    {
     "name": "stdout",
     "output_type": "stream",
     "text": [
      "\n",
      "Date: 2019-07-10\n",
      "https://spotifycharts.com/regional/ph/daily/2019-07-10/download\n"
     ]
    },
    {
     "name": "stderr",
     "output_type": "stream",
     "text": [
      "\r\n",
      "Collecting chart data from ph: 921it [25:31,  2.29s/it]"
     ]
    },
    {
     "name": "stdout",
     "output_type": "stream",
     "text": [
      "\n",
      "Date: 2019-07-11\n",
      "https://spotifycharts.com/regional/ph/daily/2019-07-11/download\n"
     ]
    },
    {
     "name": "stderr",
     "output_type": "stream",
     "text": [
      "\r\n",
      "Collecting chart data from ph: 922it [25:32,  2.08s/it]"
     ]
    },
    {
     "name": "stdout",
     "output_type": "stream",
     "text": [
      "\n",
      "Date: 2019-07-12\n",
      "https://spotifycharts.com/regional/ph/daily/2019-07-12/download\n"
     ]
    },
    {
     "name": "stderr",
     "output_type": "stream",
     "text": [
      "\r\n",
      "Collecting chart data from ph: 923it [25:34,  1.95s/it]"
     ]
    },
    {
     "name": "stdout",
     "output_type": "stream",
     "text": [
      "\n",
      "Date: 2019-07-13\n",
      "https://spotifycharts.com/regional/ph/daily/2019-07-13/download\n"
     ]
    },
    {
     "name": "stderr",
     "output_type": "stream",
     "text": [
      "\r\n",
      "Collecting chart data from ph: 924it [25:35,  1.85s/it]"
     ]
    },
    {
     "name": "stdout",
     "output_type": "stream",
     "text": [
      "\n",
      "Date: 2019-07-14\n",
      "https://spotifycharts.com/regional/ph/daily/2019-07-14/download\n"
     ]
    },
    {
     "name": "stderr",
     "output_type": "stream",
     "text": [
      "\r\n",
      "Collecting chart data from ph: 925it [25:37,  1.80s/it]"
     ]
    },
    {
     "name": "stdout",
     "output_type": "stream",
     "text": [
      "\n",
      "Date: 2019-07-15\n",
      "https://spotifycharts.com/regional/ph/daily/2019-07-15/download\n"
     ]
    },
    {
     "name": "stderr",
     "output_type": "stream",
     "text": [
      "\r\n",
      "Collecting chart data from ph: 926it [25:39,  1.73s/it]"
     ]
    },
    {
     "name": "stdout",
     "output_type": "stream",
     "text": [
      "\n",
      "Date: 2019-07-16\n",
      "https://spotifycharts.com/regional/ph/daily/2019-07-16/download\n"
     ]
    },
    {
     "name": "stderr",
     "output_type": "stream",
     "text": [
      "\r\n",
      "Collecting chart data from ph: 927it [25:40,  1.71s/it]"
     ]
    },
    {
     "name": "stdout",
     "output_type": "stream",
     "text": [
      "\n",
      "Date: 2019-07-17\n",
      "https://spotifycharts.com/regional/ph/daily/2019-07-17/download\n"
     ]
    },
    {
     "name": "stderr",
     "output_type": "stream",
     "text": [
      "\r\n",
      "Collecting chart data from ph: 928it [25:42,  1.68s/it]"
     ]
    },
    {
     "name": "stdout",
     "output_type": "stream",
     "text": [
      "\n",
      "Date: 2019-07-18\n",
      "https://spotifycharts.com/regional/ph/daily/2019-07-18/download\n",
      "Retrying for 'https://spotifycharts.com/regional/ph/daily/2019-07-18/download'\n",
      "Retrying for 'https://spotifycharts.com/regional/ph/daily/2019-07-18/download'\n"
     ]
    },
    {
     "name": "stderr",
     "output_type": "stream",
     "text": [
      "\r\n",
      "Collecting chart data from ph: 929it [25:48,  3.07s/it]"
     ]
    },
    {
     "name": "stdout",
     "output_type": "stream",
     "text": [
      "Retrying for 'https://spotifycharts.com/regional/ph/daily/2019-07-18/download'\n",
      "Retry failed for 'https://spotifycharts.com/regional/ph/daily/2019-07-18/download'\n",
      "\n",
      "Date: 2019-07-19\n",
      "https://spotifycharts.com/regional/ph/daily/2019-07-19/download\n"
     ]
    },
    {
     "name": "stderr",
     "output_type": "stream",
     "text": [
      "\r\n",
      "Collecting chart data from ph: 930it [25:50,  2.64s/it]"
     ]
    },
    {
     "name": "stdout",
     "output_type": "stream",
     "text": [
      "\n",
      "Date: 2019-07-20\n",
      "https://spotifycharts.com/regional/ph/daily/2019-07-20/download\n"
     ]
    },
    {
     "name": "stderr",
     "output_type": "stream",
     "text": [
      "\r\n",
      "Collecting chart data from ph: 931it [25:52,  2.35s/it]"
     ]
    },
    {
     "name": "stdout",
     "output_type": "stream",
     "text": [
      "\n",
      "Date: 2019-07-21\n",
      "https://spotifycharts.com/regional/ph/daily/2019-07-21/download\n"
     ]
    },
    {
     "name": "stderr",
     "output_type": "stream",
     "text": [
      "\r\n",
      "Collecting chart data from ph: 932it [25:53,  2.12s/it]"
     ]
    },
    {
     "name": "stdout",
     "output_type": "stream",
     "text": [
      "\n",
      "Date: 2019-07-22\n",
      "https://spotifycharts.com/regional/ph/daily/2019-07-22/download\n"
     ]
    },
    {
     "name": "stderr",
     "output_type": "stream",
     "text": [
      "\r\n",
      "Collecting chart data from ph: 933it [25:55,  1.97s/it]"
     ]
    },
    {
     "name": "stdout",
     "output_type": "stream",
     "text": [
      "\n",
      "Date: 2019-07-23\n",
      "https://spotifycharts.com/regional/ph/daily/2019-07-23/download\n"
     ]
    },
    {
     "name": "stderr",
     "output_type": "stream",
     "text": [
      "\r\n",
      "Collecting chart data from ph: 934it [25:56,  1.84s/it]"
     ]
    },
    {
     "name": "stdout",
     "output_type": "stream",
     "text": [
      "\n",
      "Date: 2019-07-24\n",
      "https://spotifycharts.com/regional/ph/daily/2019-07-24/download\n"
     ]
    },
    {
     "name": "stderr",
     "output_type": "stream",
     "text": [
      "\r\n",
      "Collecting chart data from ph: 935it [25:58,  1.76s/it]"
     ]
    },
    {
     "name": "stdout",
     "output_type": "stream",
     "text": [
      "\n",
      "Date: 2019-07-25\n",
      "https://spotifycharts.com/regional/ph/daily/2019-07-25/download\n"
     ]
    },
    {
     "name": "stderr",
     "output_type": "stream",
     "text": [
      "\r\n",
      "Collecting chart data from ph: 936it [25:59,  1.71s/it]"
     ]
    },
    {
     "name": "stdout",
     "output_type": "stream",
     "text": [
      "\n",
      "Date: 2019-07-26\n",
      "https://spotifycharts.com/regional/ph/daily/2019-07-26/download\n"
     ]
    },
    {
     "name": "stderr",
     "output_type": "stream",
     "text": [
      "\r\n",
      "Collecting chart data from ph: 937it [26:01,  1.69s/it]"
     ]
    },
    {
     "name": "stdout",
     "output_type": "stream",
     "text": [
      "\n",
      "Date: 2019-07-27\n",
      "https://spotifycharts.com/regional/ph/daily/2019-07-27/download\n"
     ]
    },
    {
     "name": "stderr",
     "output_type": "stream",
     "text": [
      "\r\n",
      "Collecting chart data from ph: 938it [26:03,  1.65s/it]"
     ]
    },
    {
     "name": "stdout",
     "output_type": "stream",
     "text": [
      "\n",
      "Date: 2019-07-28\n",
      "https://spotifycharts.com/regional/ph/daily/2019-07-28/download\n"
     ]
    },
    {
     "name": "stderr",
     "output_type": "stream",
     "text": [
      "\r\n",
      "Collecting chart data from ph: 939it [26:04,  1.62s/it]"
     ]
    },
    {
     "name": "stdout",
     "output_type": "stream",
     "text": [
      "\n",
      "Date: 2019-07-29\n",
      "https://spotifycharts.com/regional/ph/daily/2019-07-29/download\n"
     ]
    },
    {
     "name": "stderr",
     "output_type": "stream",
     "text": [
      "\r\n",
      "Collecting chart data from ph: 940it [26:05,  1.47s/it]"
     ]
    },
    {
     "name": "stdout",
     "output_type": "stream",
     "text": [
      "\n",
      "Date: 2019-07-30\n",
      "https://spotifycharts.com/regional/ph/daily/2019-07-30/download\n"
     ]
    },
    {
     "name": "stderr",
     "output_type": "stream",
     "text": [
      "\r\n",
      "Collecting chart data from ph: 941it [26:06,  1.34s/it]"
     ]
    },
    {
     "name": "stdout",
     "output_type": "stream",
     "text": [
      "\n",
      "Date: 2019-07-31\n",
      "https://spotifycharts.com/regional/ph/daily/2019-07-31/download\n"
     ]
    },
    {
     "name": "stderr",
     "output_type": "stream",
     "text": [
      "\r\n",
      "Collecting chart data from ph: 942it [26:08,  1.40s/it]"
     ]
    },
    {
     "name": "stdout",
     "output_type": "stream",
     "text": [
      "\n",
      "Date: 2019-08-01\n",
      "https://spotifycharts.com/regional/ph/daily/2019-08-01/download\n"
     ]
    },
    {
     "name": "stderr",
     "output_type": "stream",
     "text": [
      "\r\n",
      "Collecting chart data from ph: 943it [26:10,  1.50s/it]"
     ]
    },
    {
     "name": "stdout",
     "output_type": "stream",
     "text": [
      "\n",
      "Date: 2019-08-02\n",
      "https://spotifycharts.com/regional/ph/daily/2019-08-02/download\n"
     ]
    },
    {
     "name": "stderr",
     "output_type": "stream",
     "text": [
      "\r\n",
      "Collecting chart data from ph: 944it [26:11,  1.51s/it]"
     ]
    },
    {
     "name": "stdout",
     "output_type": "stream",
     "text": [
      "\n",
      "Date: 2019-08-03\n",
      "https://spotifycharts.com/regional/ph/daily/2019-08-03/download\n"
     ]
    },
    {
     "name": "stderr",
     "output_type": "stream",
     "text": [
      "\r\n",
      "Collecting chart data from ph: 945it [26:13,  1.53s/it]"
     ]
    },
    {
     "name": "stdout",
     "output_type": "stream",
     "text": [
      "\n",
      "Date: 2019-08-04\n",
      "https://spotifycharts.com/regional/ph/daily/2019-08-04/download\n"
     ]
    },
    {
     "name": "stderr",
     "output_type": "stream",
     "text": [
      "\r\n",
      "Collecting chart data from ph: 946it [26:14,  1.56s/it]"
     ]
    },
    {
     "name": "stdout",
     "output_type": "stream",
     "text": [
      "\n",
      "Date: 2019-08-05\n",
      "https://spotifycharts.com/regional/ph/daily/2019-08-05/download\n"
     ]
    },
    {
     "name": "stderr",
     "output_type": "stream",
     "text": [
      "\r\n",
      "Collecting chart data from ph: 947it [26:16,  1.58s/it]"
     ]
    },
    {
     "name": "stdout",
     "output_type": "stream",
     "text": [
      "\n",
      "Date: 2019-08-06\n",
      "https://spotifycharts.com/regional/ph/daily/2019-08-06/download\n"
     ]
    },
    {
     "name": "stderr",
     "output_type": "stream",
     "text": [
      "\r\n",
      "Collecting chart data from ph: 948it [26:17,  1.44s/it]"
     ]
    },
    {
     "name": "stdout",
     "output_type": "stream",
     "text": [
      "\n",
      "Date: 2019-08-07\n",
      "https://spotifycharts.com/regional/ph/daily/2019-08-07/download\n"
     ]
    },
    {
     "name": "stderr",
     "output_type": "stream",
     "text": [
      "\r\n",
      "Collecting chart data from ph: 949it [26:20,  1.74s/it]"
     ]
    },
    {
     "name": "stdout",
     "output_type": "stream",
     "text": [
      "\n",
      "Date: 2019-08-08\n",
      "https://spotifycharts.com/regional/ph/daily/2019-08-08/download\n"
     ]
    },
    {
     "name": "stderr",
     "output_type": "stream",
     "text": [
      "\r\n",
      "Collecting chart data from ph: 950it [26:21,  1.69s/it]"
     ]
    },
    {
     "name": "stdout",
     "output_type": "stream",
     "text": [
      "\n",
      "Date: 2019-08-09\n",
      "https://spotifycharts.com/regional/ph/daily/2019-08-09/download\n"
     ]
    },
    {
     "name": "stderr",
     "output_type": "stream",
     "text": [
      "\r\n",
      "Collecting chart data from ph: 951it [26:23,  1.68s/it]"
     ]
    },
    {
     "name": "stdout",
     "output_type": "stream",
     "text": [
      "\n",
      "Date: 2019-08-10\n",
      "https://spotifycharts.com/regional/ph/daily/2019-08-10/download\n"
     ]
    },
    {
     "name": "stderr",
     "output_type": "stream",
     "text": [
      "\r\n",
      "Collecting chart data from ph: 952it [26:24,  1.66s/it]"
     ]
    },
    {
     "name": "stdout",
     "output_type": "stream",
     "text": [
      "\n",
      "Date: 2019-08-11\n",
      "https://spotifycharts.com/regional/ph/daily/2019-08-11/download\n"
     ]
    },
    {
     "name": "stderr",
     "output_type": "stream",
     "text": [
      "\r\n",
      "Collecting chart data from ph: 953it [26:26,  1.63s/it]"
     ]
    },
    {
     "name": "stdout",
     "output_type": "stream",
     "text": [
      "\n",
      "Date: 2019-08-12\n",
      "https://spotifycharts.com/regional/ph/daily/2019-08-12/download\n"
     ]
    },
    {
     "name": "stderr",
     "output_type": "stream",
     "text": [
      "\r\n",
      "Collecting chart data from ph: 954it [26:28,  1.62s/it]"
     ]
    },
    {
     "name": "stdout",
     "output_type": "stream",
     "text": [
      "\n",
      "Date: 2019-08-13\n",
      "https://spotifycharts.com/regional/ph/daily/2019-08-13/download\n"
     ]
    },
    {
     "name": "stderr",
     "output_type": "stream",
     "text": [
      "\r\n",
      "Collecting chart data from ph: 955it [26:29,  1.61s/it]"
     ]
    },
    {
     "name": "stdout",
     "output_type": "stream",
     "text": [
      "\n",
      "Date: 2019-08-14\n",
      "https://spotifycharts.com/regional/ph/daily/2019-08-14/download\n"
     ]
    },
    {
     "name": "stderr",
     "output_type": "stream",
     "text": [
      "\r\n",
      "Collecting chart data from ph: 956it [26:31,  1.62s/it]"
     ]
    },
    {
     "name": "stdout",
     "output_type": "stream",
     "text": [
      "\n",
      "Date: 2019-08-15\n",
      "https://spotifycharts.com/regional/ph/daily/2019-08-15/download\n"
     ]
    },
    {
     "name": "stderr",
     "output_type": "stream",
     "text": [
      "\r\n",
      "Collecting chart data from ph: 957it [26:32,  1.61s/it]"
     ]
    },
    {
     "name": "stdout",
     "output_type": "stream",
     "text": [
      "\n",
      "Date: 2019-08-16\n",
      "https://spotifycharts.com/regional/ph/daily/2019-08-16/download\n"
     ]
    },
    {
     "name": "stderr",
     "output_type": "stream",
     "text": [
      "\r\n",
      "Collecting chart data from ph: 958it [26:34,  1.60s/it]"
     ]
    },
    {
     "name": "stdout",
     "output_type": "stream",
     "text": [
      "\n",
      "Date: 2019-08-17\n",
      "https://spotifycharts.com/regional/ph/daily/2019-08-17/download\n"
     ]
    },
    {
     "name": "stderr",
     "output_type": "stream",
     "text": [
      "\r\n",
      "Collecting chart data from ph: 959it [26:36,  1.62s/it]"
     ]
    },
    {
     "name": "stdout",
     "output_type": "stream",
     "text": [
      "\n",
      "Date: 2019-08-18\n",
      "https://spotifycharts.com/regional/ph/daily/2019-08-18/download\n"
     ]
    },
    {
     "name": "stderr",
     "output_type": "stream",
     "text": [
      "\r\n",
      "Collecting chart data from ph: 960it [26:37,  1.61s/it]"
     ]
    },
    {
     "name": "stdout",
     "output_type": "stream",
     "text": [
      "\n",
      "Date: 2019-08-19\n",
      "https://spotifycharts.com/regional/ph/daily/2019-08-19/download\n"
     ]
    },
    {
     "name": "stderr",
     "output_type": "stream",
     "text": [
      "\r\n",
      "Collecting chart data from ph: 961it [26:38,  1.44s/it]"
     ]
    },
    {
     "name": "stdout",
     "output_type": "stream",
     "text": [
      "\n",
      "Date: 2019-08-20\n",
      "https://spotifycharts.com/regional/ph/daily/2019-08-20/download\n"
     ]
    },
    {
     "name": "stderr",
     "output_type": "stream",
     "text": [
      "\r\n",
      "Collecting chart data from ph: 962it [26:40,  1.52s/it]"
     ]
    },
    {
     "name": "stdout",
     "output_type": "stream",
     "text": [
      "\n",
      "Date: 2019-08-21\n",
      "https://spotifycharts.com/regional/ph/daily/2019-08-21/download\n"
     ]
    },
    {
     "name": "stderr",
     "output_type": "stream",
     "text": [
      "\r\n",
      "Collecting chart data from ph: 963it [26:42,  1.57s/it]"
     ]
    },
    {
     "name": "stdout",
     "output_type": "stream",
     "text": [
      "\n",
      "Date: 2019-08-22\n",
      "https://spotifycharts.com/regional/ph/daily/2019-08-22/download\n"
     ]
    },
    {
     "name": "stderr",
     "output_type": "stream",
     "text": [
      "\r\n",
      "Collecting chart data from ph: 964it [26:43,  1.42s/it]"
     ]
    },
    {
     "name": "stdout",
     "output_type": "stream",
     "text": [
      "\n",
      "Date: 2019-08-23\n",
      "https://spotifycharts.com/regional/ph/daily/2019-08-23/download\n"
     ]
    },
    {
     "name": "stderr",
     "output_type": "stream",
     "text": [
      "\r\n",
      "Collecting chart data from ph: 965it [26:44,  1.47s/it]"
     ]
    },
    {
     "name": "stdout",
     "output_type": "stream",
     "text": [
      "\n",
      "Date: 2019-08-24\n",
      "https://spotifycharts.com/regional/ph/daily/2019-08-24/download\n"
     ]
    },
    {
     "name": "stderr",
     "output_type": "stream",
     "text": [
      "\r\n",
      "Collecting chart data from ph: 966it [26:46,  1.54s/it]"
     ]
    },
    {
     "name": "stdout",
     "output_type": "stream",
     "text": [
      "\n",
      "Date: 2019-08-25\n",
      "https://spotifycharts.com/regional/ph/daily/2019-08-25/download\n"
     ]
    },
    {
     "name": "stderr",
     "output_type": "stream",
     "text": [
      "\r\n",
      "Collecting chart data from ph: 967it [26:48,  1.63s/it]"
     ]
    },
    {
     "name": "stdout",
     "output_type": "stream",
     "text": [
      "\n",
      "Date: 2019-08-26\n",
      "https://spotifycharts.com/regional/ph/daily/2019-08-26/download\n"
     ]
    },
    {
     "name": "stderr",
     "output_type": "stream",
     "text": [
      "\r\n",
      "Collecting chart data from ph: 968it [26:49,  1.45s/it]"
     ]
    },
    {
     "name": "stdout",
     "output_type": "stream",
     "text": [
      "\n",
      "Date: 2019-08-27\n",
      "https://spotifycharts.com/regional/ph/daily/2019-08-27/download\n"
     ]
    },
    {
     "name": "stderr",
     "output_type": "stream",
     "text": [
      "\r\n",
      "Collecting chart data from ph: 969it [26:51,  1.71s/it]"
     ]
    },
    {
     "name": "stdout",
     "output_type": "stream",
     "text": [
      "\n",
      "Date: 2019-08-28\n",
      "https://spotifycharts.com/regional/ph/daily/2019-08-28/download\n"
     ]
    },
    {
     "name": "stderr",
     "output_type": "stream",
     "text": [
      "\r\n",
      "Collecting chart data from ph: 970it [26:53,  1.68s/it]"
     ]
    },
    {
     "name": "stdout",
     "output_type": "stream",
     "text": [
      "\n",
      "Date: 2019-08-29\n",
      "https://spotifycharts.com/regional/ph/daily/2019-08-29/download\n"
     ]
    },
    {
     "name": "stderr",
     "output_type": "stream",
     "text": [
      "\r\n",
      "Collecting chart data from ph: 971it [26:54,  1.65s/it]"
     ]
    },
    {
     "name": "stdout",
     "output_type": "stream",
     "text": [
      "\n",
      "Date: 2019-08-30\n",
      "https://spotifycharts.com/regional/ph/daily/2019-08-30/download\n"
     ]
    },
    {
     "name": "stderr",
     "output_type": "stream",
     "text": [
      "\r\n",
      "Collecting chart data from ph: 972it [26:56,  1.64s/it]"
     ]
    },
    {
     "name": "stdout",
     "output_type": "stream",
     "text": [
      "\n",
      "Date: 2019-08-31\n",
      "https://spotifycharts.com/regional/ph/daily/2019-08-31/download\n"
     ]
    },
    {
     "name": "stderr",
     "output_type": "stream",
     "text": [
      "\r\n",
      "Collecting chart data from ph: 973it [26:58,  1.66s/it]"
     ]
    },
    {
     "name": "stdout",
     "output_type": "stream",
     "text": [
      "\n",
      "Date: 2019-09-01\n",
      "https://spotifycharts.com/regional/ph/daily/2019-09-01/download\n"
     ]
    },
    {
     "name": "stderr",
     "output_type": "stream",
     "text": [
      "\r\n",
      "Collecting chart data from ph: 974it [26:59,  1.64s/it]"
     ]
    },
    {
     "name": "stdout",
     "output_type": "stream",
     "text": [
      "\n",
      "Date: 2019-09-02\n",
      "https://spotifycharts.com/regional/ph/daily/2019-09-02/download\n"
     ]
    },
    {
     "name": "stderr",
     "output_type": "stream",
     "text": [
      "\r\n",
      "Collecting chart data from ph: 975it [27:00,  1.47s/it]"
     ]
    },
    {
     "name": "stdout",
     "output_type": "stream",
     "text": [
      "\n",
      "Date: 2019-09-03\n",
      "https://spotifycharts.com/regional/ph/daily/2019-09-03/download\n"
     ]
    },
    {
     "name": "stderr",
     "output_type": "stream",
     "text": [
      "\r\n",
      "Collecting chart data from ph: 976it [27:02,  1.51s/it]"
     ]
    },
    {
     "name": "stdout",
     "output_type": "stream",
     "text": [
      "\n",
      "Date: 2019-09-04\n",
      "https://spotifycharts.com/regional/ph/daily/2019-09-04/download\n"
     ]
    },
    {
     "name": "stderr",
     "output_type": "stream",
     "text": [
      "\r\n",
      "Collecting chart data from ph: 977it [27:03,  1.36s/it]"
     ]
    },
    {
     "name": "stdout",
     "output_type": "stream",
     "text": [
      "\n",
      "Date: 2019-09-05\n",
      "https://spotifycharts.com/regional/ph/daily/2019-09-05/download\n"
     ]
    },
    {
     "name": "stderr",
     "output_type": "stream",
     "text": [
      "\r\n",
      "Collecting chart data from ph: 978it [27:05,  1.44s/it]"
     ]
    },
    {
     "name": "stdout",
     "output_type": "stream",
     "text": [
      "\n",
      "Date: 2019-09-06\n",
      "https://spotifycharts.com/regional/ph/daily/2019-09-06/download\n"
     ]
    },
    {
     "name": "stderr",
     "output_type": "stream",
     "text": [
      "\r\n",
      "Collecting chart data from ph: 979it [27:06,  1.48s/it]"
     ]
    },
    {
     "name": "stdout",
     "output_type": "stream",
     "text": [
      "\n",
      "Date: 2019-09-07\n",
      "https://spotifycharts.com/regional/ph/daily/2019-09-07/download\n"
     ]
    },
    {
     "name": "stderr",
     "output_type": "stream",
     "text": [
      "\r\n",
      "Collecting chart data from ph: 980it [27:08,  1.51s/it]"
     ]
    },
    {
     "name": "stdout",
     "output_type": "stream",
     "text": [
      "\n",
      "Date: 2019-09-08\n",
      "https://spotifycharts.com/regional/ph/daily/2019-09-08/download\n"
     ]
    },
    {
     "name": "stderr",
     "output_type": "stream",
     "text": [
      "\r\n",
      "Collecting chart data from ph: 981it [27:10,  1.63s/it]"
     ]
    },
    {
     "name": "stdout",
     "output_type": "stream",
     "text": [
      "\n",
      "Date: 2019-09-09\n",
      "https://spotifycharts.com/regional/ph/daily/2019-09-09/download\n"
     ]
    },
    {
     "name": "stderr",
     "output_type": "stream",
     "text": [
      "\r\n",
      "Collecting chart data from ph: 982it [27:11,  1.64s/it]"
     ]
    },
    {
     "name": "stdout",
     "output_type": "stream",
     "text": [
      "\n",
      "Date: 2019-09-10\n",
      "https://spotifycharts.com/regional/ph/daily/2019-09-10/download\n"
     ]
    },
    {
     "name": "stderr",
     "output_type": "stream",
     "text": [
      "\r\n",
      "Collecting chart data from ph: 983it [27:13,  1.65s/it]"
     ]
    },
    {
     "name": "stdout",
     "output_type": "stream",
     "text": [
      "\n",
      "Date: 2019-09-11\n",
      "https://spotifycharts.com/regional/ph/daily/2019-09-11/download\n"
     ]
    },
    {
     "name": "stderr",
     "output_type": "stream",
     "text": [
      "\r\n",
      "Collecting chart data from ph: 984it [27:15,  1.62s/it]"
     ]
    },
    {
     "name": "stdout",
     "output_type": "stream",
     "text": [
      "\n",
      "Date: 2019-09-12\n",
      "https://spotifycharts.com/regional/ph/daily/2019-09-12/download\n"
     ]
    },
    {
     "name": "stderr",
     "output_type": "stream",
     "text": [
      "\r\n",
      "Collecting chart data from ph: 985it [27:16,  1.60s/it]"
     ]
    },
    {
     "name": "stdout",
     "output_type": "stream",
     "text": [
      "\n",
      "Date: 2019-09-13\n",
      "https://spotifycharts.com/regional/ph/daily/2019-09-13/download\n"
     ]
    },
    {
     "name": "stderr",
     "output_type": "stream",
     "text": [
      "\r\n",
      "Collecting chart data from ph: 986it [27:18,  1.61s/it]"
     ]
    },
    {
     "name": "stdout",
     "output_type": "stream",
     "text": [
      "\n",
      "Date: 2019-09-14\n",
      "https://spotifycharts.com/regional/ph/daily/2019-09-14/download\n"
     ]
    },
    {
     "name": "stderr",
     "output_type": "stream",
     "text": [
      "\r\n",
      "Collecting chart data from ph: 987it [27:19,  1.58s/it]"
     ]
    },
    {
     "name": "stdout",
     "output_type": "stream",
     "text": [
      "\n",
      "Date: 2019-09-15\n",
      "https://spotifycharts.com/regional/ph/daily/2019-09-15/download\n"
     ]
    },
    {
     "name": "stderr",
     "output_type": "stream",
     "text": [
      "\r\n",
      "Collecting chart data from ph: 988it [27:21,  1.47s/it]"
     ]
    },
    {
     "name": "stdout",
     "output_type": "stream",
     "text": [
      "\n",
      "Date: 2019-09-16\n",
      "https://spotifycharts.com/regional/ph/daily/2019-09-16/download\n"
     ]
    },
    {
     "name": "stderr",
     "output_type": "stream",
     "text": [
      "\r\n",
      "Collecting chart data from ph: 989it [27:22,  1.51s/it]"
     ]
    },
    {
     "name": "stdout",
     "output_type": "stream",
     "text": [
      "\n",
      "Date: 2019-09-17\n",
      "https://spotifycharts.com/regional/ph/daily/2019-09-17/download\n"
     ]
    },
    {
     "name": "stderr",
     "output_type": "stream",
     "text": [
      "\r\n",
      "Collecting chart data from ph: 990it [27:23,  1.36s/it]"
     ]
    },
    {
     "name": "stdout",
     "output_type": "stream",
     "text": [
      "\n",
      "Date: 2019-09-18\n",
      "https://spotifycharts.com/regional/ph/daily/2019-09-18/download\n"
     ]
    },
    {
     "name": "stderr",
     "output_type": "stream",
     "text": [
      "\r\n",
      "Collecting chart data from ph: 991it [27:25,  1.47s/it]"
     ]
    },
    {
     "name": "stdout",
     "output_type": "stream",
     "text": [
      "\n",
      "Date: 2019-09-19\n",
      "https://spotifycharts.com/regional/ph/daily/2019-09-19/download\n"
     ]
    },
    {
     "name": "stderr",
     "output_type": "stream",
     "text": [
      "\r\n",
      "Collecting chart data from ph: 992it [27:27,  1.55s/it]"
     ]
    },
    {
     "name": "stdout",
     "output_type": "stream",
     "text": [
      "\n",
      "Date: 2019-09-20\n",
      "https://spotifycharts.com/regional/ph/daily/2019-09-20/download\n"
     ]
    },
    {
     "name": "stderr",
     "output_type": "stream",
     "text": [
      "\r\n",
      "Collecting chart data from ph: 993it [27:28,  1.56s/it]"
     ]
    },
    {
     "name": "stdout",
     "output_type": "stream",
     "text": [
      "\n",
      "Date: 2019-09-21\n",
      "https://spotifycharts.com/regional/ph/daily/2019-09-21/download\n"
     ]
    },
    {
     "name": "stderr",
     "output_type": "stream",
     "text": [
      "\r\n",
      "Collecting chart data from ph: 994it [27:30,  1.66s/it]"
     ]
    },
    {
     "name": "stdout",
     "output_type": "stream",
     "text": [
      "\n",
      "Date: 2019-09-22\n",
      "https://spotifycharts.com/regional/ph/daily/2019-09-22/download\n"
     ]
    },
    {
     "name": "stderr",
     "output_type": "stream",
     "text": [
      "\r\n",
      "Collecting chart data from ph: 995it [27:32,  1.65s/it]"
     ]
    },
    {
     "name": "stdout",
     "output_type": "stream",
     "text": [
      "\n",
      "Date: 2019-09-23\n",
      "https://spotifycharts.com/regional/ph/daily/2019-09-23/download\n"
     ]
    },
    {
     "name": "stderr",
     "output_type": "stream",
     "text": [
      "\r\n",
      "Collecting chart data from ph: 996it [27:33,  1.63s/it]"
     ]
    },
    {
     "name": "stdout",
     "output_type": "stream",
     "text": [
      "\n",
      "Date: 2019-09-24\n",
      "https://spotifycharts.com/regional/ph/daily/2019-09-24/download\n"
     ]
    },
    {
     "name": "stderr",
     "output_type": "stream",
     "text": [
      "\r\n",
      "Collecting chart data from ph: 997it [27:35,  1.62s/it]"
     ]
    },
    {
     "name": "stdout",
     "output_type": "stream",
     "text": [
      "\n",
      "Date: 2019-09-25\n",
      "https://spotifycharts.com/regional/ph/daily/2019-09-25/download\n"
     ]
    },
    {
     "name": "stderr",
     "output_type": "stream",
     "text": [
      "\r\n",
      "Collecting chart data from ph: 998it [27:37,  1.66s/it]"
     ]
    },
    {
     "name": "stdout",
     "output_type": "stream",
     "text": [
      "\n",
      "Date: 2019-09-26\n",
      "https://spotifycharts.com/regional/ph/daily/2019-09-26/download\n"
     ]
    },
    {
     "name": "stderr",
     "output_type": "stream",
     "text": [
      "\r\n",
      "Collecting chart data from ph: 999it [27:38,  1.64s/it]"
     ]
    },
    {
     "name": "stdout",
     "output_type": "stream",
     "text": [
      "\n",
      "Date: 2019-09-27\n",
      "https://spotifycharts.com/regional/ph/daily/2019-09-27/download\n"
     ]
    },
    {
     "name": "stderr",
     "output_type": "stream",
     "text": [
      "\r\n",
      "Collecting chart data from ph: 1000it [27:40,  1.65s/it]"
     ]
    },
    {
     "name": "stdout",
     "output_type": "stream",
     "text": [
      "\n",
      "Date: 2019-09-28\n",
      "https://spotifycharts.com/regional/ph/daily/2019-09-28/download\n"
     ]
    },
    {
     "name": "stderr",
     "output_type": "stream",
     "text": [
      "\r\n",
      "Collecting chart data from ph: 1001it [27:42,  1.64s/it]"
     ]
    },
    {
     "name": "stdout",
     "output_type": "stream",
     "text": [
      "\n",
      "Date: 2019-09-29\n",
      "https://spotifycharts.com/regional/ph/daily/2019-09-29/download\n"
     ]
    },
    {
     "name": "stderr",
     "output_type": "stream",
     "text": [
      "\r\n",
      "Collecting chart data from ph: 1002it [27:43,  1.61s/it]"
     ]
    },
    {
     "name": "stdout",
     "output_type": "stream",
     "text": [
      "\n",
      "Date: 2019-09-30\n",
      "https://spotifycharts.com/regional/ph/daily/2019-09-30/download\n"
     ]
    },
    {
     "name": "stderr",
     "output_type": "stream",
     "text": [
      "\r\n",
      "Collecting chart data from ph: 1003it [27:45,  1.60s/it]"
     ]
    },
    {
     "name": "stdout",
     "output_type": "stream",
     "text": [
      "\n",
      "Date: 2019-10-01\n",
      "https://spotifycharts.com/regional/ph/daily/2019-10-01/download\n"
     ]
    },
    {
     "name": "stderr",
     "output_type": "stream",
     "text": [
      "\r\n",
      "Collecting chart data from ph: 1004it [27:47,  1.80s/it]"
     ]
    },
    {
     "name": "stdout",
     "output_type": "stream",
     "text": [
      "\n",
      "Date: 2019-10-02\n",
      "https://spotifycharts.com/regional/ph/daily/2019-10-02/download\n"
     ]
    },
    {
     "name": "stderr",
     "output_type": "stream",
     "text": [
      "\r\n",
      "Collecting chart data from ph: 1005it [27:49,  1.76s/it]"
     ]
    },
    {
     "name": "stdout",
     "output_type": "stream",
     "text": [
      "\n",
      "Date: 2019-10-03\n",
      "https://spotifycharts.com/regional/ph/daily/2019-10-03/download\n"
     ]
    },
    {
     "name": "stderr",
     "output_type": "stream",
     "text": [
      "\r\n",
      "Collecting chart data from ph: 1006it [27:50,  1.71s/it]"
     ]
    },
    {
     "name": "stdout",
     "output_type": "stream",
     "text": [
      "\n",
      "Date: 2019-10-04\n",
      "https://spotifycharts.com/regional/ph/daily/2019-10-04/download\n"
     ]
    },
    {
     "name": "stderr",
     "output_type": "stream",
     "text": [
      "\r\n",
      "Collecting chart data from ph: 1007it [27:52,  1.67s/it]"
     ]
    },
    {
     "name": "stdout",
     "output_type": "stream",
     "text": [
      "\n",
      "Date: 2019-10-05\n",
      "https://spotifycharts.com/regional/ph/daily/2019-10-05/download\n"
     ]
    },
    {
     "name": "stderr",
     "output_type": "stream",
     "text": [
      "\r\n",
      "Collecting chart data from ph: 1008it [27:53,  1.68s/it]"
     ]
    },
    {
     "name": "stdout",
     "output_type": "stream",
     "text": [
      "\n",
      "Date: 2019-10-06\n",
      "https://spotifycharts.com/regional/ph/daily/2019-10-06/download\n"
     ]
    },
    {
     "name": "stderr",
     "output_type": "stream",
     "text": [
      "\r\n",
      "Collecting chart data from ph: 1009it [27:55,  1.49s/it]"
     ]
    },
    {
     "name": "stdout",
     "output_type": "stream",
     "text": [
      "\n",
      "Date: 2019-10-07\n",
      "https://spotifycharts.com/regional/ph/daily/2019-10-07/download\n"
     ]
    },
    {
     "name": "stderr",
     "output_type": "stream",
     "text": [
      "\r\n",
      "Collecting chart data from ph: 1010it [27:56,  1.54s/it]"
     ]
    },
    {
     "name": "stdout",
     "output_type": "stream",
     "text": [
      "\n",
      "Date: 2019-10-08\n",
      "https://spotifycharts.com/regional/ph/daily/2019-10-08/download\n"
     ]
    },
    {
     "name": "stderr",
     "output_type": "stream",
     "text": [
      "\r\n",
      "Collecting chart data from ph: 1011it [27:58,  1.60s/it]"
     ]
    },
    {
     "name": "stdout",
     "output_type": "stream",
     "text": [
      "\n",
      "Date: 2019-10-09\n",
      "https://spotifycharts.com/regional/ph/daily/2019-10-09/download\n"
     ]
    },
    {
     "name": "stderr",
     "output_type": "stream",
     "text": [
      "\r\n",
      "Collecting chart data from ph: 1012it [27:59,  1.46s/it]"
     ]
    },
    {
     "name": "stdout",
     "output_type": "stream",
     "text": [
      "\n",
      "Date: 2019-10-10\n",
      "https://spotifycharts.com/regional/ph/daily/2019-10-10/download\n"
     ]
    },
    {
     "name": "stderr",
     "output_type": "stream",
     "text": [
      "\r\n",
      "Collecting chart data from ph: 1013it [28:01,  1.50s/it]"
     ]
    },
    {
     "name": "stdout",
     "output_type": "stream",
     "text": [
      "\n",
      "Date: 2019-10-11\n",
      "https://spotifycharts.com/regional/ph/daily/2019-10-11/download\n"
     ]
    },
    {
     "name": "stderr",
     "output_type": "stream",
     "text": [
      "\r\n",
      "Collecting chart data from ph: 1014it [28:02,  1.53s/it]"
     ]
    },
    {
     "name": "stdout",
     "output_type": "stream",
     "text": [
      "\n",
      "Date: 2019-10-12\n",
      "https://spotifycharts.com/regional/ph/daily/2019-10-12/download\n"
     ]
    },
    {
     "name": "stderr",
     "output_type": "stream",
     "text": [
      "\r\n",
      "Collecting chart data from ph: 1015it [28:03,  1.37s/it]"
     ]
    },
    {
     "name": "stdout",
     "output_type": "stream",
     "text": [
      "\n",
      "Date: 2019-10-13\n",
      "https://spotifycharts.com/regional/ph/daily/2019-10-13/download\n"
     ]
    },
    {
     "name": "stderr",
     "output_type": "stream",
     "text": [
      "\r\n",
      "Collecting chart data from ph: 1016it [28:05,  1.48s/it]"
     ]
    },
    {
     "name": "stdout",
     "output_type": "stream",
     "text": [
      "\n",
      "Date: 2019-10-14\n",
      "https://spotifycharts.com/regional/ph/daily/2019-10-14/download\n"
     ]
    },
    {
     "name": "stderr",
     "output_type": "stream",
     "text": [
      "\r\n",
      "Collecting chart data from ph: 1017it [28:06,  1.38s/it]"
     ]
    },
    {
     "name": "stdout",
     "output_type": "stream",
     "text": [
      "\n",
      "Date: 2019-10-15\n",
      "https://spotifycharts.com/regional/ph/daily/2019-10-15/download\n"
     ]
    },
    {
     "name": "stderr",
     "output_type": "stream",
     "text": [
      "\r\n",
      "Collecting chart data from ph: 1018it [28:08,  1.49s/it]"
     ]
    },
    {
     "name": "stdout",
     "output_type": "stream",
     "text": [
      "\n",
      "Date: 2019-10-16\n",
      "https://spotifycharts.com/regional/ph/daily/2019-10-16/download\n"
     ]
    },
    {
     "name": "stderr",
     "output_type": "stream",
     "text": [
      "\r\n",
      "Collecting chart data from ph: 1019it [28:10,  1.54s/it]"
     ]
    },
    {
     "name": "stdout",
     "output_type": "stream",
     "text": [
      "\n",
      "Date: 2019-10-17\n",
      "https://spotifycharts.com/regional/ph/daily/2019-10-17/download\n"
     ]
    },
    {
     "name": "stderr",
     "output_type": "stream",
     "text": [
      "\r\n",
      "Collecting chart data from ph: 1020it [28:11,  1.41s/it]"
     ]
    },
    {
     "name": "stdout",
     "output_type": "stream",
     "text": [
      "\n",
      "Date: 2019-10-18\n",
      "https://spotifycharts.com/regional/ph/daily/2019-10-18/download\n"
     ]
    },
    {
     "name": "stderr",
     "output_type": "stream",
     "text": [
      "\r\n",
      "Collecting chart data from ph: 1021it [28:12,  1.48s/it]"
     ]
    },
    {
     "name": "stdout",
     "output_type": "stream",
     "text": [
      "\n",
      "Date: 2019-10-19\n",
      "https://spotifycharts.com/regional/ph/daily/2019-10-19/download\n"
     ]
    },
    {
     "name": "stderr",
     "output_type": "stream",
     "text": [
      "\r\n",
      "Collecting chart data from ph: 1022it [28:14,  1.53s/it]"
     ]
    },
    {
     "name": "stdout",
     "output_type": "stream",
     "text": [
      "\n",
      "Date: 2019-10-20\n",
      "https://spotifycharts.com/regional/ph/daily/2019-10-20/download\n"
     ]
    },
    {
     "name": "stderr",
     "output_type": "stream",
     "text": [
      "\r\n",
      "Collecting chart data from ph: 1023it [28:16,  1.65s/it]"
     ]
    },
    {
     "name": "stdout",
     "output_type": "stream",
     "text": [
      "\n",
      "Date: 2019-10-21\n",
      "https://spotifycharts.com/regional/ph/daily/2019-10-21/download\n"
     ]
    },
    {
     "name": "stderr",
     "output_type": "stream",
     "text": [
      "\r\n",
      "Collecting chart data from ph: 1024it [28:17,  1.65s/it]"
     ]
    },
    {
     "name": "stdout",
     "output_type": "stream",
     "text": [
      "\n",
      "Date: 2019-10-22\n",
      "https://spotifycharts.com/regional/ph/daily/2019-10-22/download\n"
     ]
    },
    {
     "name": "stderr",
     "output_type": "stream",
     "text": [
      "\r\n",
      "Collecting chart data from ph: 1025it [28:19,  1.68s/it]"
     ]
    },
    {
     "name": "stdout",
     "output_type": "stream",
     "text": [
      "\n",
      "Date: 2019-10-23\n",
      "https://spotifycharts.com/regional/ph/daily/2019-10-23/download\n"
     ]
    },
    {
     "name": "stderr",
     "output_type": "stream",
     "text": [
      "\r\n",
      "Collecting chart data from ph: 1026it [28:20,  1.49s/it]"
     ]
    },
    {
     "name": "stdout",
     "output_type": "stream",
     "text": [
      "\n",
      "Date: 2019-10-24\n",
      "https://spotifycharts.com/regional/ph/daily/2019-10-24/download\n"
     ]
    },
    {
     "name": "stderr",
     "output_type": "stream",
     "text": [
      "\r\n",
      "Collecting chart data from ph: 1027it [28:22,  1.53s/it]"
     ]
    },
    {
     "name": "stdout",
     "output_type": "stream",
     "text": [
      "\n",
      "Date: 2019-10-25\n",
      "https://spotifycharts.com/regional/ph/daily/2019-10-25/download\n"
     ]
    },
    {
     "name": "stderr",
     "output_type": "stream",
     "text": [
      "\r\n",
      "Collecting chart data from ph: 1028it [28:24,  1.56s/it]"
     ]
    },
    {
     "name": "stdout",
     "output_type": "stream",
     "text": [
      "\n",
      "Date: 2019-10-26\n",
      "https://spotifycharts.com/regional/ph/daily/2019-10-26/download\n"
     ]
    },
    {
     "name": "stderr",
     "output_type": "stream",
     "text": [
      "\r\n",
      "Collecting chart data from ph: 1029it [28:25,  1.55s/it]"
     ]
    },
    {
     "name": "stdout",
     "output_type": "stream",
     "text": [
      "\n",
      "Date: 2019-10-27\n",
      "https://spotifycharts.com/regional/ph/daily/2019-10-27/download\n"
     ]
    },
    {
     "name": "stderr",
     "output_type": "stream",
     "text": [
      "\r\n",
      "Collecting chart data from ph: 1030it [28:27,  1.56s/it]"
     ]
    },
    {
     "name": "stdout",
     "output_type": "stream",
     "text": [
      "\n",
      "Date: 2019-10-28\n",
      "https://spotifycharts.com/regional/ph/daily/2019-10-28/download\n"
     ]
    },
    {
     "name": "stderr",
     "output_type": "stream",
     "text": [
      "\r\n",
      "Collecting chart data from ph: 1031it [28:28,  1.57s/it]"
     ]
    },
    {
     "name": "stdout",
     "output_type": "stream",
     "text": [
      "\n",
      "Date: 2019-10-29\n",
      "https://spotifycharts.com/regional/ph/daily/2019-10-29/download\n"
     ]
    },
    {
     "name": "stderr",
     "output_type": "stream",
     "text": [
      "\r\n",
      "Collecting chart data from ph: 1032it [28:30,  1.56s/it]"
     ]
    },
    {
     "name": "stdout",
     "output_type": "stream",
     "text": [
      "\n",
      "Date: 2019-10-30\n",
      "https://spotifycharts.com/regional/ph/daily/2019-10-30/download\n"
     ]
    },
    {
     "name": "stderr",
     "output_type": "stream",
     "text": [
      "\r\n",
      "Collecting chart data from ph: 1033it [28:31,  1.56s/it]"
     ]
    },
    {
     "name": "stdout",
     "output_type": "stream",
     "text": [
      "\n",
      "Date: 2019-10-31\n",
      "https://spotifycharts.com/regional/ph/daily/2019-10-31/download\n"
     ]
    },
    {
     "name": "stderr",
     "output_type": "stream",
     "text": [
      "\r\n",
      "Collecting chart data from ph: 1034it [28:32,  1.42s/it]"
     ]
    },
    {
     "name": "stdout",
     "output_type": "stream",
     "text": [
      "\n",
      "Date: 2019-11-01\n",
      "https://spotifycharts.com/regional/ph/daily/2019-11-01/download\n"
     ]
    },
    {
     "name": "stderr",
     "output_type": "stream",
     "text": [
      "\r\n",
      "Collecting chart data from ph: 1035it [28:34,  1.48s/it]"
     ]
    },
    {
     "name": "stdout",
     "output_type": "stream",
     "text": [
      "\n",
      "Date: 2019-11-02\n",
      "https://spotifycharts.com/regional/ph/daily/2019-11-02/download\n"
     ]
    },
    {
     "name": "stderr",
     "output_type": "stream",
     "text": [
      "\r\n",
      "Collecting chart data from ph: 1036it [28:36,  1.56s/it]"
     ]
    },
    {
     "name": "stdout",
     "output_type": "stream",
     "text": [
      "\n",
      "Date: 2019-11-03\n",
      "https://spotifycharts.com/regional/ph/daily/2019-11-03/download\n"
     ]
    },
    {
     "name": "stderr",
     "output_type": "stream",
     "text": [
      "\r\n",
      "Collecting chart data from ph: 1037it [28:37,  1.48s/it]"
     ]
    },
    {
     "name": "stdout",
     "output_type": "stream",
     "text": [
      "\n",
      "Date: 2019-11-04\n",
      "https://spotifycharts.com/regional/ph/daily/2019-11-04/download\n"
     ]
    },
    {
     "name": "stderr",
     "output_type": "stream",
     "text": [
      "\r\n",
      "Collecting chart data from ph: 1038it [28:39,  1.61s/it]"
     ]
    },
    {
     "name": "stdout",
     "output_type": "stream",
     "text": [
      "\n",
      "Date: 2019-11-05\n",
      "https://spotifycharts.com/regional/ph/daily/2019-11-05/download\n"
     ]
    },
    {
     "name": "stderr",
     "output_type": "stream",
     "text": [
      "\r\n",
      "Collecting chart data from ph: 1039it [28:41,  1.65s/it]"
     ]
    },
    {
     "name": "stdout",
     "output_type": "stream",
     "text": [
      "\n",
      "Date: 2019-11-06\n",
      "https://spotifycharts.com/regional/ph/daily/2019-11-06/download\n"
     ]
    },
    {
     "name": "stderr",
     "output_type": "stream",
     "text": [
      "\r\n",
      "Collecting chart data from ph: 1040it [28:43,  1.74s/it]"
     ]
    },
    {
     "name": "stdout",
     "output_type": "stream",
     "text": [
      "\n",
      "Date: 2019-11-07\n",
      "https://spotifycharts.com/regional/ph/daily/2019-11-07/download\n"
     ]
    },
    {
     "name": "stderr",
     "output_type": "stream",
     "text": [
      "\r\n",
      "Collecting chart data from ph: 1041it [28:44,  1.76s/it]"
     ]
    },
    {
     "name": "stdout",
     "output_type": "stream",
     "text": [
      "\n",
      "Date: 2019-11-08\n",
      "https://spotifycharts.com/regional/ph/daily/2019-11-08/download\n"
     ]
    },
    {
     "name": "stderr",
     "output_type": "stream",
     "text": [
      "\r\n",
      "Collecting chart data from ph: 1042it [28:47,  1.94s/it]"
     ]
    },
    {
     "name": "stdout",
     "output_type": "stream",
     "text": [
      "\n",
      "Date: 2019-11-09\n",
      "https://spotifycharts.com/regional/ph/daily/2019-11-09/download\n"
     ]
    },
    {
     "name": "stderr",
     "output_type": "stream",
     "text": [
      "\r\n",
      "Collecting chart data from ph: 1043it [28:49,  1.97s/it]"
     ]
    },
    {
     "name": "stdout",
     "output_type": "stream",
     "text": [
      "\n",
      "Date: 2019-11-10\n",
      "https://spotifycharts.com/regional/ph/daily/2019-11-10/download\n"
     ]
    },
    {
     "name": "stderr",
     "output_type": "stream",
     "text": [
      "\r\n",
      "Collecting chart data from ph: 1044it [28:51,  1.86s/it]"
     ]
    },
    {
     "name": "stdout",
     "output_type": "stream",
     "text": [
      "\n",
      "Date: 2019-11-11\n",
      "https://spotifycharts.com/regional/ph/daily/2019-11-11/download\n"
     ]
    },
    {
     "name": "stderr",
     "output_type": "stream",
     "text": [
      "\r\n",
      "Collecting chart data from ph: 1045it [28:54,  2.23s/it]"
     ]
    },
    {
     "name": "stdout",
     "output_type": "stream",
     "text": [
      "\n",
      "Date: 2019-11-12\n",
      "https://spotifycharts.com/regional/ph/daily/2019-11-12/download\n"
     ]
    },
    {
     "name": "stderr",
     "output_type": "stream",
     "text": [
      "\r\n",
      "Collecting chart data from ph: 1046it [28:56,  2.26s/it]"
     ]
    },
    {
     "name": "stdout",
     "output_type": "stream",
     "text": [
      "\n",
      "Date: 2019-11-13\n",
      "https://spotifycharts.com/regional/ph/daily/2019-11-13/download\n"
     ]
    },
    {
     "name": "stderr",
     "output_type": "stream",
     "text": [
      "\r\n",
      "Collecting chart data from ph: 1047it [28:58,  2.05s/it]"
     ]
    },
    {
     "name": "stdout",
     "output_type": "stream",
     "text": [
      "\n",
      "Date: 2019-11-14\n",
      "https://spotifycharts.com/regional/ph/daily/2019-11-14/download\n"
     ]
    },
    {
     "name": "stderr",
     "output_type": "stream",
     "text": [
      "\r\n",
      "Collecting chart data from ph: 1048it [28:59,  1.93s/it]"
     ]
    },
    {
     "name": "stdout",
     "output_type": "stream",
     "text": [
      "\n",
      "Date: 2019-11-15\n",
      "https://spotifycharts.com/regional/ph/daily/2019-11-15/download\n"
     ]
    },
    {
     "name": "stderr",
     "output_type": "stream",
     "text": [
      "\r\n",
      "Collecting chart data from ph: 1049it [29:01,  1.91s/it]"
     ]
    },
    {
     "name": "stdout",
     "output_type": "stream",
     "text": [
      "\n",
      "Date: 2019-11-16\n",
      "https://spotifycharts.com/regional/ph/daily/2019-11-16/download\n"
     ]
    },
    {
     "name": "stderr",
     "output_type": "stream",
     "text": [
      "\r\n",
      "Collecting chart data from ph: 1050it [29:03,  1.92s/it]"
     ]
    },
    {
     "name": "stdout",
     "output_type": "stream",
     "text": [
      "\n",
      "Date: 2019-11-17\n",
      "https://spotifycharts.com/regional/ph/daily/2019-11-17/download\n"
     ]
    },
    {
     "name": "stderr",
     "output_type": "stream",
     "text": [
      "\r\n",
      "Collecting chart data from ph: 1051it [29:05,  1.83s/it]"
     ]
    },
    {
     "name": "stdout",
     "output_type": "stream",
     "text": [
      "\n",
      "Date: 2019-11-18\n",
      "https://spotifycharts.com/regional/ph/daily/2019-11-18/download\n"
     ]
    },
    {
     "name": "stderr",
     "output_type": "stream",
     "text": [
      "\r\n",
      "Collecting chart data from ph: 1052it [29:06,  1.78s/it]"
     ]
    },
    {
     "name": "stdout",
     "output_type": "stream",
     "text": [
      "\n",
      "Date: 2019-11-19\n",
      "https://spotifycharts.com/regional/ph/daily/2019-11-19/download\n"
     ]
    },
    {
     "name": "stderr",
     "output_type": "stream",
     "text": [
      "\r\n",
      "Collecting chart data from ph: 1053it [29:08,  1.73s/it]"
     ]
    },
    {
     "name": "stdout",
     "output_type": "stream",
     "text": [
      "\n",
      "Date: 2019-11-20\n",
      "https://spotifycharts.com/regional/ph/daily/2019-11-20/download\n"
     ]
    },
    {
     "name": "stderr",
     "output_type": "stream",
     "text": [
      "\r\n",
      "Collecting chart data from ph: 1054it [29:10,  1.76s/it]"
     ]
    },
    {
     "name": "stdout",
     "output_type": "stream",
     "text": [
      "\n",
      "Date: 2019-11-21\n",
      "https://spotifycharts.com/regional/ph/daily/2019-11-21/download\n"
     ]
    },
    {
     "name": "stderr",
     "output_type": "stream",
     "text": [
      "\r\n",
      "Collecting chart data from ph: 1055it [29:11,  1.72s/it]"
     ]
    },
    {
     "name": "stdout",
     "output_type": "stream",
     "text": [
      "\n",
      "Date: 2019-11-22\n",
      "https://spotifycharts.com/regional/ph/daily/2019-11-22/download\n"
     ]
    },
    {
     "name": "stderr",
     "output_type": "stream",
     "text": [
      "\r\n",
      "Collecting chart data from ph: 1056it [29:12,  1.55s/it]"
     ]
    },
    {
     "name": "stdout",
     "output_type": "stream",
     "text": [
      "\n",
      "Date: 2019-11-23\n",
      "https://spotifycharts.com/regional/ph/daily/2019-11-23/download\n"
     ]
    },
    {
     "name": "stderr",
     "output_type": "stream",
     "text": [
      "\r\n",
      "Collecting chart data from ph: 1057it [29:14,  1.67s/it]"
     ]
    },
    {
     "name": "stdout",
     "output_type": "stream",
     "text": [
      "\n",
      "Date: 2019-11-24\n",
      "https://spotifycharts.com/regional/ph/daily/2019-11-24/download\n"
     ]
    },
    {
     "name": "stderr",
     "output_type": "stream",
     "text": [
      "\r\n",
      "Collecting chart data from ph: 1058it [29:16,  1.71s/it]"
     ]
    },
    {
     "name": "stdout",
     "output_type": "stream",
     "text": [
      "\n",
      "Date: 2019-11-25\n",
      "https://spotifycharts.com/regional/ph/daily/2019-11-25/download\n"
     ]
    },
    {
     "name": "stderr",
     "output_type": "stream",
     "text": [
      "\r\n",
      "Collecting chart data from ph: 1059it [29:18,  1.75s/it]"
     ]
    },
    {
     "name": "stdout",
     "output_type": "stream",
     "text": [
      "\n",
      "Date: 2019-11-26\n",
      "https://spotifycharts.com/regional/ph/daily/2019-11-26/download\n"
     ]
    },
    {
     "name": "stderr",
     "output_type": "stream",
     "text": [
      "\r\n",
      "Collecting chart data from ph: 1060it [29:20,  1.73s/it]"
     ]
    },
    {
     "name": "stdout",
     "output_type": "stream",
     "text": [
      "\n",
      "Date: 2019-11-27\n",
      "https://spotifycharts.com/regional/ph/daily/2019-11-27/download\n"
     ]
    },
    {
     "name": "stderr",
     "output_type": "stream",
     "text": [
      "\r\n",
      "Collecting chart data from ph: 1061it [29:21,  1.69s/it]"
     ]
    },
    {
     "name": "stdout",
     "output_type": "stream",
     "text": [
      "\n",
      "Date: 2019-11-28\n",
      "https://spotifycharts.com/regional/ph/daily/2019-11-28/download\n"
     ]
    },
    {
     "name": "stderr",
     "output_type": "stream",
     "text": [
      "\r\n",
      "Collecting chart data from ph: 1062it [29:23,  1.70s/it]"
     ]
    },
    {
     "name": "stdout",
     "output_type": "stream",
     "text": [
      "\n",
      "Date: 2019-11-29\n",
      "https://spotifycharts.com/regional/ph/daily/2019-11-29/download\n"
     ]
    },
    {
     "name": "stderr",
     "output_type": "stream",
     "text": [
      "\r\n",
      "Collecting chart data from ph: 1063it [29:25,  1.71s/it]"
     ]
    },
    {
     "name": "stdout",
     "output_type": "stream",
     "text": [
      "\n",
      "Date: 2019-11-30\n",
      "https://spotifycharts.com/regional/ph/daily/2019-11-30/download\n"
     ]
    },
    {
     "name": "stderr",
     "output_type": "stream",
     "text": [
      "\r\n",
      "Collecting chart data from ph: 1064it [29:26,  1.68s/it]"
     ]
    },
    {
     "name": "stdout",
     "output_type": "stream",
     "text": [
      "\n",
      "Date: 2019-12-01\n",
      "https://spotifycharts.com/regional/ph/daily/2019-12-01/download\n"
     ]
    },
    {
     "name": "stderr",
     "output_type": "stream",
     "text": [
      "\r\n",
      "Collecting chart data from ph: 1065it [29:28,  1.69s/it]"
     ]
    },
    {
     "name": "stdout",
     "output_type": "stream",
     "text": [
      "\n",
      "Date: 2019-12-02\n",
      "https://spotifycharts.com/regional/ph/daily/2019-12-02/download\n"
     ]
    },
    {
     "name": "stderr",
     "output_type": "stream",
     "text": [
      "\r\n",
      "Collecting chart data from ph: 1066it [29:30,  1.67s/it]"
     ]
    },
    {
     "name": "stdout",
     "output_type": "stream",
     "text": [
      "\n",
      "Date: 2019-12-03\n",
      "https://spotifycharts.com/regional/ph/daily/2019-12-03/download\n"
     ]
    },
    {
     "name": "stderr",
     "output_type": "stream",
     "text": [
      "\r\n",
      "Collecting chart data from ph: 1067it [29:32,  1.73s/it]"
     ]
    },
    {
     "name": "stdout",
     "output_type": "stream",
     "text": [
      "\n",
      "Date: 2019-12-04\n",
      "https://spotifycharts.com/regional/ph/daily/2019-12-04/download\n"
     ]
    },
    {
     "name": "stderr",
     "output_type": "stream",
     "text": [
      "\r\n",
      "Collecting chart data from ph: 1068it [29:34,  1.80s/it]"
     ]
    },
    {
     "name": "stdout",
     "output_type": "stream",
     "text": [
      "\n",
      "Date: 2019-12-05\n",
      "https://spotifycharts.com/regional/ph/daily/2019-12-05/download\n"
     ]
    },
    {
     "name": "stderr",
     "output_type": "stream",
     "text": [
      "\r\n",
      "Collecting chart data from ph: 1069it [29:35,  1.83s/it]"
     ]
    },
    {
     "name": "stdout",
     "output_type": "stream",
     "text": [
      "\n",
      "Date: 2019-12-06\n",
      "https://spotifycharts.com/regional/ph/daily/2019-12-06/download\n"
     ]
    },
    {
     "name": "stderr",
     "output_type": "stream",
     "text": [
      "\r\n",
      "Collecting chart data from ph: 1070it [29:37,  1.85s/it]"
     ]
    },
    {
     "name": "stdout",
     "output_type": "stream",
     "text": [
      "\n",
      "Date: 2019-12-07\n",
      "https://spotifycharts.com/regional/ph/daily/2019-12-07/download\n"
     ]
    },
    {
     "name": "stderr",
     "output_type": "stream",
     "text": [
      "\r\n",
      "Collecting chart data from ph: 1071it [29:39,  1.82s/it]"
     ]
    },
    {
     "name": "stdout",
     "output_type": "stream",
     "text": [
      "\n",
      "Date: 2019-12-08\n",
      "https://spotifycharts.com/regional/ph/daily/2019-12-08/download\n"
     ]
    },
    {
     "name": "stderr",
     "output_type": "stream",
     "text": [
      "\r\n",
      "Collecting chart data from ph: 1072it [29:41,  1.79s/it]"
     ]
    },
    {
     "name": "stdout",
     "output_type": "stream",
     "text": [
      "\n",
      "Date: 2019-12-09\n",
      "https://spotifycharts.com/regional/ph/daily/2019-12-09/download\n"
     ]
    },
    {
     "name": "stderr",
     "output_type": "stream",
     "text": [
      "\r\n",
      "Collecting chart data from ph: 1073it [29:43,  1.97s/it]"
     ]
    },
    {
     "name": "stdout",
     "output_type": "stream",
     "text": [
      "\n",
      "Date: 2019-12-10\n",
      "https://spotifycharts.com/regional/ph/daily/2019-12-10/download\n"
     ]
    },
    {
     "name": "stderr",
     "output_type": "stream",
     "text": [
      "\r\n",
      "Collecting chart data from ph: 1074it [29:45,  1.91s/it]"
     ]
    },
    {
     "name": "stdout",
     "output_type": "stream",
     "text": [
      "\n",
      "Date: 2019-12-11\n",
      "https://spotifycharts.com/regional/ph/daily/2019-12-11/download\n"
     ]
    },
    {
     "name": "stderr",
     "output_type": "stream",
     "text": [
      "\r\n",
      "Collecting chart data from ph: 1075it [29:47,  1.89s/it]"
     ]
    },
    {
     "name": "stdout",
     "output_type": "stream",
     "text": [
      "\n",
      "Date: 2019-12-12\n",
      "https://spotifycharts.com/regional/ph/daily/2019-12-12/download\n"
     ]
    },
    {
     "name": "stderr",
     "output_type": "stream",
     "text": [
      "\r\n",
      "Collecting chart data from ph: 1076it [29:48,  1.68s/it]"
     ]
    },
    {
     "name": "stdout",
     "output_type": "stream",
     "text": [
      "\n",
      "Date: 2019-12-13\n",
      "https://spotifycharts.com/regional/ph/daily/2019-12-13/download\n"
     ]
    },
    {
     "name": "stderr",
     "output_type": "stream",
     "text": [
      "\r\n",
      "Collecting chart data from ph: 1077it [29:50,  1.68s/it]"
     ]
    },
    {
     "name": "stdout",
     "output_type": "stream",
     "text": [
      "\n",
      "Date: 2019-12-14\n",
      "https://spotifycharts.com/regional/ph/daily/2019-12-14/download\n"
     ]
    },
    {
     "name": "stderr",
     "output_type": "stream",
     "text": [
      "\r\n",
      "Collecting chart data from ph: 1078it [29:51,  1.69s/it]"
     ]
    },
    {
     "name": "stdout",
     "output_type": "stream",
     "text": [
      "\n",
      "Date: 2019-12-15\n",
      "https://spotifycharts.com/regional/ph/daily/2019-12-15/download\n"
     ]
    },
    {
     "name": "stderr",
     "output_type": "stream",
     "text": [
      "\r\n",
      "Collecting chart data from ph: 1079it [29:53,  1.52s/it]"
     ]
    },
    {
     "name": "stdout",
     "output_type": "stream",
     "text": [
      "\n",
      "Date: 2019-12-16\n",
      "https://spotifycharts.com/regional/ph/daily/2019-12-16/download\n"
     ]
    },
    {
     "name": "stderr",
     "output_type": "stream",
     "text": [
      "\r\n",
      "Collecting chart data from ph: 1080it [29:54,  1.53s/it]"
     ]
    },
    {
     "name": "stdout",
     "output_type": "stream",
     "text": [
      "\n",
      "Date: 2019-12-17\n",
      "https://spotifycharts.com/regional/ph/daily/2019-12-17/download\n"
     ]
    },
    {
     "name": "stderr",
     "output_type": "stream",
     "text": [
      "\r\n",
      "Collecting chart data from ph: 1081it [29:56,  1.56s/it]"
     ]
    },
    {
     "name": "stdout",
     "output_type": "stream",
     "text": [
      "\n",
      "Date: 2019-12-18\n",
      "https://spotifycharts.com/regional/ph/daily/2019-12-18/download\n"
     ]
    },
    {
     "name": "stderr",
     "output_type": "stream",
     "text": [
      "\r\n",
      "Collecting chart data from ph: 1082it [29:58,  1.63s/it]"
     ]
    },
    {
     "name": "stdout",
     "output_type": "stream",
     "text": [
      "\n",
      "Date: 2019-12-19\n",
      "https://spotifycharts.com/regional/ph/daily/2019-12-19/download\n"
     ]
    },
    {
     "name": "stderr",
     "output_type": "stream",
     "text": [
      "\r\n",
      "Collecting chart data from ph: 1083it [29:59,  1.66s/it]"
     ]
    },
    {
     "name": "stdout",
     "output_type": "stream",
     "text": [
      "\n",
      "Date: 2019-12-20\n",
      "https://spotifycharts.com/regional/ph/daily/2019-12-20/download\n"
     ]
    },
    {
     "name": "stderr",
     "output_type": "stream",
     "text": [
      "\r\n",
      "Collecting chart data from ph: 1084it [30:01,  1.64s/it]"
     ]
    },
    {
     "name": "stdout",
     "output_type": "stream",
     "text": [
      "\n",
      "Date: 2019-12-21\n",
      "https://spotifycharts.com/regional/ph/daily/2019-12-21/download\n"
     ]
    },
    {
     "name": "stderr",
     "output_type": "stream",
     "text": [
      "\r\n",
      "Collecting chart data from ph: 1085it [30:03,  1.76s/it]"
     ]
    },
    {
     "name": "stdout",
     "output_type": "stream",
     "text": [
      "\n",
      "Date: 2019-12-22\n",
      "https://spotifycharts.com/regional/ph/daily/2019-12-22/download\n"
     ]
    },
    {
     "name": "stderr",
     "output_type": "stream",
     "text": [
      "\r\n",
      "Collecting chart data from ph: 1086it [30:05,  1.83s/it]"
     ]
    },
    {
     "name": "stdout",
     "output_type": "stream",
     "text": [
      "\n",
      "Date: 2019-12-23\n",
      "https://spotifycharts.com/regional/ph/daily/2019-12-23/download\n"
     ]
    },
    {
     "name": "stderr",
     "output_type": "stream",
     "text": [
      "\r\n",
      "Collecting chart data from ph: 1087it [30:07,  1.98s/it]"
     ]
    },
    {
     "name": "stdout",
     "output_type": "stream",
     "text": [
      "\n",
      "Date: 2019-12-24\n",
      "https://spotifycharts.com/regional/ph/daily/2019-12-24/download\n"
     ]
    },
    {
     "name": "stderr",
     "output_type": "stream",
     "text": [
      "\r\n",
      "Collecting chart data from ph: 1088it [30:09,  1.87s/it]"
     ]
    },
    {
     "name": "stdout",
     "output_type": "stream",
     "text": [
      "\n",
      "Date: 2019-12-25\n",
      "https://spotifycharts.com/regional/ph/daily/2019-12-25/download\n"
     ]
    },
    {
     "name": "stderr",
     "output_type": "stream",
     "text": [
      "\r\n",
      "Collecting chart data from ph: 1089it [30:11,  1.81s/it]"
     ]
    },
    {
     "name": "stdout",
     "output_type": "stream",
     "text": [
      "\n",
      "Date: 2019-12-26\n",
      "https://spotifycharts.com/regional/ph/daily/2019-12-26/download\n"
     ]
    },
    {
     "name": "stderr",
     "output_type": "stream",
     "text": [
      "\r\n",
      "Collecting chart data from ph: 1090it [30:12,  1.74s/it]"
     ]
    },
    {
     "name": "stdout",
     "output_type": "stream",
     "text": [
      "\n",
      "Date: 2019-12-27\n",
      "https://spotifycharts.com/regional/ph/daily/2019-12-27/download\n"
     ]
    },
    {
     "name": "stderr",
     "output_type": "stream",
     "text": [
      "\r\n",
      "Collecting chart data from ph: 1091it [30:14,  1.82s/it]"
     ]
    },
    {
     "name": "stdout",
     "output_type": "stream",
     "text": [
      "\n",
      "Date: 2019-12-28\n",
      "https://spotifycharts.com/regional/ph/daily/2019-12-28/download\n"
     ]
    },
    {
     "name": "stderr",
     "output_type": "stream",
     "text": [
      "\r\n",
      "Collecting chart data from ph: 1092it [30:16,  1.79s/it]"
     ]
    },
    {
     "name": "stdout",
     "output_type": "stream",
     "text": [
      "\n",
      "Date: 2019-12-29\n",
      "https://spotifycharts.com/regional/ph/daily/2019-12-29/download\n"
     ]
    },
    {
     "name": "stderr",
     "output_type": "stream",
     "text": [
      "\r\n",
      "Collecting chart data from ph: 1093it [30:17,  1.73s/it]"
     ]
    },
    {
     "name": "stdout",
     "output_type": "stream",
     "text": [
      "\n",
      "Date: 2019-12-30\n",
      "https://spotifycharts.com/regional/ph/daily/2019-12-30/download\n"
     ]
    },
    {
     "name": "stderr",
     "output_type": "stream",
     "text": [
      "\r\n",
      "Collecting chart data from ph: 1094it [30:19,  1.72s/it]"
     ]
    },
    {
     "name": "stdout",
     "output_type": "stream",
     "text": [
      "\n",
      "Date: 2019-12-31\n",
      "https://spotifycharts.com/regional/ph/daily/2019-12-31/download\n"
     ]
    },
    {
     "name": "stderr",
     "output_type": "stream",
     "text": [
      "\r\n",
      "Collecting chart data from ph: 1095it [30:21,  1.69s/it]"
     ]
    },
    {
     "name": "stdout",
     "output_type": "stream",
     "text": [
      "\n",
      "Date: 2020-01-01\n",
      "https://spotifycharts.com/regional/ph/daily/2020-01-01/download\n"
     ]
    },
    {
     "name": "stderr",
     "output_type": "stream",
     "text": [
      "\r\n",
      "Collecting chart data from ph: 1096it [30:22,  1.66s/it]"
     ]
    },
    {
     "name": "stdout",
     "output_type": "stream",
     "text": [
      "\n",
      "Date: 2020-01-02\n",
      "https://spotifycharts.com/regional/ph/daily/2020-01-02/download\n"
     ]
    },
    {
     "name": "stderr",
     "output_type": "stream",
     "text": [
      "\r\n",
      "Collecting chart data from ph: 1097it [30:24,  1.65s/it]"
     ]
    },
    {
     "name": "stdout",
     "output_type": "stream",
     "text": [
      "\n",
      "Date: 2020-01-03\n",
      "https://spotifycharts.com/regional/ph/daily/2020-01-03/download\n"
     ]
    },
    {
     "name": "stderr",
     "output_type": "stream",
     "text": [
      "\r\n",
      "Collecting chart data from ph: 1098it [30:26,  1.69s/it]"
     ]
    },
    {
     "name": "stdout",
     "output_type": "stream",
     "text": [
      "\n",
      "Date: 2020-01-04\n",
      "https://spotifycharts.com/regional/ph/daily/2020-01-04/download\n"
     ]
    },
    {
     "name": "stderr",
     "output_type": "stream",
     "text": [
      "\r\n",
      "Collecting chart data from ph: 1099it [30:27,  1.69s/it]"
     ]
    },
    {
     "name": "stdout",
     "output_type": "stream",
     "text": [
      "\n",
      "Date: 2020-01-05\n",
      "https://spotifycharts.com/regional/ph/daily/2020-01-05/download\n"
     ]
    },
    {
     "name": "stderr",
     "output_type": "stream",
     "text": [
      "\r\n",
      "Collecting chart data from ph: 1100it [30:30,  1.83s/it]"
     ]
    },
    {
     "name": "stdout",
     "output_type": "stream",
     "text": [
      "\n",
      "Date: 2020-01-06\n",
      "https://spotifycharts.com/regional/ph/daily/2020-01-06/download\n"
     ]
    },
    {
     "name": "stderr",
     "output_type": "stream",
     "text": [
      "\r\n",
      "Collecting chart data from ph: 1101it [30:31,  1.71s/it]"
     ]
    },
    {
     "name": "stdout",
     "output_type": "stream",
     "text": [
      "\n",
      "Date: 2020-01-07\n",
      "https://spotifycharts.com/regional/ph/daily/2020-01-07/download\n"
     ]
    },
    {
     "name": "stderr",
     "output_type": "stream",
     "text": [
      "\r\n",
      "Collecting chart data from ph: 1102it [30:33,  1.68s/it]"
     ]
    },
    {
     "name": "stdout",
     "output_type": "stream",
     "text": [
      "\n",
      "Date: 2020-01-08\n",
      "https://spotifycharts.com/regional/ph/daily/2020-01-08/download\n"
     ]
    },
    {
     "name": "stderr",
     "output_type": "stream",
     "text": [
      "\r\n",
      "Collecting chart data from ph: 1103it [30:34,  1.73s/it]"
     ]
    },
    {
     "name": "stdout",
     "output_type": "stream",
     "text": [
      "\n",
      "Date: 2020-01-09\n",
      "https://spotifycharts.com/regional/ph/daily/2020-01-09/download\n"
     ]
    },
    {
     "name": "stderr",
     "output_type": "stream",
     "text": [
      "\r\n",
      "Collecting chart data from ph: 1104it [30:36,  1.70s/it]"
     ]
    },
    {
     "name": "stdout",
     "output_type": "stream",
     "text": [
      "\n",
      "Date: 2020-01-10\n",
      "https://spotifycharts.com/regional/ph/daily/2020-01-10/download\n"
     ]
    },
    {
     "name": "stderr",
     "output_type": "stream",
     "text": [
      "\r\n",
      "Collecting chart data from ph: 1105it [30:37,  1.54s/it]"
     ]
    },
    {
     "name": "stdout",
     "output_type": "stream",
     "text": [
      "\n",
      "Date: 2020-01-11\n",
      "https://spotifycharts.com/regional/ph/daily/2020-01-11/download\n"
     ]
    },
    {
     "name": "stderr",
     "output_type": "stream",
     "text": [
      "\r\n",
      "Collecting chart data from ph: 1106it [30:39,  1.56s/it]"
     ]
    },
    {
     "name": "stdout",
     "output_type": "stream",
     "text": [
      "\n",
      "Date: 2020-01-12\n",
      "https://spotifycharts.com/regional/ph/daily/2020-01-12/download\n"
     ]
    },
    {
     "name": "stderr",
     "output_type": "stream",
     "text": [
      "\r\n",
      "Collecting chart data from ph: 1107it [30:41,  1.60s/it]"
     ]
    },
    {
     "name": "stdout",
     "output_type": "stream",
     "text": [
      "\n",
      "Date: 2020-01-13\n",
      "https://spotifycharts.com/regional/ph/daily/2020-01-13/download\n"
     ]
    },
    {
     "name": "stderr",
     "output_type": "stream",
     "text": [
      "\r\n",
      "Collecting chart data from ph: 1108it [30:42,  1.62s/it]"
     ]
    },
    {
     "name": "stdout",
     "output_type": "stream",
     "text": [
      "\n",
      "Date: 2020-01-14\n",
      "https://spotifycharts.com/regional/ph/daily/2020-01-14/download\n"
     ]
    },
    {
     "name": "stderr",
     "output_type": "stream",
     "text": [
      "\r\n",
      "Collecting chart data from ph: 1109it [30:44,  1.61s/it]"
     ]
    },
    {
     "name": "stdout",
     "output_type": "stream",
     "text": [
      "\n",
      "Date: 2020-01-15\n",
      "https://spotifycharts.com/regional/ph/daily/2020-01-15/download\n"
     ]
    },
    {
     "name": "stderr",
     "output_type": "stream",
     "text": [
      "\r\n",
      "Collecting chart data from ph: 1110it [30:46,  1.63s/it]"
     ]
    },
    {
     "name": "stdout",
     "output_type": "stream",
     "text": [
      "\n",
      "Date: 2020-01-16\n",
      "https://spotifycharts.com/regional/ph/daily/2020-01-16/download\n"
     ]
    },
    {
     "name": "stderr",
     "output_type": "stream",
     "text": [
      "\r\n",
      "Collecting chart data from ph: 1111it [30:47,  1.51s/it]"
     ]
    },
    {
     "name": "stdout",
     "output_type": "stream",
     "text": [
      "\n",
      "Date: 2020-01-17\n",
      "https://spotifycharts.com/regional/ph/daily/2020-01-17/download\n"
     ]
    },
    {
     "name": "stderr",
     "output_type": "stream",
     "text": [
      "\r\n",
      "Collecting chart data from ph: 1112it [30:48,  1.56s/it]"
     ]
    },
    {
     "name": "stdout",
     "output_type": "stream",
     "text": [
      "\n",
      "Date: 2020-01-18\n",
      "https://spotifycharts.com/regional/ph/daily/2020-01-18/download\n"
     ]
    },
    {
     "name": "stderr",
     "output_type": "stream",
     "text": [
      "\r\n",
      "Collecting chart data from ph: 1113it [30:50,  1.59s/it]"
     ]
    },
    {
     "name": "stdout",
     "output_type": "stream",
     "text": [
      "\n",
      "Date: 2020-01-19\n",
      "https://spotifycharts.com/regional/ph/daily/2020-01-19/download\n"
     ]
    },
    {
     "name": "stderr",
     "output_type": "stream",
     "text": [
      "\r\n",
      "Collecting chart data from ph: 1114it [30:52,  1.62s/it]"
     ]
    },
    {
     "name": "stdout",
     "output_type": "stream",
     "text": [
      "\n",
      "Date: 2020-01-20\n",
      "https://spotifycharts.com/regional/ph/daily/2020-01-20/download\n"
     ]
    },
    {
     "name": "stderr",
     "output_type": "stream",
     "text": [
      "\r\n",
      "Collecting chart data from ph: 1115it [30:53,  1.64s/it]"
     ]
    },
    {
     "name": "stdout",
     "output_type": "stream",
     "text": [
      "\n",
      "Date: 2020-01-21\n",
      "https://spotifycharts.com/regional/ph/daily/2020-01-21/download\n"
     ]
    },
    {
     "name": "stderr",
     "output_type": "stream",
     "text": [
      "\r\n",
      "Collecting chart data from ph: 1116it [30:55,  1.62s/it]"
     ]
    },
    {
     "name": "stdout",
     "output_type": "stream",
     "text": [
      "\n",
      "Date: 2020-01-22\n",
      "https://spotifycharts.com/regional/ph/daily/2020-01-22/download\n"
     ]
    },
    {
     "name": "stderr",
     "output_type": "stream",
     "text": [
      "\r\n",
      "Collecting chart data from ph: 1117it [30:57,  1.63s/it]"
     ]
    },
    {
     "name": "stdout",
     "output_type": "stream",
     "text": [
      "\n",
      "Date: 2020-01-23\n",
      "https://spotifycharts.com/regional/ph/daily/2020-01-23/download\n"
     ]
    },
    {
     "name": "stderr",
     "output_type": "stream",
     "text": [
      "\r\n",
      "Collecting chart data from ph: 1118it [30:58,  1.61s/it]"
     ]
    },
    {
     "name": "stdout",
     "output_type": "stream",
     "text": [
      "\n",
      "Date: 2020-01-24\n",
      "https://spotifycharts.com/regional/ph/daily/2020-01-24/download\n"
     ]
    },
    {
     "name": "stderr",
     "output_type": "stream",
     "text": [
      "\r\n",
      "Collecting chart data from ph: 1119it [31:00,  1.62s/it]"
     ]
    },
    {
     "name": "stdout",
     "output_type": "stream",
     "text": [
      "\n",
      "Date: 2020-01-25\n",
      "https://spotifycharts.com/regional/ph/daily/2020-01-25/download\n"
     ]
    },
    {
     "name": "stderr",
     "output_type": "stream",
     "text": [
      "\r\n",
      "Collecting chart data from ph: 1120it [31:02,  1.63s/it]"
     ]
    },
    {
     "name": "stdout",
     "output_type": "stream",
     "text": [
      "\n",
      "Date: 2020-01-26\n",
      "https://spotifycharts.com/regional/ph/daily/2020-01-26/download\n"
     ]
    },
    {
     "name": "stderr",
     "output_type": "stream",
     "text": [
      "\r\n",
      "Collecting chart data from ph: 1121it [31:04,  1.79s/it]"
     ]
    },
    {
     "name": "stdout",
     "output_type": "stream",
     "text": [
      "\n",
      "Date: 2020-01-27\n",
      "https://spotifycharts.com/regional/ph/daily/2020-01-27/download\n"
     ]
    },
    {
     "name": "stderr",
     "output_type": "stream",
     "text": [
      "\r\n",
      "Collecting chart data from ph: 1122it [31:06,  1.87s/it]"
     ]
    },
    {
     "name": "stdout",
     "output_type": "stream",
     "text": [
      "\n",
      "Date: 2020-01-28\n",
      "https://spotifycharts.com/regional/ph/daily/2020-01-28/download\n"
     ]
    },
    {
     "name": "stderr",
     "output_type": "stream",
     "text": [
      "\r\n",
      "Collecting chart data from ph: 1123it [31:07,  1.70s/it]"
     ]
    },
    {
     "name": "stdout",
     "output_type": "stream",
     "text": [
      "\n",
      "Date: 2020-01-29\n",
      "https://spotifycharts.com/regional/ph/daily/2020-01-29/download\n"
     ]
    },
    {
     "name": "stderr",
     "output_type": "stream",
     "text": [
      "\r\n",
      "Collecting chart data from ph: 1124it [31:09,  1.84s/it]"
     ]
    },
    {
     "name": "stdout",
     "output_type": "stream",
     "text": [
      "\n",
      "Date: 2020-01-30\n",
      "https://spotifycharts.com/regional/ph/daily/2020-01-30/download\n"
     ]
    },
    {
     "name": "stderr",
     "output_type": "stream",
     "text": [
      "\r\n",
      "Collecting chart data from ph: 1125it [31:11,  1.88s/it]"
     ]
    },
    {
     "name": "stdout",
     "output_type": "stream",
     "text": [
      "\n",
      "Date: 2020-01-31\n",
      "https://spotifycharts.com/regional/ph/daily/2020-01-31/download\n"
     ]
    },
    {
     "name": "stderr",
     "output_type": "stream",
     "text": [
      "\r\n",
      "Collecting chart data from ph: 1126it [31:13,  1.78s/it]"
     ]
    },
    {
     "name": "stdout",
     "output_type": "stream",
     "text": [
      "\n",
      "Date: 2020-02-01\n",
      "https://spotifycharts.com/regional/ph/daily/2020-02-01/download\n"
     ]
    },
    {
     "name": "stderr",
     "output_type": "stream",
     "text": [
      "\r\n",
      "Collecting chart data from ph: 1127it [31:14,  1.73s/it]"
     ]
    },
    {
     "name": "stdout",
     "output_type": "stream",
     "text": [
      "\n",
      "Date: 2020-02-02\n",
      "https://spotifycharts.com/regional/ph/daily/2020-02-02/download\n"
     ]
    },
    {
     "name": "stderr",
     "output_type": "stream",
     "text": [
      "\r\n",
      "Collecting chart data from ph: 1128it [31:16,  1.85s/it]"
     ]
    },
    {
     "name": "stdout",
     "output_type": "stream",
     "text": [
      "\n",
      "Date: 2020-02-03\n",
      "https://spotifycharts.com/regional/ph/daily/2020-02-03/download\n"
     ]
    },
    {
     "name": "stderr",
     "output_type": "stream",
     "text": [
      "\r\n",
      "Collecting chart data from ph: 1129it [31:18,  1.61s/it]"
     ]
    },
    {
     "name": "stdout",
     "output_type": "stream",
     "text": [
      "\n",
      "Date: 2020-02-04\n",
      "https://spotifycharts.com/regional/ph/daily/2020-02-04/download\n"
     ]
    },
    {
     "name": "stderr",
     "output_type": "stream",
     "text": [
      "\r\n",
      "Collecting chart data from ph: 1130it [31:19,  1.64s/it]"
     ]
    },
    {
     "name": "stdout",
     "output_type": "stream",
     "text": [
      "\n",
      "Date: 2020-02-05\n",
      "https://spotifycharts.com/regional/ph/daily/2020-02-05/download\n"
     ]
    },
    {
     "name": "stderr",
     "output_type": "stream",
     "text": [
      "\r\n",
      "Collecting chart data from ph: 1131it [31:21,  1.67s/it]"
     ]
    },
    {
     "name": "stdout",
     "output_type": "stream",
     "text": [
      "\n",
      "Date: 2020-02-06\n",
      "https://spotifycharts.com/regional/ph/daily/2020-02-06/download\n"
     ]
    },
    {
     "name": "stderr",
     "output_type": "stream",
     "text": [
      "\r\n",
      "Collecting chart data from ph: 1132it [31:23,  1.71s/it]"
     ]
    },
    {
     "name": "stdout",
     "output_type": "stream",
     "text": [
      "\n",
      "Date: 2020-02-07\n",
      "https://spotifycharts.com/regional/ph/daily/2020-02-07/download\n"
     ]
    },
    {
     "name": "stderr",
     "output_type": "stream",
     "text": [
      "\r\n",
      "Collecting chart data from ph: 1133it [31:24,  1.69s/it]"
     ]
    },
    {
     "name": "stdout",
     "output_type": "stream",
     "text": [
      "\n",
      "Date: 2020-02-08\n",
      "https://spotifycharts.com/regional/ph/daily/2020-02-08/download\n"
     ]
    },
    {
     "name": "stderr",
     "output_type": "stream",
     "text": [
      "\r\n",
      "Collecting chart data from ph: 1134it [31:27,  1.81s/it]"
     ]
    },
    {
     "name": "stdout",
     "output_type": "stream",
     "text": [
      "\n",
      "Date: 2020-02-09\n",
      "https://spotifycharts.com/regional/ph/daily/2020-02-09/download\n"
     ]
    },
    {
     "name": "stderr",
     "output_type": "stream",
     "text": [
      "\r\n",
      "Collecting chart data from ph: 1135it [31:29,  2.01s/it]"
     ]
    },
    {
     "name": "stdout",
     "output_type": "stream",
     "text": [
      "\n",
      "Date: 2020-02-10\n",
      "https://spotifycharts.com/regional/ph/daily/2020-02-10/download\n"
     ]
    },
    {
     "name": "stderr",
     "output_type": "stream",
     "text": [
      "\r\n",
      "Collecting chart data from ph: 1136it [31:31,  1.94s/it]"
     ]
    },
    {
     "name": "stdout",
     "output_type": "stream",
     "text": [
      "\n",
      "Date: 2020-02-11\n",
      "https://spotifycharts.com/regional/ph/daily/2020-02-11/download\n"
     ]
    },
    {
     "name": "stderr",
     "output_type": "stream",
     "text": [
      "\r\n",
      "Collecting chart data from ph: 1137it [31:33,  1.93s/it]"
     ]
    },
    {
     "name": "stdout",
     "output_type": "stream",
     "text": [
      "\n",
      "Date: 2020-02-12\n",
      "https://spotifycharts.com/regional/ph/daily/2020-02-12/download\n"
     ]
    },
    {
     "name": "stderr",
     "output_type": "stream",
     "text": [
      "\r\n",
      "Collecting chart data from ph: 1138it [31:34,  1.83s/it]"
     ]
    },
    {
     "name": "stdout",
     "output_type": "stream",
     "text": [
      "\n",
      "Date: 2020-02-13\n",
      "https://spotifycharts.com/regional/ph/daily/2020-02-13/download\n"
     ]
    },
    {
     "name": "stderr",
     "output_type": "stream",
     "text": [
      "\r\n",
      "Collecting chart data from ph: 1139it [31:36,  1.85s/it]"
     ]
    },
    {
     "name": "stdout",
     "output_type": "stream",
     "text": [
      "\n",
      "Date: 2020-02-14\n",
      "https://spotifycharts.com/regional/ph/daily/2020-02-14/download\n"
     ]
    },
    {
     "name": "stderr",
     "output_type": "stream",
     "text": [
      "\r\n",
      "Collecting chart data from ph: 1140it [31:38,  1.82s/it]"
     ]
    },
    {
     "name": "stdout",
     "output_type": "stream",
     "text": [
      "\n",
      "Date: 2020-02-15\n",
      "https://spotifycharts.com/regional/ph/daily/2020-02-15/download\n"
     ]
    },
    {
     "name": "stderr",
     "output_type": "stream",
     "text": [
      "\r\n",
      "Collecting chart data from ph: 1141it [31:39,  1.59s/it]"
     ]
    },
    {
     "name": "stdout",
     "output_type": "stream",
     "text": [
      "\n",
      "Date: 2020-02-16\n",
      "https://spotifycharts.com/regional/ph/daily/2020-02-16/download\n"
     ]
    },
    {
     "name": "stderr",
     "output_type": "stream",
     "text": [
      "\r\n",
      "Collecting chart data from ph: 1142it [31:41,  1.63s/it]"
     ]
    },
    {
     "name": "stdout",
     "output_type": "stream",
     "text": [
      "\n",
      "Date: 2020-02-17\n",
      "https://spotifycharts.com/regional/ph/daily/2020-02-17/download\n"
     ]
    },
    {
     "name": "stderr",
     "output_type": "stream",
     "text": [
      "\r\n",
      "Collecting chart data from ph: 1143it [31:42,  1.63s/it]"
     ]
    },
    {
     "name": "stdout",
     "output_type": "stream",
     "text": [
      "\n",
      "Date: 2020-02-18\n",
      "https://spotifycharts.com/regional/ph/daily/2020-02-18/download\n"
     ]
    },
    {
     "name": "stderr",
     "output_type": "stream",
     "text": [
      "\r\n",
      "Collecting chart data from ph: 1144it [31:43,  1.49s/it]"
     ]
    },
    {
     "name": "stdout",
     "output_type": "stream",
     "text": [
      "\n",
      "Date: 2020-02-19\n",
      "https://spotifycharts.com/regional/ph/daily/2020-02-19/download\n"
     ]
    },
    {
     "name": "stderr",
     "output_type": "stream",
     "text": [
      "\r\n",
      "Collecting chart data from ph: 1145it [31:45,  1.36s/it]"
     ]
    },
    {
     "name": "stdout",
     "output_type": "stream",
     "text": [
      "\n",
      "Date: 2020-02-20\n",
      "https://spotifycharts.com/regional/ph/daily/2020-02-20/download\n"
     ]
    },
    {
     "name": "stderr",
     "output_type": "stream",
     "text": [
      "\r\n",
      "Collecting chart data from ph: 1146it [31:46,  1.33s/it]"
     ]
    },
    {
     "name": "stdout",
     "output_type": "stream",
     "text": [
      "\n",
      "Date: 2020-02-21\n",
      "https://spotifycharts.com/regional/ph/daily/2020-02-21/download\n"
     ]
    },
    {
     "name": "stderr",
     "output_type": "stream",
     "text": [
      "\r\n",
      "Collecting chart data from ph: 1147it [31:48,  1.56s/it]"
     ]
    },
    {
     "name": "stdout",
     "output_type": "stream",
     "text": [
      "\n",
      "Date: 2020-02-22\n",
      "https://spotifycharts.com/regional/ph/daily/2020-02-22/download\n"
     ]
    },
    {
     "name": "stderr",
     "output_type": "stream",
     "text": [
      "\r\n",
      "Collecting chart data from ph: 1148it [31:50,  1.62s/it]"
     ]
    },
    {
     "name": "stdout",
     "output_type": "stream",
     "text": [
      "\n",
      "Date: 2020-02-23\n",
      "https://spotifycharts.com/regional/ph/daily/2020-02-23/download\n"
     ]
    },
    {
     "name": "stderr",
     "output_type": "stream",
     "text": [
      "\r\n",
      "Collecting chart data from ph: 1149it [31:51,  1.65s/it]"
     ]
    },
    {
     "name": "stdout",
     "output_type": "stream",
     "text": [
      "\n",
      "Date: 2020-02-24\n",
      "https://spotifycharts.com/regional/ph/daily/2020-02-24/download\n"
     ]
    },
    {
     "name": "stderr",
     "output_type": "stream",
     "text": [
      "\r\n",
      "Collecting chart data from ph: 1150it [31:53,  1.65s/it]"
     ]
    },
    {
     "name": "stdout",
     "output_type": "stream",
     "text": [
      "\n",
      "Date: 2020-02-25\n",
      "https://spotifycharts.com/regional/ph/daily/2020-02-25/download\n"
     ]
    },
    {
     "name": "stderr",
     "output_type": "stream",
     "text": [
      "\r\n",
      "Collecting chart data from ph: 1151it [31:55,  1.67s/it]"
     ]
    },
    {
     "name": "stdout",
     "output_type": "stream",
     "text": [
      "\n",
      "Date: 2020-02-26\n",
      "https://spotifycharts.com/regional/ph/daily/2020-02-26/download\n"
     ]
    },
    {
     "name": "stderr",
     "output_type": "stream",
     "text": [
      "\r\n",
      "Collecting chart data from ph: 1152it [31:56,  1.66s/it]"
     ]
    },
    {
     "name": "stdout",
     "output_type": "stream",
     "text": [
      "\n",
      "Date: 2020-02-27\n",
      "https://spotifycharts.com/regional/ph/daily/2020-02-27/download\n"
     ]
    },
    {
     "name": "stderr",
     "output_type": "stream",
     "text": [
      "\r\n",
      "Collecting chart data from ph: 1153it [31:58,  1.65s/it]"
     ]
    },
    {
     "name": "stdout",
     "output_type": "stream",
     "text": [
      "\n",
      "Date: 2020-02-28\n",
      "https://spotifycharts.com/regional/ph/daily/2020-02-28/download\n"
     ]
    },
    {
     "name": "stderr",
     "output_type": "stream",
     "text": [
      "\r\n",
      "Collecting chart data from ph: 1154it [32:00,  1.77s/it]"
     ]
    },
    {
     "name": "stdout",
     "output_type": "stream",
     "text": [
      "\n",
      "Date: 2020-02-29\n",
      "https://spotifycharts.com/regional/ph/daily/2020-02-29/download\n"
     ]
    },
    {
     "name": "stderr",
     "output_type": "stream",
     "text": [
      "\r\n",
      "Collecting chart data from ph: 1155it [32:02,  1.86s/it]"
     ]
    },
    {
     "name": "stdout",
     "output_type": "stream",
     "text": [
      "\n",
      "Date: 2020-03-01\n",
      "https://spotifycharts.com/regional/ph/daily/2020-03-01/download\n"
     ]
    },
    {
     "name": "stderr",
     "output_type": "stream",
     "text": [
      "\r\n",
      "Collecting chart data from ph: 1156it [32:04,  1.78s/it]"
     ]
    },
    {
     "name": "stdout",
     "output_type": "stream",
     "text": [
      "\n",
      "Date: 2020-03-02\n",
      "https://spotifycharts.com/regional/ph/daily/2020-03-02/download\n"
     ]
    },
    {
     "name": "stderr",
     "output_type": "stream",
     "text": [
      "\r\n",
      "Collecting chart data from ph: 1157it [32:05,  1.59s/it]"
     ]
    },
    {
     "name": "stdout",
     "output_type": "stream",
     "text": [
      "\n",
      "Date: 2020-03-03\n",
      "https://spotifycharts.com/regional/ph/daily/2020-03-03/download\n"
     ]
    },
    {
     "name": "stderr",
     "output_type": "stream",
     "text": [
      "\r\n",
      "Collecting chart data from ph: 1158it [32:06,  1.60s/it]"
     ]
    },
    {
     "name": "stdout",
     "output_type": "stream",
     "text": [
      "\n",
      "Date: 2020-03-04\n",
      "https://spotifycharts.com/regional/ph/daily/2020-03-04/download\n"
     ]
    },
    {
     "name": "stderr",
     "output_type": "stream",
     "text": [
      "\r\n",
      "Collecting chart data from ph: 1159it [32:08,  1.62s/it]"
     ]
    },
    {
     "name": "stdout",
     "output_type": "stream",
     "text": [
      "\n",
      "Date: 2020-03-05\n",
      "https://spotifycharts.com/regional/ph/daily/2020-03-05/download\n"
     ]
    },
    {
     "name": "stderr",
     "output_type": "stream",
     "text": [
      "\r\n",
      "Collecting chart data from ph: 1160it [32:10,  1.69s/it]"
     ]
    },
    {
     "name": "stdout",
     "output_type": "stream",
     "text": [
      "\n",
      "Date: 2020-03-06\n",
      "https://spotifycharts.com/regional/ph/daily/2020-03-06/download\n"
     ]
    },
    {
     "name": "stderr",
     "output_type": "stream",
     "text": [
      "\r\n",
      "Collecting chart data from ph: 1161it [32:12,  1.73s/it]"
     ]
    },
    {
     "name": "stdout",
     "output_type": "stream",
     "text": [
      "\n",
      "Date: 2020-03-07\n",
      "https://spotifycharts.com/regional/ph/daily/2020-03-07/download\n"
     ]
    },
    {
     "name": "stderr",
     "output_type": "stream",
     "text": [
      "\r\n",
      "Collecting chart data from ph: 1162it [32:13,  1.70s/it]"
     ]
    },
    {
     "name": "stdout",
     "output_type": "stream",
     "text": [
      "\n",
      "Date: 2020-03-08\n",
      "https://spotifycharts.com/regional/ph/daily/2020-03-08/download\n"
     ]
    },
    {
     "name": "stderr",
     "output_type": "stream",
     "text": [
      "\r\n",
      "Collecting chart data from ph: 1163it [32:15,  1.66s/it]"
     ]
    },
    {
     "name": "stdout",
     "output_type": "stream",
     "text": [
      "\n",
      "Date: 2020-03-09\n",
      "https://spotifycharts.com/regional/ph/daily/2020-03-09/download\n"
     ]
    },
    {
     "name": "stderr",
     "output_type": "stream",
     "text": [
      "\r\n",
      "Collecting chart data from ph: 1164it [32:17,  1.61s/it]"
     ]
    },
    {
     "name": "stdout",
     "output_type": "stream",
     "text": [
      "\n",
      "Date: 2020-03-10\n",
      "https://spotifycharts.com/regional/ph/daily/2020-03-10/download\n"
     ]
    },
    {
     "name": "stderr",
     "output_type": "stream",
     "text": [
      "\r\n",
      "Collecting chart data from ph: 1165it [32:18,  1.46s/it]"
     ]
    },
    {
     "name": "stdout",
     "output_type": "stream",
     "text": [
      "\n",
      "Date: 2020-03-11\n",
      "https://spotifycharts.com/regional/ph/daily/2020-03-11/download\n"
     ]
    },
    {
     "name": "stderr",
     "output_type": "stream",
     "text": [
      "\r\n",
      "Collecting chart data from ph: 1166it [32:19,  1.56s/it]"
     ]
    },
    {
     "name": "stdout",
     "output_type": "stream",
     "text": [
      "\n",
      "Date: 2020-03-12\n",
      "https://spotifycharts.com/regional/ph/daily/2020-03-12/download\n"
     ]
    },
    {
     "name": "stderr",
     "output_type": "stream",
     "text": [
      "\r\n",
      "Collecting chart data from ph: 1167it [32:21,  1.60s/it]"
     ]
    },
    {
     "name": "stdout",
     "output_type": "stream",
     "text": [
      "\n",
      "Date: 2020-03-13\n",
      "https://spotifycharts.com/regional/ph/daily/2020-03-13/download\n"
     ]
    },
    {
     "name": "stderr",
     "output_type": "stream",
     "text": [
      "\r\n",
      "Collecting chart data from ph: 1168it [32:23,  1.64s/it]"
     ]
    },
    {
     "name": "stdout",
     "output_type": "stream",
     "text": [
      "\n",
      "Date: 2020-03-14\n",
      "https://spotifycharts.com/regional/ph/daily/2020-03-14/download\n"
     ]
    },
    {
     "name": "stderr",
     "output_type": "stream",
     "text": [
      "\r\n",
      "Collecting chart data from ph: 1169it [32:24,  1.54s/it]"
     ]
    },
    {
     "name": "stdout",
     "output_type": "stream",
     "text": [
      "\n",
      "Date: 2020-03-15\n",
      "https://spotifycharts.com/regional/ph/daily/2020-03-15/download\n"
     ]
    },
    {
     "name": "stderr",
     "output_type": "stream",
     "text": [
      "\r\n",
      "Collecting chart data from ph: 1170it [32:26,  1.58s/it]"
     ]
    },
    {
     "name": "stdout",
     "output_type": "stream",
     "text": [
      "\n",
      "Date: 2020-03-16\n",
      "https://spotifycharts.com/regional/ph/daily/2020-03-16/download\n"
     ]
    },
    {
     "name": "stderr",
     "output_type": "stream",
     "text": [
      "\r\n",
      "Collecting chart data from ph: 1171it [32:28,  1.62s/it]"
     ]
    },
    {
     "name": "stdout",
     "output_type": "stream",
     "text": [
      "\n",
      "Date: 2020-03-17\n",
      "https://spotifycharts.com/regional/ph/daily/2020-03-17/download\n"
     ]
    },
    {
     "name": "stderr",
     "output_type": "stream",
     "text": [
      "\r\n",
      "Collecting chart data from ph: 1172it [32:29,  1.65s/it]"
     ]
    },
    {
     "name": "stdout",
     "output_type": "stream",
     "text": [
      "\n",
      "Date: 2020-03-18\n",
      "https://spotifycharts.com/regional/ph/daily/2020-03-18/download\n"
     ]
    },
    {
     "name": "stderr",
     "output_type": "stream",
     "text": [
      "\r\n",
      "Collecting chart data from ph: 1173it [32:31,  1.67s/it]"
     ]
    },
    {
     "name": "stdout",
     "output_type": "stream",
     "text": [
      "\n",
      "Date: 2020-03-19\n",
      "https://spotifycharts.com/regional/ph/daily/2020-03-19/download\n"
     ]
    },
    {
     "name": "stderr",
     "output_type": "stream",
     "text": [
      "\r\n",
      "Collecting chart data from ph: 1174it [32:33,  1.76s/it]"
     ]
    },
    {
     "name": "stdout",
     "output_type": "stream",
     "text": [
      "\n",
      "Date: 2020-03-20\n",
      "https://spotifycharts.com/regional/ph/daily/2020-03-20/download\n"
     ]
    },
    {
     "name": "stderr",
     "output_type": "stream",
     "text": [
      "\r\n",
      "Collecting chart data from ph: 1175it [32:35,  1.76s/it]"
     ]
    },
    {
     "name": "stdout",
     "output_type": "stream",
     "text": [
      "\n",
      "Date: 2020-03-21\n",
      "https://spotifycharts.com/regional/ph/daily/2020-03-21/download\n"
     ]
    },
    {
     "name": "stderr",
     "output_type": "stream",
     "text": [
      "\r\n",
      "Collecting chart data from ph: 1176it [32:36,  1.57s/it]"
     ]
    },
    {
     "name": "stdout",
     "output_type": "stream",
     "text": [
      "\n",
      "Date: 2020-03-22\n",
      "https://spotifycharts.com/regional/ph/daily/2020-03-22/download\n"
     ]
    },
    {
     "name": "stderr",
     "output_type": "stream",
     "text": [
      "\r\n",
      "Collecting chart data from ph: 1177it [32:38,  1.65s/it]"
     ]
    },
    {
     "name": "stdout",
     "output_type": "stream",
     "text": [
      "\n",
      "Date: 2020-03-23\n",
      "https://spotifycharts.com/regional/ph/daily/2020-03-23/download\n"
     ]
    },
    {
     "name": "stderr",
     "output_type": "stream",
     "text": [
      "\r\n",
      "Collecting chart data from ph: 1178it [32:39,  1.65s/it]"
     ]
    },
    {
     "name": "stdout",
     "output_type": "stream",
     "text": [
      "\n",
      "Date: 2020-03-24\n",
      "https://spotifycharts.com/regional/ph/daily/2020-03-24/download\n"
     ]
    },
    {
     "name": "stderr",
     "output_type": "stream",
     "text": [
      "\r\n",
      "Collecting chart data from ph: 1179it [32:41,  1.72s/it]"
     ]
    },
    {
     "name": "stdout",
     "output_type": "stream",
     "text": [
      "\n",
      "Date: 2020-03-25\n",
      "https://spotifycharts.com/regional/ph/daily/2020-03-25/download\n"
     ]
    },
    {
     "name": "stderr",
     "output_type": "stream",
     "text": [
      "\r\n",
      "Collecting chart data from ph: 1180it [32:43,  1.71s/it]"
     ]
    },
    {
     "name": "stdout",
     "output_type": "stream",
     "text": [
      "\n",
      "Date: 2020-03-26\n",
      "https://spotifycharts.com/regional/ph/daily/2020-03-26/download\n"
     ]
    },
    {
     "name": "stderr",
     "output_type": "stream",
     "text": [
      "\r\n",
      "Collecting chart data from ph: 1181it [32:45,  1.74s/it]"
     ]
    },
    {
     "name": "stdout",
     "output_type": "stream",
     "text": [
      "\n",
      "Date: 2020-03-27\n",
      "https://spotifycharts.com/regional/ph/daily/2020-03-27/download\n"
     ]
    },
    {
     "name": "stderr",
     "output_type": "stream",
     "text": [
      "\r\n",
      "Collecting chart data from ph: 1182it [32:46,  1.69s/it]"
     ]
    },
    {
     "name": "stdout",
     "output_type": "stream",
     "text": [
      "\n",
      "Date: 2020-03-28\n",
      "https://spotifycharts.com/regional/ph/daily/2020-03-28/download\n"
     ]
    },
    {
     "name": "stderr",
     "output_type": "stream",
     "text": [
      "\r\n",
      "Collecting chart data from ph: 1183it [32:48,  1.76s/it]"
     ]
    },
    {
     "name": "stdout",
     "output_type": "stream",
     "text": [
      "\n",
      "Date: 2020-03-29\n",
      "https://spotifycharts.com/regional/ph/daily/2020-03-29/download\n"
     ]
    },
    {
     "name": "stderr",
     "output_type": "stream",
     "text": [
      "\r\n",
      "Collecting chart data from ph: 1184it [32:50,  1.79s/it]"
     ]
    },
    {
     "name": "stdout",
     "output_type": "stream",
     "text": [
      "\n",
      "Date: 2020-03-30\n",
      "https://spotifycharts.com/regional/ph/daily/2020-03-30/download\n"
     ]
    },
    {
     "name": "stderr",
     "output_type": "stream",
     "text": [
      "\r\n",
      "Collecting chart data from ph: 1185it [32:52,  1.86s/it]"
     ]
    },
    {
     "name": "stdout",
     "output_type": "stream",
     "text": [
      "\n",
      "Date: 2020-03-31\n",
      "https://spotifycharts.com/regional/ph/daily/2020-03-31/download\n"
     ]
    },
    {
     "name": "stderr",
     "output_type": "stream",
     "text": [
      "\r\n",
      "Collecting chart data from ph: 1186it [32:54,  1.99s/it]"
     ]
    },
    {
     "name": "stdout",
     "output_type": "stream",
     "text": [
      "\n",
      "Date: 2020-04-01\n",
      "https://spotifycharts.com/regional/ph/daily/2020-04-01/download\n"
     ]
    },
    {
     "name": "stderr",
     "output_type": "stream",
     "text": [
      "\r\n",
      "Collecting chart data from ph: 1187it [32:56,  1.91s/it]"
     ]
    },
    {
     "name": "stdout",
     "output_type": "stream",
     "text": [
      "\n",
      "Date: 2020-04-02\n",
      "https://spotifycharts.com/regional/ph/daily/2020-04-02/download\n"
     ]
    },
    {
     "name": "stderr",
     "output_type": "stream",
     "text": [
      "\r\n",
      "Collecting chart data from ph: 1188it [32:58,  1.83s/it]"
     ]
    },
    {
     "name": "stdout",
     "output_type": "stream",
     "text": [
      "\n",
      "Date: 2020-04-03\n",
      "https://spotifycharts.com/regional/ph/daily/2020-04-03/download\n"
     ]
    },
    {
     "name": "stderr",
     "output_type": "stream",
     "text": [
      "\r\n",
      "Collecting chart data from ph: 1189it [32:59,  1.78s/it]"
     ]
    },
    {
     "name": "stdout",
     "output_type": "stream",
     "text": [
      "\n",
      "Date: 2020-04-04\n",
      "https://spotifycharts.com/regional/ph/daily/2020-04-04/download\n"
     ]
    },
    {
     "name": "stderr",
     "output_type": "stream",
     "text": [
      "\r\n",
      "Collecting chart data from ph: 1190it [33:01,  1.84s/it]"
     ]
    },
    {
     "name": "stdout",
     "output_type": "stream",
     "text": [
      "\n",
      "Date: 2020-04-05\n",
      "https://spotifycharts.com/regional/ph/daily/2020-04-05/download\n"
     ]
    },
    {
     "name": "stderr",
     "output_type": "stream",
     "text": [
      "\r\n",
      "Collecting chart data from ph: 1191it [33:03,  1.79s/it]"
     ]
    },
    {
     "name": "stdout",
     "output_type": "stream",
     "text": [
      "\n",
      "Date: 2020-04-06\n",
      "https://spotifycharts.com/regional/ph/daily/2020-04-06/download\n"
     ]
    },
    {
     "name": "stderr",
     "output_type": "stream",
     "text": [
      "\r\n",
      "Collecting chart data from ph: 1192it [33:05,  1.73s/it]"
     ]
    },
    {
     "name": "stdout",
     "output_type": "stream",
     "text": [
      "\n",
      "Date: 2020-04-07\n",
      "https://spotifycharts.com/regional/ph/daily/2020-04-07/download\n"
     ]
    },
    {
     "name": "stderr",
     "output_type": "stream",
     "text": [
      "\r\n",
      "Collecting chart data from ph: 1193it [33:06,  1.75s/it]"
     ]
    },
    {
     "name": "stdout",
     "output_type": "stream",
     "text": [
      "\n",
      "Date: 2020-04-08\n",
      "https://spotifycharts.com/regional/ph/daily/2020-04-08/download\n"
     ]
    },
    {
     "name": "stderr",
     "output_type": "stream",
     "text": [
      "\r\n",
      "Collecting chart data from ph: 1194it [33:08,  1.74s/it]"
     ]
    },
    {
     "name": "stdout",
     "output_type": "stream",
     "text": [
      "\n",
      "Date: 2020-04-09\n",
      "https://spotifycharts.com/regional/ph/daily/2020-04-09/download\n"
     ]
    },
    {
     "name": "stderr",
     "output_type": "stream",
     "text": [
      "\r\n",
      "Collecting chart data from ph: 1195it [33:09,  1.57s/it]"
     ]
    },
    {
     "name": "stdout",
     "output_type": "stream",
     "text": [
      "\n",
      "Date: 2020-04-10\n",
      "https://spotifycharts.com/regional/ph/daily/2020-04-10/download\n"
     ]
    },
    {
     "name": "stderr",
     "output_type": "stream",
     "text": [
      "\r\n",
      "Collecting chart data from ph: 1196it [33:12,  1.81s/it]"
     ]
    },
    {
     "name": "stdout",
     "output_type": "stream",
     "text": [
      "\n",
      "Date: 2020-04-11\n",
      "https://spotifycharts.com/regional/ph/daily/2020-04-11/download\n"
     ]
    },
    {
     "name": "stderr",
     "output_type": "stream",
     "text": [
      "\r\n",
      "Collecting chart data from ph: 1197it [33:13,  1.75s/it]"
     ]
    },
    {
     "name": "stdout",
     "output_type": "stream",
     "text": [
      "\n",
      "Date: 2020-04-12\n",
      "https://spotifycharts.com/regional/ph/daily/2020-04-12/download\n"
     ]
    },
    {
     "name": "stderr",
     "output_type": "stream",
     "text": [
      "\r\n",
      "Collecting chart data from ph: 1198it [33:15,  1.72s/it]"
     ]
    },
    {
     "name": "stdout",
     "output_type": "stream",
     "text": [
      "\n",
      "Date: 2020-04-13\n",
      "https://spotifycharts.com/regional/ph/daily/2020-04-13/download\n"
     ]
    },
    {
     "name": "stderr",
     "output_type": "stream",
     "text": [
      "\r\n",
      "Collecting chart data from ph: 1199it [33:16,  1.53s/it]"
     ]
    },
    {
     "name": "stdout",
     "output_type": "stream",
     "text": [
      "\n",
      "Date: 2020-04-14\n",
      "https://spotifycharts.com/regional/ph/daily/2020-04-14/download\n"
     ]
    },
    {
     "name": "stderr",
     "output_type": "stream",
     "text": [
      "\r\n",
      "Collecting chart data from ph: 1200it [33:18,  1.58s/it]"
     ]
    },
    {
     "name": "stdout",
     "output_type": "stream",
     "text": [
      "\n",
      "Date: 2020-04-15\n",
      "https://spotifycharts.com/regional/ph/daily/2020-04-15/download\n"
     ]
    },
    {
     "name": "stderr",
     "output_type": "stream",
     "text": [
      "\r\n",
      "Collecting chart data from ph: 1201it [33:20,  1.66s/it]"
     ]
    },
    {
     "name": "stdout",
     "output_type": "stream",
     "text": [
      "\n",
      "Date: 2020-04-16\n",
      "https://spotifycharts.com/regional/ph/daily/2020-04-16/download\n"
     ]
    },
    {
     "name": "stderr",
     "output_type": "stream",
     "text": [
      "\r\n",
      "Collecting chart data from ph: 1202it [33:21,  1.63s/it]"
     ]
    },
    {
     "name": "stdout",
     "output_type": "stream",
     "text": [
      "\n",
      "Date: 2020-04-17\n",
      "https://spotifycharts.com/regional/ph/daily/2020-04-17/download\n"
     ]
    },
    {
     "name": "stderr",
     "output_type": "stream",
     "text": [
      "\r\n",
      "Collecting chart data from ph: 1203it [33:23,  1.64s/it]"
     ]
    },
    {
     "name": "stdout",
     "output_type": "stream",
     "text": [
      "\n",
      "Date: 2020-04-18\n",
      "https://spotifycharts.com/regional/ph/daily/2020-04-18/download\n"
     ]
    },
    {
     "name": "stderr",
     "output_type": "stream",
     "text": [
      "\r\n",
      "Collecting chart data from ph: 1204it [33:24,  1.65s/it]"
     ]
    },
    {
     "name": "stdout",
     "output_type": "stream",
     "text": [
      "\n",
      "Date: 2020-04-19\n",
      "https://spotifycharts.com/regional/ph/daily/2020-04-19/download\n"
     ]
    },
    {
     "name": "stderr",
     "output_type": "stream",
     "text": [
      "\r\n",
      "Collecting chart data from ph: 1205it [33:26,  1.72s/it]"
     ]
    },
    {
     "name": "stdout",
     "output_type": "stream",
     "text": [
      "\n",
      "Date: 2020-04-20\n",
      "https://spotifycharts.com/regional/ph/daily/2020-04-20/download\n"
     ]
    },
    {
     "name": "stderr",
     "output_type": "stream",
     "text": [
      "\r\n",
      "Collecting chart data from ph: 1206it [33:28,  1.69s/it]"
     ]
    },
    {
     "name": "stdout",
     "output_type": "stream",
     "text": [
      "\n",
      "Date: 2020-04-21\n",
      "https://spotifycharts.com/regional/ph/daily/2020-04-21/download\n"
     ]
    },
    {
     "name": "stderr",
     "output_type": "stream",
     "text": [
      "\r\n",
      "Collecting chart data from ph: 1207it [33:29,  1.53s/it]"
     ]
    },
    {
     "name": "stdout",
     "output_type": "stream",
     "text": [
      "\n",
      "Date: 2020-04-22\n",
      "https://spotifycharts.com/regional/ph/daily/2020-04-22/download\n"
     ]
    },
    {
     "name": "stderr",
     "output_type": "stream",
     "text": [
      "\r\n",
      "Collecting chart data from ph: 1208it [33:30,  1.42s/it]"
     ]
    },
    {
     "name": "stdout",
     "output_type": "stream",
     "text": [
      "\n",
      "Date: 2020-04-23\n",
      "https://spotifycharts.com/regional/ph/daily/2020-04-23/download\n"
     ]
    },
    {
     "name": "stderr",
     "output_type": "stream",
     "text": [
      "\r\n",
      "Collecting chart data from ph: 1209it [33:32,  1.50s/it]"
     ]
    },
    {
     "name": "stdout",
     "output_type": "stream",
     "text": [
      "\n",
      "Date: 2020-04-24\n",
      "https://spotifycharts.com/regional/ph/daily/2020-04-24/download\n"
     ]
    },
    {
     "name": "stderr",
     "output_type": "stream",
     "text": [
      "\r\n",
      "Collecting chart data from ph: 1210it [33:34,  1.53s/it]"
     ]
    },
    {
     "name": "stdout",
     "output_type": "stream",
     "text": [
      "\n",
      "Date: 2020-04-25\n",
      "https://spotifycharts.com/regional/ph/daily/2020-04-25/download\n"
     ]
    },
    {
     "name": "stderr",
     "output_type": "stream",
     "text": [
      "\r\n",
      "Collecting chart data from ph: 1211it [33:35,  1.59s/it]"
     ]
    },
    {
     "name": "stdout",
     "output_type": "stream",
     "text": [
      "\n",
      "Date: 2020-04-26\n",
      "https://spotifycharts.com/regional/ph/daily/2020-04-26/download\n"
     ]
    },
    {
     "name": "stderr",
     "output_type": "stream",
     "text": [
      "\r\n",
      "Collecting chart data from ph: 1212it [33:37,  1.63s/it]"
     ]
    },
    {
     "name": "stdout",
     "output_type": "stream",
     "text": [
      "\n",
      "Date: 2020-04-27\n",
      "https://spotifycharts.com/regional/ph/daily/2020-04-27/download\n"
     ]
    },
    {
     "name": "stderr",
     "output_type": "stream",
     "text": [
      "\r\n",
      "Collecting chart data from ph: 1213it [33:39,  1.67s/it]"
     ]
    },
    {
     "name": "stdout",
     "output_type": "stream",
     "text": [
      "\n",
      "Date: 2020-04-28\n",
      "https://spotifycharts.com/regional/ph/daily/2020-04-28/download\n"
     ]
    },
    {
     "name": "stderr",
     "output_type": "stream",
     "text": [
      "\r\n",
      "Collecting chart data from ph: 1214it [33:42,  2.05s/it]"
     ]
    },
    {
     "name": "stdout",
     "output_type": "stream",
     "text": [
      "\n",
      "Date: 2020-04-29\n",
      "https://spotifycharts.com/regional/ph/daily/2020-04-29/download\n"
     ]
    },
    {
     "name": "stderr",
     "output_type": "stream",
     "text": [
      "\r\n",
      "Collecting chart data from ph: 1215it [33:44,  1.97s/it]"
     ]
    },
    {
     "name": "stdout",
     "output_type": "stream",
     "text": [
      "\n",
      "Date: 2020-04-30\n",
      "https://spotifycharts.com/regional/ph/daily/2020-04-30/download\n"
     ]
    },
    {
     "name": "stderr",
     "output_type": "stream",
     "text": [
      "\r\n",
      "Collecting chart data from ph: 1216it [33:45,  1.85s/it]"
     ]
    },
    {
     "name": "stdout",
     "output_type": "stream",
     "text": [
      "\n",
      "Date: 2020-05-01\n",
      "https://spotifycharts.com/regional/ph/daily/2020-05-01/download\n"
     ]
    },
    {
     "name": "stderr",
     "output_type": "stream",
     "text": [
      "\r\n",
      "Collecting chart data from ph: 1217it [33:46,  1.69s/it]"
     ]
    },
    {
     "name": "stdout",
     "output_type": "stream",
     "text": [
      "\n",
      "Date: 2020-05-02\n",
      "https://spotifycharts.com/regional/ph/daily/2020-05-02/download\n"
     ]
    },
    {
     "name": "stderr",
     "output_type": "stream",
     "text": [
      "\r\n",
      "Collecting chart data from ph: 1218it [33:48,  1.76s/it]"
     ]
    },
    {
     "name": "stdout",
     "output_type": "stream",
     "text": [
      "\n",
      "Date: 2020-05-03\n",
      "https://spotifycharts.com/regional/ph/daily/2020-05-03/download\n"
     ]
    },
    {
     "name": "stderr",
     "output_type": "stream",
     "text": [
      "\r\n",
      "Collecting chart data from ph: 1219it [33:50,  1.80s/it]"
     ]
    },
    {
     "name": "stdout",
     "output_type": "stream",
     "text": [
      "\n",
      "Date: 2020-05-04\n",
      "https://spotifycharts.com/regional/ph/daily/2020-05-04/download\n"
     ]
    },
    {
     "name": "stderr",
     "output_type": "stream",
     "text": [
      "\r\n",
      "Collecting chart data from ph: 1220it [33:52,  1.78s/it]"
     ]
    },
    {
     "name": "stdout",
     "output_type": "stream",
     "text": [
      "\n",
      "Date: 2020-05-05\n",
      "https://spotifycharts.com/regional/ph/daily/2020-05-05/download\n"
     ]
    },
    {
     "name": "stderr",
     "output_type": "stream",
     "text": [
      "\r\n",
      "Collecting chart data from ph: 1221it [33:54,  1.72s/it]"
     ]
    },
    {
     "name": "stdout",
     "output_type": "stream",
     "text": [
      "\n",
      "Date: 2020-05-06\n",
      "https://spotifycharts.com/regional/ph/daily/2020-05-06/download\n"
     ]
    },
    {
     "name": "stderr",
     "output_type": "stream",
     "text": [
      "\r\n",
      "Collecting chart data from ph: 1222it [33:55,  1.69s/it]"
     ]
    },
    {
     "name": "stdout",
     "output_type": "stream",
     "text": [
      "\n",
      "Date: 2020-05-07\n",
      "https://spotifycharts.com/regional/ph/daily/2020-05-07/download\n"
     ]
    },
    {
     "name": "stderr",
     "output_type": "stream",
     "text": [
      "\r\n",
      "Collecting chart data from ph: 1223it [33:57,  1.66s/it]"
     ]
    },
    {
     "name": "stdout",
     "output_type": "stream",
     "text": [
      "\n",
      "Date: 2020-05-08\n",
      "https://spotifycharts.com/regional/ph/daily/2020-05-08/download\n"
     ]
    },
    {
     "name": "stderr",
     "output_type": "stream",
     "text": [
      "\r\n",
      "Collecting chart data from ph: 1224it [33:59,  1.82s/it]"
     ]
    },
    {
     "name": "stdout",
     "output_type": "stream",
     "text": [
      "\n",
      "Date: 2020-05-09\n",
      "https://spotifycharts.com/regional/ph/daily/2020-05-09/download\n"
     ]
    },
    {
     "name": "stderr",
     "output_type": "stream",
     "text": [
      "\r\n",
      "Collecting chart data from ph: 1225it [34:01,  1.80s/it]"
     ]
    },
    {
     "name": "stdout",
     "output_type": "stream",
     "text": [
      "\n",
      "Date: 2020-05-10\n",
      "https://spotifycharts.com/regional/ph/daily/2020-05-10/download\n"
     ]
    },
    {
     "name": "stderr",
     "output_type": "stream",
     "text": [
      "\r\n",
      "Collecting chart data from ph: 1226it [34:02,  1.76s/it]"
     ]
    },
    {
     "name": "stdout",
     "output_type": "stream",
     "text": [
      "\n",
      "Date: 2020-05-11\n",
      "https://spotifycharts.com/regional/ph/daily/2020-05-11/download\n"
     ]
    },
    {
     "name": "stderr",
     "output_type": "stream",
     "text": [
      "\r\n",
      "Collecting chart data from ph: 1227it [34:03,  1.56s/it]"
     ]
    },
    {
     "name": "stdout",
     "output_type": "stream",
     "text": [
      "\n",
      "Date: 2020-05-12\n",
      "https://spotifycharts.com/regional/ph/daily/2020-05-12/download\n"
     ]
    },
    {
     "name": "stderr",
     "output_type": "stream",
     "text": [
      "\r\n",
      "Collecting chart data from ph: 1228it [34:05,  1.66s/it]"
     ]
    },
    {
     "name": "stdout",
     "output_type": "stream",
     "text": [
      "\n",
      "Date: 2020-05-13\n",
      "https://spotifycharts.com/regional/ph/daily/2020-05-13/download\n"
     ]
    },
    {
     "name": "stderr",
     "output_type": "stream",
     "text": [
      "\r\n",
      "Collecting chart data from ph: 1229it [34:07,  1.65s/it]"
     ]
    },
    {
     "name": "stdout",
     "output_type": "stream",
     "text": [
      "\n",
      "Date: 2020-05-14\n",
      "https://spotifycharts.com/regional/ph/daily/2020-05-14/download\n"
     ]
    },
    {
     "name": "stderr",
     "output_type": "stream",
     "text": [
      "\r\n",
      "Collecting chart data from ph: 1230it [34:09,  1.76s/it]"
     ]
    },
    {
     "name": "stdout",
     "output_type": "stream",
     "text": [
      "\n",
      "Date: 2020-05-15\n",
      "https://spotifycharts.com/regional/ph/daily/2020-05-15/download\n"
     ]
    },
    {
     "name": "stderr",
     "output_type": "stream",
     "text": [
      "\r\n",
      "Collecting chart data from ph: 1231it [34:10,  1.58s/it]"
     ]
    },
    {
     "name": "stdout",
     "output_type": "stream",
     "text": [
      "\n",
      "Date: 2020-05-16\n",
      "https://spotifycharts.com/regional/ph/daily/2020-05-16/download\n"
     ]
    },
    {
     "name": "stderr",
     "output_type": "stream",
     "text": [
      "\r\n",
      "Collecting chart data from ph: 1232it [34:12,  1.57s/it]"
     ]
    },
    {
     "name": "stdout",
     "output_type": "stream",
     "text": [
      "\n",
      "Date: 2020-05-17\n",
      "https://spotifycharts.com/regional/ph/daily/2020-05-17/download\n"
     ]
    },
    {
     "name": "stderr",
     "output_type": "stream",
     "text": [
      "\r\n",
      "Collecting chart data from ph: 1233it [34:13,  1.59s/it]"
     ]
    },
    {
     "name": "stdout",
     "output_type": "stream",
     "text": [
      "\n",
      "Date: 2020-05-18\n",
      "https://spotifycharts.com/regional/ph/daily/2020-05-18/download\n"
     ]
    },
    {
     "name": "stderr",
     "output_type": "stream",
     "text": [
      "\r\n",
      "Collecting chart data from ph: 1234it [34:14,  1.44s/it]"
     ]
    },
    {
     "name": "stdout",
     "output_type": "stream",
     "text": [
      "\n",
      "Date: 2020-05-19\n",
      "https://spotifycharts.com/regional/ph/daily/2020-05-19/download\n"
     ]
    },
    {
     "name": "stderr",
     "output_type": "stream",
     "text": [
      "\r\n",
      "Collecting chart data from ph: 1235it [34:15,  1.32s/it]"
     ]
    },
    {
     "name": "stdout",
     "output_type": "stream",
     "text": [
      "\n",
      "Date: 2020-05-20\n",
      "https://spotifycharts.com/regional/ph/daily/2020-05-20/download\n"
     ]
    },
    {
     "name": "stderr",
     "output_type": "stream",
     "text": [
      "\r\n",
      "Collecting chart data from ph: 1236it [34:17,  1.44s/it]"
     ]
    },
    {
     "name": "stdout",
     "output_type": "stream",
     "text": [
      "\n",
      "Date: 2020-05-21\n",
      "https://spotifycharts.com/regional/ph/daily/2020-05-21/download\n"
     ]
    },
    {
     "name": "stderr",
     "output_type": "stream",
     "text": [
      "\r\n",
      "Collecting chart data from ph: 1237it [34:19,  1.48s/it]"
     ]
    },
    {
     "name": "stdout",
     "output_type": "stream",
     "text": [
      "\n",
      "Date: 2020-05-22\n",
      "https://spotifycharts.com/regional/ph/daily/2020-05-22/download\n"
     ]
    },
    {
     "name": "stderr",
     "output_type": "stream",
     "text": [
      "\r\n",
      "Collecting chart data from ph: 1238it [34:20,  1.36s/it]"
     ]
    },
    {
     "name": "stdout",
     "output_type": "stream",
     "text": [
      "\n",
      "Date: 2020-05-23\n",
      "https://spotifycharts.com/regional/ph/daily/2020-05-23/download\n"
     ]
    },
    {
     "name": "stderr",
     "output_type": "stream",
     "text": [
      "\r\n",
      "Collecting chart data from ph: 1239it [34:21,  1.44s/it]"
     ]
    },
    {
     "name": "stdout",
     "output_type": "stream",
     "text": [
      "\n",
      "Date: 2020-05-24\n",
      "https://spotifycharts.com/regional/ph/daily/2020-05-24/download\n"
     ]
    },
    {
     "name": "stderr",
     "output_type": "stream",
     "text": [
      "\r\n",
      "Collecting chart data from ph: 1240it [34:23,  1.51s/it]"
     ]
    },
    {
     "name": "stdout",
     "output_type": "stream",
     "text": [
      "\n",
      "Date: 2020-05-25\n",
      "https://spotifycharts.com/regional/ph/daily/2020-05-25/download\n"
     ]
    },
    {
     "name": "stderr",
     "output_type": "stream",
     "text": [
      "\r\n",
      "Collecting chart data from ph: 1241it [34:25,  1.53s/it]"
     ]
    },
    {
     "name": "stdout",
     "output_type": "stream",
     "text": [
      "\n",
      "Date: 2020-05-26\n",
      "https://spotifycharts.com/regional/ph/daily/2020-05-26/download\n"
     ]
    },
    {
     "name": "stderr",
     "output_type": "stream",
     "text": [
      "\r\n",
      "Collecting chart data from ph: 1242it [34:26,  1.58s/it]"
     ]
    },
    {
     "name": "stdout",
     "output_type": "stream",
     "text": [
      "\n",
      "Date: 2020-05-27\n",
      "https://spotifycharts.com/regional/ph/daily/2020-05-27/download\n"
     ]
    },
    {
     "name": "stderr",
     "output_type": "stream",
     "text": [
      "\r\n",
      "Collecting chart data from ph: 1243it [34:28,  1.63s/it]"
     ]
    },
    {
     "name": "stdout",
     "output_type": "stream",
     "text": [
      "\n",
      "Date: 2020-05-28\n",
      "https://spotifycharts.com/regional/ph/daily/2020-05-28/download\n"
     ]
    },
    {
     "name": "stderr",
     "output_type": "stream",
     "text": [
      "\r\n",
      "Collecting chart data from ph: 1244it [34:30,  1.65s/it]"
     ]
    },
    {
     "name": "stdout",
     "output_type": "stream",
     "text": [
      "\n",
      "Date: 2020-05-29\n",
      "https://spotifycharts.com/regional/ph/daily/2020-05-29/download\n"
     ]
    },
    {
     "name": "stderr",
     "output_type": "stream",
     "text": [
      "\r\n",
      "Collecting chart data from ph: 1245it [34:32,  1.66s/it]"
     ]
    },
    {
     "name": "stdout",
     "output_type": "stream",
     "text": [
      "\n",
      "Date: 2020-05-30\n",
      "https://spotifycharts.com/regional/ph/daily/2020-05-30/download\n"
     ]
    },
    {
     "name": "stderr",
     "output_type": "stream",
     "text": [
      "\r\n",
      "Collecting chart data from ph: 1246it [34:33,  1.72s/it]"
     ]
    },
    {
     "name": "stdout",
     "output_type": "stream",
     "text": [
      "\n",
      "Date: 2020-05-31\n",
      "https://spotifycharts.com/regional/ph/daily/2020-05-31/download\n"
     ]
    },
    {
     "name": "stderr",
     "output_type": "stream",
     "text": [
      "\r\n",
      "Collecting chart data from ph: 1247it [34:35,  1.74s/it]"
     ]
    },
    {
     "name": "stdout",
     "output_type": "stream",
     "text": [
      "\n",
      "Date: 2020-06-01\n",
      "https://spotifycharts.com/regional/ph/daily/2020-06-01/download\n"
     ]
    },
    {
     "name": "stderr",
     "output_type": "stream",
     "text": [
      "\r\n",
      "Collecting chart data from ph: 1248it [34:37,  1.70s/it]"
     ]
    },
    {
     "name": "stdout",
     "output_type": "stream",
     "text": [
      "\n",
      "Date: 2020-06-02\n",
      "https://spotifycharts.com/regional/ph/daily/2020-06-02/download\n"
     ]
    },
    {
     "name": "stderr",
     "output_type": "stream",
     "text": [
      "\r\n",
      "Collecting chart data from ph: 1249it [34:39,  1.78s/it]"
     ]
    },
    {
     "name": "stdout",
     "output_type": "stream",
     "text": [
      "\n",
      "Date: 2020-06-03\n",
      "https://spotifycharts.com/regional/ph/daily/2020-06-03/download\n"
     ]
    },
    {
     "name": "stderr",
     "output_type": "stream",
     "text": [
      "\r\n",
      "Collecting chart data from ph: 1250it [34:40,  1.75s/it]"
     ]
    },
    {
     "name": "stdout",
     "output_type": "stream",
     "text": [
      "\n",
      "Date: 2020-06-04\n",
      "https://spotifycharts.com/regional/ph/daily/2020-06-04/download\n"
     ]
    },
    {
     "name": "stderr",
     "output_type": "stream",
     "text": [
      "\r\n",
      "Collecting chart data from ph: 1251it [34:42,  1.57s/it]"
     ]
    },
    {
     "name": "stdout",
     "output_type": "stream",
     "text": [
      "\n",
      "Date: 2020-06-05\n",
      "https://spotifycharts.com/regional/ph/daily/2020-06-05/download\n"
     ]
    },
    {
     "name": "stderr",
     "output_type": "stream",
     "text": [
      "\r\n",
      "Collecting chart data from ph: 1252it [34:43,  1.44s/it]"
     ]
    },
    {
     "name": "stdout",
     "output_type": "stream",
     "text": [
      "\n",
      "Date: 2020-06-06\n",
      "https://spotifycharts.com/regional/ph/daily/2020-06-06/download\n"
     ]
    },
    {
     "name": "stderr",
     "output_type": "stream",
     "text": [
      "\r\n",
      "Collecting chart data from ph: 1253it [34:44,  1.50s/it]"
     ]
    },
    {
     "name": "stdout",
     "output_type": "stream",
     "text": [
      "\n",
      "Date: 2020-06-07\n",
      "https://spotifycharts.com/regional/ph/daily/2020-06-07/download\n"
     ]
    },
    {
     "name": "stderr",
     "output_type": "stream",
     "text": [
      "\r\n",
      "Collecting chart data from ph: 1254it [34:46,  1.56s/it]"
     ]
    },
    {
     "name": "stdout",
     "output_type": "stream",
     "text": [
      "\n",
      "Date: 2020-06-08\n",
      "https://spotifycharts.com/regional/ph/daily/2020-06-08/download\n"
     ]
    },
    {
     "name": "stderr",
     "output_type": "stream",
     "text": [
      "\r\n",
      "Collecting chart data from ph: 1255it [34:47,  1.46s/it]"
     ]
    },
    {
     "name": "stdout",
     "output_type": "stream",
     "text": [
      "\n",
      "Date: 2020-06-09\n",
      "https://spotifycharts.com/regional/ph/daily/2020-06-09/download\n"
     ]
    },
    {
     "name": "stderr",
     "output_type": "stream",
     "text": [
      "\r\n",
      "Collecting chart data from ph: 1256it [34:49,  1.53s/it]"
     ]
    },
    {
     "name": "stdout",
     "output_type": "stream",
     "text": [
      "\n",
      "Date: 2020-06-10\n",
      "https://spotifycharts.com/regional/ph/daily/2020-06-10/download\n"
     ]
    },
    {
     "name": "stderr",
     "output_type": "stream",
     "text": [
      "\r\n",
      "Collecting chart data from ph: 1257it [34:51,  1.61s/it]"
     ]
    },
    {
     "name": "stdout",
     "output_type": "stream",
     "text": [
      "\n",
      "Date: 2020-06-11\n",
      "https://spotifycharts.com/regional/ph/daily/2020-06-11/download\n"
     ]
    },
    {
     "name": "stderr",
     "output_type": "stream",
     "text": [
      "\r\n",
      "Collecting chart data from ph: 1258it [34:52,  1.62s/it]"
     ]
    },
    {
     "name": "stdout",
     "output_type": "stream",
     "text": [
      "\n",
      "Date: 2020-06-12\n",
      "https://spotifycharts.com/regional/ph/daily/2020-06-12/download\n"
     ]
    },
    {
     "name": "stderr",
     "output_type": "stream",
     "text": [
      "\r\n",
      "Collecting chart data from ph: 1259it [34:54,  1.75s/it]"
     ]
    },
    {
     "name": "stdout",
     "output_type": "stream",
     "text": [
      "\n",
      "Date: 2020-06-13\n",
      "https://spotifycharts.com/regional/ph/daily/2020-06-13/download\n"
     ]
    },
    {
     "name": "stderr",
     "output_type": "stream",
     "text": [
      "\r\n",
      "Collecting chart data from ph: 1260it [34:56,  1.78s/it]"
     ]
    },
    {
     "name": "stdout",
     "output_type": "stream",
     "text": [
      "\n",
      "Date: 2020-06-14\n",
      "https://spotifycharts.com/regional/ph/daily/2020-06-14/download\n"
     ]
    },
    {
     "name": "stderr",
     "output_type": "stream",
     "text": [
      "\r\n",
      "Collecting chart data from ph: 1261it [34:58,  1.76s/it]"
     ]
    },
    {
     "name": "stdout",
     "output_type": "stream",
     "text": [
      "\n",
      "Date: 2020-06-15\n",
      "https://spotifycharts.com/regional/ph/daily/2020-06-15/download\n"
     ]
    },
    {
     "name": "stderr",
     "output_type": "stream",
     "text": [
      "\r\n",
      "Collecting chart data from ph: 1262it [35:00,  1.76s/it]"
     ]
    },
    {
     "name": "stdout",
     "output_type": "stream",
     "text": [
      "\n",
      "Date: 2020-06-16\n",
      "https://spotifycharts.com/regional/ph/daily/2020-06-16/download\n"
     ]
    },
    {
     "name": "stderr",
     "output_type": "stream",
     "text": [
      "\r\n",
      "Collecting chart data from ph: 1263it [35:01,  1.73s/it]"
     ]
    },
    {
     "name": "stdout",
     "output_type": "stream",
     "text": [
      "\n",
      "Date: 2020-06-17\n",
      "https://spotifycharts.com/regional/ph/daily/2020-06-17/download\n"
     ]
    },
    {
     "name": "stderr",
     "output_type": "stream",
     "text": [
      "\r\n",
      "Collecting chart data from ph: 1264it [35:03,  1.76s/it]"
     ]
    },
    {
     "name": "stdout",
     "output_type": "stream",
     "text": [
      "\n",
      "Date: 2020-06-18\n",
      "https://spotifycharts.com/regional/ph/daily/2020-06-18/download\n"
     ]
    },
    {
     "name": "stderr",
     "output_type": "stream",
     "text": [
      "\r\n",
      "Collecting chart data from ph: 1265it [35:05,  1.73s/it]"
     ]
    },
    {
     "name": "stdout",
     "output_type": "stream",
     "text": [
      "\n",
      "Date: 2020-06-19\n",
      "https://spotifycharts.com/regional/ph/daily/2020-06-19/download\n"
     ]
    },
    {
     "name": "stderr",
     "output_type": "stream",
     "text": [
      "\r\n",
      "Collecting chart data from ph: 1266it [35:07,  1.86s/it]"
     ]
    },
    {
     "name": "stdout",
     "output_type": "stream",
     "text": [
      "\n",
      "Date: 2020-06-20\n",
      "https://spotifycharts.com/regional/ph/daily/2020-06-20/download\n"
     ]
    },
    {
     "name": "stderr",
     "output_type": "stream",
     "text": [
      "\r\n",
      "Collecting chart data from ph: 1267it [35:09,  1.93s/it]"
     ]
    },
    {
     "name": "stdout",
     "output_type": "stream",
     "text": [
      "\n",
      "Date: 2020-06-21\n",
      "https://spotifycharts.com/regional/ph/daily/2020-06-21/download\n"
     ]
    },
    {
     "name": "stderr",
     "output_type": "stream",
     "text": [
      "\r\n",
      "Collecting chart data from ph: 1268it [35:11,  1.98s/it]"
     ]
    },
    {
     "name": "stdout",
     "output_type": "stream",
     "text": [
      "\n",
      "Date: 2020-06-22\n",
      "https://spotifycharts.com/regional/ph/daily/2020-06-22/download\n"
     ]
    },
    {
     "name": "stderr",
     "output_type": "stream",
     "text": [
      "\r\n",
      "Collecting chart data from ph: 1269it [35:13,  1.89s/it]"
     ]
    },
    {
     "name": "stdout",
     "output_type": "stream",
     "text": [
      "\n",
      "Date: 2020-06-23\n",
      "https://spotifycharts.com/regional/ph/daily/2020-06-23/download\n"
     ]
    },
    {
     "name": "stderr",
     "output_type": "stream",
     "text": [
      "\r\n",
      "Collecting chart data from ph: 1270it [35:15,  1.85s/it]"
     ]
    },
    {
     "name": "stdout",
     "output_type": "stream",
     "text": [
      "\n",
      "Date: 2020-06-24\n",
      "https://spotifycharts.com/regional/ph/daily/2020-06-24/download\n"
     ]
    },
    {
     "name": "stderr",
     "output_type": "stream",
     "text": [
      "\r\n",
      "Collecting chart data from ph: 1271it [35:16,  1.61s/it]"
     ]
    },
    {
     "name": "stdout",
     "output_type": "stream",
     "text": [
      "\n",
      "Date: 2020-06-25\n",
      "https://spotifycharts.com/regional/ph/daily/2020-06-25/download\n"
     ]
    },
    {
     "name": "stderr",
     "output_type": "stream",
     "text": [
      "\r\n",
      "Collecting chart data from ph: 1272it [35:18,  1.66s/it]"
     ]
    },
    {
     "name": "stdout",
     "output_type": "stream",
     "text": [
      "\n",
      "Date: 2020-06-26\n",
      "https://spotifycharts.com/regional/ph/daily/2020-06-26/download\n"
     ]
    },
    {
     "name": "stderr",
     "output_type": "stream",
     "text": [
      "\r\n",
      "Collecting chart data from ph: 1273it [35:19,  1.66s/it]"
     ]
    },
    {
     "name": "stdout",
     "output_type": "stream",
     "text": [
      "\n",
      "Date: 2020-06-27\n",
      "https://spotifycharts.com/regional/ph/daily/2020-06-27/download\n"
     ]
    },
    {
     "name": "stderr",
     "output_type": "stream",
     "text": [
      "\r\n",
      "Collecting chart data from ph: 1274it [35:21,  1.71s/it]"
     ]
    },
    {
     "name": "stdout",
     "output_type": "stream",
     "text": [
      "\n",
      "Date: 2020-06-28\n",
      "https://spotifycharts.com/regional/ph/daily/2020-06-28/download\n"
     ]
    },
    {
     "name": "stderr",
     "output_type": "stream",
     "text": [
      "\r\n",
      "Collecting chart data from ph: 1275it [35:22,  1.54s/it]"
     ]
    },
    {
     "name": "stdout",
     "output_type": "stream",
     "text": [
      "\n",
      "Date: 2020-06-29\n",
      "https://spotifycharts.com/regional/ph/daily/2020-06-29/download\n"
     ]
    },
    {
     "name": "stderr",
     "output_type": "stream",
     "text": [
      "\r\n",
      "Collecting chart data from ph: 1276it [35:24,  1.59s/it]"
     ]
    },
    {
     "name": "stdout",
     "output_type": "stream",
     "text": [
      "\n",
      "Date: 2020-06-30\n",
      "https://spotifycharts.com/regional/ph/daily/2020-06-30/download\n"
     ]
    },
    {
     "name": "stderr",
     "output_type": "stream",
     "text": [
      "\r\n",
      "Collecting chart data from ph: 1277it [35:25,  1.59s/it]"
     ]
    },
    {
     "name": "stdout",
     "output_type": "stream",
     "text": [
      "\n",
      "Date: 2020-07-01\n",
      "https://spotifycharts.com/regional/ph/daily/2020-07-01/download\n"
     ]
    },
    {
     "name": "stderr",
     "output_type": "stream",
     "text": [
      "\r\n",
      "Collecting chart data from ph: 1278it [35:27,  1.65s/it]"
     ]
    },
    {
     "name": "stdout",
     "output_type": "stream",
     "text": [
      "\n",
      "Date: 2020-07-02\n",
      "https://spotifycharts.com/regional/ph/daily/2020-07-02/download\n"
     ]
    },
    {
     "name": "stderr",
     "output_type": "stream",
     "text": [
      "\r\n",
      "Collecting chart data from ph: 1279it [35:29,  1.68s/it]"
     ]
    },
    {
     "name": "stdout",
     "output_type": "stream",
     "text": [
      "\n",
      "Date: 2020-07-03\n",
      "https://spotifycharts.com/regional/ph/daily/2020-07-03/download\n"
     ]
    },
    {
     "name": "stderr",
     "output_type": "stream",
     "text": [
      "\r\n",
      "Collecting chart data from ph: 1280it [35:31,  1.66s/it]"
     ]
    },
    {
     "name": "stdout",
     "output_type": "stream",
     "text": [
      "\n",
      "Date: 2020-07-04\n",
      "https://spotifycharts.com/regional/ph/daily/2020-07-04/download\n"
     ]
    },
    {
     "name": "stderr",
     "output_type": "stream",
     "text": [
      "\r\n",
      "Collecting chart data from ph: 1281it [35:33,  1.75s/it]"
     ]
    },
    {
     "name": "stdout",
     "output_type": "stream",
     "text": [
      "\n",
      "Date: 2020-07-05\n",
      "https://spotifycharts.com/regional/ph/daily/2020-07-05/download\n"
     ]
    },
    {
     "name": "stderr",
     "output_type": "stream",
     "text": [
      "\r\n",
      "Collecting chart data from ph: 1282it [35:35,  1.86s/it]"
     ]
    },
    {
     "name": "stdout",
     "output_type": "stream",
     "text": [
      "\n",
      "Date: 2020-07-06\n",
      "https://spotifycharts.com/regional/ph/daily/2020-07-06/download\n"
     ]
    },
    {
     "name": "stderr",
     "output_type": "stream",
     "text": [
      "\r\n",
      "Collecting chart data from ph: 1283it [35:36,  1.82s/it]"
     ]
    },
    {
     "name": "stdout",
     "output_type": "stream",
     "text": [
      "\n",
      "Date: 2020-07-07\n",
      "https://spotifycharts.com/regional/ph/daily/2020-07-07/download\n"
     ]
    },
    {
     "name": "stderr",
     "output_type": "stream",
     "text": [
      "\r\n",
      "Collecting chart data from ph: 1284it [35:39,  1.91s/it]"
     ]
    },
    {
     "name": "stdout",
     "output_type": "stream",
     "text": [
      "\n",
      "Date: 2020-07-08\n",
      "https://spotifycharts.com/regional/ph/daily/2020-07-08/download\n"
     ]
    },
    {
     "name": "stderr",
     "output_type": "stream",
     "text": [
      "\r\n",
      "Collecting chart data from ph: 1285it [35:40,  1.91s/it]"
     ]
    },
    {
     "name": "stdout",
     "output_type": "stream",
     "text": [
      "\n",
      "Date: 2020-07-09\n",
      "https://spotifycharts.com/regional/ph/daily/2020-07-09/download\n"
     ]
    },
    {
     "name": "stderr",
     "output_type": "stream",
     "text": [
      "\r\n",
      "Collecting chart data from ph: 1286it [35:42,  1.85s/it]"
     ]
    },
    {
     "name": "stdout",
     "output_type": "stream",
     "text": [
      "\n",
      "Date: 2020-07-10\n",
      "https://spotifycharts.com/regional/ph/daily/2020-07-10/download\n"
     ]
    },
    {
     "name": "stderr",
     "output_type": "stream",
     "text": [
      "\r\n",
      "Collecting chart data from ph: 1287it [35:45,  2.01s/it]"
     ]
    },
    {
     "name": "stdout",
     "output_type": "stream",
     "text": [
      "\n",
      "Date: 2020-07-11\n",
      "https://spotifycharts.com/regional/ph/daily/2020-07-11/download\n"
     ]
    },
    {
     "name": "stderr",
     "output_type": "stream",
     "text": [
      "\r\n",
      "Collecting chart data from ph: 1288it [35:46,  1.91s/it]"
     ]
    },
    {
     "name": "stdout",
     "output_type": "stream",
     "text": [
      "\n",
      "Date: 2020-07-12\n",
      "https://spotifycharts.com/regional/ph/daily/2020-07-12/download\n"
     ]
    },
    {
     "name": "stderr",
     "output_type": "stream",
     "text": [
      "\r\n",
      "Collecting chart data from ph: 1289it [35:48,  1.86s/it]"
     ]
    },
    {
     "name": "stdout",
     "output_type": "stream",
     "text": [
      "\n",
      "Date: 2020-07-13\n",
      "https://spotifycharts.com/regional/ph/daily/2020-07-13/download\n"
     ]
    },
    {
     "name": "stderr",
     "output_type": "stream",
     "text": [
      "\r\n",
      "Collecting chart data from ph: 1290it [35:50,  1.80s/it]"
     ]
    },
    {
     "name": "stdout",
     "output_type": "stream",
     "text": [
      "\n",
      "Date: 2020-07-14\n",
      "https://spotifycharts.com/regional/ph/daily/2020-07-14/download\n"
     ]
    },
    {
     "name": "stderr",
     "output_type": "stream",
     "text": [
      "\r\n",
      "Collecting chart data from ph: 1291it [35:51,  1.77s/it]"
     ]
    },
    {
     "name": "stdout",
     "output_type": "stream",
     "text": [
      "\n",
      "Date: 2020-07-15\n",
      "https://spotifycharts.com/regional/ph/daily/2020-07-15/download\n"
     ]
    },
    {
     "name": "stderr",
     "output_type": "stream",
     "text": [
      "\r\n",
      "Collecting chart data from ph: 1292it [35:53,  1.74s/it]"
     ]
    },
    {
     "name": "stdout",
     "output_type": "stream",
     "text": [
      "\n",
      "Date: 2020-07-16\n",
      "https://spotifycharts.com/regional/ph/daily/2020-07-16/download\n"
     ]
    },
    {
     "name": "stderr",
     "output_type": "stream",
     "text": [
      "\r\n",
      "Collecting chart data from ph: 1293it [35:55,  1.76s/it]"
     ]
    },
    {
     "name": "stdout",
     "output_type": "stream",
     "text": [
      "\n",
      "Date: 2020-07-17\n",
      "https://spotifycharts.com/regional/ph/daily/2020-07-17/download\n"
     ]
    },
    {
     "name": "stderr",
     "output_type": "stream",
     "text": [
      "\r\n",
      "Collecting chart data from ph: 1294it [35:57,  1.81s/it]"
     ]
    },
    {
     "name": "stdout",
     "output_type": "stream",
     "text": [
      "\n",
      "Date: 2020-07-18\n",
      "https://spotifycharts.com/regional/ph/daily/2020-07-18/download\n"
     ]
    },
    {
     "name": "stderr",
     "output_type": "stream",
     "text": [
      "\r\n",
      "Collecting chart data from ph: 1295it [35:58,  1.64s/it]"
     ]
    },
    {
     "name": "stdout",
     "output_type": "stream",
     "text": [
      "\n",
      "Date: 2020-07-19\n",
      "https://spotifycharts.com/regional/ph/daily/2020-07-19/download\n"
     ]
    },
    {
     "name": "stderr",
     "output_type": "stream",
     "text": [
      "\r\n",
      "Collecting chart data from ph: 1296it [36:00,  1.78s/it]"
     ]
    },
    {
     "name": "stdout",
     "output_type": "stream",
     "text": [
      "\n",
      "Date: 2020-07-20\n",
      "https://spotifycharts.com/regional/ph/daily/2020-07-20/download\n"
     ]
    },
    {
     "name": "stderr",
     "output_type": "stream",
     "text": [
      "\r\n",
      "Collecting chart data from ph: 1297it [36:02,  1.72s/it]"
     ]
    },
    {
     "name": "stdout",
     "output_type": "stream",
     "text": [
      "\n",
      "Date: 2020-07-21\n",
      "https://spotifycharts.com/regional/ph/daily/2020-07-21/download\n"
     ]
    },
    {
     "name": "stderr",
     "output_type": "stream",
     "text": [
      "\r\n",
      "Collecting chart data from ph: 1298it [36:04,  1.97s/it]"
     ]
    },
    {
     "name": "stdout",
     "output_type": "stream",
     "text": [
      "\n",
      "Date: 2020-07-22\n",
      "https://spotifycharts.com/regional/ph/daily/2020-07-22/download\n"
     ]
    },
    {
     "name": "stderr",
     "output_type": "stream",
     "text": [
      "\r\n",
      "Collecting chart data from ph: 1299it [36:06,  1.88s/it]"
     ]
    },
    {
     "name": "stdout",
     "output_type": "stream",
     "text": [
      "\n",
      "Date: 2020-07-23\n",
      "https://spotifycharts.com/regional/ph/daily/2020-07-23/download\n"
     ]
    },
    {
     "name": "stderr",
     "output_type": "stream",
     "text": [
      "\r\n",
      "Collecting chart data from ph: 1300it [36:07,  1.79s/it]"
     ]
    },
    {
     "name": "stdout",
     "output_type": "stream",
     "text": [
      "\n",
      "Date: 2020-07-24\n",
      "https://spotifycharts.com/regional/ph/daily/2020-07-24/download\n"
     ]
    },
    {
     "name": "stderr",
     "output_type": "stream",
     "text": [
      "\r\n",
      "Collecting chart data from ph: 1301it [36:09,  1.73s/it]"
     ]
    },
    {
     "name": "stdout",
     "output_type": "stream",
     "text": [
      "\n",
      "Date: 2020-07-25\n",
      "https://spotifycharts.com/regional/ph/daily/2020-07-25/download\n"
     ]
    },
    {
     "name": "stderr",
     "output_type": "stream",
     "text": [
      "\r\n",
      "Collecting chart data from ph: 1302it [36:10,  1.57s/it]"
     ]
    },
    {
     "name": "stdout",
     "output_type": "stream",
     "text": [
      "\n",
      "Date: 2020-07-26\n",
      "https://spotifycharts.com/regional/ph/daily/2020-07-26/download\n"
     ]
    },
    {
     "name": "stderr",
     "output_type": "stream",
     "text": [
      "\r\n",
      "Collecting chart data from ph: 1303it [36:12,  1.63s/it]"
     ]
    },
    {
     "name": "stdout",
     "output_type": "stream",
     "text": [
      "\n",
      "Date: 2020-07-27\n",
      "https://spotifycharts.com/regional/ph/daily/2020-07-27/download\n"
     ]
    },
    {
     "name": "stderr",
     "output_type": "stream",
     "text": [
      "\r\n",
      "Collecting chart data from ph: 1304it [36:13,  1.52s/it]"
     ]
    },
    {
     "name": "stdout",
     "output_type": "stream",
     "text": [
      "\n",
      "Date: 2020-07-28\n",
      "https://spotifycharts.com/regional/ph/daily/2020-07-28/download\n"
     ]
    },
    {
     "name": "stderr",
     "output_type": "stream",
     "text": [
      "\r\n",
      "Collecting chart data from ph: 1305it [36:15,  1.61s/it]"
     ]
    },
    {
     "name": "stdout",
     "output_type": "stream",
     "text": [
      "\n",
      "Date: 2020-07-29\n",
      "https://spotifycharts.com/regional/ph/daily/2020-07-29/download\n"
     ]
    },
    {
     "name": "stderr",
     "output_type": "stream",
     "text": [
      "\r\n",
      "Collecting chart data from ph: 1306it [36:17,  1.74s/it]"
     ]
    },
    {
     "name": "stdout",
     "output_type": "stream",
     "text": [
      "\n",
      "Date: 2020-07-30\n",
      "https://spotifycharts.com/regional/ph/daily/2020-07-30/download\n"
     ]
    },
    {
     "name": "stderr",
     "output_type": "stream",
     "text": [
      "\r\n",
      "Collecting chart data from ph: 1307it [36:19,  1.86s/it]"
     ]
    },
    {
     "name": "stdout",
     "output_type": "stream",
     "text": [
      "\n",
      "Date: 2020-07-31\n",
      "https://spotifycharts.com/regional/ph/daily/2020-07-31/download\n"
     ]
    },
    {
     "name": "stderr",
     "output_type": "stream",
     "text": [
      "\r\n",
      "Collecting chart data from ph: 1308it [36:22,  2.07s/it]"
     ]
    },
    {
     "name": "stdout",
     "output_type": "stream",
     "text": [
      "\n",
      "Date: 2020-08-01\n",
      "https://spotifycharts.com/regional/ph/daily/2020-08-01/download\n"
     ]
    },
    {
     "name": "stderr",
     "output_type": "stream",
     "text": [
      "\r\n",
      "Collecting chart data from ph: 1309it [36:24,  1.95s/it]"
     ]
    },
    {
     "name": "stdout",
     "output_type": "stream",
     "text": [
      "\n",
      "Date: 2020-08-02\n",
      "https://spotifycharts.com/regional/ph/daily/2020-08-02/download\n"
     ]
    },
    {
     "name": "stderr",
     "output_type": "stream",
     "text": [
      "\r\n",
      "Collecting chart data from ph: 1310it [36:25,  1.91s/it]"
     ]
    },
    {
     "name": "stdout",
     "output_type": "stream",
     "text": [
      "\n",
      "Date: 2020-08-03\n",
      "https://spotifycharts.com/regional/ph/daily/2020-08-03/download\n"
     ]
    },
    {
     "name": "stderr",
     "output_type": "stream",
     "text": [
      "\r\n",
      "Collecting chart data from ph: 1311it [36:27,  1.98s/it]"
     ]
    },
    {
     "name": "stdout",
     "output_type": "stream",
     "text": [
      "\n",
      "Date: 2020-08-04\n",
      "https://spotifycharts.com/regional/ph/daily/2020-08-04/download\n"
     ]
    },
    {
     "name": "stderr",
     "output_type": "stream",
     "text": [
      "\r\n",
      "Collecting chart data from ph: 1312it [36:29,  1.91s/it]"
     ]
    },
    {
     "name": "stdout",
     "output_type": "stream",
     "text": [
      "\n",
      "Date: 2020-08-05\n",
      "https://spotifycharts.com/regional/ph/daily/2020-08-05/download\n"
     ]
    },
    {
     "name": "stderr",
     "output_type": "stream",
     "text": [
      "\r\n",
      "Collecting chart data from ph: 1313it [36:31,  1.82s/it]"
     ]
    },
    {
     "name": "stdout",
     "output_type": "stream",
     "text": [
      "\n",
      "Date: 2020-08-06\n",
      "https://spotifycharts.com/regional/ph/daily/2020-08-06/download\n"
     ]
    },
    {
     "name": "stderr",
     "output_type": "stream",
     "text": [
      "\r\n",
      "Collecting chart data from ph: 1314it [36:33,  1.82s/it]"
     ]
    },
    {
     "name": "stdout",
     "output_type": "stream",
     "text": [
      "\n",
      "Date: 2020-08-07\n",
      "https://spotifycharts.com/regional/ph/daily/2020-08-07/download\n"
     ]
    },
    {
     "name": "stderr",
     "output_type": "stream",
     "text": [
      "\r\n",
      "Collecting chart data from ph: 1315it [36:34,  1.71s/it]"
     ]
    },
    {
     "name": "stdout",
     "output_type": "stream",
     "text": [
      "\n",
      "Date: 2020-08-08\n",
      "https://spotifycharts.com/regional/ph/daily/2020-08-08/download\n"
     ]
    },
    {
     "name": "stderr",
     "output_type": "stream",
     "text": [
      "\r\n",
      "Collecting chart data from ph: 1316it [36:36,  1.69s/it]"
     ]
    },
    {
     "name": "stdout",
     "output_type": "stream",
     "text": [
      "\n",
      "Date: 2020-08-09\n",
      "https://spotifycharts.com/regional/ph/daily/2020-08-09/download\n"
     ]
    },
    {
     "name": "stderr",
     "output_type": "stream",
     "text": [
      "\r\n",
      "Collecting chart data from ph: 1317it [36:37,  1.65s/it]"
     ]
    },
    {
     "name": "stdout",
     "output_type": "stream",
     "text": [
      "\n",
      "Date: 2020-08-10\n",
      "https://spotifycharts.com/regional/ph/daily/2020-08-10/download\n"
     ]
    },
    {
     "name": "stderr",
     "output_type": "stream",
     "text": [
      "\r\n",
      "Collecting chart data from ph: 1318it [36:39,  1.65s/it]"
     ]
    },
    {
     "name": "stdout",
     "output_type": "stream",
     "text": [
      "\n",
      "Date: 2020-08-11\n",
      "https://spotifycharts.com/regional/ph/daily/2020-08-11/download\n"
     ]
    },
    {
     "name": "stderr",
     "output_type": "stream",
     "text": [
      "\r\n",
      "Collecting chart data from ph: 1319it [36:40,  1.50s/it]"
     ]
    },
    {
     "name": "stdout",
     "output_type": "stream",
     "text": [
      "\n",
      "Date: 2020-08-12\n",
      "https://spotifycharts.com/regional/ph/daily/2020-08-12/download\n"
     ]
    },
    {
     "name": "stderr",
     "output_type": "stream",
     "text": [
      "\r\n",
      "Collecting chart data from ph: 1320it [36:42,  1.62s/it]"
     ]
    },
    {
     "name": "stdout",
     "output_type": "stream",
     "text": [
      "\n",
      "Date: 2020-08-13\n",
      "https://spotifycharts.com/regional/ph/daily/2020-08-13/download\n"
     ]
    },
    {
     "name": "stderr",
     "output_type": "stream",
     "text": [
      "\r\n",
      "Collecting chart data from ph: 1321it [36:44,  1.62s/it]"
     ]
    },
    {
     "name": "stdout",
     "output_type": "stream",
     "text": [
      "\n",
      "Date: 2020-08-14\n",
      "https://spotifycharts.com/regional/ph/daily/2020-08-14/download\n"
     ]
    },
    {
     "name": "stderr",
     "output_type": "stream",
     "text": [
      "\r\n",
      "Collecting chart data from ph: 1322it [36:45,  1.60s/it]"
     ]
    },
    {
     "name": "stdout",
     "output_type": "stream",
     "text": [
      "\n",
      "Date: 2020-08-15\n",
      "https://spotifycharts.com/regional/ph/daily/2020-08-15/download\n"
     ]
    },
    {
     "name": "stderr",
     "output_type": "stream",
     "text": [
      "\r\n",
      "Collecting chart data from ph: 1323it [36:47,  1.52s/it]"
     ]
    },
    {
     "name": "stdout",
     "output_type": "stream",
     "text": [
      "\n",
      "Date: 2020-08-16\n",
      "https://spotifycharts.com/regional/ph/daily/2020-08-16/download\n"
     ]
    },
    {
     "name": "stderr",
     "output_type": "stream",
     "text": [
      "\r\n",
      "Collecting chart data from ph: 1324it [36:49,  1.66s/it]"
     ]
    },
    {
     "name": "stdout",
     "output_type": "stream",
     "text": [
      "\n",
      "Date: 2020-08-17\n",
      "https://spotifycharts.com/regional/ph/daily/2020-08-17/download\n"
     ]
    },
    {
     "name": "stderr",
     "output_type": "stream",
     "text": [
      "\r\n",
      "Collecting chart data from ph: 1325it [36:50,  1.51s/it]"
     ]
    },
    {
     "name": "stdout",
     "output_type": "stream",
     "text": [
      "\n",
      "Date: 2020-08-18\n",
      "https://spotifycharts.com/regional/ph/daily/2020-08-18/download\n"
     ]
    },
    {
     "name": "stderr",
     "output_type": "stream",
     "text": [
      "\r\n",
      "Collecting chart data from ph: 1326it [36:51,  1.55s/it]"
     ]
    },
    {
     "name": "stdout",
     "output_type": "stream",
     "text": [
      "\n",
      "Date: 2020-08-19\n",
      "https://spotifycharts.com/regional/ph/daily/2020-08-19/download\n"
     ]
    },
    {
     "name": "stderr",
     "output_type": "stream",
     "text": [
      "\r\n",
      "Collecting chart data from ph: 1327it [36:53,  1.58s/it]"
     ]
    },
    {
     "name": "stdout",
     "output_type": "stream",
     "text": [
      "\n",
      "Date: 2020-08-20\n",
      "https://spotifycharts.com/regional/ph/daily/2020-08-20/download\n"
     ]
    },
    {
     "name": "stderr",
     "output_type": "stream",
     "text": [
      "\r\n",
      "Collecting chart data from ph: 1328it [36:55,  1.59s/it]"
     ]
    },
    {
     "name": "stdout",
     "output_type": "stream",
     "text": [
      "\n",
      "Date: 2020-08-21\n",
      "https://spotifycharts.com/regional/ph/daily/2020-08-21/download\n"
     ]
    },
    {
     "name": "stderr",
     "output_type": "stream",
     "text": [
      "\r\n",
      "Collecting chart data from ph: 1329it [36:56,  1.62s/it]"
     ]
    },
    {
     "name": "stdout",
     "output_type": "stream",
     "text": [
      "\n",
      "Date: 2020-08-22\n",
      "https://spotifycharts.com/regional/ph/daily/2020-08-22/download\n"
     ]
    },
    {
     "name": "stderr",
     "output_type": "stream",
     "text": [
      "\r\n",
      "Collecting chart data from ph: 1330it [36:58,  1.65s/it]"
     ]
    },
    {
     "name": "stdout",
     "output_type": "stream",
     "text": [
      "\n",
      "Date: 2020-08-23\n",
      "https://spotifycharts.com/regional/ph/daily/2020-08-23/download\n"
     ]
    },
    {
     "name": "stderr",
     "output_type": "stream",
     "text": [
      "\r\n",
      "Collecting chart data from ph: 1331it [37:00,  1.68s/it]"
     ]
    },
    {
     "name": "stdout",
     "output_type": "stream",
     "text": [
      "\n",
      "Date: 2020-08-24\n",
      "https://spotifycharts.com/regional/ph/daily/2020-08-24/download\n"
     ]
    },
    {
     "name": "stderr",
     "output_type": "stream",
     "text": [
      "\r\n",
      "Collecting chart data from ph: 1332it [37:01,  1.68s/it]"
     ]
    },
    {
     "name": "stdout",
     "output_type": "stream",
     "text": [
      "\n",
      "Date: 2020-08-25\n",
      "https://spotifycharts.com/regional/ph/daily/2020-08-25/download\n"
     ]
    },
    {
     "name": "stderr",
     "output_type": "stream",
     "text": [
      "\r\n",
      "Collecting chart data from ph: 1333it [37:03,  1.72s/it]"
     ]
    },
    {
     "name": "stdout",
     "output_type": "stream",
     "text": [
      "\n",
      "Date: 2020-08-26\n",
      "https://spotifycharts.com/regional/ph/daily/2020-08-26/download\n"
     ]
    },
    {
     "name": "stderr",
     "output_type": "stream",
     "text": [
      "\r\n",
      "Collecting chart data from ph: 1334it [37:05,  1.70s/it]"
     ]
    },
    {
     "name": "stdout",
     "output_type": "stream",
     "text": [
      "\n",
      "Date: 2020-08-27\n",
      "https://spotifycharts.com/regional/ph/daily/2020-08-27/download\n"
     ]
    },
    {
     "name": "stderr",
     "output_type": "stream",
     "text": [
      "\r\n",
      "Collecting chart data from ph: 1335it [37:07,  1.68s/it]"
     ]
    },
    {
     "name": "stdout",
     "output_type": "stream",
     "text": [
      "\n",
      "Date: 2020-08-28\n",
      "https://spotifycharts.com/regional/ph/daily/2020-08-28/download\n"
     ]
    },
    {
     "name": "stderr",
     "output_type": "stream",
     "text": [
      "\r\n",
      "Collecting chart data from ph: 1336it [37:08,  1.72s/it]"
     ]
    },
    {
     "name": "stdout",
     "output_type": "stream",
     "text": [
      "\n",
      "Date: 2020-08-29\n",
      "https://spotifycharts.com/regional/ph/daily/2020-08-29/download\n"
     ]
    },
    {
     "name": "stderr",
     "output_type": "stream",
     "text": [
      "\r\n",
      "Collecting chart data from ph: 1337it [37:10,  1.83s/it]"
     ]
    },
    {
     "name": "stdout",
     "output_type": "stream",
     "text": [
      "\n",
      "Date: 2020-08-30\n",
      "https://spotifycharts.com/regional/ph/daily/2020-08-30/download\n"
     ]
    },
    {
     "name": "stderr",
     "output_type": "stream",
     "text": [
      "\r\n",
      "Collecting chart data from ph: 1338it [37:12,  1.81s/it]"
     ]
    },
    {
     "name": "stdout",
     "output_type": "stream",
     "text": [
      "\n",
      "Date: 2020-08-31\n",
      "https://spotifycharts.com/regional/ph/daily/2020-08-31/download\n"
     ]
    },
    {
     "name": "stderr",
     "output_type": "stream",
     "text": [
      "\r\n",
      "Collecting chart data from ph: 1339it [37:14,  1.75s/it]"
     ]
    },
    {
     "name": "stdout",
     "output_type": "stream",
     "text": [
      "\n",
      "Date: 2020-09-01\n",
      "https://spotifycharts.com/regional/ph/daily/2020-09-01/download\n"
     ]
    },
    {
     "name": "stderr",
     "output_type": "stream",
     "text": [
      "\r\n",
      "Collecting chart data from ph: 1340it [37:16,  1.78s/it]"
     ]
    },
    {
     "name": "stdout",
     "output_type": "stream",
     "text": [
      "\n",
      "Date: 2020-09-02\n",
      "https://spotifycharts.com/regional/ph/daily/2020-09-02/download\n"
     ]
    },
    {
     "name": "stderr",
     "output_type": "stream",
     "text": [
      "\r\n",
      "Collecting chart data from ph: 1341it [37:18,  1.84s/it]"
     ]
    },
    {
     "name": "stdout",
     "output_type": "stream",
     "text": [
      "\n",
      "Date: 2020-09-03\n",
      "https://spotifycharts.com/regional/ph/daily/2020-09-03/download\n"
     ]
    },
    {
     "name": "stderr",
     "output_type": "stream",
     "text": [
      "\r\n",
      "Collecting chart data from ph: 1342it [37:19,  1.66s/it]"
     ]
    },
    {
     "name": "stdout",
     "output_type": "stream",
     "text": [
      "\n",
      "Date: 2020-09-04\n",
      "https://spotifycharts.com/regional/ph/daily/2020-09-04/download\n"
     ]
    },
    {
     "name": "stderr",
     "output_type": "stream",
     "text": [
      "\r\n",
      "Collecting chart data from ph: 1343it [37:21,  1.69s/it]"
     ]
    },
    {
     "name": "stdout",
     "output_type": "stream",
     "text": [
      "\n",
      "Date: 2020-09-05\n",
      "https://spotifycharts.com/regional/ph/daily/2020-09-05/download\n"
     ]
    },
    {
     "name": "stderr",
     "output_type": "stream",
     "text": [
      "\r\n",
      "Collecting chart data from ph: 1344it [37:22,  1.67s/it]"
     ]
    },
    {
     "name": "stdout",
     "output_type": "stream",
     "text": [
      "\n",
      "Date: 2020-09-06\n",
      "https://spotifycharts.com/regional/ph/daily/2020-09-06/download\n"
     ]
    },
    {
     "name": "stderr",
     "output_type": "stream",
     "text": [
      "\r\n",
      "Collecting chart data from ph: 1345it [37:24,  1.66s/it]"
     ]
    },
    {
     "name": "stdout",
     "output_type": "stream",
     "text": [
      "\n",
      "Date: 2020-09-07\n",
      "https://spotifycharts.com/regional/ph/daily/2020-09-07/download\n"
     ]
    },
    {
     "name": "stderr",
     "output_type": "stream",
     "text": [
      "\r\n",
      "Collecting chart data from ph: 1346it [37:26,  1.72s/it]"
     ]
    },
    {
     "name": "stdout",
     "output_type": "stream",
     "text": [
      "\n",
      "Date: 2020-09-08\n",
      "https://spotifycharts.com/regional/ph/daily/2020-09-08/download\n"
     ]
    },
    {
     "name": "stderr",
     "output_type": "stream",
     "text": [
      "\r\n",
      "Collecting chart data from ph: 1347it [37:27,  1.71s/it]"
     ]
    },
    {
     "name": "stdout",
     "output_type": "stream",
     "text": [
      "\n",
      "Date: 2020-09-09\n",
      "https://spotifycharts.com/regional/ph/daily/2020-09-09/download\n"
     ]
    },
    {
     "name": "stderr",
     "output_type": "stream",
     "text": [
      "\r\n",
      "Collecting chart data from ph: 1348it [37:29,  1.79s/it]"
     ]
    },
    {
     "name": "stdout",
     "output_type": "stream",
     "text": [
      "\n",
      "Date: 2020-09-10\n",
      "https://spotifycharts.com/regional/ph/daily/2020-09-10/download\n"
     ]
    },
    {
     "name": "stderr",
     "output_type": "stream",
     "text": [
      "\r\n",
      "Collecting chart data from ph: 1349it [37:31,  1.78s/it]"
     ]
    },
    {
     "name": "stdout",
     "output_type": "stream",
     "text": [
      "\n",
      "Date: 2020-09-11\n",
      "https://spotifycharts.com/regional/ph/daily/2020-09-11/download\n"
     ]
    },
    {
     "name": "stderr",
     "output_type": "stream",
     "text": [
      "\r\n",
      "Collecting chart data from ph: 1350it [37:33,  1.78s/it]"
     ]
    },
    {
     "name": "stdout",
     "output_type": "stream",
     "text": [
      "\n",
      "Date: 2020-09-12\n",
      "https://spotifycharts.com/regional/ph/daily/2020-09-12/download\n"
     ]
    },
    {
     "name": "stderr",
     "output_type": "stream",
     "text": [
      "\r\n",
      "Collecting chart data from ph: 1351it [37:35,  1.83s/it]"
     ]
    },
    {
     "name": "stdout",
     "output_type": "stream",
     "text": [
      "\n",
      "Date: 2020-09-13\n",
      "https://spotifycharts.com/regional/ph/daily/2020-09-13/download\n"
     ]
    },
    {
     "name": "stderr",
     "output_type": "stream",
     "text": [
      "\r\n",
      "Collecting chart data from ph: 1352it [37:37,  1.83s/it]"
     ]
    },
    {
     "name": "stdout",
     "output_type": "stream",
     "text": [
      "\n",
      "Date: 2020-09-14\n",
      "https://spotifycharts.com/regional/ph/daily/2020-09-14/download\n"
     ]
    },
    {
     "name": "stderr",
     "output_type": "stream",
     "text": [
      "\r\n",
      "Collecting chart data from ph: 1353it [37:39,  1.82s/it]"
     ]
    },
    {
     "name": "stdout",
     "output_type": "stream",
     "text": [
      "\n",
      "Date: 2020-09-15\n",
      "https://spotifycharts.com/regional/ph/daily/2020-09-15/download\n"
     ]
    },
    {
     "name": "stderr",
     "output_type": "stream",
     "text": [
      "\r\n",
      "Collecting chart data from ph: 1354it [37:40,  1.64s/it]"
     ]
    },
    {
     "name": "stdout",
     "output_type": "stream",
     "text": [
      "\n",
      "Date: 2020-09-16\n",
      "https://spotifycharts.com/regional/ph/daily/2020-09-16/download\n"
     ]
    },
    {
     "name": "stderr",
     "output_type": "stream",
     "text": [
      "\r\n",
      "Collecting chart data from ph: 1355it [37:42,  1.81s/it]"
     ]
    },
    {
     "name": "stdout",
     "output_type": "stream",
     "text": [
      "\n",
      "Date: 2020-09-17\n",
      "https://spotifycharts.com/regional/ph/daily/2020-09-17/download\n"
     ]
    },
    {
     "name": "stderr",
     "output_type": "stream",
     "text": [
      "\r\n",
      "Collecting chart data from ph: 1356it [37:44,  1.77s/it]"
     ]
    },
    {
     "name": "stdout",
     "output_type": "stream",
     "text": [
      "\n",
      "Date: 2020-09-18\n",
      "https://spotifycharts.com/regional/ph/daily/2020-09-18/download\n"
     ]
    },
    {
     "name": "stderr",
     "output_type": "stream",
     "text": [
      "\r\n",
      "Collecting chart data from ph: 1357it [37:45,  1.77s/it]"
     ]
    },
    {
     "name": "stdout",
     "output_type": "stream",
     "text": [
      "\n",
      "Date: 2020-09-19\n",
      "https://spotifycharts.com/regional/ph/daily/2020-09-19/download\n"
     ]
    },
    {
     "name": "stderr",
     "output_type": "stream",
     "text": [
      "\r\n",
      "Collecting chart data from ph: 1358it [37:47,  1.74s/it]"
     ]
    },
    {
     "name": "stdout",
     "output_type": "stream",
     "text": [
      "\n",
      "Date: 2020-09-20\n",
      "https://spotifycharts.com/regional/ph/daily/2020-09-20/download\n"
     ]
    },
    {
     "name": "stderr",
     "output_type": "stream",
     "text": [
      "\r\n",
      "Collecting chart data from ph: 1359it [37:49,  1.73s/it]"
     ]
    },
    {
     "name": "stdout",
     "output_type": "stream",
     "text": [
      "\n",
      "Date: 2020-09-21\n",
      "https://spotifycharts.com/regional/ph/daily/2020-09-21/download\n"
     ]
    },
    {
     "name": "stderr",
     "output_type": "stream",
     "text": [
      "\r\n",
      "Collecting chart data from ph: 1360it [37:50,  1.72s/it]"
     ]
    },
    {
     "name": "stdout",
     "output_type": "stream",
     "text": [
      "\n",
      "Date: 2020-09-22\n",
      "https://spotifycharts.com/regional/ph/daily/2020-09-22/download\n"
     ]
    },
    {
     "name": "stderr",
     "output_type": "stream",
     "text": [
      "\r\n",
      "Collecting chart data from ph: 1361it [37:52,  1.72s/it]"
     ]
    },
    {
     "name": "stdout",
     "output_type": "stream",
     "text": [
      "\n",
      "Date: 2020-09-23\n",
      "https://spotifycharts.com/regional/ph/daily/2020-09-23/download\n"
     ]
    },
    {
     "name": "stderr",
     "output_type": "stream",
     "text": [
      "\r\n",
      "Collecting chart data from ph: 1362it [37:54,  1.87s/it]"
     ]
    },
    {
     "name": "stdout",
     "output_type": "stream",
     "text": [
      "\n",
      "Date: 2020-09-24\n",
      "https://spotifycharts.com/regional/ph/daily/2020-09-24/download\n"
     ]
    },
    {
     "name": "stderr",
     "output_type": "stream",
     "text": [
      "\r\n",
      "Collecting chart data from ph: 1363it [37:56,  1.84s/it]"
     ]
    },
    {
     "name": "stdout",
     "output_type": "stream",
     "text": [
      "\n",
      "Date: 2020-09-25\n",
      "https://spotifycharts.com/regional/ph/daily/2020-09-25/download\n"
     ]
    },
    {
     "name": "stderr",
     "output_type": "stream",
     "text": [
      "\r\n",
      "Collecting chart data from ph: 1364it [37:58,  1.79s/it]"
     ]
    },
    {
     "name": "stdout",
     "output_type": "stream",
     "text": [
      "\n",
      "Date: 2020-09-26\n",
      "https://spotifycharts.com/regional/ph/daily/2020-09-26/download\n"
     ]
    },
    {
     "name": "stderr",
     "output_type": "stream",
     "text": [
      "\r\n",
      "Collecting chart data from ph: 1365it [38:00,  1.76s/it]"
     ]
    },
    {
     "name": "stdout",
     "output_type": "stream",
     "text": [
      "\n",
      "Date: 2020-09-27\n",
      "https://spotifycharts.com/regional/ph/daily/2020-09-27/download\n"
     ]
    },
    {
     "name": "stderr",
     "output_type": "stream",
     "text": [
      "\r\n",
      "Collecting chart data from ph: 1366it [38:01,  1.72s/it]"
     ]
    },
    {
     "name": "stdout",
     "output_type": "stream",
     "text": [
      "\n",
      "Date: 2020-09-28\n",
      "https://spotifycharts.com/regional/ph/daily/2020-09-28/download\n"
     ]
    },
    {
     "name": "stderr",
     "output_type": "stream",
     "text": [
      "\r\n",
      "Collecting chart data from ph: 1367it [38:03,  1.78s/it]"
     ]
    },
    {
     "name": "stdout",
     "output_type": "stream",
     "text": [
      "\n",
      "Date: 2020-09-29\n",
      "https://spotifycharts.com/regional/ph/daily/2020-09-29/download\n"
     ]
    },
    {
     "name": "stderr",
     "output_type": "stream",
     "text": [
      "\r\n",
      "Collecting chart data from ph: 1368it [38:05,  1.73s/it]"
     ]
    },
    {
     "name": "stdout",
     "output_type": "stream",
     "text": [
      "\n",
      "Date: 2020-09-30\n",
      "https://spotifycharts.com/regional/ph/daily/2020-09-30/download\n"
     ]
    },
    {
     "name": "stderr",
     "output_type": "stream",
     "text": [
      "\r\n",
      "Collecting chart data from ph: 1369it [38:06,  1.56s/it]"
     ]
    },
    {
     "name": "stdout",
     "output_type": "stream",
     "text": [
      "\n",
      "Date: 2020-10-01\n",
      "https://spotifycharts.com/regional/ph/daily/2020-10-01/download\n"
     ]
    },
    {
     "name": "stderr",
     "output_type": "stream",
     "text": [
      "\r\n",
      "Collecting chart data from ph: 1370it [38:07,  1.46s/it]"
     ]
    },
    {
     "name": "stdout",
     "output_type": "stream",
     "text": [
      "\n",
      "Date: 2020-10-02\n",
      "https://spotifycharts.com/regional/ph/daily/2020-10-02/download\n"
     ]
    },
    {
     "name": "stderr",
     "output_type": "stream",
     "text": [
      "\r\n",
      "Collecting chart data from ph: 1371it [38:09,  1.62s/it]"
     ]
    },
    {
     "name": "stdout",
     "output_type": "stream",
     "text": [
      "\n",
      "Date: 2020-10-03\n",
      "https://spotifycharts.com/regional/ph/daily/2020-10-03/download\n"
     ]
    },
    {
     "name": "stderr",
     "output_type": "stream",
     "text": [
      "\r\n",
      "Collecting chart data from ph: 1372it [38:11,  1.66s/it]"
     ]
    },
    {
     "name": "stdout",
     "output_type": "stream",
     "text": [
      "\n",
      "Date: 2020-10-04\n",
      "https://spotifycharts.com/regional/ph/daily/2020-10-04/download\n"
     ]
    },
    {
     "name": "stderr",
     "output_type": "stream",
     "text": [
      "\r\n",
      "Collecting chart data from ph: 1373it [38:13,  1.71s/it]"
     ]
    },
    {
     "name": "stdout",
     "output_type": "stream",
     "text": [
      "\n",
      "Date: 2020-10-05\n",
      "https://spotifycharts.com/regional/ph/daily/2020-10-05/download\n"
     ]
    },
    {
     "name": "stderr",
     "output_type": "stream",
     "text": [
      "\r\n",
      "Collecting chart data from ph: 1374it [38:14,  1.71s/it]"
     ]
    },
    {
     "name": "stdout",
     "output_type": "stream",
     "text": [
      "\n",
      "Date: 2020-10-06\n",
      "https://spotifycharts.com/regional/ph/daily/2020-10-06/download\n"
     ]
    },
    {
     "name": "stderr",
     "output_type": "stream",
     "text": [
      "\r\n",
      "Collecting chart data from ph: 1375it [38:16,  1.69s/it]"
     ]
    },
    {
     "name": "stdout",
     "output_type": "stream",
     "text": [
      "\n",
      "Date: 2020-10-07\n",
      "https://spotifycharts.com/regional/ph/daily/2020-10-07/download\n"
     ]
    },
    {
     "name": "stderr",
     "output_type": "stream",
     "text": [
      "\r\n",
      "Collecting chart data from ph: 1376it [38:18,  1.70s/it]"
     ]
    },
    {
     "name": "stdout",
     "output_type": "stream",
     "text": [
      "\n",
      "Date: 2020-10-08\n",
      "https://spotifycharts.com/regional/ph/daily/2020-10-08/download\n"
     ]
    },
    {
     "name": "stderr",
     "output_type": "stream",
     "text": [
      "\r\n",
      "Collecting chart data from ph: 1377it [38:20,  1.73s/it]"
     ]
    },
    {
     "name": "stdout",
     "output_type": "stream",
     "text": [
      "\n",
      "Date: 2020-10-09\n",
      "https://spotifycharts.com/regional/ph/daily/2020-10-09/download\n"
     ]
    },
    {
     "name": "stderr",
     "output_type": "stream",
     "text": [
      "\r\n",
      "Collecting chart data from ph: 1378it [38:21,  1.72s/it]"
     ]
    },
    {
     "name": "stdout",
     "output_type": "stream",
     "text": [
      "\n",
      "Date: 2020-10-10\n",
      "https://spotifycharts.com/regional/ph/daily/2020-10-10/download\n"
     ]
    },
    {
     "name": "stderr",
     "output_type": "stream",
     "text": [
      "\r\n",
      "Collecting chart data from ph: 1379it [38:23,  1.70s/it]"
     ]
    },
    {
     "name": "stdout",
     "output_type": "stream",
     "text": [
      "\n",
      "Date: 2020-10-11\n",
      "https://spotifycharts.com/regional/ph/daily/2020-10-11/download\n"
     ]
    },
    {
     "name": "stderr",
     "output_type": "stream",
     "text": [
      "\r\n",
      "Collecting chart data from ph: 1380it [38:25,  1.69s/it]"
     ]
    },
    {
     "name": "stdout",
     "output_type": "stream",
     "text": [
      "\n",
      "Date: 2020-10-12\n",
      "https://spotifycharts.com/regional/ph/daily/2020-10-12/download\n"
     ]
    },
    {
     "name": "stderr",
     "output_type": "stream",
     "text": [
      "\r\n",
      "Collecting chart data from ph: 1381it [38:26,  1.66s/it]"
     ]
    },
    {
     "name": "stdout",
     "output_type": "stream",
     "text": [
      "\n",
      "Date: 2020-10-13\n",
      "https://spotifycharts.com/regional/ph/daily/2020-10-13/download\n"
     ]
    },
    {
     "name": "stderr",
     "output_type": "stream",
     "text": [
      "\r\n",
      "Collecting chart data from ph: 1382it [38:27,  1.51s/it]"
     ]
    },
    {
     "name": "stdout",
     "output_type": "stream",
     "text": [
      "\n",
      "Date: 2020-10-14\n",
      "https://spotifycharts.com/regional/ph/daily/2020-10-14/download\n"
     ]
    },
    {
     "name": "stderr",
     "output_type": "stream",
     "text": [
      "\r\n",
      "Collecting chart data from ph: 1383it [38:29,  1.43s/it]"
     ]
    },
    {
     "name": "stdout",
     "output_type": "stream",
     "text": [
      "\n",
      "Date: 2020-10-15\n",
      "https://spotifycharts.com/regional/ph/daily/2020-10-15/download\n"
     ]
    },
    {
     "name": "stderr",
     "output_type": "stream",
     "text": [
      "\r\n",
      "Collecting chart data from ph: 1384it [38:30,  1.51s/it]"
     ]
    },
    {
     "name": "stdout",
     "output_type": "stream",
     "text": [
      "\n",
      "Date: 2020-10-16\n",
      "https://spotifycharts.com/regional/ph/daily/2020-10-16/download\n"
     ]
    },
    {
     "name": "stderr",
     "output_type": "stream",
     "text": [
      "\r\n",
      "Collecting chart data from ph: 1385it [38:32,  1.73s/it]"
     ]
    },
    {
     "name": "stdout",
     "output_type": "stream",
     "text": [
      "\n",
      "Date: 2020-10-17\n",
      "https://spotifycharts.com/regional/ph/daily/2020-10-17/download\n"
     ]
    },
    {
     "name": "stderr",
     "output_type": "stream",
     "text": [
      "\r\n",
      "Collecting chart data from ph: 1386it [38:34,  1.77s/it]"
     ]
    },
    {
     "name": "stdout",
     "output_type": "stream",
     "text": [
      "\n",
      "Date: 2020-10-18\n",
      "https://spotifycharts.com/regional/ph/daily/2020-10-18/download\n"
     ]
    },
    {
     "name": "stderr",
     "output_type": "stream",
     "text": [
      "\r\n",
      "Collecting chart data from ph: 1387it [38:36,  1.77s/it]"
     ]
    },
    {
     "name": "stdout",
     "output_type": "stream",
     "text": [
      "\n",
      "Date: 2020-10-19\n",
      "https://spotifycharts.com/regional/ph/daily/2020-10-19/download\n"
     ]
    },
    {
     "name": "stderr",
     "output_type": "stream",
     "text": [
      "\r\n",
      "Collecting chart data from ph: 1388it [38:38,  1.92s/it]"
     ]
    },
    {
     "name": "stdout",
     "output_type": "stream",
     "text": [
      "\n",
      "Date: 2020-10-20\n",
      "https://spotifycharts.com/regional/ph/daily/2020-10-20/download\n"
     ]
    },
    {
     "name": "stderr",
     "output_type": "stream",
     "text": [
      "\r\n",
      "Collecting chart data from ph: 1389it [38:40,  1.96s/it]"
     ]
    },
    {
     "name": "stdout",
     "output_type": "stream",
     "text": [
      "\n",
      "Date: 2020-10-21\n",
      "https://spotifycharts.com/regional/ph/daily/2020-10-21/download\n"
     ]
    },
    {
     "name": "stderr",
     "output_type": "stream",
     "text": [
      "\r\n",
      "Collecting chart data from ph: 1390it [38:42,  1.88s/it]"
     ]
    },
    {
     "name": "stdout",
     "output_type": "stream",
     "text": [
      "\n",
      "Date: 2020-10-22\n",
      "https://spotifycharts.com/regional/ph/daily/2020-10-22/download\n"
     ]
    },
    {
     "name": "stderr",
     "output_type": "stream",
     "text": [
      "\r\n",
      "Collecting chart data from ph: 1391it [38:44,  1.81s/it]"
     ]
    },
    {
     "name": "stdout",
     "output_type": "stream",
     "text": [
      "\n",
      "Date: 2020-10-23\n",
      "https://spotifycharts.com/regional/ph/daily/2020-10-23/download\n"
     ]
    },
    {
     "name": "stderr",
     "output_type": "stream",
     "text": [
      "\r\n",
      "Collecting chart data from ph: 1392it [38:45,  1.77s/it]"
     ]
    },
    {
     "name": "stdout",
     "output_type": "stream",
     "text": [
      "\n",
      "Date: 2020-10-24\n",
      "https://spotifycharts.com/regional/ph/daily/2020-10-24/download\n"
     ]
    },
    {
     "name": "stderr",
     "output_type": "stream",
     "text": [
      "\r\n",
      "Collecting chart data from ph: 1393it [38:47,  1.72s/it]"
     ]
    },
    {
     "name": "stdout",
     "output_type": "stream",
     "text": [
      "\n",
      "Date: 2020-10-25\n",
      "https://spotifycharts.com/regional/ph/daily/2020-10-25/download\n"
     ]
    },
    {
     "name": "stderr",
     "output_type": "stream",
     "text": [
      "\r\n",
      "Collecting chart data from ph: 1394it [38:48,  1.57s/it]"
     ]
    },
    {
     "name": "stdout",
     "output_type": "stream",
     "text": [
      "\n",
      "Date: 2020-10-26\n",
      "https://spotifycharts.com/regional/ph/daily/2020-10-26/download\n"
     ]
    },
    {
     "name": "stderr",
     "output_type": "stream",
     "text": [
      "\r\n",
      "Collecting chart data from ph: 1395it [38:49,  1.42s/it]"
     ]
    },
    {
     "name": "stdout",
     "output_type": "stream",
     "text": [
      "\n",
      "Date: 2020-10-27\n",
      "https://spotifycharts.com/regional/ph/daily/2020-10-27/download\n"
     ]
    },
    {
     "name": "stderr",
     "output_type": "stream",
     "text": [
      "\r\n",
      "Collecting chart data from ph: 1396it [38:51,  1.37s/it]"
     ]
    },
    {
     "name": "stdout",
     "output_type": "stream",
     "text": [
      "\n",
      "Date: 2020-10-28\n",
      "https://spotifycharts.com/regional/ph/daily/2020-10-28/download\n"
     ]
    },
    {
     "name": "stderr",
     "output_type": "stream",
     "text": [
      "\r\n",
      "Collecting chart data from ph: 1397it [38:52,  1.46s/it]"
     ]
    },
    {
     "name": "stdout",
     "output_type": "stream",
     "text": [
      "\n",
      "Date: 2020-10-29\n",
      "https://spotifycharts.com/regional/ph/daily/2020-10-29/download\n"
     ]
    },
    {
     "name": "stderr",
     "output_type": "stream",
     "text": [
      "\r\n",
      "Collecting chart data from ph: 1398it [38:54,  1.55s/it]"
     ]
    },
    {
     "name": "stdout",
     "output_type": "stream",
     "text": [
      "\n",
      "Date: 2020-10-30\n",
      "https://spotifycharts.com/regional/ph/daily/2020-10-30/download\n"
     ]
    },
    {
     "name": "stderr",
     "output_type": "stream",
     "text": [
      "\r\n",
      "Collecting chart data from ph: 1399it [38:56,  1.70s/it]"
     ]
    },
    {
     "name": "stdout",
     "output_type": "stream",
     "text": [
      "\n",
      "Date: 2020-10-31\n",
      "https://spotifycharts.com/regional/ph/daily/2020-10-31/download\n"
     ]
    },
    {
     "name": "stderr",
     "output_type": "stream",
     "text": [
      "\r\n",
      "Collecting chart data from ph: 1400it [38:58,  1.67s/it]"
     ]
    },
    {
     "name": "stdout",
     "output_type": "stream",
     "text": [
      "\n",
      "Date: 2020-11-01\n",
      "https://spotifycharts.com/regional/ph/daily/2020-11-01/download\n"
     ]
    },
    {
     "name": "stderr",
     "output_type": "stream",
     "text": [
      "\r\n",
      "Collecting chart data from ph: 1401it [38:59,  1.58s/it]"
     ]
    },
    {
     "name": "stdout",
     "output_type": "stream",
     "text": [
      "\n",
      "Date: 2020-11-02\n",
      "https://spotifycharts.com/regional/ph/daily/2020-11-02/download\n"
     ]
    },
    {
     "name": "stderr",
     "output_type": "stream",
     "text": [
      "\r\n",
      "Collecting chart data from ph: 1402it [39:00,  1.49s/it]"
     ]
    },
    {
     "name": "stdout",
     "output_type": "stream",
     "text": [
      "\n",
      "Date: 2020-11-03\n",
      "https://spotifycharts.com/regional/ph/daily/2020-11-03/download\n"
     ]
    },
    {
     "name": "stderr",
     "output_type": "stream",
     "text": [
      "\r\n",
      "Collecting chart data from ph: 1403it [39:02,  1.53s/it]"
     ]
    },
    {
     "name": "stdout",
     "output_type": "stream",
     "text": [
      "\n",
      "Date: 2020-11-04\n",
      "https://spotifycharts.com/regional/ph/daily/2020-11-04/download\n"
     ]
    },
    {
     "name": "stderr",
     "output_type": "stream",
     "text": [
      "\r\n",
      "Collecting chart data from ph: 1404it [39:03,  1.50s/it]"
     ]
    },
    {
     "name": "stdout",
     "output_type": "stream",
     "text": [
      "\n",
      "Date: 2020-11-05\n",
      "https://spotifycharts.com/regional/ph/daily/2020-11-05/download\n"
     ]
    },
    {
     "name": "stderr",
     "output_type": "stream",
     "text": [
      "\r\n",
      "Collecting chart data from ph: 1405it [39:05,  1.44s/it]"
     ]
    },
    {
     "name": "stdout",
     "output_type": "stream",
     "text": [
      "\n",
      "Date: 2020-11-06\n",
      "https://spotifycharts.com/regional/ph/daily/2020-11-06/download\n"
     ]
    },
    {
     "name": "stderr",
     "output_type": "stream",
     "text": [
      "\r\n",
      "Collecting chart data from ph: 1406it [39:06,  1.49s/it]"
     ]
    },
    {
     "name": "stdout",
     "output_type": "stream",
     "text": [
      "\n",
      "Date: 2020-11-07\n",
      "https://spotifycharts.com/regional/ph/daily/2020-11-07/download\n"
     ]
    },
    {
     "name": "stderr",
     "output_type": "stream",
     "text": [
      "\r\n",
      "Collecting chart data from ph: 1407it [39:08,  1.44s/it]"
     ]
    },
    {
     "name": "stdout",
     "output_type": "stream",
     "text": [
      "\n",
      "Date: 2020-11-08\n",
      "https://spotifycharts.com/regional/ph/daily/2020-11-08/download\n"
     ]
    },
    {
     "name": "stderr",
     "output_type": "stream",
     "text": [
      "\r\n",
      "Collecting chart data from ph: 1408it [39:09,  1.40s/it]"
     ]
    },
    {
     "name": "stdout",
     "output_type": "stream",
     "text": [
      "\n",
      "Date: 2020-11-09\n",
      "https://spotifycharts.com/regional/ph/daily/2020-11-09/download\n"
     ]
    },
    {
     "name": "stderr",
     "output_type": "stream",
     "text": [
      "\r\n",
      "Collecting chart data from ph: 1409it [39:10,  1.40s/it]"
     ]
    },
    {
     "name": "stdout",
     "output_type": "stream",
     "text": [
      "\n",
      "Date: 2020-11-10\n",
      "https://spotifycharts.com/regional/ph/daily/2020-11-10/download\n"
     ]
    },
    {
     "name": "stderr",
     "output_type": "stream",
     "text": [
      "\r\n",
      "Collecting chart data from ph: 1410it [39:11,  1.22s/it]"
     ]
    },
    {
     "name": "stdout",
     "output_type": "stream",
     "text": [
      "\n",
      "Date: 2020-11-11\n",
      "https://spotifycharts.com/regional/ph/daily/2020-11-11/download\n"
     ]
    },
    {
     "name": "stderr",
     "output_type": "stream",
     "text": [
      "\r\n",
      "Collecting chart data from ph: 1411it [39:12,  1.06s/it]"
     ]
    },
    {
     "name": "stdout",
     "output_type": "stream",
     "text": [
      "\n",
      "Date: 2020-11-12\n",
      "https://spotifycharts.com/regional/ph/daily/2020-11-12/download\n"
     ]
    },
    {
     "name": "stderr",
     "output_type": "stream",
     "text": [
      "\r\n",
      "Collecting chart data from ph: 1412it [39:13,  1.14s/it]"
     ]
    },
    {
     "name": "stdout",
     "output_type": "stream",
     "text": [
      "\n",
      "Date: 2020-11-13\n",
      "https://spotifycharts.com/regional/ph/daily/2020-11-13/download\n"
     ]
    },
    {
     "name": "stderr",
     "output_type": "stream",
     "text": [
      "\r\n",
      "Collecting chart data from ph: 1413it [39:14,  1.04s/it]"
     ]
    },
    {
     "name": "stdout",
     "output_type": "stream",
     "text": [
      "\n",
      "Date: 2020-11-14\n",
      "https://spotifycharts.com/regional/ph/daily/2020-11-14/download\n"
     ]
    },
    {
     "name": "stderr",
     "output_type": "stream",
     "text": [
      "\r\n",
      "Collecting chart data from ph: 1414it [39:15,  1.12s/it]"
     ]
    },
    {
     "name": "stdout",
     "output_type": "stream",
     "text": [
      "\n",
      "Date: 2020-11-15\n",
      "https://spotifycharts.com/regional/ph/daily/2020-11-15/download\n"
     ]
    },
    {
     "name": "stderr",
     "output_type": "stream",
     "text": [
      "\r\n",
      "Collecting chart data from ph: 1415it [39:17,  1.42s/it]"
     ]
    },
    {
     "name": "stdout",
     "output_type": "stream",
     "text": [
      "\n",
      "Date: 2020-11-16\n",
      "https://spotifycharts.com/regional/ph/daily/2020-11-16/download\n"
     ]
    },
    {
     "name": "stderr",
     "output_type": "stream",
     "text": [
      "\r\n",
      "Collecting chart data from ph: 1416it [39:19,  1.44s/it]"
     ]
    },
    {
     "name": "stdout",
     "output_type": "stream",
     "text": [
      "\n",
      "Date: 2020-11-17\n",
      "https://spotifycharts.com/regional/ph/daily/2020-11-17/download\n"
     ]
    },
    {
     "name": "stderr",
     "output_type": "stream",
     "text": [
      "\r\n",
      "Collecting chart data from ph: 1417it [39:20,  1.40s/it]"
     ]
    },
    {
     "name": "stdout",
     "output_type": "stream",
     "text": [
      "\n",
      "Date: 2020-11-18\n",
      "https://spotifycharts.com/regional/ph/daily/2020-11-18/download\n"
     ]
    },
    {
     "name": "stderr",
     "output_type": "stream",
     "text": [
      "\r\n",
      "Collecting chart data from ph: 1418it [39:22,  1.41s/it]"
     ]
    },
    {
     "name": "stdout",
     "output_type": "stream",
     "text": [
      "\n",
      "Date: 2020-11-19\n",
      "https://spotifycharts.com/regional/ph/daily/2020-11-19/download\n"
     ]
    },
    {
     "name": "stderr",
     "output_type": "stream",
     "text": [
      "\r\n",
      "Collecting chart data from ph: 1419it [39:23,  1.39s/it]"
     ]
    },
    {
     "name": "stdout",
     "output_type": "stream",
     "text": [
      "\n",
      "Date: 2020-11-20\n",
      "https://spotifycharts.com/regional/ph/daily/2020-11-20/download\n"
     ]
    },
    {
     "name": "stderr",
     "output_type": "stream",
     "text": [
      "\r\n",
      "Collecting chart data from ph: 1420it [39:25,  1.58s/it]"
     ]
    },
    {
     "name": "stdout",
     "output_type": "stream",
     "text": [
      "\n",
      "Date: 2020-11-21\n",
      "https://spotifycharts.com/regional/ph/daily/2020-11-21/download\n"
     ]
    },
    {
     "name": "stderr",
     "output_type": "stream",
     "text": [
      "\r\n",
      "Collecting chart data from ph: 1421it [39:27,  1.66s/it]"
     ]
    },
    {
     "name": "stdout",
     "output_type": "stream",
     "text": [
      "\n",
      "Date: 2020-11-22\n",
      "https://spotifycharts.com/regional/ph/daily/2020-11-22/download\n"
     ]
    },
    {
     "name": "stderr",
     "output_type": "stream",
     "text": [
      "\r\n",
      "Collecting chart data from ph: 1422it [39:28,  1.67s/it]"
     ]
    },
    {
     "name": "stdout",
     "output_type": "stream",
     "text": [
      "\n",
      "Date: 2020-11-23\n",
      "https://spotifycharts.com/regional/ph/daily/2020-11-23/download\n"
     ]
    },
    {
     "name": "stderr",
     "output_type": "stream",
     "text": [
      "\r\n",
      "Collecting chart data from ph: 1423it [39:30,  1.65s/it]"
     ]
    },
    {
     "name": "stdout",
     "output_type": "stream",
     "text": [
      "\n",
      "Date: 2020-11-24\n",
      "https://spotifycharts.com/regional/ph/daily/2020-11-24/download\n"
     ]
    },
    {
     "name": "stderr",
     "output_type": "stream",
     "text": [
      "\r\n",
      "Collecting chart data from ph: 1424it [39:32,  1.83s/it]"
     ]
    },
    {
     "name": "stdout",
     "output_type": "stream",
     "text": [
      "\n",
      "Date: 2020-11-25\n",
      "https://spotifycharts.com/regional/ph/daily/2020-11-25/download\n"
     ]
    },
    {
     "name": "stderr",
     "output_type": "stream",
     "text": [
      "\r\n",
      "Collecting chart data from ph: 1425it [39:34,  1.74s/it]"
     ]
    },
    {
     "name": "stdout",
     "output_type": "stream",
     "text": [
      "\n",
      "Date: 2020-11-26\n",
      "https://spotifycharts.com/regional/ph/daily/2020-11-26/download\n"
     ]
    },
    {
     "name": "stderr",
     "output_type": "stream",
     "text": [
      "\r\n",
      "Collecting chart data from ph: 1426it [39:36,  1.75s/it]"
     ]
    },
    {
     "name": "stdout",
     "output_type": "stream",
     "text": [
      "\n",
      "Date: 2020-11-27\n",
      "https://spotifycharts.com/regional/ph/daily/2020-11-27/download\n"
     ]
    },
    {
     "name": "stderr",
     "output_type": "stream",
     "text": [
      "\r\n",
      "Collecting chart data from ph: 1427it [39:37,  1.75s/it]"
     ]
    },
    {
     "name": "stdout",
     "output_type": "stream",
     "text": [
      "\n",
      "Date: 2020-11-28\n",
      "https://spotifycharts.com/regional/ph/daily/2020-11-28/download\n"
     ]
    },
    {
     "name": "stderr",
     "output_type": "stream",
     "text": [
      "\r\n",
      "Collecting chart data from ph: 1428it [39:39,  1.78s/it]"
     ]
    },
    {
     "name": "stdout",
     "output_type": "stream",
     "text": [
      "\n",
      "Date: 2020-11-29\n",
      "https://spotifycharts.com/regional/ph/daily/2020-11-29/download\n"
     ]
    },
    {
     "name": "stderr",
     "output_type": "stream",
     "text": [
      "\r\n",
      "Collecting chart data from ph: 1429it [39:41,  1.79s/it]"
     ]
    },
    {
     "name": "stdout",
     "output_type": "stream",
     "text": [
      "\n",
      "Date: 2020-11-30\n",
      "https://spotifycharts.com/regional/ph/daily/2020-11-30/download\n"
     ]
    },
    {
     "name": "stderr",
     "output_type": "stream",
     "text": [
      "\r\n",
      "Collecting chart data from ph: 1430it [39:43,  1.80s/it]"
     ]
    },
    {
     "name": "stdout",
     "output_type": "stream",
     "text": [
      "\n",
      "Date: 2020-12-01\n",
      "https://spotifycharts.com/regional/ph/daily/2020-12-01/download\n"
     ]
    },
    {
     "name": "stderr",
     "output_type": "stream",
     "text": [
      "\r\n",
      "Collecting chart data from ph: 1431it [39:45,  1.96s/it]"
     ]
    },
    {
     "name": "stdout",
     "output_type": "stream",
     "text": [
      "\n",
      "Date: 2020-12-02\n",
      "https://spotifycharts.com/regional/ph/daily/2020-12-02/download\n"
     ]
    },
    {
     "name": "stderr",
     "output_type": "stream",
     "text": [
      "\r\n",
      "Collecting chart data from ph: 1432it [39:47,  1.93s/it]"
     ]
    },
    {
     "name": "stdout",
     "output_type": "stream",
     "text": [
      "\n",
      "Date: 2020-12-03\n",
      "https://spotifycharts.com/regional/ph/daily/2020-12-03/download\n"
     ]
    },
    {
     "name": "stderr",
     "output_type": "stream",
     "text": [
      "\r\n",
      "Collecting chart data from ph: 1433it [39:49,  1.88s/it]"
     ]
    },
    {
     "name": "stdout",
     "output_type": "stream",
     "text": [
      "\n",
      "Date: 2020-12-04\n",
      "https://spotifycharts.com/regional/ph/daily/2020-12-04/download\n"
     ]
    },
    {
     "name": "stderr",
     "output_type": "stream",
     "text": [
      "\r\n",
      "Collecting chart data from ph: 1434it [39:50,  1.71s/it]"
     ]
    },
    {
     "name": "stdout",
     "output_type": "stream",
     "text": [
      "\n",
      "Date: 2020-12-05\n",
      "https://spotifycharts.com/regional/ph/daily/2020-12-05/download\n"
     ]
    },
    {
     "name": "stderr",
     "output_type": "stream",
     "text": [
      "\r\n",
      "Collecting chart data from ph: 1435it [39:52,  1.88s/it]"
     ]
    },
    {
     "name": "stdout",
     "output_type": "stream",
     "text": [
      "\n",
      "Date: 2020-12-06\n",
      "https://spotifycharts.com/regional/ph/daily/2020-12-06/download\n"
     ]
    },
    {
     "name": "stderr",
     "output_type": "stream",
     "text": [
      "\r\n",
      "Collecting chart data from ph: 1436it [39:54,  1.82s/it]"
     ]
    },
    {
     "name": "stdout",
     "output_type": "stream",
     "text": [
      "\n",
      "Date: 2020-12-07\n",
      "https://spotifycharts.com/regional/ph/daily/2020-12-07/download\n"
     ]
    },
    {
     "name": "stderr",
     "output_type": "stream",
     "text": [
      "\r\n",
      "Collecting chart data from ph: 1437it [39:56,  1.79s/it]"
     ]
    },
    {
     "name": "stdout",
     "output_type": "stream",
     "text": [
      "\n",
      "Date: 2020-12-08\n",
      "https://spotifycharts.com/regional/ph/daily/2020-12-08/download\n"
     ]
    },
    {
     "name": "stderr",
     "output_type": "stream",
     "text": [
      "\r\n",
      "Collecting chart data from ph: 1438it [39:57,  1.76s/it]"
     ]
    },
    {
     "name": "stdout",
     "output_type": "stream",
     "text": [
      "\n",
      "Date: 2020-12-09\n",
      "https://spotifycharts.com/regional/ph/daily/2020-12-09/download\n"
     ]
    },
    {
     "name": "stderr",
     "output_type": "stream",
     "text": [
      "\r\n",
      "Collecting chart data from ph: 1439it [40:00,  1.88s/it]"
     ]
    },
    {
     "name": "stdout",
     "output_type": "stream",
     "text": [
      "\n",
      "Date: 2020-12-10\n",
      "https://spotifycharts.com/regional/ph/daily/2020-12-10/download\n"
     ]
    },
    {
     "name": "stderr",
     "output_type": "stream",
     "text": [
      "\r\n",
      "Collecting chart data from ph: 1440it [40:01,  1.64s/it]"
     ]
    },
    {
     "name": "stdout",
     "output_type": "stream",
     "text": [
      "\n",
      "Date: 2020-12-11\n",
      "https://spotifycharts.com/regional/ph/daily/2020-12-11/download\n"
     ]
    },
    {
     "name": "stderr",
     "output_type": "stream",
     "text": [
      "\r\n",
      "Collecting chart data from ph: 1441it [40:02,  1.47s/it]"
     ]
    },
    {
     "name": "stdout",
     "output_type": "stream",
     "text": [
      "\n",
      "Date: 2020-12-12\n",
      "https://spotifycharts.com/regional/ph/daily/2020-12-12/download\n"
     ]
    },
    {
     "name": "stderr",
     "output_type": "stream",
     "text": [
      "\r\n",
      "Collecting chart data from ph: 1442it [40:03,  1.51s/it]"
     ]
    },
    {
     "name": "stdout",
     "output_type": "stream",
     "text": [
      "\n",
      "Date: 2020-12-13\n",
      "https://spotifycharts.com/regional/ph/daily/2020-12-13/download\n"
     ]
    },
    {
     "name": "stderr",
     "output_type": "stream",
     "text": [
      "\r\n",
      "Collecting chart data from ph: 1443it [40:06,  1.68s/it]"
     ]
    },
    {
     "name": "stdout",
     "output_type": "stream",
     "text": [
      "\n",
      "Date: 2020-12-14\n",
      "https://spotifycharts.com/regional/ph/daily/2020-12-14/download\n"
     ]
    },
    {
     "name": "stderr",
     "output_type": "stream",
     "text": [
      "\r\n",
      "Collecting chart data from ph: 1444it [40:07,  1.74s/it]"
     ]
    },
    {
     "name": "stdout",
     "output_type": "stream",
     "text": [
      "\n",
      "Date: 2020-12-15\n",
      "https://spotifycharts.com/regional/ph/daily/2020-12-15/download\n"
     ]
    },
    {
     "name": "stderr",
     "output_type": "stream",
     "text": [
      "\r\n",
      "Collecting chart data from ph: 1445it [40:09,  1.77s/it]"
     ]
    },
    {
     "name": "stdout",
     "output_type": "stream",
     "text": [
      "\n",
      "Date: 2020-12-16\n",
      "https://spotifycharts.com/regional/ph/daily/2020-12-16/download\n"
     ]
    },
    {
     "name": "stderr",
     "output_type": "stream",
     "text": [
      "\r\n",
      "Collecting chart data from ph: 1446it [40:11,  1.73s/it]"
     ]
    },
    {
     "name": "stdout",
     "output_type": "stream",
     "text": [
      "\n",
      "Date: 2020-12-17\n",
      "https://spotifycharts.com/regional/ph/daily/2020-12-17/download\n"
     ]
    },
    {
     "name": "stderr",
     "output_type": "stream",
     "text": [
      "\r\n",
      "Collecting chart data from ph: 1447it [40:13,  1.72s/it]"
     ]
    },
    {
     "name": "stdout",
     "output_type": "stream",
     "text": [
      "\n",
      "Date: 2020-12-18\n",
      "https://spotifycharts.com/regional/ph/daily/2020-12-18/download\n"
     ]
    },
    {
     "name": "stderr",
     "output_type": "stream",
     "text": [
      "\r\n",
      "Collecting chart data from ph: 1448it [40:14,  1.73s/it]"
     ]
    },
    {
     "name": "stdout",
     "output_type": "stream",
     "text": [
      "\n",
      "Date: 2020-12-19\n",
      "https://spotifycharts.com/regional/ph/daily/2020-12-19/download\n"
     ]
    },
    {
     "name": "stderr",
     "output_type": "stream",
     "text": [
      "\r\n",
      "Collecting chart data from ph: 1449it [40:16,  1.68s/it]"
     ]
    },
    {
     "name": "stdout",
     "output_type": "stream",
     "text": [
      "\n",
      "Date: 2020-12-20\n",
      "https://spotifycharts.com/regional/ph/daily/2020-12-20/download\n"
     ]
    },
    {
     "name": "stderr",
     "output_type": "stream",
     "text": [
      "\r\n",
      "Collecting chart data from ph: 1450it [40:17,  1.51s/it]"
     ]
    },
    {
     "name": "stdout",
     "output_type": "stream",
     "text": [
      "\n",
      "Date: 2020-12-21\n",
      "https://spotifycharts.com/regional/ph/daily/2020-12-21/download\n"
     ]
    },
    {
     "name": "stderr",
     "output_type": "stream",
     "text": [
      "\r\n",
      "Collecting chart data from ph: 1451it [40:19,  1.68s/it]"
     ]
    },
    {
     "name": "stdout",
     "output_type": "stream",
     "text": [
      "\n",
      "Date: 2020-12-22\n",
      "https://spotifycharts.com/regional/ph/daily/2020-12-22/download\n"
     ]
    },
    {
     "name": "stderr",
     "output_type": "stream",
     "text": [
      "\r\n",
      "Collecting chart data from ph: 1452it [40:21,  1.64s/it]"
     ]
    },
    {
     "name": "stdout",
     "output_type": "stream",
     "text": [
      "\n",
      "Date: 2020-12-23\n",
      "https://spotifycharts.com/regional/ph/daily/2020-12-23/download\n"
     ]
    },
    {
     "name": "stderr",
     "output_type": "stream",
     "text": [
      "\r\n",
      "Collecting chart data from ph: 1453it [40:22,  1.68s/it]"
     ]
    },
    {
     "name": "stdout",
     "output_type": "stream",
     "text": [
      "\n",
      "Date: 2020-12-24\n",
      "https://spotifycharts.com/regional/ph/daily/2020-12-24/download\n"
     ]
    },
    {
     "name": "stderr",
     "output_type": "stream",
     "text": [
      "\r\n",
      "Collecting chart data from ph: 1454it [40:24,  1.53s/it]"
     ]
    },
    {
     "name": "stdout",
     "output_type": "stream",
     "text": [
      "\n",
      "Date: 2020-12-25\n",
      "https://spotifycharts.com/regional/ph/daily/2020-12-25/download\n"
     ]
    },
    {
     "name": "stderr",
     "output_type": "stream",
     "text": [
      "\r\n",
      "Collecting chart data from ph: 1455it [40:25,  1.61s/it]"
     ]
    },
    {
     "name": "stdout",
     "output_type": "stream",
     "text": [
      "\n",
      "Date: 2020-12-26\n",
      "https://spotifycharts.com/regional/ph/daily/2020-12-26/download\n"
     ]
    },
    {
     "name": "stderr",
     "output_type": "stream",
     "text": [
      "\r\n",
      "Collecting chart data from ph: 1456it [40:27,  1.63s/it]"
     ]
    },
    {
     "name": "stdout",
     "output_type": "stream",
     "text": [
      "\n",
      "Date: 2020-12-27\n",
      "https://spotifycharts.com/regional/ph/daily/2020-12-27/download\n"
     ]
    },
    {
     "name": "stderr",
     "output_type": "stream",
     "text": [
      "\r\n",
      "Collecting chart data from ph: 1457it [40:28,  1.50s/it]"
     ]
    },
    {
     "name": "stdout",
     "output_type": "stream",
     "text": [
      "\n",
      "Date: 2020-12-28\n",
      "https://spotifycharts.com/regional/ph/daily/2020-12-28/download\n"
     ]
    },
    {
     "name": "stderr",
     "output_type": "stream",
     "text": [
      "\r\n",
      "Collecting chart data from ph: 1458it [40:30,  1.53s/it]"
     ]
    },
    {
     "name": "stdout",
     "output_type": "stream",
     "text": [
      "\n",
      "Date: 2020-12-29\n",
      "https://spotifycharts.com/regional/ph/daily/2020-12-29/download\n"
     ]
    },
    {
     "name": "stderr",
     "output_type": "stream",
     "text": [
      "\r\n",
      "Collecting chart data from ph: 1459it [40:31,  1.45s/it]"
     ]
    },
    {
     "name": "stdout",
     "output_type": "stream",
     "text": [
      "\n",
      "Date: 2020-12-30\n",
      "https://spotifycharts.com/regional/ph/daily/2020-12-30/download\n"
     ]
    },
    {
     "name": "stderr",
     "output_type": "stream",
     "text": [
      "\r\n",
      "Collecting chart data from ph: 1460it [40:33,  1.48s/it]"
     ]
    },
    {
     "name": "stdout",
     "output_type": "stream",
     "text": [
      "\n",
      "Date: 2020-12-31\n",
      "https://spotifycharts.com/regional/ph/daily/2020-12-31/download\n"
     ]
    },
    {
     "name": "stderr",
     "output_type": "stream",
     "text": [
      "\r\n",
      "Collecting chart data from ph: 1461it [40:34,  1.53s/it]"
     ]
    },
    {
     "name": "stdout",
     "output_type": "stream",
     "text": [
      "\n",
      "Date: 2021-01-01\n",
      "https://spotifycharts.com/regional/ph/daily/2021-01-01/download\n"
     ]
    },
    {
     "name": "stderr",
     "output_type": "stream",
     "text": [
      "\r\n",
      "Collecting chart data from ph: 1462it [40:36,  1.55s/it]"
     ]
    },
    {
     "name": "stdout",
     "output_type": "stream",
     "text": [
      "\n",
      "Date: 2021-01-02\n",
      "https://spotifycharts.com/regional/ph/daily/2021-01-02/download\n"
     ]
    },
    {
     "name": "stderr",
     "output_type": "stream",
     "text": [
      "\r\n",
      "Collecting chart data from ph: 1463it [40:37,  1.44s/it]"
     ]
    },
    {
     "name": "stdout",
     "output_type": "stream",
     "text": [
      "\n",
      "Date: 2021-01-03\n",
      "https://spotifycharts.com/regional/ph/daily/2021-01-03/download\n"
     ]
    },
    {
     "name": "stderr",
     "output_type": "stream",
     "text": [
      "\r\n",
      "Collecting chart data from ph: 1464it [40:39,  1.51s/it]"
     ]
    },
    {
     "name": "stdout",
     "output_type": "stream",
     "text": [
      "\n",
      "Date: 2021-01-04\n",
      "https://spotifycharts.com/regional/ph/daily/2021-01-04/download\n"
     ]
    },
    {
     "name": "stderr",
     "output_type": "stream",
     "text": [
      "\r\n",
      "Collecting chart data from ph: 1465it [40:40,  1.58s/it]"
     ]
    },
    {
     "name": "stdout",
     "output_type": "stream",
     "text": [
      "\n",
      "Date: 2021-01-05\n",
      "https://spotifycharts.com/regional/ph/daily/2021-01-05/download\n"
     ]
    },
    {
     "name": "stderr",
     "output_type": "stream",
     "text": [
      "\r\n",
      "Collecting chart data from ph: 1466it [40:42,  1.64s/it]"
     ]
    },
    {
     "name": "stdout",
     "output_type": "stream",
     "text": [
      "\n",
      "Date: 2021-01-06\n",
      "https://spotifycharts.com/regional/ph/daily/2021-01-06/download\n"
     ]
    },
    {
     "name": "stderr",
     "output_type": "stream",
     "text": [
      "\r\n",
      "Collecting chart data from ph: 1467it [40:44,  1.65s/it]"
     ]
    },
    {
     "name": "stdout",
     "output_type": "stream",
     "text": [
      "\n",
      "Date: 2021-01-07\n",
      "https://spotifycharts.com/regional/ph/daily/2021-01-07/download\n"
     ]
    },
    {
     "name": "stderr",
     "output_type": "stream",
     "text": [
      "\r\n",
      "Collecting chart data from ph: 1468it [40:46,  1.71s/it]"
     ]
    },
    {
     "name": "stdout",
     "output_type": "stream",
     "text": [
      "\n",
      "Date: 2021-01-08\n",
      "https://spotifycharts.com/regional/ph/daily/2021-01-08/download\n"
     ]
    },
    {
     "name": "stderr",
     "output_type": "stream",
     "text": [
      "\r\n",
      "Collecting chart data from ph: 1469it [40:48,  1.73s/it]"
     ]
    },
    {
     "name": "stdout",
     "output_type": "stream",
     "text": [
      "\n",
      "Date: 2021-01-09\n",
      "https://spotifycharts.com/regional/ph/daily/2021-01-09/download\n"
     ]
    },
    {
     "name": "stderr",
     "output_type": "stream",
     "text": [
      "\r\n",
      "Collecting chart data from ph: 1470it [40:49,  1.55s/it]"
     ]
    },
    {
     "name": "stdout",
     "output_type": "stream",
     "text": [
      "\n",
      "Date: 2021-01-10\n",
      "https://spotifycharts.com/regional/ph/daily/2021-01-10/download\n"
     ]
    },
    {
     "name": "stderr",
     "output_type": "stream",
     "text": [
      "\r\n",
      "Collecting chart data from ph: 1471it [40:51,  1.87s/it]"
     ]
    },
    {
     "name": "stdout",
     "output_type": "stream",
     "text": [
      "\n",
      "Date: 2021-01-11\n",
      "https://spotifycharts.com/regional/ph/daily/2021-01-11/download\n"
     ]
    },
    {
     "name": "stderr",
     "output_type": "stream",
     "text": [
      "\r\n",
      "Collecting chart data from ph: 1472it [40:53,  1.80s/it]"
     ]
    },
    {
     "name": "stdout",
     "output_type": "stream",
     "text": [
      "\n",
      "Date: 2021-01-12\n",
      "https://spotifycharts.com/regional/ph/daily/2021-01-12/download\n"
     ]
    },
    {
     "name": "stderr",
     "output_type": "stream",
     "text": [
      "\r\n",
      "Collecting chart data from ph: 1473it [40:55,  1.75s/it]"
     ]
    },
    {
     "name": "stdout",
     "output_type": "stream",
     "text": [
      "\n",
      "Date: 2021-01-13\n",
      "https://spotifycharts.com/regional/ph/daily/2021-01-13/download\n"
     ]
    },
    {
     "name": "stderr",
     "output_type": "stream",
     "text": [
      "\r\n",
      "Collecting chart data from ph: 1474it [40:56,  1.75s/it]"
     ]
    },
    {
     "name": "stdout",
     "output_type": "stream",
     "text": [
      "\n",
      "Date: 2021-01-14\n",
      "https://spotifycharts.com/regional/ph/daily/2021-01-14/download\n"
     ]
    },
    {
     "name": "stderr",
     "output_type": "stream",
     "text": [
      "\r\n",
      "Collecting chart data from ph: 1475it [40:58,  1.77s/it]"
     ]
    },
    {
     "name": "stdout",
     "output_type": "stream",
     "text": [
      "\n",
      "Date: 2021-01-15\n",
      "https://spotifycharts.com/regional/ph/daily/2021-01-15/download\n"
     ]
    },
    {
     "name": "stderr",
     "output_type": "stream",
     "text": [
      "\r\n",
      "Collecting chart data from ph: 1476it [41:00,  1.67s/it]"
     ]
    },
    {
     "name": "stdout",
     "output_type": "stream",
     "text": [
      "\n",
      "Date: 2021-01-16\n",
      "https://spotifycharts.com/regional/ph/daily/2021-01-16/download\n"
     ]
    },
    {
     "name": "stderr",
     "output_type": "stream",
     "text": [
      "\r\n",
      "Collecting chart data from ph: 1477it [41:02,  1.78s/it]"
     ]
    },
    {
     "name": "stdout",
     "output_type": "stream",
     "text": [
      "\n",
      "Date: 2021-01-17\n",
      "https://spotifycharts.com/regional/ph/daily/2021-01-17/download\n"
     ]
    },
    {
     "name": "stderr",
     "output_type": "stream",
     "text": [
      "\r\n",
      "Collecting chart data from ph: 1478it [41:04,  1.90s/it]"
     ]
    },
    {
     "name": "stdout",
     "output_type": "stream",
     "text": [
      "\n",
      "Date: 2021-01-18\n",
      "https://spotifycharts.com/regional/ph/daily/2021-01-18/download\n"
     ]
    },
    {
     "name": "stderr",
     "output_type": "stream",
     "text": [
      "\r\n",
      "Collecting chart data from ph: 1479it [41:05,  1.81s/it]"
     ]
    },
    {
     "name": "stdout",
     "output_type": "stream",
     "text": [
      "\n",
      "Date: 2021-01-19\n",
      "https://spotifycharts.com/regional/ph/daily/2021-01-19/download\n"
     ]
    },
    {
     "name": "stderr",
     "output_type": "stream",
     "text": [
      "\r\n",
      "Collecting chart data from ph: 1480it [41:08,  1.94s/it]"
     ]
    },
    {
     "name": "stdout",
     "output_type": "stream",
     "text": [
      "\n",
      "Date: 2021-01-20\n",
      "https://spotifycharts.com/regional/ph/daily/2021-01-20/download\n"
     ]
    },
    {
     "name": "stderr",
     "output_type": "stream",
     "text": [
      "\r\n",
      "Collecting chart data from ph: 1481it [41:09,  1.86s/it]"
     ]
    },
    {
     "name": "stdout",
     "output_type": "stream",
     "text": [
      "\n",
      "Date: 2021-01-21\n",
      "https://spotifycharts.com/regional/ph/daily/2021-01-21/download\n"
     ]
    },
    {
     "name": "stderr",
     "output_type": "stream",
     "text": [
      "\r\n",
      "Collecting chart data from ph: 1482it [41:11,  1.88s/it]"
     ]
    },
    {
     "name": "stdout",
     "output_type": "stream",
     "text": [
      "\n",
      "Date: 2021-01-22\n",
      "https://spotifycharts.com/regional/ph/daily/2021-01-22/download\n"
     ]
    },
    {
     "name": "stderr",
     "output_type": "stream",
     "text": [
      "\r\n",
      "Collecting chart data from ph: 1483it [41:13,  1.81s/it]"
     ]
    },
    {
     "name": "stdout",
     "output_type": "stream",
     "text": [
      "\n",
      "Date: 2021-01-23\n",
      "https://spotifycharts.com/regional/ph/daily/2021-01-23/download\n"
     ]
    },
    {
     "name": "stderr",
     "output_type": "stream",
     "text": [
      "\r\n",
      "Collecting chart data from ph: 1484it [41:15,  1.80s/it]"
     ]
    },
    {
     "name": "stdout",
     "output_type": "stream",
     "text": [
      "\n",
      "Date: 2021-01-24\n",
      "https://spotifycharts.com/regional/ph/daily/2021-01-24/download\n"
     ]
    },
    {
     "name": "stderr",
     "output_type": "stream",
     "text": [
      "\r\n",
      "Collecting chart data from ph: 1485it [41:16,  1.75s/it]"
     ]
    },
    {
     "name": "stdout",
     "output_type": "stream",
     "text": [
      "\n",
      "Date: 2021-01-25\n",
      "https://spotifycharts.com/regional/ph/daily/2021-01-25/download\n"
     ]
    },
    {
     "name": "stderr",
     "output_type": "stream",
     "text": [
      "\r\n",
      "Collecting chart data from ph: 1486it [41:18,  1.78s/it]"
     ]
    },
    {
     "name": "stdout",
     "output_type": "stream",
     "text": [
      "\n",
      "Date: 2021-01-26\n",
      "https://spotifycharts.com/regional/ph/daily/2021-01-26/download\n"
     ]
    },
    {
     "name": "stderr",
     "output_type": "stream",
     "text": [
      "\r\n",
      "Collecting chart data from ph: 1487it [41:20,  1.74s/it]"
     ]
    },
    {
     "name": "stdout",
     "output_type": "stream",
     "text": [
      "\n",
      "Date: 2021-01-27\n",
      "https://spotifycharts.com/regional/ph/daily/2021-01-27/download\n"
     ]
    },
    {
     "name": "stderr",
     "output_type": "stream",
     "text": [
      "\r\n",
      "Collecting chart data from ph: 1488it [41:21,  1.58s/it]"
     ]
    },
    {
     "name": "stdout",
     "output_type": "stream",
     "text": [
      "\n",
      "Date: 2021-01-28\n",
      "https://spotifycharts.com/regional/ph/daily/2021-01-28/download\n"
     ]
    },
    {
     "name": "stderr",
     "output_type": "stream",
     "text": [
      "\r\n",
      "Collecting chart data from ph: 1489it [41:23,  1.66s/it]"
     ]
    },
    {
     "name": "stdout",
     "output_type": "stream",
     "text": [
      "\n",
      "Date: 2021-01-29\n",
      "https://spotifycharts.com/regional/ph/daily/2021-01-29/download\n"
     ]
    },
    {
     "name": "stderr",
     "output_type": "stream",
     "text": [
      "\r\n",
      "Collecting chart data from ph: 1490it [41:24,  1.57s/it]"
     ]
    },
    {
     "name": "stdout",
     "output_type": "stream",
     "text": [
      "\n",
      "Date: 2021-01-30\n",
      "https://spotifycharts.com/regional/ph/daily/2021-01-30/download\n"
     ]
    },
    {
     "name": "stderr",
     "output_type": "stream",
     "text": [
      "\n",
      "Collecting chart data from ph: 1491it [41:26,  1.62s/it]\n",
      "Collecting chart data from ph: 1491it [41:26,  1.67s/it]\n"
     ]
    }
   ],
   "source": [
    "%run scrape_spotify_charts.py"
   ]
  },
  {
   "cell_type": "code",
   "execution_count": null,
   "metadata": {},
   "outputs": [],
   "source": []
  }
 ],
 "metadata": {
  "kernelspec": {
   "display_name": "Python 3",
   "language": "python",
   "name": "python3"
  },
  "language_info": {
   "codemirror_mode": {
    "name": "ipython",
    "version": 3
   },
   "file_extension": ".py",
   "mimetype": "text/x-python",
   "name": "python",
   "nbconvert_exporter": "python",
   "pygments_lexer": "ipython3",
   "version": "3.8.5"
  }
 },
 "nbformat": 4,
 "nbformat_minor": 2
}
