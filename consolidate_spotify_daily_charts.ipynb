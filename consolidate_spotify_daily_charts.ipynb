{
 "cells": [
  {
   "cell_type": "code",
   "execution_count": 5,
   "metadata": {
    "ExecuteTime": {
     "end_time": "2021-01-16T15:35:23.383650Z",
     "start_time": "2021-01-16T15:35:22.853681Z"
    }
   },
   "outputs": [],
   "source": [
    "import os\n",
    "\n",
    "import numpy as np\n",
    "import pandas as pd"
   ]
  },
  {
   "cell_type": "markdown",
   "metadata": {
    "ExecuteTime": {
     "end_time": "2020-09-23T16:45:46.090273Z",
     "start_time": "2020-09-23T16:45:46.072286Z"
    }
   },
   "source": [
    "## Consolidate daily charts data to monthly files"
   ]
  },
  {
   "cell_type": "code",
   "execution_count": 6,
   "metadata": {
    "ExecuteTime": {
     "end_time": "2021-01-16T15:38:39.212216Z",
     "start_time": "2021-01-16T15:38:39.205914Z"
    }
   },
   "outputs": [],
   "source": [
    "months_start = pd.date_range(start='2017-01-01', end='2021-02-15', freq='MS')\n",
    "months_end = pd.date_range(start='2017-01-01', end='2021-02-15', freq='M')"
   ]
  },
  {
   "cell_type": "code",
   "execution_count": 7,
   "metadata": {
    "ExecuteTime": {
     "end_time": "2021-01-16T15:38:39.978573Z",
     "start_time": "2021-01-16T15:38:39.971423Z"
    }
   },
   "outputs": [
    {
     "data": {
      "text/plain": [
       "DatetimeIndex(['2017-01-31', '2017-02-28', '2017-03-31', '2017-04-30',\n",
       "               '2017-05-31', '2017-06-30', '2017-07-31', '2017-08-31',\n",
       "               '2017-09-30', '2017-10-31', '2017-11-30', '2017-12-31',\n",
       "               '2018-01-31', '2018-02-28', '2018-03-31', '2018-04-30',\n",
       "               '2018-05-31', '2018-06-30', '2018-07-31', '2018-08-31',\n",
       "               '2018-09-30', '2018-10-31', '2018-11-30', '2018-12-31',\n",
       "               '2019-01-31', '2019-02-28', '2019-03-31', '2019-04-30',\n",
       "               '2019-05-31', '2019-06-30', '2019-07-31', '2019-08-31',\n",
       "               '2019-09-30', '2019-10-31', '2019-11-30', '2019-12-31',\n",
       "               '2020-01-31', '2020-02-29', '2020-03-31', '2020-04-30',\n",
       "               '2020-05-31', '2020-06-30', '2020-07-31', '2020-08-31',\n",
       "               '2020-09-30', '2020-10-31', '2020-11-30', '2020-12-31',\n",
       "               '2021-01-31'],\n",
       "              dtype='datetime64[ns]', freq='M')"
      ]
     },
     "execution_count": 7,
     "metadata": {},
     "output_type": "execute_result"
    }
   ],
   "source": [
    "months_end"
   ]
  },
  {
   "cell_type": "code",
   "execution_count": 9,
   "metadata": {
    "ExecuteTime": {
     "end_time": "2021-01-16T15:38:51.274474Z",
     "start_time": "2021-01-16T15:38:41.988639Z"
    }
   },
   "outputs": [
    {
     "name": "stdout",
     "output_type": "stream",
     "text": [
      "Processing Jan 2017...\n",
      "Processing Feb 2017...\n",
      "Processing Mar 2017...\n",
      "Processing Apr 2017...\n",
      "Processing May 2017...\n",
      "Processing Jun 2017...\n",
      "Processing Jul 2017...\n",
      "Processing Aug 2017...\n",
      "Processing Sep 2017...\n",
      "Processing Oct 2017...\n",
      "Processing Nov 2017...\n",
      "Processing Dec 2017...\n",
      "Processing Jan 2018...\n",
      "Processing Feb 2018...\n",
      "Processing Mar 2018...\n",
      "Processing Apr 2018...\n",
      "Processing May 2018...\n",
      "Processing Jun 2018...\n",
      "Processing Jul 2018...\n",
      "Processing Aug 2018...\n",
      "Processing Sep 2018...\n",
      "Processing Oct 2018...\n",
      "Processing Nov 2018...\n",
      "Processing Dec 2018...\n",
      "Processing Jan 2019...\n",
      "Processing Feb 2019...\n",
      "Processing Mar 2019...\n",
      "Processing Apr 2019...\n",
      "Processing May 2019...\n",
      "Processing Jun 2019...\n",
      "Processing Jul 2019...\n",
      "Processing Aug 2019...\n",
      "Processing Sep 2019...\n",
      "Processing Oct 2019...\n",
      "Processing Nov 2019...\n",
      "Processing Dec 2019...\n",
      "Processing Jan 2020...\n",
      "Processing Feb 2020...\n",
      "Processing Mar 2020...\n",
      "Processing Apr 2020...\n",
      "Processing May 2020...\n",
      "Processing Jun 2020...\n",
      "Processing Jul 2020...\n",
      "Processing Aug 2020...\n",
      "Processing Sep 2020...\n",
      "Processing Oct 2020...\n",
      "Processing Nov 2020...\n",
      "Processing Dec 2020...\n",
      "Processing Jan 2021...\n",
      "\tChart not available for date 2021-01-24...\n",
      "\tChart not available for date 2021-01-25...\n",
      "\tChart not available for date 2021-01-26...\n",
      "\tChart not available for date 2021-01-27...\n",
      "\tChart not available for date 2021-01-28...\n",
      "\tChart not available for date 2021-01-29...\n",
      "\tChart not available for date 2021-01-30...\n",
      "\tChart not available for date 2021-01-31...\n"
     ]
    }
   ],
   "source": [
    "for ms,me in zip(months_start, months_end):\n",
    "    print(\"Processing %s...\" % ms.strftime(\"%b %Y\"))\n",
    "    \n",
    "    #generate month dates\n",
    "    month_dates = pd.date_range(start = ms,end = me , freq='D')\n",
    "    #initialize DataFrame list\n",
    "    df_list = []\n",
    "    #open and clean chart data for all dates in month dates\n",
    "    for date in month_dates:\n",
    "        try:\n",
    "            df = pd.read_csv(\"data/daily_charts_raw/ph-\"+date.strftime(\"%Y-%m-%d\")+\".csv\")\n",
    "            df['track_id'] = df['URL'].apply(lambda x: x.split('/')[4])\n",
    "            df.columns=[col.lower().replace(' ','_') for col in df.columns]\n",
    "            df = df[['date','position','track_id','track_name','artist','streams']]\n",
    "            df_list.append(df)\n",
    "        except:\n",
    "            print(\"\\tChart not available for date %s...\" % date.strftime(\"%Y-%m-%d\"))\n",
    "        \n",
    "    month_df = pd.concat(df_list)\n",
    "    month_df.to_csv('data/monthly/'+'ph_'+ms.strftime(\"%Y%m\")+\".csv\", index=False, encoding='utf-8')\n",
    "\n",
    "#delete df list to clear up memory\n",
    "del df_list"
   ]
  },
  {
   "cell_type": "markdown",
   "metadata": {},
   "source": [
    "> Q: Can you revise the loop to concatenate daily chart data to *quarterly* chunks?"
   ]
  },
  {
   "cell_type": "markdown",
   "metadata": {},
   "source": [
    "## Consolidate monthly data to a single file"
   ]
  },
  {
   "cell_type": "code",
   "execution_count": 10,
   "metadata": {
    "ExecuteTime": {
     "end_time": "2021-01-16T15:40:37.926452Z",
     "start_time": "2021-01-16T15:40:36.563612Z"
    },
    "scrolled": true
   },
   "outputs": [
    {
     "name": "stdout",
     "output_type": "stream",
     "text": [
      "Appending Jan 2017...\n",
      "Appending Feb 2017...\n",
      "Appending Mar 2017...\n",
      "Appending Apr 2017...\n",
      "Appending May 2017...\n",
      "Appending Jun 2017...\n",
      "Appending Jul 2017...\n",
      "Appending Aug 2017...\n",
      "Appending Sep 2017...\n",
      "Appending Oct 2017...\n",
      "Appending Nov 2017...\n",
      "Appending Dec 2017...\n",
      "Appending Jan 2018...\n",
      "Appending Feb 2018...\n",
      "Appending Mar 2018...\n",
      "Appending Apr 2018...\n",
      "Appending May 2018...\n",
      "Appending Jun 2018...\n",
      "Appending Jul 2018...\n",
      "Appending Aug 2018...\n",
      "Appending Sep 2018...\n",
      "Appending Oct 2018...\n",
      "Appending Nov 2018...\n",
      "Appending Dec 2018...\n",
      "Appending Jan 2019...\n",
      "Appending Feb 2019...\n",
      "Appending Mar 2019...\n",
      "Appending Apr 2019...\n",
      "Appending May 2019...\n",
      "Appending Jun 2019...\n",
      "Appending Jul 2019...\n",
      "Appending Aug 2019...\n",
      "Appending Sep 2019...\n",
      "Appending Oct 2019...\n",
      "Appending Nov 2019...\n",
      "Appending Dec 2019...\n",
      "Appending Jan 2020...\n",
      "Appending Feb 2020...\n",
      "Appending Mar 2020...\n",
      "Appending Apr 2020...\n",
      "Appending May 2020...\n",
      "Appending Jun 2020...\n",
      "Appending Jul 2020...\n",
      "Appending Aug 2020...\n",
      "Appending Sep 2020...\n",
      "Appending Oct 2020...\n",
      "Appending Nov 2020...\n",
      "Appending Dec 2020...\n",
      "Appending Jan 2021...\n",
      "Appending Feb 2021...\n",
      "\tChart not available for date Jan 2021...\n"
     ]
    }
   ],
   "source": [
    "df_list = []\n",
    "for ms in months_start:\n",
    "    print(\"Appending %s...\" % ms.strftime(\"%b %Y\"))\n",
    "    try:\n",
    "        df = pd.read_csv('data/monthly/'+'ph_'+ms.strftime(\"%Y%m\")+\".csv\")\n",
    "        df_list.append(df)\n",
    "    except:\n",
    "        print(\"\\tChart not available for date %s...\" % date.strftime(\"%b %Y\"))\n",
    "all_df = pd.concat(df_list)\n",
    "all_df.to_csv('data/spotify_daily_charts.csv', index=False, encoding='utf-8')\n",
    "\n",
    "#delete df list to clear up memory\n",
    "del df_list    "
   ]
  },
  {
   "cell_type": "code",
   "execution_count": 11,
   "metadata": {
    "ExecuteTime": {
     "end_time": "2021-01-16T15:41:28.252918Z",
     "start_time": "2021-01-16T15:41:28.212651Z"
    }
   },
   "outputs": [
    {
     "data": {
      "text/html": [
       "<div>\n",
       "<style scoped>\n",
       "    .dataframe tbody tr th:only-of-type {\n",
       "        vertical-align: middle;\n",
       "    }\n",
       "\n",
       "    .dataframe tbody tr th {\n",
       "        vertical-align: top;\n",
       "    }\n",
       "\n",
       "    .dataframe thead th {\n",
       "        text-align: right;\n",
       "    }\n",
       "</style>\n",
       "<table border=\"1\" class=\"dataframe\">\n",
       "  <thead>\n",
       "    <tr style=\"text-align: right;\">\n",
       "      <th></th>\n",
       "      <th>date</th>\n",
       "      <th>position</th>\n",
       "      <th>track_id</th>\n",
       "      <th>track_name</th>\n",
       "      <th>artist</th>\n",
       "      <th>streams</th>\n",
       "    </tr>\n",
       "  </thead>\n",
       "  <tbody>\n",
       "    <tr>\n",
       "      <th>0</th>\n",
       "      <td>2017-01-01</td>\n",
       "      <td>1</td>\n",
       "      <td>0kN8xEmgMW9mh7UmDYHlJP</td>\n",
       "      <td>Versace on the Floor</td>\n",
       "      <td>Bruno Mars</td>\n",
       "      <td>185236</td>\n",
       "    </tr>\n",
       "    <tr>\n",
       "      <th>1</th>\n",
       "      <td>2017-01-01</td>\n",
       "      <td>2</td>\n",
       "      <td>5uCax9HTNlzGybIStD3vDh</td>\n",
       "      <td>Say You Won't Let Go</td>\n",
       "      <td>James Arthur</td>\n",
       "      <td>180552</td>\n",
       "    </tr>\n",
       "    <tr>\n",
       "      <th>2</th>\n",
       "      <td>2017-01-01</td>\n",
       "      <td>3</td>\n",
       "      <td>7BKLCZ1jbUBVqRi2FVlTVw</td>\n",
       "      <td>Closer</td>\n",
       "      <td>The Chainsmokers</td>\n",
       "      <td>158720</td>\n",
       "    </tr>\n",
       "    <tr>\n",
       "      <th>3</th>\n",
       "      <td>2017-01-01</td>\n",
       "      <td>4</td>\n",
       "      <td>2rizacJSyD9S1IQUxUxnsK</td>\n",
       "      <td>All We Know</td>\n",
       "      <td>The Chainsmokers</td>\n",
       "      <td>130874</td>\n",
       "    </tr>\n",
       "    <tr>\n",
       "      <th>4</th>\n",
       "      <td>2017-01-01</td>\n",
       "      <td>5</td>\n",
       "      <td>5MFzQMkrl1FOOng9tq6R9r</td>\n",
       "      <td>Don't Wanna Know</td>\n",
       "      <td>Maroon 5</td>\n",
       "      <td>129656</td>\n",
       "    </tr>\n",
       "  </tbody>\n",
       "</table>\n",
       "</div>"
      ],
      "text/plain": [
       "         date  position                track_id            track_name  \\\n",
       "0  2017-01-01         1  0kN8xEmgMW9mh7UmDYHlJP  Versace on the Floor   \n",
       "1  2017-01-01         2  5uCax9HTNlzGybIStD3vDh  Say You Won't Let Go   \n",
       "2  2017-01-01         3  7BKLCZ1jbUBVqRi2FVlTVw                Closer   \n",
       "3  2017-01-01         4  2rizacJSyD9S1IQUxUxnsK           All We Know   \n",
       "4  2017-01-01         5  5MFzQMkrl1FOOng9tq6R9r      Don't Wanna Know   \n",
       "\n",
       "             artist  streams  \n",
       "0        Bruno Mars   185236  \n",
       "1      James Arthur   180552  \n",
       "2  The Chainsmokers   158720  \n",
       "3  The Chainsmokers   130874  \n",
       "4          Maroon 5   129656  "
      ]
     },
     "execution_count": 11,
     "metadata": {},
     "output_type": "execute_result"
    }
   ],
   "source": [
    "all_df.head()"
   ]
  },
  {
   "cell_type": "code",
   "execution_count": 12,
   "metadata": {
    "ExecuteTime": {
     "end_time": "2021-01-16T15:41:28.593724Z",
     "start_time": "2021-01-16T15:41:28.535277Z"
    }
   },
   "outputs": [
    {
     "data": {
      "text/plain": [
       "('2017-01-01', '2021-01-23')"
      ]
     },
     "execution_count": 12,
     "metadata": {},
     "output_type": "execute_result"
    }
   ],
   "source": [
    "all_df['date'].min(),all_df['date'].max()"
   ]
  },
  {
   "cell_type": "code",
   "execution_count": 13,
   "metadata": {
    "ExecuteTime": {
     "end_time": "2021-01-16T15:41:30.481721Z",
     "start_time": "2021-01-16T15:41:30.475462Z"
    }
   },
   "outputs": [
    {
     "data": {
      "text/plain": [
       "(296200, 197800)"
      ]
     },
     "execution_count": 13,
     "metadata": {},
     "output_type": "execute_result"
    }
   ],
   "source": [
    "#check if consolidated file has expected number of rows\n",
    "len(all_df), len(pd.date_range(start='2018-01-01', end='2020-09-15', freq='D'))*200"
   ]
  },
  {
   "cell_type": "code",
   "execution_count": null,
   "metadata": {},
   "outputs": [],
   "source": [
    "#list comprehension to check elements of a list not in another list\n",
    "complete_dates = pd.date_range(start='2017-01-01', end='2021-01-15', freq='D').strftime('%Y-%m-%d')\n",
    "dataset_dates = pd.unique(all_df['date'])\n",
    "\n",
    "[p for p in complete_dates if p not in dataset_dates]\n"
   ]
  },
  {
   "cell_type": "markdown",
   "metadata": {},
   "source": [
    "### Resources\n",
    "\n",
    "- String Formatting https://strftime.org/"
   ]
  }
 ],
 "metadata": {
  "kernelspec": {
   "display_name": "Python 3",
   "language": "python",
   "name": "python3"
  },
  "language_info": {
   "codemirror_mode": {
    "name": "ipython",
    "version": 3
   },
   "file_extension": ".py",
   "mimetype": "text/x-python",
   "name": "python",
   "nbconvert_exporter": "python",
   "pygments_lexer": "ipython3",
   "version": "3.8.5"
  }
 },
 "nbformat": 4,
 "nbformat_minor": 2
}
