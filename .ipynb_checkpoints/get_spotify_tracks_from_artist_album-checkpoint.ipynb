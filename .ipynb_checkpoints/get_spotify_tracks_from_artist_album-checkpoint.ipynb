{
 "cells": [
  {
   "cell_type": "code",
   "execution_count": null,
   "metadata": {
    "ExecuteTime": {
     "end_time": "2020-09-21T16:36:25.897308Z",
     "start_time": "2020-09-21T16:35:56.320538Z"
    }
   },
   "outputs": [],
   "source": [
    "import numpy as np\n",
    "import pandas as pd\n",
    "\n",
    "import spotipy\n",
    "from spotipy.oauth2 import SpotifyClientCredentials\n",
    "\n",
    "import keyring\n",
    "import time"
   ]
  },
  {
   "cell_type": "markdown",
   "metadata": {},
   "source": [
    "## 0. Setup Spotipy credentials and query wrapper"
   ]
  },
  {
   "cell_type": "code",
   "execution_count": null,
   "metadata": {
    "ExecuteTime": {
     "end_time": "2020-09-21T16:19:30.553474Z",
     "start_time": "2020-09-21T16:19:29.063313Z"
    }
   },
   "outputs": [],
   "source": [
    "client_credentials_manager = SpotifyClientCredentials(client_id=keyring.get_password('spotify', 'cid'),\n",
    "                                                      client_secret=keyring.get_password('spotify', 'secret') )\n",
    "sp = spotipy.Spotify(client_credentials_manager = client_credentials_manager)\n"
   ]
  },
  {
   "cell_type": "markdown",
   "metadata": {},
   "source": [
    "Set keyword"
   ]
  },
  {
   "cell_type": "code",
   "execution_count": null,
   "metadata": {
    "ExecuteTime": {
     "end_time": "2020-09-21T17:36:31.296309Z",
     "start_time": "2020-09-21T17:36:31.279319Z"
    }
   },
   "outputs": [],
   "source": [
    "KEYWORD = 'Nyoy Volante'"
   ]
  },
  {
   "cell_type": "markdown",
   "metadata": {},
   "source": [
    "## 1. Search Artist for keyword"
   ]
  },
  {
   "cell_type": "markdown",
   "metadata": {},
   "source": [
    "##### View the structure of a search query"
   ]
  },
  {
   "cell_type": "code",
   "execution_count": null,
   "metadata": {},
   "outputs": [],
   "source": [
    "results = sp.search(q=KEYWORD, type='artist', market = 'PH')\n",
    "[r['name'] for r in results['artists']['items']]"
   ]
  },
  {
   "cell_type": "code",
   "execution_count": null,
   "metadata": {},
   "outputs": [],
   "source": [
    "results['artists'].keys()"
   ]
  },
  {
   "cell_type": "code",
   "execution_count": null,
   "metadata": {},
   "outputs": [],
   "source": [
    "results['artists']['items'][0].keys()"
   ]
  },
  {
   "cell_type": "code",
   "execution_count": null,
   "metadata": {},
   "outputs": [],
   "source": []
  },
  {
   "cell_type": "code",
   "execution_count": null,
   "metadata": {},
   "outputs": [],
   "source": [
    "artist_id = results['artists']['items'][0]['id']"
   ]
  },
  {
   "cell_type": "markdown",
   "metadata": {
    "ExecuteTime": {
     "end_time": "2020-09-21T17:12:20.108519Z",
     "start_time": "2020-09-21T17:12:20.096521Z"
    }
   },
   "source": [
    "## 2. Get Albums of an Artist Data"
   ]
  },
  {
   "cell_type": "markdown",
   "metadata": {},
   "source": [
    "##### View the structure of a albums of an artist query"
   ]
  },
  {
   "cell_type": "markdown",
   "metadata": {},
   "source": [
    "***"
   ]
  },
  {
   "cell_type": "code",
   "execution_count": null,
   "metadata": {
    "ExecuteTime": {
     "end_time": "2020-09-21T17:20:54.548193Z",
     "start_time": "2020-09-21T17:19:39.470143Z"
    }
   },
   "outputs": [],
   "source": [
    "results = sp.artist_albums(artist_id)\n",
    "albums = results['items']\n",
    "while results['next']:\n",
    "    results = sp.next(results)\n",
    "    albums.extend(results['items'])\n",
    "\n",
    "album_id = []\n",
    "album_name = []\n",
    "album_numtracks = []\n",
    "album_id.extend([p['href'].split('/')[5] for p in albums])\n",
    "album_name.extend([p['name'] for p in albums])\n",
    "album_numtracks.extend([p['total_tracks'] for p in albums])"
   ]
  },
  {
   "cell_type": "code",
   "execution_count": null,
   "metadata": {},
   "outputs": [],
   "source": [
    "album_df = pd.DataFrame()\n",
    "album_df['album_id'] = album_id\n",
    "album_df['album_name'] = album_name\n",
    "album_df['album_numtracks'] = album_numtracks\n",
    "album_df"
   ]
  },
  {
   "cell_type": "markdown",
   "metadata": {},
   "source": [
    "## 3. Get Tracks from a Playlist"
   ]
  },
  {
   "cell_type": "markdown",
   "metadata": {},
   "source": [
    "##### View the structure of a playlist_tracks query"
   ]
  },
  {
   "cell_type": "code",
   "execution_count": null,
   "metadata": {
    "ExecuteTime": {
     "end_time": "2020-09-21T17:38:11.413036Z",
     "start_time": "2020-09-21T17:38:11.058241Z"
    }
   },
   "outputs": [],
   "source": [
    "track = sp.album_tracks('6BIadH4xk29Synkb6Rh8WR')"
   ]
  },
  {
   "cell_type": "code",
   "execution_count": null,
   "metadata": {
    "ExecuteTime": {
     "end_time": "2020-09-21T17:39:09.696693Z",
     "start_time": "2020-09-21T17:39:09.309916Z"
    }
   },
   "outputs": [],
   "source": [
    "track"
   ]
  },
  {
   "cell_type": "code",
   "execution_count": null,
   "metadata": {
    "ExecuteTime": {
     "end_time": "2020-09-21T17:38:20.274969Z",
     "start_time": "2020-09-21T17:38:20.254978Z"
    }
   },
   "outputs": [],
   "source": [
    "track.keys()"
   ]
  },
  {
   "cell_type": "code",
   "execution_count": null,
   "metadata": {
    "ExecuteTime": {
     "end_time": "2020-09-21T17:38:48.478833Z",
     "start_time": "2020-09-21T17:38:48.470838Z"
    },
    "scrolled": true
   },
   "outputs": [],
   "source": [
    "track['items']"
   ]
  },
  {
   "cell_type": "markdown",
   "metadata": {},
   "source": [
    "***"
   ]
  },
  {
   "cell_type": "code",
   "execution_count": null,
   "metadata": {
    "ExecuteTime": {
     "end_time": "2020-09-21T17:21:37.124836Z",
     "start_time": "2020-09-21T17:21:37.110846Z"
    }
   },
   "outputs": [],
   "source": [
    "def get_relevant_track_data(tracks_data, album_id, album_name):\n",
    "    try:\n",
    "        relevant_track_data = { key: tracks_data[key] for key in ['id','artists','name','duration_ms'] }\n",
    "        relevant_track_data['artist_id']=[artist['id'] for artist in relevant_track_data['artists'] ]\n",
    "        relevant_track_data['artist_name']=[artist['name']for artist in relevant_track_data['artists'] ]\n",
    "        relevant_track_data['num_artists']=len([artist['id'] for artist in relevant_track_data['artists']]) \n",
    "        relevant_track_data['album_id']=album_id\n",
    "        relevant_track_data['album_name']=album_name\n",
    "        \n",
    "        relevant_track_data.pop('artists', None)\n",
    "        return relevant_track_data\n",
    "    except:\n",
    "        return "
   ]
  },
  {
   "cell_type": "code",
   "execution_count": null,
   "metadata": {
    "ExecuteTime": {
     "end_time": "2020-09-21T17:24:42.940541Z",
     "start_time": "2020-09-21T17:22:54.819391Z"
    }
   },
   "outputs": [],
   "source": [
    "#album_tracks\n",
    "all_track_data = []\n",
    "\n",
    "for _,p_id,p_name, p_numtracks in album_df[['album_id','album_name','album_numtracks']].to_records():\n",
    "    print(\"Fetching data for album = %s, with total tracks: %d\" % (p_name,p_numtracks))\n",
    "    n_fetches = p_numtracks // 100\n",
    "    \n",
    "    album_track_data = []\n",
    "    #get tracks in batches of 100\n",
    "    for n in np.arange(n_fetches+1):\n",
    "        track_data = sp.album_tracks(p_id, offset=n*100)\n",
    "        album_track_data.extend([get_relevant_track_data(item, p_id,p_name) for item in track_data['items']])\n",
    "        \n",
    "    all_track_data.extend(album_track_data)"
   ]
  },
  {
   "cell_type": "code",
   "execution_count": null,
   "metadata": {
    "ExecuteTime": {
     "end_time": "2020-09-21T17:27:29.503254Z",
     "start_time": "2020-09-21T17:27:29.479268Z"
    }
   },
   "outputs": [],
   "source": [
    "for n,a in enumerate(all_track_data):\n",
    "    try:\n",
    "        len(a)\n",
    "    except:\n",
    "        print(n)"
   ]
  },
  {
   "cell_type": "code",
   "execution_count": null,
   "metadata": {
    "ExecuteTime": {
     "end_time": "2020-09-21T17:28:34.438107Z",
     "start_time": "2020-09-21T17:28:31.573745Z"
    }
   },
   "outputs": [],
   "source": [
    "tracks_df = pd.DataFrame([data for data in all_track_data if data is not None])\n",
    "tracks_df = tracks_df.rename(columns={'id':'track_id'})\n",
    "tracks_df['artist_id'] = tracks_df.apply(lambda x: x['artist_id'][0] if x['num_artists']==1 else x['artist_id'], axis=1)\n",
    "tracks_df['artist_name'] = tracks_df.apply(lambda x: x['artist_name'][0] if x['num_artists']==1 else x['artist_name'], axis=1)\n",
    "tracks_df.head()"
   ]
  },
  {
   "cell_type": "code",
   "execution_count": null,
   "metadata": {},
   "outputs": [],
   "source": [
    "len(tracks_df)"
   ]
  },
  {
   "cell_type": "code",
   "execution_count": null,
   "metadata": {},
   "outputs": [],
   "source": [
    "len(tracks_df['track_id'].unique())"
   ]
  },
  {
   "cell_type": "code",
   "execution_count": null,
   "metadata": {},
   "outputs": [],
   "source": [
    "tracks_df.to_csv(\"data/\"+KEYWORD+\"_album_tracks.csv\",encoding='utf=8',index=False)"
   ]
  },
  {
   "cell_type": "markdown",
   "metadata": {},
   "source": [
    "## 4. Get Tracks from a Album"
   ]
  },
  {
   "cell_type": "code",
   "execution_count": null,
   "metadata": {},
   "outputs": [],
   "source": [
    "def get_track_data(t_id, playlist_id,playlist_name):                    \n",
    "    track_data = sp.track(t_id)\n",
    "    track_features = sp.audio_features(t_id)\n",
    "    \n",
    "    #get only main(first) artist\n",
    "    td_list = [t_id,\\\n",
    "               track_data['name'],\\\n",
    "               track_data['artists'][0]['id'],\\\n",
    "               track_data['artists'][0]['name'],\\\n",
    "               track_data['album']['uri'].split(\":\")[2],\\\n",
    "               track_data['duration_ms'],\\\n",
    "               track_data['album']['release_date'],\\\n",
    "               track_data['popularity']]\n",
    "    data = pd.DataFrame([td_list], columns = ['track_id','track_name','artist_id','artist_name','album_id','duration','release_date','popularity'])\n",
    "\n",
    "    relevant_cols = ['danceability', 'energy', 'key', 'loudness', 'mode',\\\n",
    "                     'speechiness', 'acousticness', 'instrumentalness', 'liveness', 'valence', 'tempo']  \n",
    "    \n",
    "    tf_data = pd.DataFrame(track_features)\n",
    "    tf_data = tf_data[relevant_cols]\n",
    "    #tag with source playlist\n",
    "    tf_data['playlist_id'] = playlist_id\n",
    "    tf_data['playlist_name'] = playlist_name\n",
    "    \n",
    "    data = pd.concat([data, tf_data], axis=1)\n",
    "    return data\n"
   ]
  },
  {
   "cell_type": "code",
   "execution_count": null,
   "metadata": {},
   "outputs": [],
   "source": [
    "downloaded_track_data = []"
   ]
  },
  {
   "cell_type": "code",
   "execution_count": null,
   "metadata": {},
   "outputs": [],
   "source": [
    "track_list = tracks_df['track_id'].values\n",
    "playlist_name_list = tracks_df['track_id'].values\n",
    "playlist_id_list = tracks_df['track_id'].values\n",
    "df_list=[]\n",
    "\n",
    "for i,track_id in enumerate(track_list):\n",
    "    try:\n",
    "        if track_id not in downloaded_track_data:\n",
    "            print('[%d/%d] Fetching track data for %s... ' % \n",
    "                  (i+1,len(track_list),tracks_df[tracks_df['track_id']==track_id]['name'].values[0]), end = \" \") \n",
    "            track_data = get_track_data(track_id, playlist_id_list[i],playlist_name_list[i]) \n",
    "            df_list.append(track_data)\n",
    "            downloaded_track_data.append(track_id)\n",
    "            print('done!')\n",
    "    except:\n",
    "        continue\n",
    "    else:\n",
    "        continue\n",
    "    \n",
    "    #sleep for 60 secs per 100 requests to avoid being blocked\n",
    "    if (i % 100 == 0)&(i > 0):\n",
    "        time.sleep(20)    "
   ]
  },
  {
   "cell_type": "code",
   "execution_count": null,
   "metadata": {},
   "outputs": [],
   "source": [
    "tracks_data_df = pd.concat(df_list)\n",
    "tracks_data_df.head()"
   ]
  },
  {
   "cell_type": "code",
   "execution_count": null,
   "metadata": {},
   "outputs": [],
   "source": [
    "tracks_data_df.to_csv(\"data/\"+KEYWORD+\"_album_tracks_data.csv\", index=False, encoding='utf-8')"
   ]
  },
  {
   "cell_type": "code",
   "execution_count": null,
   "metadata": {},
   "outputs": [],
   "source": [
    "df_list"
   ]
  }
 ],
 "metadata": {
  "kernelspec": {
   "display_name": "Python 3",
   "language": "python",
   "name": "python3"
  },
  "language_info": {
   "codemirror_mode": {
    "name": "ipython",
    "version": 3
   },
   "file_extension": ".py",
   "mimetype": "text/x-python",
   "name": "python",
   "nbconvert_exporter": "python",
   "pygments_lexer": "ipython3",
   "version": "3.8.5"
  }
 },
 "nbformat": 4,
 "nbformat_minor": 2
}
