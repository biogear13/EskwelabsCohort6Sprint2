{
 "cells": [
  {
   "cell_type": "code",
   "execution_count": 136,
   "metadata": {},
   "outputs": [],
   "source": [
    "import numpy as np\n",
    "import pandas as pd"
   ]
  },
  {
   "cell_type": "code",
   "execution_count": 137,
   "metadata": {},
   "outputs": [],
   "source": [
    "opm_df = pd.read_csv('data/OPM_playlist_tracks.csv')\n",
    "pinoy_df = pd.read_csv('data/pinoy_playlist_tracks.csv')\n",
    "manila_df = pd.read_csv('data/manila_playlist_tracks.csv')\n",
    "tagalog_df = pd.read_csv('data/tagalog_playlist_tracks.csv')\n",
    "bisaya_df = pd.read_csv('data/bisaya_playlist_tracks.csv')\n",
    "ilocano_df = pd.read_csv('data/ilocano_playlist_tracks.csv')"
   ]
  },
  {
   "cell_type": "code",
   "execution_count": 138,
   "metadata": {},
   "outputs": [],
   "source": [
    "filipino_df = pd.concat([opm_df, ilocano_df, bisaya_df, tagalog_df, manila_df, pinoy_df])"
   ]
  },
  {
   "cell_type": "code",
   "execution_count": 139,
   "metadata": {},
   "outputs": [
    {
     "data": {
      "text/html": [
       "<div>\n",
       "<style scoped>\n",
       "    .dataframe tbody tr th:only-of-type {\n",
       "        vertical-align: middle;\n",
       "    }\n",
       "\n",
       "    .dataframe tbody tr th {\n",
       "        vertical-align: top;\n",
       "    }\n",
       "\n",
       "    .dataframe thead th {\n",
       "        text-align: right;\n",
       "    }\n",
       "</style>\n",
       "<table border=\"1\" class=\"dataframe\">\n",
       "  <thead>\n",
       "    <tr style=\"text-align: right;\">\n",
       "      <th></th>\n",
       "      <th>track_id</th>\n",
       "      <th>name</th>\n",
       "      <th>popularity</th>\n",
       "      <th>duration_ms</th>\n",
       "      <th>artist_id</th>\n",
       "      <th>artist_name</th>\n",
       "      <th>num_artists</th>\n",
       "      <th>playlist_id</th>\n",
       "      <th>playlist_name</th>\n",
       "    </tr>\n",
       "  </thead>\n",
       "  <tbody>\n",
       "    <tr>\n",
       "      <th>0</th>\n",
       "      <td>3VcVQmMivq2ISfKUmIuvMK</td>\n",
       "      <td>Rainbow</td>\n",
       "      <td>63</td>\n",
       "      <td>347120</td>\n",
       "      <td>6ZgBJRjJsK1iOJGKGZxEUv</td>\n",
       "      <td>South Border</td>\n",
       "      <td>1</td>\n",
       "      <td>37i9dQZF1DX4olOMiqFeqU</td>\n",
       "      <td>OPM Favorites</td>\n",
       "    </tr>\n",
       "    <tr>\n",
       "      <th>1</th>\n",
       "      <td>3OpGUlDmRUXh0NkIYWoIlD</td>\n",
       "      <td>Your Song</td>\n",
       "      <td>66</td>\n",
       "      <td>168493</td>\n",
       "      <td>2XHTklRsNMOOQT56Zm3WS4</td>\n",
       "      <td>Parokya Ni Edgar</td>\n",
       "      <td>1</td>\n",
       "      <td>37i9dQZF1DX4olOMiqFeqU</td>\n",
       "      <td>OPM Favorites</td>\n",
       "    </tr>\n",
       "    <tr>\n",
       "      <th>2</th>\n",
       "      <td>761frfZtZ8I2g70UsjFfBK</td>\n",
       "      <td>I Need You More Today</td>\n",
       "      <td>63</td>\n",
       "      <td>233728</td>\n",
       "      <td>3XEHRbR9NMWfNzQ6TQMS9M</td>\n",
       "      <td>Caleb Santos</td>\n",
       "      <td>1</td>\n",
       "      <td>37i9dQZF1DX4olOMiqFeqU</td>\n",
       "      <td>OPM Favorites</td>\n",
       "    </tr>\n",
       "    <tr>\n",
       "      <th>3</th>\n",
       "      <td>1yDiru08Q6omDOGkZMPnei</td>\n",
       "      <td>Maybe The Night</td>\n",
       "      <td>69</td>\n",
       "      <td>217197</td>\n",
       "      <td>4DAcJXcjX0zlQAZAPAx4Zb</td>\n",
       "      <td>Ben&amp;Ben</td>\n",
       "      <td>1</td>\n",
       "      <td>37i9dQZF1DX4olOMiqFeqU</td>\n",
       "      <td>OPM Favorites</td>\n",
       "    </tr>\n",
       "    <tr>\n",
       "      <th>4</th>\n",
       "      <td>54b8IPvheXDpro2VR2rWAS</td>\n",
       "      <td>Ivana</td>\n",
       "      <td>61</td>\n",
       "      <td>246550</td>\n",
       "      <td>2EGJbNf0Hva2C2N6hvhMXD</td>\n",
       "      <td>Soulstice</td>\n",
       "      <td>1</td>\n",
       "      <td>37i9dQZF1DX4olOMiqFeqU</td>\n",
       "      <td>OPM Favorites</td>\n",
       "    </tr>\n",
       "    <tr>\n",
       "      <th>...</th>\n",
       "      <td>...</td>\n",
       "      <td>...</td>\n",
       "      <td>...</td>\n",
       "      <td>...</td>\n",
       "      <td>...</td>\n",
       "      <td>...</td>\n",
       "      <td>...</td>\n",
       "      <td>...</td>\n",
       "      <td>...</td>\n",
       "    </tr>\n",
       "    <tr>\n",
       "      <th>1948</th>\n",
       "      <td>2BgD4nRyx9EZ5o8YEnjRSV</td>\n",
       "      <td>Kung 'Di Rin Lang Ikaw</td>\n",
       "      <td>66</td>\n",
       "      <td>267759</td>\n",
       "      <td>['4qFxP3qN9GsnZDOkAE6x2m', '0rZRTXEmmPmx6gt92t...</td>\n",
       "      <td>['December Avenue', 'Moira Dela Torre']</td>\n",
       "      <td>2</td>\n",
       "      <td>7qdNa0n7Kf31vfFor2gmdz</td>\n",
       "      <td>PINOY HITS SONGS 🔥🎶🔊🇵🇭</td>\n",
       "    </tr>\n",
       "    <tr>\n",
       "      <th>1949</th>\n",
       "      <td>00mBzIWv5gHOYxwuEJXjOG</td>\n",
       "      <td>Sa Ngalan Ng Pag-Ibig</td>\n",
       "      <td>64</td>\n",
       "      <td>285138</td>\n",
       "      <td>4qFxP3qN9GsnZDOkAE6x2m</td>\n",
       "      <td>December Avenue</td>\n",
       "      <td>1</td>\n",
       "      <td>7qdNa0n7Kf31vfFor2gmdz</td>\n",
       "      <td>PINOY HITS SONGS 🔥🎶🔊🇵🇭</td>\n",
       "    </tr>\n",
       "    <tr>\n",
       "      <th>1950</th>\n",
       "      <td>1isVBafE79C4qRFLdia35T</td>\n",
       "      <td>On Bended Knee</td>\n",
       "      <td>51</td>\n",
       "      <td>328360</td>\n",
       "      <td>11Jdq2gOTBhmfEYmFrZlue</td>\n",
       "      <td>Kris Lawrence</td>\n",
       "      <td>1</td>\n",
       "      <td>7qdNa0n7Kf31vfFor2gmdz</td>\n",
       "      <td>PINOY HITS SONGS 🔥🎶🔊🇵🇭</td>\n",
       "    </tr>\n",
       "    <tr>\n",
       "      <th>1951</th>\n",
       "      <td>56srmLWNnQcMI7LpzyCNgR</td>\n",
       "      <td>Brown Eyes</td>\n",
       "      <td>45</td>\n",
       "      <td>273866</td>\n",
       "      <td>1Y8cdNmUJH7yBTd9yOvr5i</td>\n",
       "      <td>Destiny's Child</td>\n",
       "      <td>1</td>\n",
       "      <td>7qdNa0n7Kf31vfFor2gmdz</td>\n",
       "      <td>PINOY HITS SONGS 🔥🎶🔊🇵🇭</td>\n",
       "    </tr>\n",
       "    <tr>\n",
       "      <th>1952</th>\n",
       "      <td>5V2AX2WTOHl2FKtftvisV6</td>\n",
       "      <td>Kahit Ayaw Mo Na</td>\n",
       "      <td>1</td>\n",
       "      <td>243015</td>\n",
       "      <td>5HIZU0JzM0AgfItVOm4E08</td>\n",
       "      <td>This Band</td>\n",
       "      <td>1</td>\n",
       "      <td>7qdNa0n7Kf31vfFor2gmdz</td>\n",
       "      <td>PINOY HITS SONGS 🔥🎶🔊🇵🇭</td>\n",
       "    </tr>\n",
       "  </tbody>\n",
       "</table>\n",
       "<p>11318 rows × 9 columns</p>\n",
       "</div>"
      ],
      "text/plain": [
       "                    track_id                    name  popularity  duration_ms  \\\n",
       "0     3VcVQmMivq2ISfKUmIuvMK                 Rainbow          63       347120   \n",
       "1     3OpGUlDmRUXh0NkIYWoIlD               Your Song          66       168493   \n",
       "2     761frfZtZ8I2g70UsjFfBK   I Need You More Today          63       233728   \n",
       "3     1yDiru08Q6omDOGkZMPnei         Maybe The Night          69       217197   \n",
       "4     54b8IPvheXDpro2VR2rWAS                   Ivana          61       246550   \n",
       "...                      ...                     ...         ...          ...   \n",
       "1948  2BgD4nRyx9EZ5o8YEnjRSV  Kung 'Di Rin Lang Ikaw          66       267759   \n",
       "1949  00mBzIWv5gHOYxwuEJXjOG   Sa Ngalan Ng Pag-Ibig          64       285138   \n",
       "1950  1isVBafE79C4qRFLdia35T          On Bended Knee          51       328360   \n",
       "1951  56srmLWNnQcMI7LpzyCNgR              Brown Eyes          45       273866   \n",
       "1952  5V2AX2WTOHl2FKtftvisV6        Kahit Ayaw Mo Na           1       243015   \n",
       "\n",
       "                                              artist_id  \\\n",
       "0                                6ZgBJRjJsK1iOJGKGZxEUv   \n",
       "1                                2XHTklRsNMOOQT56Zm3WS4   \n",
       "2                                3XEHRbR9NMWfNzQ6TQMS9M   \n",
       "3                                4DAcJXcjX0zlQAZAPAx4Zb   \n",
       "4                                2EGJbNf0Hva2C2N6hvhMXD   \n",
       "...                                                 ...   \n",
       "1948  ['4qFxP3qN9GsnZDOkAE6x2m', '0rZRTXEmmPmx6gt92t...   \n",
       "1949                             4qFxP3qN9GsnZDOkAE6x2m   \n",
       "1950                             11Jdq2gOTBhmfEYmFrZlue   \n",
       "1951                             1Y8cdNmUJH7yBTd9yOvr5i   \n",
       "1952                             5HIZU0JzM0AgfItVOm4E08   \n",
       "\n",
       "                                  artist_name  num_artists  \\\n",
       "0                                South Border            1   \n",
       "1                            Parokya Ni Edgar            1   \n",
       "2                                Caleb Santos            1   \n",
       "3                                     Ben&Ben            1   \n",
       "4                                   Soulstice            1   \n",
       "...                                       ...          ...   \n",
       "1948  ['December Avenue', 'Moira Dela Torre']            2   \n",
       "1949                          December Avenue            1   \n",
       "1950                            Kris Lawrence            1   \n",
       "1951                          Destiny's Child            1   \n",
       "1952                                This Band            1   \n",
       "\n",
       "                 playlist_id           playlist_name  \n",
       "0     37i9dQZF1DX4olOMiqFeqU           OPM Favorites  \n",
       "1     37i9dQZF1DX4olOMiqFeqU           OPM Favorites  \n",
       "2     37i9dQZF1DX4olOMiqFeqU           OPM Favorites  \n",
       "3     37i9dQZF1DX4olOMiqFeqU           OPM Favorites  \n",
       "4     37i9dQZF1DX4olOMiqFeqU           OPM Favorites  \n",
       "...                      ...                     ...  \n",
       "1948  7qdNa0n7Kf31vfFor2gmdz  PINOY HITS SONGS 🔥🎶🔊🇵🇭  \n",
       "1949  7qdNa0n7Kf31vfFor2gmdz  PINOY HITS SONGS 🔥🎶🔊🇵🇭  \n",
       "1950  7qdNa0n7Kf31vfFor2gmdz  PINOY HITS SONGS 🔥🎶🔊🇵🇭  \n",
       "1951  7qdNa0n7Kf31vfFor2gmdz  PINOY HITS SONGS 🔥🎶🔊🇵🇭  \n",
       "1952  7qdNa0n7Kf31vfFor2gmdz  PINOY HITS SONGS 🔥🎶🔊🇵🇭  \n",
       "\n",
       "[11318 rows x 9 columns]"
      ]
     },
     "execution_count": 139,
     "metadata": {},
     "output_type": "execute_result"
    }
   ],
   "source": [
    "filipino_df"
   ]
  },
  {
   "cell_type": "code",
   "execution_count": 140,
   "metadata": {},
   "outputs": [
    {
     "data": {
      "text/plain": [
       "(104494, 6)"
      ]
     },
     "execution_count": 140,
     "metadata": {},
     "output_type": "execute_result"
    }
   ],
   "source": [
    "chart_opm_df = chart_df[chart_df['track_id'].isin(filipino_df['track_id'])]\n",
    "chart_opm_df.shape"
   ]
  },
  {
   "cell_type": "code",
   "execution_count": 141,
   "metadata": {},
   "outputs": [
    {
     "data": {
      "text/plain": [
       "(440, 6)"
      ]
     },
     "execution_count": 141,
     "metadata": {},
     "output_type": "execute_result"
    }
   ],
   "source": [
    "chart_opm_artist_df = chart_opm_df.drop_duplicates(subset='track_id')\n",
    "chart_opm_artist_df.shape"
   ]
  },
  {
   "cell_type": "code",
   "execution_count": 142,
   "metadata": {},
   "outputs": [
    {
     "data": {
      "text/plain": [
       "24                     SUD\n",
       "39        Silent Sanctuary\n",
       "45          Up Dharma Down\n",
       "49        Moira Dela Torre\n",
       "50              Bruno Mars\n",
       "                ...       \n",
       "278697          Little Mix\n",
       "279000       Ariana Grande\n",
       "283559            JM Bales\n",
       "291586            347aidan\n",
       "293287      Olivia Rodrigo\n",
       "Name: artist, Length: 220, dtype: object"
      ]
     },
     "execution_count": 142,
     "metadata": {},
     "output_type": "execute_result"
    }
   ],
   "source": [
    "chart_opm_artist_df=chart_opm_artist_df.drop_duplicates(subset='artist')\n",
    "chart_opm_artist_df['artist']"
   ]
  },
  {
   "cell_type": "code",
   "execution_count": 143,
   "metadata": {},
   "outputs": [
    {
     "data": {
      "text/plain": [
       "array(['SUD', 'Silent Sanctuary', 'Up Dharma Down', 'Moira Dela Torre',\n",
       "       'Bruno Mars', 'Daryl Ong', 'Yeng Constantino',\n",
       "       'Michael Pangilinan', 'Juris', 'Moonstar88', 'Nina', 'Mark Carpio',\n",
       "       'MYMP', 'South Border', 'James Reid', '6cyclemind',\n",
       "       'Julie Anne San Jose', 'Piolo Pascual', 'The Goo Goo Dolls',\n",
       "       'Sitti', 'Bailey May', 'Eraserheads', 'Jericho Rosales',\n",
       "       'Angeline Quinto', 'John Mayer', 'Christina Perri', 'Toni Gonzaga',\n",
       "       'Hale', 'Morissette', 'Abra', 'Hoobastank', 'Coldplay', 'The Fray',\n",
       "       'Joshua Garcia', 'KZ Tandingan', 'The Company', 'Callalily',\n",
       "       'Gloc 9', 'Inigo Pascual', 'Sponge Cola', 'Christian Bautista',\n",
       "       'Jona', 'Kiana V', 'Edwin McCain', 'Rachel Platten', 'Jay R',\n",
       "       'Kaye Cal', 'krissy & ericka', 'The Chainsmokers', 'Erik Santos',\n",
       "       'Sarah Geronimo', 'DJ Khaled', 'Claudia', 'Thyro', 'Mayonnaise',\n",
       "       'Daniel Padilla', 'Louis Tomlinson', 'Parokya Ni Edgar',\n",
       "       'Caleb Santos', 'Rivermaya', 'Daniel Caesar', 'Bebe Rexha',\n",
       "       'Ex Battalion', 'Mariah Carey', 'Kamikazee', 'Jose Mari Chan',\n",
       "       'Al James', 'Lea Salonga', 'Ben&Ben', 'Aiza Seguerra',\n",
       "       'Lyca Gairanod', 'Alisah Bonaobra', 'Gary Valenciano',\n",
       "       'Acapellago', 'Aegis', 'Darren Espanto', 'Orange & Lemons',\n",
       "       'Bosx1ne', 'John Roa', 'Zac Efron', 'Karencitta', 'Shanti Dope',\n",
       "       'IV Of Spades', 'December Avenue', 'Zedd', 'Autotelic', 'Bazzi',\n",
       "       'Kyle Juliano', 'Janine Teñoso', 'Chlara', 'The Itchyworms',\n",
       "       'The Juans', 'Calum Scott', 'Ne-Yo', 'Joseph Vincent',\n",
       "       'Angelina Cruz', 'I Belong to the Zoo', 'Marion Aunor', 'Imago',\n",
       "       'Nyoy Volante', 'Unique Salonga', 'Anne-Marie', 'Ciara',\n",
       "       'Khel Pangilinan', 'Backstreet Boys', 'Leanne & Naara',\n",
       "       'juan karlos', 'This Band', 'Drei Rana', 'Midnight Meetings',\n",
       "       'Patch Quiwa', 'Because', 'Just Hush', 'TJ Monterde', 'Nef Medina',\n",
       "       'Kithara', 'Tres Hermanas', 'Ariel Rivera', 'Cocoy Claravall',\n",
       "       'ALLMO$T', 'PDL', 'JM De Guzman', 'Jeremy Zucker', 'Armi Millare',\n",
       "       'Billy Crawford', 'Pricetagg', 'BTS', 'Alisson Shore', 'Freestyle',\n",
       "       'Join The Club', 'CLR', 'Kiyo', 'Agsunta', '*NSYNC',\n",
       "       'VVS Collective', 'Arvey', 'King Badger', 'Y2K',\n",
       "       'Psychedelic Boyz', 'Skusta Clee', 'Taylor Swift',\n",
       "       'Justin Vasquez', 'Geo Ong', 'Magnus Haven', 'Maroon 5',\n",
       "       'Dan + Shay', 'Michael Dutchi Libranda', 'Nik Makino', 'Kina',\n",
       "       'Dua Lipa', 'Arizona Zervas', 'Tatak Pinoy All-Stars', 'Matthaios',\n",
       "       'Tyga', 'Trevor Daniel', 'ABS-CBN Music All Star', 'Justin Bieber',\n",
       "       'Bee Gees', 'Soulstice', 'Young Thug', 'SZA', 'Powfu', 'Flow G',\n",
       "       'Selena Gomez', 'MC Einstein', 'Doja Cat', 'Hillsong UNITED',\n",
       "       'Kenny Rogers', 'MEDUZA', 'Jr Crown', 'Emman',\n",
       "       'Megan Thee Stallion', 'Surf Mesa', 'Drake', 'Casting Crowns',\n",
       "       'Stephen Speaks', 'Maximillian', 'Brian Pepito', 'Soulthrll',\n",
       "       'Tanya Manalang', 'Gian Magdangal', 'Lady Gaga', 'Juan Caoile',\n",
       "       'Music Hero', 'Arthur Nery', 'Conkarah', 'Ace Banzuelo',\n",
       "       'Lil Vinceyy', 'BLACKPINK', 'Audrey Mika', 'Jana Garcia',\n",
       "       'Chris Brown', 'Michael Bars', 'Alessandra De Rossi',\n",
       "       'Twenty-Nine Eleven', 'SB19', 'Cardi B', 'Miley Cyrus',\n",
       "       'Jem Macatuno', 'Bandang Lapis', '24kGoldn', 'DJ Noiz',\n",
       "       'Jason Derulo', 'Jimmy Bondoc', 'Pink Sweat$', 'salem ilese',\n",
       "       'Vedo', 'Julian Sean', 'Gagong Rapper', 'Jom', 'Sam Smith',\n",
       "       'Pop Smoke', 'Rob Deniel', 'Jawsh 685', 'Ebe Dancel', 'Little Mix',\n",
       "       'Ariana Grande', 'JM Bales', '347aidan', 'Olivia Rodrigo'],\n",
       "      dtype=object)"
      ]
     },
     "execution_count": 143,
     "metadata": {},
     "output_type": "execute_result"
    }
   ],
   "source": [
    "chart_opm_artist_df['artist'].unique()"
   ]
  },
  {
   "cell_type": "code",
   "execution_count": 144,
   "metadata": {},
   "outputs": [],
   "source": [
    "chart_opm_artist_df.to_csv(\"chart_opm_artist_to_be_verified.csv\", index=False, encoding='utf-8')"
   ]
  },
  {
   "cell_type": "markdown",
   "metadata": {},
   "source": [
    "OPM : 95\n",
    "OPM + Ilocano : 100\n",
    "OPM + Ilocano + Bisaya : 105\n",
    "OPM + Ilocano + Bisaya + Tagalog: 133 (Some foreign singers)\n",
    "OPM + Ilocano + Bisaya + Tagalog + Manila: 177 (more foreign singers)\n",
    "OPM + Ilocano + Bisaya + Tagalog + Manila + Pinoy:220 (more foreign singers) Filipino is just 147\n"
   ]
  },
  {
   "cell_type": "code",
   "execution_count": null,
   "metadata": {},
   "outputs": [],
   "source": []
  }
 ],
 "metadata": {
  "kernelspec": {
   "display_name": "Python 3",
   "language": "python",
   "name": "python3"
  },
  "language_info": {
   "codemirror_mode": {
    "name": "ipython",
    "version": 3
   },
   "file_extension": ".py",
   "mimetype": "text/x-python",
   "name": "python",
   "nbconvert_exporter": "python",
   "pygments_lexer": "ipython3",
   "version": "3.8.5"
  }
 },
 "nbformat": 4,
 "nbformat_minor": 4
}
