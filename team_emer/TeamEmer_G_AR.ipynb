{
 "cells": [
  {
   "cell_type": "markdown",
   "metadata": {},
   "source": [
    "# \n",
    "# Tracks' Genre Classification - [ *Team Emer* ]\n",
    "# "
   ]
  },
  {
   "cell_type": "code",
   "execution_count": 1,
   "metadata": {
    "ExecuteTime": {
     "end_time": "2020-10-08T11:05:19.371153Z",
     "start_time": "2020-10-08T11:04:27.654897Z"
    }
   },
   "outputs": [],
   "source": [
    "import pandas as pd\n",
    "import numpy as np\n",
    "\n",
    "import seaborn as sns\n",
    "import matplotlib.pyplot as plt\n",
    "%matplotlib inline\n",
    "\n",
    "import warnings\n",
    "warnings.filterwarnings('ignore')"
   ]
  },
  {
   "cell_type": "markdown",
   "metadata": {},
   "source": [
    "# \n",
    "# Feature Selection"
   ]
  },
  {
   "cell_type": "code",
   "execution_count": 2,
   "metadata": {},
   "outputs": [],
   "source": [
    "#################    ALL     #######################\n",
    "# genre_names = ['Acoustic', 'R&B', 'Classical', 'Country', 'Electronic', 'Hiphop', 'Jazz', 'Pop', 'Rock', 'Reggae', \"Rap\"]\n",
    "# feature_cols = ['danceability', 'energy', 'key', 'loudness', 'mode', 'speechiness', 'acousticness', 'instrumentalness','liveness', 'valence', 'tempo']\n",
    "\n",
    "\n",
    "#############     TYRONE    ####################\n",
    "# genre_names = ['Rock', 'R&B', 'Acoustic']\n",
    "# feature_cols =  ['danceability', 'energy', 'acousticness', 'valence', 'tempo']  #'loudness','speechiness', 'instrumentalness', 'liveness'\n",
    "\n",
    "\n",
    "# ###############    RODS    #######################\n",
    "# genre_names = ['Classical', 'Reggae', 'Acoustic', 'Hiphop', 'Rock']\n",
    "# feature_cols = ['danceability', 'energy', 'key', 'loudness', 'mode', 'speechiness', 'acousticness', 'instrumentalness', 'valence', 'tempo'] #'liveness'\n",
    "\n",
    "\n",
    "# ##############     G-AR    #######################\n",
    "genre_names = ['Rock', 'Hiphop', 'R&B', 'Folk', 'Indie', 'Acoustic']\n",
    "feature_cols = ['danceability', 'energy', 'key', 'loudness', 'mode', 'speechiness', 'acousticness', 'instrumentalness','liveness', 'valence', 'tempo']\n",
    "\n",
    "\n",
    "##############     KAYE    ####################\n",
    "# genre_names = ['Rock', 'R&B', 'Acoustic', 'Country']\n",
    "# feature_cols = ['popularity', 'danceability', 'energy', 'key', 'loudness', 'mode', 'speechiness', 'acousticness', 'instrumentalness','liveness', 'valence', 'tempo']\n",
    "\n",
    "\n"
   ]
  },
  {
   "cell_type": "code",
   "execution_count": 3,
   "metadata": {},
   "outputs": [
    {
     "data": {
      "text/plain": [
       "track_id            False\n",
       "track_name          False\n",
       "artist_id           False\n",
       "artist_name         False\n",
       "album_id            False\n",
       "duration            False\n",
       "release_date        False\n",
       "popularity          False\n",
       "danceability        False\n",
       "energy              False\n",
       "key                 False\n",
       "loudness            False\n",
       "mode                False\n",
       "speechiness         False\n",
       "acousticness        False\n",
       "instrumentalness    False\n",
       "liveness            False\n",
       "valence             False\n",
       "tempo               False\n",
       "duration_mins       False\n",
       "genre               False\n",
       "genre_id            False\n",
       "playlist_id         False\n",
       "playlist_name       False\n",
       "dtype: bool"
      ]
     },
     "execution_count": 3,
     "metadata": {},
     "output_type": "execute_result"
    }
   ],
   "source": [
    "tracks = []\n",
    "for i, KEYWORD in enumerate(genre_names):\n",
    "    # Read and process the playlist data for keyword\n",
    "    playlist_df = pd.read_csv('data/'+KEYWORD+'_playlist_data.csv')    \n",
    "    tdf = pd.read_csv('data/'+KEYWORD+'_playlist_tracks_data.csv')\\\n",
    "    .merge(pd.read_csv('data/'+KEYWORD+'_playlist_tracks.csv')[['track_id','playlist_id','playlist_name']],\\\n",
    "                      on='track_id',how='left')\n",
    "    \n",
    "    # Make duration ms to minutes\n",
    "    tdf['duration_mins'] = tdf['duration'] / 60000\n",
    "    # Tag the 'genre' column with keyword then append to tmp 'tracks' dataframe\n",
    "    tdf['genre'] = KEYWORD\n",
    "    tdf['genre_id'] = i + 1\n",
    "    tracks.append(tdf)\n",
    "    \n",
    "# Get union of all playlist tracks list\n",
    "tracks_df = pd.concat(tracks)\n",
    "# Clean the final dataframe for modeling\n",
    "tracks_df = tracks_df.dropna(axis=1)\n",
    "tracks_df['playlist_id'] = tracks_df['playlist_id_x']\n",
    "tracks_df['playlist_name'] = tracks_df['playlist_name_x']\n",
    "tracks_df = tracks_df.drop(['playlist_id_x', 'playlist_name_x', 'playlist_id_y', 'playlist_name_y'], axis=1)\n",
    "tracks_df.isnull().any()"
   ]
  },
  {
   "cell_type": "markdown",
   "metadata": {},
   "source": [
    "# \n",
    "# Dataset *(Training and Test Sets)*"
   ]
  },
  {
   "cell_type": "code",
   "execution_count": 4,
   "metadata": {},
   "outputs": [
    {
     "name": "stdout",
     "output_type": "stream",
     "text": [
      "Shape of X_Train: (9293, 11)\n",
      "Shape of y_Train: (9293,)\n",
      "Shape of X_Test: (2324, 11)\n",
      "Shape of y_Test: (2324,)\n"
     ]
    }
   ],
   "source": [
    "from sklearn.model_selection import train_test_split\n",
    "\n",
    "# Create feature matrix (X)\n",
    "X = tracks_df[feature_cols]\n",
    "y = tracks_df['genre_id']\n",
    "\n",
    "# Create the training set, test set  \n",
    "X_train, X_test, y_train, y_test = train_test_split(X, y, test_size=0.2, random_state=42)\n",
    "\n",
    "# ... and checking shapes\n",
    "print(\"Shape of X_Train: \" + str(X_train.shape))\n",
    "print(\"Shape of y_Train: \" + str(y_train.shape))\n",
    "print(\"Shape of X_Test: \" + str(X_test.shape))\n",
    "print(\"Shape of y_Test: \" + str(y_test.shape))"
   ]
  },
  {
   "cell_type": "markdown",
   "metadata": {},
   "source": [
    "# \n",
    "# Feature Scaling"
   ]
  },
  {
   "cell_type": "code",
   "execution_count": 5,
   "metadata": {},
   "outputs": [
    {
     "data": {
      "text/html": [
       "<div>\n",
       "<style scoped>\n",
       "    .dataframe tbody tr th:only-of-type {\n",
       "        vertical-align: middle;\n",
       "    }\n",
       "\n",
       "    .dataframe tbody tr th {\n",
       "        vertical-align: top;\n",
       "    }\n",
       "\n",
       "    .dataframe thead th {\n",
       "        text-align: right;\n",
       "    }\n",
       "</style>\n",
       "<table border=\"1\" class=\"dataframe\">\n",
       "  <thead>\n",
       "    <tr style=\"text-align: right;\">\n",
       "      <th></th>\n",
       "      <th>danceability</th>\n",
       "      <th>energy</th>\n",
       "      <th>key</th>\n",
       "      <th>loudness</th>\n",
       "      <th>mode</th>\n",
       "      <th>speechiness</th>\n",
       "      <th>acousticness</th>\n",
       "      <th>instrumentalness</th>\n",
       "      <th>liveness</th>\n",
       "      <th>valence</th>\n",
       "      <th>tempo</th>\n",
       "    </tr>\n",
       "  </thead>\n",
       "  <tbody>\n",
       "    <tr>\n",
       "      <th>count</th>\n",
       "      <td>11617.000000</td>\n",
       "      <td>11617.000000</td>\n",
       "      <td>11617.000000</td>\n",
       "      <td>11617.000000</td>\n",
       "      <td>11617.000000</td>\n",
       "      <td>11617.000000</td>\n",
       "      <td>11617.000000</td>\n",
       "      <td>11617.000000</td>\n",
       "      <td>11617.000000</td>\n",
       "      <td>11617.000000</td>\n",
       "      <td>11617.000000</td>\n",
       "    </tr>\n",
       "    <tr>\n",
       "      <th>mean</th>\n",
       "      <td>0.589706</td>\n",
       "      <td>0.519276</td>\n",
       "      <td>5.199449</td>\n",
       "      <td>-9.215049</td>\n",
       "      <td>0.683137</td>\n",
       "      <td>0.078370</td>\n",
       "      <td>0.406117</td>\n",
       "      <td>0.126395</td>\n",
       "      <td>0.164809</td>\n",
       "      <td>0.462995</td>\n",
       "      <td>118.879511</td>\n",
       "    </tr>\n",
       "    <tr>\n",
       "      <th>std</th>\n",
       "      <td>0.154988</td>\n",
       "      <td>0.234693</td>\n",
       "      <td>3.557682</td>\n",
       "      <td>3.979487</td>\n",
       "      <td>0.465274</td>\n",
       "      <td>0.089979</td>\n",
       "      <td>0.344336</td>\n",
       "      <td>0.276091</td>\n",
       "      <td>0.130097</td>\n",
       "      <td>0.235595</td>\n",
       "      <td>29.904804</td>\n",
       "    </tr>\n",
       "    <tr>\n",
       "      <th>min</th>\n",
       "      <td>0.000000</td>\n",
       "      <td>0.000879</td>\n",
       "      <td>0.000000</td>\n",
       "      <td>-38.243000</td>\n",
       "      <td>0.000000</td>\n",
       "      <td>0.000000</td>\n",
       "      <td>0.000001</td>\n",
       "      <td>0.000000</td>\n",
       "      <td>0.017700</td>\n",
       "      <td>0.000000</td>\n",
       "      <td>0.000000</td>\n",
       "    </tr>\n",
       "    <tr>\n",
       "      <th>25%</th>\n",
       "      <td>0.486000</td>\n",
       "      <td>0.335000</td>\n",
       "      <td>2.000000</td>\n",
       "      <td>-11.398000</td>\n",
       "      <td>0.000000</td>\n",
       "      <td>0.032400</td>\n",
       "      <td>0.066100</td>\n",
       "      <td>0.000000</td>\n",
       "      <td>0.097000</td>\n",
       "      <td>0.273000</td>\n",
       "      <td>94.967000</td>\n",
       "    </tr>\n",
       "    <tr>\n",
       "      <th>50%</th>\n",
       "      <td>0.592000</td>\n",
       "      <td>0.527000</td>\n",
       "      <td>5.000000</td>\n",
       "      <td>-8.559000</td>\n",
       "      <td>1.000000</td>\n",
       "      <td>0.041500</td>\n",
       "      <td>0.326000</td>\n",
       "      <td>0.000138</td>\n",
       "      <td>0.115000</td>\n",
       "      <td>0.442000</td>\n",
       "      <td>116.907000</td>\n",
       "    </tr>\n",
       "    <tr>\n",
       "      <th>75%</th>\n",
       "      <td>0.696000</td>\n",
       "      <td>0.700000</td>\n",
       "      <td>8.000000</td>\n",
       "      <td>-6.296000</td>\n",
       "      <td>1.000000</td>\n",
       "      <td>0.073500</td>\n",
       "      <td>0.753000</td>\n",
       "      <td>0.028200</td>\n",
       "      <td>0.176000</td>\n",
       "      <td>0.645000</td>\n",
       "      <td>139.841000</td>\n",
       "    </tr>\n",
       "    <tr>\n",
       "      <th>max</th>\n",
       "      <td>0.974000</td>\n",
       "      <td>0.998000</td>\n",
       "      <td>11.000000</td>\n",
       "      <td>0.175000</td>\n",
       "      <td>1.000000</td>\n",
       "      <td>0.907000</td>\n",
       "      <td>0.996000</td>\n",
       "      <td>0.996000</td>\n",
       "      <td>0.986000</td>\n",
       "      <td>0.999000</td>\n",
       "      <td>214.527000</td>\n",
       "    </tr>\n",
       "  </tbody>\n",
       "</table>\n",
       "</div>"
      ],
      "text/plain": [
       "       danceability        energy           key      loudness          mode  \\\n",
       "count  11617.000000  11617.000000  11617.000000  11617.000000  11617.000000   \n",
       "mean       0.589706      0.519276      5.199449     -9.215049      0.683137   \n",
       "std        0.154988      0.234693      3.557682      3.979487      0.465274   \n",
       "min        0.000000      0.000879      0.000000    -38.243000      0.000000   \n",
       "25%        0.486000      0.335000      2.000000    -11.398000      0.000000   \n",
       "50%        0.592000      0.527000      5.000000     -8.559000      1.000000   \n",
       "75%        0.696000      0.700000      8.000000     -6.296000      1.000000   \n",
       "max        0.974000      0.998000     11.000000      0.175000      1.000000   \n",
       "\n",
       "        speechiness  acousticness  instrumentalness      liveness  \\\n",
       "count  11617.000000  11617.000000      11617.000000  11617.000000   \n",
       "mean       0.078370      0.406117          0.126395      0.164809   \n",
       "std        0.089979      0.344336          0.276091      0.130097   \n",
       "min        0.000000      0.000001          0.000000      0.017700   \n",
       "25%        0.032400      0.066100          0.000000      0.097000   \n",
       "50%        0.041500      0.326000          0.000138      0.115000   \n",
       "75%        0.073500      0.753000          0.028200      0.176000   \n",
       "max        0.907000      0.996000          0.996000      0.986000   \n",
       "\n",
       "            valence         tempo  \n",
       "count  11617.000000  11617.000000  \n",
       "mean       0.462995    118.879511  \n",
       "std        0.235595     29.904804  \n",
       "min        0.000000      0.000000  \n",
       "25%        0.273000     94.967000  \n",
       "50%        0.442000    116.907000  \n",
       "75%        0.645000    139.841000  \n",
       "max        0.999000    214.527000  "
      ]
     },
     "execution_count": 5,
     "metadata": {},
     "output_type": "execute_result"
    }
   ],
   "source": [
    "# Normalize numeric columns\n",
    "from sklearn.preprocessing import StandardScaler\n",
    "scaler = StandardScaler()\n",
    "X_train = scaler.fit_transform(X_train)\n",
    "X_test = scaler.transform(X_test)\n",
    "\n",
    "tracks_df[feature_cols].describe()"
   ]
  },
  {
   "cell_type": "markdown",
   "metadata": {},
   "source": [
    "### Classification and Accuracy Result Function"
   ]
  },
  {
   "cell_type": "code",
   "execution_count": 6,
   "metadata": {},
   "outputs": [],
   "source": [
    "from sklearn.metrics import accuracy_score, roc_curve, auc, confusion_matrix, classification_report\n",
    "from sklearn.model_selection import cross_val_score\n",
    "\n",
    "classifiers = []\n",
    "\n",
    "def classify(classifier, name, X_train, y_train, y_test, y_pred, cv=10):\n",
    "    # evaluate accuracy\n",
    "    acc = accuracy_score(y_test, y_pred) * 100\n",
    "    print(f'\\nThe accuracy of the {name} classifier is {acc} %')\n",
    "\n",
    "    # show classification report\n",
    "    print('\\n\\nClassification Report\\n')\n",
    "    print(classification_report(y_test, y_pred, target_names=genre_names))\n",
    "    \n",
    "    # show cross-validation accuracy\n",
    "    accuracies = cross_val_score(estimator=classifier, X=X_train, y=y_train, cv=cv)\n",
    "    print(f'\\nCross-Validation Accuracy at cv={cv} is: {accuracies.mean() * 100} %\\n')\n",
    "    \n",
    "    classifiers.append((classifier, name, accuracies.mean() * 100))\n",
    "    # classifiers.append((classifier, name, acc))  ## use THIS(instead of above) to skip cross-validation accuracy metric to speed up this function call\n",
    "    \n",
    "    \n",
    "    \n",
    "    \n",
    "    ###################################################################\n",
    "    #######   Add code here to save the model in pickl format   #######\n",
    "    ###################################################################\n"
   ]
  },
  {
   "cell_type": "markdown",
   "metadata": {},
   "source": [
    "# \n",
    "# KNN Classifier"
   ]
  },
  {
   "cell_type": "code",
   "execution_count": 7,
   "metadata": {},
   "outputs": [
    {
     "name": "stdout",
     "output_type": "stream",
     "text": [
      "Fitting for k=2 \t with score=0.4302147065291619\n",
      "Fitting for k=3 \t with score=0.44065511533965296\n",
      "Fitting for k=4 \t with score=0.45195481324583026\n",
      "Fitting for k=5 \t with score=0.4591655960276399\n",
      "Fitting for k=6 \t with score=0.46152956699885406\n",
      "Fitting for k=7 \t with score=0.45916281815340804\n",
      "Fitting for k=8 \t with score=0.4590561014850053\n",
      "Fitting for k=9 \t with score=0.4601333379631237\n",
      "Fitting for k=10 \t with score=0.45937902936444547\n",
      "Fitting for k=11 \t with score=0.45884220516916097\n",
      "Fitting for k=12 \t with score=0.4615317661492876\n",
      "Fitting for k=13 \t with score=0.4579817586258782\n",
      "Fitting for k=14 \t with score=0.4606709723717259\n",
      "Fitting for k=15 \t with score=0.4649756357280924\n",
      "Fitting for k=16 \t with score=0.4633619222889684\n",
      "Fitting for k=17 \t with score=0.46863224417514504\n",
      "Fitting for k=18 \t with score=0.4646513189115363\n",
      "Fitting for k=19 \t with score=0.4642201696818177\n",
      "Fitting for k=20 \t with score=0.46260437283701983\n",
      "Fitting for k=21 \t with score=0.46314351192749753\n",
      "Fitting for k=22 \t with score=0.4637887889625797\n",
      "Fitting for k=23 \t with score=0.4610991122376934\n",
      "Fitting for k=24 \t with score=0.46185133743069784\n",
      "Fitting for k=25 \t with score=0.46056170931861057\n",
      "Fitting for k=26 \t with score=0.4604553398844867\n",
      "Fitting for k=27 \t with score=0.4617461254441705\n",
      "Fitting for k=28 \t with score=0.46303795270669124\n",
      "Fitting for k=29 \t with score=0.4628220887299328\n",
      "Fitting for k=30 \t with score=0.4662630646897461\n",
      "Fitting for k=31 \t with score=0.4677704086947464\n",
      "Fitting for k=32 \t with score=0.4666959500908597\n",
      "Fitting for k=33 \t with score=0.46551257566813664\n",
      "Fitting for k=34 \t with score=0.46110015394053033\n",
      "Fitting for k=35 \t with score=0.4621761172262926\n",
      "Fitting for k=36 \t with score=0.4616382513281711\n",
      "Fitting for k=37 \t with score=0.46249811914765554\n",
      "Fitting for k=38 \t with score=0.4649740153014572\n",
      "Fitting for k=39 \t with score=0.4656192923365395\n",
      "Fitting for k=40 \t with score=0.4664796231350626\n",
      "Fitting for k=41 \t with score=0.46282220447469247\n",
      "Fitting for k=42 \t with score=0.46497389955669755\n",
      "Fitting for k=43 \t with score=0.4657271664525389\n",
      "Fitting for k=44 \t with score=0.4642212113846546\n",
      "Fitting for k=45 \t with score=0.4673420373392595\n",
      "Fitting for k=46 \t with score=0.46594222021597975\n",
      "Fitting for k=47 \t with score=0.4648667199092561\n",
      "Fitting for k=48 \t with score=0.4629303100802112\n",
      "Fitting for k=49 \t with score=0.46562044978413597\n",
      "Fitting for k=50 \t with score=0.4652977533942151\n",
      "\n",
      "The optimal number of neighbors for kNN classifier is k=17.\n"
     ]
    }
   ],
   "source": [
    "from sklearn.neighbors import KNeighborsClassifier \n",
    "\n",
    "# kNN model tuning\n",
    "cv_scores = []\n",
    "neighbors = np.arange(2,51)\n",
    "\n",
    "for k in neighbors:\n",
    "    knn = KNeighborsClassifier(n_neighbors=k)\n",
    "    scores = cross_val_score(knn, X_train, y_train, cv=10, scoring='accuracy')\n",
    "    cv_scores.append(scores.mean())\n",
    "    print(f'Fitting for k={k} \\t with score={scores.mean()}')\n",
    "\n",
    "# Changing to misclassification error\n",
    "mse = [1 - x for x in cv_scores]\n",
    "\n",
    "# Determine the best 'k'\n",
    "optimal_k = neighbors[mse.index(min(mse))]\n",
    "print(f'\\nThe optimal number of neighbors for kNN classifier is k={optimal_k}.')"
   ]
  },
  {
   "cell_type": "markdown",
   "metadata": {},
   "source": [
    "## Optimal kNN Model"
   ]
  },
  {
   "cell_type": "code",
   "execution_count": 8,
   "metadata": {},
   "outputs": [
    {
     "name": "stdout",
     "output_type": "stream",
     "text": [
      "\n",
      "The accuracy of the kNN classifier is 46.77280550774527 %\n",
      "\n",
      "\n",
      "Classification Report\n",
      "\n",
      "              precision    recall  f1-score   support\n",
      "\n",
      "        Rock       0.48      0.60      0.53       428\n",
      "      Hiphop       0.67      0.75      0.71       443\n",
      "         R&B       0.40      0.22      0.28       241\n",
      "        Folk       0.32      0.31      0.31       392\n",
      "       Indie       0.35      0.22      0.27       447\n",
      "    Acoustic       0.46      0.60      0.52       373\n",
      "\n",
      "    accuracy                           0.47      2324\n",
      "   macro avg       0.44      0.45      0.44      2324\n",
      "weighted avg       0.45      0.47      0.45      2324\n",
      "\n",
      "\n",
      "Cross-Validation Accuracy at cv=10 is: 46.8632244175145 %\n",
      "\n"
     ]
    }
   ],
   "source": [
    "# Train the model\n",
    "classifier = knn_optimal = KNeighborsClassifier(n_neighbors=optimal_k)\n",
    "classifier.fit(X_train, y_train)\n",
    "\n",
    "# Test the prediction\n",
    "y_pred = classifier.predict(X_test)\n",
    "\n",
    "# Show the classification and accuracy result\n",
    "classify(classifier=classifier, name='kNN', X_train=X_train, y_train=y_train, y_test=y_test, y_pred=y_pred)"
   ]
  },
  {
   "cell_type": "markdown",
   "metadata": {},
   "source": [
    "# \n",
    "# Support Vector Machine Classifiers"
   ]
  },
  {
   "cell_type": "code",
   "execution_count": 9,
   "metadata": {},
   "outputs": [],
   "source": [
    "from sklearn.svm import SVC"
   ]
  },
  {
   "cell_type": "markdown",
   "metadata": {},
   "source": [
    "## SVM (Linear Kernel) Classifier"
   ]
  },
  {
   "cell_type": "code",
   "execution_count": 10,
   "metadata": {},
   "outputs": [
    {
     "name": "stdout",
     "output_type": "stream",
     "text": [
      "\n",
      "The accuracy of the SVM (Linear Kernel) classifier is 47.37521514629948 %\n",
      "\n",
      "\n",
      "Classification Report\n",
      "\n",
      "              precision    recall  f1-score   support\n",
      "\n",
      "        Rock       0.48      0.68      0.56       428\n",
      "      Hiphop       0.63      0.75      0.69       443\n",
      "         R&B       0.39      0.23      0.29       241\n",
      "        Folk       0.35      0.24      0.28       392\n",
      "       Indie       0.33      0.16      0.22       447\n",
      "    Acoustic       0.46      0.69      0.55       373\n",
      "\n",
      "    accuracy                           0.47      2324\n",
      "   macro avg       0.44      0.46      0.43      2324\n",
      "weighted avg       0.44      0.47      0.44      2324\n",
      "\n",
      "\n",
      "Cross-Validation Accuracy at cv=10 is: 47.77814044469137 %\n",
      "\n"
     ]
    }
   ],
   "source": [
    "# Train the model\n",
    "classifier = SVC(kernel='linear', probability=True)\n",
    "classifier.fit(X_train, y_train) \n",
    "\n",
    "# Test the prediction\n",
    "y_pred = classifier.predict(X_test)\n",
    "\n",
    "# Show the classification and accuracy result\n",
    "classify(classifier=classifier, name='SVM (Linear Kernel)', X_train=X_train, y_train=y_train, y_test=y_test, y_pred=y_pred)"
   ]
  },
  {
   "cell_type": "markdown",
   "metadata": {},
   "source": [
    "## SVM (Polynomial Kernel) Classifier"
   ]
  },
  {
   "cell_type": "code",
   "execution_count": null,
   "metadata": {},
   "outputs": [
    {
     "name": "stdout",
     "output_type": "stream",
     "text": [
      "\n",
      "The accuracy of the SVM (Polynomial Kernel) classifier is 49.26850258175559 %\n",
      "\n",
      "\n",
      "Classification Report\n",
      "\n",
      "              precision    recall  f1-score   support\n",
      "\n",
      "        Rock       0.49      0.61      0.54       428\n",
      "      Hiphop       0.68      0.72      0.70       443\n",
      "         R&B       0.43      0.34      0.38       241\n",
      "        Folk       0.38      0.34      0.36       392\n",
      "       Indie       0.40      0.27      0.32       447\n",
      "    Acoustic       0.49      0.62      0.54       373\n",
      "\n",
      "    accuracy                           0.49      2324\n",
      "   macro avg       0.48      0.48      0.47      2324\n",
      "weighted avg       0.48      0.49      0.48      2324\n",
      "\n"
     ]
    }
   ],
   "source": [
    "# Train the model\n",
    "classifier = SVC(kernel='poly', degree=3, gamma=0.9, probability=True)\n",
    "classifier.fit(X_train, y_train) \n",
    "\n",
    "# Test the prediction\n",
    "y_pred = classifier.predict(X_test)\n",
    "\n",
    "# Show the classification and accuracy result\n",
    "classify(classifier=classifier, name='SVM (Polynomial Kernel)', X_train=X_train, y_train=y_train, y_test=y_test, y_pred=y_pred)"
   ]
  },
  {
   "cell_type": "markdown",
   "metadata": {},
   "source": [
    "## SVM (RBF Kernel) Classifier"
   ]
  },
  {
   "cell_type": "code",
   "execution_count": null,
   "metadata": {},
   "outputs": [],
   "source": [
    "# Train the model\n",
    "classifier = SVC(kernel='rbf', gamma=0.8, probability=True)\n",
    "classifier.fit(X_train, y_train) \n",
    "\n",
    "# Test the prediction\n",
    "y_pred = classifier.predict(X_test)\n",
    "\n",
    "# Show the classification and accuracy result\n",
    "classify(classifier=classifier, name='SVM (RBF Kernel)', X_train=X_train, y_train=y_train, y_test=y_test, y_pred=y_pred)"
   ]
  },
  {
   "cell_type": "markdown",
   "metadata": {},
   "source": [
    "# \n",
    "# Naive Bayes Classifier"
   ]
  },
  {
   "cell_type": "code",
   "execution_count": null,
   "metadata": {},
   "outputs": [],
   "source": [
    "from sklearn.naive_bayes import GaussianNB\n",
    "\n",
    "# Train the model\n",
    "classifier = GaussianNB()\n",
    "classifier.fit(X_train, y_train) \n",
    "\n",
    "# Test the prediction\n",
    "y_pred = classifier.predict(X_test)\n",
    "\n",
    "# Show the classification and accuracy result\n",
    "classify(classifier=classifier, name='Naive Bayes', X_train=X_train, y_train=y_train, y_test=y_test, y_pred=y_pred)"
   ]
  },
  {
   "cell_type": "markdown",
   "metadata": {},
   "source": [
    "# \n",
    "# Decision Tree Classifier"
   ]
  },
  {
   "cell_type": "code",
   "execution_count": null,
   "metadata": {},
   "outputs": [],
   "source": [
    "from sklearn.tree import DecisionTreeClassifier as DT\n",
    "\n",
    "# Train the model\n",
    "classifier = DT(criterion = 'entropy', random_state=42)\n",
    "classifier.fit(X_train, y_train) \n",
    "\n",
    "# Test the prediction\n",
    "y_pred = classifier.predict(X_test)\n",
    "\n",
    "# Show the classification and accuracy result\n",
    "classify(classifier=classifier, name='Decision Tree', X_train=X_train, y_train=y_train, y_test=y_test, y_pred=y_pred)"
   ]
  },
  {
   "cell_type": "markdown",
   "metadata": {},
   "source": [
    "# \n",
    "# Random Forest Classifier"
   ]
  },
  {
   "cell_type": "code",
   "execution_count": null,
   "metadata": {},
   "outputs": [],
   "source": [
    "from sklearn.ensemble import RandomForestClassifier as RF\n",
    "\n",
    "# Train the model\n",
    "classifier = RF(n_estimators=10, criterion='entropy', random_state=42)\n",
    "classifier.fit(X_train, y_train) \n",
    "\n",
    "# Test the prediction\n",
    "y_pred = classifier.predict(X_test)\n",
    "\n",
    "# Show the classification and accuracy result\n",
    "classify(classifier=classifier, name='Random Forest', X_train=X_train, y_train=y_train, y_test=y_test, y_pred=y_pred)"
   ]
  },
  {
   "cell_type": "markdown",
   "metadata": {},
   "source": [
    "# \n",
    "# XGBoost Classifier"
   ]
  },
  {
   "cell_type": "code",
   "execution_count": null,
   "metadata": {},
   "outputs": [],
   "source": [
    "from xgboost import XGBClassifier\n",
    "\n",
    "# Train the model\n",
    "classifier = XGBClassifier(verbosity=0)\n",
    "classifier.fit(X_train, y_train) \n",
    "\n",
    "# Test the prediction\n",
    "y_pred = classifier.predict(X_test)\n",
    "\n",
    "# Show the classification and accuracy result\n",
    "classify(classifier=classifier, name='XGBoost', X_train=X_train, y_train=y_train, y_test=y_test, y_pred=y_pred)"
   ]
  },
  {
   "cell_type": "markdown",
   "metadata": {},
   "source": [
    "# \n",
    "# Best Model Selection"
   ]
  },
  {
   "cell_type": "markdown",
   "metadata": {},
   "source": [
    "Which between KNN and SVM performed better? \n",
    "Create a column matching the predicted genre and probability of the better model to each of the tracks"
   ]
  },
  {
   "cell_type": "code",
   "execution_count": null,
   "metadata": {},
   "outputs": [],
   "source": [
    "classifiers"
   ]
  },
  {
   "cell_type": "code",
   "execution_count": null,
   "metadata": {},
   "outputs": [],
   "source": [
    "from operator import itemgetter\n",
    "\n",
    "best_model = max(classifiers, key=itemgetter(2))[0]\n",
    "best_name = max(classifiers, key=itemgetter(2))[1]\n",
    "best_score = max(classifiers, key=itemgetter(2))[2]\n",
    "print(f\"\\nBest Model is '{best_name}' with accuracy score of {best_score}\\n\")"
   ]
  },
  {
   "cell_type": "markdown",
   "metadata": {},
   "source": [
    "### Prediction DataFrame Function"
   ]
  },
  {
   "cell_type": "code",
   "execution_count": null,
   "metadata": {},
   "outputs": [],
   "source": [
    "def create_prediction_df(df, model):\n",
    "    df['predicted_genre_id'] =\\\n",
    "    df.apply(lambda x:  model.predict(scaler.transform(x[feature_cols].values.reshape(1,-1)))[0], axis=1)\n",
    "    df['predicted_genre_prob'] =\\\n",
    "    df.apply(lambda x:  np.max(model.predict_proba(scaler.transform(x[feature_cols].values.reshape(1,-1)))), axis=1)\n",
    "    return df"
   ]
  },
  {
   "cell_type": "markdown",
   "metadata": {},
   "source": [
    "# \n",
    "# Classify *Spotify Daily Charts'* Tracks"
   ]
  },
  {
   "cell_type": "code",
   "execution_count": null,
   "metadata": {},
   "outputs": [],
   "source": [
    "chart_tracks_df = pd.read_csv(\"data/spotify_daily_charts_tracks.csv\")\n",
    "chart_tracks_df = create_prediction_df(chart_tracks_df, best_model)\n",
    "chart_tracks_df"
   ]
  },
  {
   "cell_type": "code",
   "execution_count": null,
   "metadata": {},
   "outputs": [],
   "source": [
    "# Check Spotify Daily Charts' Tracks classified but with low (< 50%) probability \n",
    "chart_tracks_df[chart_tracks_df['predicted_genre_prob'] < .5]"
   ]
  },
  {
   "cell_type": "code",
   "execution_count": null,
   "metadata": {},
   "outputs": [],
   "source": [
    "# View Spotify Daily Charts Tracks' histogram of probabilities\n",
    "plt.figure(figsize=(12, 8))\n",
    "chart_tracks_df['predicted_genre_prob'].hist()\n",
    "plt.show();"
   ]
  },
  {
   "cell_type": "markdown",
   "metadata": {},
   "source": [
    "# \n",
    "# Classify *Nyoy Volante's* Tracks"
   ]
  },
  {
   "cell_type": "code",
   "execution_count": null,
   "metadata": {},
   "outputs": [],
   "source": [
    "artist_name = 'Nyoy Volante'\n",
    "artist_tracks_df = pd.read_csv('data/'+artist_name.lower()+'_album_tracks_data.csv')\n",
    "artist_tracks_df = artist_tracks_df[artist_tracks_df['artist_name']==artist_name]\\\n",
    ".drop_duplicates(subset=['track_name']).reset_index()\n",
    "artist_tracks_df = create_prediction_df(artist_tracks_df, best_model)\n",
    "artist_tracks_df"
   ]
  },
  {
   "cell_type": "code",
   "execution_count": null,
   "metadata": {},
   "outputs": [],
   "source": [
    "# Check Artist Tracks' classified genres with but low (< 50%) probability \n",
    "artist_tracks_df[artist_tracks_df['predicted_genre_prob'] < .5]"
   ]
  },
  {
   "cell_type": "code",
   "execution_count": null,
   "metadata": {},
   "outputs": [],
   "source": [
    "# View Artist Tracks' histogram of probabilities\n",
    "plt.figure(figsize=(12, 8))\n",
    "artist_tracks_df['predicted_genre_prob'].hist()\n",
    "plt.show();"
   ]
  },
  {
   "cell_type": "code",
   "execution_count": null,
   "metadata": {},
   "outputs": [],
   "source": [
    "genre_lookup = dict(zip(np.arange(1, len(genre_names) + 1), genre_names))\n",
    "\n",
    "artist_tracks_df = artist_tracks_df.sort_values(by=['predicted_genre_prob', 'popularity', 'release_date'], ascending=False)\n",
    "artist_tracks_df['predicted_genre'] =  artist_tracks_df['predicted_genre_id'].map(lambda x: genre_lookup[x])\n",
    "artist_tracks_df['classification_probability'] =  artist_tracks_df['predicted_genre_prob'].apply(lambda x: f'{x * 100.00}%')\n",
    "\n",
    "print(f'\\nArtist: {artist_name}')\n",
    "cols = ['track_name', 'release_date', 'popularity', 'predicted_genre', 'classification_probability']\n",
    "artist_tracks_df = artist_tracks_df[cols].reset_index()\n",
    "artist_tracks_df"
   ]
  },
  {
   "cell_type": "code",
   "execution_count": null,
   "metadata": {},
   "outputs": [],
   "source": []
  }
 ],
 "metadata": {
  "kernelspec": {
   "display_name": "Python 3",
   "language": "python",
   "name": "python3"
  },
  "language_info": {
   "codemirror_mode": {
    "name": "ipython",
    "version": 3
   },
   "file_extension": ".py",
   "mimetype": "text/x-python",
   "name": "python",
   "nbconvert_exporter": "python",
   "pygments_lexer": "ipython3",
   "version": "3.8.6"
  }
 },
 "nbformat": 4,
 "nbformat_minor": 2
}
