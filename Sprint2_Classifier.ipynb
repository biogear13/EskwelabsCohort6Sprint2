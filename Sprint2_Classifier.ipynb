{
 "cells": [
  {
   "cell_type": "code",
   "execution_count": 1,
   "metadata": {
    "ExecuteTime": {
     "end_time": "2021-01-21T15:12:52.278399Z",
     "start_time": "2021-01-21T15:12:46.980742Z"
    }
   },
   "outputs": [],
   "source": [
    "import pandas as pd\n",
    "import numpy as np\n",
    "\n",
    "import seaborn as sns\n",
    "import matplotlib.pyplot as plt\n",
    "\n",
    "\n",
    "from sklearn.model_selection import train_test_split, cross_val_score\n",
    "from sklearn.neighbors import KNeighborsClassifier \n",
    "from sklearn.metrics import accuracy_score,roc_curve, auc, confusion_matrix, classification_report\n",
    "from sklearn.metrics.pairwise import euclidean_distances, manhattan_distances, cosine_similarity\n",
    "\n",
    "from sklearn.preprocessing import MinMaxScaler\n",
    "scaler = MinMaxScaler()\n",
    "\n",
    "%matplotlib inline"
   ]
  },
  {
   "cell_type": "markdown",
   "metadata": {},
   "source": [
    "### 1. Read the training data"
   ]
  },
  {
   "cell_type": "code",
   "execution_count": 2,
   "metadata": {
    "ExecuteTime": {
     "end_time": "2021-01-21T15:12:52.636973Z",
     "start_time": "2021-01-21T15:12:52.282149Z"
    }
   },
   "outputs": [
    {
     "name": "stdout",
     "output_type": "stream",
     "text": [
      "Rock\n",
      "Hiphop\n",
      "R&B\n",
      "Folk\n",
      "Indie\n"
     ]
    }
   ],
   "source": [
    "#genre_names = [\"R&B\", \"Classical\", \"Country\", \"Electronic\", \"Hiphop\",\"Jazz\", \"Pop\", \"Rock\", \"Reggae\", \"Rap\"]\n",
    "genre_names = [\"Rock\", \"Hiphop\", \"R&B\", \"Folk\", \"Indie\"]\n",
    "\n",
    "playlist_df_list = []\n",
    "track_df_list = []\n",
    "for genre in genre_names:\n",
    "    # read and process the playlist data for keyword\n",
    "    print(genre)\n",
    "    pdf = pd.read_csv('data/'+genre.lower()+'_playlist_data.csv')\n",
    "    pdf['genre'] = genre.lower().replace('&','n')\n",
    "    playlist_df_list.append(pdf)\n",
    "\n",
    "    tdf = pd.read_csv('data/'+genre.lower()+'_playlist_tracks_data.csv')\n",
    "    tdf['genre'] = genre.lower().replace('&','n')\n",
    "    tdf = tdf.drop(columns=['playlist_name'])\n",
    "    tdf = tdf.merge(pdf[['playlist_id','playlist_name']], on=['playlist_id'], how='left')\n",
    "    \n",
    "    track_df_list.append(tdf)\n",
    "    \n",
    "    \n",
    "        \n",
    "playlist_df = pd.concat(playlist_df_list)\n",
    "tracks_df = pd.concat(track_df_list)\n"
   ]
  },
  {
   "cell_type": "code",
   "execution_count": 3,
   "metadata": {
    "ExecuteTime": {
     "end_time": "2021-01-21T15:12:52.656009Z",
     "start_time": "2021-01-21T15:12:52.643350Z"
    }
   },
   "outputs": [
    {
     "data": {
      "text/plain": [
       "rock      2134\n",
       "folk      1865\n",
       "indie     1774\n",
       "hiphop    1548\n",
       "rnb       1508\n",
       "Name: genre, dtype: int64"
      ]
     },
     "execution_count": 3,
     "metadata": {},
     "output_type": "execute_result"
    }
   ],
   "source": [
    "tracks_df['genre'].value_counts()"
   ]
  },
  {
   "cell_type": "code",
   "execution_count": 4,
   "metadata": {
    "ExecuteTime": {
     "end_time": "2021-01-21T15:12:52.663866Z",
     "start_time": "2021-01-21T15:12:52.658654Z"
    }
   },
   "outputs": [
    {
     "data": {
      "text/plain": [
       "((342, 7), (8829, 22))"
      ]
     },
     "execution_count": 4,
     "metadata": {},
     "output_type": "execute_result"
    }
   ],
   "source": [
    "#check shape\n",
    "playlist_df.shape, tracks_df.shape"
   ]
  },
  {
   "cell_type": "code",
   "execution_count": 5,
   "metadata": {
    "ExecuteTime": {
     "end_time": "2021-01-21T15:12:52.673219Z",
     "start_time": "2021-01-21T15:12:52.666973Z"
    }
   },
   "outputs": [
    {
     "name": "stdout",
     "output_type": "stream",
     "text": [
      "Playlist dataset columns: ['playlist_id' 'playlist_name' 'playlist_total_tracks' 'owner_id'\n",
      " 'owner_name' 'total_followers' 'genre'] \n",
      "\n",
      "Tracks dataset columns: ['track_id' 'track_name' 'artist_id' 'artist_name' 'album_id' 'duration'\n",
      " 'release_date' 'popularity' 'danceability' 'energy' 'key' 'loudness'\n",
      " 'mode' 'speechiness' 'acousticness' 'instrumentalness' 'liveness'\n",
      " 'valence' 'tempo' 'playlist_id' 'genre' 'playlist_name']\n"
     ]
    }
   ],
   "source": [
    "#check columns\n",
    "print(\"Playlist dataset columns: %s \\n\" % playlist_df.columns.values)\n",
    "print(\"Tracks dataset columns: %s\" % tracks_df.columns.values)"
   ]
  },
  {
   "cell_type": "code",
   "execution_count": 6,
   "metadata": {
    "ExecuteTime": {
     "end_time": "2021-01-21T15:12:52.715839Z",
     "start_time": "2021-01-21T15:12:52.676094Z"
    }
   },
   "outputs": [
    {
     "data": {
      "text/html": [
       "<div>\n",
       "<style scoped>\n",
       "    .dataframe tbody tr th:only-of-type {\n",
       "        vertical-align: middle;\n",
       "    }\n",
       "\n",
       "    .dataframe tbody tr th {\n",
       "        vertical-align: top;\n",
       "    }\n",
       "\n",
       "    .dataframe thead th {\n",
       "        text-align: right;\n",
       "    }\n",
       "</style>\n",
       "<table border=\"1\" class=\"dataframe\">\n",
       "  <thead>\n",
       "    <tr style=\"text-align: right;\">\n",
       "      <th></th>\n",
       "      <th>playlist_id</th>\n",
       "      <th>playlist_name</th>\n",
       "      <th>playlist_total_tracks</th>\n",
       "      <th>owner_id</th>\n",
       "      <th>owner_name</th>\n",
       "      <th>total_followers</th>\n",
       "      <th>genre</th>\n",
       "    </tr>\n",
       "  </thead>\n",
       "  <tbody>\n",
       "  </tbody>\n",
       "</table>\n",
       "</div>"
      ],
      "text/plain": [
       "Empty DataFrame\n",
       "Columns: [playlist_id, playlist_name, playlist_total_tracks, owner_id, owner_name, total_followers, genre]\n",
       "Index: []"
      ]
     },
     "execution_count": 6,
     "metadata": {},
     "output_type": "execute_result"
    }
   ],
   "source": [
    "#check null rows\n",
    "playlist_df[playlist_df.isnull().any(1)]\n",
    "#tracks_df[tracks_df.isnull().any(1)]\n"
   ]
  },
  {
   "cell_type": "code",
   "execution_count": 7,
   "metadata": {
    "ExecuteTime": {
     "end_time": "2021-01-21T15:12:52.754172Z",
     "start_time": "2021-01-21T15:12:52.721035Z"
    }
   },
   "outputs": [
    {
     "data": {
      "text/plain": [
       "(8829, 22)"
      ]
     },
     "execution_count": 7,
     "metadata": {},
     "output_type": "execute_result"
    }
   ],
   "source": [
    "#remove null rows\n",
    "tracks_df = tracks_df[~tracks_df.isnull().any(1)]\n",
    "tracks_df.shape"
   ]
  },
  {
   "cell_type": "code",
   "execution_count": 8,
   "metadata": {
    "ExecuteTime": {
     "end_time": "2021-01-21T15:12:52.769684Z",
     "start_time": "2021-01-21T15:12:52.758544Z"
    }
   },
   "outputs": [
    {
     "data": {
      "text/plain": [
       "8482"
      ]
     },
     "execution_count": 8,
     "metadata": {},
     "output_type": "execute_result"
    }
   ],
   "source": [
    "# How many unique tracks are in the combined dataset?\n",
    "len(tracks_df['track_id'].unique())"
   ]
  },
  {
   "cell_type": "code",
   "execution_count": 9,
   "metadata": {
    "ExecuteTime": {
     "end_time": "2021-01-21T15:12:52.791899Z",
     "start_time": "2021-01-21T15:12:52.773111Z"
    }
   },
   "outputs": [
    {
     "data": {
      "text/plain": [
       "(8482, 22)"
      ]
     },
     "execution_count": 9,
     "metadata": {},
     "output_type": "execute_result"
    }
   ],
   "source": [
    "#retain only distinct tracks per keyword\n",
    "tracks_df =tracks_df.drop_duplicates(subset='track_id')\n",
    "tracks_df.shape"
   ]
  },
  {
   "cell_type": "code",
   "execution_count": 10,
   "metadata": {
    "ExecuteTime": {
     "end_time": "2021-01-21T15:12:53.100130Z",
     "start_time": "2021-01-21T15:12:52.794480Z"
    }
   },
   "outputs": [
    {
     "data": {
      "text/plain": [
       "<AxesSubplot:>"
      ]
     },
     "execution_count": 10,
     "metadata": {},
     "output_type": "execute_result"
    },
    {
     "data": {
      "image/png": "[encoded data removed]",
      "text/plain": [
       "<Figure size 432x288 with 1 Axes>"
      ]
     },
     "metadata": {
      "needs_background": "light"
     },
     "output_type": "display_data"
    }
   ],
   "source": [
    "# What is the distribution of playlist's total tracks?\n",
    "playlist_df['playlist_total_tracks'].hist()"
   ]
  },
  {
   "cell_type": "code",
   "execution_count": 11,
   "metadata": {
    "ExecuteTime": {
     "end_time": "2021-01-21T15:12:53.321673Z",
     "start_time": "2021-01-21T15:12:53.102990Z"
    }
   },
   "outputs": [
    {
     "data": {
      "text/plain": [
       "<AxesSubplot:>"
      ]
     },
     "execution_count": 11,
     "metadata": {},
     "output_type": "execute_result"
    },
    {
     "data": {
      "image/png": "[encoded data removed]",
      "text/plain": [
       "<Figure size 432x288 with 1 Axes>"
      ]
     },
     "metadata": {
      "needs_background": "light"
     },
     "output_type": "display_data"
    }
   ],
   "source": [
    "# What is the distribution of playlist's total tracks?\n",
    "playlist_df['total_followers'].hist()"
   ]
  },
  {
   "cell_type": "code",
   "execution_count": 12,
   "metadata": {
    "ExecuteTime": {
     "end_time": "2021-01-21T15:12:53.671378Z",
     "start_time": "2021-01-21T15:12:53.327018Z"
    }
   },
   "outputs": [
    {
     "data": {
      "text/plain": [
       "rock      0.251592\n",
       "folk      0.218934\n",
       "hiphop    0.182268\n",
       "indie     0.178731\n",
       "rnb       0.168474\n",
       "Name: genre, dtype: float64"
      ]
     },
     "execution_count": 12,
     "metadata": {},
     "output_type": "execute_result"
    }
   ],
   "source": [
    "#tally of tracks\n",
    "#tracks_df['genre'].value_counts()\n",
    "tracks_df['genre'].value_counts(normalize=True)"
   ]
  },
  {
   "cell_type": "markdown",
   "metadata": {},
   "source": [
    "### 2. Refine the training data"
   ]
  },
  {
   "cell_type": "code",
   "execution_count": 13,
   "metadata": {
    "ExecuteTime": {
     "end_time": "2021-01-21T15:12:53.688262Z",
     "start_time": "2021-01-21T15:12:53.673620Z"
    }
   },
   "outputs": [
    {
     "data": {
      "text/html": [
       "<div>\n",
       "<style scoped>\n",
       "    .dataframe tbody tr th:only-of-type {\n",
       "        vertical-align: middle;\n",
       "    }\n",
       "\n",
       "    .dataframe tbody tr th {\n",
       "        vertical-align: top;\n",
       "    }\n",
       "\n",
       "    .dataframe thead th {\n",
       "        text-align: right;\n",
       "    }\n",
       "</style>\n",
       "<table border=\"1\" class=\"dataframe\">\n",
       "  <thead>\n",
       "    <tr style=\"text-align: right;\">\n",
       "      <th></th>\n",
       "      <th>playlist_id</th>\n",
       "      <th>playlist_name</th>\n",
       "      <th>playlist_total_tracks</th>\n",
       "      <th>owner_id</th>\n",
       "      <th>owner_name</th>\n",
       "      <th>total_followers</th>\n",
       "      <th>genre</th>\n",
       "    </tr>\n",
       "  </thead>\n",
       "  <tbody>\n",
       "    <tr>\n",
       "      <th>0</th>\n",
       "      <td>37i9dQZF1DWXRqgorJj26U</td>\n",
       "      <td>Rock Classics</td>\n",
       "      <td>145</td>\n",
       "      <td>spotify</td>\n",
       "      <td>Spotify</td>\n",
       "      <td>8743130</td>\n",
       "      <td>rock</td>\n",
       "    </tr>\n",
       "    <tr>\n",
       "      <th>1</th>\n",
       "      <td>37i9dQZF1DXcF6B6QPhFDv</td>\n",
       "      <td>Rock This</td>\n",
       "      <td>50</td>\n",
       "      <td>spotify</td>\n",
       "      <td>Spotify</td>\n",
       "      <td>4490659</td>\n",
       "      <td>rock</td>\n",
       "    </tr>\n",
       "    <tr>\n",
       "      <th>2</th>\n",
       "      <td>37i9dQZF1DX1rVvRgjX59F</td>\n",
       "      <td>90s Rock Anthems</td>\n",
       "      <td>150</td>\n",
       "      <td>spotify</td>\n",
       "      <td>Spotify</td>\n",
       "      <td>4111532</td>\n",
       "      <td>rock</td>\n",
       "    </tr>\n",
       "    <tr>\n",
       "      <th>3</th>\n",
       "      <td>37i9dQZF1DWYN0zdqzbEwl</td>\n",
       "      <td>Rock en Español</td>\n",
       "      <td>60</td>\n",
       "      <td>spotify</td>\n",
       "      <td>Spotify</td>\n",
       "      <td>3829864</td>\n",
       "      <td>rock</td>\n",
       "    </tr>\n",
       "    <tr>\n",
       "      <th>4</th>\n",
       "      <td>37i9dQZF1DX3oM43CtKnRV</td>\n",
       "      <td>00s Rock Anthems</td>\n",
       "      <td>50</td>\n",
       "      <td>spotify</td>\n",
       "      <td>Spotify</td>\n",
       "      <td>3474724</td>\n",
       "      <td>rock</td>\n",
       "    </tr>\n",
       "  </tbody>\n",
       "</table>\n",
       "</div>"
      ],
      "text/plain": [
       "              playlist_id     playlist_name  playlist_total_tracks owner_id  \\\n",
       "0  37i9dQZF1DWXRqgorJj26U     Rock Classics                    145  spotify   \n",
       "1  37i9dQZF1DXcF6B6QPhFDv         Rock This                     50  spotify   \n",
       "2  37i9dQZF1DX1rVvRgjX59F  90s Rock Anthems                    150  spotify   \n",
       "3  37i9dQZF1DWYN0zdqzbEwl   Rock en Español                     60  spotify   \n",
       "4  37i9dQZF1DX3oM43CtKnRV  00s Rock Anthems                     50  spotify   \n",
       "\n",
       "  owner_name  total_followers genre  \n",
       "0    Spotify          8743130  rock  \n",
       "1    Spotify          4490659  rock  \n",
       "2    Spotify          4111532  rock  \n",
       "3    Spotify          3829864  rock  \n",
       "4    Spotify          3474724  rock  "
      ]
     },
     "execution_count": 13,
     "metadata": {},
     "output_type": "execute_result"
    }
   ],
   "source": [
    "#get top 5 playlists per genre\n",
    "top_playlists_df = playlist_df.groupby('genre').head(5)\n",
    "top_playlists_df.head()"
   ]
  },
  {
   "cell_type": "code",
   "execution_count": 14,
   "metadata": {
    "ExecuteTime": {
     "end_time": "2021-01-21T15:12:53.706525Z",
     "start_time": "2021-01-21T15:12:53.691178Z"
    }
   },
   "outputs": [
    {
     "data": {
      "text/plain": [
       "rock      652\n",
       "hiphop    622\n",
       "folk      551\n",
       "indie     385\n",
       "rnb       283\n",
       "Name: genre, dtype: int64"
      ]
     },
     "execution_count": 14,
     "metadata": {},
     "output_type": "execute_result"
    }
   ],
   "source": [
    "tracks_df = tracks_df[tracks_df['playlist_id'].isin(top_playlists_df['playlist_id'].values)]\n",
    "tracks_df['genre'].value_counts()"
   ]
  },
  {
   "cell_type": "markdown",
   "metadata": {},
   "source": [
    "### 3. Feature Engineering"
   ]
  },
  {
   "cell_type": "markdown",
   "metadata": {},
   "source": [
    "##### Conversions/Normalizations"
   ]
  },
  {
   "cell_type": "code",
   "execution_count": 15,
   "metadata": {
    "ExecuteTime": {
     "end_time": "2021-01-21T15:12:53.713900Z",
     "start_time": "2021-01-21T15:12:53.709413Z"
    }
   },
   "outputs": [],
   "source": [
    "#convert duration from ms to mins\n",
    "tracks_df['duration_mins']=tracks_df['duration']/60000"
   ]
  },
  {
   "cell_type": "code",
   "execution_count": 16,
   "metadata": {
    "ExecuteTime": {
     "end_time": "2021-01-21T15:12:55.732448Z",
     "start_time": "2021-01-21T15:12:53.717230Z"
    }
   },
   "outputs": [
    {
     "data": {
      "text/plain": [
       "count    2493.000000\n",
       "mean        0.780520\n",
       "std         0.092970\n",
       "min         0.000000\n",
       "25%         0.737415\n",
       "50%         0.798792\n",
       "75%         0.844682\n",
       "max         1.000000\n",
       "Name: loudness, dtype: float64"
      ]
     },
     "execution_count": 16,
     "metadata": {},
     "output_type": "execute_result"
    }
   ],
   "source": [
    "\n",
    "\n",
    "tracks_df['loudness'] = scaler.fit_transform(tracks_df[['loudness']])\n",
    "tracks_df['loudness'].describe()\n"
   ]
  },
  {
   "cell_type": "code",
   "execution_count": 17,
   "metadata": {
    "ExecuteTime": {
     "end_time": "2021-01-21T15:12:55.756376Z",
     "start_time": "2021-01-21T15:12:55.734859Z"
    }
   },
   "outputs": [
    {
     "data": {
      "text/plain": [
       "count    2493.000000\n",
       "mean        0.437393\n",
       "std         0.179644\n",
       "min         0.000000\n",
       "25%         0.288169\n",
       "50%         0.421637\n",
       "75%         0.556355\n",
       "max         1.000000\n",
       "Name: tempo, dtype: float64"
      ]
     },
     "execution_count": 17,
     "metadata": {},
     "output_type": "execute_result"
    }
   ],
   "source": [
    "#Normalize tempo\n",
    "tracks_df['tempo'] =  scaler.fit_transform(tracks_df[['tempo']])\n",
    "#check\n",
    "tracks_df['tempo'].describe()\n"
   ]
  },
  {
   "cell_type": "markdown",
   "metadata": {},
   "source": [
    "###### Categorical Encoding"
   ]
  },
  {
   "cell_type": "code",
   "execution_count": 18,
   "metadata": {
    "ExecuteTime": {
     "end_time": "2021-01-21T15:12:55.771503Z",
     "start_time": "2021-01-21T15:12:55.759010Z"
    }
   },
   "outputs": [
    {
     "data": {
      "text/plain": [
       "track_id              object\n",
       "track_name            object\n",
       "artist_id             object\n",
       "artist_name           object\n",
       "album_id              object\n",
       "duration               int64\n",
       "release_date          object\n",
       "popularity             int64\n",
       "danceability         float64\n",
       "energy               float64\n",
       "key                    int64\n",
       "loudness             float64\n",
       "mode                   int64\n",
       "speechiness          float64\n",
       "acousticness         float64\n",
       "instrumentalness     float64\n",
       "liveness             float64\n",
       "valence              float64\n",
       "tempo                float64\n",
       "playlist_id           object\n",
       "genre               category\n",
       "playlist_name         object\n",
       "duration_mins        float64\n",
       "dtype: object"
      ]
     },
     "execution_count": 18,
     "metadata": {},
     "output_type": "execute_result"
    }
   ],
   "source": [
    "tracks_df[\"genre\"] = tracks_df[\"genre\"].astype('category')\n",
    "tracks_df.dtypes"
   ]
  },
  {
   "cell_type": "code",
   "execution_count": 19,
   "metadata": {
    "ExecuteTime": {
     "end_time": "2021-01-21T15:12:55.784436Z",
     "start_time": "2021-01-21T15:12:55.774867Z"
    }
   },
   "outputs": [
    {
     "data": {
      "text/plain": [
       "rock      652\n",
       "hiphop    622\n",
       "folk      551\n",
       "indie     385\n",
       "rnb       283\n",
       "Name: genre, dtype: int64"
      ]
     },
     "execution_count": 19,
     "metadata": {},
     "output_type": "execute_result"
    }
   ],
   "source": [
    "tracks_df['genre'].value_counts()"
   ]
  },
  {
   "cell_type": "code",
   "execution_count": 20,
   "metadata": {
    "ExecuteTime": {
     "end_time": "2021-01-21T15:12:55.822459Z",
     "start_time": "2021-01-21T15:12:55.786994Z"
    }
   },
   "outputs": [
    {
     "data": {
      "text/html": [
       "<div>\n",
       "<style scoped>\n",
       "    .dataframe tbody tr th:only-of-type {\n",
       "        vertical-align: middle;\n",
       "    }\n",
       "\n",
       "    .dataframe tbody tr th {\n",
       "        vertical-align: top;\n",
       "    }\n",
       "\n",
       "    .dataframe thead th {\n",
       "        text-align: right;\n",
       "    }\n",
       "</style>\n",
       "<table border=\"1\" class=\"dataframe\">\n",
       "  <thead>\n",
       "    <tr style=\"text-align: right;\">\n",
       "      <th></th>\n",
       "      <th>track_id</th>\n",
       "      <th>track_name</th>\n",
       "      <th>artist_id</th>\n",
       "      <th>artist_name</th>\n",
       "      <th>album_id</th>\n",
       "      <th>duration</th>\n",
       "      <th>release_date</th>\n",
       "      <th>popularity</th>\n",
       "      <th>danceability</th>\n",
       "      <th>energy</th>\n",
       "      <th>...</th>\n",
       "      <th>acousticness</th>\n",
       "      <th>instrumentalness</th>\n",
       "      <th>liveness</th>\n",
       "      <th>valence</th>\n",
       "      <th>tempo</th>\n",
       "      <th>playlist_id</th>\n",
       "      <th>genre</th>\n",
       "      <th>playlist_name</th>\n",
       "      <th>duration_mins</th>\n",
       "      <th>genre_id</th>\n",
       "    </tr>\n",
       "  </thead>\n",
       "  <tbody>\n",
       "    <tr>\n",
       "      <th>0</th>\n",
       "      <td>0hCB0YR03f6AmQaHbwWDe8</td>\n",
       "      <td>Whole Lotta Love - 1990 Remaster</td>\n",
       "      <td>36QJpDe2go2KgaRleHCDTp</td>\n",
       "      <td>Led Zeppelin</td>\n",
       "      <td>70lQYZtypdCALtFVlQAcvx</td>\n",
       "      <td>333893</td>\n",
       "      <td>1969-10-22</td>\n",
       "      <td>75</td>\n",
       "      <td>0.412</td>\n",
       "      <td>0.902</td>\n",
       "      <td>...</td>\n",
       "      <td>0.04840</td>\n",
       "      <td>0.131000</td>\n",
       "      <td>0.4050</td>\n",
       "      <td>0.422</td>\n",
       "      <td>0.256937</td>\n",
       "      <td>37i9dQZF1DWXRqgorJj26U</td>\n",
       "      <td>rock</td>\n",
       "      <td>Rock Classics</td>\n",
       "      <td>5.564883</td>\n",
       "      <td>4</td>\n",
       "    </tr>\n",
       "    <tr>\n",
       "      <th>1</th>\n",
       "      <td>2aoo2jlRnM3A0NyLQqMN2f</td>\n",
       "      <td>All Along the Watchtower</td>\n",
       "      <td>776Uo845nYHJpNaStv1Ds4</td>\n",
       "      <td>Jimi Hendrix</td>\n",
       "      <td>5z090LQztiqh13wYspQvKQ</td>\n",
       "      <td>240800</td>\n",
       "      <td>1968-10-25</td>\n",
       "      <td>76</td>\n",
       "      <td>0.438</td>\n",
       "      <td>0.805</td>\n",
       "      <td>...</td>\n",
       "      <td>0.00255</td>\n",
       "      <td>0.000057</td>\n",
       "      <td>0.0842</td>\n",
       "      <td>0.564</td>\n",
       "      <td>0.396949</td>\n",
       "      <td>37i9dQZF1DWXRqgorJj26U</td>\n",
       "      <td>rock</td>\n",
       "      <td>Rock Classics</td>\n",
       "      <td>4.013333</td>\n",
       "      <td>4</td>\n",
       "    </tr>\n",
       "    <tr>\n",
       "      <th>2</th>\n",
       "      <td>08mG3Y1vljYA6bvDt4Wqkj</td>\n",
       "      <td>Back In Black</td>\n",
       "      <td>711MCceyCBcFnzjGY4Q7Un</td>\n",
       "      <td>AC/DC</td>\n",
       "      <td>6mUdeDZCsExyJLMdAfDuwh</td>\n",
       "      <td>255493</td>\n",
       "      <td>1980-07-25</td>\n",
       "      <td>82</td>\n",
       "      <td>0.310</td>\n",
       "      <td>0.700</td>\n",
       "      <td>...</td>\n",
       "      <td>0.01100</td>\n",
       "      <td>0.009650</td>\n",
       "      <td>0.0828</td>\n",
       "      <td>0.763</td>\n",
       "      <td>0.844340</td>\n",
       "      <td>37i9dQZF1DWXRqgorJj26U</td>\n",
       "      <td>rock</td>\n",
       "      <td>Rock Classics</td>\n",
       "      <td>4.258217</td>\n",
       "      <td>4</td>\n",
       "    </tr>\n",
       "    <tr>\n",
       "      <th>3</th>\n",
       "      <td>1RJeiAIwR9pZBgJA8ndZLL</td>\n",
       "      <td>Paint It, Black - Mono</td>\n",
       "      <td>22bE4uQ6baNwSHPVcDxLCe</td>\n",
       "      <td>The Rolling Stones</td>\n",
       "      <td>5nKpMsduwp5xqCKq2IbSKv</td>\n",
       "      <td>204480</td>\n",
       "      <td>1966-01-01</td>\n",
       "      <td>68</td>\n",
       "      <td>0.505</td>\n",
       "      <td>0.836</td>\n",
       "      <td>...</td>\n",
       "      <td>0.01030</td>\n",
       "      <td>0.077100</td>\n",
       "      <td>0.2950</td>\n",
       "      <td>0.764</td>\n",
       "      <td>0.673340</td>\n",
       "      <td>37i9dQZF1DWXRqgorJj26U</td>\n",
       "      <td>rock</td>\n",
       "      <td>Rock Classics</td>\n",
       "      <td>3.408000</td>\n",
       "      <td>4</td>\n",
       "    </tr>\n",
       "    <tr>\n",
       "      <th>4</th>\n",
       "      <td>66lOpKgTyFjOrac4S1s94g</td>\n",
       "      <td>Rebel Rebel - 1999 Remaster</td>\n",
       "      <td>0oSGxfWSnnOXhD2fKuz2Gy</td>\n",
       "      <td>David Bowie</td>\n",
       "      <td>6JxxRxzjsOTtKVie29FTt2</td>\n",
       "      <td>269360</td>\n",
       "      <td>1974-04-24</td>\n",
       "      <td>0</td>\n",
       "      <td>0.676</td>\n",
       "      <td>0.920</td>\n",
       "      <td>...</td>\n",
       "      <td>0.00101</td>\n",
       "      <td>0.000009</td>\n",
       "      <td>0.2480</td>\n",
       "      <td>0.624</td>\n",
       "      <td>0.474883</td>\n",
       "      <td>37i9dQZF1DWXRqgorJj26U</td>\n",
       "      <td>rock</td>\n",
       "      <td>Rock Classics</td>\n",
       "      <td>4.489333</td>\n",
       "      <td>4</td>\n",
       "    </tr>\n",
       "  </tbody>\n",
       "</table>\n",
       "<p>5 rows × 24 columns</p>\n",
       "</div>"
      ],
      "text/plain": [
       "                 track_id                        track_name  \\\n",
       "0  0hCB0YR03f6AmQaHbwWDe8  Whole Lotta Love - 1990 Remaster   \n",
       "1  2aoo2jlRnM3A0NyLQqMN2f          All Along the Watchtower   \n",
       "2  08mG3Y1vljYA6bvDt4Wqkj                     Back In Black   \n",
       "3  1RJeiAIwR9pZBgJA8ndZLL            Paint It, Black - Mono   \n",
       "4  66lOpKgTyFjOrac4S1s94g       Rebel Rebel - 1999 Remaster   \n",
       "\n",
       "                artist_id         artist_name                album_id  \\\n",
       "0  36QJpDe2go2KgaRleHCDTp        Led Zeppelin  70lQYZtypdCALtFVlQAcvx   \n",
       "1  776Uo845nYHJpNaStv1Ds4        Jimi Hendrix  5z090LQztiqh13wYspQvKQ   \n",
       "2  711MCceyCBcFnzjGY4Q7Un               AC/DC  6mUdeDZCsExyJLMdAfDuwh   \n",
       "3  22bE4uQ6baNwSHPVcDxLCe  The Rolling Stones  5nKpMsduwp5xqCKq2IbSKv   \n",
       "4  0oSGxfWSnnOXhD2fKuz2Gy         David Bowie  6JxxRxzjsOTtKVie29FTt2   \n",
       "\n",
       "   duration release_date  popularity  danceability  energy  ...  acousticness  \\\n",
       "0    333893   1969-10-22          75         0.412   0.902  ...       0.04840   \n",
       "1    240800   1968-10-25          76         0.438   0.805  ...       0.00255   \n",
       "2    255493   1980-07-25          82         0.310   0.700  ...       0.01100   \n",
       "3    204480   1966-01-01          68         0.505   0.836  ...       0.01030   \n",
       "4    269360   1974-04-24           0         0.676   0.920  ...       0.00101   \n",
       "\n",
       "   instrumentalness  liveness  valence     tempo             playlist_id  \\\n",
       "0          0.131000    0.4050    0.422  0.256937  37i9dQZF1DWXRqgorJj26U   \n",
       "1          0.000057    0.0842    0.564  0.396949  37i9dQZF1DWXRqgorJj26U   \n",
       "2          0.009650    0.0828    0.763  0.844340  37i9dQZF1DWXRqgorJj26U   \n",
       "3          0.077100    0.2950    0.764  0.673340  37i9dQZF1DWXRqgorJj26U   \n",
       "4          0.000009    0.2480    0.624  0.474883  37i9dQZF1DWXRqgorJj26U   \n",
       "\n",
       "   genre  playlist_name  duration_mins genre_id  \n",
       "0   rock  Rock Classics       5.564883        4  \n",
       "1   rock  Rock Classics       4.013333        4  \n",
       "2   rock  Rock Classics       4.258217        4  \n",
       "3   rock  Rock Classics       3.408000        4  \n",
       "4   rock  Rock Classics       4.489333        4  \n",
       "\n",
       "[5 rows x 24 columns]"
      ]
     },
     "execution_count": 20,
     "metadata": {},
     "output_type": "execute_result"
    }
   ],
   "source": [
    "tracks_df['genre_id'] = tracks_df[\"genre\"].cat.codes\n",
    "tracks_df.head()"
   ]
  },
  {
   "cell_type": "code",
   "execution_count": 21,
   "metadata": {
    "ExecuteTime": {
     "end_time": "2021-01-21T15:12:55.838100Z",
     "start_time": "2021-01-21T15:12:55.825564Z"
    }
   },
   "outputs": [
    {
     "data": {
      "text/plain": [
       "{4: 'rock', 1: 'hiphop', 3: 'rnb', 0: 'folk', 2: 'indie'}"
      ]
     },
     "execution_count": 21,
     "metadata": {},
     "output_type": "execute_result"
    }
   ],
   "source": [
    "genre_lookup = dict(tracks_df.groupby('genre_id').head(1)[['genre_id','genre']].values)\n",
    "genre_lookup"
   ]
  },
  {
   "cell_type": "markdown",
   "metadata": {},
   "source": [
    "## 4. Train a KNN model"
   ]
  },
  {
   "cell_type": "code",
   "execution_count": 22,
   "metadata": {
    "ExecuteTime": {
     "end_time": "2021-01-21T15:12:56.763506Z",
     "start_time": "2021-01-21T15:12:56.759866Z"
    }
   },
   "outputs": [],
   "source": [
    "#test plot for a genre and 2 predictors\n",
    "\n",
    "#fig = plt.figure()\n",
    "#ax= fig.add_subplot(111)\n",
    "\n",
    "#colormaps = ['Reds','Blues']\n",
    "#genre = 'pop'\n",
    "#label = [\"not \"+genre,genre]\n",
    "#for n,genre_bool in enumerate([0,1]):\n",
    "#    df=tracks_df[tracks_df['genre_'+genre]==genre_bool]\n",
    "#    sns.kdeplot(df['energy'],df['tempo'], ax=ax,\\\n",
    "#                shade=True, shade_lowest=False, alpha=0.5, cmap=colormaps[n],\\\n",
    "#                label=label[n])\n",
    "    \n",
    "#plt.legend(frameon=False)\n"
   ]
  },
  {
   "cell_type": "markdown",
   "metadata": {},
   "source": [
    "Tuning the model"
   ]
  },
  {
   "cell_type": "code",
   "execution_count": 23,
   "metadata": {},
   "outputs": [
    {
     "name": "stdout",
     "output_type": "stream",
     "text": [
      "\n",
      "Tuning kNN classification model with K-Fold=4...\n",
      "energy and danceability feature the optimal number of neighbors is 38 with score 47%\n",
      "\n",
      "Tuning kNN classification model with K-Fold=5...\n",
      "energy and danceability feature the optimal number of neighbors is 24 with score 48%\n",
      "\n",
      "Tuning kNN classification model with K-Fold=8...\n",
      "energy and danceability feature the optimal number of neighbors is 47 with score 47%\n",
      "\n",
      "Tuning kNN classification model with K-Fold=10...\n",
      "energy and danceability feature the optimal number of neighbors is 47 with score 48%\n",
      "\n",
      "Tuning kNN classification model with K-Fold=4...\n",
      "loudness and danceability feature the optimal number of neighbors is 32 with score 45%\n",
      "\n",
      "Tuning kNN classification model with K-Fold=5...\n",
      "loudness and danceability feature the optimal number of neighbors is 31 with score 44%\n",
      "\n",
      "Tuning kNN classification model with K-Fold=8...\n",
      "loudness and danceability feature the optimal number of neighbors is 40 with score 45%\n",
      "\n",
      "Tuning kNN classification model with K-Fold=10...\n",
      "loudness and danceability feature the optimal number of neighbors is 47 with score 44%\n",
      "\n",
      "Tuning kNN classification model with K-Fold=4...\n",
      "speechiness and danceability feature the optimal number of neighbors is 50 with score 45%\n",
      "\n",
      "Tuning kNN classification model with K-Fold=5...\n",
      "speechiness and danceability feature the optimal number of neighbors is 42 with score 44%\n",
      "\n",
      "Tuning kNN classification model with K-Fold=8...\n",
      "speechiness and danceability feature the optimal number of neighbors is 39 with score 45%\n",
      "\n",
      "Tuning kNN classification model with K-Fold=10...\n",
      "speechiness and danceability feature the optimal number of neighbors is 44 with score 45%\n",
      "\n",
      "Tuning kNN classification model with K-Fold=4...\n",
      "acousticness and danceability feature the optimal number of neighbors is 50 with score 50%\n",
      "\n",
      "Tuning kNN classification model with K-Fold=5...\n",
      "acousticness and danceability feature the optimal number of neighbors is 38 with score 48%\n",
      "\n",
      "Tuning kNN classification model with K-Fold=8...\n",
      "acousticness and danceability feature the optimal number of neighbors is 42 with score 49%\n",
      "\n",
      "Tuning kNN classification model with K-Fold=10...\n",
      "acousticness and danceability feature the optimal number of neighbors is 46 with score 48%\n",
      "\n",
      "Tuning kNN classification model with K-Fold=4...\n",
      "instrumentalness and danceability feature the optimal number of neighbors is 50 with score 41%\n",
      "\n",
      "Tuning kNN classification model with K-Fold=5...\n",
      "instrumentalness and danceability feature the optimal number of neighbors is 22 with score 42%\n",
      "\n",
      "Tuning kNN classification model with K-Fold=8...\n",
      "instrumentalness and danceability feature the optimal number of neighbors is 27 with score 42%\n",
      "\n",
      "Tuning kNN classification model with K-Fold=10...\n",
      "instrumentalness and danceability feature the optimal number of neighbors is 45 with score 42%\n",
      "\n",
      "Tuning kNN classification model with K-Fold=4...\n",
      "liveness and danceability feature the optimal number of neighbors is 36 with score 41%\n",
      "\n",
      "Tuning kNN classification model with K-Fold=5...\n",
      "liveness and danceability feature the optimal number of neighbors is 47 with score 42%\n",
      "\n",
      "Tuning kNN classification model with K-Fold=8...\n",
      "liveness and danceability feature the optimal number of neighbors is 45 with score 42%\n",
      "\n",
      "Tuning kNN classification model with K-Fold=10...\n",
      "liveness and danceability feature the optimal number of neighbors is 48 with score 42%\n",
      "\n",
      "Tuning kNN classification model with K-Fold=4...\n",
      "valence and danceability feature the optimal number of neighbors is 50 with score 46%\n",
      "\n",
      "Tuning kNN classification model with K-Fold=5...\n",
      "valence and danceability feature the optimal number of neighbors is 41 with score 47%\n",
      "\n",
      "Tuning kNN classification model with K-Fold=8...\n",
      "valence and danceability feature the optimal number of neighbors is 46 with score 45%\n",
      "\n",
      "Tuning kNN classification model with K-Fold=10...\n",
      "valence and danceability feature the optimal number of neighbors is 35 with score 46%\n",
      "\n",
      "Tuning kNN classification model with K-Fold=4...\n",
      "tempo and danceability feature the optimal number of neighbors is 36 with score 43%\n",
      "\n",
      "Tuning kNN classification model with K-Fold=5...\n",
      "tempo and danceability feature the optimal number of neighbors is 47 with score 43%\n",
      "\n",
      "Tuning kNN classification model with K-Fold=8...\n",
      "tempo and danceability feature the optimal number of neighbors is 25 with score 44%\n",
      "\n",
      "Tuning kNN classification model with K-Fold=10...\n",
      "tempo and danceability feature the optimal number of neighbors is 24 with score 43%\n"
     ]
    }
   ],
   "source": [
    "#Select audio features to use for the model\n",
    "feature_cols =  ['danceability',\\\n",
    "                'energy',\\\n",
    "                'loudness',\\\n",
    "                'speechiness',\\\n",
    "                'acousticness',\\\n",
    "                'instrumentalness',\\\n",
    "                'liveness',\\\n",
    "                'valence',\\\n",
    "                'tempo'\\\n",
    "                ]\n",
    "results_optimal_k = []\n",
    "\n",
    "kfolds= [4,5,8,10]\n",
    "for col in feature_cols:\n",
    "    if col != 'danceability':\n",
    "        for d in kfolds:\n",
    "            print('\\nTuning kNN classification model with K-Fold=%d...' % d)\n",
    "            # create feature matrix (X)\n",
    "            duo = []\n",
    "            duo.append(col)\n",
    "            duo.append('danceability')\n",
    "            X = tracks_df[duo]\n",
    "            y = tracks_df['genre_id']\n",
    "    \n",
    "            # creating training set, test set and checking shapes \n",
    "            X_train,X_test,Y_train,Y_test = train_test_split(X,y, test_size=0.2)\n",
    "            #print(\"Shape of X_Train:\"+str(X_train.shape))\n",
    "            #print(\"Shape of y_Train:\"+str(Y_train.shape))\n",
    "            #print(\"Shape of X_Test:\"+str(X_test.shape))\n",
    "            #print(\"Shape of y_Test:\"+str(Y_test.shape))\n",
    "            \n",
    "            #train model\n",
    "            cv_scores = []\n",
    "            neighbors=np.arange(2,51)\n",
    "            #print('Finding best k...')\n",
    "            \n",
    "            #Perform KNN using K= [1..50] and validate using k-fold k = 5\n",
    "            for k in neighbors:\n",
    "                #print('Fitting for k=%d' % k)\n",
    "                knn = KNeighborsClassifier(n_neighbors=k)\n",
    "                scores = cross_val_score(knn, X_train, Y_train, cv=d, scoring='accuracy')\n",
    "                cv_scores.append(scores.mean())\n",
    "            \n",
    "            # changeto misclassification error\n",
    "            mse = [1 - x for x in cv_scores]\n",
    "        \n",
    "            # determining best k\n",
    "            optimal_k = neighbors[mse.index(min(mse))]\n",
    "            results_optimal_k.append(optimal_k)\n",
    "            \n",
    "            knn_optimal = KNeighborsClassifier(n_neighbors=k)\n",
    "            #knn_optimal.fit(X, y)\n",
    "            # plot misclassification error vs k\n",
    "            #plt.plot(neighbors, mse)\n",
    "            #plt.xlabel(\"Number of Neighbors K\")\n",
    "            #plt.ylabel(\"Misclassification Error\")\n",
    "            #plt.show()\n",
    "            \n",
    "            print(col + \" and danceability feature the optimal number of neighbors is %d with score %d%%\" % (optimal_k, 100*(1-min(mse))))\n"
   ]
  },
  {
   "cell_type": "code",
   "execution_count": 36,
   "metadata": {
    "ExecuteTime": {
     "end_time": "2021-01-21T15:13:40.275752Z",
     "start_time": "2021-01-21T15:12:56.766924Z"
    },
    "scrolled": true
   },
   "outputs": [
    {
     "name": "stdout",
     "output_type": "stream",
     "text": [
      "\n",
      "Tuning kNN classification model with K-Fold=4...\n",
      "Finding best k...\n",
      "The optimal number of neighbors is 22 with score 55%\n",
      "\n",
      "Tuning kNN classification model with K-Fold=5...\n",
      "Finding best k...\n",
      "The optimal number of neighbors is 46 with score 56%\n",
      "\n",
      "Tuning kNN classification model with K-Fold=8...\n",
      "Finding best k...\n",
      "The optimal number of neighbors is 49 with score 56%\n",
      "\n",
      "Tuning kNN classification model with K-Fold=10...\n",
      "Finding best k...\n",
      "The optimal number of neighbors is 50 with score 55%\n"
     ]
    }
   ],
   "source": [
    "#Select audio features to use for the model\n",
    "feature_cols =  ['danceability',\\\n",
    "                'energy',\\\n",
    "                'loudness',\\\n",
    "                'speechiness',\\\n",
    "                'acousticness',\\\n",
    "                'instrumentalness',\\\n",
    "                #'liveness',\\\n",
    "                'valence',\\\n",
    "                'tempo'\\\n",
    "                ]\n",
    "results_optimal_k = []\n",
    "\n",
    "kfolds= [4,5,8,10]\n",
    "for d in kfolds:\n",
    "    print('\\nTuning kNN classification model with K-Fold=%d...' % d)\n",
    "    # create feature matrix (X)\n",
    "    X = tracks_df[feature_cols]\n",
    "    y = tracks_df['genre_id']\n",
    "\n",
    "    # creating training set, test set and checking shapes \n",
    "    X_train,X_test,Y_train,Y_test = train_test_split(X,y, test_size=0.2)\n",
    "    #print(\"Shape of X_Train:\"+str(X_train.shape))\n",
    "    #print(\"Shape of y_Train:\"+str(Y_train.shape))\n",
    "    #print(\"Shape of X_Test:\"+str(X_test.shape))\n",
    "    #print(\"Shape of y_Test:\"+str(Y_test.shape))\n",
    "    \n",
    "    #train model\n",
    "    cv_scores = []\n",
    "    neighbors=np.arange(2,51)\n",
    "    print('Finding best k...')\n",
    "    \n",
    "    #Perform KNN using K= [1..50] and validate using k-fold k = 5\n",
    "    for k in neighbors:\n",
    "        #print('Fitting for k=%d' % k)\n",
    "        knn = KNeighborsClassifier(n_neighbors=k)\n",
    "        scores = cross_val_score(knn, X_train, Y_train, cv=d, scoring='accuracy')\n",
    "        cv_scores.append(scores.mean())\n",
    "        \n",
    "    # changeto misclassification error\n",
    "    mse = [1 - x for x in cv_scores]\n",
    "\n",
    "    # determining best k\n",
    "    optimal_k = neighbors[mse.index(min(mse))]\n",
    "    results_optimal_k.append(optimal_k)\n",
    "    \n",
    "    knn_optimal = KNeighborsClassifier(n_neighbors=k)\n",
    "    #knn_optimal.fit(X, y)\n",
    "    # plot misclassification error vs k\n",
    "    #plt.plot(neighbors, mse)\n",
    "    #plt.xlabel(\"Number of Neighbors K\")\n",
    "    #plt.ylabel(\"Misclassification Error\")\n",
    "    #plt.show()\n",
    "    \n",
    "    print(\"The optimal number of neighbors is %d with score %d%%\" % (optimal_k, 100*(1-min(mse))))\n"
   ]
  },
  {
   "cell_type": "code",
   "execution_count": 37,
   "metadata": {
    "ExecuteTime": {
     "end_time": "2021-01-21T15:13:40.284369Z",
     "start_time": "2021-01-21T15:13:40.278341Z"
    }
   },
   "outputs": [
    {
     "data": {
      "text/plain": [
       "[22, 46, 49, 50]"
      ]
     },
     "execution_count": 37,
     "metadata": {},
     "output_type": "execute_result"
    }
   ],
   "source": [
    "#results_optimal_k = [38, 33, 17, 21, 13, 46, 26, 27, 10, 26]\n",
    "results_optimal_k"
   ]
  },
  {
   "cell_type": "markdown",
   "metadata": {},
   "source": [
    "### 5.  Spotify Chart Classifier"
   ]
  },
  {
   "cell_type": "code",
   "execution_count": 38,
   "metadata": {
    "ExecuteTime": {
     "end_time": "2021-01-21T15:13:40.347640Z",
     "start_time": "2021-01-21T15:13:40.287636Z"
    },
    "scrolled": true
   },
   "outputs": [
    {
     "data": {
      "text/html": [
       "<div>\n",
       "<style scoped>\n",
       "    .dataframe tbody tr th:only-of-type {\n",
       "        vertical-align: middle;\n",
       "    }\n",
       "\n",
       "    .dataframe tbody tr th {\n",
       "        vertical-align: top;\n",
       "    }\n",
       "\n",
       "    .dataframe thead th {\n",
       "        text-align: right;\n",
       "    }\n",
       "</style>\n",
       "<table border=\"1\" class=\"dataframe\">\n",
       "  <thead>\n",
       "    <tr style=\"text-align: right;\">\n",
       "      <th></th>\n",
       "      <th>track_id</th>\n",
       "      <th>track_name</th>\n",
       "      <th>artist_id</th>\n",
       "      <th>artist_name</th>\n",
       "      <th>album_id</th>\n",
       "      <th>duration</th>\n",
       "      <th>release_date</th>\n",
       "      <th>popularity</th>\n",
       "      <th>danceability</th>\n",
       "      <th>energy</th>\n",
       "      <th>key</th>\n",
       "      <th>loudness</th>\n",
       "      <th>mode</th>\n",
       "      <th>speechiness</th>\n",
       "      <th>acousticness</th>\n",
       "      <th>instrumentalness</th>\n",
       "      <th>liveness</th>\n",
       "      <th>valence</th>\n",
       "      <th>tempo</th>\n",
       "    </tr>\n",
       "  </thead>\n",
       "  <tbody>\n",
       "    <tr>\n",
       "      <th>0</th>\n",
       "      <td>0kN8xEmgMW9mh7UmDYHlJP</td>\n",
       "      <td>Versace on the Floor</td>\n",
       "      <td>0du5cEVh5yTK9QJze8zA0C</td>\n",
       "      <td>Bruno Mars</td>\n",
       "      <td>4PgleR09JVnm3zY1fW3XBA</td>\n",
       "      <td>261240</td>\n",
       "      <td>2016-11-17</td>\n",
       "      <td>76</td>\n",
       "      <td>0.578</td>\n",
       "      <td>0.574</td>\n",
       "      <td>2</td>\n",
       "      <td>-6.209</td>\n",
       "      <td>1</td>\n",
       "      <td>0.0454</td>\n",
       "      <td>0.196</td>\n",
       "      <td>0.00000</td>\n",
       "      <td>0.0830</td>\n",
       "      <td>0.301</td>\n",
       "      <td>174.152</td>\n",
       "    </tr>\n",
       "    <tr>\n",
       "      <th>1</th>\n",
       "      <td>5uCax9HTNlzGybIStD3vDh</td>\n",
       "      <td>Say You Won't Let Go</td>\n",
       "      <td>4IWBUUAFIplrNtaOHcJPRM</td>\n",
       "      <td>James Arthur</td>\n",
       "      <td>7oiJYvEJHsmYtrgviAVIBD</td>\n",
       "      <td>211466</td>\n",
       "      <td>2016-10-28</td>\n",
       "      <td>88</td>\n",
       "      <td>0.358</td>\n",
       "      <td>0.557</td>\n",
       "      <td>10</td>\n",
       "      <td>-7.398</td>\n",
       "      <td>1</td>\n",
       "      <td>0.0590</td>\n",
       "      <td>0.695</td>\n",
       "      <td>0.00000</td>\n",
       "      <td>0.0902</td>\n",
       "      <td>0.494</td>\n",
       "      <td>85.043</td>\n",
       "    </tr>\n",
       "    <tr>\n",
       "      <th>2</th>\n",
       "      <td>7BKLCZ1jbUBVqRi2FVlTVw</td>\n",
       "      <td>Closer</td>\n",
       "      <td>69GGBxA162lTqCwzJG5jLp</td>\n",
       "      <td>The Chainsmokers</td>\n",
       "      <td>0rSLgV8p5FzfnqlEk4GzxE</td>\n",
       "      <td>244960</td>\n",
       "      <td>2016-07-29</td>\n",
       "      <td>87</td>\n",
       "      <td>0.748</td>\n",
       "      <td>0.524</td>\n",
       "      <td>8</td>\n",
       "      <td>-5.599</td>\n",
       "      <td>1</td>\n",
       "      <td>0.0338</td>\n",
       "      <td>0.414</td>\n",
       "      <td>0.00000</td>\n",
       "      <td>0.1110</td>\n",
       "      <td>0.661</td>\n",
       "      <td>95.010</td>\n",
       "    </tr>\n",
       "    <tr>\n",
       "      <th>3</th>\n",
       "      <td>2rizacJSyD9S1IQUxUxnsK</td>\n",
       "      <td>All We Know</td>\n",
       "      <td>69GGBxA162lTqCwzJG5jLp</td>\n",
       "      <td>The Chainsmokers</td>\n",
       "      <td>0xmaV6EtJ4M3ebZUPRnhyb</td>\n",
       "      <td>194080</td>\n",
       "      <td>2016-09-29</td>\n",
       "      <td>71</td>\n",
       "      <td>0.662</td>\n",
       "      <td>0.586</td>\n",
       "      <td>0</td>\n",
       "      <td>-8.821</td>\n",
       "      <td>1</td>\n",
       "      <td>0.0307</td>\n",
       "      <td>0.097</td>\n",
       "      <td>0.00272</td>\n",
       "      <td>0.1150</td>\n",
       "      <td>0.296</td>\n",
       "      <td>90.000</td>\n",
       "    </tr>\n",
       "    <tr>\n",
       "      <th>4</th>\n",
       "      <td>5MFzQMkrl1FOOng9tq6R9r</td>\n",
       "      <td>Don't Wanna Know</td>\n",
       "      <td>04gDigrS5kc9YWfZHwBETP</td>\n",
       "      <td>Maroon 5</td>\n",
       "      <td>0fvTn3WXF39kQs9i3bnNpP</td>\n",
       "      <td>214480</td>\n",
       "      <td>2016-10-11</td>\n",
       "      <td>1</td>\n",
       "      <td>0.783</td>\n",
       "      <td>0.623</td>\n",
       "      <td>7</td>\n",
       "      <td>-6.126</td>\n",
       "      <td>1</td>\n",
       "      <td>0.0800</td>\n",
       "      <td>0.338</td>\n",
       "      <td>0.00000</td>\n",
       "      <td>0.0975</td>\n",
       "      <td>0.447</td>\n",
       "      <td>100.048</td>\n",
       "    </tr>\n",
       "  </tbody>\n",
       "</table>\n",
       "</div>"
      ],
      "text/plain": [
       "                 track_id            track_name               artist_id  \\\n",
       "0  0kN8xEmgMW9mh7UmDYHlJP  Versace on the Floor  0du5cEVh5yTK9QJze8zA0C   \n",
       "1  5uCax9HTNlzGybIStD3vDh  Say You Won't Let Go  4IWBUUAFIplrNtaOHcJPRM   \n",
       "2  7BKLCZ1jbUBVqRi2FVlTVw                Closer  69GGBxA162lTqCwzJG5jLp   \n",
       "3  2rizacJSyD9S1IQUxUxnsK           All We Know  69GGBxA162lTqCwzJG5jLp   \n",
       "4  5MFzQMkrl1FOOng9tq6R9r      Don't Wanna Know  04gDigrS5kc9YWfZHwBETP   \n",
       "\n",
       "        artist_name                album_id  duration release_date  \\\n",
       "0        Bruno Mars  4PgleR09JVnm3zY1fW3XBA    261240   2016-11-17   \n",
       "1      James Arthur  7oiJYvEJHsmYtrgviAVIBD    211466   2016-10-28   \n",
       "2  The Chainsmokers  0rSLgV8p5FzfnqlEk4GzxE    244960   2016-07-29   \n",
       "3  The Chainsmokers  0xmaV6EtJ4M3ebZUPRnhyb    194080   2016-09-29   \n",
       "4          Maroon 5  0fvTn3WXF39kQs9i3bnNpP    214480   2016-10-11   \n",
       "\n",
       "   popularity  danceability  energy  key  loudness  mode  speechiness  \\\n",
       "0          76         0.578   0.574    2    -6.209     1       0.0454   \n",
       "1          88         0.358   0.557   10    -7.398     1       0.0590   \n",
       "2          87         0.748   0.524    8    -5.599     1       0.0338   \n",
       "3          71         0.662   0.586    0    -8.821     1       0.0307   \n",
       "4           1         0.783   0.623    7    -6.126     1       0.0800   \n",
       "\n",
       "   acousticness  instrumentalness  liveness  valence    tempo  \n",
       "0         0.196           0.00000    0.0830    0.301  174.152  \n",
       "1         0.695           0.00000    0.0902    0.494   85.043  \n",
       "2         0.414           0.00000    0.1110    0.661   95.010  \n",
       "3         0.097           0.00272    0.1150    0.296   90.000  \n",
       "4         0.338           0.00000    0.0975    0.447  100.048  "
      ]
     },
     "execution_count": 38,
     "metadata": {},
     "output_type": "execute_result"
    }
   ],
   "source": [
    "#Predict genres of the charting tracks\n",
    "chart_tracks_df = pd.read_csv(\"data/spotify_daily_charts_tracks.csv\")\n",
    "chart_tracks_df.head()"
   ]
  },
  {
   "cell_type": "code",
   "execution_count": 39,
   "metadata": {
    "ExecuteTime": {
     "end_time": "2021-01-21T15:13:40.365275Z",
     "start_time": "2021-01-21T15:13:40.350457Z"
    }
   },
   "outputs": [],
   "source": [
    "#normalize loudness and tempo\n",
    "chart_tracks_df['loudness'] = scaler.fit_transform(chart_tracks_df[['loudness']])\n",
    "chart_tracks_df['tempo'] =  scaler.fit_transform(chart_tracks_df[['tempo']])"
   ]
  },
  {
   "cell_type": "markdown",
   "metadata": {},
   "source": [
    "Test the model with external data by predicting the genres of the spotify charting tracks!"
   ]
  },
  {
   "cell_type": "code",
   "execution_count": 40,
   "metadata": {
    "ExecuteTime": {
     "end_time": "2021-01-21T15:13:49.302804Z",
     "start_time": "2021-01-21T15:13:40.369326Z"
    },
    "scrolled": true
   },
   "outputs": [
    {
     "name": "stdout",
     "output_type": "stream",
     "text": [
      "Predicting with optimal k: 50\n"
     ]
    }
   ],
   "source": [
    "#Predict genres of the spotify charts\n",
    "'''\n",
    "feature_cols = ['danceability',\\\n",
    "                'energy',\\\n",
    "                'loudness',\\\n",
    "                'speechiness',\\\n",
    "                'acousticness',\\\n",
    "                'instrumentalness',\\\n",
    "                #'liveness',\\\n",
    "                'valence',\\\n",
    "                'tempo'\\\n",
    "               ]\n",
    "'''\n",
    "genres = [genre_lookup[i] for i in np.arange(len(genre_names))]\n",
    "\n",
    "n=3 #pick kfold=10\n",
    "print(\"Predicting with optimal k: %d\" %(results_optimal_k[n]))\n",
    "\n",
    "knn_optimal = KNeighborsClassifier(n_neighbors=results_optimal_k[n])\n",
    "X = tracks_df[feature_cols]\n",
    "y = tracks_df['genre_id']\n",
    "knn_optimal.fit(X, y)\n",
    "\n",
    "chart_tracks_df['predicted_genre_id'] = chart_tracks_df.apply(lambda x:  knn_optimal.predict(x[feature_cols].values.reshape(1,-1))[0]\\\n",
    "                                               , axis=1)\n",
    "chart_tracks_df['predicted_genre'] = chart_tracks_df['predicted_genre_id'].apply(lambda x: genre_lookup[x])\n",
    "chart_tracks_df['predicted_genre_prob'] = chart_tracks_df.apply(lambda x:  np.max(knn_optimal.predict_proba(x[feature_cols].values.reshape(1,-1)))\\\n",
    "                                                    , axis=1)\n",
    "chart_tracks_df['all_genre_prob'] = chart_tracks_df.apply(lambda x:  knn_optimal.predict_proba(x[feature_cols].values.reshape(1,-1))[0]\\\n",
    "                                                    , axis=1)\n"
   ]
  },
  {
   "cell_type": "code",
   "execution_count": 41,
   "metadata": {
    "ExecuteTime": {
     "end_time": "2021-01-21T15:13:49.362188Z",
     "start_time": "2021-01-21T15:13:49.304806Z"
    },
    "scrolled": true
   },
   "outputs": [
    {
     "data": {
      "text/html": [
       "<div>\n",
       "<style scoped>\n",
       "    .dataframe tbody tr th:only-of-type {\n",
       "        vertical-align: middle;\n",
       "    }\n",
       "\n",
       "    .dataframe tbody tr th {\n",
       "        vertical-align: top;\n",
       "    }\n",
       "\n",
       "    .dataframe thead th {\n",
       "        text-align: right;\n",
       "    }\n",
       "</style>\n",
       "<table border=\"1\" class=\"dataframe\">\n",
       "  <thead>\n",
       "    <tr style=\"text-align: right;\">\n",
       "      <th></th>\n",
       "      <th>track_id</th>\n",
       "      <th>track_name</th>\n",
       "      <th>artist_id</th>\n",
       "      <th>artist_name</th>\n",
       "      <th>album_id</th>\n",
       "      <th>duration</th>\n",
       "      <th>release_date</th>\n",
       "      <th>popularity</th>\n",
       "      <th>danceability</th>\n",
       "      <th>energy</th>\n",
       "      <th>...</th>\n",
       "      <th>valence</th>\n",
       "      <th>tempo</th>\n",
       "      <th>predicted_genre_id</th>\n",
       "      <th>predicted_genre</th>\n",
       "      <th>predicted_genre_prob</th>\n",
       "      <th>predicted_folk_prob</th>\n",
       "      <th>predicted_hiphop_prob</th>\n",
       "      <th>predicted_indie_prob</th>\n",
       "      <th>predicted_rnb_prob</th>\n",
       "      <th>predicted_rock_prob</th>\n",
       "    </tr>\n",
       "  </thead>\n",
       "  <tbody>\n",
       "    <tr>\n",
       "      <th>1649</th>\n",
       "      <td>1jo3TwNGCXfNdB5uba3ZVv</td>\n",
       "      <td>Killshot</td>\n",
       "      <td>7dGJo4pcD2V6oG8kP0tJRR</td>\n",
       "      <td>Eminem</td>\n",
       "      <td>0RejlT9bmqcXGrqMaJRos0</td>\n",
       "      <td>253579</td>\n",
       "      <td>2018-09-19</td>\n",
       "      <td>75</td>\n",
       "      <td>0.893</td>\n",
       "      <td>0.651</td>\n",
       "      <td>...</td>\n",
       "      <td>0.600</td>\n",
       "      <td>0.327736</td>\n",
       "      <td>1</td>\n",
       "      <td>hiphop</td>\n",
       "      <td>0.96</td>\n",
       "      <td>0.0</td>\n",
       "      <td>0.96</td>\n",
       "      <td>0.02</td>\n",
       "      <td>0.02</td>\n",
       "      <td>0.00</td>\n",
       "    </tr>\n",
       "    <tr>\n",
       "      <th>1232</th>\n",
       "      <td>6n4U3TlzUGhdSFbUUhTvLP</td>\n",
       "      <td>Walk It Talk It</td>\n",
       "      <td>6oMuImdp5ZcFhWP0ESe6mG</td>\n",
       "      <td>Migos</td>\n",
       "      <td>7fd7SEK25VS3gJAUgSwL6y</td>\n",
       "      <td>276147</td>\n",
       "      <td>2018-01-26</td>\n",
       "      <td>78</td>\n",
       "      <td>0.907</td>\n",
       "      <td>0.633</td>\n",
       "      <td>...</td>\n",
       "      <td>0.395</td>\n",
       "      <td>0.574349</td>\n",
       "      <td>1</td>\n",
       "      <td>hiphop</td>\n",
       "      <td>0.96</td>\n",
       "      <td>0.0</td>\n",
       "      <td>0.96</td>\n",
       "      <td>0.00</td>\n",
       "      <td>0.04</td>\n",
       "      <td>0.00</td>\n",
       "    </tr>\n",
       "    <tr>\n",
       "      <th>2940</th>\n",
       "      <td>4Oun2ylbjFKMPTiaSbbCih</td>\n",
       "      <td>WAP (feat. Megan Thee Stallion)</td>\n",
       "      <td>4kYSro6naA4h99UJvo89HB</td>\n",
       "      <td>Cardi B</td>\n",
       "      <td>2ogiazbrNEx0kQHGl5ZBTQ</td>\n",
       "      <td>187541</td>\n",
       "      <td>2020-08-07</td>\n",
       "      <td>95</td>\n",
       "      <td>0.935</td>\n",
       "      <td>0.454</td>\n",
       "      <td>...</td>\n",
       "      <td>0.357</td>\n",
       "      <td>0.495336</td>\n",
       "      <td>1</td>\n",
       "      <td>hiphop</td>\n",
       "      <td>0.96</td>\n",
       "      <td>0.0</td>\n",
       "      <td>0.96</td>\n",
       "      <td>0.00</td>\n",
       "      <td>0.04</td>\n",
       "      <td>0.00</td>\n",
       "    </tr>\n",
       "    <tr>\n",
       "      <th>2138</th>\n",
       "      <td>6dPyzkyZwoj9LqjQXOFdVv</td>\n",
       "      <td>Press</td>\n",
       "      <td>4kYSro6naA4h99UJvo89HB</td>\n",
       "      <td>Cardi B</td>\n",
       "      <td>4OYI54WJJQRkCG4FVmIuTZ</td>\n",
       "      <td>143791</td>\n",
       "      <td>2019-05-31</td>\n",
       "      <td>70</td>\n",
       "      <td>0.888</td>\n",
       "      <td>0.525</td>\n",
       "      <td>...</td>\n",
       "      <td>0.243</td>\n",
       "      <td>0.500935</td>\n",
       "      <td>1</td>\n",
       "      <td>hiphop</td>\n",
       "      <td>0.96</td>\n",
       "      <td>0.0</td>\n",
       "      <td>0.96</td>\n",
       "      <td>0.00</td>\n",
       "      <td>0.04</td>\n",
       "      <td>0.00</td>\n",
       "    </tr>\n",
       "    <tr>\n",
       "      <th>138</th>\n",
       "      <td>4Km5HrUvYTaSUfiSGPJeQR</td>\n",
       "      <td>Bad and Boujee (feat. Lil Uzi Vert)</td>\n",
       "      <td>6oMuImdp5ZcFhWP0ESe6mG</td>\n",
       "      <td>Migos</td>\n",
       "      <td>2AvupjUeMnSffKEV05x222</td>\n",
       "      <td>343150</td>\n",
       "      <td>2017-01-27</td>\n",
       "      <td>78</td>\n",
       "      <td>0.927</td>\n",
       "      <td>0.665</td>\n",
       "      <td>...</td>\n",
       "      <td>0.175</td>\n",
       "      <td>0.458435</td>\n",
       "      <td>1</td>\n",
       "      <td>hiphop</td>\n",
       "      <td>0.96</td>\n",
       "      <td>0.0</td>\n",
       "      <td>0.96</td>\n",
       "      <td>0.00</td>\n",
       "      <td>0.02</td>\n",
       "      <td>0.02</td>\n",
       "    </tr>\n",
       "  </tbody>\n",
       "</table>\n",
       "<p>5 rows × 27 columns</p>\n",
       "</div>"
      ],
      "text/plain": [
       "                    track_id                           track_name  \\\n",
       "1649  1jo3TwNGCXfNdB5uba3ZVv                             Killshot   \n",
       "1232  6n4U3TlzUGhdSFbUUhTvLP                      Walk It Talk It   \n",
       "2940  4Oun2ylbjFKMPTiaSbbCih      WAP (feat. Megan Thee Stallion)   \n",
       "2138  6dPyzkyZwoj9LqjQXOFdVv                                Press   \n",
       "138   4Km5HrUvYTaSUfiSGPJeQR  Bad and Boujee (feat. Lil Uzi Vert)   \n",
       "\n",
       "                   artist_id artist_name                album_id  duration  \\\n",
       "1649  7dGJo4pcD2V6oG8kP0tJRR      Eminem  0RejlT9bmqcXGrqMaJRos0    253579   \n",
       "1232  6oMuImdp5ZcFhWP0ESe6mG       Migos  7fd7SEK25VS3gJAUgSwL6y    276147   \n",
       "2940  4kYSro6naA4h99UJvo89HB     Cardi B  2ogiazbrNEx0kQHGl5ZBTQ    187541   \n",
       "2138  4kYSro6naA4h99UJvo89HB     Cardi B  4OYI54WJJQRkCG4FVmIuTZ    143791   \n",
       "138   6oMuImdp5ZcFhWP0ESe6mG       Migos  2AvupjUeMnSffKEV05x222    343150   \n",
       "\n",
       "     release_date  popularity  danceability  energy  ...  valence     tempo  \\\n",
       "1649   2018-09-19          75         0.893   0.651  ...    0.600  0.327736   \n",
       "1232   2018-01-26          78         0.907   0.633  ...    0.395  0.574349   \n",
       "2940   2020-08-07          95         0.935   0.454  ...    0.357  0.495336   \n",
       "2138   2019-05-31          70         0.888   0.525  ...    0.243  0.500935   \n",
       "138    2017-01-27          78         0.927   0.665  ...    0.175  0.458435   \n",
       "\n",
       "      predicted_genre_id  predicted_genre  predicted_genre_prob  \\\n",
       "1649                   1           hiphop                  0.96   \n",
       "1232                   1           hiphop                  0.96   \n",
       "2940                   1           hiphop                  0.96   \n",
       "2138                   1           hiphop                  0.96   \n",
       "138                    1           hiphop                  0.96   \n",
       "\n",
       "      predicted_folk_prob  predicted_hiphop_prob  predicted_indie_prob  \\\n",
       "1649                  0.0                   0.96                  0.02   \n",
       "1232                  0.0                   0.96                  0.00   \n",
       "2940                  0.0                   0.96                  0.00   \n",
       "2138                  0.0                   0.96                  0.00   \n",
       "138                   0.0                   0.96                  0.00   \n",
       "\n",
       "      predicted_rnb_prob  predicted_rock_prob  \n",
       "1649                0.02                 0.00  \n",
       "1232                0.04                 0.00  \n",
       "2940                0.04                 0.00  \n",
       "2138                0.04                 0.00  \n",
       "138                 0.02                 0.02  \n",
       "\n",
       "[5 rows x 27 columns]"
      ]
     },
     "execution_count": 41,
     "metadata": {},
     "output_type": "execute_result"
    }
   ],
   "source": [
    "#explore genre probabilities into separate columns\n",
    "charts_predicted_genre_prob = pd.DataFrame(chart_tracks_df[\"all_genre_prob\"].to_list(),\n",
    "                                           columns=['predicted_'+g+'_prob' for g in genres])\n",
    "charts_predicted_genre_prob['track_id'] = chart_tracks_df['track_id']\n",
    "chart_tracks_df = pd.merge(chart_tracks_df,charts_predicted_genre_prob, how='left', on='track_id')\n",
    "chart_tracks_df = chart_tracks_df.drop(columns='all_genre_prob')\n",
    "chart_tracks_df = chart_tracks_df.sort_values('predicted_genre_prob', ascending=False)\n",
    "chart_tracks_df.head()"
   ]
  },
  {
   "cell_type": "markdown",
   "metadata": {},
   "source": [
    "Check out tracks with highest assigned probability"
   ]
  },
  {
   "cell_type": "code",
   "execution_count": 42,
   "metadata": {
    "ExecuteTime": {
     "end_time": "2021-01-21T15:13:49.401423Z",
     "start_time": "2021-01-21T15:13:49.365144Z"
    }
   },
   "outputs": [
    {
     "data": {
      "text/html": [
       "<div>\n",
       "<style scoped>\n",
       "    .dataframe tbody tr th:only-of-type {\n",
       "        vertical-align: middle;\n",
       "    }\n",
       "\n",
       "    .dataframe tbody tr th {\n",
       "        vertical-align: top;\n",
       "    }\n",
       "\n",
       "    .dataframe thead th {\n",
       "        text-align: right;\n",
       "    }\n",
       "</style>\n",
       "<table border=\"1\" class=\"dataframe\">\n",
       "  <thead>\n",
       "    <tr style=\"text-align: right;\">\n",
       "      <th></th>\n",
       "      <th>artist_name</th>\n",
       "      <th>track_name</th>\n",
       "      <th>predicted_genre</th>\n",
       "      <th>predicted_genre_prob</th>\n",
       "    </tr>\n",
       "  </thead>\n",
       "  <tbody>\n",
       "    <tr>\n",
       "      <th>1649</th>\n",
       "      <td>Eminem</td>\n",
       "      <td>Killshot</td>\n",
       "      <td>hiphop</td>\n",
       "      <td>0.96</td>\n",
       "    </tr>\n",
       "    <tr>\n",
       "      <th>1232</th>\n",
       "      <td>Migos</td>\n",
       "      <td>Walk It Talk It</td>\n",
       "      <td>hiphop</td>\n",
       "      <td>0.96</td>\n",
       "    </tr>\n",
       "    <tr>\n",
       "      <th>2940</th>\n",
       "      <td>Cardi B</td>\n",
       "      <td>WAP (feat. Megan Thee Stallion)</td>\n",
       "      <td>hiphop</td>\n",
       "      <td>0.96</td>\n",
       "    </tr>\n",
       "    <tr>\n",
       "      <th>2138</th>\n",
       "      <td>Cardi B</td>\n",
       "      <td>Press</td>\n",
       "      <td>hiphop</td>\n",
       "      <td>0.96</td>\n",
       "    </tr>\n",
       "    <tr>\n",
       "      <th>138</th>\n",
       "      <td>Migos</td>\n",
       "      <td>Bad and Boujee (feat. Lil Uzi Vert)</td>\n",
       "      <td>hiphop</td>\n",
       "      <td>0.96</td>\n",
       "    </tr>\n",
       "    <tr>\n",
       "      <th>1329</th>\n",
       "      <td>Oasis</td>\n",
       "      <td>Wonderwall - Remastered</td>\n",
       "      <td>rock</td>\n",
       "      <td>0.90</td>\n",
       "    </tr>\n",
       "    <tr>\n",
       "      <th>3105</th>\n",
       "      <td>TOMORROW X TOGETHER</td>\n",
       "      <td>Ghosting</td>\n",
       "      <td>rock</td>\n",
       "      <td>0.86</td>\n",
       "    </tr>\n",
       "    <tr>\n",
       "      <th>660</th>\n",
       "      <td>Linkin Park</td>\n",
       "      <td>Somewhere I Belong</td>\n",
       "      <td>rock</td>\n",
       "      <td>0.86</td>\n",
       "    </tr>\n",
       "    <tr>\n",
       "      <th>410</th>\n",
       "      <td>Coldplay</td>\n",
       "      <td>Viva La Vida - Live from Spotify London</td>\n",
       "      <td>rock</td>\n",
       "      <td>0.84</td>\n",
       "    </tr>\n",
       "    <tr>\n",
       "      <th>700</th>\n",
       "      <td>LANY</td>\n",
       "      <td>Dumb Stuff</td>\n",
       "      <td>rock</td>\n",
       "      <td>0.84</td>\n",
       "    </tr>\n",
       "    <tr>\n",
       "      <th>2839</th>\n",
       "      <td>HONNE</td>\n",
       "      <td>dear P</td>\n",
       "      <td>folk</td>\n",
       "      <td>0.80</td>\n",
       "    </tr>\n",
       "    <tr>\n",
       "      <th>2383</th>\n",
       "      <td>Billie Eilish</td>\n",
       "      <td>everything i wanted</td>\n",
       "      <td>folk</td>\n",
       "      <td>0.72</td>\n",
       "    </tr>\n",
       "    <tr>\n",
       "      <th>2203</th>\n",
       "      <td>Beyoncé</td>\n",
       "      <td>Can You Feel the Love Tonight</td>\n",
       "      <td>folk</td>\n",
       "      <td>0.70</td>\n",
       "    </tr>\n",
       "    <tr>\n",
       "      <th>2775</th>\n",
       "      <td>Lady Gaga</td>\n",
       "      <td>Chromatica II</td>\n",
       "      <td>folk</td>\n",
       "      <td>0.68</td>\n",
       "    </tr>\n",
       "    <tr>\n",
       "      <th>277</th>\n",
       "      <td>Alex &amp; Sierra</td>\n",
       "      <td>Little Do You Know</td>\n",
       "      <td>folk</td>\n",
       "      <td>0.68</td>\n",
       "    </tr>\n",
       "    <tr>\n",
       "      <th>724</th>\n",
       "      <td>Janine Teñoso</td>\n",
       "      <td>241 (From the movie \"100 Tula Para Kay Stella\")</td>\n",
       "      <td>indie</td>\n",
       "      <td>0.54</td>\n",
       "    </tr>\n",
       "    <tr>\n",
       "      <th>452</th>\n",
       "      <td>Lord Huron</td>\n",
       "      <td>The Night We Met</td>\n",
       "      <td>indie</td>\n",
       "      <td>0.52</td>\n",
       "    </tr>\n",
       "    <tr>\n",
       "      <th>1200</th>\n",
       "      <td>Calum Scott</td>\n",
       "      <td>You Are The Reason</td>\n",
       "      <td>indie</td>\n",
       "      <td>0.50</td>\n",
       "    </tr>\n",
       "    <tr>\n",
       "      <th>1455</th>\n",
       "      <td>Calum Scott</td>\n",
       "      <td>You Are The Reason</td>\n",
       "      <td>indie</td>\n",
       "      <td>0.50</td>\n",
       "    </tr>\n",
       "    <tr>\n",
       "      <th>1974</th>\n",
       "      <td>Ben&amp;Ben</td>\n",
       "      <td>Beautiful Girl - Recorded at Kodama Studios, P...</td>\n",
       "      <td>indie</td>\n",
       "      <td>0.48</td>\n",
       "    </tr>\n",
       "    <tr>\n",
       "      <th>2105</th>\n",
       "      <td>Kiyo</td>\n",
       "      <td>Ikaw Lang</td>\n",
       "      <td>rnb</td>\n",
       "      <td>0.48</td>\n",
       "    </tr>\n",
       "    <tr>\n",
       "      <th>1692</th>\n",
       "      <td>Rihanna</td>\n",
       "      <td>Take A Bow</td>\n",
       "      <td>rnb</td>\n",
       "      <td>0.46</td>\n",
       "    </tr>\n",
       "    <tr>\n",
       "      <th>2596</th>\n",
       "      <td>Bazzi</td>\n",
       "      <td>Young &amp; Alive</td>\n",
       "      <td>rnb</td>\n",
       "      <td>0.46</td>\n",
       "    </tr>\n",
       "    <tr>\n",
       "      <th>1253</th>\n",
       "      <td>Bazzi</td>\n",
       "      <td>Honest</td>\n",
       "      <td>rnb</td>\n",
       "      <td>0.46</td>\n",
       "    </tr>\n",
       "    <tr>\n",
       "      <th>3159</th>\n",
       "      <td>Justin Timberlake</td>\n",
       "      <td>Mirrors</td>\n",
       "      <td>rnb</td>\n",
       "      <td>0.46</td>\n",
       "    </tr>\n",
       "  </tbody>\n",
       "</table>\n",
       "</div>"
      ],
      "text/plain": [
       "              artist_name                                         track_name  \\\n",
       "1649               Eminem                                           Killshot   \n",
       "1232                Migos                                    Walk It Talk It   \n",
       "2940              Cardi B                    WAP (feat. Megan Thee Stallion)   \n",
       "2138              Cardi B                                              Press   \n",
       "138                 Migos                Bad and Boujee (feat. Lil Uzi Vert)   \n",
       "1329                Oasis                            Wonderwall - Remastered   \n",
       "3105  TOMORROW X TOGETHER                                           Ghosting   \n",
       "660           Linkin Park                                 Somewhere I Belong   \n",
       "410              Coldplay            Viva La Vida - Live from Spotify London   \n",
       "700                  LANY                                         Dumb Stuff   \n",
       "2839                HONNE                                             dear P   \n",
       "2383        Billie Eilish                                everything i wanted   \n",
       "2203              Beyoncé                      Can You Feel the Love Tonight   \n",
       "2775            Lady Gaga                                      Chromatica II   \n",
       "277         Alex & Sierra                                 Little Do You Know   \n",
       "724         Janine Teñoso    241 (From the movie \"100 Tula Para Kay Stella\")   \n",
       "452            Lord Huron                                   The Night We Met   \n",
       "1200          Calum Scott                                 You Are The Reason   \n",
       "1455          Calum Scott                                 You Are The Reason   \n",
       "1974              Ben&Ben  Beautiful Girl - Recorded at Kodama Studios, P...   \n",
       "2105                 Kiyo                                          Ikaw Lang   \n",
       "1692              Rihanna                                         Take A Bow   \n",
       "2596                Bazzi                                      Young & Alive   \n",
       "1253                Bazzi                                             Honest   \n",
       "3159    Justin Timberlake                                            Mirrors   \n",
       "\n",
       "     predicted_genre  predicted_genre_prob  \n",
       "1649          hiphop                  0.96  \n",
       "1232          hiphop                  0.96  \n",
       "2940          hiphop                  0.96  \n",
       "2138          hiphop                  0.96  \n",
       "138           hiphop                  0.96  \n",
       "1329            rock                  0.90  \n",
       "3105            rock                  0.86  \n",
       "660             rock                  0.86  \n",
       "410             rock                  0.84  \n",
       "700             rock                  0.84  \n",
       "2839            folk                  0.80  \n",
       "2383            folk                  0.72  \n",
       "2203            folk                  0.70  \n",
       "2775            folk                  0.68  \n",
       "277             folk                  0.68  \n",
       "724            indie                  0.54  \n",
       "452            indie                  0.52  \n",
       "1200           indie                  0.50  \n",
       "1455           indie                  0.50  \n",
       "1974           indie                  0.48  \n",
       "2105             rnb                  0.48  \n",
       "1692             rnb                  0.46  \n",
       "2596             rnb                  0.46  \n",
       "1253             rnb                  0.46  \n",
       "3159             rnb                  0.46  "
      ]
     },
     "execution_count": 42,
     "metadata": {},
     "output_type": "execute_result"
    }
   ],
   "source": [
    "chart_tracks_df.groupby('predicted_genre_id').head()[['artist_name','track_name','predicted_genre','predicted_genre_prob']]"
   ]
  },
  {
   "cell_type": "markdown",
   "metadata": {},
   "source": [
    "View histogram of predicted genre probabilities"
   ]
  },
  {
   "cell_type": "code",
   "execution_count": 43,
   "metadata": {
    "ExecuteTime": {
     "end_time": "2021-01-21T15:13:49.620237Z",
     "start_time": "2021-01-21T15:13:49.404373Z"
    }
   },
   "outputs": [
    {
     "data": {
      "text/plain": [
       "<AxesSubplot:>"
      ]
     },
     "execution_count": 43,
     "metadata": {},
     "output_type": "execute_result"
    },
    {
     "data": {
      "image/png": "[encoded data removed]",
      "text/plain": [
       "<Figure size 432x288 with 1 Axes>"
      ]
     },
     "metadata": {
      "needs_background": "light"
     },
     "output_type": "display_data"
    }
   ],
   "source": [
    "chart_tracks_df['predicted_genre_prob'].hist()"
   ]
  },
  {
   "cell_type": "markdown",
   "metadata": {
    "ExecuteTime": {
     "end_time": "2020-10-12T17:44:50.844307Z",
     "start_time": "2020-10-12T17:44:50.836325Z"
    }
   },
   "source": [
    "Check out tally of predicted genres"
   ]
  },
  {
   "cell_type": "code",
   "execution_count": 44,
   "metadata": {
    "ExecuteTime": {
     "end_time": "2021-01-21T15:13:49.631189Z",
     "start_time": "2021-01-21T15:13:49.623019Z"
    }
   },
   "outputs": [
    {
     "data": {
      "text/plain": [
       "rock      1199\n",
       "folk      1066\n",
       "hiphop     746\n",
       "indie      172\n",
       "rnb        101\n",
       "Name: predicted_genre, dtype: int64"
      ]
     },
     "execution_count": 44,
     "metadata": {},
     "output_type": "execute_result"
    }
   ],
   "source": [
    "chart_tracks_df['predicted_genre'].value_counts()"
   ]
  },
  {
   "cell_type": "markdown",
   "metadata": {},
   "source": [
    "### 5.  Artist Classifier"
   ]
  },
  {
   "cell_type": "code",
   "execution_count": 45,
   "metadata": {},
   "outputs": [],
   "source": [
    "artist = 'Nyoy Volante'"
   ]
  },
  {
   "cell_type": "code",
   "execution_count": 55,
   "metadata": {},
   "outputs": [],
   "source": [
    "artist_tracks_df = pd.read_csv('data/'+artist.lower()+'_album_tracks_data.csv')\n",
    "artist_tracks_df = artist_tracks_df[artist_tracks_df['artist_name']==artist]"
   ]
  },
  {
   "cell_type": "code",
   "execution_count": 56,
   "metadata": {},
   "outputs": [
    {
     "name": "stdout",
     "output_type": "stream",
     "text": [
      "Predicting with optimal k: 50\n"
     ]
    }
   ],
   "source": [
    "#Predict genres of the spotify charts\n",
    "'''\n",
    "feature_cols = ['danceability',\\\n",
    "                'energy',\\\n",
    "                'loudness',\\\n",
    "                'speechiness',\\\n",
    "                'acousticness',\\\n",
    "                'instrumentalness',\\\n",
    "                #'liveness',\\\n",
    "                'valence',\\\n",
    "                'tempo'\\\n",
    "               ]\n",
    "'''\n",
    "genres = [genre_lookup[i] for i in np.arange(len(genre_names))]\n",
    "\n",
    "n=3 #pick kfold=10\n",
    "print(\"Predicting with optimal k: %d\" %(results_optimal_k[n]))\n",
    "\n",
    "knn_optimal = KNeighborsClassifier(n_neighbors=results_optimal_k[n])\n",
    "X = tracks_df[feature_cols]\n",
    "y = tracks_df['genre_id']\n",
    "knn_optimal.fit(X, y)\n",
    "\n",
    "artist_tracks_df['predicted_genre_id'] = artist_tracks_df.apply(lambda x:  knn_optimal.predict(x[feature_cols].values.reshape(1,-1))[0]\\\n",
    "                                               , axis=1)\n",
    "artist_tracks_df['predicted_genre'] = artist_tracks_df['predicted_genre_id'].apply(lambda x: genre_lookup[x])\n",
    "artist_tracks_df['predicted_genre_prob'] = artist_tracks_df.apply(lambda x:  np.max(knn_optimal.predict_proba(x[feature_cols].values.reshape(1,-1)))\\\n",
    "                                                    , axis=1)\n",
    "artist_tracks_df['all_genre_prob'] = artist_tracks_df.apply(lambda x:  knn_optimal.predict_proba(x[feature_cols].values.reshape(1,-1))[0]\\\n",
    "                                                    , axis=1)\n"
   ]
  },
  {
   "cell_type": "code",
   "execution_count": 57,
   "metadata": {},
   "outputs": [
    {
     "data": {
      "text/html": [
       "<div>\n",
       "<style scoped>\n",
       "    .dataframe tbody tr th:only-of-type {\n",
       "        vertical-align: middle;\n",
       "    }\n",
       "\n",
       "    .dataframe tbody tr th {\n",
       "        vertical-align: top;\n",
       "    }\n",
       "\n",
       "    .dataframe thead th {\n",
       "        text-align: right;\n",
       "    }\n",
       "</style>\n",
       "<table border=\"1\" class=\"dataframe\">\n",
       "  <thead>\n",
       "    <tr style=\"text-align: right;\">\n",
       "      <th></th>\n",
       "      <th>track_id</th>\n",
       "      <th>track_name</th>\n",
       "      <th>artist_id</th>\n",
       "      <th>artist_name</th>\n",
       "      <th>album_id</th>\n",
       "      <th>duration</th>\n",
       "      <th>release_date</th>\n",
       "      <th>popularity</th>\n",
       "      <th>danceability</th>\n",
       "      <th>energy</th>\n",
       "      <th>...</th>\n",
       "      <th>playlist_id</th>\n",
       "      <th>playlist_name</th>\n",
       "      <th>predicted_genre_id</th>\n",
       "      <th>predicted_genre</th>\n",
       "      <th>predicted_genre_prob</th>\n",
       "      <th>predicted_folk_prob</th>\n",
       "      <th>predicted_hiphop_prob</th>\n",
       "      <th>predicted_indie_prob</th>\n",
       "      <th>predicted_rnb_prob</th>\n",
       "      <th>predicted_rock_prob</th>\n",
       "    </tr>\n",
       "  </thead>\n",
       "  <tbody>\n",
       "    <tr>\n",
       "      <th>44</th>\n",
       "      <td>3MYfcVRTLqo7t3ra4DqFRn</td>\n",
       "      <td>Ama Namin</td>\n",
       "      <td>3pTaNQJ7TAU4yL7KEZp5sF</td>\n",
       "      <td>Nyoy Volante</td>\n",
       "      <td>1maIgsJ7htTqCDrhe8aucE</td>\n",
       "      <td>113640</td>\n",
       "      <td>2008-08-09</td>\n",
       "      <td>10</td>\n",
       "      <td>0.000</td>\n",
       "      <td>0.118</td>\n",
       "      <td>...</td>\n",
       "      <td>3MYfcVRTLqo7t3ra4DqFRn</td>\n",
       "      <td>3MYfcVRTLqo7t3ra4DqFRn</td>\n",
       "      <td>0</td>\n",
       "      <td>folk</td>\n",
       "      <td>0.72</td>\n",
       "      <td>0.72</td>\n",
       "      <td>0.02</td>\n",
       "      <td>0.24</td>\n",
       "      <td>0.00</td>\n",
       "      <td>0.02</td>\n",
       "    </tr>\n",
       "    <tr>\n",
       "      <th>0</th>\n",
       "      <td>2pAFgfaNVioQGhC0jhtcsG</td>\n",
       "      <td>Ipagpatawad Mo</td>\n",
       "      <td>3pTaNQJ7TAU4yL7KEZp5sF</td>\n",
       "      <td>Nyoy Volante</td>\n",
       "      <td>5jzfPxlD5UD4Aw3cEnelcC</td>\n",
       "      <td>239333</td>\n",
       "      <td>2012-01-01</td>\n",
       "      <td>29</td>\n",
       "      <td>0.622</td>\n",
       "      <td>0.522</td>\n",
       "      <td>...</td>\n",
       "      <td>2pAFgfaNVioQGhC0jhtcsG</td>\n",
       "      <td>2pAFgfaNVioQGhC0jhtcsG</td>\n",
       "      <td>4</td>\n",
       "      <td>rock</td>\n",
       "      <td>0.26</td>\n",
       "      <td>0.22</td>\n",
       "      <td>0.24</td>\n",
       "      <td>0.16</td>\n",
       "      <td>0.12</td>\n",
       "      <td>0.26</td>\n",
       "    </tr>\n",
       "    <tr>\n",
       "      <th>55</th>\n",
       "      <td>1vjdKdp3P8QKfbrb0eUljJ</td>\n",
       "      <td>The One You Love</td>\n",
       "      <td>3pTaNQJ7TAU4yL7KEZp5sF</td>\n",
       "      <td>Nyoy Volante</td>\n",
       "      <td>2A48roBpFpFjatWtksmsQE</td>\n",
       "      <td>276893</td>\n",
       "      <td>2008-05-06</td>\n",
       "      <td>29</td>\n",
       "      <td>0.556</td>\n",
       "      <td>0.301</td>\n",
       "      <td>...</td>\n",
       "      <td>1vjdKdp3P8QKfbrb0eUljJ</td>\n",
       "      <td>1vjdKdp3P8QKfbrb0eUljJ</td>\n",
       "      <td>4</td>\n",
       "      <td>rock</td>\n",
       "      <td>0.26</td>\n",
       "      <td>0.22</td>\n",
       "      <td>0.24</td>\n",
       "      <td>0.16</td>\n",
       "      <td>0.12</td>\n",
       "      <td>0.26</td>\n",
       "    </tr>\n",
       "    <tr>\n",
       "      <th>62</th>\n",
       "      <td>0PhKUUh0XzAHev6opemDtH</td>\n",
       "      <td>'Di Na Mapigilan</td>\n",
       "      <td>3pTaNQJ7TAU4yL7KEZp5sF</td>\n",
       "      <td>Nyoy Volante</td>\n",
       "      <td>4EQ7a4ztLVN5OUgxJJVIxY</td>\n",
       "      <td>263186</td>\n",
       "      <td>2002-06-01</td>\n",
       "      <td>1</td>\n",
       "      <td>0.567</td>\n",
       "      <td>0.520</td>\n",
       "      <td>...</td>\n",
       "      <td>0PhKUUh0XzAHev6opemDtH</td>\n",
       "      <td>0PhKUUh0XzAHev6opemDtH</td>\n",
       "      <td>4</td>\n",
       "      <td>rock</td>\n",
       "      <td>0.26</td>\n",
       "      <td>0.22</td>\n",
       "      <td>0.24</td>\n",
       "      <td>0.16</td>\n",
       "      <td>0.12</td>\n",
       "      <td>0.26</td>\n",
       "    </tr>\n",
       "    <tr>\n",
       "      <th>61</th>\n",
       "      <td>3RYkG7WmnRK6HSejhCo7jw</td>\n",
       "      <td>Ikaw Lang Para Sa Akin</td>\n",
       "      <td>3pTaNQJ7TAU4yL7KEZp5sF</td>\n",
       "      <td>Nyoy Volante</td>\n",
       "      <td>4EQ7a4ztLVN5OUgxJJVIxY</td>\n",
       "      <td>259746</td>\n",
       "      <td>2002-06-01</td>\n",
       "      <td>8</td>\n",
       "      <td>0.394</td>\n",
       "      <td>0.561</td>\n",
       "      <td>...</td>\n",
       "      <td>3RYkG7WmnRK6HSejhCo7jw</td>\n",
       "      <td>3RYkG7WmnRK6HSejhCo7jw</td>\n",
       "      <td>4</td>\n",
       "      <td>rock</td>\n",
       "      <td>0.26</td>\n",
       "      <td>0.22</td>\n",
       "      <td>0.24</td>\n",
       "      <td>0.16</td>\n",
       "      <td>0.12</td>\n",
       "      <td>0.26</td>\n",
       "    </tr>\n",
       "  </tbody>\n",
       "</table>\n",
       "<p>5 rows × 29 columns</p>\n",
       "</div>"
      ],
      "text/plain": [
       "                  track_id              track_name               artist_id  \\\n",
       "44  3MYfcVRTLqo7t3ra4DqFRn               Ama Namin  3pTaNQJ7TAU4yL7KEZp5sF   \n",
       "0   2pAFgfaNVioQGhC0jhtcsG          Ipagpatawad Mo  3pTaNQJ7TAU4yL7KEZp5sF   \n",
       "55  1vjdKdp3P8QKfbrb0eUljJ        The One You Love  3pTaNQJ7TAU4yL7KEZp5sF   \n",
       "62  0PhKUUh0XzAHev6opemDtH        'Di Na Mapigilan  3pTaNQJ7TAU4yL7KEZp5sF   \n",
       "61  3RYkG7WmnRK6HSejhCo7jw  Ikaw Lang Para Sa Akin  3pTaNQJ7TAU4yL7KEZp5sF   \n",
       "\n",
       "     artist_name                album_id  duration release_date  popularity  \\\n",
       "44  Nyoy Volante  1maIgsJ7htTqCDrhe8aucE    113640   2008-08-09          10   \n",
       "0   Nyoy Volante  5jzfPxlD5UD4Aw3cEnelcC    239333   2012-01-01          29   \n",
       "55  Nyoy Volante  2A48roBpFpFjatWtksmsQE    276893   2008-05-06          29   \n",
       "62  Nyoy Volante  4EQ7a4ztLVN5OUgxJJVIxY    263186   2002-06-01           1   \n",
       "61  Nyoy Volante  4EQ7a4ztLVN5OUgxJJVIxY    259746   2002-06-01           8   \n",
       "\n",
       "    danceability  energy  ...             playlist_id           playlist_name  \\\n",
       "44         0.000   0.118  ...  3MYfcVRTLqo7t3ra4DqFRn  3MYfcVRTLqo7t3ra4DqFRn   \n",
       "0          0.622   0.522  ...  2pAFgfaNVioQGhC0jhtcsG  2pAFgfaNVioQGhC0jhtcsG   \n",
       "55         0.556   0.301  ...  1vjdKdp3P8QKfbrb0eUljJ  1vjdKdp3P8QKfbrb0eUljJ   \n",
       "62         0.567   0.520  ...  0PhKUUh0XzAHev6opemDtH  0PhKUUh0XzAHev6opemDtH   \n",
       "61         0.394   0.561  ...  3RYkG7WmnRK6HSejhCo7jw  3RYkG7WmnRK6HSejhCo7jw   \n",
       "\n",
       "    predicted_genre_id  predicted_genre  predicted_genre_prob  \\\n",
       "44                   0             folk                  0.72   \n",
       "0                    4             rock                  0.26   \n",
       "55                   4             rock                  0.26   \n",
       "62                   4             rock                  0.26   \n",
       "61                   4             rock                  0.26   \n",
       "\n",
       "    predicted_folk_prob  predicted_hiphop_prob  predicted_indie_prob  \\\n",
       "44                 0.72                   0.02                  0.24   \n",
       "0                  0.22                   0.24                  0.16   \n",
       "55                 0.22                   0.24                  0.16   \n",
       "62                 0.22                   0.24                  0.16   \n",
       "61                 0.22                   0.24                  0.16   \n",
       "\n",
       "    predicted_rnb_prob predicted_rock_prob  \n",
       "44                0.00                0.02  \n",
       "0                 0.12                0.26  \n",
       "55                0.12                0.26  \n",
       "62                0.12                0.26  \n",
       "61                0.12                0.26  \n",
       "\n",
       "[5 rows x 29 columns]"
      ]
     },
     "execution_count": 57,
     "metadata": {},
     "output_type": "execute_result"
    }
   ],
   "source": [
    "#explore genre probabilities into separate columns\n",
    "artist_predicted_genre_prob = pd.DataFrame(artist_tracks_df[\"all_genre_prob\"].to_list(),\n",
    "                                           columns=['predicted_'+g+'_prob' for g in genres])\n",
    "artist_predicted_genre_prob['track_id'] = artist_tracks_df['track_id']\n",
    "artist_tracks_df = pd.merge(artist_tracks_df,artist_predicted_genre_prob, how='left', on='track_id')\n",
    "artist_tracks_df = artist_tracks_df.drop(columns='all_genre_prob')\n",
    "artist_tracks_df = artist_tracks_df.sort_values('predicted_genre_prob', ascending=False)\n",
    "artist_tracks_df.head()"
   ]
  },
  {
   "cell_type": "markdown",
   "metadata": {},
   "source": [
    "Check out tracks with highest assigned probability"
   ]
  },
  {
   "cell_type": "code",
   "execution_count": 58,
   "metadata": {},
   "outputs": [
    {
     "data": {
      "text/html": [
       "<div>\n",
       "<style scoped>\n",
       "    .dataframe tbody tr th:only-of-type {\n",
       "        vertical-align: middle;\n",
       "    }\n",
       "\n",
       "    .dataframe tbody tr th {\n",
       "        vertical-align: top;\n",
       "    }\n",
       "\n",
       "    .dataframe thead th {\n",
       "        text-align: right;\n",
       "    }\n",
       "</style>\n",
       "<table border=\"1\" class=\"dataframe\">\n",
       "  <thead>\n",
       "    <tr style=\"text-align: right;\">\n",
       "      <th></th>\n",
       "      <th>artist_name</th>\n",
       "      <th>track_name</th>\n",
       "      <th>predicted_genre</th>\n",
       "      <th>predicted_genre_prob</th>\n",
       "    </tr>\n",
       "  </thead>\n",
       "  <tbody>\n",
       "    <tr>\n",
       "      <th>44</th>\n",
       "      <td>Nyoy Volante</td>\n",
       "      <td>Ama Namin</td>\n",
       "      <td>folk</td>\n",
       "      <td>0.72</td>\n",
       "    </tr>\n",
       "    <tr>\n",
       "      <th>0</th>\n",
       "      <td>Nyoy Volante</td>\n",
       "      <td>Ipagpatawad Mo</td>\n",
       "      <td>rock</td>\n",
       "      <td>0.26</td>\n",
       "    </tr>\n",
       "    <tr>\n",
       "      <th>55</th>\n",
       "      <td>Nyoy Volante</td>\n",
       "      <td>The One You Love</td>\n",
       "      <td>rock</td>\n",
       "      <td>0.26</td>\n",
       "    </tr>\n",
       "    <tr>\n",
       "      <th>62</th>\n",
       "      <td>Nyoy Volante</td>\n",
       "      <td>'Di Na Mapigilan</td>\n",
       "      <td>rock</td>\n",
       "      <td>0.26</td>\n",
       "    </tr>\n",
       "    <tr>\n",
       "      <th>61</th>\n",
       "      <td>Nyoy Volante</td>\n",
       "      <td>Ikaw Lang Para Sa Akin</td>\n",
       "      <td>rock</td>\n",
       "      <td>0.26</td>\n",
       "    </tr>\n",
       "    <tr>\n",
       "      <th>60</th>\n",
       "      <td>Nyoy Volante</td>\n",
       "      <td>Be My Lady</td>\n",
       "      <td>rock</td>\n",
       "      <td>0.26</td>\n",
       "    </tr>\n",
       "    <tr>\n",
       "      <th>56</th>\n",
       "      <td>Nyoy Volante</td>\n",
       "      <td>Dreaming of You</td>\n",
       "      <td>hiphop</td>\n",
       "      <td>0.26</td>\n",
       "    </tr>\n",
       "    <tr>\n",
       "      <th>52</th>\n",
       "      <td>Nyoy Volante</td>\n",
       "      <td>What's Forever For</td>\n",
       "      <td>hiphop</td>\n",
       "      <td>0.26</td>\n",
       "    </tr>\n",
       "    <tr>\n",
       "      <th>47</th>\n",
       "      <td>Nyoy Volante</td>\n",
       "      <td>You're Not Mine</td>\n",
       "      <td>hiphop</td>\n",
       "      <td>0.26</td>\n",
       "    </tr>\n",
       "    <tr>\n",
       "      <th>43</th>\n",
       "      <td>Nyoy Volante</td>\n",
       "      <td>Baby Stay</td>\n",
       "      <td>hiphop</td>\n",
       "      <td>0.26</td>\n",
       "    </tr>\n",
       "    <tr>\n",
       "      <th>41</th>\n",
       "      <td>Nyoy Volante</td>\n",
       "      <td>Maghihintay</td>\n",
       "      <td>hiphop</td>\n",
       "      <td>0.26</td>\n",
       "    </tr>\n",
       "    <tr>\n",
       "      <th>23</th>\n",
       "      <td>Nyoy Volante</td>\n",
       "      <td>Bukas Na Lang Kita Mamahalin - Instrumental</td>\n",
       "      <td>folk</td>\n",
       "      <td>0.26</td>\n",
       "    </tr>\n",
       "    <tr>\n",
       "      <th>99</th>\n",
       "      <td>Nyoy Volante</td>\n",
       "      <td>Be My Lady</td>\n",
       "      <td>folk</td>\n",
       "      <td>0.24</td>\n",
       "    </tr>\n",
       "  </tbody>\n",
       "</table>\n",
       "</div>"
      ],
      "text/plain": [
       "     artist_name                                   track_name predicted_genre  \\\n",
       "44  Nyoy Volante                                    Ama Namin            folk   \n",
       "0   Nyoy Volante                               Ipagpatawad Mo            rock   \n",
       "55  Nyoy Volante                             The One You Love            rock   \n",
       "62  Nyoy Volante                             'Di Na Mapigilan            rock   \n",
       "61  Nyoy Volante                       Ikaw Lang Para Sa Akin            rock   \n",
       "60  Nyoy Volante                                   Be My Lady            rock   \n",
       "56  Nyoy Volante                              Dreaming of You          hiphop   \n",
       "52  Nyoy Volante                           What's Forever For          hiphop   \n",
       "47  Nyoy Volante                              You're Not Mine          hiphop   \n",
       "43  Nyoy Volante                                    Baby Stay          hiphop   \n",
       "41  Nyoy Volante                                  Maghihintay          hiphop   \n",
       "23  Nyoy Volante  Bukas Na Lang Kita Mamahalin - Instrumental            folk   \n",
       "99  Nyoy Volante                                   Be My Lady            folk   \n",
       "\n",
       "    predicted_genre_prob  \n",
       "44                  0.72  \n",
       "0                   0.26  \n",
       "55                  0.26  \n",
       "62                  0.26  \n",
       "61                  0.26  \n",
       "60                  0.26  \n",
       "56                  0.26  \n",
       "52                  0.26  \n",
       "47                  0.26  \n",
       "43                  0.26  \n",
       "41                  0.26  \n",
       "23                  0.26  \n",
       "99                  0.24  "
      ]
     },
     "execution_count": 58,
     "metadata": {},
     "output_type": "execute_result"
    }
   ],
   "source": [
    "artist_tracks_df.groupby('predicted_genre_id').head()[['artist_name','track_name','predicted_genre','predicted_genre_prob']]"
   ]
  },
  {
   "cell_type": "code",
   "execution_count": 59,
   "metadata": {},
   "outputs": [
    {
     "data": {
      "text/plain": [
       "<AxesSubplot:>"
      ]
     },
     "execution_count": 59,
     "metadata": {},
     "output_type": "execute_result"
    },
    {
     "data": {
      "image/png": "[encoded data removed]",
      "text/plain": [
       "<Figure size 432x288 with 1 Axes>"
      ]
     },
     "metadata": {
      "needs_background": "light"
     },
     "output_type": "display_data"
    }
   ],
   "source": [
    "artist_tracks_df['predicted_genre_prob'].hist()"
   ]
  },
  {
   "cell_type": "code",
   "execution_count": 60,
   "metadata": {},
   "outputs": [
    {
     "data": {
      "text/plain": [
       "rock      64\n",
       "hiphop    34\n",
       "folk       3\n",
       "Name: predicted_genre, dtype: int64"
      ]
     },
     "execution_count": 60,
     "metadata": {},
     "output_type": "execute_result"
    }
   ],
   "source": [
    "artist_tracks_df['predicted_genre'].value_counts()"
   ]
  }
 ],
 "metadata": {
  "kernelspec": {
   "display_name": "Python 3",
   "language": "python",
   "name": "python3"
  },
  "language_info": {
   "codemirror_mode": {
    "name": "ipython",
    "version": 3
   },
   "file_extension": ".py",
   "mimetype": "text/x-python",
   "name": "python",
   "nbconvert_exporter": "python",
   "pygments_lexer": "ipython3",
   "version": "3.8.5"
  }
 },
 "nbformat": 4,
 "nbformat_minor": 2
}
