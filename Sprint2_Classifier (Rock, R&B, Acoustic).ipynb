{
 "cells": [
  {
   "cell_type": "code",
   "execution_count": 52,
   "metadata": {
    "ExecuteTime": {
     "end_time": "2021-01-21T15:12:52.278399Z",
     "start_time": "2021-01-21T15:12:46.980742Z"
    }
   },
   "outputs": [],
   "source": [
    "import pandas as pd\n",
    "import numpy as np\n",
    "\n",
    "import seaborn as sns\n",
    "import matplotlib.pyplot as plt\n",
    "\n",
    "\n",
    "from sklearn.model_selection import train_test_split, cross_val_score\n",
    "from sklearn.neighbors import KNeighborsClassifier \n",
    "from sklearn.metrics import accuracy_score,roc_curve, auc, confusion_matrix, classification_report\n",
    "from sklearn.metrics.pairwise import euclidean_distances, manhattan_distances, cosine_similarity\n",
    "\n",
    "from sklearn.preprocessing import MinMaxScaler\n",
    "scaler = MinMaxScaler()\n",
    "\n",
    "%matplotlib inline"
   ]
  },
  {
   "cell_type": "markdown",
   "metadata": {},
   "source": [
    "### 1. Read the training data"
   ]
  },
  {
   "cell_type": "code",
   "execution_count": 53,
   "metadata": {
    "ExecuteTime": {
     "end_time": "2021-01-21T15:12:52.636973Z",
     "start_time": "2021-01-21T15:12:52.282149Z"
    }
   },
   "outputs": [
    {
     "name": "stdout",
     "output_type": "stream",
     "text": [
      "Rock\n",
      "R&B\n",
      "Acoustic\n"
     ]
    }
   ],
   "source": [
    "#genre_names = [\"R&B\", \"Classical\", \"Country\", \"Electronic\", \"Hiphop\",\"Jazz\", \"Pop\", \"Rock\", \"Reggae\", \"Rap\"]\n",
    "genre_names = [\"Rock\", \"R&B\", \"Acoustic\"]\n",
    "\n",
    "playlist_df_list = []\n",
    "track_df_list = []\n",
    "for genre in genre_names:\n",
    "    # read and process the playlist data for keyword\n",
    "    print(genre)\n",
    "    pdf = pd.read_csv('data/'+genre.lower()+'_playlist_data.csv')\n",
    "    pdf['genre'] = genre.lower().replace('&','n')\n",
    "    playlist_df_list.append(pdf)\n",
    "\n",
    "    tdf = pd.read_csv('data/'+genre.lower()+'_playlist_tracks_data.csv')\n",
    "    tdf['genre'] = genre.lower().replace('&','n')\n",
    "    tdf = tdf.drop(columns=['playlist_name'])\n",
    "    tdf = tdf.merge(pdf[['playlist_id','playlist_name']], on=['playlist_id'], how='left')\n",
    "    \n",
    "    track_df_list.append(tdf)\n",
    "    \n",
    "    \n",
    "        \n",
    "playlist_df = pd.concat(playlist_df_list)\n",
    "tracks_df = pd.concat(track_df_list)\n"
   ]
  },
  {
   "cell_type": "code",
   "execution_count": 54,
   "metadata": {
    "ExecuteTime": {
     "end_time": "2021-01-21T15:12:52.656009Z",
     "start_time": "2021-01-21T15:12:52.643350Z"
    }
   },
   "outputs": [
    {
     "data": {
      "text/plain": [
       "rock        2134\n",
       "acoustic    1816\n",
       "rnb         1508\n",
       "Name: genre, dtype: int64"
      ]
     },
     "execution_count": 54,
     "metadata": {},
     "output_type": "execute_result"
    }
   ],
   "source": [
    "tracks_df['genre'].value_counts()"
   ]
  },
  {
   "cell_type": "code",
   "execution_count": 55,
   "metadata": {
    "ExecuteTime": {
     "end_time": "2021-01-21T15:12:52.663866Z",
     "start_time": "2021-01-21T15:12:52.658654Z"
    }
   },
   "outputs": [
    {
     "data": {
      "text/plain": [
       "((234, 7), (5458, 22))"
      ]
     },
     "execution_count": 55,
     "metadata": {},
     "output_type": "execute_result"
    }
   ],
   "source": [
    "#check shape\n",
    "playlist_df.shape, tracks_df.shape"
   ]
  },
  {
   "cell_type": "code",
   "execution_count": 56,
   "metadata": {
    "ExecuteTime": {
     "end_time": "2021-01-21T15:12:52.673219Z",
     "start_time": "2021-01-21T15:12:52.666973Z"
    }
   },
   "outputs": [
    {
     "name": "stdout",
     "output_type": "stream",
     "text": [
      "Playlist dataset columns: ['playlist_id' 'playlist_name' 'playlist_total_tracks' 'owner_id'\n",
      " 'owner_name' 'total_followers' 'genre'] \n",
      "\n",
      "Tracks dataset columns: ['track_id' 'track_name' 'artist_id' 'artist_name' 'album_id' 'duration'\n",
      " 'release_date' 'popularity' 'danceability' 'energy' 'key' 'loudness'\n",
      " 'mode' 'speechiness' 'acousticness' 'instrumentalness' 'liveness'\n",
      " 'valence' 'tempo' 'playlist_id' 'genre' 'playlist_name']\n"
     ]
    }
   ],
   "source": [
    "#check columns\n",
    "print(\"Playlist dataset columns: %s \\n\" % playlist_df.columns.values)\n",
    "print(\"Tracks dataset columns: %s\" % tracks_df.columns.values)"
   ]
  },
  {
   "cell_type": "code",
   "execution_count": 57,
   "metadata": {
    "ExecuteTime": {
     "end_time": "2021-01-21T15:12:52.715839Z",
     "start_time": "2021-01-21T15:12:52.676094Z"
    }
   },
   "outputs": [
    {
     "data": {
      "text/html": [
       "<div>\n",
       "<style scoped>\n",
       "    .dataframe tbody tr th:only-of-type {\n",
       "        vertical-align: middle;\n",
       "    }\n",
       "\n",
       "    .dataframe tbody tr th {\n",
       "        vertical-align: top;\n",
       "    }\n",
       "\n",
       "    .dataframe thead th {\n",
       "        text-align: right;\n",
       "    }\n",
       "</style>\n",
       "<table border=\"1\" class=\"dataframe\">\n",
       "  <thead>\n",
       "    <tr style=\"text-align: right;\">\n",
       "      <th></th>\n",
       "      <th>track_id</th>\n",
       "      <th>track_name</th>\n",
       "      <th>artist_id</th>\n",
       "      <th>artist_name</th>\n",
       "      <th>album_id</th>\n",
       "      <th>duration</th>\n",
       "      <th>release_date</th>\n",
       "      <th>popularity</th>\n",
       "      <th>danceability</th>\n",
       "      <th>energy</th>\n",
       "      <th>...</th>\n",
       "      <th>mode</th>\n",
       "      <th>speechiness</th>\n",
       "      <th>acousticness</th>\n",
       "      <th>instrumentalness</th>\n",
       "      <th>liveness</th>\n",
       "      <th>valence</th>\n",
       "      <th>tempo</th>\n",
       "      <th>playlist_id</th>\n",
       "      <th>genre</th>\n",
       "      <th>playlist_name</th>\n",
       "    </tr>\n",
       "  </thead>\n",
       "  <tbody>\n",
       "  </tbody>\n",
       "</table>\n",
       "<p>0 rows × 22 columns</p>\n",
       "</div>"
      ],
      "text/plain": [
       "Empty DataFrame\n",
       "Columns: [track_id, track_name, artist_id, artist_name, album_id, duration, release_date, popularity, danceability, energy, key, loudness, mode, speechiness, acousticness, instrumentalness, liveness, valence, tempo, playlist_id, genre, playlist_name]\n",
       "Index: []\n",
       "\n",
       "[0 rows x 22 columns]"
      ]
     },
     "execution_count": 57,
     "metadata": {},
     "output_type": "execute_result"
    }
   ],
   "source": [
    "#check null rows\n",
    "# playlist_df[playlist_df.isnull().any(1)]\n",
    "tracks_df[tracks_df.isnull().any(1)]\n"
   ]
  },
  {
   "cell_type": "code",
   "execution_count": 58,
   "metadata": {
    "ExecuteTime": {
     "end_time": "2021-01-21T15:12:52.754172Z",
     "start_time": "2021-01-21T15:12:52.721035Z"
    }
   },
   "outputs": [
    {
     "data": {
      "text/plain": [
       "(5458, 22)"
      ]
     },
     "execution_count": 58,
     "metadata": {},
     "output_type": "execute_result"
    }
   ],
   "source": [
    "#remove null rows\n",
    "tracks_df = tracks_df[~tracks_df.isnull().any(1)]\n",
    "tracks_df.shape"
   ]
  },
  {
   "cell_type": "code",
   "execution_count": 59,
   "metadata": {
    "ExecuteTime": {
     "end_time": "2021-01-21T15:12:52.769684Z",
     "start_time": "2021-01-21T15:12:52.758544Z"
    }
   },
   "outputs": [
    {
     "data": {
      "text/plain": [
       "5417"
      ]
     },
     "execution_count": 59,
     "metadata": {},
     "output_type": "execute_result"
    }
   ],
   "source": [
    "# How many unique tracks are in the combined dataset?\n",
    "len(tracks_df['track_id'].unique())"
   ]
  },
  {
   "cell_type": "code",
   "execution_count": 60,
   "metadata": {
    "ExecuteTime": {
     "end_time": "2021-01-21T15:12:52.791899Z",
     "start_time": "2021-01-21T15:12:52.773111Z"
    }
   },
   "outputs": [
    {
     "data": {
      "text/plain": [
       "(5417, 22)"
      ]
     },
     "execution_count": 60,
     "metadata": {},
     "output_type": "execute_result"
    }
   ],
   "source": [
    "#retain only distinct tracks per keyword\n",
    "tracks_df =tracks_df.drop_duplicates(subset='track_id')\n",
    "tracks_df.shape"
   ]
  },
  {
   "cell_type": "code",
   "execution_count": 61,
   "metadata": {
    "ExecuteTime": {
     "end_time": "2021-01-21T15:12:53.100130Z",
     "start_time": "2021-01-21T15:12:52.794480Z"
    }
   },
   "outputs": [
    {
     "data": {
      "text/plain": [
       "<matplotlib.axes._subplots.AxesSubplot at 0x212495273d0>"
      ]
     },
     "execution_count": 61,
     "metadata": {},
     "output_type": "execute_result"
    },
    {
     "data": {
      "image/png": "[encoded data removed]",
      "text/plain": [
       "<Figure size 432x288 with 1 Axes>"
      ]
     },
     "metadata": {
      "needs_background": "light"
     },
     "output_type": "display_data"
    }
   ],
   "source": [
    "# What is the distribution of playlist's total tracks?\n",
    "playlist_df['playlist_total_tracks'].hist()"
   ]
  },
  {
   "cell_type": "code",
   "execution_count": 62,
   "metadata": {
    "ExecuteTime": {
     "end_time": "2021-01-21T15:12:53.321673Z",
     "start_time": "2021-01-21T15:12:53.102990Z"
    }
   },
   "outputs": [
    {
     "data": {
      "text/plain": [
       "<matplotlib.axes._subplots.AxesSubplot at 0x21248fbc760>"
      ]
     },
     "execution_count": 62,
     "metadata": {},
     "output_type": "execute_result"
    },
    {
     "data": {
      "image/png": "[encoded data removed]",
      "text/plain": [
       "<Figure size 432x288 with 1 Axes>"
      ]
     },
     "metadata": {
      "needs_background": "light"
     },
     "output_type": "display_data"
    }
   ],
   "source": [
    "# What is the distribution of playlist's total tracks?\n",
    "playlist_df['total_followers'].hist()"
   ]
  },
  {
   "cell_type": "code",
   "execution_count": 63,
   "metadata": {
    "ExecuteTime": {
     "end_time": "2021-01-21T15:12:53.671378Z",
     "start_time": "2021-01-21T15:12:53.327018Z"
    }
   },
   "outputs": [
    {
     "data": {
      "text/plain": [
       "rock        0.393945\n",
       "acoustic    0.327672\n",
       "rnb         0.278383\n",
       "Name: genre, dtype: float64"
      ]
     },
     "execution_count": 63,
     "metadata": {},
     "output_type": "execute_result"
    }
   ],
   "source": [
    "#tally of tracks\n",
    "#tracks_df['genre'].value_counts()\n",
    "tracks_df['genre'].value_counts(normalize=True)"
   ]
  },
  {
   "cell_type": "markdown",
   "metadata": {},
   "source": [
    "### 2. Refine the training data"
   ]
  },
  {
   "cell_type": "code",
   "execution_count": 64,
   "metadata": {
    "ExecuteTime": {
     "end_time": "2021-01-21T15:12:53.688262Z",
     "start_time": "2021-01-21T15:12:53.673620Z"
    }
   },
   "outputs": [
    {
     "data": {
      "text/html": [
       "<div>\n",
       "<style scoped>\n",
       "    .dataframe tbody tr th:only-of-type {\n",
       "        vertical-align: middle;\n",
       "    }\n",
       "\n",
       "    .dataframe tbody tr th {\n",
       "        vertical-align: top;\n",
       "    }\n",
       "\n",
       "    .dataframe thead th {\n",
       "        text-align: right;\n",
       "    }\n",
       "</style>\n",
       "<table border=\"1\" class=\"dataframe\">\n",
       "  <thead>\n",
       "    <tr style=\"text-align: right;\">\n",
       "      <th></th>\n",
       "      <th>playlist_id</th>\n",
       "      <th>playlist_name</th>\n",
       "      <th>playlist_total_tracks</th>\n",
       "      <th>owner_id</th>\n",
       "      <th>owner_name</th>\n",
       "      <th>total_followers</th>\n",
       "      <th>genre</th>\n",
       "    </tr>\n",
       "  </thead>\n",
       "  <tbody>\n",
       "    <tr>\n",
       "      <th>0</th>\n",
       "      <td>37i9dQZF1DWXRqgorJj26U</td>\n",
       "      <td>Rock Classics</td>\n",
       "      <td>145</td>\n",
       "      <td>spotify</td>\n",
       "      <td>Spotify</td>\n",
       "      <td>8743130</td>\n",
       "      <td>rock</td>\n",
       "    </tr>\n",
       "    <tr>\n",
       "      <th>1</th>\n",
       "      <td>37i9dQZF1DXcF6B6QPhFDv</td>\n",
       "      <td>Rock This</td>\n",
       "      <td>50</td>\n",
       "      <td>spotify</td>\n",
       "      <td>Spotify</td>\n",
       "      <td>4490659</td>\n",
       "      <td>rock</td>\n",
       "    </tr>\n",
       "    <tr>\n",
       "      <th>2</th>\n",
       "      <td>37i9dQZF1DX1rVvRgjX59F</td>\n",
       "      <td>90s Rock Anthems</td>\n",
       "      <td>150</td>\n",
       "      <td>spotify</td>\n",
       "      <td>Spotify</td>\n",
       "      <td>4111532</td>\n",
       "      <td>rock</td>\n",
       "    </tr>\n",
       "    <tr>\n",
       "      <th>3</th>\n",
       "      <td>37i9dQZF1DWYN0zdqzbEwl</td>\n",
       "      <td>Rock en Español</td>\n",
       "      <td>60</td>\n",
       "      <td>spotify</td>\n",
       "      <td>Spotify</td>\n",
       "      <td>3829864</td>\n",
       "      <td>rock</td>\n",
       "    </tr>\n",
       "    <tr>\n",
       "      <th>4</th>\n",
       "      <td>37i9dQZF1DX3oM43CtKnRV</td>\n",
       "      <td>00s Rock Anthems</td>\n",
       "      <td>50</td>\n",
       "      <td>spotify</td>\n",
       "      <td>Spotify</td>\n",
       "      <td>3474724</td>\n",
       "      <td>rock</td>\n",
       "    </tr>\n",
       "  </tbody>\n",
       "</table>\n",
       "</div>"
      ],
      "text/plain": [
       "              playlist_id     playlist_name  playlist_total_tracks owner_id  \\\n",
       "0  37i9dQZF1DWXRqgorJj26U     Rock Classics                    145  spotify   \n",
       "1  37i9dQZF1DXcF6B6QPhFDv         Rock This                     50  spotify   \n",
       "2  37i9dQZF1DX1rVvRgjX59F  90s Rock Anthems                    150  spotify   \n",
       "3  37i9dQZF1DWYN0zdqzbEwl   Rock en Español                     60  spotify   \n",
       "4  37i9dQZF1DX3oM43CtKnRV  00s Rock Anthems                     50  spotify   \n",
       "\n",
       "  owner_name  total_followers genre  \n",
       "0    Spotify          8743130  rock  \n",
       "1    Spotify          4490659  rock  \n",
       "2    Spotify          4111532  rock  \n",
       "3    Spotify          3829864  rock  \n",
       "4    Spotify          3474724  rock  "
      ]
     },
     "execution_count": 64,
     "metadata": {},
     "output_type": "execute_result"
    }
   ],
   "source": [
    "#get top 5 playlists per genre\n",
    "top_playlists_df = playlist_df.groupby('genre').head(5)\n",
    "top_playlists_df.head()"
   ]
  },
  {
   "cell_type": "code",
   "execution_count": 65,
   "metadata": {
    "ExecuteTime": {
     "end_time": "2021-01-21T15:12:53.706525Z",
     "start_time": "2021-01-21T15:12:53.691178Z"
    }
   },
   "outputs": [
    {
     "data": {
      "text/plain": [
       "acoustic    569\n",
       "rock        452\n",
       "rnb         300\n",
       "Name: genre, dtype: int64"
      ]
     },
     "execution_count": 65,
     "metadata": {},
     "output_type": "execute_result"
    }
   ],
   "source": [
    "tracks_df = tracks_df[tracks_df['playlist_id'].isin(top_playlists_df['playlist_id'].values)]\n",
    "tracks_df['genre'].value_counts()"
   ]
  },
  {
   "cell_type": "markdown",
   "metadata": {},
   "source": [
    "### 3. Feature Engineering"
   ]
  },
  {
   "cell_type": "markdown",
   "metadata": {},
   "source": [
    "##### Conversions/Normalizations"
   ]
  },
  {
   "cell_type": "code",
   "execution_count": 66,
   "metadata": {
    "ExecuteTime": {
     "end_time": "2021-01-21T15:12:53.713900Z",
     "start_time": "2021-01-21T15:12:53.709413Z"
    }
   },
   "outputs": [],
   "source": [
    "#convert duration from ms to mins\n",
    "tracks_df['duration_mins']=tracks_df['duration']/60000"
   ]
  },
  {
   "cell_type": "code",
   "execution_count": 67,
   "metadata": {
    "ExecuteTime": {
     "end_time": "2021-01-21T15:12:55.732448Z",
     "start_time": "2021-01-21T15:12:53.717230Z"
    }
   },
   "outputs": [
    {
     "data": {
      "text/plain": [
       "count    1321.000000\n",
       "mean        0.669970\n",
       "std         0.167473\n",
       "min         0.000000\n",
       "25%         0.558635\n",
       "50%         0.687651\n",
       "75%         0.797122\n",
       "max         1.000000\n",
       "Name: loudness, dtype: float64"
      ]
     },
     "execution_count": 67,
     "metadata": {},
     "output_type": "execute_result"
    }
   ],
   "source": [
    "\n",
    "\n",
    "tracks_df['loudness'] = scaler.fit_transform(tracks_df[['loudness']])\n",
    "tracks_df['loudness'].describe()\n"
   ]
  },
  {
   "cell_type": "code",
   "execution_count": 68,
   "metadata": {
    "ExecuteTime": {
     "end_time": "2021-01-21T15:12:55.756376Z",
     "start_time": "2021-01-21T15:12:55.734859Z"
    }
   },
   "outputs": [
    {
     "data": {
      "text/plain": [
       "count    1321.000000\n",
       "mean        0.386345\n",
       "std         0.193951\n",
       "min         0.000000\n",
       "25%         0.226175\n",
       "50%         0.368054\n",
       "75%         0.520612\n",
       "max         1.000000\n",
       "Name: tempo, dtype: float64"
      ]
     },
     "execution_count": 68,
     "metadata": {},
     "output_type": "execute_result"
    }
   ],
   "source": [
    "#Normalize tempo\n",
    "tracks_df['tempo'] =  scaler.fit_transform(tracks_df[['tempo']])\n",
    "#check\n",
    "tracks_df['tempo'].describe()\n"
   ]
  },
  {
   "cell_type": "markdown",
   "metadata": {},
   "source": [
    "###### Categorical Encoding"
   ]
  },
  {
   "cell_type": "code",
   "execution_count": 69,
   "metadata": {
    "ExecuteTime": {
     "end_time": "2021-01-21T15:12:55.771503Z",
     "start_time": "2021-01-21T15:12:55.759010Z"
    }
   },
   "outputs": [
    {
     "data": {
      "text/plain": [
       "track_id              object\n",
       "track_name            object\n",
       "artist_id             object\n",
       "artist_name           object\n",
       "album_id              object\n",
       "duration               int64\n",
       "release_date          object\n",
       "popularity             int64\n",
       "danceability         float64\n",
       "energy               float64\n",
       "key                    int64\n",
       "loudness             float64\n",
       "mode                   int64\n",
       "speechiness          float64\n",
       "acousticness         float64\n",
       "instrumentalness     float64\n",
       "liveness             float64\n",
       "valence              float64\n",
       "tempo                float64\n",
       "playlist_id           object\n",
       "genre               category\n",
       "playlist_name         object\n",
       "duration_mins        float64\n",
       "dtype: object"
      ]
     },
     "execution_count": 69,
     "metadata": {},
     "output_type": "execute_result"
    }
   ],
   "source": [
    "tracks_df[\"genre\"] = tracks_df[\"genre\"].astype('category')\n",
    "tracks_df.dtypes"
   ]
  },
  {
   "cell_type": "code",
   "execution_count": 70,
   "metadata": {
    "ExecuteTime": {
     "end_time": "2021-01-21T15:12:55.784436Z",
     "start_time": "2021-01-21T15:12:55.774867Z"
    }
   },
   "outputs": [
    {
     "data": {
      "text/plain": [
       "acoustic    569\n",
       "rock        452\n",
       "rnb         300\n",
       "Name: genre, dtype: int64"
      ]
     },
     "execution_count": 70,
     "metadata": {},
     "output_type": "execute_result"
    }
   ],
   "source": [
    "tracks_df['genre'].value_counts()"
   ]
  },
  {
   "cell_type": "code",
   "execution_count": 71,
   "metadata": {
    "ExecuteTime": {
     "end_time": "2021-01-21T15:12:55.822459Z",
     "start_time": "2021-01-21T15:12:55.786994Z"
    }
   },
   "outputs": [
    {
     "data": {
      "text/html": [
       "<div>\n",
       "<style scoped>\n",
       "    .dataframe tbody tr th:only-of-type {\n",
       "        vertical-align: middle;\n",
       "    }\n",
       "\n",
       "    .dataframe tbody tr th {\n",
       "        vertical-align: top;\n",
       "    }\n",
       "\n",
       "    .dataframe thead th {\n",
       "        text-align: right;\n",
       "    }\n",
       "</style>\n",
       "<table border=\"1\" class=\"dataframe\">\n",
       "  <thead>\n",
       "    <tr style=\"text-align: right;\">\n",
       "      <th></th>\n",
       "      <th>track_id</th>\n",
       "      <th>track_name</th>\n",
       "      <th>artist_id</th>\n",
       "      <th>artist_name</th>\n",
       "      <th>album_id</th>\n",
       "      <th>duration</th>\n",
       "      <th>release_date</th>\n",
       "      <th>popularity</th>\n",
       "      <th>danceability</th>\n",
       "      <th>energy</th>\n",
       "      <th>...</th>\n",
       "      <th>acousticness</th>\n",
       "      <th>instrumentalness</th>\n",
       "      <th>liveness</th>\n",
       "      <th>valence</th>\n",
       "      <th>tempo</th>\n",
       "      <th>playlist_id</th>\n",
       "      <th>genre</th>\n",
       "      <th>playlist_name</th>\n",
       "      <th>duration_mins</th>\n",
       "      <th>genre_id</th>\n",
       "    </tr>\n",
       "  </thead>\n",
       "  <tbody>\n",
       "    <tr>\n",
       "      <th>0</th>\n",
       "      <td>0hCB0YR03f6AmQaHbwWDe8</td>\n",
       "      <td>Whole Lotta Love - 1990 Remaster</td>\n",
       "      <td>36QJpDe2go2KgaRleHCDTp</td>\n",
       "      <td>Led Zeppelin</td>\n",
       "      <td>70lQYZtypdCALtFVlQAcvx</td>\n",
       "      <td>333893</td>\n",
       "      <td>1969-10-22</td>\n",
       "      <td>75</td>\n",
       "      <td>0.412</td>\n",
       "      <td>0.902</td>\n",
       "      <td>...</td>\n",
       "      <td>0.04840</td>\n",
       "      <td>0.131000</td>\n",
       "      <td>0.4050</td>\n",
       "      <td>0.422</td>\n",
       "      <td>0.198738</td>\n",
       "      <td>37i9dQZF1DWXRqgorJj26U</td>\n",
       "      <td>rock</td>\n",
       "      <td>Rock Classics</td>\n",
       "      <td>5.564883</td>\n",
       "      <td>2</td>\n",
       "    </tr>\n",
       "    <tr>\n",
       "      <th>1</th>\n",
       "      <td>2aoo2jlRnM3A0NyLQqMN2f</td>\n",
       "      <td>All Along the Watchtower</td>\n",
       "      <td>776Uo845nYHJpNaStv1Ds4</td>\n",
       "      <td>Jimi Hendrix</td>\n",
       "      <td>5z090LQztiqh13wYspQvKQ</td>\n",
       "      <td>240800</td>\n",
       "      <td>1968-10-25</td>\n",
       "      <td>76</td>\n",
       "      <td>0.438</td>\n",
       "      <td>0.805</td>\n",
       "      <td>...</td>\n",
       "      <td>0.00255</td>\n",
       "      <td>0.000057</td>\n",
       "      <td>0.0842</td>\n",
       "      <td>0.564</td>\n",
       "      <td>0.349716</td>\n",
       "      <td>37i9dQZF1DWXRqgorJj26U</td>\n",
       "      <td>rock</td>\n",
       "      <td>Rock Classics</td>\n",
       "      <td>4.013333</td>\n",
       "      <td>2</td>\n",
       "    </tr>\n",
       "    <tr>\n",
       "      <th>2</th>\n",
       "      <td>08mG3Y1vljYA6bvDt4Wqkj</td>\n",
       "      <td>Back In Black</td>\n",
       "      <td>711MCceyCBcFnzjGY4Q7Un</td>\n",
       "      <td>AC/DC</td>\n",
       "      <td>6mUdeDZCsExyJLMdAfDuwh</td>\n",
       "      <td>255493</td>\n",
       "      <td>1980-07-25</td>\n",
       "      <td>82</td>\n",
       "      <td>0.310</td>\n",
       "      <td>0.700</td>\n",
       "      <td>...</td>\n",
       "      <td>0.01100</td>\n",
       "      <td>0.009650</td>\n",
       "      <td>0.0828</td>\n",
       "      <td>0.763</td>\n",
       "      <td>0.832148</td>\n",
       "      <td>37i9dQZF1DWXRqgorJj26U</td>\n",
       "      <td>rock</td>\n",
       "      <td>Rock Classics</td>\n",
       "      <td>4.258217</td>\n",
       "      <td>2</td>\n",
       "    </tr>\n",
       "    <tr>\n",
       "      <th>3</th>\n",
       "      <td>1RJeiAIwR9pZBgJA8ndZLL</td>\n",
       "      <td>Paint It, Black - Mono</td>\n",
       "      <td>22bE4uQ6baNwSHPVcDxLCe</td>\n",
       "      <td>The Rolling Stones</td>\n",
       "      <td>5nKpMsduwp5xqCKq2IbSKv</td>\n",
       "      <td>204480</td>\n",
       "      <td>1966-01-01</td>\n",
       "      <td>68</td>\n",
       "      <td>0.505</td>\n",
       "      <td>0.836</td>\n",
       "      <td>...</td>\n",
       "      <td>0.01030</td>\n",
       "      <td>0.077100</td>\n",
       "      <td>0.2950</td>\n",
       "      <td>0.764</td>\n",
       "      <td>0.647755</td>\n",
       "      <td>37i9dQZF1DWXRqgorJj26U</td>\n",
       "      <td>rock</td>\n",
       "      <td>Rock Classics</td>\n",
       "      <td>3.408000</td>\n",
       "      <td>2</td>\n",
       "    </tr>\n",
       "    <tr>\n",
       "      <th>4</th>\n",
       "      <td>66lOpKgTyFjOrac4S1s94g</td>\n",
       "      <td>Rebel Rebel - 1999 Remaster</td>\n",
       "      <td>0oSGxfWSnnOXhD2fKuz2Gy</td>\n",
       "      <td>David Bowie</td>\n",
       "      <td>6JxxRxzjsOTtKVie29FTt2</td>\n",
       "      <td>269360</td>\n",
       "      <td>1974-04-24</td>\n",
       "      <td>0</td>\n",
       "      <td>0.676</td>\n",
       "      <td>0.920</td>\n",
       "      <td>...</td>\n",
       "      <td>0.00101</td>\n",
       "      <td>0.000009</td>\n",
       "      <td>0.2480</td>\n",
       "      <td>0.624</td>\n",
       "      <td>0.433754</td>\n",
       "      <td>37i9dQZF1DWXRqgorJj26U</td>\n",
       "      <td>rock</td>\n",
       "      <td>Rock Classics</td>\n",
       "      <td>4.489333</td>\n",
       "      <td>2</td>\n",
       "    </tr>\n",
       "  </tbody>\n",
       "</table>\n",
       "<p>5 rows × 24 columns</p>\n",
       "</div>"
      ],
      "text/plain": [
       "                 track_id                        track_name  \\\n",
       "0  0hCB0YR03f6AmQaHbwWDe8  Whole Lotta Love - 1990 Remaster   \n",
       "1  2aoo2jlRnM3A0NyLQqMN2f          All Along the Watchtower   \n",
       "2  08mG3Y1vljYA6bvDt4Wqkj                     Back In Black   \n",
       "3  1RJeiAIwR9pZBgJA8ndZLL            Paint It, Black - Mono   \n",
       "4  66lOpKgTyFjOrac4S1s94g       Rebel Rebel - 1999 Remaster   \n",
       "\n",
       "                artist_id         artist_name                album_id  \\\n",
       "0  36QJpDe2go2KgaRleHCDTp        Led Zeppelin  70lQYZtypdCALtFVlQAcvx   \n",
       "1  776Uo845nYHJpNaStv1Ds4        Jimi Hendrix  5z090LQztiqh13wYspQvKQ   \n",
       "2  711MCceyCBcFnzjGY4Q7Un               AC/DC  6mUdeDZCsExyJLMdAfDuwh   \n",
       "3  22bE4uQ6baNwSHPVcDxLCe  The Rolling Stones  5nKpMsduwp5xqCKq2IbSKv   \n",
       "4  0oSGxfWSnnOXhD2fKuz2Gy         David Bowie  6JxxRxzjsOTtKVie29FTt2   \n",
       "\n",
       "   duration release_date  popularity  danceability  energy  ...  acousticness  \\\n",
       "0    333893   1969-10-22          75         0.412   0.902  ...       0.04840   \n",
       "1    240800   1968-10-25          76         0.438   0.805  ...       0.00255   \n",
       "2    255493   1980-07-25          82         0.310   0.700  ...       0.01100   \n",
       "3    204480   1966-01-01          68         0.505   0.836  ...       0.01030   \n",
       "4    269360   1974-04-24           0         0.676   0.920  ...       0.00101   \n",
       "\n",
       "   instrumentalness  liveness  valence     tempo             playlist_id  \\\n",
       "0          0.131000    0.4050    0.422  0.198738  37i9dQZF1DWXRqgorJj26U   \n",
       "1          0.000057    0.0842    0.564  0.349716  37i9dQZF1DWXRqgorJj26U   \n",
       "2          0.009650    0.0828    0.763  0.832148  37i9dQZF1DWXRqgorJj26U   \n",
       "3          0.077100    0.2950    0.764  0.647755  37i9dQZF1DWXRqgorJj26U   \n",
       "4          0.000009    0.2480    0.624  0.433754  37i9dQZF1DWXRqgorJj26U   \n",
       "\n",
       "   genre  playlist_name  duration_mins genre_id  \n",
       "0   rock  Rock Classics       5.564883        2  \n",
       "1   rock  Rock Classics       4.013333        2  \n",
       "2   rock  Rock Classics       4.258217        2  \n",
       "3   rock  Rock Classics       3.408000        2  \n",
       "4   rock  Rock Classics       4.489333        2  \n",
       "\n",
       "[5 rows x 24 columns]"
      ]
     },
     "execution_count": 71,
     "metadata": {},
     "output_type": "execute_result"
    }
   ],
   "source": [
    "tracks_df['genre_id'] = tracks_df[\"genre\"].cat.codes\n",
    "tracks_df.head()"
   ]
  },
  {
   "cell_type": "code",
   "execution_count": 72,
   "metadata": {
    "ExecuteTime": {
     "end_time": "2021-01-21T15:12:55.838100Z",
     "start_time": "2021-01-21T15:12:55.825564Z"
    }
   },
   "outputs": [
    {
     "data": {
      "text/plain": [
       "{2: 'rock', 1: 'rnb', 0: 'acoustic'}"
      ]
     },
     "execution_count": 72,
     "metadata": {},
     "output_type": "execute_result"
    }
   ],
   "source": [
    "genre_lookup = dict(tracks_df.groupby('genre_id').head(1)[['genre_id','genre']].values)\n",
    "genre_lookup"
   ]
  },
  {
   "cell_type": "markdown",
   "metadata": {},
   "source": [
    "## 4. Train a KNN model"
   ]
  },
  {
   "cell_type": "code",
   "execution_count": 73,
   "metadata": {
    "ExecuteTime": {
     "end_time": "2021-01-21T15:12:56.763506Z",
     "start_time": "2021-01-21T15:12:56.759866Z"
    }
   },
   "outputs": [],
   "source": [
    "#test plot for a genre and 2 predictors\n",
    "\n",
    "#fig = plt.figure()\n",
    "#ax= fig.add_subplot(111)\n",
    "\n",
    "#colormaps = ['Reds','Blues']\n",
    "#genre = 'pop'\n",
    "#label = [\"not \"+genre,genre]\n",
    "#for n,genre_bool in enumerate([0,1]):\n",
    "#    df=tracks_df[tracks_df['genre_'+genre]==genre_bool]\n",
    "#    sns.kdeplot(df['energy'],df['tempo'], ax=ax,\\\n",
    "#                shade=True, shade_lowest=False, alpha=0.5, cmap=colormaps[n],\\\n",
    "#                label=label[n])\n",
    "    \n",
    "#plt.legend(frameon=False)\n"
   ]
  },
  {
   "cell_type": "markdown",
   "metadata": {},
   "source": [
    "Tuning the model"
   ]
  },
  {
   "cell_type": "code",
   "execution_count": null,
   "metadata": {},
   "outputs": [
    {
     "name": "stdout",
     "output_type": "stream",
     "text": [
      "\n",
      "Tuning kNN classification model with K-Fold=4...\n",
      "energy and danceability feature the optimal number of neighbors is 23 with score 75%\n",
      "\n",
      "Tuning kNN classification model with K-Fold=5...\n",
      "energy and danceability feature the optimal number of neighbors is 26 with score 76%\n",
      "\n",
      "Tuning kNN classification model with K-Fold=8...\n",
      "energy and danceability feature the optimal number of neighbors is 11 with score 74%\n",
      "\n",
      "Tuning kNN classification model with K-Fold=10...\n",
      "energy and danceability feature the optimal number of neighbors is 15 with score 75%\n",
      "\n",
      "Tuning kNN classification model with K-Fold=4...\n",
      "loudness and danceability feature the optimal number of neighbors is 39 with score 65%\n",
      "\n",
      "Tuning kNN classification model with K-Fold=5...\n",
      "loudness and danceability feature the optimal number of neighbors is 47 with score 66%\n",
      "\n",
      "Tuning kNN classification model with K-Fold=8...\n",
      "loudness and danceability feature the optimal number of neighbors is 42 with score 65%\n",
      "\n",
      "Tuning kNN classification model with K-Fold=10...\n"
     ]
    }
   ],
   "source": [
    "#Select audio features to use for the model\n",
    "feature_cols =  ['danceability',\\\n",
    "                'energy',\\\n",
    "                'loudness',\\\n",
    "                'speechiness',\\\n",
    "                'acousticness',\\\n",
    "                'instrumentalness',\\\n",
    "                'liveness',\\\n",
    "                'valence',\\\n",
    "                'tempo'\\\n",
    "                ]\n",
    "results_optimal_k = []\n",
    "\n",
    "kfolds= [4,5,8,10]\n",
    "for col in feature_cols:\n",
    "    if col != 'danceability':\n",
    "        for d in kfolds:\n",
    "            print('\\nTuning kNN classification model with K-Fold=%d...' % d)\n",
    "            # create feature matrix (X)\n",
    "            duo = []\n",
    "            duo.append(col)\n",
    "            duo.append('danceability')\n",
    "            X = tracks_df[duo]\n",
    "            y = tracks_df['genre_id']\n",
    "    \n",
    "            # creating training set, test set and checking shapes \n",
    "            X_train,X_test,Y_train,Y_test = train_test_split(X,y, test_size=0.2)\n",
    "            #print(\"Shape of X_Train:\"+str(X_train.shape))\n",
    "            #print(\"Shape of y_Train:\"+str(Y_train.shape))\n",
    "            #print(\"Shape of X_Test:\"+str(X_test.shape))\n",
    "            #print(\"Shape of y_Test:\"+str(Y_test.shape))\n",
    "            \n",
    "            #train model\n",
    "            cv_scores = []\n",
    "            neighbors=np.arange(2,51)\n",
    "            #print('Finding best k...')\n",
    "            \n",
    "            #Perform KNN using K= [1..50] and validate using k-fold k = 5\n",
    "            for k in neighbors:\n",
    "                #print('Fitting for k=%d' % k)\n",
    "                knn = KNeighborsClassifier(n_neighbors=k)\n",
    "                scores = cross_val_score(knn, X_train, Y_train, cv=d, scoring='accuracy')\n",
    "                cv_scores.append(scores.mean())\n",
    "            \n",
    "            # changeto misclassification error\n",
    "            mse = [1 - x for x in cv_scores]\n",
    "        \n",
    "            # determining best k\n",
    "            optimal_k = neighbors[mse.index(min(mse))]\n",
    "            results_optimal_k.append(optimal_k)\n",
    "            \n",
    "            knn_optimal = KNeighborsClassifier(n_neighbors=k)\n",
    "            #knn_optimal.fit(X, y)\n",
    "            # plot misclassification error vs k\n",
    "            #plt.plot(neighbors, mse)\n",
    "            #plt.xlabel(\"Number of Neighbors K\")\n",
    "            #plt.ylabel(\"Misclassification Error\")\n",
    "            #plt.show()\n",
    "            \n",
    "            print(col + \" and danceability feature the optimal number of neighbors is %d with score %d%%\" % (optimal_k, 100*(1-min(mse))))\n"
   ]
  },
  {
   "cell_type": "code",
   "execution_count": 74,
   "metadata": {
    "ExecuteTime": {
     "end_time": "2021-01-21T15:13:40.275752Z",
     "start_time": "2021-01-21T15:12:56.766924Z"
    },
    "scrolled": true
   },
   "outputs": [
    {
     "name": "stdout",
     "output_type": "stream",
     "text": [
      "\n",
      "Tuning kNN classification model with K-Fold=4...\n",
      "Finding best k...\n",
      "The optimal number of neighbors is 23 with score 77%\n",
      "\n",
      "Tuning kNN classification model with K-Fold=5...\n",
      "Finding best k...\n",
      "The optimal number of neighbors is 26 with score 76%\n",
      "\n",
      "Tuning kNN classification model with K-Fold=8...\n",
      "Finding best k...\n",
      "The optimal number of neighbors is 21 with score 76%\n",
      "\n",
      "Tuning kNN classification model with K-Fold=10...\n",
      "Finding best k...\n",
      "The optimal number of neighbors is 39 with score 77%\n"
     ]
    }
   ],
   "source": [
    "#Select audio features to use for the model\n",
    "feature_cols =  ['danceability',\\\n",
    "                'energy',\\\n",
    "                #'loudness',\\\n",
    "               #'speechiness',\\\n",
    "                'acousticness',\\\n",
    "               #'instrumentalness',\\\n",
    "                #'liveness',\\\n",
    "                'valence',\\\n",
    "                'tempo'\\\n",
    "                ]\n",
    "results_optimal_k = []\n",
    "\n",
    "kfolds= [4,5,8,10]\n",
    "for d in kfolds:\n",
    "    print('\\nTuning kNN classification model with K-Fold=%d...' % d)\n",
    "    # create feature matrix (X)\n",
    "    X = tracks_df[feature_cols]\n",
    "    y = tracks_df['genre_id']\n",
    "\n",
    "    # creating training set, test set and checking shapes \n",
    "    X_train,X_test,Y_train,Y_test = train_test_split(X,y, test_size=0.2)\n",
    "    #print(\"Shape of X_Train:\"+str(X_train.shape))\n",
    "    #print(\"Shape of y_Train:\"+str(Y_train.shape))\n",
    "    #print(\"Shape of X_Test:\"+str(X_test.shape))\n",
    "    #print(\"Shape of y_Test:\"+str(Y_test.shape))\n",
    "    \n",
    "    #train model\n",
    "    cv_scores = []\n",
    "    neighbors=np.arange(2,51)\n",
    "    print('Finding best k...')\n",
    "    \n",
    "    #Perform KNN using K= [1..50] and validate using k-fold k = 5\n",
    "    for k in neighbors:\n",
    "        #print('Fitting for k=%d' % k)\n",
    "        knn = KNeighborsClassifier(n_neighbors=k)\n",
    "        scores = cross_val_score(knn, X_train, Y_train, cv=d, scoring='accuracy')\n",
    "        cv_scores.append(scores.mean())\n",
    "        \n",
    "    # changeto misclassification error\n",
    "    mse = [1 - x for x in cv_scores]\n",
    "\n",
    "    # determining best k\n",
    "    optimal_k = neighbors[mse.index(min(mse))]\n",
    "    results_optimal_k.append(optimal_k)\n",
    "    \n",
    "    knn_optimal = KNeighborsClassifier(n_neighbors=k)\n",
    "    #knn_optimal.fit(X, y)\n",
    "    # plot misclassification error vs k\n",
    "    #plt.plot(neighbors, mse)\n",
    "    #plt.xlabel(\"Number of Neighbors K\")\n",
    "    #plt.ylabel(\"Misclassification Error\")\n",
    "    #plt.show()\n",
    "    \n",
    "    print(\"The optimal number of neighbors is %d with score %d%%\" % (optimal_k, 100*(1-min(mse))))\n"
   ]
  },
  {
   "cell_type": "code",
   "execution_count": 75,
   "metadata": {
    "ExecuteTime": {
     "end_time": "2021-01-21T15:13:40.284369Z",
     "start_time": "2021-01-21T15:13:40.278341Z"
    }
   },
   "outputs": [
    {
     "data": {
      "text/plain": [
       "[23, 26, 21, 39]"
      ]
     },
     "execution_count": 75,
     "metadata": {},
     "output_type": "execute_result"
    }
   ],
   "source": [
    "#results_optimal_k = [38, 33, 17, 21, 13, 46, 26, 27, 10, 26]\n",
    "results_optimal_k"
   ]
  },
  {
   "cell_type": "markdown",
   "metadata": {},
   "source": [
    "### 5.  Spotify Chart Classifier"
   ]
  },
  {
   "cell_type": "code",
   "execution_count": 76,
   "metadata": {
    "ExecuteTime": {
     "end_time": "2021-01-21T15:13:40.347640Z",
     "start_time": "2021-01-21T15:13:40.287636Z"
    },
    "scrolled": true
   },
   "outputs": [
    {
     "data": {
      "text/html": [
       "<div>\n",
       "<style scoped>\n",
       "    .dataframe tbody tr th:only-of-type {\n",
       "        vertical-align: middle;\n",
       "    }\n",
       "\n",
       "    .dataframe tbody tr th {\n",
       "        vertical-align: top;\n",
       "    }\n",
       "\n",
       "    .dataframe thead th {\n",
       "        text-align: right;\n",
       "    }\n",
       "</style>\n",
       "<table border=\"1\" class=\"dataframe\">\n",
       "  <thead>\n",
       "    <tr style=\"text-align: right;\">\n",
       "      <th></th>\n",
       "      <th>track_id</th>\n",
       "      <th>track_name</th>\n",
       "      <th>artist_id</th>\n",
       "      <th>artist_name</th>\n",
       "      <th>album_id</th>\n",
       "      <th>duration</th>\n",
       "      <th>release_date</th>\n",
       "      <th>popularity</th>\n",
       "      <th>danceability</th>\n",
       "      <th>energy</th>\n",
       "      <th>key</th>\n",
       "      <th>loudness</th>\n",
       "      <th>mode</th>\n",
       "      <th>speechiness</th>\n",
       "      <th>acousticness</th>\n",
       "      <th>instrumentalness</th>\n",
       "      <th>liveness</th>\n",
       "      <th>valence</th>\n",
       "      <th>tempo</th>\n",
       "    </tr>\n",
       "  </thead>\n",
       "  <tbody>\n",
       "    <tr>\n",
       "      <th>0</th>\n",
       "      <td>0kN8xEmgMW9mh7UmDYHlJP</td>\n",
       "      <td>Versace on the Floor</td>\n",
       "      <td>0du5cEVh5yTK9QJze8zA0C</td>\n",
       "      <td>Bruno Mars</td>\n",
       "      <td>4PgleR09JVnm3zY1fW3XBA</td>\n",
       "      <td>261240</td>\n",
       "      <td>2016-11-17</td>\n",
       "      <td>76</td>\n",
       "      <td>0.578</td>\n",
       "      <td>0.574</td>\n",
       "      <td>2</td>\n",
       "      <td>-6.209</td>\n",
       "      <td>1</td>\n",
       "      <td>0.0454</td>\n",
       "      <td>0.196</td>\n",
       "      <td>0.00000</td>\n",
       "      <td>0.0830</td>\n",
       "      <td>0.301</td>\n",
       "      <td>174.152</td>\n",
       "    </tr>\n",
       "    <tr>\n",
       "      <th>1</th>\n",
       "      <td>5uCax9HTNlzGybIStD3vDh</td>\n",
       "      <td>Say You Won't Let Go</td>\n",
       "      <td>4IWBUUAFIplrNtaOHcJPRM</td>\n",
       "      <td>James Arthur</td>\n",
       "      <td>7oiJYvEJHsmYtrgviAVIBD</td>\n",
       "      <td>211466</td>\n",
       "      <td>2016-10-28</td>\n",
       "      <td>88</td>\n",
       "      <td>0.358</td>\n",
       "      <td>0.557</td>\n",
       "      <td>10</td>\n",
       "      <td>-7.398</td>\n",
       "      <td>1</td>\n",
       "      <td>0.0590</td>\n",
       "      <td>0.695</td>\n",
       "      <td>0.00000</td>\n",
       "      <td>0.0902</td>\n",
       "      <td>0.494</td>\n",
       "      <td>85.043</td>\n",
       "    </tr>\n",
       "    <tr>\n",
       "      <th>2</th>\n",
       "      <td>7BKLCZ1jbUBVqRi2FVlTVw</td>\n",
       "      <td>Closer</td>\n",
       "      <td>69GGBxA162lTqCwzJG5jLp</td>\n",
       "      <td>The Chainsmokers</td>\n",
       "      <td>0rSLgV8p5FzfnqlEk4GzxE</td>\n",
       "      <td>244960</td>\n",
       "      <td>2016-07-29</td>\n",
       "      <td>87</td>\n",
       "      <td>0.748</td>\n",
       "      <td>0.524</td>\n",
       "      <td>8</td>\n",
       "      <td>-5.599</td>\n",
       "      <td>1</td>\n",
       "      <td>0.0338</td>\n",
       "      <td>0.414</td>\n",
       "      <td>0.00000</td>\n",
       "      <td>0.1110</td>\n",
       "      <td>0.661</td>\n",
       "      <td>95.010</td>\n",
       "    </tr>\n",
       "    <tr>\n",
       "      <th>3</th>\n",
       "      <td>2rizacJSyD9S1IQUxUxnsK</td>\n",
       "      <td>All We Know</td>\n",
       "      <td>69GGBxA162lTqCwzJG5jLp</td>\n",
       "      <td>The Chainsmokers</td>\n",
       "      <td>0xmaV6EtJ4M3ebZUPRnhyb</td>\n",
       "      <td>194080</td>\n",
       "      <td>2016-09-29</td>\n",
       "      <td>71</td>\n",
       "      <td>0.662</td>\n",
       "      <td>0.586</td>\n",
       "      <td>0</td>\n",
       "      <td>-8.821</td>\n",
       "      <td>1</td>\n",
       "      <td>0.0307</td>\n",
       "      <td>0.097</td>\n",
       "      <td>0.00272</td>\n",
       "      <td>0.1150</td>\n",
       "      <td>0.296</td>\n",
       "      <td>90.000</td>\n",
       "    </tr>\n",
       "    <tr>\n",
       "      <th>4</th>\n",
       "      <td>5MFzQMkrl1FOOng9tq6R9r</td>\n",
       "      <td>Don't Wanna Know</td>\n",
       "      <td>04gDigrS5kc9YWfZHwBETP</td>\n",
       "      <td>Maroon 5</td>\n",
       "      <td>0fvTn3WXF39kQs9i3bnNpP</td>\n",
       "      <td>214480</td>\n",
       "      <td>2016-10-11</td>\n",
       "      <td>1</td>\n",
       "      <td>0.783</td>\n",
       "      <td>0.623</td>\n",
       "      <td>7</td>\n",
       "      <td>-6.126</td>\n",
       "      <td>1</td>\n",
       "      <td>0.0800</td>\n",
       "      <td>0.338</td>\n",
       "      <td>0.00000</td>\n",
       "      <td>0.0975</td>\n",
       "      <td>0.447</td>\n",
       "      <td>100.048</td>\n",
       "    </tr>\n",
       "  </tbody>\n",
       "</table>\n",
       "</div>"
      ],
      "text/plain": [
       "                 track_id            track_name               artist_id  \\\n",
       "0  0kN8xEmgMW9mh7UmDYHlJP  Versace on the Floor  0du5cEVh5yTK9QJze8zA0C   \n",
       "1  5uCax9HTNlzGybIStD3vDh  Say You Won't Let Go  4IWBUUAFIplrNtaOHcJPRM   \n",
       "2  7BKLCZ1jbUBVqRi2FVlTVw                Closer  69GGBxA162lTqCwzJG5jLp   \n",
       "3  2rizacJSyD9S1IQUxUxnsK           All We Know  69GGBxA162lTqCwzJG5jLp   \n",
       "4  5MFzQMkrl1FOOng9tq6R9r      Don't Wanna Know  04gDigrS5kc9YWfZHwBETP   \n",
       "\n",
       "        artist_name                album_id  duration release_date  \\\n",
       "0        Bruno Mars  4PgleR09JVnm3zY1fW3XBA    261240   2016-11-17   \n",
       "1      James Arthur  7oiJYvEJHsmYtrgviAVIBD    211466   2016-10-28   \n",
       "2  The Chainsmokers  0rSLgV8p5FzfnqlEk4GzxE    244960   2016-07-29   \n",
       "3  The Chainsmokers  0xmaV6EtJ4M3ebZUPRnhyb    194080   2016-09-29   \n",
       "4          Maroon 5  0fvTn3WXF39kQs9i3bnNpP    214480   2016-10-11   \n",
       "\n",
       "   popularity  danceability  energy  key  loudness  mode  speechiness  \\\n",
       "0          76         0.578   0.574    2    -6.209     1       0.0454   \n",
       "1          88         0.358   0.557   10    -7.398     1       0.0590   \n",
       "2          87         0.748   0.524    8    -5.599     1       0.0338   \n",
       "3          71         0.662   0.586    0    -8.821     1       0.0307   \n",
       "4           1         0.783   0.623    7    -6.126     1       0.0800   \n",
       "\n",
       "   acousticness  instrumentalness  liveness  valence    tempo  \n",
       "0         0.196           0.00000    0.0830    0.301  174.152  \n",
       "1         0.695           0.00000    0.0902    0.494   85.043  \n",
       "2         0.414           0.00000    0.1110    0.661   95.010  \n",
       "3         0.097           0.00272    0.1150    0.296   90.000  \n",
       "4         0.338           0.00000    0.0975    0.447  100.048  "
      ]
     },
     "execution_count": 76,
     "metadata": {},
     "output_type": "execute_result"
    }
   ],
   "source": [
    "#Predict genres of the charting tracks\n",
    "chart_tracks_df = pd.read_csv(\"data/spotify_daily_charts_tracks.csv\")\n",
    "chart_tracks_df.head()"
   ]
  },
  {
   "cell_type": "code",
   "execution_count": 77,
   "metadata": {
    "ExecuteTime": {
     "end_time": "2021-01-21T15:13:40.365275Z",
     "start_time": "2021-01-21T15:13:40.350457Z"
    }
   },
   "outputs": [],
   "source": [
    "#normalize loudness and tempo\n",
    "chart_tracks_df['loudness'] = scaler.fit_transform(chart_tracks_df[['loudness']])\n",
    "chart_tracks_df['tempo'] =  scaler.fit_transform(chart_tracks_df[['tempo']])"
   ]
  },
  {
   "cell_type": "markdown",
   "metadata": {},
   "source": [
    "Test the model with external data by predicting the genres of the spotify charting tracks!"
   ]
  },
  {
   "cell_type": "code",
   "execution_count": 78,
   "metadata": {
    "ExecuteTime": {
     "end_time": "2021-01-21T15:13:49.302804Z",
     "start_time": "2021-01-21T15:13:40.369326Z"
    },
    "scrolled": true
   },
   "outputs": [
    {
     "name": "stdout",
     "output_type": "stream",
     "text": [
      "Predicting with optimal k: 39\n"
     ]
    }
   ],
   "source": [
    "#Predict genres of the spotify charts\n",
    "'''\n",
    "feature_cols = ['danceability',\\\n",
    "                'energy',\\\n",
    "                #'loudness',\\\n",
    "                #'speechiness',\\\n",
    "                'acousticness',\\\n",
    "                #'instrumentalness',\\\n",
    "                #'liveness',\\\n",
    "                'valence',\\\n",
    "                'tempo'\\\n",
    "               ]\n",
    "'''\n",
    "genres = [genre_lookup[i] for i in np.arange(len(genre_names))]\n",
    "\n",
    "n=3 #pick kfold=10\n",
    "print(\"Predicting with optimal k: %d\" %(results_optimal_k[n]))\n",
    "\n",
    "knn_optimal = KNeighborsClassifier(n_neighbors=results_optimal_k[n])\n",
    "X = tracks_df[feature_cols]\n",
    "y = tracks_df['genre_id']\n",
    "knn_optimal.fit(X, y)\n",
    "\n",
    "chart_tracks_df['predicted_genre_id'] = chart_tracks_df.apply(lambda x:  knn_optimal.predict(x[feature_cols].values.reshape(1,-1))[0]\\\n",
    "                                               , axis=1)\n",
    "chart_tracks_df['predicted_genre'] = chart_tracks_df['predicted_genre_id'].apply(lambda x: genre_lookup[x])\n",
    "chart_tracks_df['predicted_genre_prob'] = chart_tracks_df.apply(lambda x:  np.max(knn_optimal.predict_proba(x[feature_cols].values.reshape(1,-1)))\\\n",
    "                                                    , axis=1)\n",
    "chart_tracks_df['all_genre_prob'] = chart_tracks_df.apply(lambda x:  knn_optimal.predict_proba(x[feature_cols].values.reshape(1,-1))[0]\\\n",
    "                                                    , axis=1)\n"
   ]
  },
  {
   "cell_type": "code",
   "execution_count": 79,
   "metadata": {
    "ExecuteTime": {
     "end_time": "2021-01-21T15:13:49.362188Z",
     "start_time": "2021-01-21T15:13:49.304806Z"
    },
    "scrolled": true
   },
   "outputs": [
    {
     "data": {
      "text/html": [
       "<div>\n",
       "<style scoped>\n",
       "    .dataframe tbody tr th:only-of-type {\n",
       "        vertical-align: middle;\n",
       "    }\n",
       "\n",
       "    .dataframe tbody tr th {\n",
       "        vertical-align: top;\n",
       "    }\n",
       "\n",
       "    .dataframe thead th {\n",
       "        text-align: right;\n",
       "    }\n",
       "</style>\n",
       "<table border=\"1\" class=\"dataframe\">\n",
       "  <thead>\n",
       "    <tr style=\"text-align: right;\">\n",
       "      <th></th>\n",
       "      <th>track_id</th>\n",
       "      <th>track_name</th>\n",
       "      <th>artist_id</th>\n",
       "      <th>artist_name</th>\n",
       "      <th>album_id</th>\n",
       "      <th>duration</th>\n",
       "      <th>release_date</th>\n",
       "      <th>popularity</th>\n",
       "      <th>danceability</th>\n",
       "      <th>energy</th>\n",
       "      <th>...</th>\n",
       "      <th>instrumentalness</th>\n",
       "      <th>liveness</th>\n",
       "      <th>valence</th>\n",
       "      <th>tempo</th>\n",
       "      <th>predicted_genre_id</th>\n",
       "      <th>predicted_genre</th>\n",
       "      <th>predicted_genre_prob</th>\n",
       "      <th>predicted_acoustic_prob</th>\n",
       "      <th>predicted_rnb_prob</th>\n",
       "      <th>predicted_rock_prob</th>\n",
       "    </tr>\n",
       "  </thead>\n",
       "  <tbody>\n",
       "    <tr>\n",
       "      <th>2407</th>\n",
       "      <td>61HVbcNeRACZpyvHrc3AnD</td>\n",
       "      <td>All Is Found</td>\n",
       "      <td>3MyB0MyKec3Jq0AH2llk7v</td>\n",
       "      <td>Evan Rachel Wood</td>\n",
       "      <td>4M07HWIlZr7zoXoxDHR5mz</td>\n",
       "      <td>125439</td>\n",
       "      <td>2019-11-15</td>\n",
       "      <td>73</td>\n",
       "      <td>0.228</td>\n",
       "      <td>0.204</td>\n",
       "      <td>...</td>\n",
       "      <td>0.000011</td>\n",
       "      <td>0.0920</td>\n",
       "      <td>0.195</td>\n",
       "      <td>0.189517</td>\n",
       "      <td>0</td>\n",
       "      <td>acoustic</td>\n",
       "      <td>1.0</td>\n",
       "      <td>1.0</td>\n",
       "      <td>0.0</td>\n",
       "      <td>0.0</td>\n",
       "    </tr>\n",
       "    <tr>\n",
       "      <th>1014</th>\n",
       "      <td>3wBcrPHByBidLaFiroUBMc</td>\n",
       "      <td>O Holy Night</td>\n",
       "      <td>3wNylAjJX1PiCpMKx8Lrfp</td>\n",
       "      <td>Regine Velasquez</td>\n",
       "      <td>5L2dEG9wVQx7yGHU9Kg2p1</td>\n",
       "      <td>269600</td>\n",
       "      <td>2002-10-29</td>\n",
       "      <td>0</td>\n",
       "      <td>0.313</td>\n",
       "      <td>0.136</td>\n",
       "      <td>...</td>\n",
       "      <td>0.000009</td>\n",
       "      <td>0.0713</td>\n",
       "      <td>0.198</td>\n",
       "      <td>0.177328</td>\n",
       "      <td>0</td>\n",
       "      <td>acoustic</td>\n",
       "      <td>1.0</td>\n",
       "      <td>1.0</td>\n",
       "      <td>0.0</td>\n",
       "      <td>0.0</td>\n",
       "    </tr>\n",
       "    <tr>\n",
       "      <th>2834</th>\n",
       "      <td>25agDEpgr54nRvyQJHmNmR</td>\n",
       "      <td>Di Biro</td>\n",
       "      <td>2M4mQMnLHQQXsFsRmTTqsR</td>\n",
       "      <td>Jana Garcia</td>\n",
       "      <td>2F6OKkFouf9ll5uYQ7myQB</td>\n",
       "      <td>166013</td>\n",
       "      <td>2020-05-22</td>\n",
       "      <td>43</td>\n",
       "      <td>0.595</td>\n",
       "      <td>0.190</td>\n",
       "      <td>...</td>\n",
       "      <td>0.007030</td>\n",
       "      <td>0.3550</td>\n",
       "      <td>0.272</td>\n",
       "      <td>0.344909</td>\n",
       "      <td>0</td>\n",
       "      <td>acoustic</td>\n",
       "      <td>1.0</td>\n",
       "      <td>1.0</td>\n",
       "      <td>0.0</td>\n",
       "      <td>0.0</td>\n",
       "    </tr>\n",
       "    <tr>\n",
       "      <th>1909</th>\n",
       "      <td>0gDRtumoR9ZrvAlnniToMz</td>\n",
       "      <td>Ikaw At Ako</td>\n",
       "      <td>0rZRTXEmmPmx6gt92tBqIc</td>\n",
       "      <td>Moira Dela Torre</td>\n",
       "      <td>397zfeJ75BlnjfUEkgtwlG</td>\n",
       "      <td>269876</td>\n",
       "      <td>2019-01-14</td>\n",
       "      <td>67</td>\n",
       "      <td>0.445</td>\n",
       "      <td>0.355</td>\n",
       "      <td>...</td>\n",
       "      <td>0.001790</td>\n",
       "      <td>0.3220</td>\n",
       "      <td>0.366</td>\n",
       "      <td>0.510423</td>\n",
       "      <td>0</td>\n",
       "      <td>acoustic</td>\n",
       "      <td>1.0</td>\n",
       "      <td>1.0</td>\n",
       "      <td>0.0</td>\n",
       "      <td>0.0</td>\n",
       "    </tr>\n",
       "    <tr>\n",
       "      <th>2408</th>\n",
       "      <td>1gilgPrTkkZTp09Xf8zCmK</td>\n",
       "      <td>The Next Right Thing</td>\n",
       "      <td>2kHxkdiKCSnHMkhIgFBZaI</td>\n",
       "      <td>Kristen Bell</td>\n",
       "      <td>4M07HWIlZr7zoXoxDHR5mz</td>\n",
       "      <td>216773</td>\n",
       "      <td>2019-11-15</td>\n",
       "      <td>68</td>\n",
       "      <td>0.296</td>\n",
       "      <td>0.119</td>\n",
       "      <td>...</td>\n",
       "      <td>0.000016</td>\n",
       "      <td>0.3850</td>\n",
       "      <td>0.146</td>\n",
       "      <td>0.722781</td>\n",
       "      <td>0</td>\n",
       "      <td>acoustic</td>\n",
       "      <td>1.0</td>\n",
       "      <td>1.0</td>\n",
       "      <td>0.0</td>\n",
       "      <td>0.0</td>\n",
       "    </tr>\n",
       "  </tbody>\n",
       "</table>\n",
       "<p>5 rows × 25 columns</p>\n",
       "</div>"
      ],
      "text/plain": [
       "                    track_id            track_name               artist_id  \\\n",
       "2407  61HVbcNeRACZpyvHrc3AnD          All Is Found  3MyB0MyKec3Jq0AH2llk7v   \n",
       "1014  3wBcrPHByBidLaFiroUBMc          O Holy Night  3wNylAjJX1PiCpMKx8Lrfp   \n",
       "2834  25agDEpgr54nRvyQJHmNmR               Di Biro  2M4mQMnLHQQXsFsRmTTqsR   \n",
       "1909  0gDRtumoR9ZrvAlnniToMz           Ikaw At Ako  0rZRTXEmmPmx6gt92tBqIc   \n",
       "2408  1gilgPrTkkZTp09Xf8zCmK  The Next Right Thing  2kHxkdiKCSnHMkhIgFBZaI   \n",
       "\n",
       "           artist_name                album_id  duration release_date  \\\n",
       "2407  Evan Rachel Wood  4M07HWIlZr7zoXoxDHR5mz    125439   2019-11-15   \n",
       "1014  Regine Velasquez  5L2dEG9wVQx7yGHU9Kg2p1    269600   2002-10-29   \n",
       "2834       Jana Garcia  2F6OKkFouf9ll5uYQ7myQB    166013   2020-05-22   \n",
       "1909  Moira Dela Torre  397zfeJ75BlnjfUEkgtwlG    269876   2019-01-14   \n",
       "2408      Kristen Bell  4M07HWIlZr7zoXoxDHR5mz    216773   2019-11-15   \n",
       "\n",
       "      popularity  danceability  energy  ...  instrumentalness  liveness  \\\n",
       "2407          73         0.228   0.204  ...          0.000011    0.0920   \n",
       "1014           0         0.313   0.136  ...          0.000009    0.0713   \n",
       "2834          43         0.595   0.190  ...          0.007030    0.3550   \n",
       "1909          67         0.445   0.355  ...          0.001790    0.3220   \n",
       "2408          68         0.296   0.119  ...          0.000016    0.3850   \n",
       "\n",
       "      valence     tempo  predicted_genre_id  predicted_genre  \\\n",
       "2407    0.195  0.189517                   0         acoustic   \n",
       "1014    0.198  0.177328                   0         acoustic   \n",
       "2834    0.272  0.344909                   0         acoustic   \n",
       "1909    0.366  0.510423                   0         acoustic   \n",
       "2408    0.146  0.722781                   0         acoustic   \n",
       "\n",
       "      predicted_genre_prob  predicted_acoustic_prob  predicted_rnb_prob  \\\n",
       "2407                   1.0                      1.0                 0.0   \n",
       "1014                   1.0                      1.0                 0.0   \n",
       "2834                   1.0                      1.0                 0.0   \n",
       "1909                   1.0                      1.0                 0.0   \n",
       "2408                   1.0                      1.0                 0.0   \n",
       "\n",
       "      predicted_rock_prob  \n",
       "2407                  0.0  \n",
       "1014                  0.0  \n",
       "2834                  0.0  \n",
       "1909                  0.0  \n",
       "2408                  0.0  \n",
       "\n",
       "[5 rows x 25 columns]"
      ]
     },
     "execution_count": 79,
     "metadata": {},
     "output_type": "execute_result"
    }
   ],
   "source": [
    "#explore genre probabilities into separate columns\n",
    "charts_predicted_genre_prob = pd.DataFrame(chart_tracks_df[\"all_genre_prob\"].to_list(),\n",
    "                                           columns=['predicted_'+g+'_prob' for g in genres])\n",
    "charts_predicted_genre_prob['track_id'] = chart_tracks_df['track_id']\n",
    "chart_tracks_df = pd.merge(chart_tracks_df,charts_predicted_genre_prob, how='left', on='track_id')\n",
    "chart_tracks_df = chart_tracks_df.drop(columns='all_genre_prob')\n",
    "chart_tracks_df = chart_tracks_df.sort_values('predicted_genre_prob', ascending=False)\n",
    "chart_tracks_df.head()"
   ]
  },
  {
   "cell_type": "markdown",
   "metadata": {},
   "source": [
    "Check out tracks with highest assigned probability"
   ]
  },
  {
   "cell_type": "code",
   "execution_count": 80,
   "metadata": {
    "ExecuteTime": {
     "end_time": "2021-01-21T15:13:49.401423Z",
     "start_time": "2021-01-21T15:13:49.365144Z"
    }
   },
   "outputs": [
    {
     "data": {
      "text/html": [
       "<div>\n",
       "<style scoped>\n",
       "    .dataframe tbody tr th:only-of-type {\n",
       "        vertical-align: middle;\n",
       "    }\n",
       "\n",
       "    .dataframe tbody tr th {\n",
       "        vertical-align: top;\n",
       "    }\n",
       "\n",
       "    .dataframe thead th {\n",
       "        text-align: right;\n",
       "    }\n",
       "</style>\n",
       "<table border=\"1\" class=\"dataframe\">\n",
       "  <thead>\n",
       "    <tr style=\"text-align: right;\">\n",
       "      <th></th>\n",
       "      <th>artist_name</th>\n",
       "      <th>track_name</th>\n",
       "      <th>predicted_genre</th>\n",
       "      <th>predicted_genre_prob</th>\n",
       "    </tr>\n",
       "  </thead>\n",
       "  <tbody>\n",
       "    <tr>\n",
       "      <th>2407</th>\n",
       "      <td>Evan Rachel Wood</td>\n",
       "      <td>All Is Found</td>\n",
       "      <td>acoustic</td>\n",
       "      <td>1.000000</td>\n",
       "    </tr>\n",
       "    <tr>\n",
       "      <th>1014</th>\n",
       "      <td>Regine Velasquez</td>\n",
       "      <td>O Holy Night</td>\n",
       "      <td>acoustic</td>\n",
       "      <td>1.000000</td>\n",
       "    </tr>\n",
       "    <tr>\n",
       "      <th>2834</th>\n",
       "      <td>Jana Garcia</td>\n",
       "      <td>Di Biro</td>\n",
       "      <td>acoustic</td>\n",
       "      <td>1.000000</td>\n",
       "    </tr>\n",
       "    <tr>\n",
       "      <th>1909</th>\n",
       "      <td>Moira Dela Torre</td>\n",
       "      <td>Ikaw At Ako</td>\n",
       "      <td>acoustic</td>\n",
       "      <td>1.000000</td>\n",
       "    </tr>\n",
       "    <tr>\n",
       "      <th>2408</th>\n",
       "      <td>Kristen Bell</td>\n",
       "      <td>The Next Right Thing</td>\n",
       "      <td>acoustic</td>\n",
       "      <td>1.000000</td>\n",
       "    </tr>\n",
       "    <tr>\n",
       "      <th>1050</th>\n",
       "      <td>Macklemore &amp; Ryan Lewis</td>\n",
       "      <td>Can't Hold Us - feat. Ray Dalton</td>\n",
       "      <td>rock</td>\n",
       "      <td>1.000000</td>\n",
       "    </tr>\n",
       "    <tr>\n",
       "      <th>2899</th>\n",
       "      <td>One Direction</td>\n",
       "      <td>Midnight Memories</td>\n",
       "      <td>rock</td>\n",
       "      <td>1.000000</td>\n",
       "    </tr>\n",
       "    <tr>\n",
       "      <th>1032</th>\n",
       "      <td>Bruno Mars</td>\n",
       "      <td>That's What I Like - Alan Walker Remix</td>\n",
       "      <td>rock</td>\n",
       "      <td>1.000000</td>\n",
       "    </tr>\n",
       "    <tr>\n",
       "      <th>1596</th>\n",
       "      <td>Paramore</td>\n",
       "      <td>Still into You</td>\n",
       "      <td>rock</td>\n",
       "      <td>1.000000</td>\n",
       "    </tr>\n",
       "    <tr>\n",
       "      <th>2736</th>\n",
       "      <td>TOMORROW X TOGETHER</td>\n",
       "      <td>Drama</td>\n",
       "      <td>rock</td>\n",
       "      <td>1.000000</td>\n",
       "    </tr>\n",
       "    <tr>\n",
       "      <th>2590</th>\n",
       "      <td>MC Einstein</td>\n",
       "      <td>Titig</td>\n",
       "      <td>rnb</td>\n",
       "      <td>0.846154</td>\n",
       "    </tr>\n",
       "    <tr>\n",
       "      <th>10</th>\n",
       "      <td>Dawin</td>\n",
       "      <td>Jumpshot</td>\n",
       "      <td>rnb</td>\n",
       "      <td>0.794872</td>\n",
       "    </tr>\n",
       "    <tr>\n",
       "      <th>1208</th>\n",
       "      <td>XXXTENTACION</td>\n",
       "      <td>SAD!</td>\n",
       "      <td>rnb</td>\n",
       "      <td>0.794872</td>\n",
       "    </tr>\n",
       "    <tr>\n",
       "      <th>1194</th>\n",
       "      <td>XXXTENTACION</td>\n",
       "      <td>SAD!</td>\n",
       "      <td>rnb</td>\n",
       "      <td>0.794872</td>\n",
       "    </tr>\n",
       "    <tr>\n",
       "      <th>1804</th>\n",
       "      <td>Meek Mill</td>\n",
       "      <td>Going Bad (feat. Drake)</td>\n",
       "      <td>rnb</td>\n",
       "      <td>0.769231</td>\n",
       "    </tr>\n",
       "  </tbody>\n",
       "</table>\n",
       "</div>"
      ],
      "text/plain": [
       "                  artist_name                              track_name  \\\n",
       "2407         Evan Rachel Wood                            All Is Found   \n",
       "1014         Regine Velasquez                            O Holy Night   \n",
       "2834              Jana Garcia                                 Di Biro   \n",
       "1909         Moira Dela Torre                             Ikaw At Ako   \n",
       "2408             Kristen Bell                    The Next Right Thing   \n",
       "1050  Macklemore & Ryan Lewis        Can't Hold Us - feat. Ray Dalton   \n",
       "2899            One Direction                       Midnight Memories   \n",
       "1032               Bruno Mars  That's What I Like - Alan Walker Remix   \n",
       "1596                 Paramore                          Still into You   \n",
       "2736      TOMORROW X TOGETHER                                   Drama   \n",
       "2590              MC Einstein                                   Titig   \n",
       "10                      Dawin                                Jumpshot   \n",
       "1208             XXXTENTACION                                    SAD!   \n",
       "1194             XXXTENTACION                                    SAD!   \n",
       "1804                Meek Mill                 Going Bad (feat. Drake)   \n",
       "\n",
       "     predicted_genre  predicted_genre_prob  \n",
       "2407        acoustic              1.000000  \n",
       "1014        acoustic              1.000000  \n",
       "2834        acoustic              1.000000  \n",
       "1909        acoustic              1.000000  \n",
       "2408        acoustic              1.000000  \n",
       "1050            rock              1.000000  \n",
       "2899            rock              1.000000  \n",
       "1032            rock              1.000000  \n",
       "1596            rock              1.000000  \n",
       "2736            rock              1.000000  \n",
       "2590             rnb              0.846154  \n",
       "10               rnb              0.794872  \n",
       "1208             rnb              0.794872  \n",
       "1194             rnb              0.794872  \n",
       "1804             rnb              0.769231  "
      ]
     },
     "execution_count": 80,
     "metadata": {},
     "output_type": "execute_result"
    }
   ],
   "source": [
    "chart_tracks_df.groupby('predicted_genre_id').head()[['artist_name','track_name','predicted_genre','predicted_genre_prob']]"
   ]
  },
  {
   "cell_type": "markdown",
   "metadata": {},
   "source": [
    "View histogram of predicted genre probabilities"
   ]
  },
  {
   "cell_type": "code",
   "execution_count": 81,
   "metadata": {
    "ExecuteTime": {
     "end_time": "2021-01-21T15:13:49.620237Z",
     "start_time": "2021-01-21T15:13:49.404373Z"
    }
   },
   "outputs": [
    {
     "data": {
      "text/plain": [
       "<matplotlib.axes._subplots.AxesSubplot at 0x2124947fbe0>"
      ]
     },
     "execution_count": 81,
     "metadata": {},
     "output_type": "execute_result"
    },
    {
     "data": {
      "image/png": "[encoded data removed]",
      "text/plain": [
       "<Figure size 432x288 with 1 Axes>"
      ]
     },
     "metadata": {
      "needs_background": "light"
     },
     "output_type": "display_data"
    }
   ],
   "source": [
    "chart_tracks_df['predicted_genre_prob'].hist()"
   ]
  },
  {
   "cell_type": "markdown",
   "metadata": {
    "ExecuteTime": {
     "end_time": "2020-10-12T17:44:50.844307Z",
     "start_time": "2020-10-12T17:44:50.836325Z"
    }
   },
   "source": [
    "Check out tally of predicted genres"
   ]
  },
  {
   "cell_type": "code",
   "execution_count": 82,
   "metadata": {
    "ExecuteTime": {
     "end_time": "2021-01-21T15:13:49.631189Z",
     "start_time": "2021-01-21T15:13:49.623019Z"
    }
   },
   "outputs": [
    {
     "data": {
      "text/plain": [
       "rock        1319\n",
       "rnb         1037\n",
       "acoustic     928\n",
       "Name: predicted_genre, dtype: int64"
      ]
     },
     "execution_count": 82,
     "metadata": {},
     "output_type": "execute_result"
    }
   ],
   "source": [
    "chart_tracks_df['predicted_genre'].value_counts()"
   ]
  },
  {
   "cell_type": "markdown",
   "metadata": {},
   "source": [
    "### 5.  Artist Classifier"
   ]
  },
  {
   "cell_type": "code",
   "execution_count": 83,
   "metadata": {},
   "outputs": [],
   "source": [
    "artist = 'Nyoy Volante'"
   ]
  },
  {
   "cell_type": "code",
   "execution_count": 84,
   "metadata": {},
   "outputs": [],
   "source": [
    "artist_tracks_df = pd.read_csv('data/'+artist.lower()+'_album_tracks_data.csv')\n",
    "artist_tracks_df = artist_tracks_df[artist_tracks_df['artist_name']==artist]"
   ]
  },
  {
   "cell_type": "code",
   "execution_count": 85,
   "metadata": {},
   "outputs": [
    {
     "name": "stdout",
     "output_type": "stream",
     "text": [
      "Predicting with optimal k: 39\n"
     ]
    }
   ],
   "source": [
    "#Predict genres of the spotify charts\n",
    "'''\n",
    "feature_cols = ['danceability',\\\n",
    "                'energy',\\\n",
    "                'loudness',\\\n",
    "                'speechiness',\\\n",
    "                'acousticness',\\\n",
    "                'instrumentalness',\\\n",
    "                #'liveness',\\\n",
    "                'valence',\\\n",
    "                'tempo'\\\n",
    "               ]\n",
    "'''\n",
    "genres = [genre_lookup[i] for i in np.arange(len(genre_names))]\n",
    "\n",
    "n=3 #pick kfold=10\n",
    "print(\"Predicting with optimal k: %d\" %(results_optimal_k[n]))\n",
    "\n",
    "knn_optimal = KNeighborsClassifier(n_neighbors=results_optimal_k[n])\n",
    "X = tracks_df[feature_cols]\n",
    "y = tracks_df['genre_id']\n",
    "knn_optimal.fit(X, y)\n",
    "\n",
    "artist_tracks_df['predicted_genre_id'] = artist_tracks_df.apply(lambda x:  knn_optimal.predict(x[feature_cols].values.reshape(1,-1))[0]\\\n",
    "                                               , axis=1)\n",
    "artist_tracks_df['predicted_genre'] = artist_tracks_df['predicted_genre_id'].apply(lambda x: genre_lookup[x])\n",
    "artist_tracks_df['predicted_genre_prob'] = artist_tracks_df.apply(lambda x:  np.max(knn_optimal.predict_proba(x[feature_cols].values.reshape(1,-1)))\\\n",
    "                                                    , axis=1)\n",
    "artist_tracks_df['all_genre_prob'] = artist_tracks_df.apply(lambda x:  knn_optimal.predict_proba(x[feature_cols].values.reshape(1,-1))[0]\\\n",
    "                                                    , axis=1)\n"
   ]
  },
  {
   "cell_type": "code",
   "execution_count": 86,
   "metadata": {},
   "outputs": [
    {
     "data": {
      "text/html": [
       "<div>\n",
       "<style scoped>\n",
       "    .dataframe tbody tr th:only-of-type {\n",
       "        vertical-align: middle;\n",
       "    }\n",
       "\n",
       "    .dataframe tbody tr th {\n",
       "        vertical-align: top;\n",
       "    }\n",
       "\n",
       "    .dataframe thead th {\n",
       "        text-align: right;\n",
       "    }\n",
       "</style>\n",
       "<table border=\"1\" class=\"dataframe\">\n",
       "  <thead>\n",
       "    <tr style=\"text-align: right;\">\n",
       "      <th></th>\n",
       "      <th>track_id</th>\n",
       "      <th>track_name</th>\n",
       "      <th>artist_id</th>\n",
       "      <th>artist_name</th>\n",
       "      <th>album_id</th>\n",
       "      <th>duration</th>\n",
       "      <th>release_date</th>\n",
       "      <th>popularity</th>\n",
       "      <th>danceability</th>\n",
       "      <th>energy</th>\n",
       "      <th>...</th>\n",
       "      <th>valence</th>\n",
       "      <th>tempo</th>\n",
       "      <th>playlist_id</th>\n",
       "      <th>playlist_name</th>\n",
       "      <th>predicted_genre_id</th>\n",
       "      <th>predicted_genre</th>\n",
       "      <th>predicted_genre_prob</th>\n",
       "      <th>predicted_acoustic_prob</th>\n",
       "      <th>predicted_rnb_prob</th>\n",
       "      <th>predicted_rock_prob</th>\n",
       "    </tr>\n",
       "  </thead>\n",
       "  <tbody>\n",
       "    <tr>\n",
       "      <th>44</th>\n",
       "      <td>3MYfcVRTLqo7t3ra4DqFRn</td>\n",
       "      <td>Ama Namin</td>\n",
       "      <td>3pTaNQJ7TAU4yL7KEZp5sF</td>\n",
       "      <td>Nyoy Volante</td>\n",
       "      <td>1maIgsJ7htTqCDrhe8aucE</td>\n",
       "      <td>113640</td>\n",
       "      <td>2008-08-09</td>\n",
       "      <td>10</td>\n",
       "      <td>0.000</td>\n",
       "      <td>0.118</td>\n",
       "      <td>...</td>\n",
       "      <td>0.000</td>\n",
       "      <td>0.000</td>\n",
       "      <td>3MYfcVRTLqo7t3ra4DqFRn</td>\n",
       "      <td>3MYfcVRTLqo7t3ra4DqFRn</td>\n",
       "      <td>0</td>\n",
       "      <td>acoustic</td>\n",
       "      <td>0.948718</td>\n",
       "      <td>0.948718</td>\n",
       "      <td>0.051282</td>\n",
       "      <td>0.000000</td>\n",
       "    </tr>\n",
       "    <tr>\n",
       "      <th>0</th>\n",
       "      <td>2pAFgfaNVioQGhC0jhtcsG</td>\n",
       "      <td>Ipagpatawad Mo</td>\n",
       "      <td>3pTaNQJ7TAU4yL7KEZp5sF</td>\n",
       "      <td>Nyoy Volante</td>\n",
       "      <td>5jzfPxlD5UD4Aw3cEnelcC</td>\n",
       "      <td>239333</td>\n",
       "      <td>2012-01-01</td>\n",
       "      <td>29</td>\n",
       "      <td>0.622</td>\n",
       "      <td>0.522</td>\n",
       "      <td>...</td>\n",
       "      <td>0.375</td>\n",
       "      <td>139.938</td>\n",
       "      <td>2pAFgfaNVioQGhC0jhtcsG</td>\n",
       "      <td>2pAFgfaNVioQGhC0jhtcsG</td>\n",
       "      <td>0</td>\n",
       "      <td>acoustic</td>\n",
       "      <td>0.410256</td>\n",
       "      <td>0.410256</td>\n",
       "      <td>0.205128</td>\n",
       "      <td>0.384615</td>\n",
       "    </tr>\n",
       "    <tr>\n",
       "      <th>63</th>\n",
       "      <td>4wt6antGdiSjTZWoyLVibi</td>\n",
       "      <td>Sweetest Sugar</td>\n",
       "      <td>3pTaNQJ7TAU4yL7KEZp5sF</td>\n",
       "      <td>Nyoy Volante</td>\n",
       "      <td>4EQ7a4ztLVN5OUgxJJVIxY</td>\n",
       "      <td>225120</td>\n",
       "      <td>2002-06-01</td>\n",
       "      <td>1</td>\n",
       "      <td>0.655</td>\n",
       "      <td>0.650</td>\n",
       "      <td>...</td>\n",
       "      <td>0.607</td>\n",
       "      <td>96.063</td>\n",
       "      <td>4wt6antGdiSjTZWoyLVibi</td>\n",
       "      <td>4wt6antGdiSjTZWoyLVibi</td>\n",
       "      <td>0</td>\n",
       "      <td>acoustic</td>\n",
       "      <td>0.410256</td>\n",
       "      <td>0.410256</td>\n",
       "      <td>0.205128</td>\n",
       "      <td>0.384615</td>\n",
       "    </tr>\n",
       "    <tr>\n",
       "      <th>73</th>\n",
       "      <td>6m9YKCOZpdkLzPqUwCM9ha</td>\n",
       "      <td>Chosen</td>\n",
       "      <td>3pTaNQJ7TAU4yL7KEZp5sF</td>\n",
       "      <td>Nyoy Volante</td>\n",
       "      <td>6wh0T0S950yhOVVT6kJjm2</td>\n",
       "      <td>313541</td>\n",
       "      <td>2018-05-08</td>\n",
       "      <td>8</td>\n",
       "      <td>0.570</td>\n",
       "      <td>0.714</td>\n",
       "      <td>...</td>\n",
       "      <td>0.449</td>\n",
       "      <td>130.058</td>\n",
       "      <td>6m9YKCOZpdkLzPqUwCM9ha</td>\n",
       "      <td>6m9YKCOZpdkLzPqUwCM9ha</td>\n",
       "      <td>0</td>\n",
       "      <td>acoustic</td>\n",
       "      <td>0.410256</td>\n",
       "      <td>0.410256</td>\n",
       "      <td>0.205128</td>\n",
       "      <td>0.384615</td>\n",
       "    </tr>\n",
       "    <tr>\n",
       "      <th>72</th>\n",
       "      <td>79cNKZg5oo2FHmnj99K8rQ</td>\n",
       "      <td>Pieces of My Life</td>\n",
       "      <td>3pTaNQJ7TAU4yL7KEZp5sF</td>\n",
       "      <td>Nyoy Volante</td>\n",
       "      <td>2Gxsv9XrzRkrjexEWWaxaH</td>\n",
       "      <td>291830</td>\n",
       "      <td>2019-04-11</td>\n",
       "      <td>0</td>\n",
       "      <td>0.298</td>\n",
       "      <td>0.213</td>\n",
       "      <td>...</td>\n",
       "      <td>0.348</td>\n",
       "      <td>175.989</td>\n",
       "      <td>79cNKZg5oo2FHmnj99K8rQ</td>\n",
       "      <td>79cNKZg5oo2FHmnj99K8rQ</td>\n",
       "      <td>0</td>\n",
       "      <td>acoustic</td>\n",
       "      <td>0.410256</td>\n",
       "      <td>0.410256</td>\n",
       "      <td>0.205128</td>\n",
       "      <td>0.384615</td>\n",
       "    </tr>\n",
       "  </tbody>\n",
       "</table>\n",
       "<p>5 rows × 27 columns</p>\n",
       "</div>"
      ],
      "text/plain": [
       "                  track_id         track_name               artist_id  \\\n",
       "44  3MYfcVRTLqo7t3ra4DqFRn          Ama Namin  3pTaNQJ7TAU4yL7KEZp5sF   \n",
       "0   2pAFgfaNVioQGhC0jhtcsG     Ipagpatawad Mo  3pTaNQJ7TAU4yL7KEZp5sF   \n",
       "63  4wt6antGdiSjTZWoyLVibi     Sweetest Sugar  3pTaNQJ7TAU4yL7KEZp5sF   \n",
       "73  6m9YKCOZpdkLzPqUwCM9ha             Chosen  3pTaNQJ7TAU4yL7KEZp5sF   \n",
       "72  79cNKZg5oo2FHmnj99K8rQ  Pieces of My Life  3pTaNQJ7TAU4yL7KEZp5sF   \n",
       "\n",
       "     artist_name                album_id  duration release_date  popularity  \\\n",
       "44  Nyoy Volante  1maIgsJ7htTqCDrhe8aucE    113640   2008-08-09          10   \n",
       "0   Nyoy Volante  5jzfPxlD5UD4Aw3cEnelcC    239333   2012-01-01          29   \n",
       "63  Nyoy Volante  4EQ7a4ztLVN5OUgxJJVIxY    225120   2002-06-01           1   \n",
       "73  Nyoy Volante  6wh0T0S950yhOVVT6kJjm2    313541   2018-05-08           8   \n",
       "72  Nyoy Volante  2Gxsv9XrzRkrjexEWWaxaH    291830   2019-04-11           0   \n",
       "\n",
       "    danceability  energy  ...  valence    tempo             playlist_id  \\\n",
       "44         0.000   0.118  ...    0.000    0.000  3MYfcVRTLqo7t3ra4DqFRn   \n",
       "0          0.622   0.522  ...    0.375  139.938  2pAFgfaNVioQGhC0jhtcsG   \n",
       "63         0.655   0.650  ...    0.607   96.063  4wt6antGdiSjTZWoyLVibi   \n",
       "73         0.570   0.714  ...    0.449  130.058  6m9YKCOZpdkLzPqUwCM9ha   \n",
       "72         0.298   0.213  ...    0.348  175.989  79cNKZg5oo2FHmnj99K8rQ   \n",
       "\n",
       "             playlist_name  predicted_genre_id  predicted_genre  \\\n",
       "44  3MYfcVRTLqo7t3ra4DqFRn                   0         acoustic   \n",
       "0   2pAFgfaNVioQGhC0jhtcsG                   0         acoustic   \n",
       "63  4wt6antGdiSjTZWoyLVibi                   0         acoustic   \n",
       "73  6m9YKCOZpdkLzPqUwCM9ha                   0         acoustic   \n",
       "72  79cNKZg5oo2FHmnj99K8rQ                   0         acoustic   \n",
       "\n",
       "    predicted_genre_prob  predicted_acoustic_prob  predicted_rnb_prob  \\\n",
       "44              0.948718                 0.948718            0.051282   \n",
       "0               0.410256                 0.410256            0.205128   \n",
       "63              0.410256                 0.410256            0.205128   \n",
       "73              0.410256                 0.410256            0.205128   \n",
       "72              0.410256                 0.410256            0.205128   \n",
       "\n",
       "   predicted_rock_prob  \n",
       "44            0.000000  \n",
       "0             0.384615  \n",
       "63            0.384615  \n",
       "73            0.384615  \n",
       "72            0.384615  \n",
       "\n",
       "[5 rows x 27 columns]"
      ]
     },
     "execution_count": 86,
     "metadata": {},
     "output_type": "execute_result"
    }
   ],
   "source": [
    "#explore genre probabilities into separate columns\n",
    "artist_predicted_genre_prob = pd.DataFrame(artist_tracks_df[\"all_genre_prob\"].to_list(),\n",
    "                                           columns=['predicted_'+g+'_prob' for g in genres])\n",
    "artist_predicted_genre_prob['track_id'] = artist_tracks_df['track_id']\n",
    "artist_tracks_df = pd.merge(artist_tracks_df,artist_predicted_genre_prob, how='left', on='track_id')\n",
    "artist_tracks_df = artist_tracks_df.drop(columns='all_genre_prob')\n",
    "artist_tracks_df = artist_tracks_df.sort_values('predicted_genre_prob', ascending=False)\n",
    "artist_tracks_df.head()"
   ]
  },
  {
   "cell_type": "markdown",
   "metadata": {},
   "source": [
    "Check out tracks with highest assigned probability"
   ]
  },
  {
   "cell_type": "code",
   "execution_count": 87,
   "metadata": {},
   "outputs": [
    {
     "data": {
      "text/html": [
       "<div>\n",
       "<style scoped>\n",
       "    .dataframe tbody tr th:only-of-type {\n",
       "        vertical-align: middle;\n",
       "    }\n",
       "\n",
       "    .dataframe tbody tr th {\n",
       "        vertical-align: top;\n",
       "    }\n",
       "\n",
       "    .dataframe thead th {\n",
       "        text-align: right;\n",
       "    }\n",
       "</style>\n",
       "<table border=\"1\" class=\"dataframe\">\n",
       "  <thead>\n",
       "    <tr style=\"text-align: right;\">\n",
       "      <th></th>\n",
       "      <th>artist_name</th>\n",
       "      <th>track_name</th>\n",
       "      <th>predicted_genre</th>\n",
       "      <th>predicted_genre_prob</th>\n",
       "    </tr>\n",
       "  </thead>\n",
       "  <tbody>\n",
       "    <tr>\n",
       "      <th>44</th>\n",
       "      <td>Nyoy Volante</td>\n",
       "      <td>Ama Namin</td>\n",
       "      <td>acoustic</td>\n",
       "      <td>0.948718</td>\n",
       "    </tr>\n",
       "    <tr>\n",
       "      <th>0</th>\n",
       "      <td>Nyoy Volante</td>\n",
       "      <td>Ipagpatawad Mo</td>\n",
       "      <td>acoustic</td>\n",
       "      <td>0.410256</td>\n",
       "    </tr>\n",
       "    <tr>\n",
       "      <th>63</th>\n",
       "      <td>Nyoy Volante</td>\n",
       "      <td>Sweetest Sugar</td>\n",
       "      <td>acoustic</td>\n",
       "      <td>0.410256</td>\n",
       "    </tr>\n",
       "    <tr>\n",
       "      <th>73</th>\n",
       "      <td>Nyoy Volante</td>\n",
       "      <td>Chosen</td>\n",
       "      <td>acoustic</td>\n",
       "      <td>0.410256</td>\n",
       "    </tr>\n",
       "    <tr>\n",
       "      <th>72</th>\n",
       "      <td>Nyoy Volante</td>\n",
       "      <td>Pieces of My Life</td>\n",
       "      <td>acoustic</td>\n",
       "      <td>0.410256</td>\n",
       "    </tr>\n",
       "  </tbody>\n",
       "</table>\n",
       "</div>"
      ],
      "text/plain": [
       "     artist_name         track_name predicted_genre  predicted_genre_prob\n",
       "44  Nyoy Volante          Ama Namin        acoustic              0.948718\n",
       "0   Nyoy Volante     Ipagpatawad Mo        acoustic              0.410256\n",
       "63  Nyoy Volante     Sweetest Sugar        acoustic              0.410256\n",
       "73  Nyoy Volante             Chosen        acoustic              0.410256\n",
       "72  Nyoy Volante  Pieces of My Life        acoustic              0.410256"
      ]
     },
     "execution_count": 87,
     "metadata": {},
     "output_type": "execute_result"
    }
   ],
   "source": [
    "artist_tracks_df.groupby('predicted_genre_id').head()[['artist_name','track_name','predicted_genre','predicted_genre_prob']]"
   ]
  },
  {
   "cell_type": "code",
   "execution_count": 88,
   "metadata": {},
   "outputs": [
    {
     "data": {
      "text/plain": [
       "<matplotlib.axes._subplots.AxesSubplot at 0x2124ad4e370>"
      ]
     },
     "execution_count": 88,
     "metadata": {},
     "output_type": "execute_result"
    },
    {
     "data": {
      "image/png": "[encoded data removed]",
      "text/plain": [
       "<Figure size 432x288 with 1 Axes>"
      ]
     },
     "metadata": {
      "needs_background": "light"
     },
     "output_type": "display_data"
    }
   ],
   "source": [
    "artist_tracks_df['predicted_genre_prob'].hist()"
   ]
  },
  {
   "cell_type": "code",
   "execution_count": 89,
   "metadata": {},
   "outputs": [
    {
     "data": {
      "text/plain": [
       "acoustic    101\n",
       "Name: predicted_genre, dtype: int64"
      ]
     },
     "execution_count": 89,
     "metadata": {},
     "output_type": "execute_result"
    }
   ],
   "source": [
    "artist_tracks_df['predicted_genre'].value_counts()"
   ]
  },
  {
   "cell_type": "code",
   "execution_count": 90,
   "metadata": {},
   "outputs": [
    {
     "name": "stdout",
     "output_type": "stream",
     "text": [
      "Acoustic\n"
     ]
    },
    {
     "data": {
      "text/html": [
       "<div>\n",
       "<style scoped>\n",
       "    .dataframe tbody tr th:only-of-type {\n",
       "        vertical-align: middle;\n",
       "    }\n",
       "\n",
       "    .dataframe tbody tr th {\n",
       "        vertical-align: top;\n",
       "    }\n",
       "\n",
       "    .dataframe thead th {\n",
       "        text-align: right;\n",
       "    }\n",
       "</style>\n",
       "<table border=\"1\" class=\"dataframe\">\n",
       "  <thead>\n",
       "    <tr style=\"text-align: right;\">\n",
       "      <th></th>\n",
       "      <th>track_id</th>\n",
       "      <th>track_name</th>\n",
       "      <th>artist_id</th>\n",
       "      <th>artist_name</th>\n",
       "      <th>album_id</th>\n",
       "      <th>duration</th>\n",
       "      <th>release_date</th>\n",
       "      <th>popularity</th>\n",
       "      <th>danceability</th>\n",
       "      <th>energy</th>\n",
       "      <th>...</th>\n",
       "      <th>speechiness</th>\n",
       "      <th>acousticness</th>\n",
       "      <th>instrumentalness</th>\n",
       "      <th>liveness</th>\n",
       "      <th>valence</th>\n",
       "      <th>tempo</th>\n",
       "      <th>playlist_id</th>\n",
       "      <th>genre</th>\n",
       "      <th>playlist_name</th>\n",
       "      <th>duration_mins</th>\n",
       "    </tr>\n",
       "  </thead>\n",
       "  <tbody>\n",
       "    <tr>\n",
       "      <th>0</th>\n",
       "      <td>1HrVc40jQbDRWIB9KreDti</td>\n",
       "      <td>Dreams - Piano Version</td>\n",
       "      <td>3j4FHbC5zwmYGJ7r0ZgaMt</td>\n",
       "      <td>Lissie</td>\n",
       "      <td>1oBjEkE3FjyD74adBZsUTI</td>\n",
       "      <td>274992</td>\n",
       "      <td>2019-03-01</td>\n",
       "      <td>0.494382</td>\n",
       "      <td>0.562</td>\n",
       "      <td>0.187</td>\n",
       "      <td>...</td>\n",
       "      <td>0.0313</td>\n",
       "      <td>0.921</td>\n",
       "      <td>0.0000</td>\n",
       "      <td>0.0813</td>\n",
       "      <td>0.199</td>\n",
       "      <td>0.408624</td>\n",
       "      <td>37i9dQZF1DWXmlLSKkfdAk</td>\n",
       "      <td>acoustic</td>\n",
       "      <td>Acoustic Covers</td>\n",
       "      <td>4.583200</td>\n",
       "    </tr>\n",
       "    <tr>\n",
       "      <th>1</th>\n",
       "      <td>66aH9gXNBfTJUikVIZfzcA</td>\n",
       "      <td>Days Like This</td>\n",
       "      <td>5KNNVgR6LBIABRIomyCwKJ</td>\n",
       "      <td>Dermot Kennedy</td>\n",
       "      <td>55yX6dAMACVgUGxG2RCnIq</td>\n",
       "      <td>149803</td>\n",
       "      <td>2020-11-06</td>\n",
       "      <td>0.494382</td>\n",
       "      <td>0.642</td>\n",
       "      <td>0.214</td>\n",
       "      <td>...</td>\n",
       "      <td>0.1980</td>\n",
       "      <td>0.909</td>\n",
       "      <td>0.0000</td>\n",
       "      <td>0.1220</td>\n",
       "      <td>0.380</td>\n",
       "      <td>0.170497</td>\n",
       "      <td>37i9dQZF1DWXmlLSKkfdAk</td>\n",
       "      <td>acoustic</td>\n",
       "      <td>Acoustic Covers</td>\n",
       "      <td>2.496717</td>\n",
       "    </tr>\n",
       "    <tr>\n",
       "      <th>2</th>\n",
       "      <td>79ms40oOzof3LMyrrXDXtJ</td>\n",
       "      <td>Fast Car (feat. Tall Heights)</td>\n",
       "      <td>5Q2ZtOZ0vOdtcjGDOq6ZQc</td>\n",
       "      <td>Ryan Montbleau</td>\n",
       "      <td>0aqbYdpaGt1QhCJDcruuMV</td>\n",
       "      <td>272966</td>\n",
       "      <td>2014-09-30</td>\n",
       "      <td>0.696629</td>\n",
       "      <td>0.577</td>\n",
       "      <td>0.170</td>\n",
       "      <td>...</td>\n",
       "      <td>0.0462</td>\n",
       "      <td>0.865</td>\n",
       "      <td>0.0000</td>\n",
       "      <td>0.1330</td>\n",
       "      <td>0.360</td>\n",
       "      <td>0.771411</td>\n",
       "      <td>37i9dQZF1DWXmlLSKkfdAk</td>\n",
       "      <td>acoustic</td>\n",
       "      <td>Acoustic Covers</td>\n",
       "      <td>4.549433</td>\n",
       "    </tr>\n",
       "    <tr>\n",
       "      <th>3</th>\n",
       "      <td>6itWAD2WxmAVQgWuk85yXx</td>\n",
       "      <td>Stay With Me - Live From Spotify Berlin</td>\n",
       "      <td>4tvKz56Tr39bkhcQUTO0Xr</td>\n",
       "      <td>Angus &amp; Julia Stone</td>\n",
       "      <td>5ota1DtixKfUcrsiazzgcK</td>\n",
       "      <td>174373</td>\n",
       "      <td>2015-01-13</td>\n",
       "      <td>0.573034</td>\n",
       "      <td>0.614</td>\n",
       "      <td>0.106</td>\n",
       "      <td>...</td>\n",
       "      <td>0.0413</td>\n",
       "      <td>0.838</td>\n",
       "      <td>0.0509</td>\n",
       "      <td>0.7080</td>\n",
       "      <td>0.169</td>\n",
       "      <td>0.141306</td>\n",
       "      <td>37i9dQZF1DWXmlLSKkfdAk</td>\n",
       "      <td>acoustic</td>\n",
       "      <td>Acoustic Covers</td>\n",
       "      <td>2.906217</td>\n",
       "    </tr>\n",
       "    <tr>\n",
       "      <th>4</th>\n",
       "      <td>65YDMuJmyF8cxTrk4Xogy0</td>\n",
       "      <td>Every Breath You Take (feat. Liza Anne)</td>\n",
       "      <td>52MFUXZatn0KsT2bdPQI2a</td>\n",
       "      <td>Aaron Krause</td>\n",
       "      <td>0AQ6evdrI5Nkmp5lDYYCCh</td>\n",
       "      <td>223893</td>\n",
       "      <td>2013-11-22</td>\n",
       "      <td>0.719101</td>\n",
       "      <td>0.325</td>\n",
       "      <td>0.201</td>\n",
       "      <td>...</td>\n",
       "      <td>0.0282</td>\n",
       "      <td>0.758</td>\n",
       "      <td>0.0000</td>\n",
       "      <td>0.0977</td>\n",
       "      <td>0.172</td>\n",
       "      <td>0.179631</td>\n",
       "      <td>37i9dQZF1DWXmlLSKkfdAk</td>\n",
       "      <td>acoustic</td>\n",
       "      <td>Acoustic Covers</td>\n",
       "      <td>3.731550</td>\n",
       "    </tr>\n",
       "  </tbody>\n",
       "</table>\n",
       "<p>5 rows × 23 columns</p>\n",
       "</div>"
      ],
      "text/plain": [
       "                 track_id                               track_name  \\\n",
       "0  1HrVc40jQbDRWIB9KreDti                   Dreams - Piano Version   \n",
       "1  66aH9gXNBfTJUikVIZfzcA                           Days Like This   \n",
       "2  79ms40oOzof3LMyrrXDXtJ            Fast Car (feat. Tall Heights)   \n",
       "3  6itWAD2WxmAVQgWuk85yXx  Stay With Me - Live From Spotify Berlin   \n",
       "4  65YDMuJmyF8cxTrk4Xogy0  Every Breath You Take (feat. Liza Anne)   \n",
       "\n",
       "                artist_id          artist_name                album_id  \\\n",
       "0  3j4FHbC5zwmYGJ7r0ZgaMt               Lissie  1oBjEkE3FjyD74adBZsUTI   \n",
       "1  5KNNVgR6LBIABRIomyCwKJ       Dermot Kennedy  55yX6dAMACVgUGxG2RCnIq   \n",
       "2  5Q2ZtOZ0vOdtcjGDOq6ZQc       Ryan Montbleau  0aqbYdpaGt1QhCJDcruuMV   \n",
       "3  4tvKz56Tr39bkhcQUTO0Xr  Angus & Julia Stone  5ota1DtixKfUcrsiazzgcK   \n",
       "4  52MFUXZatn0KsT2bdPQI2a         Aaron Krause  0AQ6evdrI5Nkmp5lDYYCCh   \n",
       "\n",
       "   duration release_date  popularity  danceability  energy  ...  speechiness  \\\n",
       "0    274992   2019-03-01    0.494382         0.562   0.187  ...       0.0313   \n",
       "1    149803   2020-11-06    0.494382         0.642   0.214  ...       0.1980   \n",
       "2    272966   2014-09-30    0.696629         0.577   0.170  ...       0.0462   \n",
       "3    174373   2015-01-13    0.573034         0.614   0.106  ...       0.0413   \n",
       "4    223893   2013-11-22    0.719101         0.325   0.201  ...       0.0282   \n",
       "\n",
       "   acousticness  instrumentalness  liveness  valence     tempo  \\\n",
       "0         0.921            0.0000    0.0813    0.199  0.408624   \n",
       "1         0.909            0.0000    0.1220    0.380  0.170497   \n",
       "2         0.865            0.0000    0.1330    0.360  0.771411   \n",
       "3         0.838            0.0509    0.7080    0.169  0.141306   \n",
       "4         0.758            0.0000    0.0977    0.172  0.179631   \n",
       "\n",
       "              playlist_id     genre    playlist_name duration_mins  \n",
       "0  37i9dQZF1DWXmlLSKkfdAk  acoustic  Acoustic Covers      4.583200  \n",
       "1  37i9dQZF1DWXmlLSKkfdAk  acoustic  Acoustic Covers      2.496717  \n",
       "2  37i9dQZF1DWXmlLSKkfdAk  acoustic  Acoustic Covers      4.549433  \n",
       "3  37i9dQZF1DWXmlLSKkfdAk  acoustic  Acoustic Covers      2.906217  \n",
       "4  37i9dQZF1DWXmlLSKkfdAk  acoustic  Acoustic Covers      3.731550  \n",
       "\n",
       "[5 rows x 23 columns]"
      ]
     },
     "execution_count": 90,
     "metadata": {},
     "output_type": "execute_result"
    }
   ],
   "source": [
    "genre_names = ['Acoustic']\n",
    "playlist_df_list = []\n",
    "track_df_list = []\n",
    "for genre in genre_names:\n",
    "    # read and process the playlist data for keyword\n",
    "    print(genre)\n",
    "    pdf = pd.read_csv('data/'+genre.lower()+'_playlist_data.csv')\n",
    "    pdf['genre'] = genre.lower().replace('&','n')\n",
    "    playlist_df_list.append(pdf)\n",
    "\n",
    "    tdf = pd.read_csv('data/'+genre.lower()+'_playlist_tracks_data.csv')\n",
    "    tdf['genre'] = genre.lower().replace('&','n')\n",
    "    tdf = tdf.drop(columns=['playlist_name'])\n",
    "    tdf = tdf.merge(pdf[['playlist_id','playlist_name']], on=['playlist_id'], how='left')\n",
    "    \n",
    "    track_df_list.append(tdf)\n",
    "    \n",
    "    \n",
    "        \n",
    "playlist_df = pd.concat(playlist_df_list)\n",
    "tracks_df = pd.concat(track_df_list)\n",
    "#make duration ms to minutes\n",
    "tracks_df['duration_mins']=tracks_df['duration']/60000\n",
    "#tag genre with keyword\n",
    "\n",
    "# scale loudness and tempo\n",
    "tracks_df['loudness'] = scaler.fit_transform(tracks_df[['loudness']])\n",
    "tracks_df['tempo'] =  scaler.fit_transform(tracks_df[['tempo']])\n",
    "tracks_df['popularity'] =  scaler.fit_transform(tracks_df[['popularity']])\n",
    "\n",
    "tracks_df.head()"
   ]
  },
  {
   "cell_type": "code",
   "execution_count": 91,
   "metadata": {},
   "outputs": [
    {
     "data": {
      "text/html": [
       "<div>\n",
       "<style scoped>\n",
       "    .dataframe tbody tr th:only-of-type {\n",
       "        vertical-align: middle;\n",
       "    }\n",
       "\n",
       "    .dataframe tbody tr th {\n",
       "        vertical-align: top;\n",
       "    }\n",
       "\n",
       "    .dataframe thead th {\n",
       "        text-align: right;\n",
       "    }\n",
       "</style>\n",
       "<table border=\"1\" class=\"dataframe\">\n",
       "  <thead>\n",
       "    <tr style=\"text-align: right;\">\n",
       "      <th></th>\n",
       "      <th>track_id</th>\n",
       "      <th>track_name</th>\n",
       "      <th>artist_id</th>\n",
       "      <th>artist_name</th>\n",
       "      <th>album_id</th>\n",
       "      <th>duration</th>\n",
       "      <th>release_date</th>\n",
       "      <th>popularity</th>\n",
       "      <th>danceability</th>\n",
       "      <th>energy</th>\n",
       "      <th>...</th>\n",
       "      <th>valence</th>\n",
       "      <th>tempo</th>\n",
       "      <th>playlist_id</th>\n",
       "      <th>playlist_name</th>\n",
       "      <th>predicted_genre_id</th>\n",
       "      <th>predicted_genre</th>\n",
       "      <th>predicted_genre_prob</th>\n",
       "      <th>predicted_acoustic_prob</th>\n",
       "      <th>predicted_rnb_prob</th>\n",
       "      <th>predicted_rock_prob</th>\n",
       "    </tr>\n",
       "  </thead>\n",
       "  <tbody>\n",
       "    <tr>\n",
       "      <th>44</th>\n",
       "      <td>3MYfcVRTLqo7t3ra4DqFRn</td>\n",
       "      <td>Ama Namin</td>\n",
       "      <td>3pTaNQJ7TAU4yL7KEZp5sF</td>\n",
       "      <td>Nyoy Volante</td>\n",
       "      <td>1maIgsJ7htTqCDrhe8aucE</td>\n",
       "      <td>113640</td>\n",
       "      <td>2008-08-09</td>\n",
       "      <td>10</td>\n",
       "      <td>0.000</td>\n",
       "      <td>0.118</td>\n",
       "      <td>...</td>\n",
       "      <td>0.000</td>\n",
       "      <td>0.000</td>\n",
       "      <td>3MYfcVRTLqo7t3ra4DqFRn</td>\n",
       "      <td>3MYfcVRTLqo7t3ra4DqFRn</td>\n",
       "      <td>0</td>\n",
       "      <td>acoustic</td>\n",
       "      <td>0.948718</td>\n",
       "      <td>0.948718</td>\n",
       "      <td>0.051282</td>\n",
       "      <td>0.000000</td>\n",
       "    </tr>\n",
       "    <tr>\n",
       "      <th>0</th>\n",
       "      <td>2pAFgfaNVioQGhC0jhtcsG</td>\n",
       "      <td>Ipagpatawad Mo</td>\n",
       "      <td>3pTaNQJ7TAU4yL7KEZp5sF</td>\n",
       "      <td>Nyoy Volante</td>\n",
       "      <td>5jzfPxlD5UD4Aw3cEnelcC</td>\n",
       "      <td>239333</td>\n",
       "      <td>2012-01-01</td>\n",
       "      <td>29</td>\n",
       "      <td>0.622</td>\n",
       "      <td>0.522</td>\n",
       "      <td>...</td>\n",
       "      <td>0.375</td>\n",
       "      <td>139.938</td>\n",
       "      <td>2pAFgfaNVioQGhC0jhtcsG</td>\n",
       "      <td>2pAFgfaNVioQGhC0jhtcsG</td>\n",
       "      <td>0</td>\n",
       "      <td>acoustic</td>\n",
       "      <td>0.410256</td>\n",
       "      <td>0.410256</td>\n",
       "      <td>0.205128</td>\n",
       "      <td>0.384615</td>\n",
       "    </tr>\n",
       "    <tr>\n",
       "      <th>63</th>\n",
       "      <td>4wt6antGdiSjTZWoyLVibi</td>\n",
       "      <td>Sweetest Sugar</td>\n",
       "      <td>3pTaNQJ7TAU4yL7KEZp5sF</td>\n",
       "      <td>Nyoy Volante</td>\n",
       "      <td>4EQ7a4ztLVN5OUgxJJVIxY</td>\n",
       "      <td>225120</td>\n",
       "      <td>2002-06-01</td>\n",
       "      <td>1</td>\n",
       "      <td>0.655</td>\n",
       "      <td>0.650</td>\n",
       "      <td>...</td>\n",
       "      <td>0.607</td>\n",
       "      <td>96.063</td>\n",
       "      <td>4wt6antGdiSjTZWoyLVibi</td>\n",
       "      <td>4wt6antGdiSjTZWoyLVibi</td>\n",
       "      <td>0</td>\n",
       "      <td>acoustic</td>\n",
       "      <td>0.410256</td>\n",
       "      <td>0.410256</td>\n",
       "      <td>0.205128</td>\n",
       "      <td>0.384615</td>\n",
       "    </tr>\n",
       "    <tr>\n",
       "      <th>73</th>\n",
       "      <td>6m9YKCOZpdkLzPqUwCM9ha</td>\n",
       "      <td>Chosen</td>\n",
       "      <td>3pTaNQJ7TAU4yL7KEZp5sF</td>\n",
       "      <td>Nyoy Volante</td>\n",
       "      <td>6wh0T0S950yhOVVT6kJjm2</td>\n",
       "      <td>313541</td>\n",
       "      <td>2018-05-08</td>\n",
       "      <td>8</td>\n",
       "      <td>0.570</td>\n",
       "      <td>0.714</td>\n",
       "      <td>...</td>\n",
       "      <td>0.449</td>\n",
       "      <td>130.058</td>\n",
       "      <td>6m9YKCOZpdkLzPqUwCM9ha</td>\n",
       "      <td>6m9YKCOZpdkLzPqUwCM9ha</td>\n",
       "      <td>0</td>\n",
       "      <td>acoustic</td>\n",
       "      <td>0.410256</td>\n",
       "      <td>0.410256</td>\n",
       "      <td>0.205128</td>\n",
       "      <td>0.384615</td>\n",
       "    </tr>\n",
       "    <tr>\n",
       "      <th>72</th>\n",
       "      <td>79cNKZg5oo2FHmnj99K8rQ</td>\n",
       "      <td>Pieces of My Life</td>\n",
       "      <td>3pTaNQJ7TAU4yL7KEZp5sF</td>\n",
       "      <td>Nyoy Volante</td>\n",
       "      <td>2Gxsv9XrzRkrjexEWWaxaH</td>\n",
       "      <td>291830</td>\n",
       "      <td>2019-04-11</td>\n",
       "      <td>0</td>\n",
       "      <td>0.298</td>\n",
       "      <td>0.213</td>\n",
       "      <td>...</td>\n",
       "      <td>0.348</td>\n",
       "      <td>175.989</td>\n",
       "      <td>79cNKZg5oo2FHmnj99K8rQ</td>\n",
       "      <td>79cNKZg5oo2FHmnj99K8rQ</td>\n",
       "      <td>0</td>\n",
       "      <td>acoustic</td>\n",
       "      <td>0.410256</td>\n",
       "      <td>0.410256</td>\n",
       "      <td>0.205128</td>\n",
       "      <td>0.384615</td>\n",
       "    </tr>\n",
       "    <tr>\n",
       "      <th>...</th>\n",
       "      <td>...</td>\n",
       "      <td>...</td>\n",
       "      <td>...</td>\n",
       "      <td>...</td>\n",
       "      <td>...</td>\n",
       "      <td>...</td>\n",
       "      <td>...</td>\n",
       "      <td>...</td>\n",
       "      <td>...</td>\n",
       "      <td>...</td>\n",
       "      <td>...</td>\n",
       "      <td>...</td>\n",
       "      <td>...</td>\n",
       "      <td>...</td>\n",
       "      <td>...</td>\n",
       "      <td>...</td>\n",
       "      <td>...</td>\n",
       "      <td>...</td>\n",
       "      <td>...</td>\n",
       "      <td>...</td>\n",
       "      <td>...</td>\n",
       "    </tr>\n",
       "    <tr>\n",
       "      <th>30</th>\n",
       "      <td>2WTu0omgDUeO5pBismnvlb</td>\n",
       "      <td>Dude</td>\n",
       "      <td>3pTaNQJ7TAU4yL7KEZp5sF</td>\n",
       "      <td>Nyoy Volante</td>\n",
       "      <td>4aW4RCeWwmde6JSVjDUgaD</td>\n",
       "      <td>270666</td>\n",
       "      <td>2010-01-01</td>\n",
       "      <td>2</td>\n",
       "      <td>0.439</td>\n",
       "      <td>0.579</td>\n",
       "      <td>...</td>\n",
       "      <td>0.717</td>\n",
       "      <td>204.353</td>\n",
       "      <td>2WTu0omgDUeO5pBismnvlb</td>\n",
       "      <td>2WTu0omgDUeO5pBismnvlb</td>\n",
       "      <td>0</td>\n",
       "      <td>acoustic</td>\n",
       "      <td>0.410256</td>\n",
       "      <td>0.410256</td>\n",
       "      <td>0.205128</td>\n",
       "      <td>0.384615</td>\n",
       "    </tr>\n",
       "    <tr>\n",
       "      <th>29</th>\n",
       "      <td>0Vb4bx3WLXa047jchCForj</td>\n",
       "      <td>Forever</td>\n",
       "      <td>3pTaNQJ7TAU4yL7KEZp5sF</td>\n",
       "      <td>Nyoy Volante</td>\n",
       "      <td>4aW4RCeWwmde6JSVjDUgaD</td>\n",
       "      <td>277426</td>\n",
       "      <td>2010-01-01</td>\n",
       "      <td>3</td>\n",
       "      <td>0.548</td>\n",
       "      <td>0.349</td>\n",
       "      <td>...</td>\n",
       "      <td>0.318</td>\n",
       "      <td>140.070</td>\n",
       "      <td>0Vb4bx3WLXa047jchCForj</td>\n",
       "      <td>0Vb4bx3WLXa047jchCForj</td>\n",
       "      <td>0</td>\n",
       "      <td>acoustic</td>\n",
       "      <td>0.410256</td>\n",
       "      <td>0.410256</td>\n",
       "      <td>0.205128</td>\n",
       "      <td>0.384615</td>\n",
       "    </tr>\n",
       "    <tr>\n",
       "      <th>28</th>\n",
       "      <td>17Af5eAqoLqnDBdTe98kP7</td>\n",
       "      <td>So Hard to Let Go</td>\n",
       "      <td>3pTaNQJ7TAU4yL7KEZp5sF</td>\n",
       "      <td>Nyoy Volante</td>\n",
       "      <td>4aW4RCeWwmde6JSVjDUgaD</td>\n",
       "      <td>279080</td>\n",
       "      <td>2010-01-01</td>\n",
       "      <td>8</td>\n",
       "      <td>0.498</td>\n",
       "      <td>0.291</td>\n",
       "      <td>...</td>\n",
       "      <td>0.239</td>\n",
       "      <td>141.862</td>\n",
       "      <td>17Af5eAqoLqnDBdTe98kP7</td>\n",
       "      <td>17Af5eAqoLqnDBdTe98kP7</td>\n",
       "      <td>0</td>\n",
       "      <td>acoustic</td>\n",
       "      <td>0.410256</td>\n",
       "      <td>0.410256</td>\n",
       "      <td>0.205128</td>\n",
       "      <td>0.384615</td>\n",
       "    </tr>\n",
       "    <tr>\n",
       "      <th>27</th>\n",
       "      <td>4M6YrTyOE1PWLIx1bqVcaA</td>\n",
       "      <td>In You</td>\n",
       "      <td>3pTaNQJ7TAU4yL7KEZp5sF</td>\n",
       "      <td>Nyoy Volante</td>\n",
       "      <td>4aW4RCeWwmde6JSVjDUgaD</td>\n",
       "      <td>292800</td>\n",
       "      <td>2010-01-01</td>\n",
       "      <td>7</td>\n",
       "      <td>0.586</td>\n",
       "      <td>0.698</td>\n",
       "      <td>...</td>\n",
       "      <td>0.515</td>\n",
       "      <td>87.603</td>\n",
       "      <td>4M6YrTyOE1PWLIx1bqVcaA</td>\n",
       "      <td>4M6YrTyOE1PWLIx1bqVcaA</td>\n",
       "      <td>0</td>\n",
       "      <td>acoustic</td>\n",
       "      <td>0.410256</td>\n",
       "      <td>0.410256</td>\n",
       "      <td>0.205128</td>\n",
       "      <td>0.384615</td>\n",
       "    </tr>\n",
       "    <tr>\n",
       "      <th>100</th>\n",
       "      <td>4Tg7GHuUFUGFHICrA3AfIH</td>\n",
       "      <td>You're My You</td>\n",
       "      <td>3pTaNQJ7TAU4yL7KEZp5sF</td>\n",
       "      <td>Nyoy Volante</td>\n",
       "      <td>6OXPvgd40Z20NO3tyBjywM</td>\n",
       "      <td>278946</td>\n",
       "      <td>2004-09-01</td>\n",
       "      <td>0</td>\n",
       "      <td>0.472</td>\n",
       "      <td>0.537</td>\n",
       "      <td>...</td>\n",
       "      <td>0.299</td>\n",
       "      <td>97.008</td>\n",
       "      <td>4Tg7GHuUFUGFHICrA3AfIH</td>\n",
       "      <td>4Tg7GHuUFUGFHICrA3AfIH</td>\n",
       "      <td>0</td>\n",
       "      <td>acoustic</td>\n",
       "      <td>0.410256</td>\n",
       "      <td>NaN</td>\n",
       "      <td>NaN</td>\n",
       "      <td>NaN</td>\n",
       "    </tr>\n",
       "  </tbody>\n",
       "</table>\n",
       "<p>101 rows × 27 columns</p>\n",
       "</div>"
      ],
      "text/plain": [
       "                   track_id         track_name               artist_id  \\\n",
       "44   3MYfcVRTLqo7t3ra4DqFRn          Ama Namin  3pTaNQJ7TAU4yL7KEZp5sF   \n",
       "0    2pAFgfaNVioQGhC0jhtcsG     Ipagpatawad Mo  3pTaNQJ7TAU4yL7KEZp5sF   \n",
       "63   4wt6antGdiSjTZWoyLVibi     Sweetest Sugar  3pTaNQJ7TAU4yL7KEZp5sF   \n",
       "73   6m9YKCOZpdkLzPqUwCM9ha             Chosen  3pTaNQJ7TAU4yL7KEZp5sF   \n",
       "72   79cNKZg5oo2FHmnj99K8rQ  Pieces of My Life  3pTaNQJ7TAU4yL7KEZp5sF   \n",
       "..                      ...                ...                     ...   \n",
       "30   2WTu0omgDUeO5pBismnvlb               Dude  3pTaNQJ7TAU4yL7KEZp5sF   \n",
       "29   0Vb4bx3WLXa047jchCForj            Forever  3pTaNQJ7TAU4yL7KEZp5sF   \n",
       "28   17Af5eAqoLqnDBdTe98kP7  So Hard to Let Go  3pTaNQJ7TAU4yL7KEZp5sF   \n",
       "27   4M6YrTyOE1PWLIx1bqVcaA             In You  3pTaNQJ7TAU4yL7KEZp5sF   \n",
       "100  4Tg7GHuUFUGFHICrA3AfIH      You're My You  3pTaNQJ7TAU4yL7KEZp5sF   \n",
       "\n",
       "      artist_name                album_id  duration release_date  popularity  \\\n",
       "44   Nyoy Volante  1maIgsJ7htTqCDrhe8aucE    113640   2008-08-09          10   \n",
       "0    Nyoy Volante  5jzfPxlD5UD4Aw3cEnelcC    239333   2012-01-01          29   \n",
       "63   Nyoy Volante  4EQ7a4ztLVN5OUgxJJVIxY    225120   2002-06-01           1   \n",
       "73   Nyoy Volante  6wh0T0S950yhOVVT6kJjm2    313541   2018-05-08           8   \n",
       "72   Nyoy Volante  2Gxsv9XrzRkrjexEWWaxaH    291830   2019-04-11           0   \n",
       "..            ...                     ...       ...          ...         ...   \n",
       "30   Nyoy Volante  4aW4RCeWwmde6JSVjDUgaD    270666   2010-01-01           2   \n",
       "29   Nyoy Volante  4aW4RCeWwmde6JSVjDUgaD    277426   2010-01-01           3   \n",
       "28   Nyoy Volante  4aW4RCeWwmde6JSVjDUgaD    279080   2010-01-01           8   \n",
       "27   Nyoy Volante  4aW4RCeWwmde6JSVjDUgaD    292800   2010-01-01           7   \n",
       "100  Nyoy Volante  6OXPvgd40Z20NO3tyBjywM    278946   2004-09-01           0   \n",
       "\n",
       "     danceability  energy  ...  valence    tempo             playlist_id  \\\n",
       "44          0.000   0.118  ...    0.000    0.000  3MYfcVRTLqo7t3ra4DqFRn   \n",
       "0           0.622   0.522  ...    0.375  139.938  2pAFgfaNVioQGhC0jhtcsG   \n",
       "63          0.655   0.650  ...    0.607   96.063  4wt6antGdiSjTZWoyLVibi   \n",
       "73          0.570   0.714  ...    0.449  130.058  6m9YKCOZpdkLzPqUwCM9ha   \n",
       "72          0.298   0.213  ...    0.348  175.989  79cNKZg5oo2FHmnj99K8rQ   \n",
       "..            ...     ...  ...      ...      ...                     ...   \n",
       "30          0.439   0.579  ...    0.717  204.353  2WTu0omgDUeO5pBismnvlb   \n",
       "29          0.548   0.349  ...    0.318  140.070  0Vb4bx3WLXa047jchCForj   \n",
       "28          0.498   0.291  ...    0.239  141.862  17Af5eAqoLqnDBdTe98kP7   \n",
       "27          0.586   0.698  ...    0.515   87.603  4M6YrTyOE1PWLIx1bqVcaA   \n",
       "100         0.472   0.537  ...    0.299   97.008  4Tg7GHuUFUGFHICrA3AfIH   \n",
       "\n",
       "              playlist_name  predicted_genre_id  predicted_genre  \\\n",
       "44   3MYfcVRTLqo7t3ra4DqFRn                   0         acoustic   \n",
       "0    2pAFgfaNVioQGhC0jhtcsG                   0         acoustic   \n",
       "63   4wt6antGdiSjTZWoyLVibi                   0         acoustic   \n",
       "73   6m9YKCOZpdkLzPqUwCM9ha                   0         acoustic   \n",
       "72   79cNKZg5oo2FHmnj99K8rQ                   0         acoustic   \n",
       "..                      ...                 ...              ...   \n",
       "30   2WTu0omgDUeO5pBismnvlb                   0         acoustic   \n",
       "29   0Vb4bx3WLXa047jchCForj                   0         acoustic   \n",
       "28   17Af5eAqoLqnDBdTe98kP7                   0         acoustic   \n",
       "27   4M6YrTyOE1PWLIx1bqVcaA                   0         acoustic   \n",
       "100  4Tg7GHuUFUGFHICrA3AfIH                   0         acoustic   \n",
       "\n",
       "     predicted_genre_prob  predicted_acoustic_prob  predicted_rnb_prob  \\\n",
       "44               0.948718                 0.948718            0.051282   \n",
       "0                0.410256                 0.410256            0.205128   \n",
       "63               0.410256                 0.410256            0.205128   \n",
       "73               0.410256                 0.410256            0.205128   \n",
       "72               0.410256                 0.410256            0.205128   \n",
       "..                    ...                      ...                 ...   \n",
       "30               0.410256                 0.410256            0.205128   \n",
       "29               0.410256                 0.410256            0.205128   \n",
       "28               0.410256                 0.410256            0.205128   \n",
       "27               0.410256                 0.410256            0.205128   \n",
       "100              0.410256                      NaN                 NaN   \n",
       "\n",
       "    predicted_rock_prob  \n",
       "44             0.000000  \n",
       "0              0.384615  \n",
       "63             0.384615  \n",
       "73             0.384615  \n",
       "72             0.384615  \n",
       "..                  ...  \n",
       "30             0.384615  \n",
       "29             0.384615  \n",
       "28             0.384615  \n",
       "27             0.384615  \n",
       "100                 NaN  \n",
       "\n",
       "[101 rows x 27 columns]"
      ]
     },
     "execution_count": 91,
     "metadata": {},
     "output_type": "execute_result"
    }
   ],
   "source": [
    "artist_tracks_df"
   ]
  },
  {
   "cell_type": "code",
   "execution_count": 92,
   "metadata": {},
   "outputs": [
    {
     "data": {
      "image/png": "[encoded data removed]",
      "text/plain": [
       "<Figure size 432x288 with 1 Axes>"
      ]
     },
     "metadata": {},
     "output_type": "display_data"
    },
    {
     "data": {
      "image/png": "[encoded data removed]",
      "text/plain": [
       "<Figure size 432x288 with 1 Axes>"
      ]
     },
     "metadata": {},
     "output_type": "display_data"
    },
    {
     "data": {
      "image/png": "[encoded data removed]",
      "text/plain": [
       "<Figure size 432x288 with 1 Axes>"
      ]
     },
     "metadata": {},
     "output_type": "display_data"
    },
    {
     "data": {
      "image/png": "[encoded data removed]",
      "text/plain": [
       "<Figure size 432x288 with 1 Axes>"
      ]
     },
     "metadata": {},
     "output_type": "display_data"
    },
    {
     "data": {
      "image/png": "[encoded data removed]",
      "text/plain": [
       "<Figure size 432x288 with 1 Axes>"
      ]
     },
     "metadata": {},
     "output_type": "display_data"
    },
    {
     "data": {
      "image/png": "[encoded data removed]",
      "text/plain": [
       "<Figure size 432x288 with 1 Axes>"
      ]
     },
     "metadata": {},
     "output_type": "display_data"
    },
    {
     "data": {
      "image/png": "[encoded data removed]",
      "text/plain": [
       "<Figure size 432x288 with 1 Axes>"
      ]
     },
     "metadata": {},
     "output_type": "display_data"
    },
    {
     "data": {
      "image/png": "[encoded data removed]",
      "text/plain": [
       "<Figure size 432x288 with 1 Axes>"
      ]
     },
     "metadata": {},
     "output_type": "display_data"
    },
    {
     "data": {
      "image/png": "[encoded data removed]",
      "text/plain": [
       "<Figure size 432x288 with 1 Axes>"
      ]
     },
     "metadata": {},
     "output_type": "display_data"
    },
    {
     "data": {
      "image/png": "[encoded data removed]",
      "text/plain": [
       "<Figure size 432x288 with 1 Axes>"
      ]
     },
     "metadata": {},
     "output_type": "display_data"
    }
   ],
   "source": [
    "features = ['danceability', 'energy', 'loudness', 'speechiness','acousticness', 'instrumentalness', 'valence', 'tempo', 'liveness', 'popularity']\n",
    "for feature in features:\n",
    "    for genre in tracks_df['genre'].unique():\n",
    "        data = tracks_df[tracks_df['genre']==genre]\n",
    "        nyoy = artist_tracks_df\n",
    "        plt.style.use(\"dark_background\")\n",
    "        sns.distplot(data[feature], label = genre)\n",
    "        sns.distplot(nyoy[feature], label = 'Nyoy Volante')\n",
    "    plt.legend()\n",
    "    plt.title(feature)\n",
    "    plt.show()"
   ]
  },
  {
   "cell_type": "code",
   "execution_count": null,
   "metadata": {},
   "outputs": [],
   "source": []
  },
  {
   "cell_type": "code",
   "execution_count": null,
   "metadata": {},
   "outputs": [],
   "source": []
  },
  {
   "cell_type": "code",
   "execution_count": null,
   "metadata": {},
   "outputs": [],
   "source": []
  },
  {
   "cell_type": "code",
   "execution_count": null,
   "metadata": {},
   "outputs": [],
   "source": []
  }
 ],
 "metadata": {
  "kernelspec": {
   "display_name": "Python 3",
   "language": "python",
   "name": "python3"
  },
  "language_info": {
   "codemirror_mode": {
    "name": "ipython",
    "version": 3
   },
   "file_extension": ".py",
   "mimetype": "text/x-python",
   "name": "python",
   "nbconvert_exporter": "python",
   "pygments_lexer": "ipython3",
   "version": "3.8.6"
  }
 },
 "nbformat": 4,
 "nbformat_minor": 2
}
