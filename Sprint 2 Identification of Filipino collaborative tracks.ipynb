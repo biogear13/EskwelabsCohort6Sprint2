{
 "cells": [
  {
   "cell_type": "code",
   "execution_count": 1,
   "metadata": {},
   "outputs": [],
   "source": [
    "import numpy as np\n",
    "import pandas as pd"
   ]
  },
  {
   "cell_type": "code",
   "execution_count": 3,
   "metadata": {},
   "outputs": [],
   "source": [
    "opm_df = pd.read_csv('data/OPM_playlist_tracks.csv')"
   ]
  },
  {
   "cell_type": "code",
   "execution_count": 5,
   "metadata": {},
   "outputs": [
    {
     "data": {
      "text/html": [
       "<div>\n",
       "<style scoped>\n",
       "    .dataframe tbody tr th:only-of-type {\n",
       "        vertical-align: middle;\n",
       "    }\n",
       "\n",
       "    .dataframe tbody tr th {\n",
       "        vertical-align: top;\n",
       "    }\n",
       "\n",
       "    .dataframe thead th {\n",
       "        text-align: right;\n",
       "    }\n",
       "</style>\n",
       "<table border=\"1\" class=\"dataframe\">\n",
       "  <thead>\n",
       "    <tr style=\"text-align: right;\">\n",
       "      <th></th>\n",
       "      <th>track_id</th>\n",
       "      <th>name</th>\n",
       "      <th>popularity</th>\n",
       "      <th>duration_ms</th>\n",
       "      <th>artist_id</th>\n",
       "      <th>artist_name</th>\n",
       "      <th>num_artists</th>\n",
       "      <th>playlist_id</th>\n",
       "      <th>playlist_name</th>\n",
       "    </tr>\n",
       "  </thead>\n",
       "  <tbody>\n",
       "    <tr>\n",
       "      <th>8</th>\n",
       "      <td>6XmskR1cMfgys1W7dExmgi</td>\n",
       "      <td>With a Smile (feat. Kelly Badon)</td>\n",
       "      <td>61</td>\n",
       "      <td>264413</td>\n",
       "      <td>['6ZgBJRjJsK1iOJGKGZxEUv', '32pTJUDIqu5vvX5Mcs...</td>\n",
       "      <td>['South Border', 'Kelly Badon']</td>\n",
       "      <td>2</td>\n",
       "      <td>37i9dQZF1DX4olOMiqFeqU</td>\n",
       "      <td>OPM Favorites</td>\n",
       "    </tr>\n",
       "    <tr>\n",
       "      <th>14</th>\n",
       "      <td>0bN5xQD1krvZNn8bsiWfVb</td>\n",
       "      <td>Nothing's Gonna Stop Us Now (Theme from Crazy ...</td>\n",
       "      <td>0</td>\n",
       "      <td>259056</td>\n",
       "      <td>['5yVM85m9yNcHO6o0vaaVxW', '62WbvkXqQGvXQvw74G...</td>\n",
       "      <td>['Daniel Padilla', 'Morissette']</td>\n",
       "      <td>2</td>\n",
       "      <td>37i9dQZF1DX4olOMiqFeqU</td>\n",
       "      <td>OPM Favorites</td>\n",
       "    </tr>\n",
       "    <tr>\n",
       "      <th>50</th>\n",
       "      <td>1otkqpKNqIdhWB93fdmaCA</td>\n",
       "      <td>Tied</td>\n",
       "      <td>47</td>\n",
       "      <td>212642</td>\n",
       "      <td>['0kRAKgEOVI43Qkz9PLmPt8', '3HaL9ONkedXrAybTHY...</td>\n",
       "      <td>['Bugoy Drilon', 'Moophs']</td>\n",
       "      <td>2</td>\n",
       "      <td>37i9dQZF1DX7Jerj8LqApV</td>\n",
       "      <td>OPM Says Chillax</td>\n",
       "    </tr>\n",
       "    <tr>\n",
       "      <th>52</th>\n",
       "      <td>1sx9t5A9iU7JXcp3Dx8i1g</td>\n",
       "      <td>Oo Na Lang</td>\n",
       "      <td>49</td>\n",
       "      <td>160941</td>\n",
       "      <td>['5IBvcnaqYrSaeyM0q6sHuf', '1SrWbIDP84JcSDr0oT...</td>\n",
       "      <td>['Dudut', 'Matthaios']</td>\n",
       "      <td>2</td>\n",
       "      <td>37i9dQZF1DX7Jerj8LqApV</td>\n",
       "      <td>OPM Says Chillax</td>\n",
       "    </tr>\n",
       "    <tr>\n",
       "      <th>59</th>\n",
       "      <td>0ISfrSFFayF2EGZrqIeABu</td>\n",
       "      <td>The Closer I Get to You</td>\n",
       "      <td>47</td>\n",
       "      <td>281379</td>\n",
       "      <td>['02gf7RKW6ZuRMb6u3fHyko', '4JlVPDJsN16LOYBMAM...</td>\n",
       "      <td>['Mariah Jean', 'Morris']</td>\n",
       "      <td>2</td>\n",
       "      <td>37i9dQZF1DX7Jerj8LqApV</td>\n",
       "      <td>OPM Says Chillax</td>\n",
       "    </tr>\n",
       "  </tbody>\n",
       "</table>\n",
       "</div>"
      ],
      "text/plain": [
       "                  track_id                                               name  \\\n",
       "8   6XmskR1cMfgys1W7dExmgi                   With a Smile (feat. Kelly Badon)   \n",
       "14  0bN5xQD1krvZNn8bsiWfVb  Nothing's Gonna Stop Us Now (Theme from Crazy ...   \n",
       "50  1otkqpKNqIdhWB93fdmaCA                                               Tied   \n",
       "52  1sx9t5A9iU7JXcp3Dx8i1g                                         Oo Na Lang   \n",
       "59  0ISfrSFFayF2EGZrqIeABu                            The Closer I Get to You   \n",
       "\n",
       "    popularity  duration_ms  \\\n",
       "8           61       264413   \n",
       "14           0       259056   \n",
       "50          47       212642   \n",
       "52          49       160941   \n",
       "59          47       281379   \n",
       "\n",
       "                                            artist_id  \\\n",
       "8   ['6ZgBJRjJsK1iOJGKGZxEUv', '32pTJUDIqu5vvX5Mcs...   \n",
       "14  ['5yVM85m9yNcHO6o0vaaVxW', '62WbvkXqQGvXQvw74G...   \n",
       "50  ['0kRAKgEOVI43Qkz9PLmPt8', '3HaL9ONkedXrAybTHY...   \n",
       "52  ['5IBvcnaqYrSaeyM0q6sHuf', '1SrWbIDP84JcSDr0oT...   \n",
       "59  ['02gf7RKW6ZuRMb6u3fHyko', '4JlVPDJsN16LOYBMAM...   \n",
       "\n",
       "                         artist_name  num_artists             playlist_id  \\\n",
       "8    ['South Border', 'Kelly Badon']            2  37i9dQZF1DX4olOMiqFeqU   \n",
       "14  ['Daniel Padilla', 'Morissette']            2  37i9dQZF1DX4olOMiqFeqU   \n",
       "50        ['Bugoy Drilon', 'Moophs']            2  37i9dQZF1DX7Jerj8LqApV   \n",
       "52            ['Dudut', 'Matthaios']            2  37i9dQZF1DX7Jerj8LqApV   \n",
       "59         ['Mariah Jean', 'Morris']            2  37i9dQZF1DX7Jerj8LqApV   \n",
       "\n",
       "       playlist_name  \n",
       "8      OPM Favorites  \n",
       "14     OPM Favorites  \n",
       "50  OPM Says Chillax  \n",
       "52  OPM Says Chillax  \n",
       "59  OPM Says Chillax  "
      ]
     },
     "execution_count": 5,
     "metadata": {},
     "output_type": "execute_result"
    }
   ],
   "source": [
    "opm_collab_df = opm_df[opm_df['num_artists']>1]\n",
    "opm_collab_df.head()"
   ]
  },
  {
   "cell_type": "code",
   "execution_count": 6,
   "metadata": {},
   "outputs": [
    {
     "data": {
      "text/plain": [
       "(146, 9)"
      ]
     },
     "execution_count": 6,
     "metadata": {},
     "output_type": "execute_result"
    }
   ],
   "source": [
    "opm_collab_df.shape"
   ]
  },
  {
   "cell_type": "code",
   "execution_count": 7,
   "metadata": {},
   "outputs": [
    {
     "data": {
      "text/plain": [
       "(108, 9)"
      ]
     },
     "execution_count": 7,
     "metadata": {},
     "output_type": "execute_result"
    }
   ],
   "source": [
    "#remove track duplicates\n",
    "opm_collab_df = opm_collab_df.drop_duplicates(subset='track_id')\n",
    "opm_collab_df.shape"
   ]
  },
  {
   "cell_type": "code",
   "execution_count": 10,
   "metadata": {},
   "outputs": [],
   "source": [
    "chart_df = pd.read_csv('data/spotify_daily_charts.csv')"
   ]
  },
  {
   "cell_type": "code",
   "execution_count": 11,
   "metadata": {},
   "outputs": [
    {
     "data": {
      "text/html": [
       "<div>\n",
       "<style scoped>\n",
       "    .dataframe tbody tr th:only-of-type {\n",
       "        vertical-align: middle;\n",
       "    }\n",
       "\n",
       "    .dataframe tbody tr th {\n",
       "        vertical-align: top;\n",
       "    }\n",
       "\n",
       "    .dataframe thead th {\n",
       "        text-align: right;\n",
       "    }\n",
       "</style>\n",
       "<table border=\"1\" class=\"dataframe\">\n",
       "  <thead>\n",
       "    <tr style=\"text-align: right;\">\n",
       "      <th></th>\n",
       "      <th>date</th>\n",
       "      <th>position</th>\n",
       "      <th>track_id</th>\n",
       "      <th>track_name</th>\n",
       "      <th>artist</th>\n",
       "      <th>streams</th>\n",
       "    </tr>\n",
       "  </thead>\n",
       "  <tbody>\n",
       "    <tr>\n",
       "      <th>0</th>\n",
       "      <td>2017-01-01</td>\n",
       "      <td>1</td>\n",
       "      <td>0kN8xEmgMW9mh7UmDYHlJP</td>\n",
       "      <td>Versace on the Floor</td>\n",
       "      <td>Bruno Mars</td>\n",
       "      <td>185236</td>\n",
       "    </tr>\n",
       "    <tr>\n",
       "      <th>1</th>\n",
       "      <td>2017-01-01</td>\n",
       "      <td>2</td>\n",
       "      <td>5uCax9HTNlzGybIStD3vDh</td>\n",
       "      <td>Say You Won't Let Go</td>\n",
       "      <td>James Arthur</td>\n",
       "      <td>180552</td>\n",
       "    </tr>\n",
       "    <tr>\n",
       "      <th>2</th>\n",
       "      <td>2017-01-01</td>\n",
       "      <td>3</td>\n",
       "      <td>7BKLCZ1jbUBVqRi2FVlTVw</td>\n",
       "      <td>Closer</td>\n",
       "      <td>The Chainsmokers</td>\n",
       "      <td>158720</td>\n",
       "    </tr>\n",
       "    <tr>\n",
       "      <th>3</th>\n",
       "      <td>2017-01-01</td>\n",
       "      <td>4</td>\n",
       "      <td>2rizacJSyD9S1IQUxUxnsK</td>\n",
       "      <td>All We Know</td>\n",
       "      <td>The Chainsmokers</td>\n",
       "      <td>130874</td>\n",
       "    </tr>\n",
       "    <tr>\n",
       "      <th>4</th>\n",
       "      <td>2017-01-01</td>\n",
       "      <td>5</td>\n",
       "      <td>5MFzQMkrl1FOOng9tq6R9r</td>\n",
       "      <td>Don't Wanna Know</td>\n",
       "      <td>Maroon 5</td>\n",
       "      <td>129656</td>\n",
       "    </tr>\n",
       "  </tbody>\n",
       "</table>\n",
       "</div>"
      ],
      "text/plain": [
       "         date  position                track_id            track_name  \\\n",
       "0  2017-01-01         1  0kN8xEmgMW9mh7UmDYHlJP  Versace on the Floor   \n",
       "1  2017-01-01         2  5uCax9HTNlzGybIStD3vDh  Say You Won't Let Go   \n",
       "2  2017-01-01         3  7BKLCZ1jbUBVqRi2FVlTVw                Closer   \n",
       "3  2017-01-01         4  2rizacJSyD9S1IQUxUxnsK           All We Know   \n",
       "4  2017-01-01         5  5MFzQMkrl1FOOng9tq6R9r      Don't Wanna Know   \n",
       "\n",
       "             artist  streams  \n",
       "0        Bruno Mars   185236  \n",
       "1      James Arthur   180552  \n",
       "2  The Chainsmokers   158720  \n",
       "3  The Chainsmokers   130874  \n",
       "4          Maroon 5   129656  "
      ]
     },
     "execution_count": 11,
     "metadata": {},
     "output_type": "execute_result"
    }
   ],
   "source": [
    "chart_df.head()"
   ]
  },
  {
   "cell_type": "code",
   "execution_count": 13,
   "metadata": {},
   "outputs": [
    {
     "data": {
      "text/plain": [
       "(294600, 6)"
      ]
     },
     "execution_count": 13,
     "metadata": {},
     "output_type": "execute_result"
    }
   ],
   "source": [
    "chart_df.shape"
   ]
  },
  {
   "cell_type": "code",
   "execution_count": 15,
   "metadata": {},
   "outputs": [
    {
     "data": {
      "text/plain": [
       "(5585, 6)"
      ]
     },
     "execution_count": 15,
     "metadata": {},
     "output_type": "execute_result"
    }
   ],
   "source": [
    "chart_collab_df = chart_df[chart_df['track_id'].isin(opm_collab_df['track_id'])]\n",
    "chart_collab_df.shape"
   ]
  },
  {
   "cell_type": "code",
   "execution_count": 16,
   "metadata": {},
   "outputs": [
    {
     "data": {
      "text/html": [
       "<div>\n",
       "<style scoped>\n",
       "    .dataframe tbody tr th:only-of-type {\n",
       "        vertical-align: middle;\n",
       "    }\n",
       "\n",
       "    .dataframe tbody tr th {\n",
       "        vertical-align: top;\n",
       "    }\n",
       "\n",
       "    .dataframe thead th {\n",
       "        text-align: right;\n",
       "    }\n",
       "</style>\n",
       "<table border=\"1\" class=\"dataframe\">\n",
       "  <thead>\n",
       "    <tr style=\"text-align: right;\">\n",
       "      <th></th>\n",
       "      <th>date</th>\n",
       "      <th>position</th>\n",
       "      <th>track_id</th>\n",
       "      <th>track_name</th>\n",
       "      <th>artist</th>\n",
       "      <th>streams</th>\n",
       "    </tr>\n",
       "  </thead>\n",
       "  <tbody>\n",
       "    <tr>\n",
       "      <th>103</th>\n",
       "      <td>2017-01-01</td>\n",
       "      <td>104</td>\n",
       "      <td>4ZgZPrrSLi4sIiFkiahuxq</td>\n",
       "      <td>Hanap-Hanap</td>\n",
       "      <td>James Reid</td>\n",
       "      <td>17529</td>\n",
       "    </tr>\n",
       "    <tr>\n",
       "      <th>128</th>\n",
       "      <td>2017-01-01</td>\n",
       "      <td>129</td>\n",
       "      <td>6XmskR1cMfgys1W7dExmgi</td>\n",
       "      <td>With a Smile (feat. Kelly Badon)</td>\n",
       "      <td>South Border</td>\n",
       "      <td>14701</td>\n",
       "    </tr>\n",
       "    <tr>\n",
       "      <th>302</th>\n",
       "      <td>2017-01-02</td>\n",
       "      <td>103</td>\n",
       "      <td>4ZgZPrrSLi4sIiFkiahuxq</td>\n",
       "      <td>Hanap-Hanap</td>\n",
       "      <td>James Reid</td>\n",
       "      <td>20737</td>\n",
       "    </tr>\n",
       "    <tr>\n",
       "      <th>334</th>\n",
       "      <td>2017-01-02</td>\n",
       "      <td>135</td>\n",
       "      <td>6XmskR1cMfgys1W7dExmgi</td>\n",
       "      <td>With a Smile (feat. Kelly Badon)</td>\n",
       "      <td>South Border</td>\n",
       "      <td>17124</td>\n",
       "    </tr>\n",
       "    <tr>\n",
       "      <th>500</th>\n",
       "      <td>2017-01-03</td>\n",
       "      <td>101</td>\n",
       "      <td>4ZgZPrrSLi4sIiFkiahuxq</td>\n",
       "      <td>Hanap-Hanap</td>\n",
       "      <td>James Reid</td>\n",
       "      <td>23487</td>\n",
       "    </tr>\n",
       "  </tbody>\n",
       "</table>\n",
       "</div>"
      ],
      "text/plain": [
       "           date  position                track_id  \\\n",
       "103  2017-01-01       104  4ZgZPrrSLi4sIiFkiahuxq   \n",
       "128  2017-01-01       129  6XmskR1cMfgys1W7dExmgi   \n",
       "302  2017-01-02       103  4ZgZPrrSLi4sIiFkiahuxq   \n",
       "334  2017-01-02       135  6XmskR1cMfgys1W7dExmgi   \n",
       "500  2017-01-03       101  4ZgZPrrSLi4sIiFkiahuxq   \n",
       "\n",
       "                           track_name        artist  streams  \n",
       "103                       Hanap-Hanap    James Reid    17529  \n",
       "128  With a Smile (feat. Kelly Badon)  South Border    14701  \n",
       "302                       Hanap-Hanap    James Reid    20737  \n",
       "334  With a Smile (feat. Kelly Badon)  South Border    17124  \n",
       "500                       Hanap-Hanap    James Reid    23487  "
      ]
     },
     "execution_count": 16,
     "metadata": {},
     "output_type": "execute_result"
    }
   ],
   "source": [
    "chart_collab_df.head()"
   ]
  }
 ],
 "metadata": {
  "kernelspec": {
   "display_name": "Python 3",
   "language": "python",
   "name": "python3"
  },
  "language_info": {
   "codemirror_mode": {
    "name": "ipython",
    "version": 3
   },
   "file_extension": ".py",
   "mimetype": "text/x-python",
   "name": "python",
   "nbconvert_exporter": "python",
   "pygments_lexer": "ipython3",
   "version": "3.8.5"
  }
 },
 "nbformat": 4,
 "nbformat_minor": 4
}
